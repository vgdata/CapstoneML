{
 "cells": [
  {
   "cell_type": "markdown",
   "metadata": {},
   "source": [
    "## Automated ML\n",
    "\n",
    "Import dependencies. "
   ]
  },
  {
   "cell_type": "code",
   "execution_count": 5,
   "metadata": {
    "gather": {
     "logged": 1609140734398
    },
    "jupyter": {
     "outputs_hidden": false,
     "source_hidden": false
    },
    "nteract": {
     "transient": {
      "deleting": false
     }
    }
   },
   "outputs": [],
   "source": [
    "import os\n",
    "import pandas as pd\n",
    "import numpy as np\n",
    "import json\n",
    "import requests\n",
    "import joblib\n",
    "from sklearn.metrics import confusion_matrix\n",
    "import itertools\n",
    "\n",
    "from azureml.core import Dataset, Workspace, Experiment\n",
    "from azureml.core.compute import ComputeTarget, AmlCompute\n",
    "from azureml.core.compute_target import ComputeTargetException\n",
    "from azureml.widgets import RunDetails\n",
    "from azureml.train.automl import AutoMLConfig\n",
    "\n",
    "from azureml.core.model import InferenceConfig\n",
    "from azureml.core.webservice import AciWebservice, Webservice\n",
    "from azureml.core.model import Model\n",
    "from azureml.core.environment import Environment"
   ]
  },
  {
   "cell_type": "markdown",
   "metadata": {},
   "source": [
    "## Dataset\n",
    "\n",
    "### Overview\n",
    "\n",
    "**Dataset:** Davide Chicco, Giuseppe Jurman: \"Machine learning can predict survival of patients with heart failure from serum creatinine and ejection fraction alone\". BMC Medical Informatics and Decision Making 20, 16 (2020)\n",
    "\n",
    "Heart failure is a common event caused by CVDs and this dataset contains 12 features that can be used to predict mortality by heart failure.\n",
    "\n",
    "**12 clinical features:**\n",
    "\n",
    "- age: age of the patient (years)\n",
    "- anaemia: decrease of red blood cells or hemoglobin (boolean)\n",
    "- high blood pressure: if the patient has hypertension (boolean)\n",
    "- creatinine phosphokinase (CPK): level of the CPK enzyme in the blood (mcg/L)\n",
    "- diabetes: if the patient has diabetes (boolean)\n",
    "- ejection fraction: percentage of blood leaving the heart at each contraction (percentage)\n",
    "- platelets: platelets in the blood (kiloplatelets/mL)\n",
    "- sex: woman or man (binary)\n",
    "- serum creatinine: level of serum creatinine in the blood (mg/dL)\n",
    "- serum sodium: level of serum sodium in the blood (mEq/L)\n",
    "- smoking: if the patient smokes or not (boolean)\n",
    "- time: follow-up period (days)\n",
    "\n",
    "In this project, Azure AutoML will be used to make prediction on the death event based on patient's 12 clinical features. "
   ]
  },
  {
   "cell_type": "markdown",
   "metadata": {},
   "source": [
    "## Workspace setup"
   ]
  },
  {
   "cell_type": "code",
   "execution_count": 7,
   "metadata": {
    "gather": {
     "logged": 1609140774503
    },
    "jupyter": {
     "outputs_hidden": false,
     "source_hidden": false
    },
    "nteract": {
     "transient": {
      "deleting": false
     }
    }
   },
   "outputs": [],
   "source": [
    "ws = Workspace.from_config()\n",
    "\n",
    "experiment_name = 'automl-experiment'\n",
    "\n",
    "experiment = Experiment(ws, experiment_name)"
   ]
  },
  {
   "cell_type": "code",
   "execution_count": 9,
   "metadata": {
    "gather": {
     "logged": 1609063666153
    },
    "scrolled": true
   },
   "outputs": [],
   "source": [
    "dataset = Dataset.get_by_name(ws, 'heart')"
   ]
  },
  {
   "cell_type": "code",
   "execution_count": 10,
   "metadata": {
    "gather": {
     "logged": 1609063680104
    },
    "nteract": {
     "transient": {
      "deleting": false
     }
    }
   },
   "outputs": [
    {
     "data": {
      "text/html": [
       "<div>\n",
       "<style scoped>\n",
       "    .dataframe tbody tr th:only-of-type {\n",
       "        vertical-align: middle;\n",
       "    }\n",
       "\n",
       "    .dataframe tbody tr th {\n",
       "        vertical-align: top;\n",
       "    }\n",
       "\n",
       "    .dataframe thead th {\n",
       "        text-align: right;\n",
       "    }\n",
       "</style>\n",
       "<table border=\"1\" class=\"dataframe\">\n",
       "  <thead>\n",
       "    <tr style=\"text-align: right;\">\n",
       "      <th></th>\n",
       "      <th>age</th>\n",
       "      <th>anaemia</th>\n",
       "      <th>creatinine_phosphokinase</th>\n",
       "      <th>diabetes</th>\n",
       "      <th>ejection_fraction</th>\n",
       "      <th>high_blood_pressure</th>\n",
       "      <th>platelets</th>\n",
       "      <th>serum_creatinine</th>\n",
       "      <th>serum_sodium</th>\n",
       "      <th>sex</th>\n",
       "      <th>smoking</th>\n",
       "      <th>time</th>\n",
       "      <th>DEATH_EVENT</th>\n",
       "    </tr>\n",
       "  </thead>\n",
       "  <tbody>\n",
       "    <tr>\n",
       "      <th>0</th>\n",
       "      <td>75.0</td>\n",
       "      <td>0</td>\n",
       "      <td>582</td>\n",
       "      <td>0</td>\n",
       "      <td>20</td>\n",
       "      <td>1</td>\n",
       "      <td>265000.00</td>\n",
       "      <td>1.9</td>\n",
       "      <td>130</td>\n",
       "      <td>1</td>\n",
       "      <td>0</td>\n",
       "      <td>4</td>\n",
       "      <td>1</td>\n",
       "    </tr>\n",
       "    <tr>\n",
       "      <th>1</th>\n",
       "      <td>55.0</td>\n",
       "      <td>0</td>\n",
       "      <td>7861</td>\n",
       "      <td>0</td>\n",
       "      <td>38</td>\n",
       "      <td>0</td>\n",
       "      <td>263358.03</td>\n",
       "      <td>1.1</td>\n",
       "      <td>136</td>\n",
       "      <td>1</td>\n",
       "      <td>0</td>\n",
       "      <td>6</td>\n",
       "      <td>1</td>\n",
       "    </tr>\n",
       "    <tr>\n",
       "      <th>2</th>\n",
       "      <td>65.0</td>\n",
       "      <td>0</td>\n",
       "      <td>146</td>\n",
       "      <td>0</td>\n",
       "      <td>20</td>\n",
       "      <td>0</td>\n",
       "      <td>162000.00</td>\n",
       "      <td>1.3</td>\n",
       "      <td>129</td>\n",
       "      <td>1</td>\n",
       "      <td>1</td>\n",
       "      <td>7</td>\n",
       "      <td>1</td>\n",
       "    </tr>\n",
       "    <tr>\n",
       "      <th>3</th>\n",
       "      <td>50.0</td>\n",
       "      <td>1</td>\n",
       "      <td>111</td>\n",
       "      <td>0</td>\n",
       "      <td>20</td>\n",
       "      <td>0</td>\n",
       "      <td>210000.00</td>\n",
       "      <td>1.9</td>\n",
       "      <td>137</td>\n",
       "      <td>1</td>\n",
       "      <td>0</td>\n",
       "      <td>7</td>\n",
       "      <td>1</td>\n",
       "    </tr>\n",
       "    <tr>\n",
       "      <th>4</th>\n",
       "      <td>65.0</td>\n",
       "      <td>1</td>\n",
       "      <td>160</td>\n",
       "      <td>1</td>\n",
       "      <td>20</td>\n",
       "      <td>0</td>\n",
       "      <td>327000.00</td>\n",
       "      <td>2.7</td>\n",
       "      <td>116</td>\n",
       "      <td>0</td>\n",
       "      <td>0</td>\n",
       "      <td>8</td>\n",
       "      <td>1</td>\n",
       "    </tr>\n",
       "  </tbody>\n",
       "</table>\n",
       "</div>"
      ],
      "text/plain": [
       "    age  anaemia  creatinine_phosphokinase  diabetes  ejection_fraction  \\\n",
       "0  75.0        0                       582         0                 20   \n",
       "1  55.0        0                      7861         0                 38   \n",
       "2  65.0        0                       146         0                 20   \n",
       "3  50.0        1                       111         0                 20   \n",
       "4  65.0        1                       160         1                 20   \n",
       "\n",
       "   high_blood_pressure  platelets  serum_creatinine  serum_sodium  sex  \\\n",
       "0                    1  265000.00               1.9           130    1   \n",
       "1                    0  263358.03               1.1           136    1   \n",
       "2                    0  162000.00               1.3           129    1   \n",
       "3                    0  210000.00               1.9           137    1   \n",
       "4                    0  327000.00               2.7           116    0   \n",
       "\n",
       "   smoking  time  DEATH_EVENT  \n",
       "0        0     4            1  \n",
       "1        0     6            1  \n",
       "2        1     7            1  \n",
       "3        0     7            1  \n",
       "4        0     8            1  "
      ]
     },
     "execution_count": 10,
     "metadata": {},
     "output_type": "execute_result"
    }
   ],
   "source": [
    "dataset.take(5).to_pandas_dataframe()"
   ]
  },
  {
   "cell_type": "code",
   "execution_count": 12,
   "metadata": {
    "gather": {
     "logged": 1609063684361
    }
   },
   "outputs": [],
   "source": [
    "data_train, data_test = dataset.random_split(0.9)"
   ]
  },
  {
   "cell_type": "markdown",
   "metadata": {},
   "source": [
    "## Config Compute Cluster"
   ]
  },
  {
   "cell_type": "code",
   "execution_count": 13,
   "metadata": {
    "gather": {
     "logged": 1609065223998
    }
   },
   "outputs": [
    {
     "name": "stdout",
     "output_type": "stream",
     "text": [
      "Creating\n",
      "Succeeded\n",
      "AmlCompute wait for completion finished\n",
      "\n",
      "Minimum number of nodes requested have been provisioned\n"
     ]
    }
   ],
   "source": [
    "cpu_cluster_name = \"cpu-cluster\"\n",
    "\n",
    "# Verify that cluster does not exist already\n",
    "try:\n",
    "    compute_target = ComputeTarget(workspace=ws, name=cpu_cluster_name)\n",
    "    print('Found existing cluster, use it.')\n",
    "except ComputeTargetException:\n",
    "    compute_config = AmlCompute.provisioning_configuration(vm_size='STANDARD_D12_V2',\n",
    "                                                           max_nodes=5)\n",
    "    compute_target = ComputeTarget.create(ws, cpu_cluster_name, compute_config)\n",
    "\n",
    "compute_target.wait_for_completion(show_output=True)"
   ]
  },
  {
   "cell_type": "markdown",
   "metadata": {},
   "source": [
    "## AutoML Configuration"
   ]
  },
  {
   "cell_type": "code",
   "execution_count": 15,
   "metadata": {
    "gather": {
     "logged": 1609065227571
    },
    "jupyter": {
     "outputs_hidden": false,
     "source_hidden": false
    },
    "nteract": {
     "transient": {
      "deleting": false
     }
    }
   },
   "outputs": [],
   "source": [
    "automl_settings = {\n",
    "    \"experiment_timeout_minutes\": 30,\n",
    "    \"max_concurrent_iterations\": 4,\n",
    "    \"primary_metric\" : 'accuracy',\n",
    "    \"n_cross_validations\": 5\n",
    "}\n",
    "automl_config = AutoMLConfig(compute_target=compute_target,\n",
    "                             task = \"classification\",\n",
    "                             training_data=data_train,\n",
    "                             label_column_name=\"DEATH_EVENT\", \n",
    "                             enable_early_stopping= True,\n",
    "                             featurization= 'auto',\n",
    "                             **automl_settings\n",
    "                            )"
   ]
  },
  {
   "cell_type": "markdown",
   "metadata": {},
   "source": [
    "AutoML typically performs cross validation, data balance check, cardinality check in prior to machine learning process with a variety of algorithms. "
   ]
  },
  {
   "cell_type": "code",
   "execution_count": 16,
   "metadata": {
    "gather": {
     "logged": 1609057253934
    }
   },
   "outputs": [
    {
     "name": "stdout",
     "output_type": "stream",
     "text": [
      "Running on remote.\n",
      "No run_configuration provided, running on cpu-cluster with default configuration\n",
      "Running on remote compute: cpu-cluster\n",
      "Parent Run ID: AutoML_667392a3-1c3b-4493-9cce-38528ce301e1\n",
      "\n",
      "Current status: FeaturesGeneration. Generating features for the dataset.\n",
      "Current status: ModelSelection. Beginning model selection.\n",
      "\n",
      "****************************************************************************************************\n",
      "DATA GUARDRAILS: \n",
      "\n",
      "TYPE:         Class balancing detection\n",
      "STATUS:       PASSED\n",
      "DESCRIPTION:  Your inputs were analyzed, and all classes are balanced in your training data.\n",
      "              Learn more about imbalanced data: https://aka.ms/AutomatedMLImbalancedData\n",
      "\n",
      "****************************************************************************************************\n",
      "\n",
      "TYPE:         Missing feature values imputation\n",
      "STATUS:       PASSED\n",
      "DESCRIPTION:  No feature missing values were detected in the training data.\n",
      "              Learn more about missing value imputation: https://aka.ms/AutomatedMLFeaturization\n",
      "\n",
      "****************************************************************************************************\n",
      "\n",
      "TYPE:         High cardinality feature detection\n",
      "STATUS:       PASSED\n",
      "DESCRIPTION:  Your inputs were analyzed, and no high cardinality features were detected.\n",
      "              Learn more about high cardinality feature handling: https://aka.ms/AutomatedMLFeaturization\n",
      "\n",
      "****************************************************************************************************\n",
      "\n",
      "****************************************************************************************************\n",
      "ITERATION: The iteration being evaluated.\n",
      "PIPELINE: A summary description of the pipeline being evaluated.\n",
      "DURATION: Time taken for the current iteration.\n",
      "METRIC: The result of computing score on the fitted pipeline.\n",
      "BEST: The best observed score thus far.\n",
      "****************************************************************************************************\n",
      "\n",
      " ITERATION   PIPELINE                                       DURATION      METRIC      BEST\n",
      "         0   MaxAbsScaler LightGBM                          0:00:54       0.8163    0.8163\n",
      "         1   MaxAbsScaler XGBoostClassifier                 0:00:52       0.8201    0.8201\n",
      "         2   MinMaxScaler RandomForest                      0:00:51       0.8274    0.8274\n",
      "         6   StandardScalerWrapper LightGBM                 0:00:49       0.8384    0.8384\n",
      "         3   MinMaxScaler RandomForest                      0:02:19       0.8421    0.8421\n",
      "         5   MaxAbsScaler LightGBM                          0:02:24       0.8346    0.8421\n",
      "         4   MinMaxScaler RandomForest                      0:02:32       0.8422    0.8422\n",
      "         7   SparseNormalizer XGBoostClassifier             0:00:57       0.8383    0.8422\n",
      "         8   MinMaxScaler LogisticRegression                0:00:44       0.8238    0.8422\n",
      "        10   MaxAbsScaler GradientBoosting                  0:00:48       0.8420    0.8422\n",
      "         9   MinMaxScaler LogisticRegression                0:00:56       0.8164    0.8422\n",
      "        11   SparseNormalizer LightGBM                      0:00:54       0.7941    0.8422\n",
      "        12   StandardScalerWrapper RandomForest             0:00:51       0.8271    0.8422\n",
      "        13   MaxAbsScaler LightGBM                          0:00:47       0.8308    0.8422\n",
      "        14   StandardScalerWrapper XGBoostClassifier        0:00:55       0.8015    0.8422\n",
      "        15   MinMaxScaler LightGBM                          0:00:59       0.8162    0.8422\n",
      "        16   SparseNormalizer XGBoostClassifier             0:00:51       0.8346    0.8422\n",
      "        17   RobustScaler ExtremeRandomTrees                0:00:51       0.8492    0.8492\n",
      "        18   SparseNormalizer XGBoostClassifier             0:00:50       0.8162    0.8492\n",
      "        19   StandardScalerWrapper LightGBM                 0:00:59       0.8494    0.8494\n",
      "        20   StandardScalerWrapper XGBoostClassifier        0:00:48       0.8236    0.8494\n",
      "        21   StandardScalerWrapper LightGBM                 0:00:51       0.8162    0.8494\n",
      "        22   MinMaxScaler LightGBM                          0:00:54       0.8310    0.8494\n",
      "        23   MaxAbsScaler ExtremeRandomTrees                0:00:47       0.8385    0.8494\n",
      "        24   MaxAbsScaler LightGBM                          0:00:54       0.8310    0.8494\n",
      "        25   MinMaxScaler LightGBM                          0:00:49       0.6799    0.8494\n",
      "        26   StandardScalerWrapper ExtremeRandomTrees       0:00:50       0.7389    0.8494\n",
      "        27   StandardScalerWrapper LightGBM                 0:00:53       0.8385    0.8494\n",
      "        28   StandardScalerWrapper XGBoostClassifier        0:00:53       0.8346    0.8494\n",
      "        29   MinMaxScaler LogisticRegression                0:00:59       0.8164    0.8494\n",
      "        30   SparseNormalizer LightGBM                      0:00:53       0.8236    0.8494\n",
      "        31   StandardScalerWrapper XGBoostClassifier        0:00:50       0.8236    0.8494\n",
      "        32   SparseNormalizer RandomForest                  0:00:50       0.8052    0.8494\n",
      "        33   StandardScalerWrapper GradientBoosting         0:00:49       0.8310    0.8494\n",
      "        34   RobustScaler RandomForest                      0:00:44       0.8200    0.8494\n",
      "        35                                                  0:00:27          nan    0.8494\n",
      "        36                                                  0:00:18          nan    0.8494\n",
      "        37    VotingEnsemble                                0:01:19       0.8605    0.8605\n",
      "        38    StackEnsemble                                 0:01:17       0.8494    0.8605\n"
     ]
    }
   ],
   "source": [
    "remote_run = experiment.submit(automl_config, show_output = True)"
   ]
  },
  {
   "cell_type": "markdown",
   "metadata": {},
   "source": [
    "## Run Details"
   ]
  },
  {
   "cell_type": "code",
   "execution_count": 11,
   "metadata": {
    "gather": {
     "logged": 1609064958780
    },
    "scrolled": true
   },
   "outputs": [
    {
     "data": {
      "text/html": [
       "<table style=\"width:100%\"><tr><th>Experiment</th><th>Id</th><th>Type</th><th>Status</th><th>Details Page</th><th>Docs Page</th></tr><tr><td>automl-experiment</td><td>AutoML_1ac39d64-bc53-42d1-9deb-b1258b311536</td><td>automl</td><td>Completed</td><td><a href=\"https://ml.azure.com/experiments/automl-experiment/runs/AutoML_1ac39d64-bc53-42d1-9deb-b1258b311536?wsid=/subscriptions/5a4ab2ba-6c51-4805-8155-58759ad589d8/resourcegroups/aml-quickstarts-132133/workspaces/quick-starts-ws-132133\" target=\"_blank\" rel=\"noopener\">Link to Azure Machine Learning studio</a></td><td><a href=\"https://docs.microsoft.com/en-us/python/api/overview/azure/ml/intro?view=azure-ml-py\" target=\"_blank\" rel=\"noopener\">Link to Documentation</a></td></tr></table>"
      ],
      "text/plain": [
       "Run(Experiment: automl-experiment,\n",
       "Id: AutoML_1ac39d64-bc53-42d1-9deb-b1258b311536,\n",
       "Type: automl,\n",
       "Status: Completed)"
      ]
     },
     "execution_count": 11,
     "metadata": {},
     "output_type": "execute_result"
    }
   ],
   "source": [
    "remote_run"
   ]
  },
  {
   "cell_type": "code",
   "execution_count": 17,
   "metadata": {
    "gather": {
     "logged": 1609057313573
    },
    "scrolled": true
   },
   "outputs": [
    {
     "data": {
      "application/vnd.jupyter.widget-view+json": {
       "model_id": "6d78a8e1e21a41d8ba81bf86be6fd0ce",
       "version_major": 2,
       "version_minor": 0
      },
      "text/plain": [
       "_AutoMLWidget(widget_settings={'childWidgetDisplay': 'popup', 'send_telemetry': False, 'log_level': 'INFO', 's…"
      ]
     },
     "metadata": {},
     "output_type": "display_data"
    },
    {
     "data": {
      "application/aml.mini.widget.v1": "{\"status\": \"Completed\", \"workbench_run_details_uri\": \"https://ml.azure.com/experiments/automl-experiment/runs/AutoML_667392a3-1c3b-4493-9cce-38528ce301e1?wsid=/subscriptions/9a7511b8-150f-4a58-8528-3e7d50216c31/resourcegroups/aml-quickstarts-139375/workspaces/quick-starts-ws-139375\", \"run_id\": \"AutoML_667392a3-1c3b-4493-9cce-38528ce301e1\", \"run_properties\": {\"run_id\": \"AutoML_667392a3-1c3b-4493-9cce-38528ce301e1\", \"created_utc\": \"2021-02-23T15:52:24.754877Z\", \"properties\": {\"num_iterations\": \"1000\", \"training_type\": \"TrainFull\", \"acquisition_function\": \"EI\", \"primary_metric\": \"accuracy\", \"train_split\": \"0\", \"acquisition_parameter\": \"0\", \"num_cross_validation\": \"5\", \"target\": \"cpu-cluster\", \"AMLSettingsJsonString\": \"{\\\"path\\\":null,\\\"name\\\":\\\"automl-experiment\\\",\\\"subscription_id\\\":\\\"9a7511b8-150f-4a58-8528-3e7d50216c31\\\",\\\"resource_group\\\":\\\"aml-quickstarts-139375\\\",\\\"workspace_name\\\":\\\"quick-starts-ws-139375\\\",\\\"region\\\":\\\"southcentralus\\\",\\\"compute_target\\\":\\\"cpu-cluster\\\",\\\"spark_service\\\":null,\\\"azure_service\\\":\\\"remote\\\",\\\"many_models\\\":false,\\\"pipeline_fetch_max_batch_size\\\":1,\\\"iterations\\\":1000,\\\"primary_metric\\\":\\\"accuracy\\\",\\\"task_type\\\":\\\"classification\\\",\\\"data_script\\\":null,\\\"validation_size\\\":0.0,\\\"n_cross_validations\\\":5,\\\"y_min\\\":null,\\\"y_max\\\":null,\\\"num_classes\\\":null,\\\"featurization\\\":\\\"auto\\\",\\\"_ignore_package_version_incompatibilities\\\":false,\\\"is_timeseries\\\":false,\\\"max_cores_per_iteration\\\":1,\\\"max_concurrent_iterations\\\":4,\\\"iteration_timeout_minutes\\\":null,\\\"mem_in_mb\\\":null,\\\"enforce_time_on_windows\\\":false,\\\"experiment_timeout_minutes\\\":30,\\\"experiment_exit_score\\\":null,\\\"whitelist_models\\\":null,\\\"blacklist_algos\\\":[\\\"TensorFlowLinearClassifier\\\",\\\"TensorFlowDNN\\\"],\\\"supported_models\\\":[\\\"SVM\\\",\\\"SGD\\\",\\\"DecisionTree\\\",\\\"ExtremeRandomTrees\\\",\\\"LightGBM\\\",\\\"AveragedPerceptronClassifier\\\",\\\"TensorFlowLinearClassifier\\\",\\\"LinearSVM\\\",\\\"GradientBoosting\\\",\\\"LogisticRegression\\\",\\\"TensorFlowDNN\\\",\\\"XGBoostClassifier\\\",\\\"BernoulliNaiveBayes\\\",\\\"KNN\\\",\\\"MultinomialNaiveBayes\\\",\\\"RandomForest\\\"],\\\"auto_blacklist\\\":true,\\\"blacklist_samples_reached\\\":false,\\\"exclude_nan_labels\\\":true,\\\"verbosity\\\":20,\\\"_debug_log\\\":\\\"azureml_automl.log\\\",\\\"show_warnings\\\":false,\\\"model_explainability\\\":true,\\\"service_url\\\":null,\\\"sdk_url\\\":null,\\\"sdk_packages\\\":null,\\\"enable_onnx_compatible_models\\\":false,\\\"enable_split_onnx_featurizer_estimator_models\\\":false,\\\"vm_type\\\":\\\"STANDARD_D12_V2\\\",\\\"telemetry_verbosity\\\":20,\\\"send_telemetry\\\":true,\\\"enable_dnn\\\":false,\\\"scenario\\\":\\\"SDK-1.13.0\\\",\\\"environment_label\\\":null,\\\"force_text_dnn\\\":false,\\\"enable_feature_sweeping\\\":true,\\\"enable_early_stopping\\\":true,\\\"early_stopping_n_iters\\\":10,\\\"metrics\\\":null,\\\"enable_ensembling\\\":true,\\\"enable_stack_ensembling\\\":true,\\\"ensemble_iterations\\\":15,\\\"enable_tf\\\":false,\\\"enable_subsampling\\\":null,\\\"subsample_seed\\\":null,\\\"enable_nimbusml\\\":false,\\\"enable_streaming\\\":false,\\\"force_streaming\\\":false,\\\"track_child_runs\\\":true,\\\"allowed_private_models\\\":[],\\\"label_column_name\\\":\\\"DEATH_EVENT\\\",\\\"weight_column_name\\\":null,\\\"cv_split_column_names\\\":null,\\\"enable_local_managed\\\":false,\\\"_local_managed_run_id\\\":null,\\\"cost_mode\\\":1,\\\"lag_length\\\":0,\\\"metric_operation\\\":\\\"maximize\\\",\\\"preprocess\\\":true}\", \"DataPrepJsonString\": \"{\\\\\\\"training_data\\\\\\\": \\\\\\\"{\\\\\\\\\\\\\\\"blocks\\\\\\\\\\\\\\\": [{\\\\\\\\\\\\\\\"id\\\\\\\\\\\\\\\": \\\\\\\\\\\\\\\"270511fc-6da4-402f-a6ec-e1ccbcc6dc50\\\\\\\\\\\\\\\", \\\\\\\\\\\\\\\"type\\\\\\\\\\\\\\\": \\\\\\\\\\\\\\\"Microsoft.DPrep.GetDatastoreFilesBlock\\\\\\\\\\\\\\\", \\\\\\\\\\\\\\\"arguments\\\\\\\\\\\\\\\": {\\\\\\\\\\\\\\\"datastores\\\\\\\\\\\\\\\": [{\\\\\\\\\\\\\\\"datastoreName\\\\\\\\\\\\\\\": \\\\\\\\\\\\\\\"workspaceblobstore\\\\\\\\\\\\\\\", \\\\\\\\\\\\\\\"path\\\\\\\\\\\\\\\": \\\\\\\\\\\\\\\"UI/02-23-2021_031731_UTC/heart-disease-kaggle.csv\\\\\\\\\\\\\\\", \\\\\\\\\\\\\\\"resourceGroup\\\\\\\\\\\\\\\": \\\\\\\\\\\\\\\"aml-quickstarts-139375\\\\\\\\\\\\\\\", \\\\\\\\\\\\\\\"subscription\\\\\\\\\\\\\\\": \\\\\\\\\\\\\\\"9a7511b8-150f-4a58-8528-3e7d50216c31\\\\\\\\\\\\\\\", \\\\\\\\\\\\\\\"workspaceName\\\\\\\\\\\\\\\": \\\\\\\\\\\\\\\"quick-starts-ws-139375\\\\\\\\\\\\\\\"}]}, \\\\\\\\\\\\\\\"localData\\\\\\\\\\\\\\\": {}, \\\\\\\\\\\\\\\"isEnabled\\\\\\\\\\\\\\\": true, \\\\\\\\\\\\\\\"name\\\\\\\\\\\\\\\": null, \\\\\\\\\\\\\\\"annotation\\\\\\\\\\\\\\\": null}, {\\\\\\\\\\\\\\\"id\\\\\\\\\\\\\\\": \\\\\\\\\\\\\\\"0deb5dbd-de29-4466-a45a-92a8526ada8d\\\\\\\\\\\\\\\", \\\\\\\\\\\\\\\"type\\\\\\\\\\\\\\\": \\\\\\\\\\\\\\\"Microsoft.DPrep.ParseDelimitedBlock\\\\\\\\\\\\\\\", \\\\\\\\\\\\\\\"arguments\\\\\\\\\\\\\\\": {\\\\\\\\\\\\\\\"columnHeadersMode\\\\\\\\\\\\\\\": 3, \\\\\\\\\\\\\\\"fileEncoding\\\\\\\\\\\\\\\": 0, \\\\\\\\\\\\\\\"handleQuotedLineBreaks\\\\\\\\\\\\\\\": false, \\\\\\\\\\\\\\\"preview\\\\\\\\\\\\\\\": false, \\\\\\\\\\\\\\\"separator\\\\\\\\\\\\\\\": \\\\\\\\\\\\\\\",\\\\\\\\\\\\\\\", \\\\\\\\\\\\\\\"skipRows\\\\\\\\\\\\\\\": 0, \\\\\\\\\\\\\\\"skipRowsMode\\\\\\\\\\\\\\\": 0}, \\\\\\\\\\\\\\\"localData\\\\\\\\\\\\\\\": {}, \\\\\\\\\\\\\\\"isEnabled\\\\\\\\\\\\\\\": true, \\\\\\\\\\\\\\\"name\\\\\\\\\\\\\\\": null, \\\\\\\\\\\\\\\"annotation\\\\\\\\\\\\\\\": null}, {\\\\\\\\\\\\\\\"id\\\\\\\\\\\\\\\": \\\\\\\\\\\\\\\"ee9f50b2-3a32-48d2-8a68-15c853828b2a\\\\\\\\\\\\\\\", \\\\\\\\\\\\\\\"type\\\\\\\\\\\\\\\": \\\\\\\\\\\\\\\"Microsoft.DPrep.DropColumnsBlock\\\\\\\\\\\\\\\", \\\\\\\\\\\\\\\"arguments\\\\\\\\\\\\\\\": {\\\\\\\\\\\\\\\"columns\\\\\\\\\\\\\\\": {\\\\\\\\\\\\\\\"type\\\\\\\\\\\\\\\": 0, \\\\\\\\\\\\\\\"details\\\\\\\\\\\\\\\": {\\\\\\\\\\\\\\\"selectedColumns\\\\\\\\\\\\\\\": [\\\\\\\\\\\\\\\"Path\\\\\\\\\\\\\\\"]}}}, \\\\\\\\\\\\\\\"localData\\\\\\\\\\\\\\\": {}, \\\\\\\\\\\\\\\"isEnabled\\\\\\\\\\\\\\\": true, \\\\\\\\\\\\\\\"name\\\\\\\\\\\\\\\": null, \\\\\\\\\\\\\\\"annotation\\\\\\\\\\\\\\\": null}, {\\\\\\\\\\\\\\\"id\\\\\\\\\\\\\\\": \\\\\\\\\\\\\\\"d2362aa7-6f10-4f8d-90db-01a33222f9a8\\\\\\\\\\\\\\\", \\\\\\\\\\\\\\\"type\\\\\\\\\\\\\\\": \\\\\\\\\\\\\\\"Microsoft.DPrep.SetColumnTypesBlock\\\\\\\\\\\\\\\", \\\\\\\\\\\\\\\"arguments\\\\\\\\\\\\\\\": {\\\\\\\\\\\\\\\"columnConversion\\\\\\\\\\\\\\\": [{\\\\\\\\\\\\\\\"column\\\\\\\\\\\\\\\": {\\\\\\\\\\\\\\\"type\\\\\\\\\\\\\\\": 2, \\\\\\\\\\\\\\\"details\\\\\\\\\\\\\\\": {\\\\\\\\\\\\\\\"selectedColumn\\\\\\\\\\\\\\\": \\\\\\\\\\\\\\\"Path\\\\\\\\\\\\\\\"}}, \\\\\\\\\\\\\\\"typeProperty\\\\\\\\\\\\\\\": 0}, {\\\\\\\\\\\\\\\"column\\\\\\\\\\\\\\\": {\\\\\\\\\\\\\\\"type\\\\\\\\\\\\\\\": 2, \\\\\\\\\\\\\\\"details\\\\\\\\\\\\\\\": {\\\\\\\\\\\\\\\"selectedColumn\\\\\\\\\\\\\\\": \\\\\\\\\\\\\\\"age\\\\\\\\\\\\\\\"}}, \\\\\\\\\\\\\\\"typeProperty\\\\\\\\\\\\\\\": 3}, {\\\\\\\\\\\\\\\"column\\\\\\\\\\\\\\\": {\\\\\\\\\\\\\\\"type\\\\\\\\\\\\\\\": 2, \\\\\\\\\\\\\\\"details\\\\\\\\\\\\\\\": {\\\\\\\\\\\\\\\"selectedColumn\\\\\\\\\\\\\\\": \\\\\\\\\\\\\\\"anaemia\\\\\\\\\\\\\\\"}}, \\\\\\\\\\\\\\\"typeProperty\\\\\\\\\\\\\\\": 2}, {\\\\\\\\\\\\\\\"column\\\\\\\\\\\\\\\": {\\\\\\\\\\\\\\\"type\\\\\\\\\\\\\\\": 2, \\\\\\\\\\\\\\\"details\\\\\\\\\\\\\\\": {\\\\\\\\\\\\\\\"selectedColumn\\\\\\\\\\\\\\\": \\\\\\\\\\\\\\\"creatinine_phosphokinase\\\\\\\\\\\\\\\"}}, \\\\\\\\\\\\\\\"typeProperty\\\\\\\\\\\\\\\": 2}, {\\\\\\\\\\\\\\\"column\\\\\\\\\\\\\\\": {\\\\\\\\\\\\\\\"type\\\\\\\\\\\\\\\": 2, \\\\\\\\\\\\\\\"details\\\\\\\\\\\\\\\": {\\\\\\\\\\\\\\\"selectedColumn\\\\\\\\\\\\\\\": \\\\\\\\\\\\\\\"diabetes\\\\\\\\\\\\\\\"}}, \\\\\\\\\\\\\\\"typeProperty\\\\\\\\\\\\\\\": 2}, {\\\\\\\\\\\\\\\"column\\\\\\\\\\\\\\\": {\\\\\\\\\\\\\\\"type\\\\\\\\\\\\\\\": 2, \\\\\\\\\\\\\\\"details\\\\\\\\\\\\\\\": {\\\\\\\\\\\\\\\"selectedColumn\\\\\\\\\\\\\\\": \\\\\\\\\\\\\\\"ejection_fraction\\\\\\\\\\\\\\\"}}, \\\\\\\\\\\\\\\"typeProperty\\\\\\\\\\\\\\\": 2}, {\\\\\\\\\\\\\\\"column\\\\\\\\\\\\\\\": {\\\\\\\\\\\\\\\"type\\\\\\\\\\\\\\\": 2, \\\\\\\\\\\\\\\"details\\\\\\\\\\\\\\\": {\\\\\\\\\\\\\\\"selectedColumn\\\\\\\\\\\\\\\": \\\\\\\\\\\\\\\"high_blood_pressure\\\\\\\\\\\\\\\"}}, \\\\\\\\\\\\\\\"typeProperty\\\\\\\\\\\\\\\": 2}, {\\\\\\\\\\\\\\\"column\\\\\\\\\\\\\\\": {\\\\\\\\\\\\\\\"type\\\\\\\\\\\\\\\": 2, \\\\\\\\\\\\\\\"details\\\\\\\\\\\\\\\": {\\\\\\\\\\\\\\\"selectedColumn\\\\\\\\\\\\\\\": \\\\\\\\\\\\\\\"platelets\\\\\\\\\\\\\\\"}}, \\\\\\\\\\\\\\\"typeProperty\\\\\\\\\\\\\\\": 3}, {\\\\\\\\\\\\\\\"column\\\\\\\\\\\\\\\": {\\\\\\\\\\\\\\\"type\\\\\\\\\\\\\\\": 2, \\\\\\\\\\\\\\\"details\\\\\\\\\\\\\\\": {\\\\\\\\\\\\\\\"selectedColumn\\\\\\\\\\\\\\\": \\\\\\\\\\\\\\\"serum_creatinine\\\\\\\\\\\\\\\"}}, \\\\\\\\\\\\\\\"typeProperty\\\\\\\\\\\\\\\": 3}, {\\\\\\\\\\\\\\\"column\\\\\\\\\\\\\\\": {\\\\\\\\\\\\\\\"type\\\\\\\\\\\\\\\": 2, \\\\\\\\\\\\\\\"details\\\\\\\\\\\\\\\": {\\\\\\\\\\\\\\\"selectedColumn\\\\\\\\\\\\\\\": \\\\\\\\\\\\\\\"serum_sodium\\\\\\\\\\\\\\\"}}, \\\\\\\\\\\\\\\"typeProperty\\\\\\\\\\\\\\\": 2}, {\\\\\\\\\\\\\\\"column\\\\\\\\\\\\\\\": {\\\\\\\\\\\\\\\"type\\\\\\\\\\\\\\\": 2, \\\\\\\\\\\\\\\"details\\\\\\\\\\\\\\\": {\\\\\\\\\\\\\\\"selectedColumn\\\\\\\\\\\\\\\": \\\\\\\\\\\\\\\"sex\\\\\\\\\\\\\\\"}}, \\\\\\\\\\\\\\\"typeProperty\\\\\\\\\\\\\\\": 2}, {\\\\\\\\\\\\\\\"column\\\\\\\\\\\\\\\": {\\\\\\\\\\\\\\\"type\\\\\\\\\\\\\\\": 2, \\\\\\\\\\\\\\\"details\\\\\\\\\\\\\\\": {\\\\\\\\\\\\\\\"selectedColumn\\\\\\\\\\\\\\\": \\\\\\\\\\\\\\\"smoking\\\\\\\\\\\\\\\"}}, \\\\\\\\\\\\\\\"typeProperty\\\\\\\\\\\\\\\": 2}, {\\\\\\\\\\\\\\\"column\\\\\\\\\\\\\\\": {\\\\\\\\\\\\\\\"type\\\\\\\\\\\\\\\": 2, \\\\\\\\\\\\\\\"details\\\\\\\\\\\\\\\": {\\\\\\\\\\\\\\\"selectedColumn\\\\\\\\\\\\\\\": \\\\\\\\\\\\\\\"time\\\\\\\\\\\\\\\"}}, \\\\\\\\\\\\\\\"typeProperty\\\\\\\\\\\\\\\": 2}, {\\\\\\\\\\\\\\\"column\\\\\\\\\\\\\\\": {\\\\\\\\\\\\\\\"type\\\\\\\\\\\\\\\": 2, \\\\\\\\\\\\\\\"details\\\\\\\\\\\\\\\": {\\\\\\\\\\\\\\\"selectedColumn\\\\\\\\\\\\\\\": \\\\\\\\\\\\\\\"DEATH_EVENT\\\\\\\\\\\\\\\"}}, \\\\\\\\\\\\\\\"typeProperty\\\\\\\\\\\\\\\": 2}]}, \\\\\\\\\\\\\\\"localData\\\\\\\\\\\\\\\": {}, \\\\\\\\\\\\\\\"isEnabled\\\\\\\\\\\\\\\": true, \\\\\\\\\\\\\\\"name\\\\\\\\\\\\\\\": null, \\\\\\\\\\\\\\\"annotation\\\\\\\\\\\\\\\": null}, {\\\\\\\\\\\\\\\"id\\\\\\\\\\\\\\\": \\\\\\\\\\\\\\\"6cf0fd31-1519-4f1c-b0e1-ac9afd27fa69\\\\\\\\\\\\\\\", \\\\\\\\\\\\\\\"type\\\\\\\\\\\\\\\": \\\\\\\\\\\\\\\"Microsoft.DPrep.TakeSampleBlock\\\\\\\\\\\\\\\", \\\\\\\\\\\\\\\"arguments\\\\\\\\\\\\\\\": {\\\\\\\\\\\\\\\"probability\\\\\\\\\\\\\\\": 0.9, \\\\\\\\\\\\\\\"probabilityLowerBound\\\\\\\\\\\\\\\": 0.0, \\\\\\\\\\\\\\\"seed\\\\\\\\\\\\\\\": 1307343489}, \\\\\\\\\\\\\\\"localData\\\\\\\\\\\\\\\": {}, \\\\\\\\\\\\\\\"isEnabled\\\\\\\\\\\\\\\": true, \\\\\\\\\\\\\\\"name\\\\\\\\\\\\\\\": null, \\\\\\\\\\\\\\\"annotation\\\\\\\\\\\\\\\": null}], \\\\\\\\\\\\\\\"inspectors\\\\\\\\\\\\\\\": [], \\\\\\\\\\\\\\\"meta\\\\\\\\\\\\\\\": {\\\\\\\\\\\\\\\"savedDatasetId\\\\\\\\\\\\\\\": \\\\\\\\\\\\\\\"48127560-f35c-4f46-ada9-56b19cafe74e\\\\\\\\\\\\\\\", \\\\\\\\\\\\\\\"datasetType\\\\\\\\\\\\\\\": \\\\\\\\\\\\\\\"tabular\\\\\\\\\\\\\\\", \\\\\\\\\\\\\\\"subscriptionId\\\\\\\\\\\\\\\": \\\\\\\\\\\\\\\"9a7511b8-150f-4a58-8528-3e7d50216c31\\\\\\\\\\\\\\\", \\\\\\\\\\\\\\\"workspaceId\\\\\\\\\\\\\\\": \\\\\\\\\\\\\\\"774b4d1f-b434-4d5f-8541-2a1b53155131\\\\\\\\\\\\\\\", \\\\\\\\\\\\\\\"workspaceLocation\\\\\\\\\\\\\\\": \\\\\\\\\\\\\\\"southcentralus\\\\\\\\\\\\\\\"}}\\\\\\\", \\\\\\\"activities\\\\\\\": 0}\", \"EnableSubsampling\": null, \"runTemplate\": \"AutoML\", \"azureml.runsource\": \"automl\", \"display_task_type\": \"classification\", \"dependencies_versions\": \"{\\\"azureml-widgets\\\": \\\"1.20.0\\\", \\\"azureml-train\\\": \\\"1.20.0\\\", \\\"azureml-train-restclients-hyperdrive\\\": \\\"1.20.0\\\", \\\"azureml-train-core\\\": \\\"1.20.0\\\", \\\"azureml-train-automl\\\": \\\"1.20.0\\\", \\\"azureml-train-automl-runtime\\\": \\\"1.20.0\\\", \\\"azureml-train-automl-client\\\": \\\"1.20.0\\\", \\\"azureml-tensorboard\\\": \\\"1.20.0\\\", \\\"azureml-telemetry\\\": \\\"1.20.0\\\", \\\"azureml-sdk\\\": \\\"1.20.0\\\", \\\"azureml-samples\\\": \\\"0+unknown\\\", \\\"azureml-pipeline\\\": \\\"1.20.0\\\", \\\"azureml-pipeline-steps\\\": \\\"1.20.0\\\", \\\"azureml-pipeline-core\\\": \\\"1.20.0\\\", \\\"azureml-opendatasets\\\": \\\"1.20.0\\\", \\\"azureml-model-management-sdk\\\": \\\"1.0.1b6.post1\\\", \\\"azureml-mlflow\\\": \\\"1.20.0.post1\\\", \\\"azureml-interpret\\\": \\\"1.20.0\\\", \\\"azureml-explain-model\\\": \\\"1.20.0\\\", \\\"azureml-defaults\\\": \\\"1.20.0\\\", \\\"azureml-dataset-runtime\\\": \\\"1.20.0\\\", \\\"azureml-dataprep\\\": \\\"2.7.3\\\", \\\"azureml-dataprep-rslex\\\": \\\"1.5.0\\\", \\\"azureml-dataprep-native\\\": \\\"27.0.0\\\", \\\"azureml-datadrift\\\": \\\"1.20.0\\\", \\\"azureml-core\\\": \\\"1.20.0\\\", \\\"azureml-contrib-services\\\": \\\"1.20.0\\\", \\\"azureml-contrib-server\\\": \\\"1.20.0\\\", \\\"azureml-contrib-reinforcementlearning\\\": \\\"1.20.0\\\", \\\"azureml-contrib-pipeline-steps\\\": \\\"1.20.0\\\", \\\"azureml-contrib-notebook\\\": \\\"1.20.0\\\", \\\"azureml-contrib-interpret\\\": \\\"1.20.0\\\", \\\"azureml-contrib-gbdt\\\": \\\"1.20.0\\\", \\\"azureml-contrib-fairness\\\": \\\"1.20.0\\\", \\\"azureml-contrib-dataset\\\": \\\"1.20.0\\\", \\\"azureml-cli-common\\\": \\\"1.20.0\\\", \\\"azureml-automl-runtime\\\": \\\"1.20.0\\\", \\\"azureml-automl-core\\\": \\\"1.20.0\\\", \\\"azureml-accel-models\\\": \\\"1.20.0\\\"}\", \"_aml_system_scenario_identification\": \"Remote.Parent\", \"ClientType\": \"SDK\", \"environment_cpu_name\": \"AzureML-AutoML\", \"environment_cpu_label\": \"prod\", \"environment_gpu_name\": \"AzureML-AutoML-GPU\", \"environment_gpu_label\": \"prod\", \"root_attribution\": \"automl\", \"attribution\": \"AutoML\", \"Orchestrator\": \"AutoML\", \"CancelUri\": \"https://southcentralus.experiments.azureml.net/jasmine/v1.0/subscriptions/9a7511b8-150f-4a58-8528-3e7d50216c31/resourceGroups/aml-quickstarts-139375/providers/Microsoft.MachineLearningServices/workspaces/quick-starts-ws-139375/experimentids/4657c953-a134-4407-91b0-5dd2f7a6cd80/cancel/AutoML_667392a3-1c3b-4493-9cce-38528ce301e1\", \"ClientSdkVersion\": \"1.22.0\", \"snapshotId\": \"00000000-0000-0000-0000-000000000000\", \"SetupRunId\": \"AutoML_667392a3-1c3b-4493-9cce-38528ce301e1_setup\", \"SetupRunContainerId\": \"dcid.AutoML_667392a3-1c3b-4493-9cce-38528ce301e1_setup\", \"FeaturizationRunJsonPath\": \"featurizer_container.json\", \"FeaturizationRunId\": \"AutoML_667392a3-1c3b-4493-9cce-38528ce301e1_featurize\", \"ProblemInfoJsonString\": \"{\\\"dataset_num_categorical\\\": 0, \\\"is_sparse\\\": false, \\\"subsampling\\\": false, \\\"dataset_classes\\\": 2, \\\"dataset_features\\\": 12, \\\"dataset_samples\\\": 272, \\\"single_frequency_class_detected\\\": false}\", \"ModelExplainRunId\": \"AutoML_667392a3-1c3b-4493-9cce-38528ce301e1_ModelExplain\"}, \"tags\": {\"model_explain_run\": \"best_run\", \"_aml_system_azureml.automlComponent\": \"AutoML\", \"pipeline_id\": \"\", \"score\": \"\", \"predicted_cost\": \"\", \"fit_time\": \"\", \"training_percent\": \"\", \"iteration\": \"\", \"run_preprocessor\": \"\", \"run_algorithm\": \"\", \"dynamic_whitelisting_iterations\": \"<25>;<30>;<35>;\", \"automl_best_child_run_id\": \"AutoML_667392a3-1c3b-4493-9cce-38528ce301e1_37\", \"model_explain_best_run_child_id\": \"AutoML_667392a3-1c3b-4493-9cce-38528ce301e1_37\"}, \"end_time_utc\": \"2021-02-23T16:15:50.662467Z\", \"status\": \"Completed\", \"log_files\": {}, \"log_groups\": [], \"run_duration\": \"0:23:25\"}, \"child_runs\": [{\"run_id\": \"AutoML_667392a3-1c3b-4493-9cce-38528ce301e1_0\", \"run_number\": 5, \"metric\": null, \"status\": \"Completed\", \"run_type\": \"azureml.scriptrun\", \"training_percent\": \"100\", \"start_time\": \"2021-02-23T16:01:52.648556Z\", \"end_time\": \"2021-02-23T16:02:46.317402Z\", \"created_time\": \"2021-02-23T16:01:41.908588Z\", \"created_time_dt\": \"2021-02-23T16:01:41.908588Z\", \"duration\": \"0:01:04\", \"iteration\": \"0\", \"goal\": \"accuracy_max\", \"run_name\": \"MaxAbsScaler, LightGBM\", \"run_properties\": \"copy=True\", \"primary_metric\": 0.8162963, \"best_metric\": 0.8162963}, {\"run_id\": \"AutoML_667392a3-1c3b-4493-9cce-38528ce301e1_2\", \"run_number\": 6, \"metric\": null, \"status\": \"Completed\", \"run_type\": \"azureml.scriptrun\", \"training_percent\": \"100\", \"start_time\": \"2021-02-23T16:03:48.582831Z\", \"end_time\": \"2021-02-23T16:04:40.025542Z\", \"created_time\": \"2021-02-23T16:01:42.020573Z\", \"created_time_dt\": \"2021-02-23T16:01:42.020573Z\", \"duration\": \"0:02:58\", \"iteration\": \"2\", \"goal\": \"accuracy_max\", \"run_name\": \"MinMaxScaler, RandomForest\", \"run_properties\": \"copy=True, feature_range=(0, 1\", \"primary_metric\": 0.82740741, \"best_metric\": 0.82740741}, {\"run_id\": \"AutoML_667392a3-1c3b-4493-9cce-38528ce301e1_1\", \"run_number\": 7, \"metric\": null, \"status\": \"Completed\", \"run_type\": \"azureml.scriptrun\", \"training_percent\": \"100\", \"start_time\": \"2021-02-23T16:02:49.978235Z\", \"end_time\": \"2021-02-23T16:03:42.232513Z\", \"created_time\": \"2021-02-23T16:01:42.064455Z\", \"created_time_dt\": \"2021-02-23T16:01:42.064455Z\", \"duration\": \"0:02:00\", \"iteration\": \"1\", \"goal\": \"accuracy_max\", \"run_name\": \"MaxAbsScaler, XGBoostClassifier\", \"run_properties\": \"copy=True\", \"primary_metric\": 0.82006734, \"best_metric\": 0.82006734}, {\"run_id\": \"AutoML_667392a3-1c3b-4493-9cce-38528ce301e1_3\", \"run_number\": 8, \"metric\": null, \"status\": \"Completed\", \"run_type\": \"azureml.scriptrun\", \"training_percent\": \"100\", \"start_time\": \"2021-02-23T16:03:48.393138Z\", \"end_time\": \"2021-02-23T16:06:07.595764Z\", \"created_time\": \"2021-02-23T16:01:42.173834Z\", \"created_time_dt\": \"2021-02-23T16:01:42.173834Z\", \"duration\": \"0:04:25\", \"iteration\": \"3\", \"goal\": \"accuracy_max\", \"run_name\": \"MinMaxScaler, RandomForest\", \"run_properties\": \"copy=True, feature_range=(0, 1\", \"primary_metric\": 0.84208754, \"best_metric\": 0.84208754}, {\"run_id\": \"AutoML_667392a3-1c3b-4493-9cce-38528ce301e1_4\", \"run_number\": 9, \"metric\": null, \"status\": \"Completed\", \"run_type\": \"azureml.scriptrun\", \"training_percent\": \"100\", \"start_time\": \"2021-02-23T16:03:56.113367Z\", \"end_time\": \"2021-02-23T16:06:28.520925Z\", \"created_time\": \"2021-02-23T16:02:48.365424Z\", \"created_time_dt\": \"2021-02-23T16:02:48.365424Z\", \"duration\": \"0:03:40\", \"iteration\": \"4\", \"goal\": \"accuracy_max\", \"run_name\": \"MinMaxScaler, RandomForest\", \"run_properties\": \"copy=True, feature_range=(0, 1\", \"primary_metric\": 0.84215488, \"best_metric\": 0.84215488}, {\"run_id\": \"AutoML_667392a3-1c3b-4493-9cce-38528ce301e1_5\", \"run_number\": 10, \"metric\": null, \"status\": \"Completed\", \"run_type\": \"azureml.scriptrun\", \"training_percent\": \"100\", \"start_time\": \"2021-02-23T16:03:59.760568Z\", \"end_time\": \"2021-02-23T16:06:24.129347Z\", \"created_time\": \"2021-02-23T16:03:44.10813Z\", \"created_time_dt\": \"2021-02-23T16:03:44.10813Z\", \"duration\": \"0:02:40\", \"iteration\": \"5\", \"goal\": \"accuracy_max\", \"run_name\": \"MaxAbsScaler, LightGBM\", \"run_properties\": \"copy=True\", \"primary_metric\": 0.83461279, \"best_metric\": 0.84215488}, {\"run_id\": \"AutoML_667392a3-1c3b-4493-9cce-38528ce301e1_6\", \"run_number\": 11, \"metric\": null, \"status\": \"Completed\", \"run_type\": \"azureml.scriptrun\", \"training_percent\": \"100\", \"start_time\": \"2021-02-23T16:04:52.08702Z\", \"end_time\": \"2021-02-23T16:05:41.08856Z\", \"created_time\": \"2021-02-23T16:04:43.719782Z\", \"created_time_dt\": \"2021-02-23T16:04:43.719782Z\", \"duration\": \"0:00:57\", \"iteration\": \"6\", \"goal\": \"accuracy_max\", \"run_name\": \"StandardScalerWrapper, LightGBM\", \"run_properties\": \"<azureml.automl.runtime.shared.model_wrappers.StandardScalerWrapper object at 0x7f0a421e5e10\", \"primary_metric\": 0.83838384, \"best_metric\": 0.84215488}, {\"run_id\": \"AutoML_667392a3-1c3b-4493-9cce-38528ce301e1_7\", \"run_number\": 12, \"metric\": null, \"status\": \"Completed\", \"run_type\": \"azureml.scriptrun\", \"training_percent\": \"100\", \"start_time\": \"2021-02-23T16:05:56.671457Z\", \"end_time\": \"2021-02-23T16:06:53.232116Z\", \"created_time\": \"2021-02-23T16:05:44.035929Z\", \"created_time_dt\": \"2021-02-23T16:05:44.035929Z\", \"duration\": \"0:01:09\", \"iteration\": \"7\", \"goal\": \"accuracy_max\", \"run_name\": \"SparseNormalizer, XGBoostClassifier\", \"run_properties\": \"<azureml.automl.runtime.shared.model_wrappers.SparseNormalizer object at 0x7fe3324c6da0\", \"primary_metric\": 0.8383165, \"best_metric\": 0.84215488}, {\"run_id\": \"AutoML_667392a3-1c3b-4493-9cce-38528ce301e1_8\", \"run_number\": 13, \"metric\": null, \"status\": \"Completed\", \"run_type\": \"azureml.scriptrun\", \"training_percent\": \"100\", \"start_time\": \"2021-02-23T16:06:20.561359Z\", \"end_time\": \"2021-02-23T16:07:04.284751Z\", \"created_time\": \"2021-02-23T16:06:11.847845Z\", \"created_time_dt\": \"2021-02-23T16:06:11.847845Z\", \"duration\": \"0:00:52\", \"iteration\": \"8\", \"goal\": \"accuracy_max\", \"run_name\": \"MinMaxScaler, LogisticRegression\", \"run_properties\": \"copy=True, feature_range=(0, 1\", \"primary_metric\": 0.82377104, \"best_metric\": 0.84215488}, {\"run_id\": \"AutoML_667392a3-1c3b-4493-9cce-38528ce301e1_9\", \"run_number\": 14, \"metric\": null, \"status\": \"Completed\", \"run_type\": \"azureml.scriptrun\", \"training_percent\": \"100\", \"start_time\": \"2021-02-23T16:06:36.676317Z\", \"end_time\": \"2021-02-23T16:07:33.116105Z\", \"created_time\": \"2021-02-23T16:06:26.468381Z\", \"created_time_dt\": \"2021-02-23T16:06:26.468381Z\", \"duration\": \"0:01:06\", \"iteration\": \"9\", \"goal\": \"accuracy_max\", \"run_name\": \"MinMaxScaler, LogisticRegression\", \"run_properties\": \"copy=True, feature_range=(0, 1\", \"primary_metric\": 0.81643098, \"best_metric\": 0.84215488}, {\"run_id\": \"AutoML_667392a3-1c3b-4493-9cce-38528ce301e1_10\", \"run_number\": 15, \"metric\": null, \"status\": \"Completed\", \"run_type\": \"azureml.scriptrun\", \"training_percent\": \"100\", \"start_time\": \"2021-02-23T16:06:40.590221Z\", \"end_time\": \"2021-02-23T16:07:28.869869Z\", \"created_time\": \"2021-02-23T16:06:30.688112Z\", \"created_time_dt\": \"2021-02-23T16:06:30.688112Z\", \"duration\": \"0:00:58\", \"iteration\": \"10\", \"goal\": \"accuracy_max\", \"run_name\": \"MaxAbsScaler, GradientBoosting\", \"run_properties\": \"copy=True\", \"primary_metric\": 0.8420202, \"best_metric\": 0.84215488}, {\"run_id\": \"AutoML_667392a3-1c3b-4493-9cce-38528ce301e1_11\", \"run_number\": 16, \"metric\": null, \"status\": \"Completed\", \"run_type\": \"azureml.scriptrun\", \"training_percent\": \"100\", \"start_time\": \"2021-02-23T16:07:05.963463Z\", \"end_time\": \"2021-02-23T16:07:59.595684Z\", \"created_time\": \"2021-02-23T16:06:55.545354Z\", \"created_time_dt\": \"2021-02-23T16:06:55.545354Z\", \"duration\": \"0:01:04\", \"iteration\": \"11\", \"goal\": \"accuracy_max\", \"run_name\": \"SparseNormalizer, LightGBM\", \"run_properties\": \"<azureml.automl.runtime.shared.model_wrappers.SparseNormalizer object at 0x7efe7dab5c88\", \"primary_metric\": 0.79414141, \"best_metric\": 0.84215488}, {\"run_id\": \"AutoML_667392a3-1c3b-4493-9cce-38528ce301e1_12\", \"run_number\": 17, \"metric\": null, \"status\": \"Completed\", \"run_type\": \"azureml.scriptrun\", \"training_percent\": \"100\", \"start_time\": \"2021-02-23T16:07:18.62079Z\", \"end_time\": \"2021-02-23T16:08:09.654302Z\", \"created_time\": \"2021-02-23T16:07:07.288715Z\", \"created_time_dt\": \"2021-02-23T16:07:07.288715Z\", \"duration\": \"0:01:02\", \"iteration\": \"12\", \"goal\": \"accuracy_max\", \"run_name\": \"StandardScalerWrapper, RandomForest\", \"run_properties\": \"<azureml.automl.runtime.shared.model_wrappers.StandardScalerWrapper object at 0x7fb23c6e3860\", \"primary_metric\": 0.82707071, \"best_metric\": 0.84215488}, {\"run_id\": \"AutoML_667392a3-1c3b-4493-9cce-38528ce301e1_13\", \"run_number\": 18, \"metric\": null, \"status\": \"Completed\", \"run_type\": \"azureml.scriptrun\", \"training_percent\": \"100\", \"start_time\": \"2021-02-23T16:07:44.144019Z\", \"end_time\": \"2021-02-23T16:08:31.297412Z\", \"created_time\": \"2021-02-23T16:07:31.865819Z\", \"created_time_dt\": \"2021-02-23T16:07:31.865819Z\", \"duration\": \"0:00:59\", \"iteration\": \"13\", \"goal\": \"accuracy_max\", \"run_name\": \"MaxAbsScaler, LightGBM\", \"run_properties\": \"copy=True\", \"primary_metric\": 0.83084175, \"best_metric\": 0.84215488}, {\"run_id\": \"AutoML_667392a3-1c3b-4493-9cce-38528ce301e1_14\", \"run_number\": 19, \"metric\": null, \"status\": \"Completed\", \"run_type\": \"azureml.scriptrun\", \"training_percent\": \"100\", \"start_time\": \"2021-02-23T16:07:50.771044Z\", \"end_time\": \"2021-02-23T16:08:45.954847Z\", \"created_time\": \"2021-02-23T16:07:39.887519Z\", \"created_time_dt\": \"2021-02-23T16:07:39.887519Z\", \"duration\": \"0:01:06\", \"iteration\": \"14\", \"goal\": \"accuracy_max\", \"run_name\": \"StandardScalerWrapper, XGBoostClassifier\", \"run_properties\": \"<azureml.automl.runtime.shared.model_wrappers.StandardScalerWrapper object at 0x7ff067543e48\", \"primary_metric\": 0.80148148, \"best_metric\": 0.84215488}, {\"run_id\": \"AutoML_667392a3-1c3b-4493-9cce-38528ce301e1_15\", \"run_number\": 20, \"metric\": null, \"status\": \"Completed\", \"run_type\": \"azureml.scriptrun\", \"training_percent\": \"100\", \"start_time\": \"2021-02-23T16:08:11.98235Z\", \"end_time\": \"2021-02-23T16:09:10.92456Z\", \"created_time\": \"2021-02-23T16:08:02.944905Z\", \"created_time_dt\": \"2021-02-23T16:08:02.944905Z\", \"duration\": \"0:01:07\", \"iteration\": \"15\", \"goal\": \"accuracy_max\", \"run_name\": \"MinMaxScaler, LightGBM\", \"run_properties\": \"copy=True, feature_range=(0, 1\", \"primary_metric\": 0.81622896, \"best_metric\": 0.84215488}, {\"run_id\": \"AutoML_667392a3-1c3b-4493-9cce-38528ce301e1_16\", \"run_number\": 21, \"metric\": null, \"status\": \"Completed\", \"run_type\": \"azureml.scriptrun\", \"training_percent\": \"100\", \"start_time\": \"2021-02-23T16:08:23.220886Z\", \"end_time\": \"2021-02-23T16:09:14.352413Z\", \"created_time\": \"2021-02-23T16:08:13.08189Z\", \"created_time_dt\": \"2021-02-23T16:08:13.08189Z\", \"duration\": \"0:01:01\", \"iteration\": \"16\", \"goal\": \"accuracy_max\", \"run_name\": \"SparseNormalizer, XGBoostClassifier\", \"run_properties\": \"<azureml.automl.runtime.shared.model_wrappers.SparseNormalizer object at 0x7fa30a690b38\", \"primary_metric\": 0.83461279, \"best_metric\": 0.84215488}, {\"run_id\": \"AutoML_667392a3-1c3b-4493-9cce-38528ce301e1_17\", \"run_number\": 22, \"metric\": null, \"status\": \"Completed\", \"run_type\": \"azureml.scriptrun\", \"training_percent\": \"100\", \"start_time\": \"2021-02-23T16:08:43.205823Z\", \"end_time\": \"2021-02-23T16:09:34.351209Z\", \"created_time\": \"2021-02-23T16:08:33.616854Z\", \"created_time_dt\": \"2021-02-23T16:08:33.616854Z\", \"duration\": \"0:01:00\", \"iteration\": \"17\", \"goal\": \"accuracy_max\", \"run_name\": \"RobustScaler, ExtremeRandomTrees\", \"run_properties\": \"copy=True, quantile_range=[25, 75], with_centering=True,\\n             with_scaling=False\", \"primary_metric\": 0.84922559, \"best_metric\": 0.84922559}, {\"run_id\": \"AutoML_667392a3-1c3b-4493-9cce-38528ce301e1_18\", \"run_number\": 23, \"metric\": null, \"status\": \"Completed\", \"run_type\": \"azureml.scriptrun\", \"training_percent\": \"100\", \"start_time\": \"2021-02-23T16:08:57.026909Z\", \"end_time\": \"2021-02-23T16:09:46.950664Z\", \"created_time\": \"2021-02-23T16:08:48.709477Z\", \"created_time_dt\": \"2021-02-23T16:08:48.709477Z\", \"duration\": \"0:00:58\", \"iteration\": \"18\", \"goal\": \"accuracy_max\", \"run_name\": \"SparseNormalizer, XGBoostClassifier\", \"run_properties\": \"<azureml.automl.runtime.shared.model_wrappers.SparseNormalizer object at 0x7f9d0cb85240\", \"primary_metric\": 0.81616162, \"best_metric\": 0.84922559}, {\"run_id\": \"AutoML_667392a3-1c3b-4493-9cce-38528ce301e1_19\", \"run_number\": 24, \"metric\": null, \"status\": \"Completed\", \"run_type\": \"azureml.scriptrun\", \"training_percent\": \"100\", \"start_time\": \"2021-02-23T16:09:20.817101Z\", \"end_time\": \"2021-02-23T16:10:19.859867Z\", \"created_time\": \"2021-02-23T16:09:13.266774Z\", \"created_time_dt\": \"2021-02-23T16:09:13.266774Z\", \"duration\": \"0:01:06\", \"iteration\": \"19\", \"goal\": \"accuracy_max\", \"run_name\": \"StandardScalerWrapper, LightGBM\", \"run_properties\": \"<azureml.automl.runtime.shared.model_wrappers.StandardScalerWrapper object at 0x7f7a189d2748\", \"primary_metric\": 0.84942761, \"best_metric\": 0.84942761}, {\"run_id\": \"AutoML_667392a3-1c3b-4493-9cce-38528ce301e1_20\", \"run_number\": 25, \"metric\": null, \"status\": \"Completed\", \"run_type\": \"azureml.scriptrun\", \"training_percent\": \"100\", \"start_time\": \"2021-02-23T16:09:27.220864Z\", \"end_time\": \"2021-02-23T16:10:15.082244Z\", \"created_time\": \"2021-02-23T16:09:17.087029Z\", \"created_time_dt\": \"2021-02-23T16:09:17.087029Z\", \"duration\": \"0:00:57\", \"iteration\": \"20\", \"goal\": \"accuracy_max\", \"run_name\": \"StandardScalerWrapper, XGBoostClassifier\", \"run_properties\": \"<azureml.automl.runtime.shared.model_wrappers.StandardScalerWrapper object at 0x7f01621e25f8\", \"primary_metric\": 0.82356902, \"best_metric\": 0.84942761}, {\"run_id\": \"AutoML_667392a3-1c3b-4493-9cce-38528ce301e1_21\", \"run_number\": 26, \"metric\": null, \"status\": \"Completed\", \"run_type\": \"azureml.scriptrun\", \"training_percent\": \"100\", \"start_time\": \"2021-02-23T16:09:46.423442Z\", \"end_time\": \"2021-02-23T16:10:37.008696Z\", \"created_time\": \"2021-02-23T16:09:36.850285Z\", \"created_time_dt\": \"2021-02-23T16:09:36.850285Z\", \"duration\": \"0:01:00\", \"iteration\": \"21\", \"goal\": \"accuracy_max\", \"run_name\": \"StandardScalerWrapper, LightGBM\", \"run_properties\": \"<azureml.automl.runtime.shared.model_wrappers.StandardScalerWrapper object at 0x7f2aa45fe780\", \"primary_metric\": 0.81622896, \"best_metric\": 0.84942761}, {\"run_id\": \"AutoML_667392a3-1c3b-4493-9cce-38528ce301e1_22\", \"run_number\": 27, \"metric\": null, \"status\": \"Completed\", \"run_type\": \"azureml.scriptrun\", \"training_percent\": \"100\", \"start_time\": \"2021-02-23T16:10:00.180775Z\", \"end_time\": \"2021-02-23T16:10:54.651781Z\", \"created_time\": \"2021-02-23T16:09:50.339283Z\", \"created_time_dt\": \"2021-02-23T16:09:50.339283Z\", \"duration\": \"0:01:04\", \"iteration\": \"22\", \"goal\": \"accuracy_max\", \"run_name\": \"MinMaxScaler, LightGBM\", \"run_properties\": \"copy=True, feature_range=(0, 1\", \"primary_metric\": 0.83104377, \"best_metric\": 0.84942761}, {\"run_id\": \"AutoML_667392a3-1c3b-4493-9cce-38528ce301e1_23\", \"run_number\": 28, \"metric\": null, \"status\": \"Completed\", \"run_type\": \"azureml.scriptrun\", \"training_percent\": \"100\", \"start_time\": \"2021-02-23T16:10:25.222111Z\", \"end_time\": \"2021-02-23T16:11:12.054368Z\", \"created_time\": \"2021-02-23T16:10:17.662584Z\", \"created_time_dt\": \"2021-02-23T16:10:17.662584Z\", \"duration\": \"0:00:54\", \"iteration\": \"23\", \"goal\": \"accuracy_max\", \"run_name\": \"MaxAbsScaler, ExtremeRandomTrees\", \"run_properties\": \"copy=True\", \"primary_metric\": 0.83845118, \"best_metric\": 0.84942761}, {\"run_id\": \"AutoML_667392a3-1c3b-4493-9cce-38528ce301e1_24\", \"run_number\": 29, \"metric\": null, \"status\": \"Completed\", \"run_type\": \"azureml.scriptrun\", \"training_percent\": \"100\", \"start_time\": \"2021-02-23T16:10:30.111647Z\", \"end_time\": \"2021-02-23T16:11:23.662628Z\", \"created_time\": \"2021-02-23T16:10:22.008256Z\", \"created_time_dt\": \"2021-02-23T16:10:22.008256Z\", \"duration\": \"0:01:01\", \"iteration\": \"24\", \"goal\": \"accuracy_max\", \"run_name\": \"MaxAbsScaler, LightGBM\", \"run_properties\": \"copy=True\", \"primary_metric\": 0.83097643, \"best_metric\": 0.84942761}, {\"run_id\": \"AutoML_667392a3-1c3b-4493-9cce-38528ce301e1_25\", \"run_number\": 30, \"metric\": null, \"status\": \"Completed\", \"run_type\": \"azureml.scriptrun\", \"training_percent\": \"100\", \"start_time\": \"2021-02-23T16:10:54.350518Z\", \"end_time\": \"2021-02-23T16:11:43.645009Z\", \"created_time\": \"2021-02-23T16:10:40.748883Z\", \"created_time_dt\": \"2021-02-23T16:10:40.748883Z\", \"duration\": \"0:01:02\", \"iteration\": \"25\", \"goal\": \"accuracy_max\", \"run_name\": \"MinMaxScaler, LightGBM\", \"run_properties\": \"copy=True, feature_range=(0, 1\", \"primary_metric\": 0.67986532, \"best_metric\": 0.84942761}, {\"run_id\": \"AutoML_667392a3-1c3b-4493-9cce-38528ce301e1_26\", \"run_number\": 31, \"metric\": null, \"status\": \"Completed\", \"run_type\": \"azureml.scriptrun\", \"training_percent\": \"100\", \"start_time\": \"2021-02-23T16:11:07.17754Z\", \"end_time\": \"2021-02-23T16:11:57.565637Z\", \"created_time\": \"2021-02-23T16:10:57.40422Z\", \"created_time_dt\": \"2021-02-23T16:10:57.40422Z\", \"duration\": \"0:01:00\", \"iteration\": \"26\", \"goal\": \"accuracy_max\", \"run_name\": \"StandardScalerWrapper, ExtremeRandomTrees\", \"run_properties\": \"<azureml.automl.runtime.shared.model_wrappers.StandardScalerWrapper object at 0x7f8d76e76358\", \"primary_metric\": 0.73885522, \"best_metric\": 0.84942761}, {\"run_id\": \"AutoML_667392a3-1c3b-4493-9cce-38528ce301e1_27\", \"run_number\": 32, \"metric\": null, \"status\": \"Completed\", \"run_type\": \"azureml.scriptrun\", \"training_percent\": \"100\", \"start_time\": \"2021-02-23T16:11:26.821894Z\", \"end_time\": \"2021-02-23T16:12:20.065951Z\", \"created_time\": \"2021-02-23T16:11:17.272718Z\", \"created_time_dt\": \"2021-02-23T16:11:17.272718Z\", \"duration\": \"0:01:02\", \"iteration\": \"27\", \"goal\": \"accuracy_max\", \"run_name\": \"StandardScalerWrapper, LightGBM\", \"run_properties\": \"<azureml.automl.runtime.shared.model_wrappers.StandardScalerWrapper object at 0x7f6524262748\", \"primary_metric\": 0.83845118, \"best_metric\": 0.84942761}, {\"run_id\": \"AutoML_667392a3-1c3b-4493-9cce-38528ce301e1_28\", \"run_number\": 33, \"metric\": null, \"status\": \"Completed\", \"run_type\": \"azureml.scriptrun\", \"training_percent\": \"100\", \"start_time\": \"2021-02-23T16:11:36.000523Z\", \"end_time\": \"2021-02-23T16:12:29.383897Z\", \"created_time\": \"2021-02-23T16:11:26.077897Z\", \"created_time_dt\": \"2021-02-23T16:11:26.077897Z\", \"duration\": \"0:01:03\", \"iteration\": \"28\", \"goal\": \"accuracy_max\", \"run_name\": \"StandardScalerWrapper, XGBoostClassifier\", \"run_properties\": \"<azureml.automl.runtime.shared.model_wrappers.StandardScalerWrapper object at 0x7fbd99b1e588\", \"primary_metric\": 0.83461279, \"best_metric\": 0.84942761}, {\"run_id\": \"AutoML_667392a3-1c3b-4493-9cce-38528ce301e1_29\", \"run_number\": 34, \"metric\": null, \"status\": \"Completed\", \"run_type\": \"azureml.scriptrun\", \"training_percent\": \"100\", \"start_time\": \"2021-02-23T16:11:53.693209Z\", \"end_time\": \"2021-02-23T16:12:52.349017Z\", \"created_time\": \"2021-02-23T16:11:46.166008Z\", \"created_time_dt\": \"2021-02-23T16:11:46.166008Z\", \"duration\": \"0:01:06\", \"iteration\": \"29\", \"goal\": \"accuracy_max\", \"run_name\": \"MinMaxScaler, LogisticRegression\", \"run_properties\": \"copy=True, feature_range=(0, 1\", \"primary_metric\": 0.81643098, \"best_metric\": 0.84942761}, {\"run_id\": \"AutoML_667392a3-1c3b-4493-9cce-38528ce301e1_30\", \"run_number\": 35, \"metric\": null, \"status\": \"Completed\", \"run_type\": \"azureml.scriptrun\", \"training_percent\": \"100\", \"start_time\": \"2021-02-23T16:12:10.077689Z\", \"end_time\": \"2021-02-23T16:13:03.053877Z\", \"created_time\": \"2021-02-23T16:12:01.092664Z\", \"created_time_dt\": \"2021-02-23T16:12:01.092664Z\", \"duration\": \"0:01:01\", \"iteration\": \"30\", \"goal\": \"accuracy_max\", \"run_name\": \"SparseNormalizer, LightGBM\", \"run_properties\": \"<azureml.automl.runtime.shared.model_wrappers.SparseNormalizer object at 0x7f3e544524e0\", \"primary_metric\": 0.82363636, \"best_metric\": 0.84942761}, {\"run_id\": \"AutoML_667392a3-1c3b-4493-9cce-38528ce301e1_31\", \"run_number\": 36, \"metric\": null, \"status\": \"Completed\", \"run_type\": \"azureml.scriptrun\", \"training_percent\": \"100\", \"start_time\": \"2021-02-23T16:12:31.410292Z\", \"end_time\": \"2021-02-23T16:13:21.184657Z\", \"created_time\": \"2021-02-23T16:12:22.399152Z\", \"created_time_dt\": \"2021-02-23T16:12:22.399152Z\", \"duration\": \"0:00:58\", \"iteration\": \"31\", \"goal\": \"accuracy_max\", \"run_name\": \"StandardScalerWrapper, XGBoostClassifier\", \"run_properties\": \"<azureml.automl.runtime.shared.model_wrappers.StandardScalerWrapper object at 0x7feaca860b70\", \"primary_metric\": 0.82363636, \"best_metric\": 0.84942761}, {\"run_id\": \"AutoML_667392a3-1c3b-4493-9cce-38528ce301e1_32\", \"run_number\": 37, \"metric\": null, \"status\": \"Completed\", \"run_type\": \"azureml.scriptrun\", \"training_percent\": \"100\", \"start_time\": \"2021-02-23T16:12:41.335105Z\", \"end_time\": \"2021-02-23T16:13:30.866124Z\", \"created_time\": \"2021-02-23T16:12:32.30599Z\", \"created_time_dt\": \"2021-02-23T16:12:32.30599Z\", \"duration\": \"0:00:58\", \"iteration\": \"32\", \"goal\": \"accuracy_max\", \"run_name\": \"SparseNormalizer, RandomForest\", \"run_properties\": \"<azureml.automl.runtime.shared.model_wrappers.SparseNormalizer object at 0x7fdff40209e8\", \"primary_metric\": 0.80518519, \"best_metric\": 0.84942761}, {\"run_id\": \"AutoML_667392a3-1c3b-4493-9cce-38528ce301e1_33\", \"run_number\": 38, \"metric\": null, \"status\": \"Completed\", \"run_type\": \"azureml.scriptrun\", \"training_percent\": \"100\", \"start_time\": \"2021-02-23T16:13:02.886407Z\", \"end_time\": \"2021-02-23T16:13:51.971397Z\", \"created_time\": \"2021-02-23T16:12:54.600954Z\", \"created_time_dt\": \"2021-02-23T16:12:54.600954Z\", \"duration\": \"0:00:57\", \"iteration\": \"33\", \"goal\": \"accuracy_max\", \"run_name\": \"StandardScalerWrapper, GradientBoosting\", \"run_properties\": \"<azureml.automl.runtime.shared.model_wrappers.StandardScalerWrapper object at 0x7f95e85566a0\", \"primary_metric\": 0.83097643, \"best_metric\": 0.84942761}, {\"run_id\": \"AutoML_667392a3-1c3b-4493-9cce-38528ce301e1_34\", \"run_number\": 39, \"metric\": null, \"status\": \"Canceled\", \"run_type\": \"azureml.scriptrun\", \"training_percent\": \"100\", \"start_time\": \"2021-02-23T16:13:15.9744Z\", \"end_time\": \"2021-02-23T16:14:00.388623Z\", \"created_time\": \"2021-02-23T16:13:06.018983Z\", \"created_time_dt\": \"2021-02-23T16:13:06.018983Z\", \"duration\": \"0:00:54\", \"iteration\": \"34\", \"goal\": \"accuracy_max\", \"run_name\": \"RobustScaler, RandomForest\", \"run_properties\": \"copy=True, quantile_range=[10, 90], with_centering=True,\\n             with_scaling=False\", \"primary_metric\": 0.82, \"best_metric\": 0.84942761}, {\"run_id\": \"AutoML_667392a3-1c3b-4493-9cce-38528ce301e1_35\", \"run_number\": 40, \"metric\": null, \"status\": \"Canceled\", \"run_type\": \"azureml.scriptrun\", \"training_percent\": \"100\", \"start_time\": \"2021-02-23T16:13:34.006342Z\", \"end_time\": \"2021-02-23T16:14:00.609871Z\", \"created_time\": \"2021-02-23T16:13:24.669421Z\", \"created_time_dt\": \"2021-02-23T16:13:24.669421Z\", \"duration\": \"0:00:35\", \"iteration\": \"35\", \"goal\": null, \"run_name\": \"Canceled\", \"run_properties\": null}, {\"run_id\": \"AutoML_667392a3-1c3b-4493-9cce-38528ce301e1_36\", \"run_number\": 41, \"metric\": null, \"status\": \"Canceled\", \"run_type\": \"azureml.scriptrun\", \"training_percent\": \"100\", \"start_time\": \"2021-02-23T16:13:41.122175Z\", \"end_time\": \"2021-02-23T16:13:59.388286Z\", \"created_time\": \"2021-02-23T16:13:33.305654Z\", \"created_time_dt\": \"2021-02-23T16:13:33.305654Z\", \"duration\": \"0:00:26\", \"iteration\": \"36\", \"goal\": null, \"run_name\": \"Canceled\", \"run_properties\": null}, {\"run_id\": \"AutoML_667392a3-1c3b-4493-9cce-38528ce301e1_37\", \"run_number\": 42, \"metric\": null, \"status\": \"Completed\", \"run_type\": \"azureml.scriptrun\", \"training_percent\": \"100\", \"start_time\": \"2021-02-23T16:14:12.19424Z\", \"end_time\": \"2021-02-23T16:15:30.879322Z\", \"created_time\": \"2021-02-23T16:14:02.814519Z\", \"created_time_dt\": \"2021-02-23T16:14:02.814519Z\", \"duration\": \"0:01:28\", \"iteration\": \"37\", \"goal\": \"accuracy_max\", \"run_name\": \"VotingEnsemble\", \"run_properties\": \"classification_labels=None,\\n                              estimators=[('19',\\n                                           Pipeline(memory=None,\\n                                                    steps=[('standardscalerwrapper',\\n                                                            <azureml.automl.runtime.shared.model_wrappers.StandardScalerWrapper object at 0x7fe58c404390>\", \"primary_metric\": 0.86047138, \"best_metric\": 0.86047138}, {\"run_id\": \"AutoML_667392a3-1c3b-4493-9cce-38528ce301e1_38\", \"run_number\": 43, \"metric\": null, \"status\": \"Completed\", \"run_type\": \"azureml.scriptrun\", \"training_percent\": \"100\", \"start_time\": \"2021-02-23T16:14:11.700435Z\", \"end_time\": \"2021-02-23T16:15:28.964176Z\", \"created_time\": \"2021-02-23T16:14:02.946718Z\", \"created_time_dt\": \"2021-02-23T16:14:02.946718Z\", \"duration\": \"0:01:26\", \"iteration\": \"38\", \"goal\": \"accuracy_max\", \"run_name\": \"StackEnsemble\", \"run_properties\": \"base_learners=[('19',\\n                                        Pipeline(memory=None,\\n                                                 steps=[('standardscalerwrapper',\\n                                                         <azureml.automl.runtime.shared.model_wrappers.StandardScalerWrapper object at 0x7f8da41618d0>\", \"primary_metric\": 0.84936027, \"best_metric\": 0.86047138}], \"children_metrics\": {\"categories\": [0], \"series\": {\"balanced_accuracy\": [{\"categories\": [\"0\", \"1\", \"2\", \"3\", \"4\", \"5\", \"6\", \"7\", \"8\", \"9\", \"10\", \"11\", \"12\", \"13\", \"14\", \"15\", \"16\", \"17\", \"18\", \"19\", \"20\", \"21\", \"22\", \"23\", \"24\", \"25\", \"26\", \"27\", \"28\", \"29\", \"30\", \"31\", \"32\", \"33\", \"34\", \"37\", \"38\"], \"mode\": \"markers\", \"name\": \"balanced_accuracy\", \"stepped\": false, \"type\": \"scatter\", \"data\": [0.774498941151328, 0.7841564181772259, 0.7896910396145402, 0.7843703736084398, 0.821373394727128, 0.8040175050028171, 0.8001578558800102, 0.7801807814108915, 0.770671591770123, 0.777155534184298, 0.8028019661556993, 0.7441261098482641, 0.7773027044355073, 0.76906335606458, 0.7331057780109187, 0.7568380738668378, 0.7907729109595694, 0.7803018204425792, 0.7633668959219755, 0.8099834372753589, 0.7757781566318899, 0.7668391424297176, 0.7937689669911212, 0.801452759806493, 0.7967451574673118, 0.5, 0.6058688387635757, 0.7977372209593752, 0.7824677488294378, 0.777155534184298, 0.7593474480775583, 0.7894049561889219, 0.7257363369664471, 0.7836499193720736, 0.7769926269161275, 0.8219132618367624, 0.8095730605583726]}, {\"categories\": [\"0\", \"1\", \"2\", \"3\", \"4\", \"5\", \"6\", \"7\", \"8\", \"9\", \"10\", \"11\", \"12\", \"13\", \"14\", \"15\", \"16\", \"17\", \"18\", \"19\", \"20\", \"21\", \"22\", \"23\", \"24\", \"25\", \"26\", \"27\", \"28\", \"29\", \"30\", \"31\", \"32\", \"33\", \"34\", \"37\", \"38\"], \"mode\": \"lines\", \"name\": \"balanced_accuracy_max\", \"stepped\": true, \"type\": \"scatter\", \"data\": [0.774498941151328, 0.7841564181772259, 0.7896910396145402, 0.7896910396145402, 0.821373394727128, 0.821373394727128, 0.821373394727128, 0.821373394727128, 0.821373394727128, 0.821373394727128, 0.821373394727128, 0.821373394727128, 0.821373394727128, 0.821373394727128, 0.821373394727128, 0.821373394727128, 0.821373394727128, 0.821373394727128, 0.821373394727128, 0.821373394727128, 0.821373394727128, 0.821373394727128, 0.821373394727128, 0.821373394727128, 0.821373394727128, 0.821373394727128, 0.821373394727128, 0.821373394727128, 0.821373394727128, 0.821373394727128, 0.821373394727128, 0.821373394727128, 0.821373394727128, 0.821373394727128, 0.821373394727128, 0.8219132618367624, 0.8219132618367624]}], \"average_precision_score_weighted\": [{\"categories\": [\"0\", \"1\", \"2\", \"3\", \"4\", \"5\", \"6\", \"7\", \"8\", \"9\", \"10\", \"11\", \"12\", \"13\", \"14\", \"15\", \"16\", \"17\", \"18\", \"19\", \"20\", \"21\", \"22\", \"23\", \"24\", \"25\", \"26\", \"27\", \"28\", \"29\", \"30\", \"31\", \"32\", \"33\", \"34\", \"37\", \"38\"], \"mode\": \"markers\", \"name\": \"average_precision_score_weighted\", \"stepped\": false, \"type\": \"scatter\", \"data\": [0.8999084769664714, 0.9102602798333823, 0.89599921813839, 0.9021567970625883, 0.906791058285932, 0.9142373216032785, 0.917997294697442, 0.901646959009313, 0.8853026812807494, 0.8857699678792315, 0.9149823756121304, 0.8763485746794395, 0.9136038724860004, 0.871708031220202, 0.902963453892955, 0.9193111139248591, 0.8962017032142899, 0.9086832491120147, 0.8942455637667133, 0.9133493703654503, 0.9014078072074762, 0.9116387483932835, 0.9027392717777758, 0.9016046205230452, 0.9139405834844858, 0.9134488064062092, 0.8926516768700686, 0.9166373200844445, 0.8965486950744032, 0.8857699678792315, 0.8928203641009935, 0.9080183886181732, 0.8890749707061335, 0.9287867109250477, 0.9043237043901419, 0.9218768392530732, 0.9232779744880905]}, {\"categories\": [\"0\", \"1\", \"2\", \"3\", \"4\", \"5\", \"6\", \"7\", \"8\", \"9\", \"10\", \"11\", \"12\", \"13\", \"14\", \"15\", \"16\", \"17\", \"18\", \"19\", \"20\", \"21\", \"22\", \"23\", \"24\", \"25\", \"26\", \"27\", \"28\", \"29\", \"30\", \"31\", \"32\", \"33\", \"34\", \"37\", \"38\"], \"mode\": \"lines\", \"name\": \"average_precision_score_weighted_max\", \"stepped\": true, \"type\": \"scatter\", \"data\": [0.8999084769664714, 0.9102602798333823, 0.9102602798333823, 0.9102602798333823, 0.9102602798333823, 0.9142373216032785, 0.917997294697442, 0.917997294697442, 0.917997294697442, 0.917997294697442, 0.917997294697442, 0.917997294697442, 0.917997294697442, 0.917997294697442, 0.917997294697442, 0.9193111139248591, 0.9193111139248591, 0.9193111139248591, 0.9193111139248591, 0.9193111139248591, 0.9193111139248591, 0.9193111139248591, 0.9193111139248591, 0.9193111139248591, 0.9193111139248591, 0.9193111139248591, 0.9193111139248591, 0.9193111139248591, 0.9193111139248591, 0.9193111139248591, 0.9193111139248591, 0.9193111139248591, 0.9193111139248591, 0.9287867109250477, 0.9287867109250477, 0.9287867109250477, 0.9287867109250477]}], \"AUC_weighted\": [{\"categories\": [\"0\", \"1\", \"2\", \"3\", \"4\", \"5\", \"6\", \"7\", \"8\", \"9\", \"10\", \"11\", \"12\", \"13\", \"14\", \"15\", \"16\", \"17\", \"18\", \"19\", \"20\", \"21\", \"22\", \"23\", \"24\", \"25\", \"26\", \"27\", \"28\", \"29\", \"30\", \"31\", \"32\", \"33\", \"34\", \"37\", \"38\"], \"mode\": \"markers\", \"name\": \"AUC_weighted\", \"stepped\": false, \"type\": \"scatter\", \"data\": [0.8805626577209604, 0.8893422725634068, 0.8756005485289451, 0.8768815665347693, 0.88536580469261, 0.8968075766504979, 0.8989545029671507, 0.8881097824233279, 0.8629432161368106, 0.8639445081264746, 0.8973455494895723, 0.8535572458277476, 0.8940446616109611, 0.8699557059099081, 0.889908443589594, 0.8993876487083341, 0.8817570519753302, 0.8906572795036688, 0.881440152923221, 0.8958225181817591, 0.8787474392268353, 0.8916088347483697, 0.8860465008343426, 0.8814913342068925, 0.8954826828052044, 0.8932399312234074, 0.8710236778423234, 0.8981182769585463, 0.8862413651484438, 0.8639445081264746, 0.8697452233080547, 0.8889234175015488, 0.867214067684284, 0.9109667094091819, 0.8906502636867794, 0.9030418909029679, 0.9053115616344911]}, {\"categories\": [\"0\", \"1\", \"2\", \"3\", \"4\", \"5\", \"6\", \"7\", \"8\", \"9\", \"10\", \"11\", \"12\", \"13\", \"14\", \"15\", \"16\", \"17\", \"18\", \"19\", \"20\", \"21\", \"22\", \"23\", \"24\", \"25\", \"26\", \"27\", \"28\", \"29\", \"30\", \"31\", \"32\", \"33\", \"34\", \"37\", \"38\"], \"mode\": \"lines\", \"name\": \"AUC_weighted_max\", \"stepped\": true, \"type\": \"scatter\", \"data\": [0.8805626577209604, 0.8893422725634068, 0.8893422725634068, 0.8893422725634068, 0.8893422725634068, 0.8968075766504979, 0.8989545029671507, 0.8989545029671507, 0.8989545029671507, 0.8989545029671507, 0.8989545029671507, 0.8989545029671507, 0.8989545029671507, 0.8989545029671507, 0.8989545029671507, 0.8993876487083341, 0.8993876487083341, 0.8993876487083341, 0.8993876487083341, 0.8993876487083341, 0.8993876487083341, 0.8993876487083341, 0.8993876487083341, 0.8993876487083341, 0.8993876487083341, 0.8993876487083341, 0.8993876487083341, 0.8993876487083341, 0.8993876487083341, 0.8993876487083341, 0.8993876487083341, 0.8993876487083341, 0.8993876487083341, 0.9109667094091819, 0.9109667094091819, 0.9109667094091819, 0.9109667094091819]}], \"AUC_micro\": [{\"categories\": [\"0\", \"1\", \"2\", \"3\", \"4\", \"5\", \"6\", \"7\", \"8\", \"9\", \"10\", \"11\", \"12\", \"13\", \"14\", \"15\", \"16\", \"17\", \"18\", \"19\", \"20\", \"21\", \"22\", \"23\", \"24\", \"25\", \"26\", \"27\", \"28\", \"29\", \"30\", \"31\", \"32\", \"33\", \"34\", \"37\", \"38\"], \"mode\": \"markers\", \"name\": \"AUC_micro\", \"stepped\": false, \"type\": \"scatter\", \"data\": [0.9039556507839336, 0.9072632951286149, 0.9039476470654921, 0.9055875250824744, 0.9139020281377184, 0.9149784262376854, 0.9179338616240973, 0.9090348377149724, 0.885489031731456, 0.8846499110068133, 0.9178825743404868, 0.8800502669795598, 0.916294573116122, 0.8850120282510854, 0.9055127934791234, 0.9065459306873448, 0.9047892165198561, 0.9079405276105612, 0.9024974322348059, 0.9156729585416453, 0.9018968132503484, 0.90814009908286, 0.9085269076851569, 0.9059789930732691, 0.913889058939564, 0.8473898128308901, 0.850962509494496, 0.9178634152977587, 0.9128683014204899, 0.8846499110068133, 0.8981115532428664, 0.9075036560895147, 0.8875386185083155, 0.9262965457039531, 0.9155197088732443, 0.9231365960389528, 0.9204765273384803]}, {\"categories\": [\"0\", \"1\", \"2\", \"3\", \"4\", \"5\", \"6\", \"7\", \"8\", \"9\", \"10\", \"11\", \"12\", \"13\", \"14\", \"15\", \"16\", \"17\", \"18\", \"19\", \"20\", \"21\", \"22\", \"23\", \"24\", \"25\", \"26\", \"27\", \"28\", \"29\", \"30\", \"31\", \"32\", \"33\", \"34\", \"37\", \"38\"], \"mode\": \"lines\", \"name\": \"AUC_micro_max\", \"stepped\": true, \"type\": \"scatter\", \"data\": [0.9039556507839336, 0.9072632951286149, 0.9072632951286149, 0.9072632951286149, 0.9139020281377184, 0.9149784262376854, 0.9179338616240973, 0.9179338616240973, 0.9179338616240973, 0.9179338616240973, 0.9179338616240973, 0.9179338616240973, 0.9179338616240973, 0.9179338616240973, 0.9179338616240973, 0.9179338616240973, 0.9179338616240973, 0.9179338616240973, 0.9179338616240973, 0.9179338616240973, 0.9179338616240973, 0.9179338616240973, 0.9179338616240973, 0.9179338616240973, 0.9179338616240973, 0.9179338616240973, 0.9179338616240973, 0.9179338616240973, 0.9179338616240973, 0.9179338616240973, 0.9179338616240973, 0.9179338616240973, 0.9179338616240973, 0.9262965457039531, 0.9262965457039531, 0.9262965457039531, 0.9262965457039531]}], \"precision_score_micro\": [{\"categories\": [\"0\", \"1\", \"2\", \"3\", \"4\", \"5\", \"6\", \"7\", \"8\", \"9\", \"10\", \"11\", \"12\", \"13\", \"14\", \"15\", \"16\", \"17\", \"18\", \"19\", \"20\", \"21\", \"22\", \"23\", \"24\", \"25\", \"26\", \"27\", \"28\", \"29\", \"30\", \"31\", \"32\", \"33\", \"34\", \"37\", \"38\"], \"mode\": \"markers\", \"name\": \"precision_score_micro\", \"stepped\": false, \"type\": \"scatter\", \"data\": [0.8162962962962963, 0.8200673400673402, 0.8274074074074074, 0.842087542087542, 0.8421548821548821, 0.8346127946127947, 0.8383838383838385, 0.8383164983164983, 0.8237710437710438, 0.8164309764309763, 0.8420202020202019, 0.7941414141414141, 0.8270707070707071, 0.8308417508417509, 0.8014814814814816, 0.8162289562289562, 0.8346127946127947, 0.8492255892255892, 0.8161616161616161, 0.8494276094276094, 0.8235690235690235, 0.8162289562289562, 0.831043771043771, 0.8384511784511786, 0.8309764309764308, 0.6798653198653198, 0.7388552188552188, 0.8384511784511786, 0.8346127946127947, 0.8164309764309763, 0.8236363636363636, 0.8236363636363636, 0.8051851851851852, 0.8309764309764309, 0.82, 0.8604713804713805, 0.8493602693602693]}, {\"categories\": [\"0\", \"1\", \"2\", \"3\", \"4\", \"5\", \"6\", \"7\", \"8\", \"9\", \"10\", \"11\", \"12\", \"13\", \"14\", \"15\", \"16\", \"17\", \"18\", \"19\", \"20\", \"21\", \"22\", \"23\", \"24\", \"25\", \"26\", \"27\", \"28\", \"29\", \"30\", \"31\", \"32\", \"33\", \"34\", \"37\", \"38\"], \"mode\": \"lines\", \"name\": \"precision_score_micro_max\", \"stepped\": true, \"type\": \"scatter\", \"data\": [0.8162962962962963, 0.8200673400673402, 0.8274074074074074, 0.842087542087542, 0.8421548821548821, 0.8421548821548821, 0.8421548821548821, 0.8421548821548821, 0.8421548821548821, 0.8421548821548821, 0.8421548821548821, 0.8421548821548821, 0.8421548821548821, 0.8421548821548821, 0.8421548821548821, 0.8421548821548821, 0.8421548821548821, 0.8492255892255892, 0.8492255892255892, 0.8494276094276094, 0.8494276094276094, 0.8494276094276094, 0.8494276094276094, 0.8494276094276094, 0.8494276094276094, 0.8494276094276094, 0.8494276094276094, 0.8494276094276094, 0.8494276094276094, 0.8494276094276094, 0.8494276094276094, 0.8494276094276094, 0.8494276094276094, 0.8494276094276094, 0.8494276094276094, 0.8604713804713805, 0.8604713804713805]}], \"average_precision_score_micro\": [{\"categories\": [\"0\", \"1\", \"2\", \"3\", \"4\", \"5\", \"6\", \"7\", \"8\", \"9\", \"10\", \"11\", \"12\", \"13\", \"14\", \"15\", \"16\", \"17\", \"18\", \"19\", \"20\", \"21\", \"22\", \"23\", \"24\", \"25\", \"26\", \"27\", \"28\", \"29\", \"30\", \"31\", \"32\", \"33\", \"34\", \"37\", \"38\"], \"mode\": \"markers\", \"name\": \"average_precision_score_micro\", \"stepped\": false, \"type\": \"scatter\", \"data\": [0.9048275451309735, 0.9105161932842851, 0.9045395726809999, 0.9079895633476134, 0.9146700953280051, 0.9182035486270781, 0.9203630678077847, 0.9096110878662875, 0.8891598889296413, 0.8884068044163784, 0.9193539792925003, 0.8832673399657693, 0.9185726720213305, 0.8779680878369474, 0.9017453600874241, 0.9105196555719453, 0.9042942288095324, 0.9108199671736893, 0.9018512360740468, 0.9177873380342643, 0.9025246189713965, 0.9130083503686791, 0.9095487430471181, 0.906866250482925, 0.9160587085816696, 0.8613885106177127, 0.8636806046413987, 0.9203895960014361, 0.9043328841921288, 0.8884068044163784, 0.9009408997994894, 0.910670618348362, 0.8932003796874415, 0.9304819344623028, 0.9168800944499991, 0.9250553530153294, 0.9227558981672923]}, {\"categories\": [\"0\", \"1\", \"2\", \"3\", \"4\", \"5\", \"6\", \"7\", \"8\", \"9\", \"10\", \"11\", \"12\", \"13\", \"14\", \"15\", \"16\", \"17\", \"18\", \"19\", \"20\", \"21\", \"22\", \"23\", \"24\", \"25\", \"26\", \"27\", \"28\", \"29\", \"30\", \"31\", \"32\", \"33\", \"34\", \"37\", \"38\"], \"mode\": \"lines\", \"name\": \"average_precision_score_micro_max\", \"stepped\": true, \"type\": \"scatter\", \"data\": [0.9048275451309735, 0.9105161932842851, 0.9105161932842851, 0.9105161932842851, 0.9146700953280051, 0.9182035486270781, 0.9203630678077847, 0.9203630678077847, 0.9203630678077847, 0.9203630678077847, 0.9203630678077847, 0.9203630678077847, 0.9203630678077847, 0.9203630678077847, 0.9203630678077847, 0.9203630678077847, 0.9203630678077847, 0.9203630678077847, 0.9203630678077847, 0.9203630678077847, 0.9203630678077847, 0.9203630678077847, 0.9203630678077847, 0.9203630678077847, 0.9203630678077847, 0.9203630678077847, 0.9203630678077847, 0.9203895960014361, 0.9203895960014361, 0.9203895960014361, 0.9203895960014361, 0.9203895960014361, 0.9203895960014361, 0.9304819344623028, 0.9304819344623028, 0.9304819344623028, 0.9304819344623028]}], \"average_precision_score_macro\": [{\"categories\": [\"0\", \"1\", \"2\", \"3\", \"4\", \"5\", \"6\", \"7\", \"8\", \"9\", \"10\", \"11\", \"12\", \"13\", \"14\", \"15\", \"16\", \"17\", \"18\", \"19\", \"20\", \"21\", \"22\", \"23\", \"24\", \"25\", \"26\", \"27\", \"28\", \"29\", \"30\", \"31\", \"32\", \"33\", \"34\", \"37\", \"38\"], \"mode\": \"markers\", \"name\": \"average_precision_score_macro\", \"stepped\": false, \"type\": \"scatter\", \"data\": [0.8657198243423604, 0.8818644283425847, 0.8652376211108515, 0.869701047147451, 0.876622764759629, 0.8852564052010541, 0.890046981024853, 0.8665125159794125, 0.8526818302819544, 0.8522338698629573, 0.8871883967166019, 0.8316783025782005, 0.8853617973756283, 0.8308406254671116, 0.8747903877453906, 0.8893007753016103, 0.8601590519237442, 0.8797870300316413, 0.8584384409915788, 0.8821308322936365, 0.8700813375178011, 0.8804714874734609, 0.871578092670687, 0.8728467494638845, 0.8861263225915217, 0.8877495626337664, 0.8593462227760875, 0.8869183880235486, 0.8662697195219812, 0.8522338698629573, 0.8547848398396253, 0.8751266894560707, 0.8473735008432133, 0.9010343319810181, 0.8713214717793172, 0.8946747057500417, 0.8960724051989686]}, {\"categories\": [\"0\", \"1\", \"2\", \"3\", \"4\", \"5\", \"6\", \"7\", \"8\", \"9\", \"10\", \"11\", \"12\", \"13\", \"14\", \"15\", \"16\", \"17\", \"18\", \"19\", \"20\", \"21\", \"22\", \"23\", \"24\", \"25\", \"26\", \"27\", \"28\", \"29\", \"30\", \"31\", \"32\", \"33\", \"34\", \"37\", \"38\"], \"mode\": \"lines\", \"name\": \"average_precision_score_macro_max\", \"stepped\": true, \"type\": \"scatter\", \"data\": [0.8657198243423604, 0.8818644283425847, 0.8818644283425847, 0.8818644283425847, 0.8818644283425847, 0.8852564052010541, 0.890046981024853, 0.890046981024853, 0.890046981024853, 0.890046981024853, 0.890046981024853, 0.890046981024853, 0.890046981024853, 0.890046981024853, 0.890046981024853, 0.890046981024853, 0.890046981024853, 0.890046981024853, 0.890046981024853, 0.890046981024853, 0.890046981024853, 0.890046981024853, 0.890046981024853, 0.890046981024853, 0.890046981024853, 0.890046981024853, 0.890046981024853, 0.890046981024853, 0.890046981024853, 0.890046981024853, 0.890046981024853, 0.890046981024853, 0.890046981024853, 0.9010343319810181, 0.9010343319810181, 0.9010343319810181, 0.9010343319810181]}], \"f1_score_micro\": [{\"categories\": [\"0\", \"1\", \"2\", \"3\", \"4\", \"5\", \"6\", \"7\", \"8\", \"9\", \"10\", \"11\", \"12\", \"13\", \"14\", \"15\", \"16\", \"17\", \"18\", \"19\", \"20\", \"21\", \"22\", \"23\", \"24\", \"25\", \"26\", \"27\", \"28\", \"29\", \"30\", \"31\", \"32\", \"33\", \"34\", \"37\", \"38\"], \"mode\": \"markers\", \"name\": \"f1_score_micro\", \"stepped\": false, \"type\": \"scatter\", \"data\": [0.8162962962962963, 0.8200673400673402, 0.8274074074074076, 0.842087542087542, 0.8421548821548821, 0.8346127946127947, 0.8383838383838385, 0.8383164983164983, 0.8237710437710438, 0.8164309764309765, 0.8420202020202021, 0.7941414141414141, 0.8270707070707071, 0.8308417508417509, 0.8014814814814816, 0.8162289562289564, 0.8346127946127947, 0.8492255892255892, 0.8161616161616161, 0.8494276094276094, 0.8235690235690235, 0.8162289562289562, 0.831043771043771, 0.8384511784511786, 0.8309764309764311, 0.6798653198653198, 0.7388552188552188, 0.8384511784511786, 0.8346127946127947, 0.8164309764309765, 0.8236363636363636, 0.8236363636363636, 0.8051851851851852, 0.8309764309764309, 0.8200000000000001, 0.8604713804713805, 0.8493602693602693]}, {\"categories\": [\"0\", \"1\", \"2\", \"3\", \"4\", \"5\", \"6\", \"7\", \"8\", \"9\", \"10\", \"11\", \"12\", \"13\", \"14\", \"15\", \"16\", \"17\", \"18\", \"19\", \"20\", \"21\", \"22\", \"23\", \"24\", \"25\", \"26\", \"27\", \"28\", \"29\", \"30\", \"31\", \"32\", \"33\", \"34\", \"37\", \"38\"], \"mode\": \"lines\", \"name\": \"f1_score_micro_max\", \"stepped\": true, \"type\": \"scatter\", \"data\": [0.8162962962962963, 0.8200673400673402, 0.8274074074074076, 0.842087542087542, 0.8421548821548821, 0.8421548821548821, 0.8421548821548821, 0.8421548821548821, 0.8421548821548821, 0.8421548821548821, 0.8421548821548821, 0.8421548821548821, 0.8421548821548821, 0.8421548821548821, 0.8421548821548821, 0.8421548821548821, 0.8421548821548821, 0.8492255892255892, 0.8492255892255892, 0.8494276094276094, 0.8494276094276094, 0.8494276094276094, 0.8494276094276094, 0.8494276094276094, 0.8494276094276094, 0.8494276094276094, 0.8494276094276094, 0.8494276094276094, 0.8494276094276094, 0.8494276094276094, 0.8494276094276094, 0.8494276094276094, 0.8494276094276094, 0.8494276094276094, 0.8494276094276094, 0.8604713804713805, 0.8604713804713805]}], \"f1_score_weighted\": [{\"categories\": [\"0\", \"1\", \"2\", \"3\", \"4\", \"5\", \"6\", \"7\", \"8\", \"9\", \"10\", \"11\", \"12\", \"13\", \"14\", \"15\", \"16\", \"17\", \"18\", \"19\", \"20\", \"21\", \"22\", \"23\", \"24\", \"25\", \"26\", \"27\", \"28\", \"29\", \"30\", \"31\", \"32\", \"33\", \"34\", \"37\", \"38\"], \"mode\": \"markers\", \"name\": \"f1_score_weighted\", \"stepped\": false, \"type\": \"scatter\", \"data\": [0.8141600182134129, 0.8192745912078294, 0.8262404513763629, 0.8365699816891299, 0.8433410349492743, 0.834635935557268, 0.836181342402481, 0.8304157535388988, 0.8186190099531254, 0.8143064179566156, 0.8411765268390013, 0.7880615235780428, 0.8223608470138443, 0.8219464683766236, 0.7901415844143778, 0.8087436055542773, 0.8297445457515769, 0.8384445343741568, 0.8107092678697617, 0.8467330400387864, 0.8199188137663439, 0.8116829331372808, 0.8292566124644175, 0.8369664164164717, 0.8293537162525784, 0.5529087685926591, 0.6767326726494414, 0.8362366795978738, 0.8287409427379517, 0.8143064179566156, 0.8135822877500754, 0.8231850595584355, 0.7889185844643316, 0.8273668633338257, 0.8177407203597064, 0.8582995589222854, 0.8458475603371397]}, {\"categories\": [\"0\", \"1\", \"2\", \"3\", \"4\", \"5\", \"6\", \"7\", \"8\", \"9\", \"10\", \"11\", \"12\", \"13\", \"14\", \"15\", \"16\", \"17\", \"18\", \"19\", \"20\", \"21\", \"22\", \"23\", \"24\", \"25\", \"26\", \"27\", \"28\", \"29\", \"30\", \"31\", \"32\", \"33\", \"34\", \"37\", \"38\"], \"mode\": \"lines\", \"name\": \"f1_score_weighted_max\", \"stepped\": true, \"type\": \"scatter\", \"data\": [0.8141600182134129, 0.8192745912078294, 0.8262404513763629, 0.8365699816891299, 0.8433410349492743, 0.8433410349492743, 0.8433410349492743, 0.8433410349492743, 0.8433410349492743, 0.8433410349492743, 0.8433410349492743, 0.8433410349492743, 0.8433410349492743, 0.8433410349492743, 0.8433410349492743, 0.8433410349492743, 0.8433410349492743, 0.8433410349492743, 0.8433410349492743, 0.8467330400387864, 0.8467330400387864, 0.8467330400387864, 0.8467330400387864, 0.8467330400387864, 0.8467330400387864, 0.8467330400387864, 0.8467330400387864, 0.8467330400387864, 0.8467330400387864, 0.8467330400387864, 0.8467330400387864, 0.8467330400387864, 0.8467330400387864, 0.8467330400387864, 0.8467330400387864, 0.8582995589222854, 0.8582995589222854]}], \"recall_score_macro\": [{\"categories\": [\"0\", \"1\", \"2\", \"3\", \"4\", \"5\", \"6\", \"7\", \"8\", \"9\", \"10\", \"11\", \"12\", \"13\", \"14\", \"15\", \"16\", \"17\", \"18\", \"19\", \"20\", \"21\", \"22\", \"23\", \"24\", \"25\", \"26\", \"27\", \"28\", \"29\", \"30\", \"31\", \"32\", \"33\", \"34\", \"37\", \"38\"], \"mode\": \"markers\", \"name\": \"recall_score_macro\", \"stepped\": false, \"type\": \"scatter\", \"data\": [0.774498941151328, 0.7841564181772259, 0.7896910396145402, 0.7843703736084398, 0.821373394727128, 0.8040175050028171, 0.8001578558800102, 0.7801807814108915, 0.770671591770123, 0.777155534184298, 0.8028019661556993, 0.7441261098482641, 0.7773027044355073, 0.76906335606458, 0.7331057780109187, 0.7568380738668378, 0.7907729109595694, 0.7803018204425792, 0.7633668959219755, 0.8099834372753589, 0.7757781566318899, 0.7668391424297176, 0.7937689669911212, 0.801452759806493, 0.7967451574673118, 0.5, 0.6058688387635757, 0.7977372209593752, 0.7824677488294378, 0.777155534184298, 0.7593474480775583, 0.7894049561889219, 0.7257363369664471, 0.7836499193720736, 0.7769926269161275, 0.8219132618367624, 0.8095730605583726]}, {\"categories\": [\"0\", \"1\", \"2\", \"3\", \"4\", \"5\", \"6\", \"7\", \"8\", \"9\", \"10\", \"11\", \"12\", \"13\", \"14\", \"15\", \"16\", \"17\", \"18\", \"19\", \"20\", \"21\", \"22\", \"23\", \"24\", \"25\", \"26\", \"27\", \"28\", \"29\", \"30\", \"31\", \"32\", \"33\", \"34\", \"37\", \"38\"], \"mode\": \"lines\", \"name\": \"recall_score_macro_max\", \"stepped\": true, \"type\": \"scatter\", \"data\": [0.774498941151328, 0.7841564181772259, 0.7896910396145402, 0.7896910396145402, 0.821373394727128, 0.821373394727128, 0.821373394727128, 0.821373394727128, 0.821373394727128, 0.821373394727128, 0.821373394727128, 0.821373394727128, 0.821373394727128, 0.821373394727128, 0.821373394727128, 0.821373394727128, 0.821373394727128, 0.821373394727128, 0.821373394727128, 0.821373394727128, 0.821373394727128, 0.821373394727128, 0.821373394727128, 0.821373394727128, 0.821373394727128, 0.821373394727128, 0.821373394727128, 0.821373394727128, 0.821373394727128, 0.821373394727128, 0.821373394727128, 0.821373394727128, 0.821373394727128, 0.821373394727128, 0.821373394727128, 0.8219132618367624, 0.8219132618367624]}], \"norm_macro_recall\": [{\"categories\": [\"0\", \"1\", \"2\", \"3\", \"4\", \"5\", \"6\", \"7\", \"8\", \"9\", \"10\", \"11\", \"12\", \"13\", \"14\", \"15\", \"16\", \"17\", \"18\", \"19\", \"20\", \"21\", \"22\", \"23\", \"24\", \"25\", \"26\", \"27\", \"28\", \"29\", \"30\", \"31\", \"32\", \"33\", \"34\", \"37\", \"38\"], \"mode\": \"markers\", \"name\": \"norm_macro_recall\", \"stepped\": false, \"type\": \"scatter\", \"data\": [0.5489978823026558, 0.5683128363544521, 0.5793820792290805, 0.5687407472168794, 0.6427467894542558, 0.6080350100056343, 0.6003157117600202, 0.5603615628217831, 0.5413431835402459, 0.5543110683685959, 0.6056039323113985, 0.4882522196965281, 0.5546054088710147, 0.5381267121291602, 0.4662115560218375, 0.5136761477336753, 0.581545821919139, 0.5606036408851587, 0.5267337918439509, 0.6199668745507179, 0.5515563132637796, 0.5336782848594355, 0.5875379339822423, 0.602905519612986, 0.5934903149346233, 0.0, 0.21173767752715125, 0.5954744419187503, 0.5649354976588759, 0.5543110683685959, 0.5186948961551165, 0.5788099123778438, 0.45147267393289414, 0.5672998387441472, 0.553985253832255, 0.6438265236735249, 0.6191461211167454]}, {\"categories\": [\"0\", \"1\", \"2\", \"3\", \"4\", \"5\", \"6\", \"7\", \"8\", \"9\", \"10\", \"11\", \"12\", \"13\", \"14\", \"15\", \"16\", \"17\", \"18\", \"19\", \"20\", \"21\", \"22\", \"23\", \"24\", \"25\", \"26\", \"27\", \"28\", \"29\", \"30\", \"31\", \"32\", \"33\", \"34\", \"37\", \"38\"], \"mode\": \"lines\", \"name\": \"norm_macro_recall_max\", \"stepped\": true, \"type\": \"scatter\", \"data\": [0.5489978823026558, 0.5683128363544521, 0.5793820792290805, 0.5793820792290805, 0.6427467894542558, 0.6427467894542558, 0.6427467894542558, 0.6427467894542558, 0.6427467894542558, 0.6427467894542558, 0.6427467894542558, 0.6427467894542558, 0.6427467894542558, 0.6427467894542558, 0.6427467894542558, 0.6427467894542558, 0.6427467894542558, 0.6427467894542558, 0.6427467894542558, 0.6427467894542558, 0.6427467894542558, 0.6427467894542558, 0.6427467894542558, 0.6427467894542558, 0.6427467894542558, 0.6427467894542558, 0.6427467894542558, 0.6427467894542558, 0.6427467894542558, 0.6427467894542558, 0.6427467894542558, 0.6427467894542558, 0.6427467894542558, 0.6427467894542558, 0.6427467894542558, 0.6438265236735249, 0.6438265236735249]}], \"precision_score_weighted\": [{\"categories\": [\"0\", \"1\", \"2\", \"3\", \"4\", \"5\", \"6\", \"7\", \"8\", \"9\", \"10\", \"11\", \"12\", \"13\", \"14\", \"15\", \"16\", \"17\", \"18\", \"19\", \"20\", \"21\", \"22\", \"23\", \"24\", \"25\", \"26\", \"27\", \"28\", \"29\", \"30\", \"31\", \"32\", \"33\", \"34\", \"37\", \"38\"], \"mode\": \"markers\", \"name\": \"precision_score_weighted\", \"stepped\": false, \"type\": \"scatter\", \"data\": [0.8245806662171411, 0.8279662045587439, 0.8285641224177809, 0.8394939874939874, 0.8479561404267285, 0.8407489219682202, 0.8436845366806608, 0.8425160666550534, 0.8259292055739718, 0.8201861349642566, 0.8452414776388197, 0.798555603451742, 0.8263333414961324, 0.8352485641368398, 0.8089870220891342, 0.8256141489862419, 0.8375373556381447, 0.8558707446481293, 0.8146196712050371, 0.8532408753284628, 0.8286803083542622, 0.82076223546803, 0.8358278781952674, 0.8438545259324475, 0.836638265671, 0.46829053724676617, 0.7932483467150133, 0.8429585698465928, 0.8400358014496302, 0.8201861349642566, 0.8284040683093974, 0.8297109574292236, 0.8032282213474902, 0.8392189555559261, 0.820529835115201, 0.865836471099383, 0.8582889413477648]}, {\"categories\": [\"0\", \"1\", \"2\", \"3\", \"4\", \"5\", \"6\", \"7\", \"8\", \"9\", \"10\", \"11\", \"12\", \"13\", \"14\", \"15\", \"16\", \"17\", \"18\", \"19\", \"20\", \"21\", \"22\", \"23\", \"24\", \"25\", \"26\", \"27\", \"28\", \"29\", \"30\", \"31\", \"32\", \"33\", \"34\", \"37\", \"38\"], \"mode\": \"lines\", \"name\": \"precision_score_weighted_max\", \"stepped\": true, \"type\": \"scatter\", \"data\": [0.8245806662171411, 0.8279662045587439, 0.8285641224177809, 0.8394939874939874, 0.8479561404267285, 0.8479561404267285, 0.8479561404267285, 0.8479561404267285, 0.8479561404267285, 0.8479561404267285, 0.8479561404267285, 0.8479561404267285, 0.8479561404267285, 0.8479561404267285, 0.8479561404267285, 0.8479561404267285, 0.8479561404267285, 0.8558707446481293, 0.8558707446481293, 0.8558707446481293, 0.8558707446481293, 0.8558707446481293, 0.8558707446481293, 0.8558707446481293, 0.8558707446481293, 0.8558707446481293, 0.8558707446481293, 0.8558707446481293, 0.8558707446481293, 0.8558707446481293, 0.8558707446481293, 0.8558707446481293, 0.8558707446481293, 0.8558707446481293, 0.8558707446481293, 0.865836471099383, 0.865836471099383]}], \"precision_score_macro\": [{\"categories\": [\"0\", \"1\", \"2\", \"3\", \"4\", \"5\", \"6\", \"7\", \"8\", \"9\", \"10\", \"11\", \"12\", \"13\", \"14\", \"15\", \"16\", \"17\", \"18\", \"19\", \"20\", \"21\", \"22\", \"23\", \"24\", \"25\", \"26\", \"27\", \"28\", \"29\", \"30\", \"31\", \"32\", \"33\", \"34\", \"37\", \"38\"], \"mode\": \"markers\", \"name\": \"precision_score_macro\", \"stepped\": false, \"type\": \"scatter\", \"data\": [0.7912489479105146, 0.7938034751449385, 0.7961379880282319, 0.8254040404040405, 0.8115119251187363, 0.8075699665831244, 0.8141367837588767, 0.8267963176031093, 0.8026779537321899, 0.7878753391059893, 0.8137523387408232, 0.763545948649186, 0.8052099335820266, 0.8212521980569496, 0.796345607751256, 0.8073422894934522, 0.810678619861726, 0.8592733921791051, 0.7835822158324174, 0.8258606645528795, 0.8017215197772192, 0.797865336442821, 0.80352101974393, 0.8157250403252492, 0.8038090947349612, 0.3399326599326599, 0.8232564102564103, 0.8124105140275761, 0.8200516562900464, 0.7878753391059893, 0.8083524260542669, 0.7940008108506561, 0.7794998043259225, 0.8133738047361282, 0.7883940855892074, 0.843074557456122, 0.8338880687410098]}, {\"categories\": [\"0\", \"1\", \"2\", \"3\", \"4\", \"5\", \"6\", \"7\", \"8\", \"9\", \"10\", \"11\", \"12\", \"13\", \"14\", \"15\", \"16\", \"17\", \"18\", \"19\", \"20\", \"21\", \"22\", \"23\", \"24\", \"25\", \"26\", \"27\", \"28\", \"29\", \"30\", \"31\", \"32\", \"33\", \"34\", \"37\", \"38\"], \"mode\": \"lines\", \"name\": \"precision_score_macro_max\", \"stepped\": true, \"type\": \"scatter\", \"data\": [0.7912489479105146, 0.7938034751449385, 0.7961379880282319, 0.8254040404040405, 0.8254040404040405, 0.8254040404040405, 0.8254040404040405, 0.8267963176031093, 0.8267963176031093, 0.8267963176031093, 0.8267963176031093, 0.8267963176031093, 0.8267963176031093, 0.8267963176031093, 0.8267963176031093, 0.8267963176031093, 0.8267963176031093, 0.8592733921791051, 0.8592733921791051, 0.8592733921791051, 0.8592733921791051, 0.8592733921791051, 0.8592733921791051, 0.8592733921791051, 0.8592733921791051, 0.8592733921791051, 0.8592733921791051, 0.8592733921791051, 0.8592733921791051, 0.8592733921791051, 0.8592733921791051, 0.8592733921791051, 0.8592733921791051, 0.8592733921791051, 0.8592733921791051, 0.8592733921791051, 0.8592733921791051]}], \"log_loss\": [{\"categories\": [\"0\", \"1\", \"2\", \"3\", \"4\", \"5\", \"6\", \"7\", \"8\", \"9\", \"10\", \"11\", \"12\", \"13\", \"14\", \"15\", \"16\", \"17\", \"18\", \"19\", \"20\", \"21\", \"22\", \"23\", \"24\", \"25\", \"26\", \"27\", \"28\", \"29\", \"30\", \"31\", \"32\", \"33\", \"34\", \"37\", \"38\"], \"mode\": \"markers\", \"name\": \"log_loss\", \"stepped\": false, \"type\": \"scatter\", \"data\": [0.4861309201261568, 0.431088706408139, 0.3851871496274343, 0.40152624434045014, 0.3857404279027391, 0.37623158112305566, 0.3706154633744705, 0.40296417793598777, 0.42877379868332766, 0.4376395302741775, 0.369437134307876, 0.4389296658778066, 0.395048402872627, 0.4537367002988579, 0.4881131068565218, 0.4174320183713268, 0.39250019887812243, 0.41250697329522745, 0.39618909373174727, 0.3822726300234464, 0.4132320895258402, 0.3917659107139991, 0.39112847366121956, 0.3861445883062208, 0.377256213254103, 0.5958163616310174, 0.5144653191297823, 0.3763400490254903, 0.4511098847132474, 0.43769831233337014, 0.4134569251677623, 0.40049345455014046, 0.4575651288351512, 0.3598896258921219, 0.37739096715289133, 0.37081131085176544, 0.3709939176541551]}, {\"categories\": [\"0\", \"1\", \"2\", \"3\", \"4\", \"5\", \"6\", \"7\", \"8\", \"9\", \"10\", \"11\", \"12\", \"13\", \"14\", \"15\", \"16\", \"17\", \"18\", \"19\", \"20\", \"21\", \"22\", \"23\", \"24\", \"25\", \"26\", \"27\", \"28\", \"29\", \"30\", \"31\", \"32\", \"33\", \"34\", \"37\", \"38\"], \"mode\": \"lines\", \"name\": \"log_loss_min\", \"stepped\": true, \"type\": \"scatter\", \"data\": [0.4861309201261568, 0.431088706408139, 0.3851871496274343, 0.3851871496274343, 0.3851871496274343, 0.37623158112305566, 0.3706154633744705, 0.3706154633744705, 0.3706154633744705, 0.3706154633744705, 0.369437134307876, 0.369437134307876, 0.369437134307876, 0.369437134307876, 0.369437134307876, 0.369437134307876, 0.369437134307876, 0.369437134307876, 0.369437134307876, 0.369437134307876, 0.369437134307876, 0.369437134307876, 0.369437134307876, 0.369437134307876, 0.369437134307876, 0.369437134307876, 0.369437134307876, 0.369437134307876, 0.369437134307876, 0.369437134307876, 0.369437134307876, 0.369437134307876, 0.369437134307876, 0.3598896258921219, 0.3598896258921219, 0.3598896258921219, 0.3598896258921219]}], \"f1_score_macro\": [{\"categories\": [\"0\", \"1\", \"2\", \"3\", \"4\", \"5\", \"6\", \"7\", \"8\", \"9\", \"10\", \"11\", \"12\", \"13\", \"14\", \"15\", \"16\", \"17\", \"18\", \"19\", \"20\", \"21\", \"22\", \"23\", \"24\", \"25\", \"26\", \"27\", \"28\", \"29\", \"30\", \"31\", \"32\", \"33\", \"34\", \"37\", \"38\"], \"mode\": \"markers\", \"name\": \"f1_score_macro\", \"stepped\": false, \"type\": \"scatter\", \"data\": [0.7749203670921162, 0.7828751450744178, 0.790662580895777, 0.7989819133394984, 0.8139063028241951, 0.8022347680603303, 0.8007172882372489, 0.7901933717952436, 0.7796415084368147, 0.7781177506224601, 0.8050732559491278, 0.7430637315529791, 0.7855610875059821, 0.7807720112598162, 0.7456400607381, 0.7676789251040155, 0.7924468330576737, 0.7997703812805659, 0.7675291534175663, 0.8119183731984514, 0.7811433812161297, 0.7738203993195043, 0.7933202863706426, 0.8030069325256518, 0.7947327525137159, 0.4034109355689903, 0.5908947845300354, 0.7991411771555377, 0.7902258568933911, 0.7781177506224601, 0.7676817230661841, 0.7873980004355976, 0.7330351202661343, 0.788584930801378, 0.7794082209586215, 0.8261975883025643, 0.8112373644770011]}, {\"categories\": [\"0\", \"1\", \"2\", \"3\", \"4\", \"5\", \"6\", \"7\", \"8\", \"9\", \"10\", \"11\", \"12\", \"13\", \"14\", \"15\", \"16\", \"17\", \"18\", \"19\", \"20\", \"21\", \"22\", \"23\", \"24\", \"25\", \"26\", \"27\", \"28\", \"29\", \"30\", \"31\", \"32\", \"33\", \"34\", \"37\", \"38\"], \"mode\": \"lines\", \"name\": \"f1_score_macro_max\", \"stepped\": true, \"type\": \"scatter\", \"data\": [0.7749203670921162, 0.7828751450744178, 0.790662580895777, 0.7989819133394984, 0.8139063028241951, 0.8139063028241951, 0.8139063028241951, 0.8139063028241951, 0.8139063028241951, 0.8139063028241951, 0.8139063028241951, 0.8139063028241951, 0.8139063028241951, 0.8139063028241951, 0.8139063028241951, 0.8139063028241951, 0.8139063028241951, 0.8139063028241951, 0.8139063028241951, 0.8139063028241951, 0.8139063028241951, 0.8139063028241951, 0.8139063028241951, 0.8139063028241951, 0.8139063028241951, 0.8139063028241951, 0.8139063028241951, 0.8139063028241951, 0.8139063028241951, 0.8139063028241951, 0.8139063028241951, 0.8139063028241951, 0.8139063028241951, 0.8139063028241951, 0.8139063028241951, 0.8261975883025643, 0.8261975883025643]}], \"accuracy\": [{\"categories\": [\"0\", \"1\", \"2\", \"3\", \"4\", \"5\", \"6\", \"7\", \"8\", \"9\", \"10\", \"11\", \"12\", \"13\", \"14\", \"15\", \"16\", \"17\", \"18\", \"19\", \"20\", \"21\", \"22\", \"23\", \"24\", \"25\", \"26\", \"27\", \"28\", \"29\", \"30\", \"31\", \"32\", \"33\", \"34\", \"37\", \"38\"], \"mode\": \"markers\", \"name\": \"accuracy\", \"stepped\": false, \"type\": \"scatter\", \"data\": [0.8162962962962963, 0.8200673400673402, 0.8274074074074074, 0.842087542087542, 0.8421548821548821, 0.8346127946127947, 0.8383838383838385, 0.8383164983164983, 0.8237710437710438, 0.8164309764309763, 0.8420202020202019, 0.7941414141414141, 0.8270707070707071, 0.8308417508417509, 0.8014814814814816, 0.8162289562289562, 0.8346127946127947, 0.8492255892255892, 0.8161616161616161, 0.8494276094276094, 0.8235690235690235, 0.8162289562289562, 0.831043771043771, 0.8384511784511786, 0.8309764309764308, 0.6798653198653198, 0.7388552188552188, 0.8384511784511786, 0.8346127946127947, 0.8164309764309763, 0.8236363636363636, 0.8236363636363636, 0.8051851851851852, 0.8309764309764309, 0.82, 0.8604713804713805, 0.8493602693602693]}, {\"categories\": [\"0\", \"1\", \"2\", \"3\", \"4\", \"5\", \"6\", \"7\", \"8\", \"9\", \"10\", \"11\", \"12\", \"13\", \"14\", \"15\", \"16\", \"17\", \"18\", \"19\", \"20\", \"21\", \"22\", \"23\", \"24\", \"25\", \"26\", \"27\", \"28\", \"29\", \"30\", \"31\", \"32\", \"33\", \"34\", \"37\", \"38\"], \"mode\": \"lines\", \"name\": \"accuracy_max\", \"stepped\": true, \"type\": \"scatter\", \"data\": [0.8162962962962963, 0.8200673400673402, 0.8274074074074074, 0.842087542087542, 0.8421548821548821, 0.8421548821548821, 0.8421548821548821, 0.8421548821548821, 0.8421548821548821, 0.8421548821548821, 0.8421548821548821, 0.8421548821548821, 0.8421548821548821, 0.8421548821548821, 0.8421548821548821, 0.8421548821548821, 0.8421548821548821, 0.8492255892255892, 0.8492255892255892, 0.8494276094276094, 0.8494276094276094, 0.8494276094276094, 0.8494276094276094, 0.8494276094276094, 0.8494276094276094, 0.8494276094276094, 0.8494276094276094, 0.8494276094276094, 0.8494276094276094, 0.8494276094276094, 0.8494276094276094, 0.8494276094276094, 0.8494276094276094, 0.8494276094276094, 0.8494276094276094, 0.8604713804713805, 0.8604713804713805]}], \"recall_score_micro\": [{\"categories\": [\"0\", \"1\", \"2\", \"3\", \"4\", \"5\", \"6\", \"7\", \"8\", \"9\", \"10\", \"11\", \"12\", \"13\", \"14\", \"15\", \"16\", \"17\", \"18\", \"19\", \"20\", \"21\", \"22\", \"23\", \"24\", \"25\", \"26\", \"27\", \"28\", \"29\", \"30\", \"31\", \"32\", \"33\", \"34\", \"37\", \"38\"], \"mode\": \"markers\", \"name\": \"recall_score_micro\", \"stepped\": false, \"type\": \"scatter\", \"data\": [0.8162962962962963, 0.8200673400673402, 0.8274074074074074, 0.842087542087542, 0.8421548821548821, 0.8346127946127947, 0.8383838383838385, 0.8383164983164983, 0.8237710437710438, 0.8164309764309763, 0.8420202020202019, 0.7941414141414141, 0.8270707070707071, 0.8308417508417509, 0.8014814814814816, 0.8162289562289562, 0.8346127946127947, 0.8492255892255892, 0.8161616161616161, 0.8494276094276094, 0.8235690235690235, 0.8162289562289562, 0.831043771043771, 0.8384511784511786, 0.8309764309764308, 0.6798653198653198, 0.7388552188552188, 0.8384511784511786, 0.8346127946127947, 0.8164309764309763, 0.8236363636363636, 0.8236363636363636, 0.8051851851851852, 0.8309764309764309, 0.82, 0.8604713804713805, 0.8493602693602693]}, {\"categories\": [\"0\", \"1\", \"2\", \"3\", \"4\", \"5\", \"6\", \"7\", \"8\", \"9\", \"10\", \"11\", \"12\", \"13\", \"14\", \"15\", \"16\", \"17\", \"18\", \"19\", \"20\", \"21\", \"22\", \"23\", \"24\", \"25\", \"26\", \"27\", \"28\", \"29\", \"30\", \"31\", \"32\", \"33\", \"34\", \"37\", \"38\"], \"mode\": \"lines\", \"name\": \"recall_score_micro_max\", \"stepped\": true, \"type\": \"scatter\", \"data\": [0.8162962962962963, 0.8200673400673402, 0.8274074074074074, 0.842087542087542, 0.8421548821548821, 0.8421548821548821, 0.8421548821548821, 0.8421548821548821, 0.8421548821548821, 0.8421548821548821, 0.8421548821548821, 0.8421548821548821, 0.8421548821548821, 0.8421548821548821, 0.8421548821548821, 0.8421548821548821, 0.8421548821548821, 0.8492255892255892, 0.8492255892255892, 0.8494276094276094, 0.8494276094276094, 0.8494276094276094, 0.8494276094276094, 0.8494276094276094, 0.8494276094276094, 0.8494276094276094, 0.8494276094276094, 0.8494276094276094, 0.8494276094276094, 0.8494276094276094, 0.8494276094276094, 0.8494276094276094, 0.8494276094276094, 0.8494276094276094, 0.8494276094276094, 0.8604713804713805, 0.8604713804713805]}], \"weighted_accuracy\": [{\"categories\": [\"0\", \"1\", \"2\", \"3\", \"4\", \"5\", \"6\", \"7\", \"8\", \"9\", \"10\", \"11\", \"12\", \"13\", \"14\", \"15\", \"16\", \"17\", \"18\", \"19\", \"20\", \"21\", \"22\", \"23\", \"24\", \"25\", \"26\", \"27\", \"28\", \"29\", \"30\", \"31\", \"32\", \"33\", \"34\", \"37\", \"38\"], \"mode\": \"markers\", \"name\": \"weighted_accuracy\", \"stepped\": false, \"type\": \"scatter\", \"data\": [0.8459307170764019, 0.8455758397683326, 0.8521310974320292, 0.8804282303038177, 0.8564735530453724, 0.8557762725390798, 0.865660475233428, 0.8784229925016376, 0.8596640110018846, 0.843675741412474, 0.8689007769413981, 0.829264688229593, 0.8602195719895549, 0.8730167157339901, 0.849007222261536, 0.8578436443311924, 0.8641080307902003, 0.8952556148883437, 0.8512458770707972, 0.8772926512641698, 0.8566367544870135, 0.8510266035741283, 0.8576838367464639, 0.8637022753303285, 0.8558915819988385, 0.8021016400826578, 0.8307104782253054, 0.8670733261870153, 0.8710649795081482, 0.843675741412474, 0.8678230266309364, 0.847570714585339, 0.8588211883551466, 0.8645478551985416, 0.8483498551652635, 0.8874549295415717, 0.8777366508634425]}, {\"categories\": [\"0\", \"1\", \"2\", \"3\", \"4\", \"5\", \"6\", \"7\", \"8\", \"9\", \"10\", \"11\", \"12\", \"13\", \"14\", \"15\", \"16\", \"17\", \"18\", \"19\", \"20\", \"21\", \"22\", \"23\", \"24\", \"25\", \"26\", \"27\", \"28\", \"29\", \"30\", \"31\", \"32\", \"33\", \"34\", \"37\", \"38\"], \"mode\": \"lines\", \"name\": \"weighted_accuracy_max\", \"stepped\": true, \"type\": \"scatter\", \"data\": [0.8459307170764019, 0.8459307170764019, 0.8521310974320292, 0.8804282303038177, 0.8804282303038177, 0.8804282303038177, 0.8804282303038177, 0.8804282303038177, 0.8804282303038177, 0.8804282303038177, 0.8804282303038177, 0.8804282303038177, 0.8804282303038177, 0.8804282303038177, 0.8804282303038177, 0.8804282303038177, 0.8804282303038177, 0.8952556148883437, 0.8952556148883437, 0.8952556148883437, 0.8952556148883437, 0.8952556148883437, 0.8952556148883437, 0.8952556148883437, 0.8952556148883437, 0.8952556148883437, 0.8952556148883437, 0.8952556148883437, 0.8952556148883437, 0.8952556148883437, 0.8952556148883437, 0.8952556148883437, 0.8952556148883437, 0.8952556148883437, 0.8952556148883437, 0.8952556148883437, 0.8952556148883437]}], \"recall_score_weighted\": [{\"categories\": [\"0\", \"1\", \"2\", \"3\", \"4\", \"5\", \"6\", \"7\", \"8\", \"9\", \"10\", \"11\", \"12\", \"13\", \"14\", \"15\", \"16\", \"17\", \"18\", \"19\", \"20\", \"21\", \"22\", \"23\", \"24\", \"25\", \"26\", \"27\", \"28\", \"29\", \"30\", \"31\", \"32\", \"33\", \"34\", \"37\", \"38\"], \"mode\": \"markers\", \"name\": \"recall_score_weighted\", \"stepped\": false, \"type\": \"scatter\", \"data\": [0.8162962962962963, 0.8200673400673402, 0.8274074074074074, 0.842087542087542, 0.8421548821548821, 0.8346127946127947, 0.8383838383838385, 0.8383164983164983, 0.8237710437710438, 0.8164309764309763, 0.8420202020202019, 0.7941414141414141, 0.8270707070707071, 0.8308417508417509, 0.8014814814814816, 0.8162289562289562, 0.8346127946127947, 0.8492255892255892, 0.8161616161616161, 0.8494276094276094, 0.8235690235690235, 0.8162289562289562, 0.831043771043771, 0.8384511784511786, 0.8309764309764308, 0.6798653198653198, 0.7388552188552188, 0.8384511784511786, 0.8346127946127947, 0.8164309764309763, 0.8236363636363636, 0.8236363636363636, 0.8051851851851852, 0.8309764309764309, 0.82, 0.8604713804713805, 0.8493602693602693]}, {\"categories\": [\"0\", \"1\", \"2\", \"3\", \"4\", \"5\", \"6\", \"7\", \"8\", \"9\", \"10\", \"11\", \"12\", \"13\", \"14\", \"15\", \"16\", \"17\", \"18\", \"19\", \"20\", \"21\", \"22\", \"23\", \"24\", \"25\", \"26\", \"27\", \"28\", \"29\", \"30\", \"31\", \"32\", \"33\", \"34\", \"37\", \"38\"], \"mode\": \"lines\", \"name\": \"recall_score_weighted_max\", \"stepped\": true, \"type\": \"scatter\", \"data\": [0.8162962962962963, 0.8200673400673402, 0.8274074074074074, 0.842087542087542, 0.8421548821548821, 0.8421548821548821, 0.8421548821548821, 0.8421548821548821, 0.8421548821548821, 0.8421548821548821, 0.8421548821548821, 0.8421548821548821, 0.8421548821548821, 0.8421548821548821, 0.8421548821548821, 0.8421548821548821, 0.8421548821548821, 0.8492255892255892, 0.8492255892255892, 0.8494276094276094, 0.8494276094276094, 0.8494276094276094, 0.8494276094276094, 0.8494276094276094, 0.8494276094276094, 0.8494276094276094, 0.8494276094276094, 0.8494276094276094, 0.8494276094276094, 0.8494276094276094, 0.8494276094276094, 0.8494276094276094, 0.8494276094276094, 0.8494276094276094, 0.8494276094276094, 0.8604713804713805, 0.8604713804713805]}], \"AUC_macro\": [{\"categories\": [\"0\", \"1\", \"2\", \"3\", \"4\", \"5\", \"6\", \"7\", \"8\", \"9\", \"10\", \"11\", \"12\", \"13\", \"14\", \"15\", \"16\", \"17\", \"18\", \"19\", \"20\", \"21\", \"22\", \"23\", \"24\", \"25\", \"26\", \"27\", \"28\", \"29\", \"30\", \"31\", \"32\", \"33\", \"34\", \"37\", \"38\"], \"mode\": \"markers\", \"name\": \"AUC_macro\", \"stepped\": false, \"type\": \"scatter\", \"data\": [0.8805626577209604, 0.8893422725634068, 0.8756005485289451, 0.8768815665347693, 0.88536580469261, 0.8968075766504979, 0.8989545029671507, 0.8881097824233279, 0.8629432161368105, 0.8639445081264746, 0.8973455494895723, 0.8535572458277476, 0.8940446616109611, 0.8699557059099083, 0.889908443589594, 0.8993876487083341, 0.8817570519753302, 0.8906572795036688, 0.881440152923221, 0.8958225181817593, 0.8787474392268354, 0.8916088347483697, 0.8860465008343426, 0.8815170543715016, 0.8954826828052044, 0.8932399312234074, 0.8710236778423232, 0.8981182769585463, 0.8862413651484438, 0.8639445081264746, 0.8697452233080547, 0.888923417501549, 0.8672140676842839, 0.9109667094091819, 0.8906502636867794, 0.903041890902968, 0.9053115616344911]}, {\"categories\": [\"0\", \"1\", \"2\", \"3\", \"4\", \"5\", \"6\", \"7\", \"8\", \"9\", \"10\", \"11\", \"12\", \"13\", \"14\", \"15\", \"16\", \"17\", \"18\", \"19\", \"20\", \"21\", \"22\", \"23\", \"24\", \"25\", \"26\", \"27\", \"28\", \"29\", \"30\", \"31\", \"32\", \"33\", \"34\", \"37\", \"38\"], \"mode\": \"lines\", \"name\": \"AUC_macro_max\", \"stepped\": true, \"type\": \"scatter\", \"data\": [0.8805626577209604, 0.8893422725634068, 0.8893422725634068, 0.8893422725634068, 0.8893422725634068, 0.8968075766504979, 0.8989545029671507, 0.8989545029671507, 0.8989545029671507, 0.8989545029671507, 0.8989545029671507, 0.8989545029671507, 0.8989545029671507, 0.8989545029671507, 0.8989545029671507, 0.8993876487083341, 0.8993876487083341, 0.8993876487083341, 0.8993876487083341, 0.8993876487083341, 0.8993876487083341, 0.8993876487083341, 0.8993876487083341, 0.8993876487083341, 0.8993876487083341, 0.8993876487083341, 0.8993876487083341, 0.8993876487083341, 0.8993876487083341, 0.8993876487083341, 0.8993876487083341, 0.8993876487083341, 0.8993876487083341, 0.9109667094091819, 0.9109667094091819, 0.9109667094091819, 0.9109667094091819]}], \"matthews_correlation\": [{\"categories\": [\"0\", \"1\", \"2\", \"3\", \"4\", \"5\", \"6\", \"7\", \"8\", \"9\", \"10\", \"11\", \"12\", \"13\", \"14\", \"15\", \"16\", \"17\", \"18\", \"19\", \"20\", \"21\", \"22\", \"23\", \"24\", \"25\", \"26\", \"27\", \"28\", \"29\", \"30\", \"31\", \"32\", \"33\", \"34\", \"37\", \"38\"], \"mode\": \"markers\", \"name\": \"matthews_correlation\", \"stepped\": false, \"type\": \"scatter\", \"data\": [0.5639016216913598, 0.5766295788324082, 0.5852898033945195, 0.6080031118096585, 0.632194908350926, 0.6110746234749527, 0.6125629906495476, 0.6024366306973772, 0.57228552146318, 0.5645039499122638, 0.6158672760349673, 0.5045006253953179, 0.580930922293547, 0.5857853124252899, 0.5239227175398157, 0.5611337771780602, 0.598991243243938, 0.6321208240803531, 0.5454913385731155, 0.6342355428107351, 0.5758246268059636, 0.5626895668120717, 0.5961332465663639, 0.6154817543028943, 0.5995057003285813, 0.0, 0.363029303001927, 0.6085315390650569, 0.5992205436511557, 0.5645039499122638, 0.5622771981422452, 0.5826581998595456, 0.4997880139593093, 0.5943198714190123, 0.5645577489452613, 0.6632277363501762, 0.6401947288662811]}, {\"categories\": [\"0\", \"1\", \"2\", \"3\", \"4\", \"5\", \"6\", \"7\", \"8\", \"9\", \"10\", \"11\", \"12\", \"13\", \"14\", \"15\", \"16\", \"17\", \"18\", \"19\", \"20\", \"21\", \"22\", \"23\", \"24\", \"25\", \"26\", \"27\", \"28\", \"29\", \"30\", \"31\", \"32\", \"33\", \"34\", \"37\", \"38\"], \"mode\": \"lines\", \"name\": \"matthews_correlation_max\", \"stepped\": true, \"type\": \"scatter\", \"data\": [0.5639016216913598, 0.5766295788324082, 0.5852898033945195, 0.6080031118096585, 0.632194908350926, 0.632194908350926, 0.632194908350926, 0.632194908350926, 0.632194908350926, 0.632194908350926, 0.632194908350926, 0.632194908350926, 0.632194908350926, 0.632194908350926, 0.632194908350926, 0.632194908350926, 0.632194908350926, 0.632194908350926, 0.632194908350926, 0.6342355428107351, 0.6342355428107351, 0.6342355428107351, 0.6342355428107351, 0.6342355428107351, 0.6342355428107351, 0.6342355428107351, 0.6342355428107351, 0.6342355428107351, 0.6342355428107351, 0.6342355428107351, 0.6342355428107351, 0.6342355428107351, 0.6342355428107351, 0.6342355428107351, 0.6342355428107351, 0.6632277363501762, 0.6632277363501762]}]}, \"metricName\": null, \"primaryMetricName\": \"accuracy\", \"showLegend\": false}, \"run_metrics\": [{\"name\": \"experiment_status\", \"run_id\": \"AutoML_667392a3-1c3b-4493-9cce-38528ce301e1\", \"categories\": [0, 1, 2, 3, 4, 5, 6, 7, 8, 9, 10, 11, 12, 13], \"series\": [{\"data\": [\"DatasetEvaluation\", \"FeaturesGeneration\", \"DatasetFeaturization\", \"DatasetFeaturizationCompleted\", \"DatasetCrossValidationSplit\", \"ModelSelection\", \"BestRunExplainModel\", \"ModelExplanationDataSetSetup\", \"PickSurrogateModel\", \"EngineeredFeatureExplanations\", \"EngineeredFeatureExplanations\", \"RawFeaturesExplanations\", \"RawFeaturesExplanations\", \"BestRunExplainModel\"]}]}, {\"name\": \"experiment_status_description\", \"run_id\": \"AutoML_667392a3-1c3b-4493-9cce-38528ce301e1\", \"categories\": [0, 1, 2, 3, 4, 5, 6, 7, 8, 9, 10, 11, 12, 13], \"series\": [{\"data\": [\"Gathering dataset statistics.\", \"Generating features for the dataset.\", \"Beginning to fit featurizers and featurize the dataset.\", \"Completed fit featurizers and featurizing the dataset.\", \"Generating individually featurized CV splits.\", \"Beginning model selection.\", \"Best run model explanations started\", \"Model explanations data setup completed\", \"Choosing LightGBM as the surrogate model for explanations\", \"Computation of engineered features started\", \"Computation of engineered features completed\", \"Computation of raw features started\", \"Computation of raw features completed\", \"Best run model explanations completed\"]}]}, {\"name\": \"log_loss\", \"run_id\": \"AutoML_667392a3-1c3b-4493-9cce-38528ce301e1\", \"categories\": [0], \"series\": [{\"data\": [0.37081131085176544]}]}, {\"name\": \"precision_score_weighted\", \"run_id\": \"AutoML_667392a3-1c3b-4493-9cce-38528ce301e1\", \"categories\": [0], \"series\": [{\"data\": [0.865836471099383]}]}, {\"name\": \"precision_score_micro\", \"run_id\": \"AutoML_667392a3-1c3b-4493-9cce-38528ce301e1\", \"categories\": [0], \"series\": [{\"data\": [0.8604713804713805]}]}, {\"name\": \"weighted_accuracy\", \"run_id\": \"AutoML_667392a3-1c3b-4493-9cce-38528ce301e1\", \"categories\": [0], \"series\": [{\"data\": [0.8874549295415717]}]}, {\"name\": \"AUC_macro\", \"run_id\": \"AutoML_667392a3-1c3b-4493-9cce-38528ce301e1\", \"categories\": [0], \"series\": [{\"data\": [0.903041890902968]}]}, {\"name\": \"precision_score_macro\", \"run_id\": \"AutoML_667392a3-1c3b-4493-9cce-38528ce301e1\", \"categories\": [0], \"series\": [{\"data\": [0.843074557456122]}]}, {\"name\": \"norm_macro_recall\", \"run_id\": \"AutoML_667392a3-1c3b-4493-9cce-38528ce301e1\", \"categories\": [0], \"series\": [{\"data\": [0.6438265236735249]}]}, {\"name\": \"recall_score_micro\", \"run_id\": \"AutoML_667392a3-1c3b-4493-9cce-38528ce301e1\", \"categories\": [0], \"series\": [{\"data\": [0.8604713804713805]}]}, {\"name\": \"f1_score_weighted\", \"run_id\": \"AutoML_667392a3-1c3b-4493-9cce-38528ce301e1\", \"categories\": [0], \"series\": [{\"data\": [0.8582995589222854]}]}, {\"name\": \"AUC_weighted\", \"run_id\": \"AutoML_667392a3-1c3b-4493-9cce-38528ce301e1\", \"categories\": [0], \"series\": [{\"data\": [0.9030418909029679]}]}, {\"name\": \"AUC_micro\", \"run_id\": \"AutoML_667392a3-1c3b-4493-9cce-38528ce301e1\", \"categories\": [0], \"series\": [{\"data\": [0.9231365960389528]}]}, {\"name\": \"f1_score_macro\", \"run_id\": \"AutoML_667392a3-1c3b-4493-9cce-38528ce301e1\", \"categories\": [0], \"series\": [{\"data\": [0.8261975883025643]}]}, {\"name\": \"average_precision_score_micro\", \"run_id\": \"AutoML_667392a3-1c3b-4493-9cce-38528ce301e1\", \"categories\": [0], \"series\": [{\"data\": [0.9250553530153294]}]}, {\"name\": \"recall_score_macro\", \"run_id\": \"AutoML_667392a3-1c3b-4493-9cce-38528ce301e1\", \"categories\": [0], \"series\": [{\"data\": [0.8219132618367624]}]}, {\"name\": \"average_precision_score_weighted\", \"run_id\": \"AutoML_667392a3-1c3b-4493-9cce-38528ce301e1\", \"categories\": [0], \"series\": [{\"data\": [0.9218768392530732]}]}, {\"name\": \"balanced_accuracy\", \"run_id\": \"AutoML_667392a3-1c3b-4493-9cce-38528ce301e1\", \"categories\": [0], \"series\": [{\"data\": [0.8219132618367624]}]}, {\"name\": \"matthews_correlation\", \"run_id\": \"AutoML_667392a3-1c3b-4493-9cce-38528ce301e1\", \"categories\": [0], \"series\": [{\"data\": [0.6632277363501762]}]}, {\"name\": \"f1_score_micro\", \"run_id\": \"AutoML_667392a3-1c3b-4493-9cce-38528ce301e1\", \"categories\": [0], \"series\": [{\"data\": [0.8604713804713805]}]}, {\"name\": \"average_precision_score_macro\", \"run_id\": \"AutoML_667392a3-1c3b-4493-9cce-38528ce301e1\", \"categories\": [0], \"series\": [{\"data\": [0.8946747057500417]}]}, {\"name\": \"accuracy\", \"run_id\": \"AutoML_667392a3-1c3b-4493-9cce-38528ce301e1\", \"categories\": [0], \"series\": [{\"data\": [0.8604713804713805]}]}, {\"name\": \"recall_score_weighted\", \"run_id\": \"AutoML_667392a3-1c3b-4493-9cce-38528ce301e1\", \"categories\": [0], \"series\": [{\"data\": [0.8604713804713805]}]}], \"run_logs\": \"\\nRun is completed.\", \"graph\": {}, \"widget_settings\": {\"childWidgetDisplay\": \"popup\", \"send_telemetry\": false, \"log_level\": \"INFO\", \"sdk_version\": \"1.20.0\"}, \"loading\": false}"
     },
     "metadata": {},
     "output_type": "display_data"
    }
   ],
   "source": [
    "RunDetails(remote_run).show()"
   ]
  },
  {
   "cell_type": "code",
   "execution_count": 18,
   "metadata": {
    "gather": {
     "logged": 1609057322041
    }
   },
   "outputs": [
    {
     "data": {
      "text/plain": [
       "{'runId': 'AutoML_667392a3-1c3b-4493-9cce-38528ce301e1',\n",
       " 'target': 'cpu-cluster',\n",
       " 'status': 'Completed',\n",
       " 'startTimeUtc': '2021-02-23T15:52:39.369912Z',\n",
       " 'endTimeUtc': '2021-02-23T16:15:50.662467Z',\n",
       " 'properties': {'num_iterations': '1000',\n",
       "  'training_type': 'TrainFull',\n",
       "  'acquisition_function': 'EI',\n",
       "  'primary_metric': 'accuracy',\n",
       "  'train_split': '0',\n",
       "  'acquisition_parameter': '0',\n",
       "  'num_cross_validation': '5',\n",
       "  'target': 'cpu-cluster',\n",
       "  'AMLSettingsJsonString': '{\"path\":null,\"name\":\"automl-experiment\",\"subscription_id\":\"9a7511b8-150f-4a58-8528-3e7d50216c31\",\"resource_group\":\"aml-quickstarts-139375\",\"workspace_name\":\"quick-starts-ws-139375\",\"region\":\"southcentralus\",\"compute_target\":\"cpu-cluster\",\"spark_service\":null,\"azure_service\":\"remote\",\"many_models\":false,\"pipeline_fetch_max_batch_size\":1,\"iterations\":1000,\"primary_metric\":\"accuracy\",\"task_type\":\"classification\",\"data_script\":null,\"validation_size\":0.0,\"n_cross_validations\":5,\"y_min\":null,\"y_max\":null,\"num_classes\":null,\"featurization\":\"auto\",\"_ignore_package_version_incompatibilities\":false,\"is_timeseries\":false,\"max_cores_per_iteration\":1,\"max_concurrent_iterations\":4,\"iteration_timeout_minutes\":null,\"mem_in_mb\":null,\"enforce_time_on_windows\":false,\"experiment_timeout_minutes\":30,\"experiment_exit_score\":null,\"whitelist_models\":null,\"blacklist_algos\":[\"TensorFlowLinearClassifier\",\"TensorFlowDNN\"],\"supported_models\":[\"SVM\",\"SGD\",\"DecisionTree\",\"ExtremeRandomTrees\",\"LightGBM\",\"AveragedPerceptronClassifier\",\"TensorFlowLinearClassifier\",\"LinearSVM\",\"GradientBoosting\",\"LogisticRegression\",\"TensorFlowDNN\",\"XGBoostClassifier\",\"BernoulliNaiveBayes\",\"KNN\",\"MultinomialNaiveBayes\",\"RandomForest\"],\"auto_blacklist\":true,\"blacklist_samples_reached\":false,\"exclude_nan_labels\":true,\"verbosity\":20,\"_debug_log\":\"azureml_automl.log\",\"show_warnings\":false,\"model_explainability\":true,\"service_url\":null,\"sdk_url\":null,\"sdk_packages\":null,\"enable_onnx_compatible_models\":false,\"enable_split_onnx_featurizer_estimator_models\":false,\"vm_type\":\"STANDARD_D12_V2\",\"telemetry_verbosity\":20,\"send_telemetry\":true,\"enable_dnn\":false,\"scenario\":\"SDK-1.13.0\",\"environment_label\":null,\"force_text_dnn\":false,\"enable_feature_sweeping\":true,\"enable_early_stopping\":true,\"early_stopping_n_iters\":10,\"metrics\":null,\"enable_ensembling\":true,\"enable_stack_ensembling\":true,\"ensemble_iterations\":15,\"enable_tf\":false,\"enable_subsampling\":null,\"subsample_seed\":null,\"enable_nimbusml\":false,\"enable_streaming\":false,\"force_streaming\":false,\"track_child_runs\":true,\"allowed_private_models\":[],\"label_column_name\":\"DEATH_EVENT\",\"weight_column_name\":null,\"cv_split_column_names\":null,\"enable_local_managed\":false,\"_local_managed_run_id\":null,\"cost_mode\":1,\"lag_length\":0,\"metric_operation\":\"maximize\",\"preprocess\":true}',\n",
       "  'DataPrepJsonString': '{\\\\\"training_data\\\\\": \\\\\"{\\\\\\\\\\\\\"blocks\\\\\\\\\\\\\": [{\\\\\\\\\\\\\"id\\\\\\\\\\\\\": \\\\\\\\\\\\\"270511fc-6da4-402f-a6ec-e1ccbcc6dc50\\\\\\\\\\\\\", \\\\\\\\\\\\\"type\\\\\\\\\\\\\": \\\\\\\\\\\\\"Microsoft.DPrep.GetDatastoreFilesBlock\\\\\\\\\\\\\", \\\\\\\\\\\\\"arguments\\\\\\\\\\\\\": {\\\\\\\\\\\\\"datastores\\\\\\\\\\\\\": [{\\\\\\\\\\\\\"datastoreName\\\\\\\\\\\\\": \\\\\\\\\\\\\"workspaceblobstore\\\\\\\\\\\\\", \\\\\\\\\\\\\"path\\\\\\\\\\\\\": \\\\\\\\\\\\\"UI/02-23-2021_031731_UTC/heart-disease-kaggle.csv\\\\\\\\\\\\\", \\\\\\\\\\\\\"resourceGroup\\\\\\\\\\\\\": \\\\\\\\\\\\\"aml-quickstarts-139375\\\\\\\\\\\\\", \\\\\\\\\\\\\"subscription\\\\\\\\\\\\\": \\\\\\\\\\\\\"9a7511b8-150f-4a58-8528-3e7d50216c31\\\\\\\\\\\\\", \\\\\\\\\\\\\"workspaceName\\\\\\\\\\\\\": \\\\\\\\\\\\\"quick-starts-ws-139375\\\\\\\\\\\\\"}]}, \\\\\\\\\\\\\"localData\\\\\\\\\\\\\": {}, \\\\\\\\\\\\\"isEnabled\\\\\\\\\\\\\": true, \\\\\\\\\\\\\"name\\\\\\\\\\\\\": null, \\\\\\\\\\\\\"annotation\\\\\\\\\\\\\": null}, {\\\\\\\\\\\\\"id\\\\\\\\\\\\\": \\\\\\\\\\\\\"0deb5dbd-de29-4466-a45a-92a8526ada8d\\\\\\\\\\\\\", \\\\\\\\\\\\\"type\\\\\\\\\\\\\": \\\\\\\\\\\\\"Microsoft.DPrep.ParseDelimitedBlock\\\\\\\\\\\\\", \\\\\\\\\\\\\"arguments\\\\\\\\\\\\\": {\\\\\\\\\\\\\"columnHeadersMode\\\\\\\\\\\\\": 3, \\\\\\\\\\\\\"fileEncoding\\\\\\\\\\\\\": 0, \\\\\\\\\\\\\"handleQuotedLineBreaks\\\\\\\\\\\\\": false, \\\\\\\\\\\\\"preview\\\\\\\\\\\\\": false, \\\\\\\\\\\\\"separator\\\\\\\\\\\\\": \\\\\\\\\\\\\",\\\\\\\\\\\\\", \\\\\\\\\\\\\"skipRows\\\\\\\\\\\\\": 0, \\\\\\\\\\\\\"skipRowsMode\\\\\\\\\\\\\": 0}, \\\\\\\\\\\\\"localData\\\\\\\\\\\\\": {}, \\\\\\\\\\\\\"isEnabled\\\\\\\\\\\\\": true, \\\\\\\\\\\\\"name\\\\\\\\\\\\\": null, \\\\\\\\\\\\\"annotation\\\\\\\\\\\\\": null}, {\\\\\\\\\\\\\"id\\\\\\\\\\\\\": \\\\\\\\\\\\\"ee9f50b2-3a32-48d2-8a68-15c853828b2a\\\\\\\\\\\\\", \\\\\\\\\\\\\"type\\\\\\\\\\\\\": \\\\\\\\\\\\\"Microsoft.DPrep.DropColumnsBlock\\\\\\\\\\\\\", \\\\\\\\\\\\\"arguments\\\\\\\\\\\\\": {\\\\\\\\\\\\\"columns\\\\\\\\\\\\\": {\\\\\\\\\\\\\"type\\\\\\\\\\\\\": 0, \\\\\\\\\\\\\"details\\\\\\\\\\\\\": {\\\\\\\\\\\\\"selectedColumns\\\\\\\\\\\\\": [\\\\\\\\\\\\\"Path\\\\\\\\\\\\\"]}}}, \\\\\\\\\\\\\"localData\\\\\\\\\\\\\": {}, \\\\\\\\\\\\\"isEnabled\\\\\\\\\\\\\": true, \\\\\\\\\\\\\"name\\\\\\\\\\\\\": null, \\\\\\\\\\\\\"annotation\\\\\\\\\\\\\": null}, {\\\\\\\\\\\\\"id\\\\\\\\\\\\\": \\\\\\\\\\\\\"d2362aa7-6f10-4f8d-90db-01a33222f9a8\\\\\\\\\\\\\", \\\\\\\\\\\\\"type\\\\\\\\\\\\\": \\\\\\\\\\\\\"Microsoft.DPrep.SetColumnTypesBlock\\\\\\\\\\\\\", \\\\\\\\\\\\\"arguments\\\\\\\\\\\\\": {\\\\\\\\\\\\\"columnConversion\\\\\\\\\\\\\": [{\\\\\\\\\\\\\"column\\\\\\\\\\\\\": {\\\\\\\\\\\\\"type\\\\\\\\\\\\\": 2, \\\\\\\\\\\\\"details\\\\\\\\\\\\\": {\\\\\\\\\\\\\"selectedColumn\\\\\\\\\\\\\": \\\\\\\\\\\\\"Path\\\\\\\\\\\\\"}}, \\\\\\\\\\\\\"typeProperty\\\\\\\\\\\\\": 0}, {\\\\\\\\\\\\\"column\\\\\\\\\\\\\": {\\\\\\\\\\\\\"type\\\\\\\\\\\\\": 2, \\\\\\\\\\\\\"details\\\\\\\\\\\\\": {\\\\\\\\\\\\\"selectedColumn\\\\\\\\\\\\\": \\\\\\\\\\\\\"age\\\\\\\\\\\\\"}}, \\\\\\\\\\\\\"typeProperty\\\\\\\\\\\\\": 3}, {\\\\\\\\\\\\\"column\\\\\\\\\\\\\": {\\\\\\\\\\\\\"type\\\\\\\\\\\\\": 2, \\\\\\\\\\\\\"details\\\\\\\\\\\\\": {\\\\\\\\\\\\\"selectedColumn\\\\\\\\\\\\\": \\\\\\\\\\\\\"anaemia\\\\\\\\\\\\\"}}, \\\\\\\\\\\\\"typeProperty\\\\\\\\\\\\\": 2}, {\\\\\\\\\\\\\"column\\\\\\\\\\\\\": {\\\\\\\\\\\\\"type\\\\\\\\\\\\\": 2, \\\\\\\\\\\\\"details\\\\\\\\\\\\\": {\\\\\\\\\\\\\"selectedColumn\\\\\\\\\\\\\": \\\\\\\\\\\\\"creatinine_phosphokinase\\\\\\\\\\\\\"}}, \\\\\\\\\\\\\"typeProperty\\\\\\\\\\\\\": 2}, {\\\\\\\\\\\\\"column\\\\\\\\\\\\\": {\\\\\\\\\\\\\"type\\\\\\\\\\\\\": 2, \\\\\\\\\\\\\"details\\\\\\\\\\\\\": {\\\\\\\\\\\\\"selectedColumn\\\\\\\\\\\\\": \\\\\\\\\\\\\"diabetes\\\\\\\\\\\\\"}}, \\\\\\\\\\\\\"typeProperty\\\\\\\\\\\\\": 2}, {\\\\\\\\\\\\\"column\\\\\\\\\\\\\": {\\\\\\\\\\\\\"type\\\\\\\\\\\\\": 2, \\\\\\\\\\\\\"details\\\\\\\\\\\\\": {\\\\\\\\\\\\\"selectedColumn\\\\\\\\\\\\\": \\\\\\\\\\\\\"ejection_fraction\\\\\\\\\\\\\"}}, \\\\\\\\\\\\\"typeProperty\\\\\\\\\\\\\": 2}, {\\\\\\\\\\\\\"column\\\\\\\\\\\\\": {\\\\\\\\\\\\\"type\\\\\\\\\\\\\": 2, \\\\\\\\\\\\\"details\\\\\\\\\\\\\": {\\\\\\\\\\\\\"selectedColumn\\\\\\\\\\\\\": \\\\\\\\\\\\\"high_blood_pressure\\\\\\\\\\\\\"}}, \\\\\\\\\\\\\"typeProperty\\\\\\\\\\\\\": 2}, {\\\\\\\\\\\\\"column\\\\\\\\\\\\\": {\\\\\\\\\\\\\"type\\\\\\\\\\\\\": 2, \\\\\\\\\\\\\"details\\\\\\\\\\\\\": {\\\\\\\\\\\\\"selectedColumn\\\\\\\\\\\\\": \\\\\\\\\\\\\"platelets\\\\\\\\\\\\\"}}, \\\\\\\\\\\\\"typeProperty\\\\\\\\\\\\\": 3}, {\\\\\\\\\\\\\"column\\\\\\\\\\\\\": {\\\\\\\\\\\\\"type\\\\\\\\\\\\\": 2, \\\\\\\\\\\\\"details\\\\\\\\\\\\\": {\\\\\\\\\\\\\"selectedColumn\\\\\\\\\\\\\": \\\\\\\\\\\\\"serum_creatinine\\\\\\\\\\\\\"}}, \\\\\\\\\\\\\"typeProperty\\\\\\\\\\\\\": 3}, {\\\\\\\\\\\\\"column\\\\\\\\\\\\\": {\\\\\\\\\\\\\"type\\\\\\\\\\\\\": 2, \\\\\\\\\\\\\"details\\\\\\\\\\\\\": {\\\\\\\\\\\\\"selectedColumn\\\\\\\\\\\\\": \\\\\\\\\\\\\"serum_sodium\\\\\\\\\\\\\"}}, \\\\\\\\\\\\\"typeProperty\\\\\\\\\\\\\": 2}, {\\\\\\\\\\\\\"column\\\\\\\\\\\\\": {\\\\\\\\\\\\\"type\\\\\\\\\\\\\": 2, \\\\\\\\\\\\\"details\\\\\\\\\\\\\": {\\\\\\\\\\\\\"selectedColumn\\\\\\\\\\\\\": \\\\\\\\\\\\\"sex\\\\\\\\\\\\\"}}, \\\\\\\\\\\\\"typeProperty\\\\\\\\\\\\\": 2}, {\\\\\\\\\\\\\"column\\\\\\\\\\\\\": {\\\\\\\\\\\\\"type\\\\\\\\\\\\\": 2, \\\\\\\\\\\\\"details\\\\\\\\\\\\\": {\\\\\\\\\\\\\"selectedColumn\\\\\\\\\\\\\": \\\\\\\\\\\\\"smoking\\\\\\\\\\\\\"}}, \\\\\\\\\\\\\"typeProperty\\\\\\\\\\\\\": 2}, {\\\\\\\\\\\\\"column\\\\\\\\\\\\\": {\\\\\\\\\\\\\"type\\\\\\\\\\\\\": 2, \\\\\\\\\\\\\"details\\\\\\\\\\\\\": {\\\\\\\\\\\\\"selectedColumn\\\\\\\\\\\\\": \\\\\\\\\\\\\"time\\\\\\\\\\\\\"}}, \\\\\\\\\\\\\"typeProperty\\\\\\\\\\\\\": 2}, {\\\\\\\\\\\\\"column\\\\\\\\\\\\\": {\\\\\\\\\\\\\"type\\\\\\\\\\\\\": 2, \\\\\\\\\\\\\"details\\\\\\\\\\\\\": {\\\\\\\\\\\\\"selectedColumn\\\\\\\\\\\\\": \\\\\\\\\\\\\"DEATH_EVENT\\\\\\\\\\\\\"}}, \\\\\\\\\\\\\"typeProperty\\\\\\\\\\\\\": 2}]}, \\\\\\\\\\\\\"localData\\\\\\\\\\\\\": {}, \\\\\\\\\\\\\"isEnabled\\\\\\\\\\\\\": true, \\\\\\\\\\\\\"name\\\\\\\\\\\\\": null, \\\\\\\\\\\\\"annotation\\\\\\\\\\\\\": null}, {\\\\\\\\\\\\\"id\\\\\\\\\\\\\": \\\\\\\\\\\\\"6cf0fd31-1519-4f1c-b0e1-ac9afd27fa69\\\\\\\\\\\\\", \\\\\\\\\\\\\"type\\\\\\\\\\\\\": \\\\\\\\\\\\\"Microsoft.DPrep.TakeSampleBlock\\\\\\\\\\\\\", \\\\\\\\\\\\\"arguments\\\\\\\\\\\\\": {\\\\\\\\\\\\\"probability\\\\\\\\\\\\\": 0.9, \\\\\\\\\\\\\"probabilityLowerBound\\\\\\\\\\\\\": 0.0, \\\\\\\\\\\\\"seed\\\\\\\\\\\\\": 1307343489}, \\\\\\\\\\\\\"localData\\\\\\\\\\\\\": {}, \\\\\\\\\\\\\"isEnabled\\\\\\\\\\\\\": true, \\\\\\\\\\\\\"name\\\\\\\\\\\\\": null, \\\\\\\\\\\\\"annotation\\\\\\\\\\\\\": null}], \\\\\\\\\\\\\"inspectors\\\\\\\\\\\\\": [], \\\\\\\\\\\\\"meta\\\\\\\\\\\\\": {\\\\\\\\\\\\\"savedDatasetId\\\\\\\\\\\\\": \\\\\\\\\\\\\"48127560-f35c-4f46-ada9-56b19cafe74e\\\\\\\\\\\\\", \\\\\\\\\\\\\"datasetType\\\\\\\\\\\\\": \\\\\\\\\\\\\"tabular\\\\\\\\\\\\\", \\\\\\\\\\\\\"subscriptionId\\\\\\\\\\\\\": \\\\\\\\\\\\\"9a7511b8-150f-4a58-8528-3e7d50216c31\\\\\\\\\\\\\", \\\\\\\\\\\\\"workspaceId\\\\\\\\\\\\\": \\\\\\\\\\\\\"774b4d1f-b434-4d5f-8541-2a1b53155131\\\\\\\\\\\\\", \\\\\\\\\\\\\"workspaceLocation\\\\\\\\\\\\\": \\\\\\\\\\\\\"southcentralus\\\\\\\\\\\\\"}}\\\\\", \\\\\"activities\\\\\": 0}',\n",
       "  'EnableSubsampling': None,\n",
       "  'runTemplate': 'AutoML',\n",
       "  'azureml.runsource': 'automl',\n",
       "  'display_task_type': 'classification',\n",
       "  'dependencies_versions': '{\"azureml-widgets\": \"1.20.0\", \"azureml-train\": \"1.20.0\", \"azureml-train-restclients-hyperdrive\": \"1.20.0\", \"azureml-train-core\": \"1.20.0\", \"azureml-train-automl\": \"1.20.0\", \"azureml-train-automl-runtime\": \"1.20.0\", \"azureml-train-automl-client\": \"1.20.0\", \"azureml-tensorboard\": \"1.20.0\", \"azureml-telemetry\": \"1.20.0\", \"azureml-sdk\": \"1.20.0\", \"azureml-samples\": \"0+unknown\", \"azureml-pipeline\": \"1.20.0\", \"azureml-pipeline-steps\": \"1.20.0\", \"azureml-pipeline-core\": \"1.20.0\", \"azureml-opendatasets\": \"1.20.0\", \"azureml-model-management-sdk\": \"1.0.1b6.post1\", \"azureml-mlflow\": \"1.20.0.post1\", \"azureml-interpret\": \"1.20.0\", \"azureml-explain-model\": \"1.20.0\", \"azureml-defaults\": \"1.20.0\", \"azureml-dataset-runtime\": \"1.20.0\", \"azureml-dataprep\": \"2.7.3\", \"azureml-dataprep-rslex\": \"1.5.0\", \"azureml-dataprep-native\": \"27.0.0\", \"azureml-datadrift\": \"1.20.0\", \"azureml-core\": \"1.20.0\", \"azureml-contrib-services\": \"1.20.0\", \"azureml-contrib-server\": \"1.20.0\", \"azureml-contrib-reinforcementlearning\": \"1.20.0\", \"azureml-contrib-pipeline-steps\": \"1.20.0\", \"azureml-contrib-notebook\": \"1.20.0\", \"azureml-contrib-interpret\": \"1.20.0\", \"azureml-contrib-gbdt\": \"1.20.0\", \"azureml-contrib-fairness\": \"1.20.0\", \"azureml-contrib-dataset\": \"1.20.0\", \"azureml-cli-common\": \"1.20.0\", \"azureml-automl-runtime\": \"1.20.0\", \"azureml-automl-core\": \"1.20.0\", \"azureml-accel-models\": \"1.20.0\"}',\n",
       "  '_aml_system_scenario_identification': 'Remote.Parent',\n",
       "  'ClientType': 'SDK',\n",
       "  'environment_cpu_name': 'AzureML-AutoML',\n",
       "  'environment_cpu_label': 'prod',\n",
       "  'environment_gpu_name': 'AzureML-AutoML-GPU',\n",
       "  'environment_gpu_label': 'prod',\n",
       "  'root_attribution': 'automl',\n",
       "  'attribution': 'AutoML',\n",
       "  'Orchestrator': 'AutoML',\n",
       "  'CancelUri': 'https://southcentralus.experiments.azureml.net/jasmine/v1.0/subscriptions/9a7511b8-150f-4a58-8528-3e7d50216c31/resourceGroups/aml-quickstarts-139375/providers/Microsoft.MachineLearningServices/workspaces/quick-starts-ws-139375/experimentids/4657c953-a134-4407-91b0-5dd2f7a6cd80/cancel/AutoML_667392a3-1c3b-4493-9cce-38528ce301e1',\n",
       "  'ClientSdkVersion': '1.22.0',\n",
       "  'snapshotId': '00000000-0000-0000-0000-000000000000',\n",
       "  'SetupRunId': 'AutoML_667392a3-1c3b-4493-9cce-38528ce301e1_setup',\n",
       "  'SetupRunContainerId': 'dcid.AutoML_667392a3-1c3b-4493-9cce-38528ce301e1_setup',\n",
       "  'FeaturizationRunJsonPath': 'featurizer_container.json',\n",
       "  'FeaturizationRunId': 'AutoML_667392a3-1c3b-4493-9cce-38528ce301e1_featurize',\n",
       "  'ProblemInfoJsonString': '{\"dataset_num_categorical\": 0, \"is_sparse\": false, \"subsampling\": false, \"dataset_classes\": 2, \"dataset_features\": 12, \"dataset_samples\": 272, \"single_frequency_class_detected\": false}',\n",
       "  'ModelExplainRunId': 'AutoML_667392a3-1c3b-4493-9cce-38528ce301e1_ModelExplain'},\n",
       " 'inputDatasets': [{'dataset': {'id': '48127560-f35c-4f46-ada9-56b19cafe74e'}, 'consumptionDetails': {'type': 'RunInput', 'inputName': 'training_data', 'mechanism': 'Direct'}}],\n",
       " 'outputDatasets': [],\n",
       " 'logFiles': {},\n",
       " 'submittedBy': 'ODL_User 139375'}"
      ]
     },
     "execution_count": 18,
     "metadata": {},
     "output_type": "execute_result"
    }
   ],
   "source": [
    "remote_run.wait_for_completion()"
   ]
  },
  {
   "cell_type": "markdown",
   "metadata": {},
   "source": [
    "## Best Model "
   ]
  },
  {
   "cell_type": "code",
   "execution_count": 19,
   "metadata": {
    "gather": {
     "logged": 1609057494229
    }
   },
   "outputs": [
    {
     "name": "stderr",
     "output_type": "stream",
     "text": [
      "WARNING:root:The version of the SDK does not match the version the model was trained on.\n",
      "WARNING:root:The consistency in the result may not be guaranteed.\n",
      "WARNING:root:Package:azureml-automl-core, training version:1.22.0, current version:1.20.0\n",
      "Package:azureml-automl-runtime, training version:1.22.0, current version:1.20.0\n",
      "Package:azureml-core, training version:1.22.0, current version:1.20.0\n",
      "Package:azureml-dataprep, training version:2.9.1, current version:2.7.3\n",
      "Package:azureml-dataprep-native, training version:29.0.0, current version:27.0.0\n",
      "Package:azureml-dataprep-rslex, training version:1.7.0, current version:1.5.0\n",
      "Package:azureml-dataset-runtime, training version:1.22.0, current version:1.20.0\n",
      "Package:azureml-defaults, training version:1.22.0, current version:1.20.0\n",
      "Package:azureml-interpret, training version:1.22.0, current version:1.20.0\n",
      "Package:azureml-pipeline-core, training version:1.22.0, current version:1.20.0\n",
      "Package:azureml-telemetry, training version:1.22.0, current version:1.20.0\n",
      "Package:azureml-train-automl-client, training version:1.22.0, current version:1.20.0\n",
      "Package:azureml-train-automl-runtime, training version:1.22.0, current version:1.20.0\n",
      "WARNING:root:Please ensure the version of your local conda dependencies match the version on which your model was trained in order to properly retrieve your model.\n"
     ]
    }
   ],
   "source": [
    "best_run, fitted_model = remote_run.get_output()\n",
    "best_run_metrics = best_run.get_metrics()"
   ]
  },
  {
   "cell_type": "code",
   "execution_count": 20,
   "metadata": {
    "gather": {
     "logged": 1609057496313
    }
   },
   "outputs": [
    {
     "data": {
      "text/html": [
       "<table style=\"width:100%\"><tr><th>Experiment</th><th>Id</th><th>Type</th><th>Status</th><th>Details Page</th><th>Docs Page</th></tr><tr><td>automl-experiment</td><td>AutoML_667392a3-1c3b-4493-9cce-38528ce301e1_37</td><td>azureml.scriptrun</td><td>Completed</td><td><a href=\"https://ml.azure.com/experiments/automl-experiment/runs/AutoML_667392a3-1c3b-4493-9cce-38528ce301e1_37?wsid=/subscriptions/9a7511b8-150f-4a58-8528-3e7d50216c31/resourcegroups/aml-quickstarts-139375/workspaces/quick-starts-ws-139375\" target=\"_blank\" rel=\"noopener\">Link to Azure Machine Learning studio</a></td><td><a href=\"https://docs.microsoft.com/en-us/python/api/azureml-core/azureml.core.run.Run?view=azure-ml-py\" target=\"_blank\" rel=\"noopener\">Link to Documentation</a></td></tr></table>"
      ],
      "text/plain": [
       "Run(Experiment: automl-experiment,\n",
       "Id: AutoML_667392a3-1c3b-4493-9cce-38528ce301e1_37,\n",
       "Type: azureml.scriptrun,\n",
       "Status: Completed)"
      ]
     },
     "execution_count": 20,
     "metadata": {},
     "output_type": "execute_result"
    }
   ],
   "source": [
    "best_run"
   ]
  },
  {
   "cell_type": "code",
   "execution_count": 16,
   "metadata": {
    "gather": {
     "logged": 1609057496796
    }
   },
   "outputs": [
    {
     "data": {
      "text/plain": [
       "Pipeline(memory=None,\n",
       "         steps=[('datatransformer',\n",
       "                 DataTransformer(enable_dnn=None, enable_feature_sweeping=None,\n",
       "                                 feature_sweeping_config=None,\n",
       "                                 feature_sweeping_timeout=None,\n",
       "                                 featurization_config=None, force_text_dnn=None,\n",
       "                                 is_cross_validation=None,\n",
       "                                 is_onnx_compatible=None, logger=None,\n",
       "                                 observer=None, task=None, working_dir=None)),\n",
       "                ('prefittedsoftvotingclassifier',...\n",
       "                                                                                                random_state=None,\n",
       "                                                                                                solver='saga',\n",
       "                                                                                                tol=0.0001,\n",
       "                                                                                                verbose=0,\n",
       "                                                                                                warm_start=False))],\n",
       "                                                                     verbose=False))],\n",
       "                                               flatten_transform=None,\n",
       "                                               weights=[0.09090909090909091,\n",
       "                                                        0.09090909090909091,\n",
       "                                                        0.09090909090909091,\n",
       "                                                        0.09090909090909091,\n",
       "                                                        0.09090909090909091,\n",
       "                                                        0.09090909090909091,\n",
       "                                                        0.09090909090909091,\n",
       "                                                        0.09090909090909091,\n",
       "                                                        0.09090909090909091,\n",
       "                                                        0.09090909090909091,\n",
       "                                                        0.09090909090909091]))],\n",
       "         verbose=False)"
      ]
     },
     "execution_count": 16,
     "metadata": {},
     "output_type": "execute_result"
    }
   ],
   "source": [
    "fitted_model"
   ]
  },
  {
   "cell_type": "code",
   "execution_count": 21,
   "metadata": {
    "nteract": {
     "transient": {
      "deleting": false
     }
    }
   },
   "outputs": [
    {
     "name": "stdout",
     "output_type": "stream",
     "text": [
      "Best Run Id:  AutoML_667392a3-1c3b-4493-9cce-38528ce301e1_37\n",
      "\n",
      " Accuracy: 0.8604713804713805\n",
      "PreFittedSoftVotingClassifier(classification_labels=None,\n",
      "                              estimators=[('19',\n",
      "                                           Pipeline(memory=None,\n",
      "                                                    steps=[('standardscalerwrapper',\n",
      "                                                            <azureml.automl.runtime.shared.model_wrappers.StandardScalerWrapper object at 0x7f3d46a320f0>),\n",
      "                                                           ('lightgbmclassifier',\n",
      "                                                            LightGBMClassifier(boosting_type='gbdt',\n",
      "                                                                               class_weight=None,\n",
      "                                                                               colsample_bytree=0.5944444444444444,\n",
      "                                                                               importance_typ...\n",
      "                                                                              max_leaves=0,\n",
      "                                                                              min_child_weight=1,\n",
      "                                                                              missing=nan,\n",
      "                                                                              n_estimators=100,\n",
      "                                                                              n_jobs=1,\n",
      "                                                                              nthread=None,\n",
      "                                                                              objective='reg:logistic',\n",
      "                                                                              random_state=0,\n",
      "                                                                              reg_alpha=0,\n",
      "                                                                              reg_lambda=1.9791666666666667,\n",
      "                                                                              scale_pos_weight=1,\n",
      "                                                                              seed=None,\n",
      "                                                                              silent=None,\n",
      "                                                                              subsample=0.8,\n",
      "                                                                              tree_method='auto',\n",
      "                                                                              verbose=-10,\n",
      "                                                                              verbosity=0))],\n",
      "                                                    verbose=False))],\n",
      "                              flatten_transform=None,\n",
      "                              weights=[0.25, 0.125, 0.25, 0.125, 0.125, 0.125])\n",
      "{'_aml_system_azureml.automlComponent': 'AutoML', '_aml_system_ComputeTargetStatus': '{\"AllocationState\":\"steady\",\"PreparingNodeCount\":0,\"RunningNodeCount\":3,\"CurrentNodeCount\":4}', 'ensembled_iterations': '[19, 17, 4, 3, 10, 7]', 'ensembled_algorithms': \"['LightGBM', 'ExtremeRandomTrees', 'RandomForest', 'RandomForest', 'GradientBoosting', 'XGBoostClassifier']\", 'ensemble_weights': '[0.25, 0.125, 0.25, 0.125, 0.125, 0.125]', 'best_individual_pipeline_score': '0.8494276094276094', 'best_individual_iteration': '19', '_aml_system_automl_is_child_run_end_telemetry_event_logged': 'True'}\n"
     ]
    }
   ],
   "source": [
    "print('Best Run Id: ', best_run.id)\n",
    "print('\\n Accuracy:', best_run_metrics['accuracy'])\n",
    "print(fitted_model._final_estimator)\n",
    "print(best_run.get_tags())"
   ]
  },
  {
   "cell_type": "code",
   "execution_count": 22,
   "metadata": {
    "gather": {
     "logged": 1609058285285
    }
   },
   "outputs": [
    {
     "data": {
      "text/plain": [
       "'AutoML667392a3137'"
      ]
     },
     "execution_count": 22,
     "metadata": {},
     "output_type": "execute_result"
    }
   ],
   "source": [
    "os.makedirs('./outputs', exist_ok=True)\n",
    "\n",
    "joblib.dump(fitted_model, filename='outputs/automl.joblib')\n",
    "\n",
    "model_name = best_run.properties['model_name']\n",
    "model_name"
   ]
  },
  {
   "cell_type": "code",
   "execution_count": 23,
   "metadata": {
    "gather": {
     "logged": 1609061282639
    },
    "nteract": {
     "transient": {
      "deleting": false
     }
    }
   },
   "outputs": [],
   "source": [
    "env = best_run.get_environment()\n",
    "\n",
    "script_file = 'score.py'\n",
    "\n",
    "best_run.download_file('outputs/scoring_file_v_1_0_0.py', script_file)"
   ]
  },
  {
   "cell_type": "markdown",
   "metadata": {},
   "source": [
    "## Model Deployment"
   ]
  },
  {
   "cell_type": "code",
   "execution_count": 20,
   "metadata": {
    "gather": {
     "logged": 1609057825294
    }
   },
   "outputs": [],
   "source": [
    "#Register the fitted model\n",
    "model = remote_run.register_model(model_name = model_name,\n",
    "                                  description = 'AutoML model')"
   ]
  },
  {
   "cell_type": "code",
   "execution_count": 21,
   "metadata": {
    "gather": {
     "logged": 1609058832201
    }
   },
   "outputs": [
    {
     "name": "stdout",
     "output_type": "stream",
     "text": [
      "automl-heart-disease\n"
     ]
    }
   ],
   "source": [
    "inference_config = InferenceConfig(entry_script = script_file, environment = env)\n",
    "\n",
    "aci_config = AciWebservice.deploy_configuration(cpu_cores = 1, memory_gb = 1)\n",
    "\n",
    "aci_service_name = 'automl-heart-disease'\n",
    "print(aci_service_name)"
   ]
  },
  {
   "cell_type": "code",
   "execution_count": 22,
   "metadata": {
    "gather": {
     "logged": 1609059066228
    }
   },
   "outputs": [
    {
     "name": "stdout",
     "output_type": "stream",
     "text": [
      "Tips: You can try get_logs(): https://aka.ms/debugimage#dockerlog or local deployment: https://aka.ms/debugimage#debug-locally to debug if deployment takes longer than 10 minutes.\n",
      "Running.............\n",
      "Succeeded\n",
      "ACI service creation operation finished, operation \"Succeeded\"\n",
      "State: Healthy\n",
      "Scoring URI: http://af889be7-14d8-48e8-9205-0338fe6afdcb.southcentralus.azurecontainer.io/score\n"
     ]
    }
   ],
   "source": [
    "service = Model.deploy(ws, aci_service_name, [model], inference_config, aci_config)\n",
    "service.wait_for_deployment(True)\n",
    "print(\"State: \" + service.state)\n",
    "print(\"Scoring URI: \" + service.scoring_uri)"
   ]
  },
  {
   "cell_type": "markdown",
   "metadata": {},
   "source": [
    "## Testing using 2 different methods"
   ]
  },
  {
   "cell_type": "code",
   "execution_count": 23,
   "metadata": {
    "nteract": {
     "transient": {
      "deleting": false
     }
    }
   },
   "outputs": [
    {
     "name": "stdout",
     "output_type": "stream",
     "text": [
      "{\"result\": [1, 1]}\n"
     ]
    }
   ],
   "source": [
    "%run endpoint.py"
   ]
  },
  {
   "cell_type": "code",
   "execution_count": 35,
   "metadata": {
    "gather": {
     "logged": 1609062759579
    },
    "nteract": {
     "transient": {
      "deleting": false
     }
    }
   },
   "outputs": [
    {
     "name": "stdout",
     "output_type": "stream",
     "text": [
      "{\"data\": [{\"age\": 90, \"anaemia\": 1, \"creatinine_phosphokinase\": 60, \"diabetes\": 1, \"ejection_fraction\": 50, \"high_blood_pressure\": 0, \"platelets\": 226000.0, \"serum_creatinine\": 1.0, \"serum_sodium\": 134, \"sex\": 1, \"smoking\": 0, \"time\": 30}, {\"age\": 70, \"anaemia\": 0, \"creatinine_phosphokinase\": 618, \"diabetes\": 0, \"ejection_fraction\": 35, \"high_blood_pressure\": 0, \"platelets\": 327000.0, \"serum_creatinine\": 1.1, \"serum_sodium\": 142, \"sex\": 0, \"smoking\": 0, \"time\": 245}, {\"age\": 60, \"anaemia\": 1, \"creatinine_phosphokinase\": 260, \"diabetes\": 1, \"ejection_fraction\": 38, \"high_blood_pressure\": 0, \"platelets\": 255000.0, \"serum_creatinine\": 2.2, \"serum_sodium\": 132, \"sex\": 0, \"smoking\": 1, \"time\": 45}]}\n"
     ]
    }
   ],
   "source": [
    "data_test = data_test.to_pandas_dataframe().dropna()\n",
    "data_sample = data_test.sample(3)\n",
    "y_true = data_sample.pop('DEATH_EVENT')\n",
    "sample_json = json.dumps({'data':data_sample.to_dict(orient='records')})\n",
    "print(sample_json)"
   ]
  },
  {
   "cell_type": "code",
   "execution_count": 36,
   "metadata": {
    "gather": {
     "logged": 1609062767514
    },
    "nteract": {
     "transient": {
      "deleting": false
     }
    }
   },
   "outputs": [
    {
     "name": "stdout",
     "output_type": "stream",
     "text": [
      "Prediction:  {\"result\": [1, 0, 1]}\n",
      "True Values:  [1 0 1]\n"
     ]
    }
   ],
   "source": [
    "output = service.run(sample_json)\n",
    "print('Prediction: ', output)\n",
    "print('True Values: ', y_true.values)"
   ]
  },
  {
   "cell_type": "code",
   "execution_count": 37,
   "metadata": {
    "gather": {
     "logged": 1609062829772
    }
   },
   "outputs": [
    {
     "data": {
      "text/plain": [
       "'2020-12-28T08:02:58,638664100+00:00 - nginx/run \\n/usr/sbin/nginx: /azureml-envs/azureml_8eff28b157f42edcd2424a5aae6c8074/lib/libcrypto.so.1.0.0: no version information available (required by /usr/sbin/nginx)\\n/usr/sbin/nginx: /azureml-envs/azureml_8eff28b157f42edcd2424a5aae6c8074/lib/libcrypto.so.1.0.0: no version information available (required by /usr/sbin/nginx)\\n/usr/sbin/nginx: /azureml-envs/azureml_8eff28b157f42edcd2424a5aae6c8074/lib/libssl.so.1.0.0: no version information available (required by /usr/sbin/nginx)\\n/usr/sbin/nginx: /azureml-envs/azureml_8eff28b157f42edcd2424a5aae6c8074/lib/libssl.so.1.0.0: no version information available (required by /usr/sbin/nginx)\\n/usr/sbin/nginx: /azureml-envs/azureml_8eff28b157f42edcd2424a5aae6c8074/lib/libssl.so.1.0.0: no version information available (required by /usr/sbin/nginx)\\n2020-12-28T08:02:58,647916700+00:00 - rsyslog/run \\n2020-12-28T08:02:58,650225800+00:00 - iot-server/run \\n2020-12-28T08:02:58,659505900+00:00 - gunicorn/run \\nrsyslogd: /azureml-envs/azureml_8eff28b157f42edcd2424a5aae6c8074/lib/libuuid.so.1: no version information available (required by rsyslogd)\\nEdgeHubConnectionString and IOTEDGE_IOTHUBHOSTNAME are not set. Exiting...\\n2020-12-28T08:03:00,497461100+00:00 - iot-server/finish 1 0\\n2020-12-28T08:03:00,504740100+00:00 - Exit code 1 is normal. Not restarting iot-server.\\nStarting gunicorn 19.9.0\\nListening at: http://127.0.0.1:31311 (72)\\nUsing worker: sync\\nworker timeout is set to 300\\nBooting worker with pid: 100\\nSPARK_HOME not set. Skipping PySpark Initialization.\\nGenerating new fontManager, this may take some time...\\nInitializing logger\\n2020-12-28 08:03:05,343 | root | INFO | Starting up app insights client\\nStarting up app insights client\\n2020-12-28 08:03:05,344 | root | INFO | Starting up request id generator\\nStarting up request id generator\\n2020-12-28 08:03:05,344 | root | INFO | Starting up app insight hooks\\nStarting up app insight hooks\\n2020-12-28 08:03:05,344 | root | INFO | Invoking user\\'s init function\\nInvoking user\\'s init function\\n2020-12-28 08:03:13,289 | root | INFO | Users\\'s init has completed successfully\\nUsers\\'s init has completed successfully\\n2020-12-28 08:03:13,295 | root | INFO | Skipping middleware: dbg_model_info as it\\'s not enabled.\\nSkipping middleware: dbg_model_info as it\\'s not enabled.\\n2020-12-28 08:03:13,296 | root | INFO | Skipping middleware: dbg_resource_usage as it\\'s not enabled.\\nSkipping middleware: dbg_resource_usage as it\\'s not enabled.\\n2020-12-28 08:03:13,297 | root | INFO | Scoring timeout is found from os.environ: 60000 ms\\nScoring timeout is found from os.environ: 60000 ms\\n2020-12-28 08:03:13,348 | root | INFO | 200\\n200\\n127.0.0.1 - - [28/Dec/2020:08:03:13 +0000] \"GET /swagger.json HTTP/1.0\" 200 2870 \"-\" \"Go-http-client/1.1\"\\n2020-12-28 08:03:15,815 | root | INFO | 200\\n200\\n127.0.0.1 - - [28/Dec/2020:08:03:15 +0000] \"GET /swagger.json HTTP/1.0\" 200 2870 \"-\" \"Go-http-client/1.1\"\\n2020-12-28 08:03:38,670 | root | INFO | Validation Request Content-Type\\nValidation Request Content-Type\\n2020-12-28 08:03:38,671 | root | INFO | \\tHost: localhost:5001\\n\\tHost: localhost:5001\\n2020-12-28 08:03:38,671 | root | INFO | \\tX-Real-Ip: 127.0.0.1\\n\\tX-Real-Ip: 127.0.0.1\\n2020-12-28 08:03:38,672 | root | INFO | \\tX-Forwarded-For: 127.0.0.1\\n\\tX-Forwarded-For: 127.0.0.1\\n2020-12-28 08:03:38,672 | root | INFO | \\tX-Forwarded-Proto: http\\n\\tX-Forwarded-Proto: http\\n2020-12-28 08:03:38,673 | root | INFO | \\tConnection: close\\n\\tConnection: close\\n2020-12-28 08:03:38,673 | root | INFO | \\tContent-Length: 474\\n\\tContent-Length: 474\\n2020-12-28 08:03:38,674 | root | INFO | \\tUser-Agent: python-requests/2.25.0\\n\\tUser-Agent: python-requests/2.25.0\\n2020-12-28 08:03:38,674 | root | INFO | \\tAccept: */*\\n\\tAccept: */*\\n2020-12-28 08:03:38,674 | root | INFO | \\tAccept-Encoding: gzip, deflate\\n\\tAccept-Encoding: gzip, deflate\\n2020-12-28 08:03:38,675 | root | INFO | \\tContent-Type: application/json\\n\\tContent-Type: application/json\\n2020-12-28 08:03:38,675 | root | INFO | \\tX-Ms-Request-Id: 59ea15ae-193a-4c06-932a-21a9634619fe\\n\\tX-Ms-Request-Id: 59ea15ae-193a-4c06-932a-21a9634619fe\\n2020-12-28 08:03:38,676 | root | INFO | Scoring Timer is set to 60.0 seconds\\nScoring Timer is set to 60.0 seconds\\n2020-12-28 08:03:38,878 | root | INFO | 200\\n200\\n127.0.0.1 - - [28/Dec/2020:08:03:38 +0000] \"POST /score HTTP/1.0\" 200 22 \"-\" \"python-requests/2.25.0\"\\n2020-12-28 08:03:45,034 | root | INFO | Validation Request Content-Type\\nValidation Request Content-Type\\n2020-12-28 08:03:45,035 | root | INFO | \\tHost: localhost:5001\\n\\tHost: localhost:5001\\n2020-12-28 08:03:45,035 | root | INFO | \\tX-Real-Ip: 127.0.0.1\\n\\tX-Real-Ip: 127.0.0.1\\n2020-12-28 08:03:45,036 | root | INFO | \\tX-Forwarded-For: 127.0.0.1\\n\\tX-Forwarded-For: 127.0.0.1\\n2020-12-28 08:03:45,036 | root | INFO | \\tX-Forwarded-Proto: http\\n\\tX-Forwarded-Proto: http\\n2020-12-28 08:03:45,036 | root | INFO | \\tConnection: close\\n\\tConnection: close\\n2020-12-28 08:03:45,037 | root | INFO | \\tContent-Length: 704\\n\\tContent-Length: 704\\n2020-12-28 08:03:45,037 | root | INFO | \\tUser-Agent: python-requests/2.25.0\\n\\tUser-Agent: python-requests/2.25.0\\n2020-12-28 08:03:45,037 | root | INFO | \\tAccept: application/json\\n\\tAccept: application/json\\n2020-12-28 08:03:45,037 | root | INFO | \\tAccept-Encoding: gzip, deflate\\n\\tAccept-Encoding: gzip, deflate\\n2020-12-28 08:03:45,038 | root | INFO | \\tContent-Type: application/json\\n\\tContent-Type: application/json\\n2020-12-28 08:03:45,038 | root | INFO | \\tX-Ms-Request-Id: 9284995b-ad02-4e21-9e8e-17875c1e7f3a\\n\\tX-Ms-Request-Id: 9284995b-ad02-4e21-9e8e-17875c1e7f3a\\n2020-12-28 08:03:45,038 | root | INFO | Scoring Timer is set to 60.0 seconds\\nScoring Timer is set to 60.0 seconds\\n2020-12-28 08:03:45,241 | root | INFO | 200\\n200\\n127.0.0.1 - - [28/Dec/2020:08:03:45 +0000] \"POST /score HTTP/1.0\" 200 25 \"-\" \"python-requests/2.25.0\"\\n2020-12-28 08:04:45,024 | root | INFO | Validation Request Content-Type\\nValidation Request Content-Type\\n2020-12-28 08:04:45,025 | root | INFO | \\tHost: localhost:5001\\n\\tHost: localhost:5001\\n2020-12-28 08:04:45,025 | root | INFO | \\tX-Real-Ip: 127.0.0.1\\n\\tX-Real-Ip: 127.0.0.1\\n2020-12-28 08:04:45,026 | root | INFO | \\tX-Forwarded-For: 127.0.0.1\\n\\tX-Forwarded-For: 127.0.0.1\\n2020-12-28 08:04:45,026 | root | INFO | \\tX-Forwarded-Proto: http\\n\\tX-Forwarded-Proto: http\\n2020-12-28 08:04:45,026 | root | INFO | \\tConnection: close\\n\\tConnection: close\\n2020-12-28 08:04:45,027 | root | INFO | \\tContent-Length: 706\\n\\tContent-Length: 706\\n2020-12-28 08:04:45,027 | root | INFO | \\tUser-Agent: python-requests/2.25.0\\n\\tUser-Agent: python-requests/2.25.0\\n2020-12-28 08:04:45,028 | root | INFO | \\tAccept: application/json\\n\\tAccept: application/json\\n2020-12-28 08:04:45,028 | root | INFO | \\tAccept-Encoding: gzip, deflate\\n\\tAccept-Encoding: gzip, deflate\\n2020-12-28 08:04:45,028 | root | INFO | \\tContent-Type: application/json\\n\\tContent-Type: application/json\\n2020-12-28 08:04:45,029 | root | INFO | \\tX-Ms-Request-Id: ac1851ca-5293-44e2-87bf-d95d14ef2000\\n\\tX-Ms-Request-Id: ac1851ca-5293-44e2-87bf-d95d14ef2000\\n2020-12-28 08:04:45,029 | root | INFO | Scoring Timer is set to 60.0 seconds\\nScoring Timer is set to 60.0 seconds\\n2020-12-28 08:04:45,239 | root | INFO | 200\\n200\\n127.0.0.1 - - [28/Dec/2020:08:04:45 +0000] \"POST /score HTTP/1.0\" 200 25 \"-\" \"python-requests/2.25.0\"\\n2020-12-28 08:05:10,592 | root | INFO | Validation Request Content-Type\\nValidation Request Content-Type\\n2020-12-28 08:05:10,593 | root | INFO | \\tHost: localhost:5001\\n\\tHost: localhost:5001\\n2020-12-28 08:05:10,593 | root | INFO | \\tX-Real-Ip: 127.0.0.1\\n\\tX-Real-Ip: 127.0.0.1\\n2020-12-28 08:05:10,593 | root | INFO | \\tX-Forwarded-For: 127.0.0.1\\n\\tX-Forwarded-For: 127.0.0.1\\n2020-12-28 08:05:10,593 | root | INFO | \\tX-Forwarded-Proto: http\\n\\tX-Forwarded-Proto: http\\n2020-12-28 08:05:10,593 | root | INFO | \\tConnection: close\\n\\tConnection: close\\n2020-12-28 08:05:10,593 | root | INFO | \\tContent-Length: 706\\n\\tContent-Length: 706\\n2020-12-28 08:05:10,594 | root | INFO | \\tUser-Agent: python-requests/2.25.0\\n\\tUser-Agent: python-requests/2.25.0\\n2020-12-28 08:05:10,595 | root | INFO | \\tAccept: application/json\\n\\tAccept: application/json\\n2020-12-28 08:05:10,595 | root | INFO | \\tAccept-Encoding: gzip, deflate\\n\\tAccept-Encoding: gzip, deflate\\n2020-12-28 08:05:10,596 | root | INFO | \\tContent-Type: application/json\\n\\tContent-Type: application/json\\n2020-12-28 08:05:10,597 | root | INFO | \\tX-Ms-Request-Id: 2a278dde-69d8-41a5-be99-744049a160ea\\n\\tX-Ms-Request-Id: 2a278dde-69d8-41a5-be99-744049a160ea\\n2020-12-28 08:05:10,598 | root | INFO | Scoring Timer is set to 60.0 seconds\\nScoring Timer is set to 60.0 seconds\\n2020-12-28 08:05:10,806 | root | INFO | 200\\n200\\n127.0.0.1 - - [28/Dec/2020:08:05:10 +0000] \"POST /score HTTP/1.0\" 200 25 \"-\" \"python-requests/2.25.0\"\\n2020-12-28 08:05:38,595 | root | INFO | Validation Request Content-Type\\nValidation Request Content-Type\\n2020-12-28 08:05:38,595 | root | INFO | \\tHost: localhost:5001\\n\\tHost: localhost:5001\\n2020-12-28 08:05:38,596 | root | INFO | \\tX-Real-Ip: 127.0.0.1\\n\\tX-Real-Ip: 127.0.0.1\\n2020-12-28 08:05:38,596 | root | INFO | \\tX-Forwarded-For: 127.0.0.1\\n\\tX-Forwarded-For: 127.0.0.1\\n2020-12-28 08:05:38,596 | root | INFO | \\tX-Forwarded-Proto: http\\n\\tX-Forwarded-Proto: http\\n2020-12-28 08:05:38,596 | root | INFO | \\tConnection: close\\n\\tConnection: close\\n2020-12-28 08:05:38,596 | root | INFO | \\tContent-Length: 703\\n\\tContent-Length: 703\\n2020-12-28 08:05:38,596 | root | INFO | \\tUser-Agent: python-requests/2.25.0\\n\\tUser-Agent: python-requests/2.25.0\\n2020-12-28 08:05:38,596 | root | INFO | \\tAccept: application/json\\n\\tAccept: application/json\\n2020-12-28 08:05:38,597 | root | INFO | \\tAccept-Encoding: gzip, deflate\\n\\tAccept-Encoding: gzip, deflate\\n2020-12-28 08:05:38,597 | root | INFO | \\tContent-Type: application/json\\n\\tContent-Type: application/json\\n2020-12-28 08:05:38,597 | root | INFO | \\tX-Ms-Request-Id: 5f914dd7-31aa-4a53-9f8d-31a1cf8f66bd\\n\\tX-Ms-Request-Id: 5f914dd7-31aa-4a53-9f8d-31a1cf8f66bd\\n2020-12-28 08:05:38,597 | root | INFO | Scoring Timer is set to 60.0 seconds\\nScoring Timer is set to 60.0 seconds\\n2020-12-28 08:05:38,812 | root | INFO | 200\\n200\\n127.0.0.1 - - [28/Dec/2020:08:05:38 +0000] \"POST /score HTTP/1.0\" 200 25 \"-\" \"python-requests/2.25.0\"\\n'"
      ]
     },
     "execution_count": 37,
     "metadata": {},
     "output_type": "execute_result"
    }
   ],
   "source": [
    "service.get_logs()"
   ]
  },
  {
   "cell_type": "code",
   "execution_count": 38,
   "metadata": {},
   "outputs": [],
   "source": [
    "service.delete()"
   ]
  },
  {
   "cell_type": "code",
   "execution_count": null,
   "metadata": {},
   "outputs": [],
   "source": []
  },
  {
   "cell_type": "code",
   "execution_count": null,
   "metadata": {},
   "outputs": [],
   "source": []
  },
  {
   "cell_type": "code",
   "execution_count": null,
   "metadata": {},
   "outputs": [],
   "source": []
  }
 ],
 "metadata": {
  "kernel_info": {
   "name": "python3"
  },
  "kernelspec": {
   "display_name": "Python 3",
   "language": "python",
   "name": "python3"
  },
  "language_info": {
   "codemirror_mode": {
    "name": "ipython",
    "version": 3
   },
   "file_extension": ".py",
   "mimetype": "text/x-python",
   "name": "python",
   "nbconvert_exporter": "python",
   "pygments_lexer": "ipython3",
   "version": "3.6.9"
  },
  "nteract": {
   "version": "nteract-front-end@1.0.0"
  }
 },
 "nbformat": 4,
 "nbformat_minor": 4
}
