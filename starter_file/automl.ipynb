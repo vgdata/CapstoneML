{
 "cells": [
  {
   "cell_type": "markdown",
   "metadata": {},
   "source": [
    "## Automated ML\n",
    "\n",
    "Import dependencies. "
   ]
  },
  {
   "cell_type": "code",
   "execution_count": 1,
   "metadata": {
    "gather": {
     "logged": 1609140734398
    },
    "jupyter": {
     "outputs_hidden": false,
     "source_hidden": false
    },
    "nteract": {
     "transient": {
      "deleting": false
     }
    }
   },
   "outputs": [],
   "source": [
    "import os\n",
    "import pandas as pd\n",
    "import numpy as np\n",
    "import json\n",
    "import requests\n",
    "import joblib\n",
    "from sklearn.metrics import confusion_matrix\n",
    "import itertools\n",
    "\n",
    "from azureml.core import Dataset, Workspace, Experiment\n",
    "from azureml.core.compute import ComputeTarget, AmlCompute\n",
    "from azureml.core.compute_target import ComputeTargetException\n",
    "from azureml.widgets import RunDetails\n",
    "from azureml.train.automl import AutoMLConfig\n",
    "\n",
    "from azureml.core.model import InferenceConfig\n",
    "from azureml.core.webservice import AciWebservice, Webservice\n",
    "from azureml.core.model import Model\n",
    "from azureml.core.environment import Environment"
   ]
  },
  {
   "cell_type": "markdown",
   "metadata": {},
   "source": [
    "## Dataset\n",
    "\n",
    "### Overview\n",
    "\n",
    "**Dataset:** Davide Chicco, Giuseppe Jurman: \"Machine learning can predict survival of patients with heart failure from serum creatinine and ejection fraction alone\". BMC Medical Informatics and Decision Making 20, 16 (2020)\n",
    "\n",
    "Heart failure is a common event caused by CVDs and this dataset contains 12 features that can be used to predict mortality by heart failure.\n",
    "\n",
    "**12 clinical features:**\n",
    "\n",
    "- age: age of the patient (years)\n",
    "- anaemia: decrease of red blood cells or hemoglobin (boolean)\n",
    "- high blood pressure: if the patient has hypertension (boolean)\n",
    "- creatinine phosphokinase (CPK): level of the CPK enzyme in the blood (mcg/L)\n",
    "- diabetes: if the patient has diabetes (boolean)\n",
    "- ejection fraction: percentage of blood leaving the heart at each contraction (percentage)\n",
    "- platelets: platelets in the blood (kiloplatelets/mL)\n",
    "- sex: woman or man (binary)\n",
    "- serum creatinine: level of serum creatinine in the blood (mg/dL)\n",
    "- serum sodium: level of serum sodium in the blood (mEq/L)\n",
    "- smoking: if the patient smokes or not (boolean)\n",
    "- time: follow-up period (days)\n",
    "\n",
    "In this project, Azure AutoML will be used to make prediction on the death event based on patient's 12 clinical features. "
   ]
  },
  {
   "cell_type": "markdown",
   "metadata": {},
   "source": [
    "## Workspace setup"
   ]
  },
  {
   "cell_type": "code",
   "execution_count": 2,
   "metadata": {
    "gather": {
     "logged": 1609140774503
    },
    "jupyter": {
     "outputs_hidden": false,
     "source_hidden": false
    },
    "nteract": {
     "transient": {
      "deleting": false
     }
    }
   },
   "outputs": [],
   "source": [
    "ws = Workspace.from_config()\n",
    "\n",
    "experiment_name = 'automl-experiment'\n",
    "\n",
    "experiment = Experiment(ws, experiment_name)"
   ]
  },
  {
   "cell_type": "code",
   "execution_count": 4,
   "metadata": {
    "gather": {
     "logged": 1609063666153
    },
    "scrolled": true
   },
   "outputs": [],
   "source": [
    "dataset = Dataset.get_by_name(ws, 'heart-disease-kaggle.csv')"
   ]
  },
  {
   "cell_type": "code",
   "execution_count": 5,
   "metadata": {
    "gather": {
     "logged": 1609063680104
    },
    "nteract": {
     "transient": {
      "deleting": false
     }
    }
   },
   "outputs": [
    {
     "data": {
      "text/html": [
       "<div>\n",
       "<style scoped>\n",
       "    .dataframe tbody tr th:only-of-type {\n",
       "        vertical-align: middle;\n",
       "    }\n",
       "\n",
       "    .dataframe tbody tr th {\n",
       "        vertical-align: top;\n",
       "    }\n",
       "\n",
       "    .dataframe thead th {\n",
       "        text-align: right;\n",
       "    }\n",
       "</style>\n",
       "<table border=\"1\" class=\"dataframe\">\n",
       "  <thead>\n",
       "    <tr style=\"text-align: right;\">\n",
       "      <th></th>\n",
       "      <th>age</th>\n",
       "      <th>anaemia</th>\n",
       "      <th>creatinine_phosphokinase</th>\n",
       "      <th>diabetes</th>\n",
       "      <th>ejection_fraction</th>\n",
       "      <th>high_blood_pressure</th>\n",
       "      <th>platelets</th>\n",
       "      <th>serum_creatinine</th>\n",
       "      <th>serum_sodium</th>\n",
       "      <th>sex</th>\n",
       "      <th>smoking</th>\n",
       "      <th>time</th>\n",
       "      <th>DEATH_EVENT</th>\n",
       "    </tr>\n",
       "  </thead>\n",
       "  <tbody>\n",
       "    <tr>\n",
       "      <th>0</th>\n",
       "      <td>75.0</td>\n",
       "      <td>0</td>\n",
       "      <td>582</td>\n",
       "      <td>0</td>\n",
       "      <td>20</td>\n",
       "      <td>1</td>\n",
       "      <td>265000.00</td>\n",
       "      <td>1.9</td>\n",
       "      <td>130</td>\n",
       "      <td>1</td>\n",
       "      <td>0</td>\n",
       "      <td>4</td>\n",
       "      <td>1</td>\n",
       "    </tr>\n",
       "    <tr>\n",
       "      <th>1</th>\n",
       "      <td>55.0</td>\n",
       "      <td>0</td>\n",
       "      <td>7861</td>\n",
       "      <td>0</td>\n",
       "      <td>38</td>\n",
       "      <td>0</td>\n",
       "      <td>263358.03</td>\n",
       "      <td>1.1</td>\n",
       "      <td>136</td>\n",
       "      <td>1</td>\n",
       "      <td>0</td>\n",
       "      <td>6</td>\n",
       "      <td>1</td>\n",
       "    </tr>\n",
       "    <tr>\n",
       "      <th>2</th>\n",
       "      <td>65.0</td>\n",
       "      <td>0</td>\n",
       "      <td>146</td>\n",
       "      <td>0</td>\n",
       "      <td>20</td>\n",
       "      <td>0</td>\n",
       "      <td>162000.00</td>\n",
       "      <td>1.3</td>\n",
       "      <td>129</td>\n",
       "      <td>1</td>\n",
       "      <td>1</td>\n",
       "      <td>7</td>\n",
       "      <td>1</td>\n",
       "    </tr>\n",
       "    <tr>\n",
       "      <th>3</th>\n",
       "      <td>50.0</td>\n",
       "      <td>1</td>\n",
       "      <td>111</td>\n",
       "      <td>0</td>\n",
       "      <td>20</td>\n",
       "      <td>0</td>\n",
       "      <td>210000.00</td>\n",
       "      <td>1.9</td>\n",
       "      <td>137</td>\n",
       "      <td>1</td>\n",
       "      <td>0</td>\n",
       "      <td>7</td>\n",
       "      <td>1</td>\n",
       "    </tr>\n",
       "    <tr>\n",
       "      <th>4</th>\n",
       "      <td>65.0</td>\n",
       "      <td>1</td>\n",
       "      <td>160</td>\n",
       "      <td>1</td>\n",
       "      <td>20</td>\n",
       "      <td>0</td>\n",
       "      <td>327000.00</td>\n",
       "      <td>2.7</td>\n",
       "      <td>116</td>\n",
       "      <td>0</td>\n",
       "      <td>0</td>\n",
       "      <td>8</td>\n",
       "      <td>1</td>\n",
       "    </tr>\n",
       "  </tbody>\n",
       "</table>\n",
       "</div>"
      ],
      "text/plain": [
       "    age  anaemia  creatinine_phosphokinase  diabetes  ejection_fraction  \\\n",
       "0  75.0        0                       582         0                 20   \n",
       "1  55.0        0                      7861         0                 38   \n",
       "2  65.0        0                       146         0                 20   \n",
       "3  50.0        1                       111         0                 20   \n",
       "4  65.0        1                       160         1                 20   \n",
       "\n",
       "   high_blood_pressure  platelets  serum_creatinine  serum_sodium  sex  \\\n",
       "0                    1  265000.00               1.9           130    1   \n",
       "1                    0  263358.03               1.1           136    1   \n",
       "2                    0  162000.00               1.3           129    1   \n",
       "3                    0  210000.00               1.9           137    1   \n",
       "4                    0  327000.00               2.7           116    0   \n",
       "\n",
       "   smoking  time  DEATH_EVENT  \n",
       "0        0     4            1  \n",
       "1        0     6            1  \n",
       "2        1     7            1  \n",
       "3        0     7            1  \n",
       "4        0     8            1  "
      ]
     },
     "execution_count": 5,
     "metadata": {},
     "output_type": "execute_result"
    }
   ],
   "source": [
    "dataset.take(5).to_pandas_dataframe()"
   ]
  },
  {
   "cell_type": "code",
   "execution_count": 7,
   "metadata": {
    "gather": {
     "logged": 1609063684361
    }
   },
   "outputs": [],
   "source": [
    "data_train, data_test = dataset.random_split(0.9)"
   ]
  },
  {
   "cell_type": "markdown",
   "metadata": {},
   "source": [
    "## Config Compute Cluster"
   ]
  },
  {
   "cell_type": "code",
   "execution_count": 8,
   "metadata": {
    "gather": {
     "logged": 1609065223998
    }
   },
   "outputs": [
    {
     "name": "stdout",
     "output_type": "stream",
     "text": [
      "Creating\n",
      "Succeeded\n",
      "AmlCompute wait for completion finished\n",
      "\n",
      "Minimum number of nodes requested have been provisioned\n"
     ]
    }
   ],
   "source": [
    "cpu_cluster_name = \"cpu-cluster\"\n",
    "\n",
    "# Verify that cluster does not exist already\n",
    "try:\n",
    "    compute_target = ComputeTarget(workspace=ws, name=cpu_cluster_name)\n",
    "    print('Found existing cluster, use it.')\n",
    "except ComputeTargetException:\n",
    "    compute_config = AmlCompute.provisioning_configuration(vm_size='STANDARD_D12_V2',\n",
    "                                                           max_nodes=5)\n",
    "    compute_target = ComputeTarget.create(ws, cpu_cluster_name, compute_config)\n",
    "\n",
    "compute_target.wait_for_completion(show_output=True)"
   ]
  },
  {
   "cell_type": "markdown",
   "metadata": {},
   "source": [
    "## AutoML Configuration"
   ]
  },
  {
   "cell_type": "code",
   "execution_count": 9,
   "metadata": {
    "gather": {
     "logged": 1609065227571
    },
    "jupyter": {
     "outputs_hidden": false,
     "source_hidden": false
    },
    "nteract": {
     "transient": {
      "deleting": false
     }
    }
   },
   "outputs": [],
   "source": [
    "automl_settings = {\n",
    "    \"experiment_timeout_minutes\": 30,\n",
    "    \"max_concurrent_iterations\": 4,\n",
    "    \"primary_metric\" : 'accuracy',\n",
    "    \"n_cross_validations\": 5\n",
    "}\n",
    "automl_config = AutoMLConfig(compute_target=compute_target,\n",
    "                             task = \"classification\",\n",
    "                             training_data=data_train,\n",
    "                             label_column_name=\"DEATH_EVENT\", \n",
    "                             enable_early_stopping= True,\n",
    "                             featurization= 'auto',\n",
    "                             **automl_settings\n",
    "                            )"
   ]
  },
  {
   "cell_type": "markdown",
   "metadata": {},
   "source": [
    "AutoML typically performs cross validation, data balance check, cardinality check in prior to machine learning process with a variety of algorithms. "
   ]
  },
  {
   "cell_type": "code",
   "execution_count": 10,
   "metadata": {
    "gather": {
     "logged": 1609057253934
    }
   },
   "outputs": [
    {
     "name": "stdout",
     "output_type": "stream",
     "text": [
      "Running on remote.\n",
      "No run_configuration provided, running on cpu-cluster with default configuration\n",
      "Running on remote compute: cpu-cluster\n",
      "Parent Run ID: AutoML_0df6a668-9229-4f79-a88d-ebd9d5ce001d\n",
      "\n",
      "Current status: FeaturesGeneration. Generating features for the dataset.\n",
      "Current status: ModelSelection. Beginning model selection.\n",
      "\n",
      "****************************************************************************************************\n",
      "DATA GUARDRAILS: \n",
      "\n",
      "TYPE:         Class balancing detection\n",
      "STATUS:       PASSED\n",
      "DESCRIPTION:  Your inputs were analyzed, and all classes are balanced in your training data.\n",
      "              Learn more about imbalanced data: https://aka.ms/AutomatedMLImbalancedData\n",
      "\n",
      "****************************************************************************************************\n",
      "\n",
      "TYPE:         Missing feature values imputation\n",
      "STATUS:       PASSED\n",
      "DESCRIPTION:  No feature missing values were detected in the training data.\n",
      "              Learn more about missing value imputation: https://aka.ms/AutomatedMLFeaturization\n",
      "\n",
      "****************************************************************************************************\n",
      "\n",
      "TYPE:         High cardinality feature detection\n",
      "STATUS:       PASSED\n",
      "DESCRIPTION:  Your inputs were analyzed, and no high cardinality features were detected.\n",
      "              Learn more about high cardinality feature handling: https://aka.ms/AutomatedMLFeaturization\n",
      "\n",
      "****************************************************************************************************\n",
      "\n",
      "****************************************************************************************************\n",
      "ITERATION: The iteration being evaluated.\n",
      "PIPELINE: A summary description of the pipeline being evaluated.\n",
      "DURATION: Time taken for the current iteration.\n",
      "METRIC: The result of computing score on the fitted pipeline.\n",
      "BEST: The best observed score thus far.\n",
      "****************************************************************************************************\n",
      "\n",
      " ITERATION   PIPELINE                                       DURATION      METRIC      BEST\n",
      "         0   MaxAbsScaler LightGBM                          0:00:53       0.8238    0.8238\n",
      "         1   MaxAbsScaler XGBoostClassifier                 0:00:48       0.8127    0.8238\n",
      "         2   MinMaxScaler RandomForest                      0:00:43       0.8317    0.8317\n",
      "         3   MinMaxScaler RandomForest                      0:00:51       0.8468    0.8468\n",
      "         4   MinMaxScaler RandomForest                      0:00:48       0.8166    0.8468\n",
      "         8   SparseNormalizer XGBoostClassifier             0:00:51       0.8317    0.8468\n",
      "         9   MaxAbsScaler GradientBoosting                  0:00:41       0.8203    0.8468\n",
      "         7   MinMaxScaler SVM                               0:02:48       0.7152    0.8468\n",
      "         5   MinMaxScaler LightGBM                          0:02:58       0.8277    0.8468\n",
      "         6   SparseNormalizer LightGBM                      0:03:09       0.8168    0.8468\n",
      "        10   StandardScalerWrapper LogisticRegression       0:00:45       0.8128    0.8468\n",
      "        11   StandardScalerWrapper RandomForest             0:00:48       0.8204    0.8468\n",
      "        12   MaxAbsScaler LightGBM                          0:00:46       0.8319    0.8468\n",
      "        13   SparseNormalizer LightGBM                      0:00:53       0.8127    0.8468\n",
      "        14   RobustScaler ExtremeRandomTrees                0:00:45       0.8392    0.8468\n",
      "        15   StandardScalerWrapper XGBoostClassifier        0:00:42       0.8391    0.8468\n",
      "        16   RobustScaler ExtremeRandomTrees                0:00:45       0.8468    0.8468\n",
      "        17   StandardScalerWrapper GradientBoosting         0:00:47       0.8278    0.8468\n",
      "        18   MinMaxScaler LightGBM                          0:00:46       0.8317    0.8468\n",
      "        19   StandardScalerWrapper RandomForest             0:00:51       0.8430    0.8468\n",
      "        20   StandardScalerWrapper RandomForest             0:00:49       0.8391    0.8468\n",
      "        21   MaxAbsScaler ExtremeRandomTrees                0:00:44       0.8430    0.8468\n",
      "        22   StandardScalerWrapper LightGBM                 0:00:43       0.8428    0.8468\n",
      "        23   StandardScalerWrapper XGBoostClassifier        0:00:48       0.8279    0.8468\n",
      "        24   SparseNormalizer XGBoostClassifier             0:00:55       0.8391    0.8468\n",
      "        25   TruncatedSVDWrapper RandomForest               0:00:47       0.6741    0.8468\n",
      "        26   MaxAbsScaler LightGBM                          0:00:44       0.7904    0.8468\n",
      "        27   MaxAbsScaler LightGBM                          0:00:44       0.7717    0.8468\n",
      "        28   MaxAbsScaler ExtremeRandomTrees                0:00:49       0.8277    0.8468\n",
      "        29   MaxAbsScaler RandomForest                      0:00:45       0.8015    0.8468\n",
      "        30   StandardScalerWrapper RandomForest             0:00:49       0.6817    0.8468\n",
      "        31   MaxAbsScaler RandomForest                      0:00:47       0.8241    0.8468\n",
      "        32   MaxAbsScaler LightGBM                          0:00:45       0.8316    0.8468\n",
      "        33   SparseNormalizer LightGBM                      0:00:46       0.8089    0.8468\n",
      "        34   SparseNormalizer LightGBM                      0:00:52       0.8243    0.8468\n",
      "        35                                                  0:00:15          nan    0.8468\n",
      "        36    VotingEnsemble                                0:01:04       0.8618    0.8618\n",
      "        37    StackEnsemble                                 0:01:05       0.8391    0.8618\n"
     ]
    }
   ],
   "source": [
    "remote_run = experiment.submit(automl_config, show_output = True)"
   ]
  },
  {
   "cell_type": "markdown",
   "metadata": {},
   "source": [
    "## Run Details"
   ]
  },
  {
   "cell_type": "code",
   "execution_count": 13,
   "metadata": {
    "gather": {
     "logged": 1609064958780
    },
    "scrolled": true
   },
   "outputs": [
    {
     "data": {
      "text/html": [
       "<table style=\"width:100%\"><tr><th>Experiment</th><th>Id</th><th>Type</th><th>Status</th><th>Details Page</th><th>Docs Page</th></tr><tr><td>automl-experiment</td><td>AutoML_0df6a668-9229-4f79-a88d-ebd9d5ce001d</td><td>automl</td><td>Completed</td><td><a href=\"https://ml.azure.com/experiments/automl-experiment/runs/AutoML_0df6a668-9229-4f79-a88d-ebd9d5ce001d?wsid=/subscriptions/610d6e37-4747-4a20-80eb-3aad70a55f43/resourcegroups/aml-quickstarts-139798/workspaces/quick-starts-ws-139798\" target=\"_blank\" rel=\"noopener\">Link to Azure Machine Learning studio</a></td><td><a href=\"https://docs.microsoft.com/en-us/python/api/overview/azure/ml/intro?view=azure-ml-py\" target=\"_blank\" rel=\"noopener\">Link to Documentation</a></td></tr></table>"
      ],
      "text/plain": [
       "Run(Experiment: automl-experiment,\n",
       "Id: AutoML_0df6a668-9229-4f79-a88d-ebd9d5ce001d,\n",
       "Type: automl,\n",
       "Status: Completed)"
      ]
     },
     "execution_count": 13,
     "metadata": {},
     "output_type": "execute_result"
    }
   ],
   "source": [
    "remote_run"
   ]
  },
  {
   "cell_type": "code",
   "execution_count": 15,
   "metadata": {
    "gather": {
     "logged": 1609057313573
    },
    "scrolled": true
   },
   "outputs": [
    {
     "data": {
      "application/vnd.jupyter.widget-view+json": {
       "model_id": "4df742d97d974bb187fc058e23ae13cf",
       "version_major": 2,
       "version_minor": 0
      },
      "text/plain": [
       "_AutoMLWidget(widget_settings={'childWidgetDisplay': 'popup', 'send_telemetry': False, 'log_level': 'INFO', 's…"
      ]
     },
     "metadata": {},
     "output_type": "display_data"
    },
    {
     "data": {
      "application/aml.mini.widget.v1": "{\"status\": \"Completed\", \"workbench_run_details_uri\": \"https://ml.azure.com/experiments/automl-experiment/runs/AutoML_0df6a668-9229-4f79-a88d-ebd9d5ce001d?wsid=/subscriptions/610d6e37-4747-4a20-80eb-3aad70a55f43/resourcegroups/aml-quickstarts-139798/workspaces/quick-starts-ws-139798\", \"run_id\": \"AutoML_0df6a668-9229-4f79-a88d-ebd9d5ce001d\", \"run_properties\": {\"run_id\": \"AutoML_0df6a668-9229-4f79-a88d-ebd9d5ce001d\", \"created_utc\": \"2021-03-04T14:27:45.236858Z\", \"properties\": {\"num_iterations\": \"1000\", \"training_type\": \"TrainFull\", \"acquisition_function\": \"EI\", \"primary_metric\": \"accuracy\", \"train_split\": \"0\", \"acquisition_parameter\": \"0\", \"num_cross_validation\": \"5\", \"target\": \"cpu-cluster\", \"AMLSettingsJsonString\": \"{\\\"path\\\":null,\\\"name\\\":\\\"automl-experiment\\\",\\\"subscription_id\\\":\\\"610d6e37-4747-4a20-80eb-3aad70a55f43\\\",\\\"resource_group\\\":\\\"aml-quickstarts-139798\\\",\\\"workspace_name\\\":\\\"quick-starts-ws-139798\\\",\\\"region\\\":\\\"southcentralus\\\",\\\"compute_target\\\":\\\"cpu-cluster\\\",\\\"spark_service\\\":null,\\\"azure_service\\\":\\\"remote\\\",\\\"many_models\\\":false,\\\"pipeline_fetch_max_batch_size\\\":1,\\\"iterations\\\":1000,\\\"primary_metric\\\":\\\"accuracy\\\",\\\"task_type\\\":\\\"classification\\\",\\\"data_script\\\":null,\\\"validation_size\\\":0.0,\\\"n_cross_validations\\\":5,\\\"y_min\\\":null,\\\"y_max\\\":null,\\\"num_classes\\\":null,\\\"featurization\\\":\\\"auto\\\",\\\"_ignore_package_version_incompatibilities\\\":false,\\\"is_timeseries\\\":false,\\\"max_cores_per_iteration\\\":1,\\\"max_concurrent_iterations\\\":4,\\\"iteration_timeout_minutes\\\":null,\\\"mem_in_mb\\\":null,\\\"enforce_time_on_windows\\\":false,\\\"experiment_timeout_minutes\\\":30,\\\"experiment_exit_score\\\":null,\\\"whitelist_models\\\":null,\\\"blacklist_algos\\\":[\\\"TensorFlowLinearClassifier\\\",\\\"TensorFlowDNN\\\"],\\\"supported_models\\\":[\\\"GradientBoosting\\\",\\\"MultinomialNaiveBayes\\\",\\\"LogisticRegression\\\",\\\"BernoulliNaiveBayes\\\",\\\"SGD\\\",\\\"ExtremeRandomTrees\\\",\\\"XGBoostClassifier\\\",\\\"RandomForest\\\",\\\"AveragedPerceptronClassifier\\\",\\\"TensorFlowDNN\\\",\\\"TensorFlowLinearClassifier\\\",\\\"KNN\\\",\\\"DecisionTree\\\",\\\"LightGBM\\\",\\\"SVM\\\",\\\"LinearSVM\\\"],\\\"private_models\\\":[],\\\"auto_blacklist\\\":true,\\\"blacklist_samples_reached\\\":false,\\\"exclude_nan_labels\\\":true,\\\"verbosity\\\":20,\\\"_debug_log\\\":\\\"azureml_automl.log\\\",\\\"show_warnings\\\":false,\\\"model_explainability\\\":true,\\\"service_url\\\":null,\\\"sdk_url\\\":null,\\\"sdk_packages\\\":null,\\\"enable_onnx_compatible_models\\\":false,\\\"enable_split_onnx_featurizer_estimator_models\\\":false,\\\"vm_type\\\":\\\"STANDARD_D12_V2\\\",\\\"telemetry_verbosity\\\":20,\\\"send_telemetry\\\":true,\\\"enable_dnn\\\":false,\\\"scenario\\\":\\\"SDK-1.13.0\\\",\\\"environment_label\\\":null,\\\"force_text_dnn\\\":false,\\\"enable_feature_sweeping\\\":true,\\\"enable_early_stopping\\\":true,\\\"early_stopping_n_iters\\\":10,\\\"metrics\\\":null,\\\"enable_ensembling\\\":true,\\\"enable_stack_ensembling\\\":true,\\\"ensemble_iterations\\\":15,\\\"enable_tf\\\":false,\\\"enable_subsampling\\\":null,\\\"subsample_seed\\\":null,\\\"enable_nimbusml\\\":false,\\\"enable_streaming\\\":false,\\\"force_streaming\\\":false,\\\"track_child_runs\\\":true,\\\"allowed_private_models\\\":[],\\\"label_column_name\\\":\\\"DEATH_EVENT\\\",\\\"weight_column_name\\\":null,\\\"cv_split_column_names\\\":null,\\\"enable_local_managed\\\":false,\\\"_local_managed_run_id\\\":null,\\\"cost_mode\\\":1,\\\"lag_length\\\":0,\\\"metric_operation\\\":\\\"maximize\\\",\\\"preprocess\\\":true}\", \"DataPrepJsonString\": \"{\\\\\\\"training_data\\\\\\\": \\\\\\\"{\\\\\\\\\\\\\\\"blocks\\\\\\\\\\\\\\\": [{\\\\\\\\\\\\\\\"id\\\\\\\\\\\\\\\": \\\\\\\\\\\\\\\"7d5e5d74-49b9-404c-8606-e3da660d3af3\\\\\\\\\\\\\\\", \\\\\\\\\\\\\\\"type\\\\\\\\\\\\\\\": \\\\\\\\\\\\\\\"Microsoft.DPrep.GetDatastoreFilesBlock\\\\\\\\\\\\\\\", \\\\\\\\\\\\\\\"arguments\\\\\\\\\\\\\\\": {\\\\\\\\\\\\\\\"datastores\\\\\\\\\\\\\\\": [{\\\\\\\\\\\\\\\"datastoreName\\\\\\\\\\\\\\\": \\\\\\\\\\\\\\\"workspaceblobstore\\\\\\\\\\\\\\\", \\\\\\\\\\\\\\\"path\\\\\\\\\\\\\\\": \\\\\\\\\\\\\\\"UI/03-04-2021_015339_UTC/heart-disease-kaggle.csv\\\\\\\\\\\\\\\", \\\\\\\\\\\\\\\"resourceGroup\\\\\\\\\\\\\\\": \\\\\\\\\\\\\\\"aml-quickstarts-139798\\\\\\\\\\\\\\\", \\\\\\\\\\\\\\\"subscription\\\\\\\\\\\\\\\": \\\\\\\\\\\\\\\"610d6e37-4747-4a20-80eb-3aad70a55f43\\\\\\\\\\\\\\\", \\\\\\\\\\\\\\\"workspaceName\\\\\\\\\\\\\\\": \\\\\\\\\\\\\\\"quick-starts-ws-139798\\\\\\\\\\\\\\\"}]}, \\\\\\\\\\\\\\\"localData\\\\\\\\\\\\\\\": {}, \\\\\\\\\\\\\\\"isEnabled\\\\\\\\\\\\\\\": true, \\\\\\\\\\\\\\\"name\\\\\\\\\\\\\\\": null, \\\\\\\\\\\\\\\"annotation\\\\\\\\\\\\\\\": null}, {\\\\\\\\\\\\\\\"id\\\\\\\\\\\\\\\": \\\\\\\\\\\\\\\"a21ed61d-e236-4b27-b1f3-3a08fccdb203\\\\\\\\\\\\\\\", \\\\\\\\\\\\\\\"type\\\\\\\\\\\\\\\": \\\\\\\\\\\\\\\"Microsoft.DPrep.ParseDelimitedBlock\\\\\\\\\\\\\\\", \\\\\\\\\\\\\\\"arguments\\\\\\\\\\\\\\\": {\\\\\\\\\\\\\\\"columnHeadersMode\\\\\\\\\\\\\\\": 3, \\\\\\\\\\\\\\\"fileEncoding\\\\\\\\\\\\\\\": 0, \\\\\\\\\\\\\\\"handleQuotedLineBreaks\\\\\\\\\\\\\\\": false, \\\\\\\\\\\\\\\"preview\\\\\\\\\\\\\\\": false, \\\\\\\\\\\\\\\"separator\\\\\\\\\\\\\\\": \\\\\\\\\\\\\\\",\\\\\\\\\\\\\\\", \\\\\\\\\\\\\\\"skipRows\\\\\\\\\\\\\\\": 0, \\\\\\\\\\\\\\\"skipRowsMode\\\\\\\\\\\\\\\": 0}, \\\\\\\\\\\\\\\"localData\\\\\\\\\\\\\\\": {}, \\\\\\\\\\\\\\\"isEnabled\\\\\\\\\\\\\\\": true, \\\\\\\\\\\\\\\"name\\\\\\\\\\\\\\\": null, \\\\\\\\\\\\\\\"annotation\\\\\\\\\\\\\\\": null}, {\\\\\\\\\\\\\\\"id\\\\\\\\\\\\\\\": \\\\\\\\\\\\\\\"adc98b71-5886-4d4c-9594-c5fadb562458\\\\\\\\\\\\\\\", \\\\\\\\\\\\\\\"type\\\\\\\\\\\\\\\": \\\\\\\\\\\\\\\"Microsoft.DPrep.DropColumnsBlock\\\\\\\\\\\\\\\", \\\\\\\\\\\\\\\"arguments\\\\\\\\\\\\\\\": {\\\\\\\\\\\\\\\"columns\\\\\\\\\\\\\\\": {\\\\\\\\\\\\\\\"type\\\\\\\\\\\\\\\": 0, \\\\\\\\\\\\\\\"details\\\\\\\\\\\\\\\": {\\\\\\\\\\\\\\\"selectedColumns\\\\\\\\\\\\\\\": [\\\\\\\\\\\\\\\"Path\\\\\\\\\\\\\\\"]}}}, \\\\\\\\\\\\\\\"localData\\\\\\\\\\\\\\\": {}, \\\\\\\\\\\\\\\"isEnabled\\\\\\\\\\\\\\\": true, \\\\\\\\\\\\\\\"name\\\\\\\\\\\\\\\": null, \\\\\\\\\\\\\\\"annotation\\\\\\\\\\\\\\\": null}, {\\\\\\\\\\\\\\\"id\\\\\\\\\\\\\\\": \\\\\\\\\\\\\\\"62f8398a-724b-4807-b3fe-2027c2c36854\\\\\\\\\\\\\\\", \\\\\\\\\\\\\\\"type\\\\\\\\\\\\\\\": \\\\\\\\\\\\\\\"Microsoft.DPrep.SetColumnTypesBlock\\\\\\\\\\\\\\\", \\\\\\\\\\\\\\\"arguments\\\\\\\\\\\\\\\": {\\\\\\\\\\\\\\\"columnConversion\\\\\\\\\\\\\\\": [{\\\\\\\\\\\\\\\"column\\\\\\\\\\\\\\\": {\\\\\\\\\\\\\\\"type\\\\\\\\\\\\\\\": 2, \\\\\\\\\\\\\\\"details\\\\\\\\\\\\\\\": {\\\\\\\\\\\\\\\"selectedColumn\\\\\\\\\\\\\\\": \\\\\\\\\\\\\\\"Path\\\\\\\\\\\\\\\"}}, \\\\\\\\\\\\\\\"typeProperty\\\\\\\\\\\\\\\": 0}, {\\\\\\\\\\\\\\\"column\\\\\\\\\\\\\\\": {\\\\\\\\\\\\\\\"type\\\\\\\\\\\\\\\": 2, \\\\\\\\\\\\\\\"details\\\\\\\\\\\\\\\": {\\\\\\\\\\\\\\\"selectedColumn\\\\\\\\\\\\\\\": \\\\\\\\\\\\\\\"age\\\\\\\\\\\\\\\"}}, \\\\\\\\\\\\\\\"typeProperty\\\\\\\\\\\\\\\": 3}, {\\\\\\\\\\\\\\\"column\\\\\\\\\\\\\\\": {\\\\\\\\\\\\\\\"type\\\\\\\\\\\\\\\": 2, \\\\\\\\\\\\\\\"details\\\\\\\\\\\\\\\": {\\\\\\\\\\\\\\\"selectedColumn\\\\\\\\\\\\\\\": \\\\\\\\\\\\\\\"anaemia\\\\\\\\\\\\\\\"}}, \\\\\\\\\\\\\\\"typeProperty\\\\\\\\\\\\\\\": 2}, {\\\\\\\\\\\\\\\"column\\\\\\\\\\\\\\\": {\\\\\\\\\\\\\\\"type\\\\\\\\\\\\\\\": 2, \\\\\\\\\\\\\\\"details\\\\\\\\\\\\\\\": {\\\\\\\\\\\\\\\"selectedColumn\\\\\\\\\\\\\\\": \\\\\\\\\\\\\\\"creatinine_phosphokinase\\\\\\\\\\\\\\\"}}, \\\\\\\\\\\\\\\"typeProperty\\\\\\\\\\\\\\\": 2}, {\\\\\\\\\\\\\\\"column\\\\\\\\\\\\\\\": {\\\\\\\\\\\\\\\"type\\\\\\\\\\\\\\\": 2, \\\\\\\\\\\\\\\"details\\\\\\\\\\\\\\\": {\\\\\\\\\\\\\\\"selectedColumn\\\\\\\\\\\\\\\": \\\\\\\\\\\\\\\"diabetes\\\\\\\\\\\\\\\"}}, \\\\\\\\\\\\\\\"typeProperty\\\\\\\\\\\\\\\": 2}, {\\\\\\\\\\\\\\\"column\\\\\\\\\\\\\\\": {\\\\\\\\\\\\\\\"type\\\\\\\\\\\\\\\": 2, \\\\\\\\\\\\\\\"details\\\\\\\\\\\\\\\": {\\\\\\\\\\\\\\\"selectedColumn\\\\\\\\\\\\\\\": \\\\\\\\\\\\\\\"ejection_fraction\\\\\\\\\\\\\\\"}}, \\\\\\\\\\\\\\\"typeProperty\\\\\\\\\\\\\\\": 2}, {\\\\\\\\\\\\\\\"column\\\\\\\\\\\\\\\": {\\\\\\\\\\\\\\\"type\\\\\\\\\\\\\\\": 2, \\\\\\\\\\\\\\\"details\\\\\\\\\\\\\\\": {\\\\\\\\\\\\\\\"selectedColumn\\\\\\\\\\\\\\\": \\\\\\\\\\\\\\\"high_blood_pressure\\\\\\\\\\\\\\\"}}, \\\\\\\\\\\\\\\"typeProperty\\\\\\\\\\\\\\\": 2}, {\\\\\\\\\\\\\\\"column\\\\\\\\\\\\\\\": {\\\\\\\\\\\\\\\"type\\\\\\\\\\\\\\\": 2, \\\\\\\\\\\\\\\"details\\\\\\\\\\\\\\\": {\\\\\\\\\\\\\\\"selectedColumn\\\\\\\\\\\\\\\": \\\\\\\\\\\\\\\"platelets\\\\\\\\\\\\\\\"}}, \\\\\\\\\\\\\\\"typeProperty\\\\\\\\\\\\\\\": 3}, {\\\\\\\\\\\\\\\"column\\\\\\\\\\\\\\\": {\\\\\\\\\\\\\\\"type\\\\\\\\\\\\\\\": 2, \\\\\\\\\\\\\\\"details\\\\\\\\\\\\\\\": {\\\\\\\\\\\\\\\"selectedColumn\\\\\\\\\\\\\\\": \\\\\\\\\\\\\\\"serum_creatinine\\\\\\\\\\\\\\\"}}, \\\\\\\\\\\\\\\"typeProperty\\\\\\\\\\\\\\\": 3}, {\\\\\\\\\\\\\\\"column\\\\\\\\\\\\\\\": {\\\\\\\\\\\\\\\"type\\\\\\\\\\\\\\\": 2, \\\\\\\\\\\\\\\"details\\\\\\\\\\\\\\\": {\\\\\\\\\\\\\\\"selectedColumn\\\\\\\\\\\\\\\": \\\\\\\\\\\\\\\"serum_sodium\\\\\\\\\\\\\\\"}}, \\\\\\\\\\\\\\\"typeProperty\\\\\\\\\\\\\\\": 2}, {\\\\\\\\\\\\\\\"column\\\\\\\\\\\\\\\": {\\\\\\\\\\\\\\\"type\\\\\\\\\\\\\\\": 2, \\\\\\\\\\\\\\\"details\\\\\\\\\\\\\\\": {\\\\\\\\\\\\\\\"selectedColumn\\\\\\\\\\\\\\\": \\\\\\\\\\\\\\\"sex\\\\\\\\\\\\\\\"}}, \\\\\\\\\\\\\\\"typeProperty\\\\\\\\\\\\\\\": 2}, {\\\\\\\\\\\\\\\"column\\\\\\\\\\\\\\\": {\\\\\\\\\\\\\\\"type\\\\\\\\\\\\\\\": 2, \\\\\\\\\\\\\\\"details\\\\\\\\\\\\\\\": {\\\\\\\\\\\\\\\"selectedColumn\\\\\\\\\\\\\\\": \\\\\\\\\\\\\\\"smoking\\\\\\\\\\\\\\\"}}, \\\\\\\\\\\\\\\"typeProperty\\\\\\\\\\\\\\\": 2}, {\\\\\\\\\\\\\\\"column\\\\\\\\\\\\\\\": {\\\\\\\\\\\\\\\"type\\\\\\\\\\\\\\\": 2, \\\\\\\\\\\\\\\"details\\\\\\\\\\\\\\\": {\\\\\\\\\\\\\\\"selectedColumn\\\\\\\\\\\\\\\": \\\\\\\\\\\\\\\"time\\\\\\\\\\\\\\\"}}, \\\\\\\\\\\\\\\"typeProperty\\\\\\\\\\\\\\\": 2}, {\\\\\\\\\\\\\\\"column\\\\\\\\\\\\\\\": {\\\\\\\\\\\\\\\"type\\\\\\\\\\\\\\\": 2, \\\\\\\\\\\\\\\"details\\\\\\\\\\\\\\\": {\\\\\\\\\\\\\\\"selectedColumn\\\\\\\\\\\\\\\": \\\\\\\\\\\\\\\"DEATH_EVENT\\\\\\\\\\\\\\\"}}, \\\\\\\\\\\\\\\"typeProperty\\\\\\\\\\\\\\\": 2}]}, \\\\\\\\\\\\\\\"localData\\\\\\\\\\\\\\\": {}, \\\\\\\\\\\\\\\"isEnabled\\\\\\\\\\\\\\\": true, \\\\\\\\\\\\\\\"name\\\\\\\\\\\\\\\": null, \\\\\\\\\\\\\\\"annotation\\\\\\\\\\\\\\\": null}, {\\\\\\\\\\\\\\\"id\\\\\\\\\\\\\\\": \\\\\\\\\\\\\\\"3d24384e-57fa-4964-9b01-d00cef6e4252\\\\\\\\\\\\\\\", \\\\\\\\\\\\\\\"type\\\\\\\\\\\\\\\": \\\\\\\\\\\\\\\"Microsoft.DPrep.TakeSampleBlock\\\\\\\\\\\\\\\", \\\\\\\\\\\\\\\"arguments\\\\\\\\\\\\\\\": {\\\\\\\\\\\\\\\"probability\\\\\\\\\\\\\\\": 0.9, \\\\\\\\\\\\\\\"probabilityLowerBound\\\\\\\\\\\\\\\": 0.0, \\\\\\\\\\\\\\\"seed\\\\\\\\\\\\\\\": 887772947}, \\\\\\\\\\\\\\\"localData\\\\\\\\\\\\\\\": {}, \\\\\\\\\\\\\\\"isEnabled\\\\\\\\\\\\\\\": true, \\\\\\\\\\\\\\\"name\\\\\\\\\\\\\\\": null, \\\\\\\\\\\\\\\"annotation\\\\\\\\\\\\\\\": null}], \\\\\\\\\\\\\\\"inspectors\\\\\\\\\\\\\\\": [], \\\\\\\\\\\\\\\"meta\\\\\\\\\\\\\\\": {\\\\\\\\\\\\\\\"savedDatasetId\\\\\\\\\\\\\\\": \\\\\\\\\\\\\\\"2892ac5a-6284-4aa4-9d7d-fbe0569cf0f3\\\\\\\\\\\\\\\", \\\\\\\\\\\\\\\"datasetType\\\\\\\\\\\\\\\": \\\\\\\\\\\\\\\"tabular\\\\\\\\\\\\\\\", \\\\\\\\\\\\\\\"subscriptionId\\\\\\\\\\\\\\\": \\\\\\\\\\\\\\\"610d6e37-4747-4a20-80eb-3aad70a55f43\\\\\\\\\\\\\\\", \\\\\\\\\\\\\\\"workspaceId\\\\\\\\\\\\\\\": \\\\\\\\\\\\\\\"bf2deacd-2592-411b-935e-6e7e8edcc2c9\\\\\\\\\\\\\\\", \\\\\\\\\\\\\\\"workspaceLocation\\\\\\\\\\\\\\\": \\\\\\\\\\\\\\\"southcentralus\\\\\\\\\\\\\\\"}}\\\\\\\", \\\\\\\"activities\\\\\\\": 0}\", \"EnableSubsampling\": null, \"runTemplate\": \"AutoML\", \"azureml.runsource\": \"automl\", \"display_task_type\": \"classification\", \"dependencies_versions\": \"{\\\"azureml-widgets\\\": \\\"1.22.0\\\", \\\"azureml-train\\\": \\\"1.22.0\\\", \\\"azureml-train-restclients-hyperdrive\\\": \\\"1.22.0\\\", \\\"azureml-train-core\\\": \\\"1.22.0\\\", \\\"azureml-train-automl\\\": \\\"1.22.0\\\", \\\"azureml-train-automl-runtime\\\": \\\"1.22.0\\\", \\\"azureml-train-automl-client\\\": \\\"1.22.0\\\", \\\"azureml-tensorboard\\\": \\\"1.22.0\\\", \\\"azureml-telemetry\\\": \\\"1.22.0\\\", \\\"azureml-sdk\\\": \\\"1.22.0\\\", \\\"azureml-samples\\\": \\\"0+unknown\\\", \\\"azureml-pipeline\\\": \\\"1.22.0\\\", \\\"azureml-pipeline-steps\\\": \\\"1.22.0\\\", \\\"azureml-pipeline-core\\\": \\\"1.22.0\\\", \\\"azureml-opendatasets\\\": \\\"1.22.0\\\", \\\"azureml-model-management-sdk\\\": \\\"1.0.1b6.post1\\\", \\\"azureml-mlflow\\\": \\\"1.22.0\\\", \\\"azureml-interpret\\\": \\\"1.22.0\\\", \\\"azureml-explain-model\\\": \\\"1.22.0\\\", \\\"azureml-defaults\\\": \\\"1.22.0\\\", \\\"azureml-dataset-runtime\\\": \\\"1.22.0\\\", \\\"azureml-dataprep\\\": \\\"2.9.1\\\", \\\"azureml-dataprep-rslex\\\": \\\"1.7.0\\\", \\\"azureml-dataprep-native\\\": \\\"29.0.0\\\", \\\"azureml-datadrift\\\": \\\"1.22.0\\\", \\\"azureml-core\\\": \\\"1.22.0\\\", \\\"azureml-contrib-services\\\": \\\"1.22.0\\\", \\\"azureml-contrib-server\\\": \\\"1.22.0\\\", \\\"azureml-contrib-reinforcementlearning\\\": \\\"1.22.0\\\", \\\"azureml-contrib-pipeline-steps\\\": \\\"1.22.0\\\", \\\"azureml-contrib-notebook\\\": \\\"1.22.0\\\", \\\"azureml-contrib-interpret\\\": \\\"1.22.0\\\", \\\"azureml-contrib-gbdt\\\": \\\"1.22.0\\\", \\\"azureml-contrib-fairness\\\": \\\"1.22.0\\\", \\\"azureml-contrib-dataset\\\": \\\"1.22.0\\\", \\\"azureml-cli-common\\\": \\\"1.22.0\\\", \\\"azureml-automl-runtime\\\": \\\"1.22.0\\\", \\\"azureml-automl-core\\\": \\\"1.22.0\\\", \\\"azureml-accel-models\\\": \\\"1.22.0\\\"}\", \"_aml_system_scenario_identification\": \"Remote.Parent\", \"ClientType\": \"SDK\", \"environment_cpu_name\": \"AzureML-AutoML\", \"environment_cpu_label\": \"prod\", \"environment_gpu_name\": \"AzureML-AutoML-GPU\", \"environment_gpu_label\": \"prod\", \"root_attribution\": \"automl\", \"attribution\": \"AutoML\", \"Orchestrator\": \"AutoML\", \"CancelUri\": \"https://southcentralus.experiments.azureml.net/jasmine/v1.0/subscriptions/610d6e37-4747-4a20-80eb-3aad70a55f43/resourceGroups/aml-quickstarts-139798/providers/Microsoft.MachineLearningServices/workspaces/quick-starts-ws-139798/experimentids/a12d5245-543a-4a26-bd5f-80f7cfe2530e/cancel/AutoML_0df6a668-9229-4f79-a88d-ebd9d5ce001d\", \"ClientSdkVersion\": \"1.23.0\", \"snapshotId\": \"00000000-0000-0000-0000-000000000000\", \"SetupRunId\": \"AutoML_0df6a668-9229-4f79-a88d-ebd9d5ce001d_setup\", \"SetupRunContainerId\": \"dcid.AutoML_0df6a668-9229-4f79-a88d-ebd9d5ce001d_setup\", \"FeaturizationRunJsonPath\": \"featurizer_container.json\", \"FeaturizationRunId\": \"AutoML_0df6a668-9229-4f79-a88d-ebd9d5ce001d_featurize\", \"ProblemInfoJsonString\": \"{\\\"dataset_num_categorical\\\": 0, \\\"is_sparse\\\": false, \\\"subsampling\\\": false, \\\"dataset_classes\\\": 2, \\\"dataset_features\\\": 12, \\\"dataset_samples\\\": 267, \\\"single_frequency_class_detected\\\": false}\", \"ModelExplainRunId\": \"AutoML_0df6a668-9229-4f79-a88d-ebd9d5ce001d_ModelExplain\"}, \"tags\": {\"model_explain_run\": \"best_run\", \"_aml_system_azureml.automlComponent\": \"AutoML\", \"pipeline_id\": \"\", \"score\": \"\", \"predicted_cost\": \"\", \"fit_time\": \"\", \"training_percent\": \"\", \"iteration\": \"\", \"run_preprocessor\": \"\", \"run_algorithm\": \"\", \"dynamic_whitelisting_iterations\": \"<25>;<30>;<35>;\", \"automl_best_child_run_id\": \"AutoML_0df6a668-9229-4f79-a88d-ebd9d5ce001d_36\", \"model_explain_best_run_child_id\": \"AutoML_0df6a668-9229-4f79-a88d-ebd9d5ce001d_36\"}, \"end_time_utc\": \"2021-03-04T14:50:19.717672Z\", \"status\": \"Completed\", \"log_files\": {}, \"log_groups\": [], \"run_duration\": \"0:22:34\", \"run_number\": \"1\", \"run_queued_details\": {\"status\": \"Completed\", \"details\": null}}, \"child_runs\": [{\"run_id\": \"AutoML_0df6a668-9229-4f79-a88d-ebd9d5ce001d_0\", \"run_number\": 5, \"metric\": null, \"status\": \"Completed\", \"run_type\": \"azureml.scriptrun\", \"training_percent\": \"100\", \"start_time\": \"2021-03-04T14:35:47.404181Z\", \"end_time\": \"2021-03-04T14:36:40.610746Z\", \"created_time\": \"2021-03-04T14:35:35.385897Z\", \"created_time_dt\": \"2021-03-04T14:35:35.385897Z\", \"duration\": \"0:01:05\", \"iteration\": \"0\", \"goal\": \"accuracy_max\", \"run_name\": \"MaxAbsScaler, LightGBM\", \"run_properties\": \"copy=True\", \"primary_metric\": 0.82375961, \"best_metric\": 0.82375961}, {\"run_id\": \"AutoML_0df6a668-9229-4f79-a88d-ebd9d5ce001d_2\", \"run_number\": 6, \"metric\": null, \"status\": \"Completed\", \"run_type\": \"azureml.scriptrun\", \"training_percent\": \"100\", \"start_time\": \"2021-03-04T14:37:40.430268Z\", \"end_time\": \"2021-03-04T14:38:23.409565Z\", \"created_time\": \"2021-03-04T14:35:35.51825Z\", \"created_time_dt\": \"2021-03-04T14:35:35.51825Z\", \"duration\": \"0:02:47\", \"iteration\": \"2\", \"goal\": \"accuracy_max\", \"run_name\": \"MinMaxScaler, RandomForest\", \"run_properties\": \"copy=True, feature_range=(0, 1\", \"primary_metric\": 0.83165618, \"best_metric\": 0.83165618}, {\"run_id\": \"AutoML_0df6a668-9229-4f79-a88d-ebd9d5ce001d_1\", \"run_number\": 7, \"metric\": null, \"status\": \"Completed\", \"run_type\": \"azureml.scriptrun\", \"training_percent\": \"100\", \"start_time\": \"2021-03-04T14:36:47.011057Z\", \"end_time\": \"2021-03-04T14:37:35.076186Z\", \"created_time\": \"2021-03-04T14:35:35.521142Z\", \"created_time_dt\": \"2021-03-04T14:35:35.521142Z\", \"duration\": \"0:01:59\", \"iteration\": \"1\", \"goal\": \"accuracy_max\", \"run_name\": \"MaxAbsScaler, XGBoostClassifier\", \"run_properties\": \"copy=True\", \"primary_metric\": 0.81271838, \"best_metric\": 0.82375961}, {\"run_id\": \"AutoML_0df6a668-9229-4f79-a88d-ebd9d5ce001d_3\", \"run_number\": 8, \"metric\": null, \"status\": \"Completed\", \"run_type\": \"azureml.scriptrun\", \"training_percent\": \"100\", \"start_time\": \"2021-03-04T14:38:30.462605Z\", \"end_time\": \"2021-03-04T14:39:21.208261Z\", \"created_time\": \"2021-03-04T14:35:35.52264Z\", \"created_time_dt\": \"2021-03-04T14:35:35.52264Z\", \"duration\": \"0:03:45\", \"iteration\": \"3\", \"goal\": \"accuracy_max\", \"run_name\": \"MinMaxScaler, RandomForest\", \"run_properties\": \"copy=True, feature_range=(0, 1\", \"primary_metric\": 0.84675052, \"best_metric\": 0.84675052}, {\"run_id\": \"AutoML_0df6a668-9229-4f79-a88d-ebd9d5ce001d_4\", \"run_number\": 9, \"metric\": null, \"status\": \"Completed\", \"run_type\": \"azureml.scriptrun\", \"training_percent\": \"100\", \"start_time\": \"2021-03-04T14:39:23.623936Z\", \"end_time\": \"2021-03-04T14:40:11.545133Z\", \"created_time\": \"2021-03-04T14:36:42.895077Z\", \"created_time_dt\": \"2021-03-04T14:36:42.895077Z\", \"duration\": \"0:03:28\", \"iteration\": \"4\", \"goal\": \"accuracy_max\", \"run_name\": \"MinMaxScaler, RandomForest\", \"run_properties\": \"copy=True, feature_range=(0, 1\", \"primary_metric\": 0.81656184, \"best_metric\": 0.84675052}, {\"run_id\": \"AutoML_0df6a668-9229-4f79-a88d-ebd9d5ce001d_5\", \"run_number\": 10, \"metric\": null, \"status\": \"Completed\", \"run_type\": \"azureml.scriptrun\", \"training_percent\": \"100\", \"start_time\": \"2021-03-04T14:39:37.370267Z\", \"end_time\": \"2021-03-04T14:42:35.647007Z\", \"created_time\": \"2021-03-04T14:37:37.465872Z\", \"created_time_dt\": \"2021-03-04T14:37:37.465872Z\", \"duration\": \"0:04:58\", \"iteration\": \"5\", \"goal\": \"accuracy_max\", \"run_name\": \"MinMaxScaler, LightGBM\", \"run_properties\": \"copy=True, feature_range=(0, 1\", \"primary_metric\": 0.82774284, \"best_metric\": 0.84675052}, {\"run_id\": \"AutoML_0df6a668-9229-4f79-a88d-ebd9d5ce001d_6\", \"run_number\": 11, \"metric\": null, \"status\": \"Completed\", \"run_type\": \"azureml.scriptrun\", \"training_percent\": \"100\", \"start_time\": \"2021-03-04T14:39:40.031858Z\", \"end_time\": \"2021-03-04T14:42:49.282322Z\", \"created_time\": \"2021-03-04T14:38:27.364838Z\", \"created_time_dt\": \"2021-03-04T14:38:27.364838Z\", \"duration\": \"0:04:21\", \"iteration\": \"6\", \"goal\": \"accuracy_max\", \"run_name\": \"SparseNormalizer, LightGBM\", \"run_properties\": \"<azureml.automl.runtime.shared.model_wrappers.SparseNormalizer object at 0x7f2cb10d5b38\", \"primary_metric\": 0.81684137, \"best_metric\": 0.84675052}, {\"run_id\": \"AutoML_0df6a668-9229-4f79-a88d-ebd9d5ce001d_7\", \"run_number\": 12, \"metric\": null, \"status\": \"Completed\", \"run_type\": \"azureml.scriptrun\", \"training_percent\": \"100\", \"start_time\": \"2021-03-04T14:39:39.197342Z\", \"end_time\": \"2021-03-04T14:42:27.144101Z\", \"created_time\": \"2021-03-04T14:39:24.464806Z\", \"created_time_dt\": \"2021-03-04T14:39:24.464806Z\", \"duration\": \"0:03:02\", \"iteration\": \"7\", \"goal\": \"accuracy_max\", \"run_name\": \"MinMaxScaler, SVM\", \"run_properties\": \"copy=True, feature_range=(0, 1\", \"primary_metric\": 0.71516422, \"best_metric\": 0.84675052}, {\"run_id\": \"AutoML_0df6a668-9229-4f79-a88d-ebd9d5ce001d_8\", \"run_number\": 13, \"metric\": null, \"status\": \"Completed\", \"run_type\": \"azureml.scriptrun\", \"training_percent\": \"100\", \"start_time\": \"2021-03-04T14:40:23.638299Z\", \"end_time\": \"2021-03-04T14:41:14.906908Z\", \"created_time\": \"2021-03-04T14:40:13.537891Z\", \"created_time_dt\": \"2021-03-04T14:40:13.537891Z\", \"duration\": \"0:01:01\", \"iteration\": \"8\", \"goal\": \"accuracy_max\", \"run_name\": \"SparseNormalizer, XGBoostClassifier\", \"run_properties\": \"<azureml.automl.runtime.shared.model_wrappers.SparseNormalizer object at 0x7f00db4024e0\", \"primary_metric\": 0.83165618, \"best_metric\": 0.84675052}, {\"run_id\": \"AutoML_0df6a668-9229-4f79-a88d-ebd9d5ce001d_9\", \"run_number\": 14, \"metric\": null, \"status\": \"Completed\", \"run_type\": \"azureml.scriptrun\", \"training_percent\": \"100\", \"start_time\": \"2021-03-04T14:41:27.044094Z\", \"end_time\": \"2021-03-04T14:42:08.442241Z\", \"created_time\": \"2021-03-04T14:41:16.764624Z\", \"created_time_dt\": \"2021-03-04T14:41:16.764624Z\", \"duration\": \"0:00:51\", \"iteration\": \"9\", \"goal\": \"accuracy_max\", \"run_name\": \"MaxAbsScaler, GradientBoosting\", \"run_properties\": \"copy=True\", \"primary_metric\": 0.82033543, \"best_metric\": 0.84675052}, {\"run_id\": \"AutoML_0df6a668-9229-4f79-a88d-ebd9d5ce001d_10\", \"run_number\": 15, \"metric\": null, \"status\": \"Completed\", \"run_type\": \"azureml.scriptrun\", \"training_percent\": \"100\", \"start_time\": \"2021-03-04T14:42:20.36177Z\", \"end_time\": \"2021-03-04T14:43:05.266322Z\", \"created_time\": \"2021-03-04T14:42:10.075714Z\", \"created_time_dt\": \"2021-03-04T14:42:10.075714Z\", \"duration\": \"0:00:55\", \"iteration\": \"10\", \"goal\": \"accuracy_max\", \"run_name\": \"StandardScalerWrapper, LogisticRegression\", \"run_properties\": \"<azureml.automl.runtime.shared.model_wrappers.StandardScalerWrapper object at 0x7feb316a76a0\", \"primary_metric\": 0.81278826, \"best_metric\": 0.84675052}, {\"run_id\": \"AutoML_0df6a668-9229-4f79-a88d-ebd9d5ce001d_11\", \"run_number\": 16, \"metric\": null, \"status\": \"Completed\", \"run_type\": \"azureml.scriptrun\", \"training_percent\": \"100\", \"start_time\": \"2021-03-04T14:42:41.800857Z\", \"end_time\": \"2021-03-04T14:43:29.736762Z\", \"created_time\": \"2021-03-04T14:42:30.770704Z\", \"created_time_dt\": \"2021-03-04T14:42:30.770704Z\", \"duration\": \"0:00:58\", \"iteration\": \"11\", \"goal\": \"accuracy_max\", \"run_name\": \"StandardScalerWrapper, RandomForest\", \"run_properties\": \"<azureml.automl.runtime.shared.model_wrappers.StandardScalerWrapper object at 0x7fe2cd982518\", \"primary_metric\": 0.82040531, \"best_metric\": 0.84675052}, {\"run_id\": \"AutoML_0df6a668-9229-4f79-a88d-ebd9d5ce001d_12\", \"run_number\": 17, \"metric\": null, \"status\": \"Completed\", \"run_type\": \"azureml.scriptrun\", \"training_percent\": \"100\", \"start_time\": \"2021-03-04T14:42:49.805655Z\", \"end_time\": \"2021-03-04T14:43:35.347762Z\", \"created_time\": \"2021-03-04T14:42:37.362402Z\", \"created_time_dt\": \"2021-03-04T14:42:37.362402Z\", \"duration\": \"0:00:57\", \"iteration\": \"12\", \"goal\": \"accuracy_max\", \"run_name\": \"MaxAbsScaler, LightGBM\", \"run_properties\": \"copy=True\", \"primary_metric\": 0.83186583, \"best_metric\": 0.84675052}, {\"run_id\": \"AutoML_0df6a668-9229-4f79-a88d-ebd9d5ce001d_13\", \"run_number\": 18, \"metric\": null, \"status\": \"Completed\", \"run_type\": \"azureml.scriptrun\", \"training_percent\": \"100\", \"start_time\": \"2021-03-04T14:43:02.037831Z\", \"end_time\": \"2021-03-04T14:43:54.975502Z\", \"created_time\": \"2021-03-04T14:42:51.007273Z\", \"created_time_dt\": \"2021-03-04T14:42:51.007273Z\", \"duration\": \"0:01:03\", \"iteration\": \"13\", \"goal\": \"accuracy_max\", \"run_name\": \"SparseNormalizer, LightGBM\", \"run_properties\": \"<azureml.automl.runtime.shared.model_wrappers.SparseNormalizer object at 0x7fb077b40860\", \"primary_metric\": 0.81271838, \"best_metric\": 0.84675052}, {\"run_id\": \"AutoML_0df6a668-9229-4f79-a88d-ebd9d5ce001d_14\", \"run_number\": 19, \"metric\": null, \"status\": \"Completed\", \"run_type\": \"azureml.scriptrun\", \"training_percent\": \"100\", \"start_time\": \"2021-03-04T14:43:16.546281Z\", \"end_time\": \"2021-03-04T14:44:01.085056Z\", \"created_time\": \"2021-03-04T14:43:06.905793Z\", \"created_time_dt\": \"2021-03-04T14:43:06.905793Z\", \"duration\": \"0:00:54\", \"iteration\": \"14\", \"goal\": \"accuracy_max\", \"run_name\": \"RobustScaler, ExtremeRandomTrees\", \"run_properties\": \"copy=True, quantile_range=[25, 75], with_centering=True,\\n             with_scaling=False\", \"primary_metric\": 0.83920335, \"best_metric\": 0.84675052}, {\"run_id\": \"AutoML_0df6a668-9229-4f79-a88d-ebd9d5ce001d_15\", \"run_number\": 20, \"metric\": null, \"status\": \"Completed\", \"run_type\": \"azureml.scriptrun\", \"training_percent\": \"100\", \"start_time\": \"2021-03-04T14:43:41.656261Z\", \"end_time\": \"2021-03-04T14:44:23.612716Z\", \"created_time\": \"2021-03-04T14:43:31.462635Z\", \"created_time_dt\": \"2021-03-04T14:43:31.462635Z\", \"duration\": \"0:00:52\", \"iteration\": \"15\", \"goal\": \"accuracy_max\", \"run_name\": \"StandardScalerWrapper, XGBoostClassifier\", \"run_properties\": \"<azureml.automl.runtime.shared.model_wrappers.StandardScalerWrapper object at 0x7f7223074828\", \"primary_metric\": 0.83913347, \"best_metric\": 0.84675052}, {\"run_id\": \"AutoML_0df6a668-9229-4f79-a88d-ebd9d5ce001d_16\", \"run_number\": 21, \"metric\": null, \"status\": \"Completed\", \"run_type\": \"azureml.scriptrun\", \"training_percent\": \"100\", \"start_time\": \"2021-03-04T14:43:48.962964Z\", \"end_time\": \"2021-03-04T14:44:34.354951Z\", \"created_time\": \"2021-03-04T14:43:36.890448Z\", \"created_time_dt\": \"2021-03-04T14:43:36.890448Z\", \"duration\": \"0:00:57\", \"iteration\": \"16\", \"goal\": \"accuracy_max\", \"run_name\": \"RobustScaler, ExtremeRandomTrees\", \"run_properties\": \"copy=True, quantile_range=[25, 75], with_centering=True,\\n             with_scaling=False\", \"primary_metric\": 0.84675052, \"best_metric\": 0.84675052}, {\"run_id\": \"AutoML_0df6a668-9229-4f79-a88d-ebd9d5ce001d_17\", \"run_number\": 22, \"metric\": null, \"status\": \"Completed\", \"run_type\": \"azureml.scriptrun\", \"training_percent\": \"100\", \"start_time\": \"2021-03-04T14:44:05.271118Z\", \"end_time\": \"2021-03-04T14:44:51.914721Z\", \"created_time\": \"2021-03-04T14:43:56.62835Z\", \"created_time_dt\": \"2021-03-04T14:43:56.62835Z\", \"duration\": \"0:00:55\", \"iteration\": \"17\", \"goal\": \"accuracy_max\", \"run_name\": \"StandardScalerWrapper, GradientBoosting\", \"run_properties\": \"<azureml.automl.runtime.shared.model_wrappers.StandardScalerWrapper object at 0x7fb36ff8eb00\", \"primary_metric\": 0.82781272, \"best_metric\": 0.84675052}, {\"run_id\": \"AutoML_0df6a668-9229-4f79-a88d-ebd9d5ce001d_18\", \"run_number\": 23, \"metric\": null, \"status\": \"Completed\", \"run_type\": \"azureml.scriptrun\", \"training_percent\": \"100\", \"start_time\": \"2021-03-04T14:44:13.950116Z\", \"end_time\": \"2021-03-04T14:44:59.52364Z\", \"created_time\": \"2021-03-04T14:44:02.904513Z\", \"created_time_dt\": \"2021-03-04T14:44:02.904513Z\", \"duration\": \"0:00:56\", \"iteration\": \"18\", \"goal\": \"accuracy_max\", \"run_name\": \"MinMaxScaler, LightGBM\", \"run_properties\": \"copy=True, feature_range=(0, 1\", \"primary_metric\": 0.83165618, \"best_metric\": 0.84675052}, {\"run_id\": \"AutoML_0df6a668-9229-4f79-a88d-ebd9d5ce001d_19\", \"run_number\": 24, \"metric\": null, \"status\": \"Completed\", \"run_type\": \"azureml.scriptrun\", \"training_percent\": \"100\", \"start_time\": \"2021-03-04T14:44:35.760951Z\", \"end_time\": \"2021-03-04T14:45:26.476125Z\", \"created_time\": \"2021-03-04T14:44:25.61215Z\", \"created_time_dt\": \"2021-03-04T14:44:25.61215Z\", \"duration\": \"0:01:00\", \"iteration\": \"19\", \"goal\": \"accuracy_max\", \"run_name\": \"StandardScalerWrapper, RandomForest\", \"run_properties\": \"<azureml.automl.runtime.shared.model_wrappers.StandardScalerWrapper object at 0x7f1a99a27080\", \"primary_metric\": 0.84297694, \"best_metric\": 0.84675052}, {\"run_id\": \"AutoML_0df6a668-9229-4f79-a88d-ebd9d5ce001d_20\", \"run_number\": 25, \"metric\": null, \"status\": \"Completed\", \"run_type\": \"azureml.scriptrun\", \"training_percent\": \"100\", \"start_time\": \"2021-03-04T14:44:44.136454Z\", \"end_time\": \"2021-03-04T14:45:33.175604Z\", \"created_time\": \"2021-03-04T14:44:36.26133Z\", \"created_time_dt\": \"2021-03-04T14:44:36.26133Z\", \"duration\": \"0:00:56\", \"iteration\": \"20\", \"goal\": \"accuracy_max\", \"run_name\": \"StandardScalerWrapper, RandomForest\", \"run_properties\": \"<azureml.automl.runtime.shared.model_wrappers.StandardScalerWrapper object at 0x7f9f3537c668\", \"primary_metric\": 0.83913347, \"best_metric\": 0.84675052}, {\"run_id\": \"AutoML_0df6a668-9229-4f79-a88d-ebd9d5ce001d_21\", \"run_number\": 26, \"metric\": null, \"status\": \"Completed\", \"run_type\": \"azureml.scriptrun\", \"training_percent\": \"100\", \"start_time\": \"2021-03-04T14:45:01.252375Z\", \"end_time\": \"2021-03-04T14:45:45.56666Z\", \"created_time\": \"2021-03-04T14:44:53.566899Z\", \"created_time_dt\": \"2021-03-04T14:44:53.566899Z\", \"duration\": \"0:00:51\", \"iteration\": \"21\", \"goal\": \"accuracy_max\", \"run_name\": \"MaxAbsScaler, ExtremeRandomTrees\", \"run_properties\": \"copy=True\", \"primary_metric\": 0.84297694, \"best_metric\": 0.84675052}, {\"run_id\": \"AutoML_0df6a668-9229-4f79-a88d-ebd9d5ce001d_22\", \"run_number\": 27, \"metric\": null, \"status\": \"Completed\", \"run_type\": \"azureml.scriptrun\", \"training_percent\": \"100\", \"start_time\": \"2021-03-04T14:45:11.781107Z\", \"end_time\": \"2021-03-04T14:45:55.212599Z\", \"created_time\": \"2021-03-04T14:45:01.711235Z\", \"created_time_dt\": \"2021-03-04T14:45:01.711235Z\", \"duration\": \"0:00:53\", \"iteration\": \"22\", \"goal\": \"accuracy_max\", \"run_name\": \"StandardScalerWrapper, LightGBM\", \"run_properties\": \"<azureml.automl.runtime.shared.model_wrappers.StandardScalerWrapper object at 0x7f6e3c2c6c50\", \"primary_metric\": 0.8427673, \"best_metric\": 0.84675052}, {\"run_id\": \"AutoML_0df6a668-9229-4f79-a88d-ebd9d5ce001d_23\", \"run_number\": 28, \"metric\": null, \"status\": \"Completed\", \"run_type\": \"azureml.scriptrun\", \"training_percent\": \"100\", \"start_time\": \"2021-03-04T14:45:39.239672Z\", \"end_time\": \"2021-03-04T14:46:26.918638Z\", \"created_time\": \"2021-03-04T14:45:29.712869Z\", \"created_time_dt\": \"2021-03-04T14:45:29.712869Z\", \"duration\": \"0:00:57\", \"iteration\": \"23\", \"goal\": \"accuracy_max\", \"run_name\": \"StandardScalerWrapper, XGBoostClassifier\", \"run_properties\": \"<azureml.automl.runtime.shared.model_wrappers.StandardScalerWrapper object at 0x7f2c0a7f27b8\", \"primary_metric\": 0.8278826, \"best_metric\": 0.84675052}, {\"run_id\": \"AutoML_0df6a668-9229-4f79-a88d-ebd9d5ce001d_24\", \"run_number\": 29, \"metric\": null, \"status\": \"Completed\", \"run_type\": \"azureml.scriptrun\", \"training_percent\": \"100\", \"start_time\": \"2021-03-04T14:45:48.915741Z\", \"end_time\": \"2021-03-04T14:46:43.718123Z\", \"created_time\": \"2021-03-04T14:45:35.552973Z\", \"created_time_dt\": \"2021-03-04T14:45:35.552973Z\", \"duration\": \"0:01:08\", \"iteration\": \"24\", \"goal\": \"accuracy_max\", \"run_name\": \"SparseNormalizer, XGBoostClassifier\", \"run_properties\": \"<azureml.automl.runtime.shared.model_wrappers.SparseNormalizer object at 0x7fd8a8446438\", \"primary_metric\": 0.83913347, \"best_metric\": 0.84675052}, {\"run_id\": \"AutoML_0df6a668-9229-4f79-a88d-ebd9d5ce001d_25\", \"run_number\": 30, \"metric\": null, \"status\": \"Completed\", \"run_type\": \"azureml.scriptrun\", \"training_percent\": \"100\", \"start_time\": \"2021-03-04T14:45:58.212734Z\", \"end_time\": \"2021-03-04T14:46:45.682643Z\", \"created_time\": \"2021-03-04T14:45:48.085741Z\", \"created_time_dt\": \"2021-03-04T14:45:48.085741Z\", \"duration\": \"0:00:57\", \"iteration\": \"25\", \"goal\": \"accuracy_max\", \"run_name\": \"TruncatedSVDWrapper, RandomForest\", \"run_properties\": \"n_components=0.3068421052631579, random_state=None\", \"primary_metric\": 0.67414396, \"best_metric\": 0.84675052}, {\"run_id\": \"AutoML_0df6a668-9229-4f79-a88d-ebd9d5ce001d_26\", \"run_number\": 31, \"metric\": null, \"status\": \"Completed\", \"run_type\": \"azureml.scriptrun\", \"training_percent\": \"100\", \"start_time\": \"2021-03-04T14:46:06.37546Z\", \"end_time\": \"2021-03-04T14:46:50.570917Z\", \"created_time\": \"2021-03-04T14:45:56.995162Z\", \"created_time_dt\": \"2021-03-04T14:45:56.995162Z\", \"duration\": \"0:00:53\", \"iteration\": \"26\", \"goal\": \"accuracy_max\", \"run_name\": \"MaxAbsScaler, LightGBM\", \"run_properties\": \"copy=True\", \"primary_metric\": 0.79042628, \"best_metric\": 0.84675052}, {\"run_id\": \"AutoML_0df6a668-9229-4f79-a88d-ebd9d5ce001d_27\", \"run_number\": 32, \"metric\": null, \"status\": \"Completed\", \"run_type\": \"azureml.scriptrun\", \"training_percent\": \"100\", \"start_time\": \"2021-03-04T14:46:37.06378Z\", \"end_time\": \"2021-03-04T14:47:21.535898Z\", \"created_time\": \"2021-03-04T14:46:28.475848Z\", \"created_time_dt\": \"2021-03-04T14:46:28.475848Z\", \"duration\": \"0:00:53\", \"iteration\": \"27\", \"goal\": \"accuracy_max\", \"run_name\": \"MaxAbsScaler, LightGBM\", \"run_properties\": \"copy=True\", \"primary_metric\": 0.77169811, \"best_metric\": 0.84675052}, {\"run_id\": \"AutoML_0df6a668-9229-4f79-a88d-ebd9d5ce001d_28\", \"run_number\": 33, \"metric\": null, \"status\": \"Completed\", \"run_type\": \"azureml.scriptrun\", \"training_percent\": \"100\", \"start_time\": \"2021-03-04T14:46:53.303437Z\", \"end_time\": \"2021-03-04T14:47:42.406316Z\", \"created_time\": \"2021-03-04T14:46:45.844796Z\", \"created_time_dt\": \"2021-03-04T14:46:45.844796Z\", \"duration\": \"0:00:56\", \"iteration\": \"28\", \"goal\": \"accuracy_max\", \"run_name\": \"MaxAbsScaler, ExtremeRandomTrees\", \"run_properties\": \"copy=True\", \"primary_metric\": 0.82767296, \"best_metric\": 0.84675052}, {\"run_id\": \"AutoML_0df6a668-9229-4f79-a88d-ebd9d5ce001d_29\", \"run_number\": 34, \"metric\": null, \"status\": \"Completed\", \"run_type\": \"azureml.scriptrun\", \"training_percent\": \"100\", \"start_time\": \"2021-03-04T14:46:58.030582Z\", \"end_time\": \"2021-03-04T14:47:42.721771Z\", \"created_time\": \"2021-03-04T14:46:48.596595Z\", \"created_time_dt\": \"2021-03-04T14:46:48.596595Z\", \"duration\": \"0:00:54\", \"iteration\": \"29\", \"goal\": \"accuracy_max\", \"run_name\": \"MaxAbsScaler, RandomForest\", \"run_properties\": \"copy=True\", \"primary_metric\": 0.80153739, \"best_metric\": 0.84675052}, {\"run_id\": \"AutoML_0df6a668-9229-4f79-a88d-ebd9d5ce001d_30\", \"run_number\": 35, \"metric\": null, \"status\": \"Completed\", \"run_type\": \"azureml.scriptrun\", \"training_percent\": \"100\", \"start_time\": \"2021-03-04T14:47:00.948162Z\", \"end_time\": \"2021-03-04T14:47:50.397239Z\", \"created_time\": \"2021-03-04T14:46:53.038337Z\", \"created_time_dt\": \"2021-03-04T14:46:53.038337Z\", \"duration\": \"0:00:57\", \"iteration\": \"30\", \"goal\": \"accuracy_max\", \"run_name\": \"StandardScalerWrapper, RandomForest\", \"run_properties\": \"<azureml.automl.runtime.shared.model_wrappers.StandardScalerWrapper object at 0x7f60598c7160\", \"primary_metric\": 0.68169113, \"best_metric\": 0.84675052}, {\"run_id\": \"AutoML_0df6a668-9229-4f79-a88d-ebd9d5ce001d_31\", \"run_number\": 36, \"metric\": null, \"status\": \"Completed\", \"run_type\": \"azureml.scriptrun\", \"training_percent\": \"100\", \"start_time\": \"2021-03-04T14:47:36.039675Z\", \"end_time\": \"2021-03-04T14:48:23.520829Z\", \"created_time\": \"2021-03-04T14:47:25.059131Z\", \"created_time_dt\": \"2021-03-04T14:47:25.059131Z\", \"duration\": \"0:00:58\", \"iteration\": \"31\", \"goal\": \"accuracy_max\", \"run_name\": \"MaxAbsScaler, RandomForest\", \"run_properties\": \"copy=True\", \"primary_metric\": 0.82410901, \"best_metric\": 0.84675052}, {\"run_id\": \"AutoML_0df6a668-9229-4f79-a88d-ebd9d5ce001d_32\", \"run_number\": 37, \"metric\": null, \"status\": \"Completed\", \"run_type\": \"azureml.scriptrun\", \"training_percent\": \"100\", \"start_time\": \"2021-03-04T14:47:57.622574Z\", \"end_time\": \"2021-03-04T14:48:42.477462Z\", \"created_time\": \"2021-03-04T14:47:46.219863Z\", \"created_time_dt\": \"2021-03-04T14:47:46.219863Z\", \"duration\": \"0:00:56\", \"iteration\": \"32\", \"goal\": \"accuracy_max\", \"run_name\": \"MaxAbsScaler, LightGBM\", \"run_properties\": \"copy=True\", \"primary_metric\": 0.8315863, \"best_metric\": 0.84675052}, {\"run_id\": \"AutoML_0df6a668-9229-4f79-a88d-ebd9d5ce001d_33\", \"run_number\": 38, \"metric\": null, \"status\": \"Canceled\", \"run_type\": \"azureml.scriptrun\", \"training_percent\": \"100\", \"start_time\": \"2021-03-04T14:47:57.770348Z\", \"end_time\": \"2021-03-04T14:48:44.085114Z\", \"created_time\": \"2021-03-04T14:47:46.239423Z\", \"created_time_dt\": \"2021-03-04T14:47:46.239423Z\", \"duration\": \"0:00:57\", \"iteration\": \"33\", \"goal\": \"accuracy_max\", \"run_name\": \"SparseNormalizer, LightGBM\", \"run_properties\": \"<azureml.automl.runtime.shared.model_wrappers.SparseNormalizer object at 0x7f3a5e450a90\", \"primary_metric\": 0.80894479, \"best_metric\": 0.84675052}, {\"run_id\": \"AutoML_0df6a668-9229-4f79-a88d-ebd9d5ce001d_34\", \"run_number\": 39, \"metric\": null, \"status\": \"Canceled\", \"run_type\": \"azureml.scriptrun\", \"training_percent\": \"100\", \"start_time\": \"2021-03-04T14:47:59.546433Z\", \"end_time\": \"2021-03-04T14:48:51.16153Z\", \"created_time\": \"2021-03-04T14:47:52.008607Z\", \"created_time_dt\": \"2021-03-04T14:47:52.008607Z\", \"duration\": \"0:00:59\", \"iteration\": \"34\", \"goal\": \"accuracy_max\", \"run_name\": \"SparseNormalizer, LightGBM\", \"run_properties\": \"<azureml.automl.runtime.shared.model_wrappers.SparseNormalizer object at 0x7f49299c7780\", \"primary_metric\": 0.82431866, \"best_metric\": 0.84675052}, {\"run_id\": \"AutoML_0df6a668-9229-4f79-a88d-ebd9d5ce001d_35\", \"run_number\": 40, \"metric\": null, \"status\": \"Canceled\", \"run_type\": \"azureml.scriptrun\", \"training_percent\": \"100\", \"start_time\": \"2021-03-04T14:48:36.129089Z\", \"end_time\": \"2021-03-04T14:48:50.66927Z\", \"created_time\": \"2021-03-04T14:48:26.15895Z\", \"created_time_dt\": \"2021-03-04T14:48:26.15895Z\", \"duration\": \"0:00:24\", \"iteration\": \"35\", \"goal\": null, \"run_name\": \"Canceled\", \"run_properties\": null}, {\"run_id\": \"AutoML_0df6a668-9229-4f79-a88d-ebd9d5ce001d_36\", \"run_number\": 41, \"metric\": null, \"status\": \"Completed\", \"run_type\": \"azureml.scriptrun\", \"training_percent\": \"100\", \"start_time\": \"2021-03-04T14:49:04.116324Z\", \"end_time\": \"2021-03-04T14:50:08.022432Z\", \"created_time\": \"2021-03-04T14:48:52.041462Z\", \"created_time_dt\": \"2021-03-04T14:48:52.041462Z\", \"duration\": \"0:01:15\", \"iteration\": \"36\", \"goal\": \"accuracy_max\", \"run_name\": \"VotingEnsemble\", \"run_properties\": \"classification_labels=None,\\n                              estimators=[('16',\\n                                           Pipeline(memory=None,\\n                                                    steps=[('robustscaler',\\n                                                            RobustScaler(copy=True,\\n                                                                         quantile_range=[25,\\n                                                                                         75],\\n                                                                         with_centering=True,\\n                                                                         with_scaling=False\", \"primary_metric\": 0.86177498, \"best_metric\": 0.86177498}, {\"run_id\": \"AutoML_0df6a668-9229-4f79-a88d-ebd9d5ce001d_37\", \"run_number\": 42, \"metric\": null, \"status\": \"Completed\", \"run_type\": \"azureml.scriptrun\", \"training_percent\": \"100\", \"start_time\": \"2021-03-04T14:49:06.317371Z\", \"end_time\": \"2021-03-04T14:50:11.601264Z\", \"created_time\": \"2021-03-04T14:48:52.042961Z\", \"created_time_dt\": \"2021-03-04T14:48:52.042961Z\", \"duration\": \"0:01:19\", \"iteration\": \"37\", \"goal\": \"accuracy_max\", \"run_name\": \"StackEnsemble\", \"run_properties\": \"base_learners=[('16',\\n                                        Pipeline(memory=None,\\n                                                 steps=[('robustscaler',\\n                                                         RobustScaler(copy=True,\\n                                                                      quantile_range=[25,\\n                                                                                      75],\\n                                                                      with_centering=True,\\n                                                                      with_scaling=False\", \"primary_metric\": 0.83913347, \"best_metric\": 0.86177498}], \"children_metrics\": {\"categories\": [0], \"series\": {\"precision_score_weighted\": [{\"categories\": [\"0\", \"1\", \"2\", \"3\", \"4\", \"5\", \"6\", \"7\", \"8\", \"9\", \"10\", \"11\", \"12\", \"13\", \"14\", \"15\", \"16\", \"17\", \"18\", \"19\", \"20\", \"21\", \"22\", \"23\", \"24\", \"25\", \"26\", \"27\", \"28\", \"29\", \"30\", \"31\", \"32\", \"33\", \"34\", \"36\", \"37\"], \"mode\": \"markers\", \"name\": \"precision_score_weighted\", \"stepped\": false, \"type\": \"scatter\", \"data\": [0.828121402032051, 0.8160724614820335, 0.8336464164766053, 0.8449932448482793, 0.8248689128378558, 0.8275440628640289, 0.8146311917154065, 0.7135373207913235, 0.8322449353290267, 0.8252277153119921, 0.814176871589311, 0.820137993075685, 0.8329477429671786, 0.8124795998358835, 0.8460179121626744, 0.8431548816671329, 0.8527941438054502, 0.8274667741506857, 0.8365778156785124, 0.8447406972249739, 0.8451856880992468, 0.848792429256074, 0.8458067696869482, 0.8307949648273466, 0.8382317572452122, 0.4554083459935022, 0.8047239791016301, 0.7811387722063391, 0.8407927892236515, 0.8055912329676154, 0.5272899274526835, 0.842006262740397, 0.835208847206383, 0.8096862503949638, 0.8265502214886808, 0.8654933928806896, 0.8460813228878463]}, {\"categories\": [\"0\", \"1\", \"2\", \"3\", \"4\", \"5\", \"6\", \"7\", \"8\", \"9\", \"10\", \"11\", \"12\", \"13\", \"14\", \"15\", \"16\", \"17\", \"18\", \"19\", \"20\", \"21\", \"22\", \"23\", \"24\", \"25\", \"26\", \"27\", \"28\", \"29\", \"30\", \"31\", \"32\", \"33\", \"34\", \"36\", \"37\"], \"mode\": \"lines\", \"name\": \"precision_score_weighted_max\", \"stepped\": true, \"type\": \"scatter\", \"data\": [0.828121402032051, 0.828121402032051, 0.8336464164766053, 0.8449932448482793, 0.8449932448482793, 0.8449932448482793, 0.8449932448482793, 0.8449932448482793, 0.8449932448482793, 0.8449932448482793, 0.8449932448482793, 0.8449932448482793, 0.8449932448482793, 0.8449932448482793, 0.8460179121626744, 0.8460179121626744, 0.8527941438054502, 0.8527941438054502, 0.8527941438054502, 0.8527941438054502, 0.8527941438054502, 0.8527941438054502, 0.8527941438054502, 0.8527941438054502, 0.8527941438054502, 0.8527941438054502, 0.8527941438054502, 0.8527941438054502, 0.8527941438054502, 0.8527941438054502, 0.8527941438054502, 0.8527941438054502, 0.8527941438054502, 0.8527941438054502, 0.8527941438054502, 0.8654933928806896, 0.8654933928806896]}], \"f1_score_weighted\": [{\"categories\": [\"0\", \"1\", \"2\", \"3\", \"4\", \"5\", \"6\", \"7\", \"8\", \"9\", \"10\", \"11\", \"12\", \"13\", \"14\", \"15\", \"16\", \"17\", \"18\", \"19\", \"20\", \"21\", \"22\", \"23\", \"24\", \"25\", \"26\", \"27\", \"28\", \"29\", \"30\", \"31\", \"32\", \"33\", \"34\", \"36\", \"37\"], \"mode\": \"markers\", \"name\": \"f1_score_weighted\", \"stepped\": false, \"type\": \"scatter\", \"data\": [0.8183162363753445, 0.8070645640321545, 0.8282491837659874, 0.841628829878978, 0.8140501362540444, 0.8223529559557992, 0.8081801064889635, 0.6754365259550706, 0.8277504382445592, 0.8151954025489815, 0.8087902977651316, 0.8127994159185213, 0.8204227725062687, 0.8033209473605041, 0.8272297695465831, 0.8296084012751873, 0.8363497708951222, 0.82482818820909, 0.8249790669651752, 0.8392804842154951, 0.8333367528939917, 0.8308986980650734, 0.8346863706739274, 0.8219125978017235, 0.835042005813237, 0.5433314559797198, 0.7656782984314288, 0.7473920654004536, 0.826733708732269, 0.8006121599435968, 0.5784194944952181, 0.8242894949153771, 0.8215244037930536, 0.8002436601526837, 0.813097373570469, 0.8543152382790419, 0.8323877454732406]}, {\"categories\": [\"0\", \"1\", \"2\", \"3\", \"4\", \"5\", \"6\", \"7\", \"8\", \"9\", \"10\", \"11\", \"12\", \"13\", \"14\", \"15\", \"16\", \"17\", \"18\", \"19\", \"20\", \"21\", \"22\", \"23\", \"24\", \"25\", \"26\", \"27\", \"28\", \"29\", \"30\", \"31\", \"32\", \"33\", \"34\", \"36\", \"37\"], \"mode\": \"lines\", \"name\": \"f1_score_weighted_max\", \"stepped\": true, \"type\": \"scatter\", \"data\": [0.8183162363753445, 0.8183162363753445, 0.8282491837659874, 0.841628829878978, 0.841628829878978, 0.841628829878978, 0.841628829878978, 0.841628829878978, 0.841628829878978, 0.841628829878978, 0.841628829878978, 0.841628829878978, 0.841628829878978, 0.841628829878978, 0.841628829878978, 0.841628829878978, 0.841628829878978, 0.841628829878978, 0.841628829878978, 0.841628829878978, 0.841628829878978, 0.841628829878978, 0.841628829878978, 0.841628829878978, 0.841628829878978, 0.841628829878978, 0.841628829878978, 0.841628829878978, 0.841628829878978, 0.841628829878978, 0.841628829878978, 0.841628829878978, 0.841628829878978, 0.841628829878978, 0.841628829878978, 0.8543152382790419, 0.8543152382790419]}], \"weighted_accuracy\": [{\"categories\": [\"0\", \"1\", \"2\", \"3\", \"4\", \"5\", \"6\", \"7\", \"8\", \"9\", \"10\", \"11\", \"12\", \"13\", \"14\", \"15\", \"16\", \"17\", \"18\", \"19\", \"20\", \"21\", \"22\", \"23\", \"24\", \"25\", \"26\", \"27\", \"28\", \"29\", \"30\", \"31\", \"32\", \"33\", \"34\", \"36\", \"37\"], \"mode\": \"markers\", \"name\": \"weighted_accuracy\", \"stepped\": false, \"type\": \"scatter\", \"data\": [0.8596614135083861, 0.8463385904898686, 0.8579292800545716, 0.8819551257209998, 0.8374968694968136, 0.8629129134719069, 0.8574928595177413, 0.8004095922807057, 0.862336159955824, 0.8512902805150094, 0.841808290865132, 0.859886414104086, 0.878341397073951, 0.8581501135141396, 0.888742435529632, 0.8850140021757706, 0.8926850294627942, 0.8552632951106676, 0.8694313586916135, 0.8689868079594131, 0.8716979702902391, 0.8930033817942868, 0.8874357057211297, 0.8628123884513869, 0.8680047860785152, 0.8079822577523398, 0.8630531066366418, 0.8402212028886022, 0.8417343851793893, 0.8220505616453446, 0.7787078098028131, 0.8296408664019517, 0.8799888956846915, 0.854406946639773, 0.8688011184750648, 0.9014298259395698, 0.8746146322902426]}, {\"categories\": [\"0\", \"1\", \"2\", \"3\", \"4\", \"5\", \"6\", \"7\", \"8\", \"9\", \"10\", \"11\", \"12\", \"13\", \"14\", \"15\", \"16\", \"17\", \"18\", \"19\", \"20\", \"21\", \"22\", \"23\", \"24\", \"25\", \"26\", \"27\", \"28\", \"29\", \"30\", \"31\", \"32\", \"33\", \"34\", \"36\", \"37\"], \"mode\": \"lines\", \"name\": \"weighted_accuracy_max\", \"stepped\": true, \"type\": \"scatter\", \"data\": [0.8596614135083861, 0.8596614135083861, 0.8596614135083861, 0.8819551257209998, 0.8819551257209998, 0.8819551257209998, 0.8819551257209998, 0.8819551257209998, 0.8819551257209998, 0.8819551257209998, 0.8819551257209998, 0.8819551257209998, 0.8819551257209998, 0.8819551257209998, 0.888742435529632, 0.888742435529632, 0.8926850294627942, 0.8926850294627942, 0.8926850294627942, 0.8926850294627942, 0.8926850294627942, 0.8930033817942868, 0.8930033817942868, 0.8930033817942868, 0.8930033817942868, 0.8930033817942868, 0.8930033817942868, 0.8930033817942868, 0.8930033817942868, 0.8930033817942868, 0.8930033817942868, 0.8930033817942868, 0.8930033817942868, 0.8930033817942868, 0.8930033817942868, 0.9014298259395698, 0.9014298259395698]}], \"AUC_macro\": [{\"categories\": [\"0\", \"1\", \"2\", \"3\", \"4\", \"5\", \"6\", \"7\", \"8\", \"9\", \"10\", \"11\", \"12\", \"13\", \"14\", \"15\", \"16\", \"17\", \"18\", \"19\", \"20\", \"21\", \"22\", \"23\", \"24\", \"25\", \"26\", \"27\", \"28\", \"29\", \"30\", \"31\", \"32\", \"33\", \"34\", \"36\", \"37\"], \"mode\": \"markers\", \"name\": \"AUC_macro\", \"stepped\": false, \"type\": \"scatter\", \"data\": [0.8652215716044405, 0.8800877084984412, 0.8738455657083108, 0.890842177668803, 0.8756843408752595, 0.8775551933395069, 0.8693323053797771, 0.704587423524472, 0.8755973212165162, 0.8890752737914761, 0.8521101155569679, 0.8704544013006345, 0.878386827581874, 0.8652490031076201, 0.9007702476845925, 0.8965300195589153, 0.8993696572076345, 0.8922121136053025, 0.8923179094283327, 0.89508813438638, 0.8892654376864902, 0.9049060060153972, 0.8997941862492947, 0.8807804072484154, 0.878361159264152, 0.7003117041894131, 0.9030098651048084, 0.8491400350533478, 0.8816016743828922, 0.8605589011471364, 0.5414072673386399, 0.9013790683450127, 0.8784001230802057, 0.8499479618468266, 0.8750066770964604, 0.9062442102483382, 0.9018413934151808]}, {\"categories\": [\"0\", \"1\", \"2\", \"3\", \"4\", \"5\", \"6\", \"7\", \"8\", \"9\", \"10\", \"11\", \"12\", \"13\", \"14\", \"15\", \"16\", \"17\", \"18\", \"19\", \"20\", \"21\", \"22\", \"23\", \"24\", \"25\", \"26\", \"27\", \"28\", \"29\", \"30\", \"31\", \"32\", \"33\", \"34\", \"36\", \"37\"], \"mode\": \"lines\", \"name\": \"AUC_macro_max\", \"stepped\": true, \"type\": \"scatter\", \"data\": [0.8652215716044405, 0.8800877084984412, 0.8800877084984412, 0.890842177668803, 0.890842177668803, 0.890842177668803, 0.890842177668803, 0.890842177668803, 0.890842177668803, 0.890842177668803, 0.890842177668803, 0.890842177668803, 0.890842177668803, 0.890842177668803, 0.9007702476845925, 0.9007702476845925, 0.9007702476845925, 0.9007702476845925, 0.9007702476845925, 0.9007702476845925, 0.9007702476845925, 0.9049060060153972, 0.9049060060153972, 0.9049060060153972, 0.9049060060153972, 0.9049060060153972, 0.9049060060153972, 0.9049060060153972, 0.9049060060153972, 0.9049060060153972, 0.9049060060153972, 0.9049060060153972, 0.9049060060153972, 0.9049060060153972, 0.9049060060153972, 0.9062442102483382, 0.9062442102483382]}], \"recall_score_macro\": [{\"categories\": [\"0\", \"1\", \"2\", \"3\", \"4\", \"5\", \"6\", \"7\", \"8\", \"9\", \"10\", \"11\", \"12\", \"13\", \"14\", \"15\", \"16\", \"17\", \"18\", \"19\", \"20\", \"21\", \"22\", \"23\", \"24\", \"25\", \"26\", \"27\", \"28\", \"29\", \"30\", \"31\", \"32\", \"33\", \"34\", \"36\", \"37\"], \"mode\": \"markers\", \"name\": \"recall_score_macro\", \"stepped\": false, \"type\": \"scatter\", \"data\": [0.775584972814075, 0.7674009866889123, 0.7961805782703616, 0.8000624519819567, 0.7879490579800177, 0.7811252259859073, 0.7615752580613261, 0.6035068955811991, 0.7902982253291851, 0.7785120978000235, 0.7747450152094115, 0.7691358062255895, 0.7703973590815696, 0.7516455788746811, 0.772642545444403, 0.7781981009999586, 0.7851915650522462, 0.7916518756302038, 0.7806944476139523, 0.8078586805212191, 0.7950875840659123, 0.7759996458603271, 0.7841042210237256, 0.7806439425634472, 0.7995147145456742, 0.5, 0.6958837813326978, 0.6825680958188698, 0.8075732980376944, 0.7740870845514809, 0.5552287581699347, 0.8159825093880821, 0.7674137872744684, 0.7490139999273125, 0.7641286135558583, 0.8085486654681702, 0.7908718977914024]}, {\"categories\": [\"0\", \"1\", \"2\", \"3\", \"4\", \"5\", \"6\", \"7\", \"8\", \"9\", \"10\", \"11\", \"12\", \"13\", \"14\", \"15\", \"16\", \"17\", \"18\", \"19\", \"20\", \"21\", \"22\", \"23\", \"24\", \"25\", \"26\", \"27\", \"28\", \"29\", \"30\", \"31\", \"32\", \"33\", \"34\", \"36\", \"37\"], \"mode\": \"lines\", \"name\": \"recall_score_macro_max\", \"stepped\": true, \"type\": \"scatter\", \"data\": [0.775584972814075, 0.775584972814075, 0.7961805782703616, 0.8000624519819567, 0.8000624519819567, 0.8000624519819567, 0.8000624519819567, 0.8000624519819567, 0.8000624519819567, 0.8000624519819567, 0.8000624519819567, 0.8000624519819567, 0.8000624519819567, 0.8000624519819567, 0.8000624519819567, 0.8000624519819567, 0.8000624519819567, 0.8000624519819567, 0.8000624519819567, 0.8078586805212191, 0.8078586805212191, 0.8078586805212191, 0.8078586805212191, 0.8078586805212191, 0.8078586805212191, 0.8078586805212191, 0.8078586805212191, 0.8078586805212191, 0.8078586805212191, 0.8078586805212191, 0.8078586805212191, 0.8159825093880821, 0.8159825093880821, 0.8159825093880821, 0.8159825093880821, 0.8159825093880821, 0.8159825093880821]}], \"AUC_micro\": [{\"categories\": [\"0\", \"1\", \"2\", \"3\", \"4\", \"5\", \"6\", \"7\", \"8\", \"9\", \"10\", \"11\", \"12\", \"13\", \"14\", \"15\", \"16\", \"17\", \"18\", \"19\", \"20\", \"21\", \"22\", \"23\", \"24\", \"25\", \"26\", \"27\", \"28\", \"29\", \"30\", \"31\", \"32\", \"33\", \"34\", \"36\", \"37\"], \"mode\": \"markers\", \"name\": \"AUC_micro\", \"stepped\": false, \"type\": \"scatter\", \"data\": [0.8845864336707262, 0.8940546772792333, 0.8957444985034876, 0.9103711565949346, 0.8922655280572294, 0.8964101523566471, 0.8900237137048709, 0.7748045304115079, 0.8958450961806579, 0.9015090872421148, 0.8719082695685678, 0.8898323095322158, 0.8946765027754703, 0.8871280388678171, 0.9047065306937675, 0.9035013607545019, 0.9056458492958896, 0.9055759925108449, 0.9050357683342929, 0.9090510318342815, 0.9013176830694597, 0.9079849894592191, 0.9080620736501965, 0.9015012249964718, 0.8941676787476662, 0.7619568396897881, 0.8866446572622488, 0.86270519362367, 0.8807436024028196, 0.8714725986089198, 0.6961041351993714, 0.8941193576789479, 0.8933054199196098, 0.8748614218163155, 0.8917089933835051, 0.9155119176505462, 0.9155759387936385]}, {\"categories\": [\"0\", \"1\", \"2\", \"3\", \"4\", \"5\", \"6\", \"7\", \"8\", \"9\", \"10\", \"11\", \"12\", \"13\", \"14\", \"15\", \"16\", \"17\", \"18\", \"19\", \"20\", \"21\", \"22\", \"23\", \"24\", \"25\", \"26\", \"27\", \"28\", \"29\", \"30\", \"31\", \"32\", \"33\", \"34\", \"36\", \"37\"], \"mode\": \"lines\", \"name\": \"AUC_micro_max\", \"stepped\": true, \"type\": \"scatter\", \"data\": [0.8845864336707262, 0.8940546772792333, 0.8957444985034876, 0.9103711565949346, 0.9103711565949346, 0.9103711565949346, 0.9103711565949346, 0.9103711565949346, 0.9103711565949346, 0.9103711565949346, 0.9103711565949346, 0.9103711565949346, 0.9103711565949346, 0.9103711565949346, 0.9103711565949346, 0.9103711565949346, 0.9103711565949346, 0.9103711565949346, 0.9103711565949346, 0.9103711565949346, 0.9103711565949346, 0.9103711565949346, 0.9103711565949346, 0.9103711565949346, 0.9103711565949346, 0.9103711565949346, 0.9103711565949346, 0.9103711565949346, 0.9103711565949346, 0.9103711565949346, 0.9103711565949346, 0.9103711565949346, 0.9103711565949346, 0.9103711565949346, 0.9103711565949346, 0.9155119176505462, 0.9155759387936385]}], \"norm_macro_recall\": [{\"categories\": [\"0\", \"1\", \"2\", \"3\", \"4\", \"5\", \"6\", \"7\", \"8\", \"9\", \"10\", \"11\", \"12\", \"13\", \"14\", \"15\", \"16\", \"17\", \"18\", \"19\", \"20\", \"21\", \"22\", \"23\", \"24\", \"25\", \"26\", \"27\", \"28\", \"29\", \"30\", \"31\", \"32\", \"33\", \"34\", \"36\", \"37\"], \"mode\": \"markers\", \"name\": \"norm_macro_recall\", \"stepped\": false, \"type\": \"scatter\", \"data\": [0.55116994562815, 0.5348019733778248, 0.5923611565407231, 0.6001249039639134, 0.5758981159600355, 0.5622504519718142, 0.5231505161226523, 0.20701379116239807, 0.5805964506583703, 0.557024195600047, 0.5494900304188229, 0.538271612451179, 0.5407947181631392, 0.503291157749362, 0.5452850908888062, 0.5563962019999172, 0.5703831301044924, 0.5833037512604076, 0.5613888952279045, 0.6157173610424385, 0.5901751681318245, 0.551999291720654, 0.5682084420474514, 0.5612878851268945, 0.5990294290913486, 0.0, 0.3917675626653955, 0.3651361916377397, 0.6151465960753886, 0.5481741691029616, 0.11045751633986929, 0.6319650187761642, 0.5348275745489369, 0.4980279998546252, 0.5282572271117163, 0.6170973309363402, 0.581743795582805]}, {\"categories\": [\"0\", \"1\", \"2\", \"3\", \"4\", \"5\", \"6\", \"7\", \"8\", \"9\", \"10\", \"11\", \"12\", \"13\", \"14\", \"15\", \"16\", \"17\", \"18\", \"19\", \"20\", \"21\", \"22\", \"23\", \"24\", \"25\", \"26\", \"27\", \"28\", \"29\", \"30\", \"31\", \"32\", \"33\", \"34\", \"36\", \"37\"], \"mode\": \"lines\", \"name\": \"norm_macro_recall_max\", \"stepped\": true, \"type\": \"scatter\", \"data\": [0.55116994562815, 0.55116994562815, 0.5923611565407231, 0.6001249039639134, 0.6001249039639134, 0.6001249039639134, 0.6001249039639134, 0.6001249039639134, 0.6001249039639134, 0.6001249039639134, 0.6001249039639134, 0.6001249039639134, 0.6001249039639134, 0.6001249039639134, 0.6001249039639134, 0.6001249039639134, 0.6001249039639134, 0.6001249039639134, 0.6001249039639134, 0.6157173610424385, 0.6157173610424385, 0.6157173610424385, 0.6157173610424385, 0.6157173610424385, 0.6157173610424385, 0.6157173610424385, 0.6157173610424385, 0.6157173610424385, 0.6157173610424385, 0.6157173610424385, 0.6157173610424385, 0.6319650187761642, 0.6319650187761642, 0.6319650187761642, 0.6319650187761642, 0.6319650187761642, 0.6319650187761642]}], \"precision_score_macro\": [{\"categories\": [\"0\", \"1\", \"2\", \"3\", \"4\", \"5\", \"6\", \"7\", \"8\", \"9\", \"10\", \"11\", \"12\", \"13\", \"14\", \"15\", \"16\", \"17\", \"18\", \"19\", \"20\", \"21\", \"22\", \"23\", \"24\", \"25\", \"26\", \"27\", \"28\", \"29\", \"30\", \"31\", \"32\", \"33\", \"34\", \"36\", \"37\"], \"mode\": \"markers\", \"name\": \"precision_score_macro\", \"stepped\": false, \"type\": \"scatter\", \"data\": [0.820275004310461, 0.8025272849261371, 0.814491345256051, 0.8381647798133866, 0.800344316674038, 0.8193783869209567, 0.8016856100294316, 0.7069237375687154, 0.8183300950430553, 0.8108639536171107, 0.7976953195943509, 0.8115118133141388, 0.832172000353876, 0.8059374105426738, 0.8518981496113127, 0.8465901862601382, 0.8579308973513775, 0.815016459926327, 0.8337643306778304, 0.8294272426919485, 0.8380654845771124, 0.8553099373526203, 0.8506317613046199, 0.8214737187655148, 0.8203616932909116, 0.33707197763801533, 0.8181812309137891, 0.7882951870960488, 0.8165810010827759, 0.780178492484527, 0.41813295658250543, 0.8092048352177972, 0.8395427997415181, 0.8034946893407966, 0.8204952791682463, 0.8682210974669303, 0.8414908998835917]}, {\"categories\": [\"0\", \"1\", \"2\", \"3\", \"4\", \"5\", \"6\", \"7\", \"8\", \"9\", \"10\", \"11\", \"12\", \"13\", \"14\", \"15\", \"16\", \"17\", \"18\", \"19\", \"20\", \"21\", \"22\", \"23\", \"24\", \"25\", \"26\", \"27\", \"28\", \"29\", \"30\", \"31\", \"32\", \"33\", \"34\", \"36\", \"37\"], \"mode\": \"lines\", \"name\": \"precision_score_macro_max\", \"stepped\": true, \"type\": \"scatter\", \"data\": [0.820275004310461, 0.820275004310461, 0.820275004310461, 0.8381647798133866, 0.8381647798133866, 0.8381647798133866, 0.8381647798133866, 0.8381647798133866, 0.8381647798133866, 0.8381647798133866, 0.8381647798133866, 0.8381647798133866, 0.8381647798133866, 0.8381647798133866, 0.8518981496113127, 0.8518981496113127, 0.8579308973513775, 0.8579308973513775, 0.8579308973513775, 0.8579308973513775, 0.8579308973513775, 0.8579308973513775, 0.8579308973513775, 0.8579308973513775, 0.8579308973513775, 0.8579308973513775, 0.8579308973513775, 0.8579308973513775, 0.8579308973513775, 0.8579308973513775, 0.8579308973513775, 0.8579308973513775, 0.8579308973513775, 0.8579308973513775, 0.8579308973513775, 0.8682210974669303, 0.8682210974669303]}], \"log_loss\": [{\"categories\": [\"0\", \"1\", \"2\", \"3\", \"4\", \"5\", \"6\", \"7\", \"8\", \"9\", \"10\", \"11\", \"12\", \"13\", \"14\", \"15\", \"16\", \"17\", \"18\", \"19\", \"20\", \"21\", \"22\", \"23\", \"24\", \"25\", \"26\", \"27\", \"28\", \"29\", \"30\", \"31\", \"32\", \"33\", \"34\", \"36\", \"37\"], \"mode\": \"markers\", \"name\": \"log_loss\", \"stepped\": false, \"type\": \"scatter\", \"data\": [0.5353372631154423, 0.46591914389846584, 0.41377639716394965, 0.4073478512020099, 0.42194602128591896, 0.41058894684882946, 0.4214681697247543, 0.5789850475126347, 0.41387799105133743, 0.40204782870057887, 0.4645020742809251, 0.4363124808743165, 0.4545508474809722, 0.4251152989668577, 0.42552082411059794, 0.43876571510217427, 0.4238694832404878, 0.40182836495616475, 0.4020484605286712, 0.3972612889512864, 0.40885715170953246, 0.431768920340018, 0.42491822315333627, 0.46755609460263836, 0.4259268148050509, 0.5975994338367796, 0.47669599422858255, 0.4888005726924959, 0.5005941864114034, 0.52134471418681, 0.6827845223466734, 0.4294017123977355, 0.45085146798115294, 0.44310962014488925, 0.41739275740771575, 0.415364855124628, 0.3800665416937924]}, {\"categories\": [\"0\", \"1\", \"2\", \"3\", \"4\", \"5\", \"6\", \"7\", \"8\", \"9\", \"10\", \"11\", \"12\", \"13\", \"14\", \"15\", \"16\", \"17\", \"18\", \"19\", \"20\", \"21\", \"22\", \"23\", \"24\", \"25\", \"26\", \"27\", \"28\", \"29\", \"30\", \"31\", \"32\", \"33\", \"34\", \"36\", \"37\"], \"mode\": \"lines\", \"name\": \"log_loss_min\", \"stepped\": true, \"type\": \"scatter\", \"data\": [0.5353372631154423, 0.46591914389846584, 0.41377639716394965, 0.4073478512020099, 0.4073478512020099, 0.4073478512020099, 0.4073478512020099, 0.4073478512020099, 0.4073478512020099, 0.40204782870057887, 0.40204782870057887, 0.40204782870057887, 0.40204782870057887, 0.40204782870057887, 0.40204782870057887, 0.40204782870057887, 0.40204782870057887, 0.40182836495616475, 0.40182836495616475, 0.3972612889512864, 0.3972612889512864, 0.3972612889512864, 0.3972612889512864, 0.3972612889512864, 0.3972612889512864, 0.3972612889512864, 0.3972612889512864, 0.3972612889512864, 0.3972612889512864, 0.3972612889512864, 0.3972612889512864, 0.3972612889512864, 0.3972612889512864, 0.3972612889512864, 0.3972612889512864, 0.3972612889512864, 0.3800665416937924]}], \"average_precision_score_micro\": [{\"categories\": [\"0\", \"1\", \"2\", \"3\", \"4\", \"5\", \"6\", \"7\", \"8\", \"9\", \"10\", \"11\", \"12\", \"13\", \"14\", \"15\", \"16\", \"17\", \"18\", \"19\", \"20\", \"21\", \"22\", \"23\", \"24\", \"25\", \"26\", \"27\", \"28\", \"29\", \"30\", \"31\", \"32\", \"33\", \"34\", \"36\", \"37\"], \"mode\": \"markers\", \"name\": \"average_precision_score_micro\", \"stepped\": false, \"type\": \"scatter\", \"data\": [0.884342891240696, 0.8940201005308772, 0.8964782399795821, 0.9073913136392185, 0.8899808844558288, 0.8934838392092956, 0.8906477000788737, 0.7497614269378358, 0.8966644902258588, 0.899333485466731, 0.8757609205310354, 0.8911814003950571, 0.8841527506393205, 0.8912385174574823, 0.9079234499030037, 0.8956916938030222, 0.9081926332898018, 0.9100286540957627, 0.904256782742876, 0.9072248848369938, 0.9019843358035565, 0.909752186365924, 0.9046465818038907, 0.8892799869370898, 0.8958635337155023, 0.757454500369723, 0.8927619574847654, 0.8673146697571091, 0.8750196346795491, 0.8712589363216356, 0.6574700100783863, 0.8937730255104175, 0.891739472906238, 0.8733930550174234, 0.895236330565915, 0.9170968728077783, 0.9163589650629976]}, {\"categories\": [\"0\", \"1\", \"2\", \"3\", \"4\", \"5\", \"6\", \"7\", \"8\", \"9\", \"10\", \"11\", \"12\", \"13\", \"14\", \"15\", \"16\", \"17\", \"18\", \"19\", \"20\", \"21\", \"22\", \"23\", \"24\", \"25\", \"26\", \"27\", \"28\", \"29\", \"30\", \"31\", \"32\", \"33\", \"34\", \"36\", \"37\"], \"mode\": \"lines\", \"name\": \"average_precision_score_micro_max\", \"stepped\": true, \"type\": \"scatter\", \"data\": [0.884342891240696, 0.8940201005308772, 0.8964782399795821, 0.9073913136392185, 0.9073913136392185, 0.9073913136392185, 0.9073913136392185, 0.9073913136392185, 0.9073913136392185, 0.9073913136392185, 0.9073913136392185, 0.9073913136392185, 0.9073913136392185, 0.9073913136392185, 0.9079234499030037, 0.9079234499030037, 0.9081926332898018, 0.9100286540957627, 0.9100286540957627, 0.9100286540957627, 0.9100286540957627, 0.9100286540957627, 0.9100286540957627, 0.9100286540957627, 0.9100286540957627, 0.9100286540957627, 0.9100286540957627, 0.9100286540957627, 0.9100286540957627, 0.9100286540957627, 0.9100286540957627, 0.9100286540957627, 0.9100286540957627, 0.9100286540957627, 0.9100286540957627, 0.9170968728077783, 0.9170968728077783]}], \"f1_score_micro\": [{\"categories\": [\"0\", \"1\", \"2\", \"3\", \"4\", \"5\", \"6\", \"7\", \"8\", \"9\", \"10\", \"11\", \"12\", \"13\", \"14\", \"15\", \"16\", \"17\", \"18\", \"19\", \"20\", \"21\", \"22\", \"23\", \"24\", \"25\", \"26\", \"27\", \"28\", \"29\", \"30\", \"31\", \"32\", \"33\", \"34\", \"36\", \"37\"], \"mode\": \"markers\", \"name\": \"f1_score_micro\", \"stepped\": false, \"type\": \"scatter\", \"data\": [0.823759608665269, 0.8127183787561145, 0.8316561844863732, 0.8467505241090147, 0.8165618448637317, 0.8277428371767994, 0.8168413696715586, 0.7151642208245982, 0.8316561844863731, 0.820335429769392, 0.8127882599580714, 0.8204053109713486, 0.8318658280922431, 0.8127183787561147, 0.839203354297694, 0.8391334730957374, 0.8467505241090147, 0.827812718378756, 0.8316561844863731, 0.8429769392033544, 0.8391334730957372, 0.8429769392033544, 0.8427672955974843, 0.8278825995807129, 0.8391334730957374, 0.6741439552760307, 0.7904262753319358, 0.7716981132075471, 0.8276729559748428, 0.8015373864430468, 0.6816911250873514, 0.8241090146750525, 0.8315863032844165, 0.8089447938504544, 0.8243186582809227, 0.8617749825296995, 0.8391334730957374]}, {\"categories\": [\"0\", \"1\", \"2\", \"3\", \"4\", \"5\", \"6\", \"7\", \"8\", \"9\", \"10\", \"11\", \"12\", \"13\", \"14\", \"15\", \"16\", \"17\", \"18\", \"19\", \"20\", \"21\", \"22\", \"23\", \"24\", \"25\", \"26\", \"27\", \"28\", \"29\", \"30\", \"31\", \"32\", \"33\", \"34\", \"36\", \"37\"], \"mode\": \"lines\", \"name\": \"f1_score_micro_max\", \"stepped\": true, \"type\": \"scatter\", \"data\": [0.823759608665269, 0.823759608665269, 0.8316561844863732, 0.8467505241090147, 0.8467505241090147, 0.8467505241090147, 0.8467505241090147, 0.8467505241090147, 0.8467505241090147, 0.8467505241090147, 0.8467505241090147, 0.8467505241090147, 0.8467505241090147, 0.8467505241090147, 0.8467505241090147, 0.8467505241090147, 0.8467505241090147, 0.8467505241090147, 0.8467505241090147, 0.8467505241090147, 0.8467505241090147, 0.8467505241090147, 0.8467505241090147, 0.8467505241090147, 0.8467505241090147, 0.8467505241090147, 0.8467505241090147, 0.8467505241090147, 0.8467505241090147, 0.8467505241090147, 0.8467505241090147, 0.8467505241090147, 0.8467505241090147, 0.8467505241090147, 0.8467505241090147, 0.8617749825296995, 0.8617749825296995]}], \"recall_score_micro\": [{\"categories\": [\"0\", \"1\", \"2\", \"3\", \"4\", \"5\", \"6\", \"7\", \"8\", \"9\", \"10\", \"11\", \"12\", \"13\", \"14\", \"15\", \"16\", \"17\", \"18\", \"19\", \"20\", \"21\", \"22\", \"23\", \"24\", \"25\", \"26\", \"27\", \"28\", \"29\", \"30\", \"31\", \"32\", \"33\", \"34\", \"36\", \"37\"], \"mode\": \"markers\", \"name\": \"recall_score_micro\", \"stepped\": false, \"type\": \"scatter\", \"data\": [0.823759608665269, 0.8127183787561145, 0.8316561844863731, 0.8467505241090147, 0.8165618448637317, 0.8277428371767994, 0.8168413696715586, 0.7151642208245982, 0.8316561844863731, 0.820335429769392, 0.8127882599580714, 0.8204053109713486, 0.8318658280922431, 0.8127183787561147, 0.839203354297694, 0.8391334730957374, 0.8467505241090147, 0.827812718378756, 0.8316561844863731, 0.8429769392033541, 0.8391334730957372, 0.8429769392033544, 0.8427672955974843, 0.8278825995807129, 0.8391334730957374, 0.6741439552760307, 0.7904262753319358, 0.7716981132075471, 0.8276729559748428, 0.8015373864430468, 0.6816911250873514, 0.8241090146750525, 0.8315863032844165, 0.8089447938504544, 0.8243186582809227, 0.8617749825296995, 0.8391334730957374]}, {\"categories\": [\"0\", \"1\", \"2\", \"3\", \"4\", \"5\", \"6\", \"7\", \"8\", \"9\", \"10\", \"11\", \"12\", \"13\", \"14\", \"15\", \"16\", \"17\", \"18\", \"19\", \"20\", \"21\", \"22\", \"23\", \"24\", \"25\", \"26\", \"27\", \"28\", \"29\", \"30\", \"31\", \"32\", \"33\", \"34\", \"36\", \"37\"], \"mode\": \"lines\", \"name\": \"recall_score_micro_max\", \"stepped\": true, \"type\": \"scatter\", \"data\": [0.823759608665269, 0.823759608665269, 0.8316561844863731, 0.8467505241090147, 0.8467505241090147, 0.8467505241090147, 0.8467505241090147, 0.8467505241090147, 0.8467505241090147, 0.8467505241090147, 0.8467505241090147, 0.8467505241090147, 0.8467505241090147, 0.8467505241090147, 0.8467505241090147, 0.8467505241090147, 0.8467505241090147, 0.8467505241090147, 0.8467505241090147, 0.8467505241090147, 0.8467505241090147, 0.8467505241090147, 0.8467505241090147, 0.8467505241090147, 0.8467505241090147, 0.8467505241090147, 0.8467505241090147, 0.8467505241090147, 0.8467505241090147, 0.8467505241090147, 0.8467505241090147, 0.8467505241090147, 0.8467505241090147, 0.8467505241090147, 0.8467505241090147, 0.8617749825296995, 0.8617749825296995]}], \"AUC_weighted\": [{\"categories\": [\"0\", \"1\", \"2\", \"3\", \"4\", \"5\", \"6\", \"7\", \"8\", \"9\", \"10\", \"11\", \"12\", \"13\", \"14\", \"15\", \"16\", \"17\", \"18\", \"19\", \"20\", \"21\", \"22\", \"23\", \"24\", \"25\", \"26\", \"27\", \"28\", \"29\", \"30\", \"31\", \"32\", \"33\", \"34\", \"36\", \"37\"], \"mode\": \"markers\", \"name\": \"AUC_weighted\", \"stepped\": false, \"type\": \"scatter\", \"data\": [0.8652215716044405, 0.8800877084984412, 0.8738455657083108, 0.8908421776688031, 0.8756843408752595, 0.8775551933395072, 0.8693323053797771, 0.704587423524472, 0.8755973212165162, 0.8890752737914761, 0.8521101155569679, 0.8704544013006345, 0.878386827581874, 0.8652490031076203, 0.9007702476845925, 0.8965300195589154, 0.8993696572076345, 0.8922121136053025, 0.8923179094283327, 0.89508813438638, 0.8892654376864902, 0.9049060060153972, 0.8997941862492945, 0.8807804072484154, 0.878361159264152, 0.7003117041894132, 0.9030098651048084, 0.8491400350533478, 0.8816016743828922, 0.8605589011471364, 0.5414072673386399, 0.9013790683450127, 0.8784001230802057, 0.8499479618468266, 0.8750066770964603, 0.9062442102483382, 0.9018413934151808]}, {\"categories\": [\"0\", \"1\", \"2\", \"3\", \"4\", \"5\", \"6\", \"7\", \"8\", \"9\", \"10\", \"11\", \"12\", \"13\", \"14\", \"15\", \"16\", \"17\", \"18\", \"19\", \"20\", \"21\", \"22\", \"23\", \"24\", \"25\", \"26\", \"27\", \"28\", \"29\", \"30\", \"31\", \"32\", \"33\", \"34\", \"36\", \"37\"], \"mode\": \"lines\", \"name\": \"AUC_weighted_max\", \"stepped\": true, \"type\": \"scatter\", \"data\": [0.8652215716044405, 0.8800877084984412, 0.8800877084984412, 0.8908421776688031, 0.8908421776688031, 0.8908421776688031, 0.8908421776688031, 0.8908421776688031, 0.8908421776688031, 0.8908421776688031, 0.8908421776688031, 0.8908421776688031, 0.8908421776688031, 0.8908421776688031, 0.9007702476845925, 0.9007702476845925, 0.9007702476845925, 0.9007702476845925, 0.9007702476845925, 0.9007702476845925, 0.9007702476845925, 0.9049060060153972, 0.9049060060153972, 0.9049060060153972, 0.9049060060153972, 0.9049060060153972, 0.9049060060153972, 0.9049060060153972, 0.9049060060153972, 0.9049060060153972, 0.9049060060153972, 0.9049060060153972, 0.9049060060153972, 0.9049060060153972, 0.9049060060153972, 0.9062442102483382, 0.9062442102483382]}], \"average_precision_score_macro\": [{\"categories\": [\"0\", \"1\", \"2\", \"3\", \"4\", \"5\", \"6\", \"7\", \"8\", \"9\", \"10\", \"11\", \"12\", \"13\", \"14\", \"15\", \"16\", \"17\", \"18\", \"19\", \"20\", \"21\", \"22\", \"23\", \"24\", \"25\", \"26\", \"27\", \"28\", \"29\", \"30\", \"31\", \"32\", \"33\", \"34\", \"36\", \"37\"], \"mode\": \"markers\", \"name\": \"average_precision_score_macro\", \"stepped\": false, \"type\": \"scatter\", \"data\": [0.8551262012734184, 0.861799860886921, 0.8582771598662845, 0.8734214101992063, 0.8493902347793574, 0.8620755524016562, 0.8545587870390456, 0.7060141557286823, 0.8584053657574081, 0.872158459588027, 0.8348847218332182, 0.8505293047762587, 0.8420953472372759, 0.8542485401203768, 0.8753501753551335, 0.8746369485624752, 0.8797335074116355, 0.8812374628621958, 0.8738376472560455, 0.8766964257480148, 0.8720336369123581, 0.8865040072026993, 0.886498351182173, 0.8559004739210765, 0.8564365515334759, 0.6725651764485789, 0.884435040441784, 0.8388892499867613, 0.8592925413898378, 0.8433397085718074, 0.542995319557966, 0.8847208602201823, 0.8617525021550538, 0.8378954884108951, 0.8558440206512813, 0.8916274673517478, 0.88906327014197]}, {\"categories\": [\"0\", \"1\", \"2\", \"3\", \"4\", \"5\", \"6\", \"7\", \"8\", \"9\", \"10\", \"11\", \"12\", \"13\", \"14\", \"15\", \"16\", \"17\", \"18\", \"19\", \"20\", \"21\", \"22\", \"23\", \"24\", \"25\", \"26\", \"27\", \"28\", \"29\", \"30\", \"31\", \"32\", \"33\", \"34\", \"36\", \"37\"], \"mode\": \"lines\", \"name\": \"average_precision_score_macro_max\", \"stepped\": true, \"type\": \"scatter\", \"data\": [0.8551262012734184, 0.861799860886921, 0.861799860886921, 0.8734214101992063, 0.8734214101992063, 0.8734214101992063, 0.8734214101992063, 0.8734214101992063, 0.8734214101992063, 0.8734214101992063, 0.8734214101992063, 0.8734214101992063, 0.8734214101992063, 0.8734214101992063, 0.8753501753551335, 0.8753501753551335, 0.8797335074116355, 0.8812374628621958, 0.8812374628621958, 0.8812374628621958, 0.8812374628621958, 0.8865040072026993, 0.8865040072026993, 0.8865040072026993, 0.8865040072026993, 0.8865040072026993, 0.8865040072026993, 0.8865040072026993, 0.8865040072026993, 0.8865040072026993, 0.8865040072026993, 0.8865040072026993, 0.8865040072026993, 0.8865040072026993, 0.8865040072026993, 0.8916274673517478, 0.8916274673517478]}], \"matthews_correlation\": [{\"categories\": [\"0\", \"1\", \"2\", \"3\", \"4\", \"5\", \"6\", \"7\", \"8\", \"9\", \"10\", \"11\", \"12\", \"13\", \"14\", \"15\", \"16\", \"17\", \"18\", \"19\", \"20\", \"21\", \"22\", \"23\", \"24\", \"25\", \"26\", \"27\", \"28\", \"29\", \"30\", \"31\", \"32\", \"33\", \"34\", \"36\", \"37\"], \"mode\": \"markers\", \"name\": \"matthews_correlation\", \"stepped\": false, \"type\": \"scatter\", \"data\": [0.5928521989134453, 0.5674009772406999, 0.6095930211121885, 0.6364981969987407, 0.5872761618997245, 0.5980506439270029, 0.5600334186590524, 0.2876234920690128, 0.6071056584221942, 0.5874944311045688, 0.5708685516161615, 0.5775998482411568, 0.5972367481158212, 0.5530662251425739, 0.6167779960146114, 0.6195460742195409, 0.6366099180158882, 0.6057096696424217, 0.6109929098782823, 0.6361534134217066, 0.6302191690328413, 0.6238452060307643, 0.6305155243328314, 0.5991418692815996, 0.6188501618307634, 0.0, 0.49824092767568284, 0.4540441169181643, 0.6232008270833904, 0.5537611105339526, 0.10402708750208718, 0.6244937541757487, 0.601286149321056, 0.5484438652147521, 0.5779043845874412, 0.6725247398855396, 0.6284792113511548]}, {\"categories\": [\"0\", \"1\", \"2\", \"3\", \"4\", \"5\", \"6\", \"7\", \"8\", \"9\", \"10\", \"11\", \"12\", \"13\", \"14\", \"15\", \"16\", \"17\", \"18\", \"19\", \"20\", \"21\", \"22\", \"23\", \"24\", \"25\", \"26\", \"27\", \"28\", \"29\", \"30\", \"31\", \"32\", \"33\", \"34\", \"36\", \"37\"], \"mode\": \"lines\", \"name\": \"matthews_correlation_max\", \"stepped\": true, \"type\": \"scatter\", \"data\": [0.5928521989134453, 0.5928521989134453, 0.6095930211121885, 0.6364981969987407, 0.6364981969987407, 0.6364981969987407, 0.6364981969987407, 0.6364981969987407, 0.6364981969987407, 0.6364981969987407, 0.6364981969987407, 0.6364981969987407, 0.6364981969987407, 0.6364981969987407, 0.6364981969987407, 0.6364981969987407, 0.6366099180158882, 0.6366099180158882, 0.6366099180158882, 0.6366099180158882, 0.6366099180158882, 0.6366099180158882, 0.6366099180158882, 0.6366099180158882, 0.6366099180158882, 0.6366099180158882, 0.6366099180158882, 0.6366099180158882, 0.6366099180158882, 0.6366099180158882, 0.6366099180158882, 0.6366099180158882, 0.6366099180158882, 0.6366099180158882, 0.6366099180158882, 0.6725247398855396, 0.6725247398855396]}], \"balanced_accuracy\": [{\"categories\": [\"0\", \"1\", \"2\", \"3\", \"4\", \"5\", \"6\", \"7\", \"8\", \"9\", \"10\", \"11\", \"12\", \"13\", \"14\", \"15\", \"16\", \"17\", \"18\", \"19\", \"20\", \"21\", \"22\", \"23\", \"24\", \"25\", \"26\", \"27\", \"28\", \"29\", \"30\", \"31\", \"32\", \"33\", \"34\", \"36\", \"37\"], \"mode\": \"markers\", \"name\": \"balanced_accuracy\", \"stepped\": false, \"type\": \"scatter\", \"data\": [0.775584972814075, 0.7674009866889123, 0.7961805782703616, 0.8000624519819567, 0.7879490579800177, 0.7811252259859073, 0.7615752580613261, 0.6035068955811991, 0.7902982253291851, 0.7785120978000235, 0.7747450152094115, 0.7691358062255895, 0.7703973590815696, 0.7516455788746811, 0.772642545444403, 0.7781981009999586, 0.7851915650522462, 0.7916518756302038, 0.7806944476139523, 0.8078586805212191, 0.7950875840659123, 0.7759996458603271, 0.7841042210237256, 0.7806439425634472, 0.7995147145456742, 0.5, 0.6958837813326978, 0.6825680958188698, 0.8075732980376944, 0.7740870845514809, 0.5552287581699347, 0.8159825093880821, 0.7674137872744684, 0.7490139999273125, 0.7641286135558583, 0.8085486654681702, 0.7908718977914024]}, {\"categories\": [\"0\", \"1\", \"2\", \"3\", \"4\", \"5\", \"6\", \"7\", \"8\", \"9\", \"10\", \"11\", \"12\", \"13\", \"14\", \"15\", \"16\", \"17\", \"18\", \"19\", \"20\", \"21\", \"22\", \"23\", \"24\", \"25\", \"26\", \"27\", \"28\", \"29\", \"30\", \"31\", \"32\", \"33\", \"34\", \"36\", \"37\"], \"mode\": \"lines\", \"name\": \"balanced_accuracy_max\", \"stepped\": true, \"type\": \"scatter\", \"data\": [0.775584972814075, 0.775584972814075, 0.7961805782703616, 0.8000624519819567, 0.8000624519819567, 0.8000624519819567, 0.8000624519819567, 0.8000624519819567, 0.8000624519819567, 0.8000624519819567, 0.8000624519819567, 0.8000624519819567, 0.8000624519819567, 0.8000624519819567, 0.8000624519819567, 0.8000624519819567, 0.8000624519819567, 0.8000624519819567, 0.8000624519819567, 0.8078586805212191, 0.8078586805212191, 0.8078586805212191, 0.8078586805212191, 0.8078586805212191, 0.8078586805212191, 0.8078586805212191, 0.8078586805212191, 0.8078586805212191, 0.8078586805212191, 0.8078586805212191, 0.8078586805212191, 0.8159825093880821, 0.8159825093880821, 0.8159825093880821, 0.8159825093880821, 0.8159825093880821, 0.8159825093880821]}], \"accuracy\": [{\"categories\": [\"0\", \"1\", \"2\", \"3\", \"4\", \"5\", \"6\", \"7\", \"8\", \"9\", \"10\", \"11\", \"12\", \"13\", \"14\", \"15\", \"16\", \"17\", \"18\", \"19\", \"20\", \"21\", \"22\", \"23\", \"24\", \"25\", \"26\", \"27\", \"28\", \"29\", \"30\", \"31\", \"32\", \"33\", \"34\", \"36\", \"37\"], \"mode\": \"markers\", \"name\": \"accuracy\", \"stepped\": false, \"type\": \"scatter\", \"data\": [0.823759608665269, 0.8127183787561145, 0.8316561844863731, 0.8467505241090147, 0.8165618448637317, 0.8277428371767994, 0.8168413696715586, 0.7151642208245982, 0.8316561844863731, 0.820335429769392, 0.8127882599580714, 0.8204053109713486, 0.8318658280922431, 0.8127183787561147, 0.839203354297694, 0.8391334730957374, 0.8467505241090147, 0.827812718378756, 0.8316561844863731, 0.8429769392033541, 0.8391334730957372, 0.8429769392033544, 0.8427672955974843, 0.8278825995807129, 0.8391334730957374, 0.6741439552760307, 0.7904262753319358, 0.7716981132075471, 0.8276729559748428, 0.8015373864430468, 0.6816911250873514, 0.8241090146750525, 0.8315863032844165, 0.8089447938504544, 0.8243186582809227, 0.8617749825296995, 0.8391334730957374]}, {\"categories\": [\"0\", \"1\", \"2\", \"3\", \"4\", \"5\", \"6\", \"7\", \"8\", \"9\", \"10\", \"11\", \"12\", \"13\", \"14\", \"15\", \"16\", \"17\", \"18\", \"19\", \"20\", \"21\", \"22\", \"23\", \"24\", \"25\", \"26\", \"27\", \"28\", \"29\", \"30\", \"31\", \"32\", \"33\", \"34\", \"36\", \"37\"], \"mode\": \"lines\", \"name\": \"accuracy_max\", \"stepped\": true, \"type\": \"scatter\", \"data\": [0.823759608665269, 0.823759608665269, 0.8316561844863731, 0.8467505241090147, 0.8467505241090147, 0.8467505241090147, 0.8467505241090147, 0.8467505241090147, 0.8467505241090147, 0.8467505241090147, 0.8467505241090147, 0.8467505241090147, 0.8467505241090147, 0.8467505241090147, 0.8467505241090147, 0.8467505241090147, 0.8467505241090147, 0.8467505241090147, 0.8467505241090147, 0.8467505241090147, 0.8467505241090147, 0.8467505241090147, 0.8467505241090147, 0.8467505241090147, 0.8467505241090147, 0.8467505241090147, 0.8467505241090147, 0.8467505241090147, 0.8467505241090147, 0.8467505241090147, 0.8467505241090147, 0.8467505241090147, 0.8467505241090147, 0.8467505241090147, 0.8467505241090147, 0.8617749825296995, 0.8617749825296995]}], \"precision_score_micro\": [{\"categories\": [\"0\", \"1\", \"2\", \"3\", \"4\", \"5\", \"6\", \"7\", \"8\", \"9\", \"10\", \"11\", \"12\", \"13\", \"14\", \"15\", \"16\", \"17\", \"18\", \"19\", \"20\", \"21\", \"22\", \"23\", \"24\", \"25\", \"26\", \"27\", \"28\", \"29\", \"30\", \"31\", \"32\", \"33\", \"34\", \"36\", \"37\"], \"mode\": \"markers\", \"name\": \"precision_score_micro\", \"stepped\": false, \"type\": \"scatter\", \"data\": [0.823759608665269, 0.8127183787561145, 0.8316561844863731, 0.8467505241090147, 0.8165618448637317, 0.8277428371767994, 0.8168413696715586, 0.7151642208245982, 0.8316561844863731, 0.820335429769392, 0.8127882599580714, 0.8204053109713486, 0.8318658280922431, 0.8127183787561147, 0.839203354297694, 0.8391334730957374, 0.8467505241090147, 0.827812718378756, 0.8316561844863731, 0.8429769392033541, 0.8391334730957372, 0.8429769392033544, 0.8427672955974843, 0.8278825995807129, 0.8391334730957374, 0.6741439552760307, 0.7904262753319358, 0.7716981132075471, 0.8276729559748428, 0.8015373864430468, 0.6816911250873514, 0.8241090146750525, 0.8315863032844165, 0.8089447938504544, 0.8243186582809227, 0.8617749825296995, 0.8391334730957374]}, {\"categories\": [\"0\", \"1\", \"2\", \"3\", \"4\", \"5\", \"6\", \"7\", \"8\", \"9\", \"10\", \"11\", \"12\", \"13\", \"14\", \"15\", \"16\", \"17\", \"18\", \"19\", \"20\", \"21\", \"22\", \"23\", \"24\", \"25\", \"26\", \"27\", \"28\", \"29\", \"30\", \"31\", \"32\", \"33\", \"34\", \"36\", \"37\"], \"mode\": \"lines\", \"name\": \"precision_score_micro_max\", \"stepped\": true, \"type\": \"scatter\", \"data\": [0.823759608665269, 0.823759608665269, 0.8316561844863731, 0.8467505241090147, 0.8467505241090147, 0.8467505241090147, 0.8467505241090147, 0.8467505241090147, 0.8467505241090147, 0.8467505241090147, 0.8467505241090147, 0.8467505241090147, 0.8467505241090147, 0.8467505241090147, 0.8467505241090147, 0.8467505241090147, 0.8467505241090147, 0.8467505241090147, 0.8467505241090147, 0.8467505241090147, 0.8467505241090147, 0.8467505241090147, 0.8467505241090147, 0.8467505241090147, 0.8467505241090147, 0.8467505241090147, 0.8467505241090147, 0.8467505241090147, 0.8467505241090147, 0.8467505241090147, 0.8467505241090147, 0.8467505241090147, 0.8467505241090147, 0.8467505241090147, 0.8467505241090147, 0.8617749825296995, 0.8617749825296995]}], \"average_precision_score_weighted\": [{\"categories\": [\"0\", \"1\", \"2\", \"3\", \"4\", \"5\", \"6\", \"7\", \"8\", \"9\", \"10\", \"11\", \"12\", \"13\", \"14\", \"15\", \"16\", \"17\", \"18\", \"19\", \"20\", \"21\", \"22\", \"23\", \"24\", \"25\", \"26\", \"27\", \"28\", \"29\", \"30\", \"31\", \"32\", \"33\", \"34\", \"36\", \"37\"], \"mode\": \"markers\", \"name\": \"average_precision_score_weighted\", \"stepped\": false, \"type\": \"scatter\", \"data\": [0.8802421762665169, 0.8884505298905598, 0.8849524641100663, 0.896730709187661, 0.8782983458639629, 0.8843239158669258, 0.88357303620082, 0.7387605091483784, 0.8861961172606353, 0.8948615844324387, 0.866131768287215, 0.8783664761987025, 0.8706488102551676, 0.8828665245253596, 0.902462664535023, 0.8955756427282043, 0.904430243786783, 0.9032097207150016, 0.8974889440190482, 0.8996745033509967, 0.8973035590652909, 0.9091865639989672, 0.9048429142098591, 0.8789688951024995, 0.8870994493970773, 0.7268727994086952, 0.9081811364178017, 0.8658623728599512, 0.8861231866096355, 0.8720729918550372, 0.6017303377355103, 0.9070076203170331, 0.8863981508067595, 0.8674718503001891, 0.8860719602234874, 0.9130469732001106, 0.9101479527439619]}, {\"categories\": [\"0\", \"1\", \"2\", \"3\", \"4\", \"5\", \"6\", \"7\", \"8\", \"9\", \"10\", \"11\", \"12\", \"13\", \"14\", \"15\", \"16\", \"17\", \"18\", \"19\", \"20\", \"21\", \"22\", \"23\", \"24\", \"25\", \"26\", \"27\", \"28\", \"29\", \"30\", \"31\", \"32\", \"33\", \"34\", \"36\", \"37\"], \"mode\": \"lines\", \"name\": \"average_precision_score_weighted_max\", \"stepped\": true, \"type\": \"scatter\", \"data\": [0.8802421762665169, 0.8884505298905598, 0.8884505298905598, 0.896730709187661, 0.896730709187661, 0.896730709187661, 0.896730709187661, 0.896730709187661, 0.896730709187661, 0.896730709187661, 0.896730709187661, 0.896730709187661, 0.896730709187661, 0.896730709187661, 0.902462664535023, 0.902462664535023, 0.904430243786783, 0.904430243786783, 0.904430243786783, 0.904430243786783, 0.904430243786783, 0.9091865639989672, 0.9091865639989672, 0.9091865639989672, 0.9091865639989672, 0.9091865639989672, 0.9091865639989672, 0.9091865639989672, 0.9091865639989672, 0.9091865639989672, 0.9091865639989672, 0.9091865639989672, 0.9091865639989672, 0.9091865639989672, 0.9091865639989672, 0.9130469732001106, 0.9130469732001106]}], \"recall_score_weighted\": [{\"categories\": [\"0\", \"1\", \"2\", \"3\", \"4\", \"5\", \"6\", \"7\", \"8\", \"9\", \"10\", \"11\", \"12\", \"13\", \"14\", \"15\", \"16\", \"17\", \"18\", \"19\", \"20\", \"21\", \"22\", \"23\", \"24\", \"25\", \"26\", \"27\", \"28\", \"29\", \"30\", \"31\", \"32\", \"33\", \"34\", \"36\", \"37\"], \"mode\": \"markers\", \"name\": \"recall_score_weighted\", \"stepped\": false, \"type\": \"scatter\", \"data\": [0.823759608665269, 0.8127183787561145, 0.8316561844863731, 0.8467505241090147, 0.8165618448637317, 0.8277428371767994, 0.8168413696715586, 0.7151642208245982, 0.8316561844863731, 0.820335429769392, 0.8127882599580714, 0.8204053109713486, 0.8318658280922431, 0.8127183787561147, 0.839203354297694, 0.8391334730957374, 0.8467505241090147, 0.827812718378756, 0.8316561844863731, 0.8429769392033541, 0.8391334730957372, 0.8429769392033544, 0.8427672955974843, 0.8278825995807129, 0.8391334730957374, 0.6741439552760307, 0.7904262753319358, 0.7716981132075471, 0.8276729559748428, 0.8015373864430468, 0.6816911250873514, 0.8241090146750525, 0.8315863032844165, 0.8089447938504544, 0.8243186582809227, 0.8617749825296995, 0.8391334730957374]}, {\"categories\": [\"0\", \"1\", \"2\", \"3\", \"4\", \"5\", \"6\", \"7\", \"8\", \"9\", \"10\", \"11\", \"12\", \"13\", \"14\", \"15\", \"16\", \"17\", \"18\", \"19\", \"20\", \"21\", \"22\", \"23\", \"24\", \"25\", \"26\", \"27\", \"28\", \"29\", \"30\", \"31\", \"32\", \"33\", \"34\", \"36\", \"37\"], \"mode\": \"lines\", \"name\": \"recall_score_weighted_max\", \"stepped\": true, \"type\": \"scatter\", \"data\": [0.823759608665269, 0.823759608665269, 0.8316561844863731, 0.8467505241090147, 0.8467505241090147, 0.8467505241090147, 0.8467505241090147, 0.8467505241090147, 0.8467505241090147, 0.8467505241090147, 0.8467505241090147, 0.8467505241090147, 0.8467505241090147, 0.8467505241090147, 0.8467505241090147, 0.8467505241090147, 0.8467505241090147, 0.8467505241090147, 0.8467505241090147, 0.8467505241090147, 0.8467505241090147, 0.8467505241090147, 0.8467505241090147, 0.8467505241090147, 0.8467505241090147, 0.8467505241090147, 0.8467505241090147, 0.8467505241090147, 0.8467505241090147, 0.8467505241090147, 0.8467505241090147, 0.8467505241090147, 0.8467505241090147, 0.8467505241090147, 0.8467505241090147, 0.8617749825296995, 0.8617749825296995]}], \"f1_score_macro\": [{\"categories\": [\"0\", \"1\", \"2\", \"3\", \"4\", \"5\", \"6\", \"7\", \"8\", \"9\", \"10\", \"11\", \"12\", \"13\", \"14\", \"15\", \"16\", \"17\", \"18\", \"19\", \"20\", \"21\", \"22\", \"23\", \"24\", \"25\", \"26\", \"27\", \"28\", \"29\", \"30\", \"31\", \"32\", \"33\", \"34\", \"36\", \"37\"], \"mode\": \"markers\", \"name\": \"f1_score_macro\", \"stepped\": false, \"type\": \"scatter\", \"data\": [0.7877671834108134, 0.7753918170216847, 0.7998893557795071, 0.8132754032868729, 0.7864058329841772, 0.7928381744455786, 0.7711261872814645, 0.6007311749969411, 0.7987422054030743, 0.7853291562778493, 0.7801005296839539, 0.7803226422872361, 0.784869957247919, 0.7657073600024593, 0.7906248917838813, 0.7964932991833732, 0.8028433724494436, 0.799609411988533, 0.7950021855518206, 0.8129446527591705, 0.8051409008898585, 0.7946083346529089, 0.8042155399359701, 0.7909884561405751, 0.8052651795737941, 0.40247822728617083, 0.7136021799430299, 0.6949747274436164, 0.8035323221826257, 0.7735810758150544, 0.4642407284510958, 0.8028027886762489, 0.7869082981916177, 0.76387440515716, 0.7747674704527865, 0.8254754486275427, 0.8026085465014873]}, {\"categories\": [\"0\", \"1\", \"2\", \"3\", \"4\", \"5\", \"6\", \"7\", \"8\", \"9\", \"10\", \"11\", \"12\", \"13\", \"14\", \"15\", \"16\", \"17\", \"18\", \"19\", \"20\", \"21\", \"22\", \"23\", \"24\", \"25\", \"26\", \"27\", \"28\", \"29\", \"30\", \"31\", \"32\", \"33\", \"34\", \"36\", \"37\"], \"mode\": \"lines\", \"name\": \"f1_score_macro_max\", \"stepped\": true, \"type\": \"scatter\", \"data\": [0.7877671834108134, 0.7877671834108134, 0.7998893557795071, 0.8132754032868729, 0.8132754032868729, 0.8132754032868729, 0.8132754032868729, 0.8132754032868729, 0.8132754032868729, 0.8132754032868729, 0.8132754032868729, 0.8132754032868729, 0.8132754032868729, 0.8132754032868729, 0.8132754032868729, 0.8132754032868729, 0.8132754032868729, 0.8132754032868729, 0.8132754032868729, 0.8132754032868729, 0.8132754032868729, 0.8132754032868729, 0.8132754032868729, 0.8132754032868729, 0.8132754032868729, 0.8132754032868729, 0.8132754032868729, 0.8132754032868729, 0.8132754032868729, 0.8132754032868729, 0.8132754032868729, 0.8132754032868729, 0.8132754032868729, 0.8132754032868729, 0.8132754032868729, 0.8254754486275427, 0.8254754486275427]}]}, \"metricName\": null, \"primaryMetricName\": \"accuracy\", \"showLegend\": false}, \"run_metrics\": [{\"name\": \"experiment_status\", \"run_id\": \"AutoML_0df6a668-9229-4f79-a88d-ebd9d5ce001d\", \"categories\": [0, 1, 2, 3, 4, 5, 6, 7, 8, 9, 10, 11, 12, 13], \"series\": [{\"data\": [\"DatasetEvaluation\", \"FeaturesGeneration\", \"DatasetFeaturization\", \"DatasetFeaturizationCompleted\", \"DatasetCrossValidationSplit\", \"ModelSelection\", \"BestRunExplainModel\", \"ModelExplanationDataSetSetup\", \"PickSurrogateModel\", \"EngineeredFeatureExplanations\", \"EngineeredFeatureExplanations\", \"RawFeaturesExplanations\", \"RawFeaturesExplanations\", \"BestRunExplainModel\"]}]}, {\"name\": \"experiment_status_description\", \"run_id\": \"AutoML_0df6a668-9229-4f79-a88d-ebd9d5ce001d\", \"categories\": [0, 1, 2, 3, 4, 5, 6, 7, 8, 9, 10, 11, 12, 13], \"series\": [{\"data\": [\"Gathering dataset statistics.\", \"Generating features for the dataset.\", \"Beginning to fit featurizers and featurize the dataset.\", \"Completed fit featurizers and featurizing the dataset.\", \"Generating individually featurized CV splits.\", \"Beginning model selection.\", \"Best run model explanations started\", \"Model explanations data setup completed\", \"Choosing LightGBM as the surrogate model for explanations\", \"Computation of engineered features started\", \"Computation of engineered features completed\", \"Computation of raw features started\", \"Computation of raw features completed\", \"Best run model explanations completed\"]}]}, {\"name\": \"matthews_correlation\", \"run_id\": \"AutoML_0df6a668-9229-4f79-a88d-ebd9d5ce001d\", \"categories\": [0], \"series\": [{\"data\": [0.6725247398855396]}]}, {\"name\": \"AUC_macro\", \"run_id\": \"AutoML_0df6a668-9229-4f79-a88d-ebd9d5ce001d\", \"categories\": [0], \"series\": [{\"data\": [0.9062442102483382]}]}, {\"name\": \"average_precision_score_weighted\", \"run_id\": \"AutoML_0df6a668-9229-4f79-a88d-ebd9d5ce001d\", \"categories\": [0], \"series\": [{\"data\": [0.9130469732001106]}]}, {\"name\": \"weighted_accuracy\", \"run_id\": \"AutoML_0df6a668-9229-4f79-a88d-ebd9d5ce001d\", \"categories\": [0], \"series\": [{\"data\": [0.9014298259395698]}]}, {\"name\": \"balanced_accuracy\", \"run_id\": \"AutoML_0df6a668-9229-4f79-a88d-ebd9d5ce001d\", \"categories\": [0], \"series\": [{\"data\": [0.8085486654681702]}]}, {\"name\": \"precision_score_weighted\", \"run_id\": \"AutoML_0df6a668-9229-4f79-a88d-ebd9d5ce001d\", \"categories\": [0], \"series\": [{\"data\": [0.8654933928806896]}]}, {\"name\": \"average_precision_score_macro\", \"run_id\": \"AutoML_0df6a668-9229-4f79-a88d-ebd9d5ce001d\", \"categories\": [0], \"series\": [{\"data\": [0.8916274673517478]}]}, {\"name\": \"AUC_weighted\", \"run_id\": \"AutoML_0df6a668-9229-4f79-a88d-ebd9d5ce001d\", \"categories\": [0], \"series\": [{\"data\": [0.9062442102483382]}]}, {\"name\": \"precision_score_micro\", \"run_id\": \"AutoML_0df6a668-9229-4f79-a88d-ebd9d5ce001d\", \"categories\": [0], \"series\": [{\"data\": [0.8617749825296995]}]}, {\"name\": \"recall_score_weighted\", \"run_id\": \"AutoML_0df6a668-9229-4f79-a88d-ebd9d5ce001d\", \"categories\": [0], \"series\": [{\"data\": [0.8617749825296995]}]}, {\"name\": \"recall_score_micro\", \"run_id\": \"AutoML_0df6a668-9229-4f79-a88d-ebd9d5ce001d\", \"categories\": [0], \"series\": [{\"data\": [0.8617749825296995]}]}, {\"name\": \"f1_score_micro\", \"run_id\": \"AutoML_0df6a668-9229-4f79-a88d-ebd9d5ce001d\", \"categories\": [0], \"series\": [{\"data\": [0.8617749825296995]}]}, {\"name\": \"average_precision_score_micro\", \"run_id\": \"AutoML_0df6a668-9229-4f79-a88d-ebd9d5ce001d\", \"categories\": [0], \"series\": [{\"data\": [0.9170968728077783]}]}, {\"name\": \"accuracy\", \"run_id\": \"AutoML_0df6a668-9229-4f79-a88d-ebd9d5ce001d\", \"categories\": [0], \"series\": [{\"data\": [0.8617749825296995]}]}, {\"name\": \"f1_score_macro\", \"run_id\": \"AutoML_0df6a668-9229-4f79-a88d-ebd9d5ce001d\", \"categories\": [0], \"series\": [{\"data\": [0.8254754486275427]}]}, {\"name\": \"log_loss\", \"run_id\": \"AutoML_0df6a668-9229-4f79-a88d-ebd9d5ce001d\", \"categories\": [0], \"series\": [{\"data\": [0.415364855124628]}]}, {\"name\": \"precision_score_macro\", \"run_id\": \"AutoML_0df6a668-9229-4f79-a88d-ebd9d5ce001d\", \"categories\": [0], \"series\": [{\"data\": [0.8682210974669303]}]}, {\"name\": \"norm_macro_recall\", \"run_id\": \"AutoML_0df6a668-9229-4f79-a88d-ebd9d5ce001d\", \"categories\": [0], \"series\": [{\"data\": [0.6170973309363402]}]}, {\"name\": \"AUC_micro\", \"run_id\": \"AutoML_0df6a668-9229-4f79-a88d-ebd9d5ce001d\", \"categories\": [0], \"series\": [{\"data\": [0.9155119176505462]}]}, {\"name\": \"f1_score_weighted\", \"run_id\": \"AutoML_0df6a668-9229-4f79-a88d-ebd9d5ce001d\", \"categories\": [0], \"series\": [{\"data\": [0.8543152382790419]}]}, {\"name\": \"recall_score_macro\", \"run_id\": \"AutoML_0df6a668-9229-4f79-a88d-ebd9d5ce001d\", \"categories\": [0], \"series\": [{\"data\": [0.8085486654681702]}]}], \"run_logs\": \"\\nRun is completed.\", \"graph\": {}, \"widget_settings\": {\"childWidgetDisplay\": \"popup\", \"send_telemetry\": false, \"log_level\": \"INFO\", \"sdk_version\": \"1.22.0\"}, \"loading\": false}"
     },
     "metadata": {},
     "output_type": "display_data"
    }
   ],
   "source": [
    "RunDetails(remote_run).show()"
   ]
  },
  {
   "cell_type": "code",
   "execution_count": 16,
   "metadata": {
    "gather": {
     "logged": 1609057322041
    }
   },
   "outputs": [
    {
     "data": {
      "text/plain": [
       "{'runId': 'AutoML_0df6a668-9229-4f79-a88d-ebd9d5ce001d',\n",
       " 'target': 'cpu-cluster',\n",
       " 'status': 'Completed',\n",
       " 'startTimeUtc': '2021-03-04T14:28:01.703995Z',\n",
       " 'endTimeUtc': '2021-03-04T14:50:19.717672Z',\n",
       " 'properties': {'num_iterations': '1000',\n",
       "  'training_type': 'TrainFull',\n",
       "  'acquisition_function': 'EI',\n",
       "  'primary_metric': 'accuracy',\n",
       "  'train_split': '0',\n",
       "  'acquisition_parameter': '0',\n",
       "  'num_cross_validation': '5',\n",
       "  'target': 'cpu-cluster',\n",
       "  'AMLSettingsJsonString': '{\"path\":null,\"name\":\"automl-experiment\",\"subscription_id\":\"610d6e37-4747-4a20-80eb-3aad70a55f43\",\"resource_group\":\"aml-quickstarts-139798\",\"workspace_name\":\"quick-starts-ws-139798\",\"region\":\"southcentralus\",\"compute_target\":\"cpu-cluster\",\"spark_service\":null,\"azure_service\":\"remote\",\"many_models\":false,\"pipeline_fetch_max_batch_size\":1,\"iterations\":1000,\"primary_metric\":\"accuracy\",\"task_type\":\"classification\",\"data_script\":null,\"validation_size\":0.0,\"n_cross_validations\":5,\"y_min\":null,\"y_max\":null,\"num_classes\":null,\"featurization\":\"auto\",\"_ignore_package_version_incompatibilities\":false,\"is_timeseries\":false,\"max_cores_per_iteration\":1,\"max_concurrent_iterations\":4,\"iteration_timeout_minutes\":null,\"mem_in_mb\":null,\"enforce_time_on_windows\":false,\"experiment_timeout_minutes\":30,\"experiment_exit_score\":null,\"whitelist_models\":null,\"blacklist_algos\":[\"TensorFlowLinearClassifier\",\"TensorFlowDNN\"],\"supported_models\":[\"GradientBoosting\",\"MultinomialNaiveBayes\",\"LogisticRegression\",\"BernoulliNaiveBayes\",\"SGD\",\"ExtremeRandomTrees\",\"XGBoostClassifier\",\"RandomForest\",\"AveragedPerceptronClassifier\",\"TensorFlowDNN\",\"TensorFlowLinearClassifier\",\"KNN\",\"DecisionTree\",\"LightGBM\",\"SVM\",\"LinearSVM\"],\"private_models\":[],\"auto_blacklist\":true,\"blacklist_samples_reached\":false,\"exclude_nan_labels\":true,\"verbosity\":20,\"_debug_log\":\"azureml_automl.log\",\"show_warnings\":false,\"model_explainability\":true,\"service_url\":null,\"sdk_url\":null,\"sdk_packages\":null,\"enable_onnx_compatible_models\":false,\"enable_split_onnx_featurizer_estimator_models\":false,\"vm_type\":\"STANDARD_D12_V2\",\"telemetry_verbosity\":20,\"send_telemetry\":true,\"enable_dnn\":false,\"scenario\":\"SDK-1.13.0\",\"environment_label\":null,\"force_text_dnn\":false,\"enable_feature_sweeping\":true,\"enable_early_stopping\":true,\"early_stopping_n_iters\":10,\"metrics\":null,\"enable_ensembling\":true,\"enable_stack_ensembling\":true,\"ensemble_iterations\":15,\"enable_tf\":false,\"enable_subsampling\":null,\"subsample_seed\":null,\"enable_nimbusml\":false,\"enable_streaming\":false,\"force_streaming\":false,\"track_child_runs\":true,\"allowed_private_models\":[],\"label_column_name\":\"DEATH_EVENT\",\"weight_column_name\":null,\"cv_split_column_names\":null,\"enable_local_managed\":false,\"_local_managed_run_id\":null,\"cost_mode\":1,\"lag_length\":0,\"metric_operation\":\"maximize\",\"preprocess\":true}',\n",
       "  'DataPrepJsonString': '{\\\\\"training_data\\\\\": \\\\\"{\\\\\\\\\\\\\"blocks\\\\\\\\\\\\\": [{\\\\\\\\\\\\\"id\\\\\\\\\\\\\": \\\\\\\\\\\\\"7d5e5d74-49b9-404c-8606-e3da660d3af3\\\\\\\\\\\\\", \\\\\\\\\\\\\"type\\\\\\\\\\\\\": \\\\\\\\\\\\\"Microsoft.DPrep.GetDatastoreFilesBlock\\\\\\\\\\\\\", \\\\\\\\\\\\\"arguments\\\\\\\\\\\\\": {\\\\\\\\\\\\\"datastores\\\\\\\\\\\\\": [{\\\\\\\\\\\\\"datastoreName\\\\\\\\\\\\\": \\\\\\\\\\\\\"workspaceblobstore\\\\\\\\\\\\\", \\\\\\\\\\\\\"path\\\\\\\\\\\\\": \\\\\\\\\\\\\"UI/03-04-2021_015339_UTC/heart-disease-kaggle.csv\\\\\\\\\\\\\", \\\\\\\\\\\\\"resourceGroup\\\\\\\\\\\\\": \\\\\\\\\\\\\"aml-quickstarts-139798\\\\\\\\\\\\\", \\\\\\\\\\\\\"subscription\\\\\\\\\\\\\": \\\\\\\\\\\\\"610d6e37-4747-4a20-80eb-3aad70a55f43\\\\\\\\\\\\\", \\\\\\\\\\\\\"workspaceName\\\\\\\\\\\\\": \\\\\\\\\\\\\"quick-starts-ws-139798\\\\\\\\\\\\\"}]}, \\\\\\\\\\\\\"localData\\\\\\\\\\\\\": {}, \\\\\\\\\\\\\"isEnabled\\\\\\\\\\\\\": true, \\\\\\\\\\\\\"name\\\\\\\\\\\\\": null, \\\\\\\\\\\\\"annotation\\\\\\\\\\\\\": null}, {\\\\\\\\\\\\\"id\\\\\\\\\\\\\": \\\\\\\\\\\\\"a21ed61d-e236-4b27-b1f3-3a08fccdb203\\\\\\\\\\\\\", \\\\\\\\\\\\\"type\\\\\\\\\\\\\": \\\\\\\\\\\\\"Microsoft.DPrep.ParseDelimitedBlock\\\\\\\\\\\\\", \\\\\\\\\\\\\"arguments\\\\\\\\\\\\\": {\\\\\\\\\\\\\"columnHeadersMode\\\\\\\\\\\\\": 3, \\\\\\\\\\\\\"fileEncoding\\\\\\\\\\\\\": 0, \\\\\\\\\\\\\"handleQuotedLineBreaks\\\\\\\\\\\\\": false, \\\\\\\\\\\\\"preview\\\\\\\\\\\\\": false, \\\\\\\\\\\\\"separator\\\\\\\\\\\\\": \\\\\\\\\\\\\",\\\\\\\\\\\\\", \\\\\\\\\\\\\"skipRows\\\\\\\\\\\\\": 0, \\\\\\\\\\\\\"skipRowsMode\\\\\\\\\\\\\": 0}, \\\\\\\\\\\\\"localData\\\\\\\\\\\\\": {}, \\\\\\\\\\\\\"isEnabled\\\\\\\\\\\\\": true, \\\\\\\\\\\\\"name\\\\\\\\\\\\\": null, \\\\\\\\\\\\\"annotation\\\\\\\\\\\\\": null}, {\\\\\\\\\\\\\"id\\\\\\\\\\\\\": \\\\\\\\\\\\\"adc98b71-5886-4d4c-9594-c5fadb562458\\\\\\\\\\\\\", \\\\\\\\\\\\\"type\\\\\\\\\\\\\": \\\\\\\\\\\\\"Microsoft.DPrep.DropColumnsBlock\\\\\\\\\\\\\", \\\\\\\\\\\\\"arguments\\\\\\\\\\\\\": {\\\\\\\\\\\\\"columns\\\\\\\\\\\\\": {\\\\\\\\\\\\\"type\\\\\\\\\\\\\": 0, \\\\\\\\\\\\\"details\\\\\\\\\\\\\": {\\\\\\\\\\\\\"selectedColumns\\\\\\\\\\\\\": [\\\\\\\\\\\\\"Path\\\\\\\\\\\\\"]}}}, \\\\\\\\\\\\\"localData\\\\\\\\\\\\\": {}, \\\\\\\\\\\\\"isEnabled\\\\\\\\\\\\\": true, \\\\\\\\\\\\\"name\\\\\\\\\\\\\": null, \\\\\\\\\\\\\"annotation\\\\\\\\\\\\\": null}, {\\\\\\\\\\\\\"id\\\\\\\\\\\\\": \\\\\\\\\\\\\"62f8398a-724b-4807-b3fe-2027c2c36854\\\\\\\\\\\\\", \\\\\\\\\\\\\"type\\\\\\\\\\\\\": \\\\\\\\\\\\\"Microsoft.DPrep.SetColumnTypesBlock\\\\\\\\\\\\\", \\\\\\\\\\\\\"arguments\\\\\\\\\\\\\": {\\\\\\\\\\\\\"columnConversion\\\\\\\\\\\\\": [{\\\\\\\\\\\\\"column\\\\\\\\\\\\\": {\\\\\\\\\\\\\"type\\\\\\\\\\\\\": 2, \\\\\\\\\\\\\"details\\\\\\\\\\\\\": {\\\\\\\\\\\\\"selectedColumn\\\\\\\\\\\\\": \\\\\\\\\\\\\"Path\\\\\\\\\\\\\"}}, \\\\\\\\\\\\\"typeProperty\\\\\\\\\\\\\": 0}, {\\\\\\\\\\\\\"column\\\\\\\\\\\\\": {\\\\\\\\\\\\\"type\\\\\\\\\\\\\": 2, \\\\\\\\\\\\\"details\\\\\\\\\\\\\": {\\\\\\\\\\\\\"selectedColumn\\\\\\\\\\\\\": \\\\\\\\\\\\\"age\\\\\\\\\\\\\"}}, \\\\\\\\\\\\\"typeProperty\\\\\\\\\\\\\": 3}, {\\\\\\\\\\\\\"column\\\\\\\\\\\\\": {\\\\\\\\\\\\\"type\\\\\\\\\\\\\": 2, \\\\\\\\\\\\\"details\\\\\\\\\\\\\": {\\\\\\\\\\\\\"selectedColumn\\\\\\\\\\\\\": \\\\\\\\\\\\\"anaemia\\\\\\\\\\\\\"}}, \\\\\\\\\\\\\"typeProperty\\\\\\\\\\\\\": 2}, {\\\\\\\\\\\\\"column\\\\\\\\\\\\\": {\\\\\\\\\\\\\"type\\\\\\\\\\\\\": 2, \\\\\\\\\\\\\"details\\\\\\\\\\\\\": {\\\\\\\\\\\\\"selectedColumn\\\\\\\\\\\\\": \\\\\\\\\\\\\"creatinine_phosphokinase\\\\\\\\\\\\\"}}, \\\\\\\\\\\\\"typeProperty\\\\\\\\\\\\\": 2}, {\\\\\\\\\\\\\"column\\\\\\\\\\\\\": {\\\\\\\\\\\\\"type\\\\\\\\\\\\\": 2, \\\\\\\\\\\\\"details\\\\\\\\\\\\\": {\\\\\\\\\\\\\"selectedColumn\\\\\\\\\\\\\": \\\\\\\\\\\\\"diabetes\\\\\\\\\\\\\"}}, \\\\\\\\\\\\\"typeProperty\\\\\\\\\\\\\": 2}, {\\\\\\\\\\\\\"column\\\\\\\\\\\\\": {\\\\\\\\\\\\\"type\\\\\\\\\\\\\": 2, \\\\\\\\\\\\\"details\\\\\\\\\\\\\": {\\\\\\\\\\\\\"selectedColumn\\\\\\\\\\\\\": \\\\\\\\\\\\\"ejection_fraction\\\\\\\\\\\\\"}}, \\\\\\\\\\\\\"typeProperty\\\\\\\\\\\\\": 2}, {\\\\\\\\\\\\\"column\\\\\\\\\\\\\": {\\\\\\\\\\\\\"type\\\\\\\\\\\\\": 2, \\\\\\\\\\\\\"details\\\\\\\\\\\\\": {\\\\\\\\\\\\\"selectedColumn\\\\\\\\\\\\\": \\\\\\\\\\\\\"high_blood_pressure\\\\\\\\\\\\\"}}, \\\\\\\\\\\\\"typeProperty\\\\\\\\\\\\\": 2}, {\\\\\\\\\\\\\"column\\\\\\\\\\\\\": {\\\\\\\\\\\\\"type\\\\\\\\\\\\\": 2, \\\\\\\\\\\\\"details\\\\\\\\\\\\\": {\\\\\\\\\\\\\"selectedColumn\\\\\\\\\\\\\": \\\\\\\\\\\\\"platelets\\\\\\\\\\\\\"}}, \\\\\\\\\\\\\"typeProperty\\\\\\\\\\\\\": 3}, {\\\\\\\\\\\\\"column\\\\\\\\\\\\\": {\\\\\\\\\\\\\"type\\\\\\\\\\\\\": 2, \\\\\\\\\\\\\"details\\\\\\\\\\\\\": {\\\\\\\\\\\\\"selectedColumn\\\\\\\\\\\\\": \\\\\\\\\\\\\"serum_creatinine\\\\\\\\\\\\\"}}, \\\\\\\\\\\\\"typeProperty\\\\\\\\\\\\\": 3}, {\\\\\\\\\\\\\"column\\\\\\\\\\\\\": {\\\\\\\\\\\\\"type\\\\\\\\\\\\\": 2, \\\\\\\\\\\\\"details\\\\\\\\\\\\\": {\\\\\\\\\\\\\"selectedColumn\\\\\\\\\\\\\": \\\\\\\\\\\\\"serum_sodium\\\\\\\\\\\\\"}}, \\\\\\\\\\\\\"typeProperty\\\\\\\\\\\\\": 2}, {\\\\\\\\\\\\\"column\\\\\\\\\\\\\": {\\\\\\\\\\\\\"type\\\\\\\\\\\\\": 2, \\\\\\\\\\\\\"details\\\\\\\\\\\\\": {\\\\\\\\\\\\\"selectedColumn\\\\\\\\\\\\\": \\\\\\\\\\\\\"sex\\\\\\\\\\\\\"}}, \\\\\\\\\\\\\"typeProperty\\\\\\\\\\\\\": 2}, {\\\\\\\\\\\\\"column\\\\\\\\\\\\\": {\\\\\\\\\\\\\"type\\\\\\\\\\\\\": 2, \\\\\\\\\\\\\"details\\\\\\\\\\\\\": {\\\\\\\\\\\\\"selectedColumn\\\\\\\\\\\\\": \\\\\\\\\\\\\"smoking\\\\\\\\\\\\\"}}, \\\\\\\\\\\\\"typeProperty\\\\\\\\\\\\\": 2}, {\\\\\\\\\\\\\"column\\\\\\\\\\\\\": {\\\\\\\\\\\\\"type\\\\\\\\\\\\\": 2, \\\\\\\\\\\\\"details\\\\\\\\\\\\\": {\\\\\\\\\\\\\"selectedColumn\\\\\\\\\\\\\": \\\\\\\\\\\\\"time\\\\\\\\\\\\\"}}, \\\\\\\\\\\\\"typeProperty\\\\\\\\\\\\\": 2}, {\\\\\\\\\\\\\"column\\\\\\\\\\\\\": {\\\\\\\\\\\\\"type\\\\\\\\\\\\\": 2, \\\\\\\\\\\\\"details\\\\\\\\\\\\\": {\\\\\\\\\\\\\"selectedColumn\\\\\\\\\\\\\": \\\\\\\\\\\\\"DEATH_EVENT\\\\\\\\\\\\\"}}, \\\\\\\\\\\\\"typeProperty\\\\\\\\\\\\\": 2}]}, \\\\\\\\\\\\\"localData\\\\\\\\\\\\\": {}, \\\\\\\\\\\\\"isEnabled\\\\\\\\\\\\\": true, \\\\\\\\\\\\\"name\\\\\\\\\\\\\": null, \\\\\\\\\\\\\"annotation\\\\\\\\\\\\\": null}, {\\\\\\\\\\\\\"id\\\\\\\\\\\\\": \\\\\\\\\\\\\"3d24384e-57fa-4964-9b01-d00cef6e4252\\\\\\\\\\\\\", \\\\\\\\\\\\\"type\\\\\\\\\\\\\": \\\\\\\\\\\\\"Microsoft.DPrep.TakeSampleBlock\\\\\\\\\\\\\", \\\\\\\\\\\\\"arguments\\\\\\\\\\\\\": {\\\\\\\\\\\\\"probability\\\\\\\\\\\\\": 0.9, \\\\\\\\\\\\\"probabilityLowerBound\\\\\\\\\\\\\": 0.0, \\\\\\\\\\\\\"seed\\\\\\\\\\\\\": 887772947}, \\\\\\\\\\\\\"localData\\\\\\\\\\\\\": {}, \\\\\\\\\\\\\"isEnabled\\\\\\\\\\\\\": true, \\\\\\\\\\\\\"name\\\\\\\\\\\\\": null, \\\\\\\\\\\\\"annotation\\\\\\\\\\\\\": null}], \\\\\\\\\\\\\"inspectors\\\\\\\\\\\\\": [], \\\\\\\\\\\\\"meta\\\\\\\\\\\\\": {\\\\\\\\\\\\\"savedDatasetId\\\\\\\\\\\\\": \\\\\\\\\\\\\"2892ac5a-6284-4aa4-9d7d-fbe0569cf0f3\\\\\\\\\\\\\", \\\\\\\\\\\\\"datasetType\\\\\\\\\\\\\": \\\\\\\\\\\\\"tabular\\\\\\\\\\\\\", \\\\\\\\\\\\\"subscriptionId\\\\\\\\\\\\\": \\\\\\\\\\\\\"610d6e37-4747-4a20-80eb-3aad70a55f43\\\\\\\\\\\\\", \\\\\\\\\\\\\"workspaceId\\\\\\\\\\\\\": \\\\\\\\\\\\\"bf2deacd-2592-411b-935e-6e7e8edcc2c9\\\\\\\\\\\\\", \\\\\\\\\\\\\"workspaceLocation\\\\\\\\\\\\\": \\\\\\\\\\\\\"southcentralus\\\\\\\\\\\\\"}}\\\\\", \\\\\"activities\\\\\": 0}',\n",
       "  'EnableSubsampling': None,\n",
       "  'runTemplate': 'AutoML',\n",
       "  'azureml.runsource': 'automl',\n",
       "  'display_task_type': 'classification',\n",
       "  'dependencies_versions': '{\"azureml-widgets\": \"1.22.0\", \"azureml-train\": \"1.22.0\", \"azureml-train-restclients-hyperdrive\": \"1.22.0\", \"azureml-train-core\": \"1.22.0\", \"azureml-train-automl\": \"1.22.0\", \"azureml-train-automl-runtime\": \"1.22.0\", \"azureml-train-automl-client\": \"1.22.0\", \"azureml-tensorboard\": \"1.22.0\", \"azureml-telemetry\": \"1.22.0\", \"azureml-sdk\": \"1.22.0\", \"azureml-samples\": \"0+unknown\", \"azureml-pipeline\": \"1.22.0\", \"azureml-pipeline-steps\": \"1.22.0\", \"azureml-pipeline-core\": \"1.22.0\", \"azureml-opendatasets\": \"1.22.0\", \"azureml-model-management-sdk\": \"1.0.1b6.post1\", \"azureml-mlflow\": \"1.22.0\", \"azureml-interpret\": \"1.22.0\", \"azureml-explain-model\": \"1.22.0\", \"azureml-defaults\": \"1.22.0\", \"azureml-dataset-runtime\": \"1.22.0\", \"azureml-dataprep\": \"2.9.1\", \"azureml-dataprep-rslex\": \"1.7.0\", \"azureml-dataprep-native\": \"29.0.0\", \"azureml-datadrift\": \"1.22.0\", \"azureml-core\": \"1.22.0\", \"azureml-contrib-services\": \"1.22.0\", \"azureml-contrib-server\": \"1.22.0\", \"azureml-contrib-reinforcementlearning\": \"1.22.0\", \"azureml-contrib-pipeline-steps\": \"1.22.0\", \"azureml-contrib-notebook\": \"1.22.0\", \"azureml-contrib-interpret\": \"1.22.0\", \"azureml-contrib-gbdt\": \"1.22.0\", \"azureml-contrib-fairness\": \"1.22.0\", \"azureml-contrib-dataset\": \"1.22.0\", \"azureml-cli-common\": \"1.22.0\", \"azureml-automl-runtime\": \"1.22.0\", \"azureml-automl-core\": \"1.22.0\", \"azureml-accel-models\": \"1.22.0\"}',\n",
       "  '_aml_system_scenario_identification': 'Remote.Parent',\n",
       "  'ClientType': 'SDK',\n",
       "  'environment_cpu_name': 'AzureML-AutoML',\n",
       "  'environment_cpu_label': 'prod',\n",
       "  'environment_gpu_name': 'AzureML-AutoML-GPU',\n",
       "  'environment_gpu_label': 'prod',\n",
       "  'root_attribution': 'automl',\n",
       "  'attribution': 'AutoML',\n",
       "  'Orchestrator': 'AutoML',\n",
       "  'CancelUri': 'https://southcentralus.experiments.azureml.net/jasmine/v1.0/subscriptions/610d6e37-4747-4a20-80eb-3aad70a55f43/resourceGroups/aml-quickstarts-139798/providers/Microsoft.MachineLearningServices/workspaces/quick-starts-ws-139798/experimentids/a12d5245-543a-4a26-bd5f-80f7cfe2530e/cancel/AutoML_0df6a668-9229-4f79-a88d-ebd9d5ce001d',\n",
       "  'ClientSdkVersion': '1.23.0',\n",
       "  'snapshotId': '00000000-0000-0000-0000-000000000000',\n",
       "  'SetupRunId': 'AutoML_0df6a668-9229-4f79-a88d-ebd9d5ce001d_setup',\n",
       "  'SetupRunContainerId': 'dcid.AutoML_0df6a668-9229-4f79-a88d-ebd9d5ce001d_setup',\n",
       "  'FeaturizationRunJsonPath': 'featurizer_container.json',\n",
       "  'FeaturizationRunId': 'AutoML_0df6a668-9229-4f79-a88d-ebd9d5ce001d_featurize',\n",
       "  'ProblemInfoJsonString': '{\"dataset_num_categorical\": 0, \"is_sparse\": false, \"subsampling\": false, \"dataset_classes\": 2, \"dataset_features\": 12, \"dataset_samples\": 267, \"single_frequency_class_detected\": false}',\n",
       "  'ModelExplainRunId': 'AutoML_0df6a668-9229-4f79-a88d-ebd9d5ce001d_ModelExplain'},\n",
       " 'inputDatasets': [{'dataset': {'id': '2892ac5a-6284-4aa4-9d7d-fbe0569cf0f3'}, 'consumptionDetails': {'type': 'RunInput', 'inputName': 'training_data', 'mechanism': 'Direct'}}],\n",
       " 'outputDatasets': [],\n",
       " 'logFiles': {},\n",
       " 'submittedBy': 'ODL_User 139798'}"
      ]
     },
     "execution_count": 16,
     "metadata": {},
     "output_type": "execute_result"
    }
   ],
   "source": [
    "remote_run.wait_for_completion()"
   ]
  },
  {
   "cell_type": "markdown",
   "metadata": {},
   "source": [
    "## Best Model "
   ]
  },
  {
   "cell_type": "code",
   "execution_count": 17,
   "metadata": {
    "gather": {
     "logged": 1609057494229
    }
   },
   "outputs": [
    {
     "name": "stderr",
     "output_type": "stream",
     "text": [
      "WARNING:root:The version of the SDK does not match the version the model was trained on.\n",
      "WARNING:root:The consistency in the result may not be guaranteed.\n",
      "WARNING:root:Package:azureml-automl-core, training version:1.23.0, current version:1.22.0\n",
      "Package:azureml-automl-runtime, training version:1.23.0, current version:1.22.0\n",
      "Package:azureml-core, training version:1.23.0, current version:1.22.0\n",
      "Package:azureml-dataprep, training version:2.10.1, current version:2.9.1\n",
      "Package:azureml-dataprep-native, training version:30.0.0, current version:29.0.0\n",
      "Package:azureml-dataprep-rslex, training version:1.8.0, current version:1.7.0\n",
      "Package:azureml-dataset-runtime, training version:1.23.0, current version:1.22.0\n",
      "Package:azureml-defaults, training version:1.23.0, current version:1.22.0\n",
      "Package:azureml-interpret, training version:1.23.0, current version:1.22.0\n",
      "Package:azureml-mlflow, training version:1.23.0, current version:1.22.0\n",
      "Package:azureml-pipeline-core, training version:1.23.0, current version:1.22.0\n",
      "Package:azureml-telemetry, training version:1.23.0, current version:1.22.0\n",
      "Package:azureml-train-automl-client, training version:1.23.0, current version:1.22.0\n",
      "Package:azureml-train-automl-runtime, training version:1.23.0, current version:1.22.0\n",
      "WARNING:root:Please ensure the version of your local conda dependencies match the version on which your model was trained in order to properly retrieve your model.\n"
     ]
    }
   ],
   "source": [
    "best_run, fitted_model = remote_run.get_output()\n",
    "best_run_metrics = best_run.get_metrics()"
   ]
  },
  {
   "cell_type": "code",
   "execution_count": 19,
   "metadata": {
    "gather": {
     "logged": 1609057496313
    }
   },
   "outputs": [
    {
     "data": {
      "text/html": [
       "<table style=\"width:100%\"><tr><th>Experiment</th><th>Id</th><th>Type</th><th>Status</th><th>Details Page</th><th>Docs Page</th></tr><tr><td>automl-experiment</td><td>AutoML_0df6a668-9229-4f79-a88d-ebd9d5ce001d_36</td><td>azureml.scriptrun</td><td>Completed</td><td><a href=\"https://ml.azure.com/experiments/automl-experiment/runs/AutoML_0df6a668-9229-4f79-a88d-ebd9d5ce001d_36?wsid=/subscriptions/610d6e37-4747-4a20-80eb-3aad70a55f43/resourcegroups/aml-quickstarts-139798/workspaces/quick-starts-ws-139798\" target=\"_blank\" rel=\"noopener\">Link to Azure Machine Learning studio</a></td><td><a href=\"https://docs.microsoft.com/en-us/python/api/azureml-core/azureml.core.run.Run?view=azure-ml-py\" target=\"_blank\" rel=\"noopener\">Link to Documentation</a></td></tr></table>"
      ],
      "text/plain": [
       "Run(Experiment: automl-experiment,\n",
       "Id: AutoML_0df6a668-9229-4f79-a88d-ebd9d5ce001d_36,\n",
       "Type: azureml.scriptrun,\n",
       "Status: Completed)"
      ]
     },
     "execution_count": 19,
     "metadata": {},
     "output_type": "execute_result"
    }
   ],
   "source": [
    "best_run"
   ]
  },
  {
   "cell_type": "code",
   "execution_count": 20,
   "metadata": {
    "gather": {
     "logged": 1609057496796
    }
   },
   "outputs": [
    {
     "data": {
      "text/plain": [
       "Pipeline(memory=None,\n",
       "         steps=[('datatransformer',\n",
       "                 DataTransformer(enable_dnn=None, enable_feature_sweeping=None,\n",
       "                                 feature_sweeping_config=None,\n",
       "                                 feature_sweeping_timeout=None,\n",
       "                                 featurization_config=None, force_text_dnn=None,\n",
       "                                 is_cross_validation=None,\n",
       "                                 is_onnx_compatible=None, logger=None,\n",
       "                                 observer=None, task=None, working_dir=None)),\n",
       "                ('prefittedsoftvotingclassifier',...\n",
       "                                                                                                objective=None,\n",
       "                                                                                                random_state=None,\n",
       "                                                                                                reg_alpha=0.42105263157894735,\n",
       "                                                                                                reg_lambda=0.21052631578947367,\n",
       "                                                                                                silent=True,\n",
       "                                                                                                subsample=1,\n",
       "                                                                                                subsample_for_bin=200000,\n",
       "                                                                                                subsample_freq=0,\n",
       "                                                                                                verbose=-10))],\n",
       "                                                                     verbose=False))],\n",
       "                                               flatten_transform=None,\n",
       "                                               weights=[0.16666666666666666,\n",
       "                                                        0.16666666666666666,\n",
       "                                                        0.16666666666666666,\n",
       "                                                        0.16666666666666666,\n",
       "                                                        0.16666666666666666,\n",
       "                                                        0.16666666666666666]))],\n",
       "         verbose=False)"
      ]
     },
     "execution_count": 20,
     "metadata": {},
     "output_type": "execute_result"
    }
   ],
   "source": [
    "fitted_model"
   ]
  },
  {
   "cell_type": "code",
   "execution_count": 21,
   "metadata": {
    "nteract": {
     "transient": {
      "deleting": false
     }
    }
   },
   "outputs": [
    {
     "name": "stdout",
     "output_type": "stream",
     "text": [
      "Best Run Id:  AutoML_0df6a668-9229-4f79-a88d-ebd9d5ce001d_36\n",
      "\n",
      " Accuracy: 0.8617749825296995\n",
      "PreFittedSoftVotingClassifier(classification_labels=None,\n",
      "                              estimators=[('16',\n",
      "                                           Pipeline(memory=None,\n",
      "                                                    steps=[('robustscaler',\n",
      "                                                            RobustScaler(copy=True,\n",
      "                                                                         quantile_range=[25,\n",
      "                                                                                         75],\n",
      "                                                                         with_centering=True,\n",
      "                                                                         with_scaling=False)),\n",
      "                                                           ('extratreesclassifier',\n",
      "                                                            ExtraTreesClassifier(bootstrap=False,\n",
      "                                                                                 ccp_alpha=0.0,\n",
      "                                                                                 class_weight=None,\n",
      "                                                                                 criterion='entropy',\n",
      "                                                                                 max_depth=None,\n",
      "                                                                                 max_features=0.8...\n",
      "                                                                               num_leaves=122,\n",
      "                                                                               objective=None,\n",
      "                                                                               random_state=None,\n",
      "                                                                               reg_alpha=0.42105263157894735,\n",
      "                                                                               reg_lambda=0.21052631578947367,\n",
      "                                                                               silent=True,\n",
      "                                                                               subsample=1,\n",
      "                                                                               subsample_for_bin=200000,\n",
      "                                                                               subsample_freq=0,\n",
      "                                                                               verbose=-10))],\n",
      "                                                    verbose=False))],\n",
      "                              flatten_transform=None,\n",
      "                              weights=[0.16666666666666666, 0.16666666666666666,\n",
      "                                       0.16666666666666666, 0.16666666666666666,\n",
      "                                       0.16666666666666666,\n",
      "                                       0.16666666666666666])\n",
      "{'_aml_system_azureml.automlComponent': 'AutoML', '_aml_system_ComputeTargetStatus': '{\"AllocationState\":\"steady\",\"PreparingNodeCount\":0,\"RunningNodeCount\":4,\"CurrentNodeCount\":4}', 'mlflow.source.type': 'JOB', 'mlflow.source.name': 'automl_driver.py', 'ensembled_iterations': '[16, 3, 21, 19, 22, 27]', 'ensembled_algorithms': \"['ExtremeRandomTrees', 'RandomForest', 'ExtremeRandomTrees', 'RandomForest', 'LightGBM', 'LightGBM']\", 'ensemble_weights': '[0.16666666666666666, 0.16666666666666666, 0.16666666666666666, 0.16666666666666666, 0.16666666666666666, 0.16666666666666666]', 'best_individual_pipeline_score': '0.8467505241090147', 'best_individual_iteration': '16', '_aml_system_automl_is_child_run_end_telemetry_event_logged': 'True'}\n"
     ]
    }
   ],
   "source": [
    "print('Best Run Id: ', best_run.id)\n",
    "print('\\n Accuracy:', best_run_metrics['accuracy'])\n",
    "print(fitted_model._final_estimator)\n",
    "print(best_run.get_tags())"
   ]
  },
  {
   "cell_type": "code",
   "execution_count": 22,
   "metadata": {
    "gather": {
     "logged": 1609058285285
    }
   },
   "outputs": [
    {
     "data": {
      "text/plain": [
       "'AutoML0df6a668936'"
      ]
     },
     "execution_count": 22,
     "metadata": {},
     "output_type": "execute_result"
    }
   ],
   "source": [
    "os.makedirs('./outputs', exist_ok=True)\n",
    "\n",
    "joblib.dump(fitted_model, filename='outputs/automl.joblib')\n",
    "\n",
    "model_name = best_run.properties['model_name']\n",
    "model_name"
   ]
  },
  {
   "cell_type": "code",
   "execution_count": 23,
   "metadata": {
    "gather": {
     "logged": 1609061282639
    },
    "nteract": {
     "transient": {
      "deleting": false
     }
    }
   },
   "outputs": [],
   "source": [
    "env = best_run.get_environment()\n",
    "\n",
    "script_file = 'score.py'\n",
    "\n",
    "best_run.download_file('outputs/scoring_file_v_1_0_0.py', script_file)"
   ]
  },
  {
   "cell_type": "markdown",
   "metadata": {},
   "source": [
    "## Model Deployment"
   ]
  },
  {
   "cell_type": "code",
   "execution_count": 20,
   "metadata": {
    "gather": {
     "logged": 1609057825294
    }
   },
   "outputs": [],
   "source": [
    "#Register the fitted model\n",
    "model = remote_run.register_model(model_name = model_name,\n",
    "                                  description = 'AutoML model')"
   ]
  },
  {
   "cell_type": "code",
   "execution_count": 21,
   "metadata": {
    "gather": {
     "logged": 1609058832201
    }
   },
   "outputs": [
    {
     "name": "stdout",
     "output_type": "stream",
     "text": [
      "automl-heart-disease\n"
     ]
    }
   ],
   "source": [
    "inference_config = InferenceConfig(entry_script = script_file, environment = env)\n",
    "\n",
    "aci_config = AciWebservice.deploy_configuration(cpu_cores = 1, memory_gb = 1)\n",
    "\n",
    "aci_service_name = 'automl-heart-disease'\n",
    "print(aci_service_name)"
   ]
  },
  {
   "cell_type": "code",
   "execution_count": 22,
   "metadata": {
    "gather": {
     "logged": 1609059066228
    }
   },
   "outputs": [
    {
     "name": "stdout",
     "output_type": "stream",
     "text": [
      "Tips: You can try get_logs(): https://aka.ms/debugimage#dockerlog or local deployment: https://aka.ms/debugimage#debug-locally to debug if deployment takes longer than 10 minutes.\n",
      "Running.............\n",
      "Succeeded\n",
      "ACI service creation operation finished, operation \"Succeeded\"\n",
      "State: Healthy\n",
      "Scoring URI: http://af889be7-14d8-48e8-9205-0338fe6afdcb.southcentralus.azurecontainer.io/score\n"
     ]
    }
   ],
   "source": [
    "service = Model.deploy(ws, aci_service_name, [model], inference_config, aci_config)\n",
    "service.wait_for_deployment(True)\n",
    "print(\"State: \" + service.state)\n",
    "print(\"Scoring URI: \" + service.scoring_uri)"
   ]
  },
  {
   "cell_type": "markdown",
   "metadata": {},
   "source": [
    "## Testing using 2 different methods"
   ]
  },
  {
   "cell_type": "code",
   "execution_count": 23,
   "metadata": {
    "nteract": {
     "transient": {
      "deleting": false
     }
    }
   },
   "outputs": [
    {
     "name": "stdout",
     "output_type": "stream",
     "text": [
      "{\"result\": [1, 1]}\n"
     ]
    }
   ],
   "source": [
    "%run endpoint.py"
   ]
  },
  {
   "cell_type": "code",
   "execution_count": 35,
   "metadata": {
    "gather": {
     "logged": 1609062759579
    },
    "nteract": {
     "transient": {
      "deleting": false
     }
    }
   },
   "outputs": [
    {
     "name": "stdout",
     "output_type": "stream",
     "text": [
      "{\"data\": [{\"age\": 90, \"anaemia\": 1, \"creatinine_phosphokinase\": 60, \"diabetes\": 1, \"ejection_fraction\": 50, \"high_blood_pressure\": 0, \"platelets\": 226000.0, \"serum_creatinine\": 1.0, \"serum_sodium\": 134, \"sex\": 1, \"smoking\": 0, \"time\": 30}, {\"age\": 70, \"anaemia\": 0, \"creatinine_phosphokinase\": 618, \"diabetes\": 0, \"ejection_fraction\": 35, \"high_blood_pressure\": 0, \"platelets\": 327000.0, \"serum_creatinine\": 1.1, \"serum_sodium\": 142, \"sex\": 0, \"smoking\": 0, \"time\": 245}, {\"age\": 60, \"anaemia\": 1, \"creatinine_phosphokinase\": 260, \"diabetes\": 1, \"ejection_fraction\": 38, \"high_blood_pressure\": 0, \"platelets\": 255000.0, \"serum_creatinine\": 2.2, \"serum_sodium\": 132, \"sex\": 0, \"smoking\": 1, \"time\": 45}]}\n"
     ]
    }
   ],
   "source": [
    "data_test = data_test.to_pandas_dataframe().dropna()\n",
    "data_sample = data_test.sample(3)\n",
    "y_true = data_sample.pop('DEATH_EVENT')\n",
    "sample_json = json.dumps({'data':data_sample.to_dict(orient='records')})\n",
    "print(sample_json)"
   ]
  },
  {
   "cell_type": "code",
   "execution_count": 36,
   "metadata": {
    "gather": {
     "logged": 1609062767514
    },
    "nteract": {
     "transient": {
      "deleting": false
     }
    }
   },
   "outputs": [
    {
     "name": "stdout",
     "output_type": "stream",
     "text": [
      "Prediction:  {\"result\": [1, 0, 1]}\n",
      "True Values:  [1 0 1]\n"
     ]
    }
   ],
   "source": [
    "output = service.run(sample_json)\n",
    "print('Prediction: ', output)\n",
    "print('True Values: ', y_true.values)"
   ]
  },
  {
   "cell_type": "code",
   "execution_count": 37,
   "metadata": {
    "gather": {
     "logged": 1609062829772
    }
   },
   "outputs": [
    {
     "data": {
      "text/plain": [
       "'2020-12-28T08:02:58,638664100+00:00 - nginx/run \\n/usr/sbin/nginx: /azureml-envs/azureml_8eff28b157f42edcd2424a5aae6c8074/lib/libcrypto.so.1.0.0: no version information available (required by /usr/sbin/nginx)\\n/usr/sbin/nginx: /azureml-envs/azureml_8eff28b157f42edcd2424a5aae6c8074/lib/libcrypto.so.1.0.0: no version information available (required by /usr/sbin/nginx)\\n/usr/sbin/nginx: /azureml-envs/azureml_8eff28b157f42edcd2424a5aae6c8074/lib/libssl.so.1.0.0: no version information available (required by /usr/sbin/nginx)\\n/usr/sbin/nginx: /azureml-envs/azureml_8eff28b157f42edcd2424a5aae6c8074/lib/libssl.so.1.0.0: no version information available (required by /usr/sbin/nginx)\\n/usr/sbin/nginx: /azureml-envs/azureml_8eff28b157f42edcd2424a5aae6c8074/lib/libssl.so.1.0.0: no version information available (required by /usr/sbin/nginx)\\n2020-12-28T08:02:58,647916700+00:00 - rsyslog/run \\n2020-12-28T08:02:58,650225800+00:00 - iot-server/run \\n2020-12-28T08:02:58,659505900+00:00 - gunicorn/run \\nrsyslogd: /azureml-envs/azureml_8eff28b157f42edcd2424a5aae6c8074/lib/libuuid.so.1: no version information available (required by rsyslogd)\\nEdgeHubConnectionString and IOTEDGE_IOTHUBHOSTNAME are not set. Exiting...\\n2020-12-28T08:03:00,497461100+00:00 - iot-server/finish 1 0\\n2020-12-28T08:03:00,504740100+00:00 - Exit code 1 is normal. Not restarting iot-server.\\nStarting gunicorn 19.9.0\\nListening at: http://127.0.0.1:31311 (72)\\nUsing worker: sync\\nworker timeout is set to 300\\nBooting worker with pid: 100\\nSPARK_HOME not set. Skipping PySpark Initialization.\\nGenerating new fontManager, this may take some time...\\nInitializing logger\\n2020-12-28 08:03:05,343 | root | INFO | Starting up app insights client\\nStarting up app insights client\\n2020-12-28 08:03:05,344 | root | INFO | Starting up request id generator\\nStarting up request id generator\\n2020-12-28 08:03:05,344 | root | INFO | Starting up app insight hooks\\nStarting up app insight hooks\\n2020-12-28 08:03:05,344 | root | INFO | Invoking user\\'s init function\\nInvoking user\\'s init function\\n2020-12-28 08:03:13,289 | root | INFO | Users\\'s init has completed successfully\\nUsers\\'s init has completed successfully\\n2020-12-28 08:03:13,295 | root | INFO | Skipping middleware: dbg_model_info as it\\'s not enabled.\\nSkipping middleware: dbg_model_info as it\\'s not enabled.\\n2020-12-28 08:03:13,296 | root | INFO | Skipping middleware: dbg_resource_usage as it\\'s not enabled.\\nSkipping middleware: dbg_resource_usage as it\\'s not enabled.\\n2020-12-28 08:03:13,297 | root | INFO | Scoring timeout is found from os.environ: 60000 ms\\nScoring timeout is found from os.environ: 60000 ms\\n2020-12-28 08:03:13,348 | root | INFO | 200\\n200\\n127.0.0.1 - - [28/Dec/2020:08:03:13 +0000] \"GET /swagger.json HTTP/1.0\" 200 2870 \"-\" \"Go-http-client/1.1\"\\n2020-12-28 08:03:15,815 | root | INFO | 200\\n200\\n127.0.0.1 - - [28/Dec/2020:08:03:15 +0000] \"GET /swagger.json HTTP/1.0\" 200 2870 \"-\" \"Go-http-client/1.1\"\\n2020-12-28 08:03:38,670 | root | INFO | Validation Request Content-Type\\nValidation Request Content-Type\\n2020-12-28 08:03:38,671 | root | INFO | \\tHost: localhost:5001\\n\\tHost: localhost:5001\\n2020-12-28 08:03:38,671 | root | INFO | \\tX-Real-Ip: 127.0.0.1\\n\\tX-Real-Ip: 127.0.0.1\\n2020-12-28 08:03:38,672 | root | INFO | \\tX-Forwarded-For: 127.0.0.1\\n\\tX-Forwarded-For: 127.0.0.1\\n2020-12-28 08:03:38,672 | root | INFO | \\tX-Forwarded-Proto: http\\n\\tX-Forwarded-Proto: http\\n2020-12-28 08:03:38,673 | root | INFO | \\tConnection: close\\n\\tConnection: close\\n2020-12-28 08:03:38,673 | root | INFO | \\tContent-Length: 474\\n\\tContent-Length: 474\\n2020-12-28 08:03:38,674 | root | INFO | \\tUser-Agent: python-requests/2.25.0\\n\\tUser-Agent: python-requests/2.25.0\\n2020-12-28 08:03:38,674 | root | INFO | \\tAccept: */*\\n\\tAccept: */*\\n2020-12-28 08:03:38,674 | root | INFO | \\tAccept-Encoding: gzip, deflate\\n\\tAccept-Encoding: gzip, deflate\\n2020-12-28 08:03:38,675 | root | INFO | \\tContent-Type: application/json\\n\\tContent-Type: application/json\\n2020-12-28 08:03:38,675 | root | INFO | \\tX-Ms-Request-Id: 59ea15ae-193a-4c06-932a-21a9634619fe\\n\\tX-Ms-Request-Id: 59ea15ae-193a-4c06-932a-21a9634619fe\\n2020-12-28 08:03:38,676 | root | INFO | Scoring Timer is set to 60.0 seconds\\nScoring Timer is set to 60.0 seconds\\n2020-12-28 08:03:38,878 | root | INFO | 200\\n200\\n127.0.0.1 - - [28/Dec/2020:08:03:38 +0000] \"POST /score HTTP/1.0\" 200 22 \"-\" \"python-requests/2.25.0\"\\n2020-12-28 08:03:45,034 | root | INFO | Validation Request Content-Type\\nValidation Request Content-Type\\n2020-12-28 08:03:45,035 | root | INFO | \\tHost: localhost:5001\\n\\tHost: localhost:5001\\n2020-12-28 08:03:45,035 | root | INFO | \\tX-Real-Ip: 127.0.0.1\\n\\tX-Real-Ip: 127.0.0.1\\n2020-12-28 08:03:45,036 | root | INFO | \\tX-Forwarded-For: 127.0.0.1\\n\\tX-Forwarded-For: 127.0.0.1\\n2020-12-28 08:03:45,036 | root | INFO | \\tX-Forwarded-Proto: http\\n\\tX-Forwarded-Proto: http\\n2020-12-28 08:03:45,036 | root | INFO | \\tConnection: close\\n\\tConnection: close\\n2020-12-28 08:03:45,037 | root | INFO | \\tContent-Length: 704\\n\\tContent-Length: 704\\n2020-12-28 08:03:45,037 | root | INFO | \\tUser-Agent: python-requests/2.25.0\\n\\tUser-Agent: python-requests/2.25.0\\n2020-12-28 08:03:45,037 | root | INFO | \\tAccept: application/json\\n\\tAccept: application/json\\n2020-12-28 08:03:45,037 | root | INFO | \\tAccept-Encoding: gzip, deflate\\n\\tAccept-Encoding: gzip, deflate\\n2020-12-28 08:03:45,038 | root | INFO | \\tContent-Type: application/json\\n\\tContent-Type: application/json\\n2020-12-28 08:03:45,038 | root | INFO | \\tX-Ms-Request-Id: 9284995b-ad02-4e21-9e8e-17875c1e7f3a\\n\\tX-Ms-Request-Id: 9284995b-ad02-4e21-9e8e-17875c1e7f3a\\n2020-12-28 08:03:45,038 | root | INFO | Scoring Timer is set to 60.0 seconds\\nScoring Timer is set to 60.0 seconds\\n2020-12-28 08:03:45,241 | root | INFO | 200\\n200\\n127.0.0.1 - - [28/Dec/2020:08:03:45 +0000] \"POST /score HTTP/1.0\" 200 25 \"-\" \"python-requests/2.25.0\"\\n2020-12-28 08:04:45,024 | root | INFO | Validation Request Content-Type\\nValidation Request Content-Type\\n2020-12-28 08:04:45,025 | root | INFO | \\tHost: localhost:5001\\n\\tHost: localhost:5001\\n2020-12-28 08:04:45,025 | root | INFO | \\tX-Real-Ip: 127.0.0.1\\n\\tX-Real-Ip: 127.0.0.1\\n2020-12-28 08:04:45,026 | root | INFO | \\tX-Forwarded-For: 127.0.0.1\\n\\tX-Forwarded-For: 127.0.0.1\\n2020-12-28 08:04:45,026 | root | INFO | \\tX-Forwarded-Proto: http\\n\\tX-Forwarded-Proto: http\\n2020-12-28 08:04:45,026 | root | INFO | \\tConnection: close\\n\\tConnection: close\\n2020-12-28 08:04:45,027 | root | INFO | \\tContent-Length: 706\\n\\tContent-Length: 706\\n2020-12-28 08:04:45,027 | root | INFO | \\tUser-Agent: python-requests/2.25.0\\n\\tUser-Agent: python-requests/2.25.0\\n2020-12-28 08:04:45,028 | root | INFO | \\tAccept: application/json\\n\\tAccept: application/json\\n2020-12-28 08:04:45,028 | root | INFO | \\tAccept-Encoding: gzip, deflate\\n\\tAccept-Encoding: gzip, deflate\\n2020-12-28 08:04:45,028 | root | INFO | \\tContent-Type: application/json\\n\\tContent-Type: application/json\\n2020-12-28 08:04:45,029 | root | INFO | \\tX-Ms-Request-Id: ac1851ca-5293-44e2-87bf-d95d14ef2000\\n\\tX-Ms-Request-Id: ac1851ca-5293-44e2-87bf-d95d14ef2000\\n2020-12-28 08:04:45,029 | root | INFO | Scoring Timer is set to 60.0 seconds\\nScoring Timer is set to 60.0 seconds\\n2020-12-28 08:04:45,239 | root | INFO | 200\\n200\\n127.0.0.1 - - [28/Dec/2020:08:04:45 +0000] \"POST /score HTTP/1.0\" 200 25 \"-\" \"python-requests/2.25.0\"\\n2020-12-28 08:05:10,592 | root | INFO | Validation Request Content-Type\\nValidation Request Content-Type\\n2020-12-28 08:05:10,593 | root | INFO | \\tHost: localhost:5001\\n\\tHost: localhost:5001\\n2020-12-28 08:05:10,593 | root | INFO | \\tX-Real-Ip: 127.0.0.1\\n\\tX-Real-Ip: 127.0.0.1\\n2020-12-28 08:05:10,593 | root | INFO | \\tX-Forwarded-For: 127.0.0.1\\n\\tX-Forwarded-For: 127.0.0.1\\n2020-12-28 08:05:10,593 | root | INFO | \\tX-Forwarded-Proto: http\\n\\tX-Forwarded-Proto: http\\n2020-12-28 08:05:10,593 | root | INFO | \\tConnection: close\\n\\tConnection: close\\n2020-12-28 08:05:10,593 | root | INFO | \\tContent-Length: 706\\n\\tContent-Length: 706\\n2020-12-28 08:05:10,594 | root | INFO | \\tUser-Agent: python-requests/2.25.0\\n\\tUser-Agent: python-requests/2.25.0\\n2020-12-28 08:05:10,595 | root | INFO | \\tAccept: application/json\\n\\tAccept: application/json\\n2020-12-28 08:05:10,595 | root | INFO | \\tAccept-Encoding: gzip, deflate\\n\\tAccept-Encoding: gzip, deflate\\n2020-12-28 08:05:10,596 | root | INFO | \\tContent-Type: application/json\\n\\tContent-Type: application/json\\n2020-12-28 08:05:10,597 | root | INFO | \\tX-Ms-Request-Id: 2a278dde-69d8-41a5-be99-744049a160ea\\n\\tX-Ms-Request-Id: 2a278dde-69d8-41a5-be99-744049a160ea\\n2020-12-28 08:05:10,598 | root | INFO | Scoring Timer is set to 60.0 seconds\\nScoring Timer is set to 60.0 seconds\\n2020-12-28 08:05:10,806 | root | INFO | 200\\n200\\n127.0.0.1 - - [28/Dec/2020:08:05:10 +0000] \"POST /score HTTP/1.0\" 200 25 \"-\" \"python-requests/2.25.0\"\\n2020-12-28 08:05:38,595 | root | INFO | Validation Request Content-Type\\nValidation Request Content-Type\\n2020-12-28 08:05:38,595 | root | INFO | \\tHost: localhost:5001\\n\\tHost: localhost:5001\\n2020-12-28 08:05:38,596 | root | INFO | \\tX-Real-Ip: 127.0.0.1\\n\\tX-Real-Ip: 127.0.0.1\\n2020-12-28 08:05:38,596 | root | INFO | \\tX-Forwarded-For: 127.0.0.1\\n\\tX-Forwarded-For: 127.0.0.1\\n2020-12-28 08:05:38,596 | root | INFO | \\tX-Forwarded-Proto: http\\n\\tX-Forwarded-Proto: http\\n2020-12-28 08:05:38,596 | root | INFO | \\tConnection: close\\n\\tConnection: close\\n2020-12-28 08:05:38,596 | root | INFO | \\tContent-Length: 703\\n\\tContent-Length: 703\\n2020-12-28 08:05:38,596 | root | INFO | \\tUser-Agent: python-requests/2.25.0\\n\\tUser-Agent: python-requests/2.25.0\\n2020-12-28 08:05:38,596 | root | INFO | \\tAccept: application/json\\n\\tAccept: application/json\\n2020-12-28 08:05:38,597 | root | INFO | \\tAccept-Encoding: gzip, deflate\\n\\tAccept-Encoding: gzip, deflate\\n2020-12-28 08:05:38,597 | root | INFO | \\tContent-Type: application/json\\n\\tContent-Type: application/json\\n2020-12-28 08:05:38,597 | root | INFO | \\tX-Ms-Request-Id: 5f914dd7-31aa-4a53-9f8d-31a1cf8f66bd\\n\\tX-Ms-Request-Id: 5f914dd7-31aa-4a53-9f8d-31a1cf8f66bd\\n2020-12-28 08:05:38,597 | root | INFO | Scoring Timer is set to 60.0 seconds\\nScoring Timer is set to 60.0 seconds\\n2020-12-28 08:05:38,812 | root | INFO | 200\\n200\\n127.0.0.1 - - [28/Dec/2020:08:05:38 +0000] \"POST /score HTTP/1.0\" 200 25 \"-\" \"python-requests/2.25.0\"\\n'"
      ]
     },
     "execution_count": 37,
     "metadata": {},
     "output_type": "execute_result"
    }
   ],
   "source": [
    "service.get_logs()"
   ]
  },
  {
   "cell_type": "code",
   "execution_count": 38,
   "metadata": {},
   "outputs": [],
   "source": [
    "service.delete()"
   ]
  },
  {
   "cell_type": "code",
   "execution_count": null,
   "metadata": {},
   "outputs": [],
   "source": []
  },
  {
   "cell_type": "code",
   "execution_count": null,
   "metadata": {},
   "outputs": [],
   "source": []
  },
  {
   "cell_type": "code",
   "execution_count": null,
   "metadata": {},
   "outputs": [],
   "source": []
  }
 ],
 "metadata": {
  "kernel_info": {
   "name": "python3"
  },
  "kernelspec": {
   "display_name": "Python 3",
   "language": "python",
   "name": "python3"
  },
  "language_info": {
   "codemirror_mode": {
    "name": "ipython",
    "version": 3
   },
   "file_extension": ".py",
   "mimetype": "text/x-python",
   "name": "python",
   "nbconvert_exporter": "python",
   "pygments_lexer": "ipython3",
   "version": "3.6.9"
  },
  "nteract": {
   "version": "nteract-front-end@1.0.0"
  }
 },
 "nbformat": 4,
 "nbformat_minor": 4
}
