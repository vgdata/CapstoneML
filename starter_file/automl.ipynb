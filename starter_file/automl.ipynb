{
 "cells": [
  {
   "cell_type": "markdown",
   "metadata": {},
   "source": [
    "## Automated ML\n",
    "\n",
    "Import dependencies. "
   ]
  },
  {
   "cell_type": "code",
   "execution_count": 1,
   "metadata": {
    "gather": {
     "logged": 1609140734398
    },
    "jupyter": {
     "outputs_hidden": false,
     "source_hidden": false
    },
    "nteract": {
     "transient": {
      "deleting": false
     }
    }
   },
   "outputs": [],
   "source": [
    "import os\n",
    "import pandas as pd\n",
    "import numpy as np\n",
    "import json\n",
    "import requests\n",
    "import joblib\n",
    "from sklearn.metrics import confusion_matrix\n",
    "import itertools\n",
    "\n",
    "from azureml.core import Dataset, Workspace, Experiment\n",
    "from azureml.core.compute import ComputeTarget, AmlCompute\n",
    "from azureml.core.compute_target import ComputeTargetException\n",
    "from azureml.widgets import RunDetails\n",
    "from azureml.train.automl import AutoMLConfig\n",
    "\n",
    "from azureml.core.model import InferenceConfig\n",
    "from azureml.core.webservice import AciWebservice, Webservice\n",
    "from azureml.core.model import Model\n",
    "from azureml.core.environment import Environment"
   ]
  },
  {
   "cell_type": "markdown",
   "metadata": {},
   "source": [
    "## Dataset\n",
    "\n",
    "### Overview\n",
    "\n",
    "**Dataset:** Davide Chicco, Giuseppe Jurman: \"Machine learning can predict survival of patients with heart failure from serum creatinine and ejection fraction alone\". BMC Medical Informatics and Decision Making 20, 16 (2020)\n",
    "\n",
    "Heart failure is a common event caused by CVDs and this dataset contains 12 features that can be used to predict mortality by heart failure.\n",
    "\n",
    "**12 clinical features:**\n",
    "\n",
    "- age: age of the patient (years)\n",
    "- anaemia: decrease of red blood cells or hemoglobin (boolean)\n",
    "- high blood pressure: if the patient has hypertension (boolean)\n",
    "- creatinine phosphokinase (CPK): level of the CPK enzyme in the blood (mcg/L)\n",
    "- diabetes: if the patient has diabetes (boolean)\n",
    "- ejection fraction: percentage of blood leaving the heart at each contraction (percentage)\n",
    "- platelets: platelets in the blood (kiloplatelets/mL)\n",
    "- sex: woman or man (binary)\n",
    "- serum creatinine: level of serum creatinine in the blood (mg/dL)\n",
    "- serum sodium: level of serum sodium in the blood (mEq/L)\n",
    "- smoking: if the patient smokes or not (boolean)\n",
    "- time: follow-up period (days)\n",
    "\n",
    "In this project, Azure AutoML will be used to make prediction on the death event based on patient's 12 clinical features. "
   ]
  },
  {
   "cell_type": "markdown",
   "metadata": {},
   "source": [
    "## Workspace setup"
   ]
  },
  {
   "cell_type": "code",
   "execution_count": 2,
   "metadata": {
    "gather": {
     "logged": 1609140774503
    },
    "jupyter": {
     "outputs_hidden": false,
     "source_hidden": false
    },
    "nteract": {
     "transient": {
      "deleting": false
     }
    }
   },
   "outputs": [],
   "source": [
    "ws = Workspace.from_config()\n",
    "\n",
    "experiment_name = 'automl-experiment'\n",
    "\n",
    "experiment = Experiment(ws, experiment_name)"
   ]
  },
  {
   "cell_type": "code",
   "execution_count": 3,
   "metadata": {
    "gather": {
     "logged": 1609063666153
    },
    "scrolled": true
   },
   "outputs": [],
   "source": [
    "dataset = Dataset.get_by_name(ws, 'heart-disease-kaggle.csv')"
   ]
  },
  {
   "cell_type": "code",
   "execution_count": 4,
   "metadata": {
    "gather": {
     "logged": 1609063680104
    },
    "nteract": {
     "transient": {
      "deleting": false
     }
    }
   },
   "outputs": [
    {
     "data": {
      "text/html": [
       "<div>\n",
       "<style scoped>\n",
       "    .dataframe tbody tr th:only-of-type {\n",
       "        vertical-align: middle;\n",
       "    }\n",
       "\n",
       "    .dataframe tbody tr th {\n",
       "        vertical-align: top;\n",
       "    }\n",
       "\n",
       "    .dataframe thead th {\n",
       "        text-align: right;\n",
       "    }\n",
       "</style>\n",
       "<table border=\"1\" class=\"dataframe\">\n",
       "  <thead>\n",
       "    <tr style=\"text-align: right;\">\n",
       "      <th></th>\n",
       "      <th>age</th>\n",
       "      <th>anaemia</th>\n",
       "      <th>creatinine_phosphokinase</th>\n",
       "      <th>diabetes</th>\n",
       "      <th>ejection_fraction</th>\n",
       "      <th>high_blood_pressure</th>\n",
       "      <th>platelets</th>\n",
       "      <th>serum_creatinine</th>\n",
       "      <th>serum_sodium</th>\n",
       "      <th>sex</th>\n",
       "      <th>smoking</th>\n",
       "      <th>time</th>\n",
       "      <th>DEATH_EVENT</th>\n",
       "    </tr>\n",
       "  </thead>\n",
       "  <tbody>\n",
       "    <tr>\n",
       "      <th>0</th>\n",
       "      <td>75.0</td>\n",
       "      <td>0</td>\n",
       "      <td>582</td>\n",
       "      <td>0</td>\n",
       "      <td>20</td>\n",
       "      <td>1</td>\n",
       "      <td>265000.00</td>\n",
       "      <td>1.9</td>\n",
       "      <td>130</td>\n",
       "      <td>1</td>\n",
       "      <td>0</td>\n",
       "      <td>4</td>\n",
       "      <td>1</td>\n",
       "    </tr>\n",
       "    <tr>\n",
       "      <th>1</th>\n",
       "      <td>55.0</td>\n",
       "      <td>0</td>\n",
       "      <td>7861</td>\n",
       "      <td>0</td>\n",
       "      <td>38</td>\n",
       "      <td>0</td>\n",
       "      <td>263358.03</td>\n",
       "      <td>1.1</td>\n",
       "      <td>136</td>\n",
       "      <td>1</td>\n",
       "      <td>0</td>\n",
       "      <td>6</td>\n",
       "      <td>1</td>\n",
       "    </tr>\n",
       "    <tr>\n",
       "      <th>2</th>\n",
       "      <td>65.0</td>\n",
       "      <td>0</td>\n",
       "      <td>146</td>\n",
       "      <td>0</td>\n",
       "      <td>20</td>\n",
       "      <td>0</td>\n",
       "      <td>162000.00</td>\n",
       "      <td>1.3</td>\n",
       "      <td>129</td>\n",
       "      <td>1</td>\n",
       "      <td>1</td>\n",
       "      <td>7</td>\n",
       "      <td>1</td>\n",
       "    </tr>\n",
       "    <tr>\n",
       "      <th>3</th>\n",
       "      <td>50.0</td>\n",
       "      <td>1</td>\n",
       "      <td>111</td>\n",
       "      <td>0</td>\n",
       "      <td>20</td>\n",
       "      <td>0</td>\n",
       "      <td>210000.00</td>\n",
       "      <td>1.9</td>\n",
       "      <td>137</td>\n",
       "      <td>1</td>\n",
       "      <td>0</td>\n",
       "      <td>7</td>\n",
       "      <td>1</td>\n",
       "    </tr>\n",
       "    <tr>\n",
       "      <th>4</th>\n",
       "      <td>65.0</td>\n",
       "      <td>1</td>\n",
       "      <td>160</td>\n",
       "      <td>1</td>\n",
       "      <td>20</td>\n",
       "      <td>0</td>\n",
       "      <td>327000.00</td>\n",
       "      <td>2.7</td>\n",
       "      <td>116</td>\n",
       "      <td>0</td>\n",
       "      <td>0</td>\n",
       "      <td>8</td>\n",
       "      <td>1</td>\n",
       "    </tr>\n",
       "  </tbody>\n",
       "</table>\n",
       "</div>"
      ],
      "text/plain": [
       "    age  anaemia  creatinine_phosphokinase  diabetes  ejection_fraction  \\\n",
       "0  75.0        0                       582         0                 20   \n",
       "1  55.0        0                      7861         0                 38   \n",
       "2  65.0        0                       146         0                 20   \n",
       "3  50.0        1                       111         0                 20   \n",
       "4  65.0        1                       160         1                 20   \n",
       "\n",
       "   high_blood_pressure  platelets  serum_creatinine  serum_sodium  sex  \\\n",
       "0                    1  265000.00               1.9           130    1   \n",
       "1                    0  263358.03               1.1           136    1   \n",
       "2                    0  162000.00               1.3           129    1   \n",
       "3                    0  210000.00               1.9           137    1   \n",
       "4                    0  327000.00               2.7           116    0   \n",
       "\n",
       "   smoking  time  DEATH_EVENT  \n",
       "0        0     4            1  \n",
       "1        0     6            1  \n",
       "2        1     7            1  \n",
       "3        0     7            1  \n",
       "4        0     8            1  "
      ]
     },
     "execution_count": 4,
     "metadata": {},
     "output_type": "execute_result"
    }
   ],
   "source": [
    "dataset.take(5).to_pandas_dataframe()"
   ]
  },
  {
   "cell_type": "code",
   "execution_count": 5,
   "metadata": {
    "gather": {
     "logged": 1609063684361
    }
   },
   "outputs": [],
   "source": [
    "data_train, data_test = dataset.random_split(0.9)"
   ]
  },
  {
   "cell_type": "markdown",
   "metadata": {},
   "source": [
    "## Config Compute Cluster"
   ]
  },
  {
   "cell_type": "code",
   "execution_count": 6,
   "metadata": {
    "gather": {
     "logged": 1609065223998
    }
   },
   "outputs": [
    {
     "name": "stdout",
     "output_type": "stream",
     "text": [
      "Creating\n",
      "Succeeded\n",
      "AmlCompute wait for completion finished\n",
      "\n",
      "Minimum number of nodes requested have been provisioned\n"
     ]
    }
   ],
   "source": [
    "cpu_cluster_name = \"cpu-cluster\"\n",
    "\n",
    "# Verify that cluster does not exist already\n",
    "try:\n",
    "    compute_target = ComputeTarget(workspace=ws, name=cpu_cluster_name)\n",
    "    print('Found existing cluster, use it.')\n",
    "except ComputeTargetException:\n",
    "    compute_config = AmlCompute.provisioning_configuration(vm_size='STANDARD_D12_V2',\n",
    "                                                           max_nodes=5)\n",
    "    compute_target = ComputeTarget.create(ws, cpu_cluster_name, compute_config)\n",
    "\n",
    "compute_target.wait_for_completion(show_output=True)"
   ]
  },
  {
   "cell_type": "markdown",
   "metadata": {},
   "source": [
    "## AutoML Configuration"
   ]
  },
  {
   "cell_type": "code",
   "execution_count": 7,
   "metadata": {
    "gather": {
     "logged": 1609065227571
    },
    "jupyter": {
     "outputs_hidden": false,
     "source_hidden": false
    },
    "nteract": {
     "transient": {
      "deleting": false
     }
    }
   },
   "outputs": [],
   "source": [
    "automl_settings = {\n",
    "    \"experiment_timeout_minutes\": 30,\n",
    "    \"max_concurrent_iterations\": 4,\n",
    "    \"primary_metric\" : 'accuracy',\n",
    "    \"n_cross_validations\": 5\n",
    "}\n",
    "automl_config = AutoMLConfig(compute_target=compute_target,\n",
    "                             task = \"classification\",\n",
    "                             training_data=data_train,\n",
    "                             label_column_name=\"DEATH_EVENT\", \n",
    "                             enable_early_stopping= True,\n",
    "                             featurization= 'auto',\n",
    "                             **automl_settings\n",
    "                            )"
   ]
  },
  {
   "cell_type": "markdown",
   "metadata": {},
   "source": [
    "AutoML typically performs cross validation, data balance check, cardinality check in prior to machine learning process with a variety of algorithms. "
   ]
  },
  {
   "cell_type": "code",
   "execution_count": 8,
   "metadata": {
    "gather": {
     "logged": 1609057253934
    }
   },
   "outputs": [
    {
     "name": "stdout",
     "output_type": "stream",
     "text": [
      "Running on remote.\n",
      "No run_configuration provided, running on cpu-cluster with default configuration\n",
      "Running on remote compute: cpu-cluster\n",
      "Parent Run ID: AutoML_b13ca0b7-b493-43eb-8386-a42e61c7da10\n",
      "\n",
      "Current status: FeaturesGeneration. Generating features for the dataset.\n",
      "Current status: ModelSelection. Beginning model selection.\n",
      "\n",
      "****************************************************************************************************\n",
      "DATA GUARDRAILS: \n",
      "\n",
      "TYPE:         Class balancing detection\n",
      "STATUS:       PASSED\n",
      "DESCRIPTION:  Your inputs were analyzed, and all classes are balanced in your training data.\n",
      "              Learn more about imbalanced data: https://aka.ms/AutomatedMLImbalancedData\n",
      "\n",
      "****************************************************************************************************\n",
      "\n",
      "TYPE:         Missing feature values imputation\n",
      "STATUS:       PASSED\n",
      "DESCRIPTION:  No feature missing values were detected in the training data.\n",
      "              Learn more about missing value imputation: https://aka.ms/AutomatedMLFeaturization\n",
      "\n",
      "****************************************************************************************************\n",
      "\n",
      "TYPE:         High cardinality feature detection\n",
      "STATUS:       PASSED\n",
      "DESCRIPTION:  Your inputs were analyzed, and no high cardinality features were detected.\n",
      "              Learn more about high cardinality feature handling: https://aka.ms/AutomatedMLFeaturization\n",
      "\n",
      "****************************************************************************************************\n",
      "\n",
      "****************************************************************************************************\n",
      "ITERATION: The iteration being evaluated.\n",
      "PIPELINE: A summary description of the pipeline being evaluated.\n",
      "DURATION: Time taken for the current iteration.\n",
      "METRIC: The result of computing score on the fitted pipeline.\n",
      "BEST: The best observed score thus far.\n",
      "****************************************************************************************************\n",
      "\n",
      " ITERATION   PIPELINE                                       DURATION      METRIC      BEST\n",
      "         3   MinMaxScaler RandomForest                      0:00:44       0.8521    0.8521\n",
      "         2   MinMaxScaler RandomForest                      0:00:46       0.8180    0.8521\n",
      "         0   MaxAbsScaler LightGBM                          0:00:51       0.8142    0.8521\n",
      "         6   MinMaxScaler SVM                               0:00:46       0.7538    0.8521\n",
      "         7   MaxAbsScaler GradientBoosting                  0:00:51       0.8408    0.8521\n",
      "         1   MaxAbsScaler XGBoostClassifier                 0:02:40       0.8332    0.8521\n",
      "         4   MinMaxScaler RandomForest                      0:02:51       0.8407    0.8521\n",
      "         5   MinMaxScaler SVM                               0:02:47       0.7538    0.8521\n",
      "         8   SparseNormalizer XGBoostClassifier             0:00:51       0.8334    0.8521\n",
      "        10   RobustScaler RandomForest                      0:00:48       0.8369    0.8521\n",
      "        11   RobustScaler GradientBoosting                  0:00:45       0.8484    0.8521\n",
      "         9   MaxAbsScaler LightGBM                          0:01:01       0.7955    0.8521\n",
      "        12   RobustScaler ExtremeRandomTrees                0:01:00       0.8447    0.8521\n",
      "        13   StandardScalerWrapper RandomForest             0:00:51       0.8333    0.8521\n",
      "        14   MaxAbsScaler LightGBM                          0:00:50       0.8372    0.8521\n",
      "        15   StandardScalerWrapper RandomForest             0:00:48       0.8217    0.8521\n",
      "        16   MinMaxScaler LightGBM                          0:01:09       0.8369    0.8521\n",
      "        17   SparseNormalizer XGBoostClassifier             0:00:46       0.8067    0.8521\n",
      "        18   StandardScalerWrapper LightGBM                 0:00:47       0.8106    0.8521\n",
      "        19   SparseNormalizer RandomForest                  0:00:46       0.8104    0.8521\n",
      "        20   SparseNormalizer XGBoostClassifier             0:00:51       0.8181    0.8521\n",
      "        21   StandardScalerWrapper XGBoostClassifier        0:00:54       0.8333    0.8521\n",
      "        22   MinMaxScaler LightGBM                          0:00:54       0.8369    0.8521\n",
      "        23   MaxAbsScaler LightGBM                          0:00:54       0.8257    0.8521\n",
      "        24   MaxAbsScaler ExtremeRandomTrees                0:00:46       0.8446    0.8521\n",
      "        25   StandardScalerWrapper RandomForest             0:00:48       0.5792    0.8521\n",
      "        26   SparseNormalizer ExtremeRandomTrees            0:00:46       0.7614    0.8521\n",
      "        27   StandardScalerWrapper RandomForest             0:00:58       0.8183    0.8521\n",
      "        28   RobustScaler LightGBM                          0:00:50       0.7842    0.8521\n",
      "        30   StandardScalerWrapper ExtremeRandomTrees       0:00:58       0.7766    0.8521\n",
      "        31   StandardScalerWrapper KNN                      0:00:53       0.6515    0.8521\n",
      "        32   MinMaxScaler LightGBM                          0:00:47       0.8369    0.8521\n",
      "        33   SparseNormalizer RandomForest                  0:00:49       0.8144    0.8521\n",
      "        29                                                  0:02:14          nan    0.8521\n",
      "        34   SparseNormalizer LightGBM                      0:00:46       0.8255    0.8521\n",
      "        35                                                  0:00:16          nan    0.8521\n",
      "        36    VotingEnsemble                                0:01:15       0.8711    0.8711\n",
      "        37    StackEnsemble                                 0:01:19       0.8635    0.8711\n"
     ]
    }
   ],
   "source": [
    "remote_run = experiment.submit(automl_config, show_output = True)"
   ]
  },
  {
   "cell_type": "markdown",
   "metadata": {},
   "source": [
    "## Run Details"
   ]
  },
  {
   "cell_type": "code",
   "execution_count": 9,
   "metadata": {
    "gather": {
     "logged": 1609064958780
    },
    "scrolled": true
   },
   "outputs": [
    {
     "data": {
      "text/html": [
       "<table style=\"width:100%\"><tr><th>Experiment</th><th>Id</th><th>Type</th><th>Status</th><th>Details Page</th><th>Docs Page</th></tr><tr><td>automl-experiment</td><td>AutoML_b13ca0b7-b493-43eb-8386-a42e61c7da10</td><td>automl</td><td>Completed</td><td><a href=\"https://ml.azure.com/experiments/automl-experiment/runs/AutoML_b13ca0b7-b493-43eb-8386-a42e61c7da10?wsid=/subscriptions/9b72f9e6-56c5-4c16-991b-19c652994860/resourcegroups/aml-quickstarts-140282/workspaces/quick-starts-ws-140282\" target=\"_blank\" rel=\"noopener\">Link to Azure Machine Learning studio</a></td><td><a href=\"https://docs.microsoft.com/en-us/python/api/overview/azure/ml/intro?view=azure-ml-py\" target=\"_blank\" rel=\"noopener\">Link to Documentation</a></td></tr></table>"
      ],
      "text/plain": [
       "Run(Experiment: automl-experiment,\n",
       "Id: AutoML_b13ca0b7-b493-43eb-8386-a42e61c7da10,\n",
       "Type: automl,\n",
       "Status: Completed)"
      ]
     },
     "execution_count": 9,
     "metadata": {},
     "output_type": "execute_result"
    }
   ],
   "source": [
    "remote_run"
   ]
  },
  {
   "cell_type": "code",
   "execution_count": 10,
   "metadata": {
    "gather": {
     "logged": 1609057313573
    },
    "scrolled": true
   },
   "outputs": [
    {
     "data": {
      "application/vnd.jupyter.widget-view+json": {
       "model_id": "6a52296858ea4328933ba8016fa04765",
       "version_major": 2,
       "version_minor": 0
      },
      "text/plain": [
       "_AutoMLWidget(widget_settings={'childWidgetDisplay': 'popup', 'send_telemetry': False, 'log_level': 'INFO', 's…"
      ]
     },
     "metadata": {},
     "output_type": "display_data"
    },
    {
     "data": {
      "application/aml.mini.widget.v1": "{\"status\": \"Completed\", \"workbench_run_details_uri\": \"https://ml.azure.com/experiments/automl-experiment/runs/AutoML_b13ca0b7-b493-43eb-8386-a42e61c7da10?wsid=/subscriptions/9b72f9e6-56c5-4c16-991b-19c652994860/resourcegroups/aml-quickstarts-140282/workspaces/quick-starts-ws-140282\", \"run_id\": \"AutoML_b13ca0b7-b493-43eb-8386-a42e61c7da10\", \"run_properties\": {\"run_id\": \"AutoML_b13ca0b7-b493-43eb-8386-a42e61c7da10\", \"created_utc\": \"2021-03-12T14:04:39.383935Z\", \"properties\": {\"num_iterations\": \"1000\", \"training_type\": \"TrainFull\", \"acquisition_function\": \"EI\", \"primary_metric\": \"accuracy\", \"train_split\": \"0\", \"acquisition_parameter\": \"0\", \"num_cross_validation\": \"5\", \"target\": \"cpu-cluster\", \"AMLSettingsJsonString\": \"{\\\"path\\\":null,\\\"name\\\":\\\"automl-experiment\\\",\\\"subscription_id\\\":\\\"9b72f9e6-56c5-4c16-991b-19c652994860\\\",\\\"resource_group\\\":\\\"aml-quickstarts-140282\\\",\\\"workspace_name\\\":\\\"quick-starts-ws-140282\\\",\\\"region\\\":\\\"southcentralus\\\",\\\"compute_target\\\":\\\"cpu-cluster\\\",\\\"spark_service\\\":null,\\\"azure_service\\\":\\\"remote\\\",\\\"many_models\\\":false,\\\"pipeline_fetch_max_batch_size\\\":1,\\\"iterations\\\":1000,\\\"primary_metric\\\":\\\"accuracy\\\",\\\"task_type\\\":\\\"classification\\\",\\\"data_script\\\":null,\\\"validation_size\\\":0.0,\\\"n_cross_validations\\\":5,\\\"y_min\\\":null,\\\"y_max\\\":null,\\\"num_classes\\\":null,\\\"featurization\\\":\\\"auto\\\",\\\"_ignore_package_version_incompatibilities\\\":false,\\\"is_timeseries\\\":false,\\\"max_cores_per_iteration\\\":1,\\\"max_concurrent_iterations\\\":4,\\\"iteration_timeout_minutes\\\":null,\\\"mem_in_mb\\\":null,\\\"enforce_time_on_windows\\\":false,\\\"experiment_timeout_minutes\\\":30,\\\"experiment_exit_score\\\":null,\\\"whitelist_models\\\":null,\\\"blacklist_algos\\\":[\\\"TensorFlowLinearClassifier\\\",\\\"TensorFlowDNN\\\"],\\\"supported_models\\\":[\\\"TensorFlowLinearClassifier\\\",\\\"LogisticRegression\\\",\\\"LightGBM\\\",\\\"BernoulliNaiveBayes\\\",\\\"LinearSVM\\\",\\\"ExtremeRandomTrees\\\",\\\"TensorFlowDNN\\\",\\\"GradientBoosting\\\",\\\"KNN\\\",\\\"SGD\\\",\\\"SVM\\\",\\\"XGBoostClassifier\\\",\\\"MultinomialNaiveBayes\\\",\\\"DecisionTree\\\",\\\"RandomForest\\\",\\\"AveragedPerceptronClassifier\\\"],\\\"private_models\\\":[],\\\"auto_blacklist\\\":true,\\\"blacklist_samples_reached\\\":false,\\\"exclude_nan_labels\\\":true,\\\"verbosity\\\":20,\\\"_debug_log\\\":\\\"azureml_automl.log\\\",\\\"show_warnings\\\":false,\\\"model_explainability\\\":true,\\\"service_url\\\":null,\\\"sdk_url\\\":null,\\\"sdk_packages\\\":null,\\\"enable_onnx_compatible_models\\\":false,\\\"enable_split_onnx_featurizer_estimator_models\\\":false,\\\"vm_type\\\":\\\"STANDARD_D12_V2\\\",\\\"telemetry_verbosity\\\":20,\\\"send_telemetry\\\":true,\\\"enable_dnn\\\":false,\\\"scenario\\\":\\\"SDK-1.13.0\\\",\\\"environment_label\\\":null,\\\"force_text_dnn\\\":false,\\\"enable_feature_sweeping\\\":true,\\\"enable_early_stopping\\\":true,\\\"early_stopping_n_iters\\\":10,\\\"metrics\\\":null,\\\"enable_ensembling\\\":true,\\\"enable_stack_ensembling\\\":true,\\\"ensemble_iterations\\\":15,\\\"enable_tf\\\":false,\\\"enable_subsampling\\\":null,\\\"subsample_seed\\\":null,\\\"enable_nimbusml\\\":false,\\\"enable_streaming\\\":false,\\\"force_streaming\\\":false,\\\"track_child_runs\\\":true,\\\"allowed_private_models\\\":[],\\\"label_column_name\\\":\\\"DEATH_EVENT\\\",\\\"weight_column_name\\\":null,\\\"cv_split_column_names\\\":null,\\\"enable_local_managed\\\":false,\\\"_local_managed_run_id\\\":null,\\\"cost_mode\\\":1,\\\"lag_length\\\":0,\\\"metric_operation\\\":\\\"maximize\\\",\\\"preprocess\\\":true}\", \"DataPrepJsonString\": \"{\\\\\\\"training_data\\\\\\\": \\\\\\\"{\\\\\\\\\\\\\\\"blocks\\\\\\\\\\\\\\\": [{\\\\\\\\\\\\\\\"id\\\\\\\\\\\\\\\": \\\\\\\\\\\\\\\"5f88bddf-bd8c-43e0-8521-41936ae1af23\\\\\\\\\\\\\\\", \\\\\\\\\\\\\\\"type\\\\\\\\\\\\\\\": \\\\\\\\\\\\\\\"Microsoft.DPrep.GetDatastoreFilesBlock\\\\\\\\\\\\\\\", \\\\\\\\\\\\\\\"arguments\\\\\\\\\\\\\\\": {\\\\\\\\\\\\\\\"datastores\\\\\\\\\\\\\\\": [{\\\\\\\\\\\\\\\"datastoreName\\\\\\\\\\\\\\\": \\\\\\\\\\\\\\\"workspaceblobstore\\\\\\\\\\\\\\\", \\\\\\\\\\\\\\\"path\\\\\\\\\\\\\\\": \\\\\\\\\\\\\\\"UI/03-12-2021_014653_UTC/heart-disease-kaggle.csv\\\\\\\\\\\\\\\", \\\\\\\\\\\\\\\"resourceGroup\\\\\\\\\\\\\\\": \\\\\\\\\\\\\\\"aml-quickstarts-140282\\\\\\\\\\\\\\\", \\\\\\\\\\\\\\\"subscription\\\\\\\\\\\\\\\": \\\\\\\\\\\\\\\"9b72f9e6-56c5-4c16-991b-19c652994860\\\\\\\\\\\\\\\", \\\\\\\\\\\\\\\"workspaceName\\\\\\\\\\\\\\\": \\\\\\\\\\\\\\\"quick-starts-ws-140282\\\\\\\\\\\\\\\"}]}, \\\\\\\\\\\\\\\"localData\\\\\\\\\\\\\\\": {}, \\\\\\\\\\\\\\\"isEnabled\\\\\\\\\\\\\\\": true, \\\\\\\\\\\\\\\"name\\\\\\\\\\\\\\\": null, \\\\\\\\\\\\\\\"annotation\\\\\\\\\\\\\\\": null}, {\\\\\\\\\\\\\\\"id\\\\\\\\\\\\\\\": \\\\\\\\\\\\\\\"3a79ae7f-2719-49be-8ffc-19f8acb5ede2\\\\\\\\\\\\\\\", \\\\\\\\\\\\\\\"type\\\\\\\\\\\\\\\": \\\\\\\\\\\\\\\"Microsoft.DPrep.ParseDelimitedBlock\\\\\\\\\\\\\\\", \\\\\\\\\\\\\\\"arguments\\\\\\\\\\\\\\\": {\\\\\\\\\\\\\\\"columnHeadersMode\\\\\\\\\\\\\\\": 3, \\\\\\\\\\\\\\\"fileEncoding\\\\\\\\\\\\\\\": 0, \\\\\\\\\\\\\\\"handleQuotedLineBreaks\\\\\\\\\\\\\\\": false, \\\\\\\\\\\\\\\"preview\\\\\\\\\\\\\\\": false, \\\\\\\\\\\\\\\"separator\\\\\\\\\\\\\\\": \\\\\\\\\\\\\\\",\\\\\\\\\\\\\\\", \\\\\\\\\\\\\\\"skipRows\\\\\\\\\\\\\\\": 0, \\\\\\\\\\\\\\\"skipRowsMode\\\\\\\\\\\\\\\": 0}, \\\\\\\\\\\\\\\"localData\\\\\\\\\\\\\\\": {}, \\\\\\\\\\\\\\\"isEnabled\\\\\\\\\\\\\\\": true, \\\\\\\\\\\\\\\"name\\\\\\\\\\\\\\\": null, \\\\\\\\\\\\\\\"annotation\\\\\\\\\\\\\\\": null}, {\\\\\\\\\\\\\\\"id\\\\\\\\\\\\\\\": \\\\\\\\\\\\\\\"bd8a4ecb-d334-428e-a3a1-c2f10de85882\\\\\\\\\\\\\\\", \\\\\\\\\\\\\\\"type\\\\\\\\\\\\\\\": \\\\\\\\\\\\\\\"Microsoft.DPrep.DropColumnsBlock\\\\\\\\\\\\\\\", \\\\\\\\\\\\\\\"arguments\\\\\\\\\\\\\\\": {\\\\\\\\\\\\\\\"columns\\\\\\\\\\\\\\\": {\\\\\\\\\\\\\\\"type\\\\\\\\\\\\\\\": 0, \\\\\\\\\\\\\\\"details\\\\\\\\\\\\\\\": {\\\\\\\\\\\\\\\"selectedColumns\\\\\\\\\\\\\\\": [\\\\\\\\\\\\\\\"Path\\\\\\\\\\\\\\\"]}}}, \\\\\\\\\\\\\\\"localData\\\\\\\\\\\\\\\": {}, \\\\\\\\\\\\\\\"isEnabled\\\\\\\\\\\\\\\": true, \\\\\\\\\\\\\\\"name\\\\\\\\\\\\\\\": null, \\\\\\\\\\\\\\\"annotation\\\\\\\\\\\\\\\": null}, {\\\\\\\\\\\\\\\"id\\\\\\\\\\\\\\\": \\\\\\\\\\\\\\\"27ad1f5f-52f0-4539-aa04-979ec3bcfbe3\\\\\\\\\\\\\\\", \\\\\\\\\\\\\\\"type\\\\\\\\\\\\\\\": \\\\\\\\\\\\\\\"Microsoft.DPrep.SetColumnTypesBlock\\\\\\\\\\\\\\\", \\\\\\\\\\\\\\\"arguments\\\\\\\\\\\\\\\": {\\\\\\\\\\\\\\\"columnConversion\\\\\\\\\\\\\\\": [{\\\\\\\\\\\\\\\"column\\\\\\\\\\\\\\\": {\\\\\\\\\\\\\\\"type\\\\\\\\\\\\\\\": 2, \\\\\\\\\\\\\\\"details\\\\\\\\\\\\\\\": {\\\\\\\\\\\\\\\"selectedColumn\\\\\\\\\\\\\\\": \\\\\\\\\\\\\\\"Path\\\\\\\\\\\\\\\"}}, \\\\\\\\\\\\\\\"typeProperty\\\\\\\\\\\\\\\": 0}, {\\\\\\\\\\\\\\\"column\\\\\\\\\\\\\\\": {\\\\\\\\\\\\\\\"type\\\\\\\\\\\\\\\": 2, \\\\\\\\\\\\\\\"details\\\\\\\\\\\\\\\": {\\\\\\\\\\\\\\\"selectedColumn\\\\\\\\\\\\\\\": \\\\\\\\\\\\\\\"age\\\\\\\\\\\\\\\"}}, \\\\\\\\\\\\\\\"typeProperty\\\\\\\\\\\\\\\": 3}, {\\\\\\\\\\\\\\\"column\\\\\\\\\\\\\\\": {\\\\\\\\\\\\\\\"type\\\\\\\\\\\\\\\": 2, \\\\\\\\\\\\\\\"details\\\\\\\\\\\\\\\": {\\\\\\\\\\\\\\\"selectedColumn\\\\\\\\\\\\\\\": \\\\\\\\\\\\\\\"anaemia\\\\\\\\\\\\\\\"}}, \\\\\\\\\\\\\\\"typeProperty\\\\\\\\\\\\\\\": 2}, {\\\\\\\\\\\\\\\"column\\\\\\\\\\\\\\\": {\\\\\\\\\\\\\\\"type\\\\\\\\\\\\\\\": 2, \\\\\\\\\\\\\\\"details\\\\\\\\\\\\\\\": {\\\\\\\\\\\\\\\"selectedColumn\\\\\\\\\\\\\\\": \\\\\\\\\\\\\\\"creatinine_phosphokinase\\\\\\\\\\\\\\\"}}, \\\\\\\\\\\\\\\"typeProperty\\\\\\\\\\\\\\\": 2}, {\\\\\\\\\\\\\\\"column\\\\\\\\\\\\\\\": {\\\\\\\\\\\\\\\"type\\\\\\\\\\\\\\\": 2, \\\\\\\\\\\\\\\"details\\\\\\\\\\\\\\\": {\\\\\\\\\\\\\\\"selectedColumn\\\\\\\\\\\\\\\": \\\\\\\\\\\\\\\"diabetes\\\\\\\\\\\\\\\"}}, \\\\\\\\\\\\\\\"typeProperty\\\\\\\\\\\\\\\": 2}, {\\\\\\\\\\\\\\\"column\\\\\\\\\\\\\\\": {\\\\\\\\\\\\\\\"type\\\\\\\\\\\\\\\": 2, \\\\\\\\\\\\\\\"details\\\\\\\\\\\\\\\": {\\\\\\\\\\\\\\\"selectedColumn\\\\\\\\\\\\\\\": \\\\\\\\\\\\\\\"ejection_fraction\\\\\\\\\\\\\\\"}}, \\\\\\\\\\\\\\\"typeProperty\\\\\\\\\\\\\\\": 2}, {\\\\\\\\\\\\\\\"column\\\\\\\\\\\\\\\": {\\\\\\\\\\\\\\\"type\\\\\\\\\\\\\\\": 2, \\\\\\\\\\\\\\\"details\\\\\\\\\\\\\\\": {\\\\\\\\\\\\\\\"selectedColumn\\\\\\\\\\\\\\\": \\\\\\\\\\\\\\\"high_blood_pressure\\\\\\\\\\\\\\\"}}, \\\\\\\\\\\\\\\"typeProperty\\\\\\\\\\\\\\\": 2}, {\\\\\\\\\\\\\\\"column\\\\\\\\\\\\\\\": {\\\\\\\\\\\\\\\"type\\\\\\\\\\\\\\\": 2, \\\\\\\\\\\\\\\"details\\\\\\\\\\\\\\\": {\\\\\\\\\\\\\\\"selectedColumn\\\\\\\\\\\\\\\": \\\\\\\\\\\\\\\"platelets\\\\\\\\\\\\\\\"}}, \\\\\\\\\\\\\\\"typeProperty\\\\\\\\\\\\\\\": 3}, {\\\\\\\\\\\\\\\"column\\\\\\\\\\\\\\\": {\\\\\\\\\\\\\\\"type\\\\\\\\\\\\\\\": 2, \\\\\\\\\\\\\\\"details\\\\\\\\\\\\\\\": {\\\\\\\\\\\\\\\"selectedColumn\\\\\\\\\\\\\\\": \\\\\\\\\\\\\\\"serum_creatinine\\\\\\\\\\\\\\\"}}, \\\\\\\\\\\\\\\"typeProperty\\\\\\\\\\\\\\\": 3}, {\\\\\\\\\\\\\\\"column\\\\\\\\\\\\\\\": {\\\\\\\\\\\\\\\"type\\\\\\\\\\\\\\\": 2, \\\\\\\\\\\\\\\"details\\\\\\\\\\\\\\\": {\\\\\\\\\\\\\\\"selectedColumn\\\\\\\\\\\\\\\": \\\\\\\\\\\\\\\"serum_sodium\\\\\\\\\\\\\\\"}}, \\\\\\\\\\\\\\\"typeProperty\\\\\\\\\\\\\\\": 2}, {\\\\\\\\\\\\\\\"column\\\\\\\\\\\\\\\": {\\\\\\\\\\\\\\\"type\\\\\\\\\\\\\\\": 2, \\\\\\\\\\\\\\\"details\\\\\\\\\\\\\\\": {\\\\\\\\\\\\\\\"selectedColumn\\\\\\\\\\\\\\\": \\\\\\\\\\\\\\\"sex\\\\\\\\\\\\\\\"}}, \\\\\\\\\\\\\\\"typeProperty\\\\\\\\\\\\\\\": 2}, {\\\\\\\\\\\\\\\"column\\\\\\\\\\\\\\\": {\\\\\\\\\\\\\\\"type\\\\\\\\\\\\\\\": 2, \\\\\\\\\\\\\\\"details\\\\\\\\\\\\\\\": {\\\\\\\\\\\\\\\"selectedColumn\\\\\\\\\\\\\\\": \\\\\\\\\\\\\\\"smoking\\\\\\\\\\\\\\\"}}, \\\\\\\\\\\\\\\"typeProperty\\\\\\\\\\\\\\\": 2}, {\\\\\\\\\\\\\\\"column\\\\\\\\\\\\\\\": {\\\\\\\\\\\\\\\"type\\\\\\\\\\\\\\\": 2, \\\\\\\\\\\\\\\"details\\\\\\\\\\\\\\\": {\\\\\\\\\\\\\\\"selectedColumn\\\\\\\\\\\\\\\": \\\\\\\\\\\\\\\"time\\\\\\\\\\\\\\\"}}, \\\\\\\\\\\\\\\"typeProperty\\\\\\\\\\\\\\\": 2}, {\\\\\\\\\\\\\\\"column\\\\\\\\\\\\\\\": {\\\\\\\\\\\\\\\"type\\\\\\\\\\\\\\\": 2, \\\\\\\\\\\\\\\"details\\\\\\\\\\\\\\\": {\\\\\\\\\\\\\\\"selectedColumn\\\\\\\\\\\\\\\": \\\\\\\\\\\\\\\"DEATH_EVENT\\\\\\\\\\\\\\\"}}, \\\\\\\\\\\\\\\"typeProperty\\\\\\\\\\\\\\\": 2}]}, \\\\\\\\\\\\\\\"localData\\\\\\\\\\\\\\\": {}, \\\\\\\\\\\\\\\"isEnabled\\\\\\\\\\\\\\\": true, \\\\\\\\\\\\\\\"name\\\\\\\\\\\\\\\": null, \\\\\\\\\\\\\\\"annotation\\\\\\\\\\\\\\\": null}, {\\\\\\\\\\\\\\\"id\\\\\\\\\\\\\\\": \\\\\\\\\\\\\\\"21acd534-4574-4d60-82e6-e25d1a4069f9\\\\\\\\\\\\\\\", \\\\\\\\\\\\\\\"type\\\\\\\\\\\\\\\": \\\\\\\\\\\\\\\"Microsoft.DPrep.TakeSampleBlock\\\\\\\\\\\\\\\", \\\\\\\\\\\\\\\"arguments\\\\\\\\\\\\\\\": {\\\\\\\\\\\\\\\"probability\\\\\\\\\\\\\\\": 0.9, \\\\\\\\\\\\\\\"probabilityLowerBound\\\\\\\\\\\\\\\": 0.0, \\\\\\\\\\\\\\\"seed\\\\\\\\\\\\\\\": 2294448548}, \\\\\\\\\\\\\\\"localData\\\\\\\\\\\\\\\": {}, \\\\\\\\\\\\\\\"isEnabled\\\\\\\\\\\\\\\": true, \\\\\\\\\\\\\\\"name\\\\\\\\\\\\\\\": null, \\\\\\\\\\\\\\\"annotation\\\\\\\\\\\\\\\": null}], \\\\\\\\\\\\\\\"inspectors\\\\\\\\\\\\\\\": [], \\\\\\\\\\\\\\\"meta\\\\\\\\\\\\\\\": {\\\\\\\\\\\\\\\"savedDatasetId\\\\\\\\\\\\\\\": \\\\\\\\\\\\\\\"c3c337cf-69a0-42e0-8a56-42ba26926681\\\\\\\\\\\\\\\", \\\\\\\\\\\\\\\"datasetType\\\\\\\\\\\\\\\": \\\\\\\\\\\\\\\"tabular\\\\\\\\\\\\\\\", \\\\\\\\\\\\\\\"subscriptionId\\\\\\\\\\\\\\\": \\\\\\\\\\\\\\\"9b72f9e6-56c5-4c16-991b-19c652994860\\\\\\\\\\\\\\\", \\\\\\\\\\\\\\\"workspaceId\\\\\\\\\\\\\\\": \\\\\\\\\\\\\\\"eb273141-e79d-4b8a-a23e-fe930a778ced\\\\\\\\\\\\\\\", \\\\\\\\\\\\\\\"workspaceLocation\\\\\\\\\\\\\\\": \\\\\\\\\\\\\\\"southcentralus\\\\\\\\\\\\\\\"}}\\\\\\\", \\\\\\\"activities\\\\\\\": 0}\", \"EnableSubsampling\": null, \"runTemplate\": \"AutoML\", \"azureml.runsource\": \"automl\", \"display_task_type\": \"classification\", \"dependencies_versions\": \"{\\\"azureml-widgets\\\": \\\"1.22.0\\\", \\\"azureml-train\\\": \\\"1.22.0\\\", \\\"azureml-train-restclients-hyperdrive\\\": \\\"1.22.0\\\", \\\"azureml-train-core\\\": \\\"1.22.0\\\", \\\"azureml-train-automl\\\": \\\"1.22.0\\\", \\\"azureml-train-automl-runtime\\\": \\\"1.22.0\\\", \\\"azureml-train-automl-client\\\": \\\"1.22.0\\\", \\\"azureml-tensorboard\\\": \\\"1.22.0\\\", \\\"azureml-telemetry\\\": \\\"1.22.0\\\", \\\"azureml-sdk\\\": \\\"1.22.0\\\", \\\"azureml-samples\\\": \\\"0+unknown\\\", \\\"azureml-pipeline\\\": \\\"1.22.0\\\", \\\"azureml-pipeline-steps\\\": \\\"1.22.0\\\", \\\"azureml-pipeline-core\\\": \\\"1.22.0\\\", \\\"azureml-opendatasets\\\": \\\"1.22.0\\\", \\\"azureml-model-management-sdk\\\": \\\"1.0.1b6.post1\\\", \\\"azureml-mlflow\\\": \\\"1.22.0\\\", \\\"azureml-interpret\\\": \\\"1.22.0\\\", \\\"azureml-explain-model\\\": \\\"1.22.0\\\", \\\"azureml-defaults\\\": \\\"1.22.0\\\", \\\"azureml-dataset-runtime\\\": \\\"1.22.0\\\", \\\"azureml-dataprep\\\": \\\"2.9.1\\\", \\\"azureml-dataprep-rslex\\\": \\\"1.7.0\\\", \\\"azureml-dataprep-native\\\": \\\"29.0.0\\\", \\\"azureml-datadrift\\\": \\\"1.22.0\\\", \\\"azureml-core\\\": \\\"1.22.0\\\", \\\"azureml-contrib-services\\\": \\\"1.22.0\\\", \\\"azureml-contrib-server\\\": \\\"1.22.0\\\", \\\"azureml-contrib-reinforcementlearning\\\": \\\"1.22.0\\\", \\\"azureml-contrib-pipeline-steps\\\": \\\"1.22.0\\\", \\\"azureml-contrib-notebook\\\": \\\"1.22.0\\\", \\\"azureml-contrib-interpret\\\": \\\"1.22.0\\\", \\\"azureml-contrib-gbdt\\\": \\\"1.22.0\\\", \\\"azureml-contrib-fairness\\\": \\\"1.22.0\\\", \\\"azureml-contrib-dataset\\\": \\\"1.22.0\\\", \\\"azureml-cli-common\\\": \\\"1.22.0\\\", \\\"azureml-automl-runtime\\\": \\\"1.22.0\\\", \\\"azureml-automl-core\\\": \\\"1.22.0\\\", \\\"azureml-accel-models\\\": \\\"1.22.0\\\"}\", \"_aml_system_scenario_identification\": \"Remote.Parent\", \"ClientType\": \"SDK\", \"environment_cpu_name\": \"AzureML-AutoML\", \"environment_cpu_label\": \"prod\", \"environment_gpu_name\": \"AzureML-AutoML-GPU\", \"environment_gpu_label\": \"prod\", \"root_attribution\": \"automl\", \"attribution\": \"AutoML\", \"Orchestrator\": \"AutoML\", \"CancelUri\": \"https://southcentralus.experiments.azureml.net/jasmine/v1.0/subscriptions/9b72f9e6-56c5-4c16-991b-19c652994860/resourceGroups/aml-quickstarts-140282/providers/Microsoft.MachineLearningServices/workspaces/quick-starts-ws-140282/experimentids/1c51968d-a83a-4ee1-94d0-ca32a86123f9/cancel/AutoML_b13ca0b7-b493-43eb-8386-a42e61c7da10\", \"ClientSdkVersion\": \"1.23.0\", \"snapshotId\": \"00000000-0000-0000-0000-000000000000\", \"SetupRunId\": \"AutoML_b13ca0b7-b493-43eb-8386-a42e61c7da10_setup\", \"SetupRunContainerId\": \"dcid.AutoML_b13ca0b7-b493-43eb-8386-a42e61c7da10_setup\", \"FeaturizationRunJsonPath\": \"featurizer_container.json\", \"FeaturizationRunId\": \"AutoML_b13ca0b7-b493-43eb-8386-a42e61c7da10_featurize\", \"ProblemInfoJsonString\": \"{\\\"dataset_num_categorical\\\": 0, \\\"is_sparse\\\": false, \\\"subsampling\\\": false, \\\"dataset_classes\\\": 2, \\\"dataset_features\\\": 12, \\\"dataset_samples\\\": 264, \\\"single_frequency_class_detected\\\": false}\", \"ModelExplainRunId\": \"AutoML_b13ca0b7-b493-43eb-8386-a42e61c7da10_ModelExplain\"}, \"tags\": {\"model_explain_run\": \"best_run\", \"_aml_system_azureml.automlComponent\": \"AutoML\", \"pipeline_id\": \"\", \"score\": \"\", \"predicted_cost\": \"\", \"fit_time\": \"\", \"training_percent\": \"\", \"iteration\": \"\", \"run_preprocessor\": \"\", \"run_algorithm\": \"\", \"dynamic_whitelisting_iterations\": \"<25>;<29>;<35>;\", \"automl_best_child_run_id\": \"AutoML_b13ca0b7-b493-43eb-8386-a42e61c7da10_36\", \"model_explain_best_run_child_id\": \"AutoML_b13ca0b7-b493-43eb-8386-a42e61c7da10_36\"}, \"end_time_utc\": \"2021-03-12T14:29:19.64477Z\", \"status\": \"Completed\", \"log_files\": {}, \"log_groups\": [], \"run_duration\": \"0:24:40\", \"run_number\": \"1\", \"run_queued_details\": {\"status\": \"Completed\", \"details\": null}}, \"child_runs\": [{\"run_id\": \"AutoML_b13ca0b7-b493-43eb-8386-a42e61c7da10_0\", \"run_number\": 5, \"metric\": null, \"status\": \"Completed\", \"run_type\": \"azureml.scriptrun\", \"training_percent\": \"100\", \"start_time\": \"2021-03-12T14:16:15.543491Z\", \"end_time\": \"2021-03-12T14:17:06.063716Z\", \"created_time\": \"2021-03-12T14:13:53.350868Z\", \"created_time_dt\": \"2021-03-12T14:13:53.350868Z\", \"duration\": \"0:03:12\", \"iteration\": \"0\", \"goal\": \"accuracy_max\", \"run_name\": \"MaxAbsScaler, LightGBM\", \"run_properties\": \"copy=True\", \"primary_metric\": 0.81415094, \"best_metric\": 0.81415094}, {\"run_id\": \"AutoML_b13ca0b7-b493-43eb-8386-a42e61c7da10_2\", \"run_number\": 6, \"metric\": null, \"status\": \"Completed\", \"run_type\": \"azureml.scriptrun\", \"training_percent\": \"100\", \"start_time\": \"2021-03-12T14:15:12.849289Z\", \"end_time\": \"2021-03-12T14:15:58.71512Z\", \"created_time\": \"2021-03-12T14:13:53.377525Z\", \"created_time_dt\": \"2021-03-12T14:13:53.377525Z\", \"duration\": \"0:02:05\", \"iteration\": \"2\", \"goal\": \"accuracy_max\", \"run_name\": \"MinMaxScaler, RandomForest\", \"run_properties\": \"copy=True, feature_range=(0, 1\", \"primary_metric\": 0.8179971, \"best_metric\": 0.83316401}, {\"run_id\": \"AutoML_b13ca0b7-b493-43eb-8386-a42e61c7da10_3\", \"run_number\": 7, \"metric\": null, \"status\": \"Completed\", \"run_type\": \"azureml.scriptrun\", \"training_percent\": \"100\", \"start_time\": \"2021-03-12T14:14:09.063948Z\", \"end_time\": \"2021-03-12T14:14:53.187869Z\", \"created_time\": \"2021-03-12T14:13:53.427144Z\", \"created_time_dt\": \"2021-03-12T14:13:53.427144Z\", \"duration\": \"0:00:59\", \"iteration\": \"3\", \"goal\": \"accuracy_max\", \"run_name\": \"MinMaxScaler, RandomForest\", \"run_properties\": \"copy=True, feature_range=(0, 1\", \"primary_metric\": 0.8521045, \"best_metric\": 0.8521045}, {\"run_id\": \"AutoML_b13ca0b7-b493-43eb-8386-a42e61c7da10_1\", \"run_number\": 8, \"metric\": null, \"status\": \"Completed\", \"run_type\": \"azureml.scriptrun\", \"training_percent\": \"100\", \"start_time\": \"2021-03-12T14:17:06.498591Z\", \"end_time\": \"2021-03-12T14:19:46.374186Z\", \"created_time\": \"2021-03-12T14:13:53.442988Z\", \"created_time_dt\": \"2021-03-12T14:13:53.442988Z\", \"duration\": \"0:05:52\", \"iteration\": \"1\", \"goal\": \"accuracy_max\", \"run_name\": \"MaxAbsScaler, XGBoostClassifier\", \"run_properties\": \"copy=True\", \"primary_metric\": 0.83316401, \"best_metric\": 0.83316401}, {\"run_id\": \"AutoML_b13ca0b7-b493-43eb-8386-a42e61c7da10_4\", \"run_number\": 9, \"metric\": null, \"status\": \"Completed\", \"run_type\": \"azureml.scriptrun\", \"training_percent\": \"100\", \"start_time\": \"2021-03-12T14:17:02.178021Z\", \"end_time\": \"2021-03-12T14:19:53.027577Z\", \"created_time\": \"2021-03-12T14:14:56.017132Z\", \"created_time_dt\": \"2021-03-12T14:14:56.017132Z\", \"duration\": \"0:04:57\", \"iteration\": \"4\", \"goal\": \"accuracy_max\", \"run_name\": \"MinMaxScaler, RandomForest\", \"run_properties\": \"copy=True, feature_range=(0, 1\", \"primary_metric\": 0.84071118, \"best_metric\": 0.8521045}, {\"run_id\": \"AutoML_b13ca0b7-b493-43eb-8386-a42e61c7da10_5\", \"run_number\": 10, \"metric\": null, \"status\": \"Completed\", \"run_type\": \"azureml.scriptrun\", \"training_percent\": \"100\", \"start_time\": \"2021-03-12T14:17:02.864863Z\", \"end_time\": \"2021-03-12T14:19:49.553435Z\", \"created_time\": \"2021-03-12T14:16:03.113565Z\", \"created_time_dt\": \"2021-03-12T14:16:03.113565Z\", \"duration\": \"0:03:46\", \"iteration\": \"5\", \"goal\": \"accuracy_max\", \"run_name\": \"MinMaxScaler, SVM\", \"run_properties\": \"copy=True, feature_range=(0, 1\", \"primary_metric\": 0.75377358, \"best_metric\": 0.8521045}, {\"run_id\": \"AutoML_b13ca0b7-b493-43eb-8386-a42e61c7da10_6\", \"run_number\": 11, \"metric\": null, \"status\": \"Completed\", \"run_type\": \"azureml.scriptrun\", \"training_percent\": \"100\", \"start_time\": \"2021-03-12T14:17:23.659476Z\", \"end_time\": \"2021-03-12T14:18:09.268232Z\", \"created_time\": \"2021-03-12T14:17:09.027731Z\", \"created_time_dt\": \"2021-03-12T14:17:09.027731Z\", \"duration\": \"0:01:00\", \"iteration\": \"6\", \"goal\": \"accuracy_max\", \"run_name\": \"MinMaxScaler, SVM\", \"run_properties\": \"copy=True, feature_range=(0, 1\", \"primary_metric\": 0.75384615, \"best_metric\": 0.8521045}, {\"run_id\": \"AutoML_b13ca0b7-b493-43eb-8386-a42e61c7da10_7\", \"run_number\": 12, \"metric\": null, \"status\": \"Completed\", \"run_type\": \"azureml.scriptrun\", \"training_percent\": \"100\", \"start_time\": \"2021-03-12T14:18:22.549573Z\", \"end_time\": \"2021-03-12T14:19:13.339137Z\", \"created_time\": \"2021-03-12T14:18:11.899299Z\", \"created_time_dt\": \"2021-03-12T14:18:11.899299Z\", \"duration\": \"0:01:01\", \"iteration\": \"7\", \"goal\": \"accuracy_max\", \"run_name\": \"MaxAbsScaler, GradientBoosting\", \"run_properties\": \"copy=True\", \"primary_metric\": 0.84078374, \"best_metric\": 0.8521045}, {\"run_id\": \"AutoML_b13ca0b7-b493-43eb-8386-a42e61c7da10_8\", \"run_number\": 13, \"metric\": null, \"status\": \"Completed\", \"run_type\": \"azureml.scriptrun\", \"training_percent\": \"100\", \"start_time\": \"2021-03-12T14:19:28.375347Z\", \"end_time\": \"2021-03-12T14:20:18.8897Z\", \"created_time\": \"2021-03-12T14:19:16.452445Z\", \"created_time_dt\": \"2021-03-12T14:19:16.452445Z\", \"duration\": \"0:01:02\", \"iteration\": \"8\", \"goal\": \"accuracy_max\", \"run_name\": \"SparseNormalizer, XGBoostClassifier\", \"run_properties\": \"<azureml.automl.runtime.shared.model_wrappers.SparseNormalizer object at 0x7f953c4f1208\", \"primary_metric\": 0.83338171, \"best_metric\": 0.8521045}, {\"run_id\": \"AutoML_b13ca0b7-b493-43eb-8386-a42e61c7da10_9\", \"run_number\": 14, \"metric\": null, \"status\": \"Completed\", \"run_type\": \"azureml.scriptrun\", \"training_percent\": \"100\", \"start_time\": \"2021-03-12T14:20:03.182369Z\", \"end_time\": \"2021-03-12T14:21:04.239076Z\", \"created_time\": \"2021-03-12T14:19:48.516891Z\", \"created_time_dt\": \"2021-03-12T14:19:48.516891Z\", \"duration\": \"0:01:15\", \"iteration\": \"9\", \"goal\": \"accuracy_max\", \"run_name\": \"MaxAbsScaler, LightGBM\", \"run_properties\": \"copy=True\", \"primary_metric\": 0.79550073, \"best_metric\": 0.8521045}, {\"run_id\": \"AutoML_b13ca0b7-b493-43eb-8386-a42e61c7da10_10\", \"run_number\": 15, \"metric\": null, \"status\": \"Completed\", \"run_type\": \"azureml.scriptrun\", \"training_percent\": \"100\", \"start_time\": \"2021-03-12T14:20:03.306916Z\", \"end_time\": \"2021-03-12T14:20:51.049441Z\", \"created_time\": \"2021-03-12T14:19:52.508817Z\", \"created_time_dt\": \"2021-03-12T14:19:52.508817Z\", \"duration\": \"0:00:58\", \"iteration\": \"10\", \"goal\": \"accuracy_max\", \"run_name\": \"RobustScaler, RandomForest\", \"run_properties\": \"copy=True, quantile_range=[10, 90], with_centering=True,\\n             with_scaling=True\", \"primary_metric\": 0.83693759, \"best_metric\": 0.8521045}, {\"run_id\": \"AutoML_b13ca0b7-b493-43eb-8386-a42e61c7da10_11\", \"run_number\": 16, \"metric\": null, \"status\": \"Completed\", \"run_type\": \"azureml.scriptrun\", \"training_percent\": \"100\", \"start_time\": \"2021-03-12T14:20:07.674531Z\", \"end_time\": \"2021-03-12T14:20:52.926161Z\", \"created_time\": \"2021-03-12T14:19:56.858674Z\", \"created_time_dt\": \"2021-03-12T14:19:56.858674Z\", \"duration\": \"0:00:56\", \"iteration\": \"11\", \"goal\": \"accuracy_max\", \"run_name\": \"RobustScaler, GradientBoosting\", \"run_properties\": \"copy=True, quantile_range=[25, 75], with_centering=False,\\n             with_scaling=False\", \"primary_metric\": 0.84840348, \"best_metric\": 0.8521045}, {\"run_id\": \"AutoML_b13ca0b7-b493-43eb-8386-a42e61c7da10_12\", \"run_number\": 17, \"metric\": null, \"status\": \"Completed\", \"run_type\": \"azureml.scriptrun\", \"training_percent\": \"100\", \"start_time\": \"2021-03-12T14:20:33.528689Z\", \"end_time\": \"2021-03-12T14:21:33.184486Z\", \"created_time\": \"2021-03-12T14:20:21.909553Z\", \"created_time_dt\": \"2021-03-12T14:20:21.909553Z\", \"duration\": \"0:01:11\", \"iteration\": \"12\", \"goal\": \"accuracy_max\", \"run_name\": \"RobustScaler, ExtremeRandomTrees\", \"run_properties\": \"copy=True, quantile_range=[25, 75], with_centering=True,\\n             with_scaling=False\", \"primary_metric\": 0.84470247, \"best_metric\": 0.8521045}, {\"run_id\": \"AutoML_b13ca0b7-b493-43eb-8386-a42e61c7da10_13\", \"run_number\": 18, \"metric\": null, \"status\": \"Completed\", \"run_type\": \"azureml.scriptrun\", \"training_percent\": \"100\", \"start_time\": \"2021-03-12T14:21:06.762647Z\", \"end_time\": \"2021-03-12T14:21:58.077118Z\", \"created_time\": \"2021-03-12T14:20:53.958151Z\", \"created_time_dt\": \"2021-03-12T14:20:53.958151Z\", \"duration\": \"0:01:04\", \"iteration\": \"13\", \"goal\": \"accuracy_max\", \"run_name\": \"StandardScalerWrapper, RandomForest\", \"run_properties\": \"<azureml.automl.runtime.shared.model_wrappers.StandardScalerWrapper object at 0x7f3023a2acc0\", \"primary_metric\": 0.83330914, \"best_metric\": 0.8521045}, {\"run_id\": \"AutoML_b13ca0b7-b493-43eb-8386-a42e61c7da10_14\", \"run_number\": 19, \"metric\": null, \"status\": \"Completed\", \"run_type\": \"azureml.scriptrun\", \"training_percent\": \"100\", \"start_time\": \"2021-03-12T14:21:11.943374Z\", \"end_time\": \"2021-03-12T14:22:02.060653Z\", \"created_time\": \"2021-03-12T14:21:01.860136Z\", \"created_time_dt\": \"2021-03-12T14:21:01.860136Z\", \"duration\": \"0:01:00\", \"iteration\": \"14\", \"goal\": \"accuracy_max\", \"run_name\": \"MaxAbsScaler, LightGBM\", \"run_properties\": \"copy=True\", \"primary_metric\": 0.8371553, \"best_metric\": 0.8521045}, {\"run_id\": \"AutoML_b13ca0b7-b493-43eb-8386-a42e61c7da10_15\", \"run_number\": 20, \"metric\": null, \"status\": \"Completed\", \"run_type\": \"azureml.scriptrun\", \"training_percent\": \"100\", \"start_time\": \"2021-03-12T14:21:18.003983Z\", \"end_time\": \"2021-03-12T14:22:06.454926Z\", \"created_time\": \"2021-03-12T14:21:06.24199Z\", \"created_time_dt\": \"2021-03-12T14:21:06.24199Z\", \"duration\": \"0:01:00\", \"iteration\": \"15\", \"goal\": \"accuracy_max\", \"run_name\": \"StandardScalerWrapper, RandomForest\", \"run_properties\": \"<azureml.automl.runtime.shared.model_wrappers.StandardScalerWrapper object at 0x7f44bf596ef0\", \"primary_metric\": 0.82169811, \"best_metric\": 0.8521045}, {\"run_id\": \"AutoML_b13ca0b7-b493-43eb-8386-a42e61c7da10_16\", \"run_number\": 21, \"metric\": null, \"status\": \"Completed\", \"run_type\": \"azureml.scriptrun\", \"training_percent\": \"100\", \"start_time\": \"2021-03-12T14:21:51.467579Z\", \"end_time\": \"2021-03-12T14:23:00.731199Z\", \"created_time\": \"2021-03-12T14:21:35.690056Z\", \"created_time_dt\": \"2021-03-12T14:21:35.690056Z\", \"duration\": \"0:01:25\", \"iteration\": \"16\", \"goal\": \"accuracy_max\", \"run_name\": \"MinMaxScaler, LightGBM\", \"run_properties\": \"copy=True, feature_range=(0, 1\", \"primary_metric\": 0.83693759, \"best_metric\": 0.8521045}, {\"run_id\": \"AutoML_b13ca0b7-b493-43eb-8386-a42e61c7da10_17\", \"run_number\": 22, \"metric\": null, \"status\": \"Completed\", \"run_type\": \"azureml.scriptrun\", \"training_percent\": \"100\", \"start_time\": \"2021-03-12T14:22:14.076442Z\", \"end_time\": \"2021-03-12T14:23:00.46006Z\", \"created_time\": \"2021-03-12T14:22:00.127544Z\", \"created_time_dt\": \"2021-03-12T14:22:00.127544Z\", \"duration\": \"0:01:00\", \"iteration\": \"17\", \"goal\": \"accuracy_max\", \"run_name\": \"SparseNormalizer, XGBoostClassifier\", \"run_properties\": \"<azureml.automl.runtime.shared.model_wrappers.SparseNormalizer object at 0x7f38f0e46d68\", \"primary_metric\": 0.80674891, \"best_metric\": 0.8521045}, {\"run_id\": \"AutoML_b13ca0b7-b493-43eb-8386-a42e61c7da10_18\", \"run_number\": 23, \"metric\": null, \"status\": \"Completed\", \"run_type\": \"azureml.scriptrun\", \"training_percent\": \"100\", \"start_time\": \"2021-03-12T14:22:19.911385Z\", \"end_time\": \"2021-03-12T14:23:06.751125Z\", \"created_time\": \"2021-03-12T14:22:03.907414Z\", \"created_time_dt\": \"2021-03-12T14:22:03.907414Z\", \"duration\": \"0:01:02\", \"iteration\": \"18\", \"goal\": \"accuracy_max\", \"run_name\": \"StandardScalerWrapper, LightGBM\", \"run_properties\": \"<azureml.automl.runtime.shared.model_wrappers.StandardScalerWrapper object at 0x7f3dd822c2b0\", \"primary_metric\": 0.81059507, \"best_metric\": 0.8521045}, {\"run_id\": \"AutoML_b13ca0b7-b493-43eb-8386-a42e61c7da10_19\", \"run_number\": 24, \"metric\": null, \"status\": \"Completed\", \"run_type\": \"azureml.scriptrun\", \"training_percent\": \"100\", \"start_time\": \"2021-03-12T14:22:19.602237Z\", \"end_time\": \"2021-03-12T14:23:05.11206Z\", \"created_time\": \"2021-03-12T14:22:08.17301Z\", \"created_time_dt\": \"2021-03-12T14:22:08.17301Z\", \"duration\": \"0:00:56\", \"iteration\": \"19\", \"goal\": \"accuracy_max\", \"run_name\": \"SparseNormalizer, RandomForest\", \"run_properties\": \"<azureml.automl.runtime.shared.model_wrappers.SparseNormalizer object at 0x7f9ada148080\", \"primary_metric\": 0.81037736, \"best_metric\": 0.8521045}, {\"run_id\": \"AutoML_b13ca0b7-b493-43eb-8386-a42e61c7da10_21\", \"run_number\": 25, \"metric\": null, \"status\": \"Completed\", \"run_type\": \"azureml.scriptrun\", \"training_percent\": \"100\", \"start_time\": \"2021-03-12T14:23:13.873305Z\", \"end_time\": \"2021-03-12T14:24:08.118406Z\", \"created_time\": \"2021-03-12T14:23:02.211725Z\", \"created_time_dt\": \"2021-03-12T14:23:02.211725Z\", \"duration\": \"0:01:05\", \"iteration\": \"21\", \"goal\": \"accuracy_max\", \"run_name\": \"StandardScalerWrapper, XGBoostClassifier\", \"run_properties\": \"<azureml.automl.runtime.shared.model_wrappers.StandardScalerWrapper object at 0x7f4c3ac5b5c0\", \"primary_metric\": 0.83330914, \"best_metric\": 0.8521045}, {\"run_id\": \"AutoML_b13ca0b7-b493-43eb-8386-a42e61c7da10_20\", \"run_number\": 26, \"metric\": null, \"status\": \"Completed\", \"run_type\": \"azureml.scriptrun\", \"training_percent\": \"100\", \"start_time\": \"2021-03-12T14:23:14.749134Z\", \"end_time\": \"2021-03-12T14:24:05.396619Z\", \"created_time\": \"2021-03-12T14:23:02.474459Z\", \"created_time_dt\": \"2021-03-12T14:23:02.474459Z\", \"duration\": \"0:01:02\", \"iteration\": \"20\", \"goal\": \"accuracy_max\", \"run_name\": \"SparseNormalizer, XGBoostClassifier\", \"run_properties\": \"<azureml.automl.runtime.shared.model_wrappers.SparseNormalizer object at 0x7f732f7d2c88\", \"primary_metric\": 0.81814224, \"best_metric\": 0.8521045}, {\"run_id\": \"AutoML_b13ca0b7-b493-43eb-8386-a42e61c7da10_22\", \"run_number\": 27, \"metric\": null, \"status\": \"Completed\", \"run_type\": \"azureml.scriptrun\", \"training_percent\": \"100\", \"start_time\": \"2021-03-12T14:23:20.429187Z\", \"end_time\": \"2021-03-12T14:24:13.985216Z\", \"created_time\": \"2021-03-12T14:23:09.615175Z\", \"created_time_dt\": \"2021-03-12T14:23:09.615175Z\", \"duration\": \"0:01:04\", \"iteration\": \"22\", \"goal\": \"accuracy_max\", \"run_name\": \"MinMaxScaler, LightGBM\", \"run_properties\": \"copy=True, feature_range=(0, 1\", \"primary_metric\": 0.83693759, \"best_metric\": 0.8521045}, {\"run_id\": \"AutoML_b13ca0b7-b493-43eb-8386-a42e61c7da10_23\", \"run_number\": 28, \"metric\": null, \"status\": \"Completed\", \"run_type\": \"azureml.scriptrun\", \"training_percent\": \"100\", \"start_time\": \"2021-03-12T14:23:24.454621Z\", \"end_time\": \"2021-03-12T14:24:17.996185Z\", \"created_time\": \"2021-03-12T14:23:14.437377Z\", \"created_time_dt\": \"2021-03-12T14:23:14.437377Z\", \"duration\": \"0:01:03\", \"iteration\": \"23\", \"goal\": \"accuracy_max\", \"run_name\": \"MaxAbsScaler, LightGBM\", \"run_properties\": \"copy=True\", \"primary_metric\": 0.8256894, \"best_metric\": 0.8521045}, {\"run_id\": \"AutoML_b13ca0b7-b493-43eb-8386-a42e61c7da10_24\", \"run_number\": 29, \"metric\": null, \"status\": \"Completed\", \"run_type\": \"azureml.scriptrun\", \"training_percent\": \"100\", \"start_time\": \"2021-03-12T14:24:21.256607Z\", \"end_time\": \"2021-03-12T14:25:07.204691Z\", \"created_time\": \"2021-03-12T14:24:07.250812Z\", \"created_time_dt\": \"2021-03-12T14:24:07.250812Z\", \"duration\": \"0:00:59\", \"iteration\": \"24\", \"goal\": \"accuracy_max\", \"run_name\": \"MaxAbsScaler, ExtremeRandomTrees\", \"run_properties\": \"copy=True\", \"primary_metric\": 0.84455733, \"best_metric\": 0.8521045}, {\"run_id\": \"AutoML_b13ca0b7-b493-43eb-8386-a42e61c7da10_25\", \"run_number\": 30, \"metric\": null, \"status\": \"Completed\", \"run_type\": \"azureml.scriptrun\", \"training_percent\": \"100\", \"start_time\": \"2021-03-12T14:24:24.425484Z\", \"end_time\": \"2021-03-12T14:25:12.302505Z\", \"created_time\": \"2021-03-12T14:24:12.389603Z\", \"created_time_dt\": \"2021-03-12T14:24:12.389603Z\", \"duration\": \"0:00:59\", \"iteration\": \"25\", \"goal\": \"accuracy_max\", \"run_name\": \"StandardScalerWrapper, RandomForest\", \"run_properties\": \"<azureml.automl.runtime.shared.model_wrappers.StandardScalerWrapper object at 0x7fdfc36ceac8\", \"primary_metric\": 0.57924528, \"best_metric\": 0.8521045}, {\"run_id\": \"AutoML_b13ca0b7-b493-43eb-8386-a42e61c7da10_26\", \"run_number\": 31, \"metric\": null, \"status\": \"Completed\", \"run_type\": \"azureml.scriptrun\", \"training_percent\": \"100\", \"start_time\": \"2021-03-12T14:24:28.088336Z\", \"end_time\": \"2021-03-12T14:25:14.112913Z\", \"created_time\": \"2021-03-12T14:24:16.093785Z\", \"created_time_dt\": \"2021-03-12T14:24:16.093785Z\", \"duration\": \"0:00:58\", \"iteration\": \"26\", \"goal\": \"accuracy_max\", \"run_name\": \"SparseNormalizer, ExtremeRandomTrees\", \"run_properties\": \"<azureml.automl.runtime.shared.model_wrappers.SparseNormalizer object at 0x7f5a2a1d0208\", \"primary_metric\": 0.76139332, \"best_metric\": 0.8521045}, {\"run_id\": \"AutoML_b13ca0b7-b493-43eb-8386-a42e61c7da10_27\", \"run_number\": 32, \"metric\": null, \"status\": \"Completed\", \"run_type\": \"azureml.scriptrun\", \"training_percent\": \"100\", \"start_time\": \"2021-03-12T14:24:32.068781Z\", \"end_time\": \"2021-03-12T14:25:30.241088Z\", \"created_time\": \"2021-03-12T14:24:19.694708Z\", \"created_time_dt\": \"2021-03-12T14:24:19.694708Z\", \"duration\": \"0:01:10\", \"iteration\": \"27\", \"goal\": \"accuracy_max\", \"run_name\": \"StandardScalerWrapper, RandomForest\", \"run_properties\": \"<azureml.automl.runtime.shared.model_wrappers.StandardScalerWrapper object at 0x7f6ba40890f0\", \"primary_metric\": 0.81828737, \"best_metric\": 0.8521045}, {\"run_id\": \"AutoML_b13ca0b7-b493-43eb-8386-a42e61c7da10_28\", \"run_number\": 33, \"metric\": null, \"status\": \"Completed\", \"run_type\": \"azureml.scriptrun\", \"training_percent\": \"100\", \"start_time\": \"2021-03-12T14:25:22.565641Z\", \"end_time\": \"2021-03-12T14:26:13.00622Z\", \"created_time\": \"2021-03-12T14:25:11.308001Z\", \"created_time_dt\": \"2021-03-12T14:25:11.308001Z\", \"duration\": \"0:01:01\", \"iteration\": \"28\", \"goal\": \"accuracy_max\", \"run_name\": \"RobustScaler, LightGBM\", \"run_properties\": \"copy=True, quantile_range=[10, 90], with_centering=True,\\n             with_scaling=False\", \"primary_metric\": 0.78417997, \"best_metric\": 0.8521045}, {\"run_id\": \"AutoML_b13ca0b7-b493-43eb-8386-a42e61c7da10_29\", \"run_number\": 34, \"metric\": null, \"status\": \"Canceled\", \"run_type\": \"azureml.scriptrun\", \"training_percent\": \"100\", \"start_time\": \"2021-03-12T14:25:30.418946Z\", \"end_time\": \"2021-03-12T14:27:43.925328Z\", \"created_time\": \"2021-03-12T14:25:20.046441Z\", \"created_time_dt\": \"2021-03-12T14:25:20.046441Z\", \"duration\": \"0:02:23\", \"iteration\": \"29\", \"goal\": null, \"run_name\": \"Canceled\", \"run_properties\": null}, {\"run_id\": \"AutoML_b13ca0b7-b493-43eb-8386-a42e61c7da10_30\", \"run_number\": 35, \"metric\": null, \"status\": \"Completed\", \"run_type\": \"azureml.scriptrun\", \"training_percent\": \"100\", \"start_time\": \"2021-03-12T14:25:28.976176Z\", \"end_time\": \"2021-03-12T14:26:27.376666Z\", \"created_time\": \"2021-03-12T14:25:20.072283Z\", \"created_time_dt\": \"2021-03-12T14:25:20.072283Z\", \"duration\": \"0:01:07\", \"iteration\": \"30\", \"goal\": \"accuracy_max\", \"run_name\": \"StandardScalerWrapper, ExtremeRandomTrees\", \"run_properties\": \"<azureml.automl.runtime.shared.model_wrappers.StandardScalerWrapper object at 0x7f83c534cc88\", \"primary_metric\": 0.7766328, \"best_metric\": 0.8521045}, {\"run_id\": \"AutoML_b13ca0b7-b493-43eb-8386-a42e61c7da10_31\", \"run_number\": 36, \"metric\": null, \"status\": \"Completed\", \"run_type\": \"azureml.scriptrun\", \"training_percent\": \"100\", \"start_time\": \"2021-03-12T14:25:44.897974Z\", \"end_time\": \"2021-03-12T14:26:37.587347Z\", \"created_time\": \"2021-03-12T14:25:32.556219Z\", \"created_time_dt\": \"2021-03-12T14:25:32.556219Z\", \"duration\": \"0:01:05\", \"iteration\": \"31\", \"goal\": \"accuracy_max\", \"run_name\": \"StandardScalerWrapper, KNN\", \"run_properties\": \"<azureml.automl.runtime.shared.model_wrappers.StandardScalerWrapper object at 0x7f5584560898\", \"primary_metric\": 0.65152395, \"best_metric\": 0.8521045}, {\"run_id\": \"AutoML_b13ca0b7-b493-43eb-8386-a42e61c7da10_32\", \"run_number\": 37, \"metric\": null, \"status\": \"Completed\", \"run_type\": \"azureml.scriptrun\", \"training_percent\": \"100\", \"start_time\": \"2021-03-12T14:26:24.463585Z\", \"end_time\": \"2021-03-12T14:27:11.290703Z\", \"created_time\": \"2021-03-12T14:26:14.730898Z\", \"created_time_dt\": \"2021-03-12T14:26:14.730898Z\", \"duration\": \"0:00:56\", \"iteration\": \"32\", \"goal\": \"accuracy_max\", \"run_name\": \"MinMaxScaler, LightGBM\", \"run_properties\": \"copy=True, feature_range=(0, 1\", \"primary_metric\": 0.83693759, \"best_metric\": 0.8521045}, {\"run_id\": \"AutoML_b13ca0b7-b493-43eb-8386-a42e61c7da10_33\", \"run_number\": 38, \"metric\": null, \"status\": \"Completed\", \"run_type\": \"azureml.scriptrun\", \"training_percent\": \"100\", \"start_time\": \"2021-03-12T14:26:44.745915Z\", \"end_time\": \"2021-03-12T14:27:33.760791Z\", \"created_time\": \"2021-03-12T14:26:29.056791Z\", \"created_time_dt\": \"2021-03-12T14:26:29.056791Z\", \"duration\": \"0:01:04\", \"iteration\": \"33\", \"goal\": \"accuracy_max\", \"run_name\": \"SparseNormalizer, RandomForest\", \"run_properties\": \"<azureml.automl.runtime.shared.model_wrappers.SparseNormalizer object at 0x7f1484e6f278\", \"primary_metric\": 0.81444122, \"best_metric\": 0.8521045}, {\"run_id\": \"AutoML_b13ca0b7-b493-43eb-8386-a42e61c7da10_34\", \"run_number\": 39, \"metric\": null, \"status\": \"Canceled\", \"run_type\": \"azureml.scriptrun\", \"training_percent\": \"100\", \"start_time\": \"2021-03-12T14:26:52.390661Z\", \"end_time\": \"2021-03-12T14:27:38.540163Z\", \"created_time\": \"2021-03-12T14:26:39.360095Z\", \"created_time_dt\": \"2021-03-12T14:26:39.360095Z\", \"duration\": \"0:00:59\", \"iteration\": \"34\", \"goal\": \"accuracy_max\", \"run_name\": \"SparseNormalizer, LightGBM\", \"run_properties\": \"<azureml.automl.runtime.shared.model_wrappers.SparseNormalizer object at 0x7f82282cec50\", \"primary_metric\": 0.82554427, \"best_metric\": 0.8521045}, {\"run_id\": \"AutoML_b13ca0b7-b493-43eb-8386-a42e61c7da10_35\", \"run_number\": 40, \"metric\": null, \"status\": \"Canceled\", \"run_type\": \"azureml.scriptrun\", \"training_percent\": \"100\", \"start_time\": \"2021-03-12T14:27:26.979591Z\", \"end_time\": \"2021-03-12T14:27:43.333202Z\", \"created_time\": \"2021-03-12T14:27:14.383126Z\", \"created_time_dt\": \"2021-03-12T14:27:14.383126Z\", \"duration\": \"0:00:28\", \"iteration\": \"35\", \"goal\": null, \"run_name\": \"Canceled\", \"run_properties\": null}, {\"run_id\": \"AutoML_b13ca0b7-b493-43eb-8386-a42e61c7da10_36\", \"run_number\": 41, \"metric\": null, \"status\": \"Completed\", \"run_type\": \"azureml.scriptrun\", \"training_percent\": \"100\", \"start_time\": \"2021-03-12T14:27:53.609779Z\", \"end_time\": \"2021-03-12T14:29:08.470127Z\", \"created_time\": \"2021-03-12T14:27:45.674657Z\", \"created_time_dt\": \"2021-03-12T14:27:45.674657Z\", \"duration\": \"0:01:22\", \"iteration\": \"36\", \"goal\": \"accuracy_max\", \"run_name\": \"VotingEnsemble\", \"run_properties\": \"classification_labels=None,\\n                              estimators=[('3',\\n                                           Pipeline(memory=None,\\n                                                    steps=[('minmaxscaler',\\n                                                            MinMaxScaler(copy=True,\\n                                                                         feature_range=(0,\\n                                                                                        1\", \"primary_metric\": 0.87111756, \"best_metric\": 0.87111756}, {\"run_id\": \"AutoML_b13ca0b7-b493-43eb-8386-a42e61c7da10_37\", \"run_number\": 42, \"metric\": null, \"status\": \"Completed\", \"run_type\": \"azureml.scriptrun\", \"training_percent\": \"100\", \"start_time\": \"2021-03-12T14:27:55.107225Z\", \"end_time\": \"2021-03-12T14:29:13.70315Z\", \"created_time\": \"2021-03-12T14:27:45.690378Z\", \"created_time_dt\": \"2021-03-12T14:27:45.690378Z\", \"duration\": \"0:01:28\", \"iteration\": \"37\", \"goal\": \"accuracy_max\", \"run_name\": \"StackEnsemble\", \"run_properties\": \"base_learners=[('3',\\n                                        Pipeline(memory=None,\\n                                                 steps=[('minmaxscaler',\\n                                                         MinMaxScaler(copy=True,\\n                                                                      feature_range=(0,\\n                                                                                     1\", \"primary_metric\": 0.86349782, \"best_metric\": 0.87111756}], \"children_metrics\": {\"categories\": [0], \"series\": {\"accuracy\": [{\"categories\": [\"0\", \"1\", \"2\", \"3\", \"4\", \"5\", \"6\", \"7\", \"8\", \"9\", \"10\", \"11\", \"12\", \"13\", \"14\", \"15\", \"16\", \"17\", \"18\", \"19\", \"20\", \"21\", \"22\", \"23\", \"24\", \"25\", \"26\", \"27\", \"28\", \"30\", \"31\", \"32\", \"33\", \"34\", \"36\", \"37\"], \"mode\": \"markers\", \"name\": \"accuracy\", \"stepped\": false, \"type\": \"scatter\", \"data\": [0.8141509433962264, 0.8331640058055152, 0.8179970972423802, 0.8521044992743105, 0.8407111756168361, 0.7537735849056604, 0.7538461538461538, 0.8407837445573294, 0.8333817126269956, 0.7955007256894049, 0.8369375907111756, 0.8484034833091437, 0.8447024673439769, 0.8333091436865022, 0.837155297532656, 0.8216981132075473, 0.8369375907111756, 0.8067489114658926, 0.8105950653120464, 0.810377358490566, 0.8181422351233671, 0.8333091436865022, 0.8369375907111756, 0.8256894049346879, 0.8445573294629899, 0.5792452830188679, 0.7613933236574746, 0.8182873730043541, 0.7841799709724239, 0.776632801161103, 0.6515239477503628, 0.8369375907111756, 0.8144412191582002, 0.8255442670537011, 0.8711175616835994, 0.8634978229317852]}, {\"categories\": [\"0\", \"1\", \"2\", \"3\", \"4\", \"5\", \"6\", \"7\", \"8\", \"9\", \"10\", \"11\", \"12\", \"13\", \"14\", \"15\", \"16\", \"17\", \"18\", \"19\", \"20\", \"21\", \"22\", \"23\", \"24\", \"25\", \"26\", \"27\", \"28\", \"30\", \"31\", \"32\", \"33\", \"34\", \"36\", \"37\"], \"mode\": \"lines\", \"name\": \"accuracy_max\", \"stepped\": true, \"type\": \"scatter\", \"data\": [0.8141509433962264, 0.8331640058055152, 0.8331640058055152, 0.8521044992743105, 0.8521044992743105, 0.8521044992743105, 0.8521044992743105, 0.8521044992743105, 0.8521044992743105, 0.8521044992743105, 0.8521044992743105, 0.8521044992743105, 0.8521044992743105, 0.8521044992743105, 0.8521044992743105, 0.8521044992743105, 0.8521044992743105, 0.8521044992743105, 0.8521044992743105, 0.8521044992743105, 0.8521044992743105, 0.8521044992743105, 0.8521044992743105, 0.8521044992743105, 0.8521044992743105, 0.8521044992743105, 0.8521044992743105, 0.8521044992743105, 0.8521044992743105, 0.8521044992743105, 0.8521044992743105, 0.8521044992743105, 0.8521044992743105, 0.8521044992743105, 0.8711175616835994, 0.8711175616835994]}], \"average_precision_score_weighted\": [{\"categories\": [\"0\", \"1\", \"2\", \"3\", \"4\", \"5\", \"6\", \"7\", \"8\", \"9\", \"10\", \"11\", \"12\", \"13\", \"14\", \"15\", \"16\", \"17\", \"18\", \"19\", \"20\", \"21\", \"22\", \"23\", \"24\", \"25\", \"26\", \"27\", \"28\", \"30\", \"31\", \"32\", \"33\", \"34\", \"36\", \"37\"], \"mode\": \"markers\", \"name\": \"average_precision_score_weighted\", \"stepped\": false, \"type\": \"scatter\", \"data\": [0.900550225111521, 0.8980318135168526, 0.9060615631848006, 0.9106978722137967, 0.9165724930327235, 0.7961912034280136, 0.7852364777985607, 0.9122838698023708, 0.9032805709733502, 0.8857311806456696, 0.9163065458672938, 0.9170128720238855, 0.9102184084568317, 0.9172221277124658, 0.9064810395534593, 0.9177066906904349, 0.9078437627233686, 0.8713815297187123, 0.9031542954002703, 0.8965236164612174, 0.8901313740645662, 0.8970683475393102, 0.9004980996217332, 0.8985221057608118, 0.9044786866816367, 0.5995574303686558, 0.857962333537826, 0.8930577024351756, 0.9007345767366125, 0.8850424625457413, 0.6300211809286645, 0.9107138957669332, 0.8728040313637934, 0.9113619404603173, 0.9180181471609912, 0.9171194449731713]}, {\"categories\": [\"0\", \"1\", \"2\", \"3\", \"4\", \"5\", \"6\", \"7\", \"8\", \"9\", \"10\", \"11\", \"12\", \"13\", \"14\", \"15\", \"16\", \"17\", \"18\", \"19\", \"20\", \"21\", \"22\", \"23\", \"24\", \"25\", \"26\", \"27\", \"28\", \"30\", \"31\", \"32\", \"33\", \"34\", \"36\", \"37\"], \"mode\": \"lines\", \"name\": \"average_precision_score_weighted_max\", \"stepped\": true, \"type\": \"scatter\", \"data\": [0.900550225111521, 0.900550225111521, 0.9060615631848006, 0.9106978722137967, 0.9165724930327235, 0.9165724930327235, 0.9165724930327235, 0.9165724930327235, 0.9165724930327235, 0.9165724930327235, 0.9165724930327235, 0.9170128720238855, 0.9170128720238855, 0.9172221277124658, 0.9172221277124658, 0.9177066906904349, 0.9177066906904349, 0.9177066906904349, 0.9177066906904349, 0.9177066906904349, 0.9177066906904349, 0.9177066906904349, 0.9177066906904349, 0.9177066906904349, 0.9177066906904349, 0.9177066906904349, 0.9177066906904349, 0.9177066906904349, 0.9177066906904349, 0.9177066906904349, 0.9177066906904349, 0.9177066906904349, 0.9177066906904349, 0.9177066906904349, 0.9180181471609912, 0.9180181471609912]}], \"recall_score_macro\": [{\"categories\": [\"0\", \"1\", \"2\", \"3\", \"4\", \"5\", \"6\", \"7\", \"8\", \"9\", \"10\", \"11\", \"12\", \"13\", \"14\", \"15\", \"16\", \"17\", \"18\", \"19\", \"20\", \"21\", \"22\", \"23\", \"24\", \"25\", \"26\", \"27\", \"28\", \"30\", \"31\", \"32\", \"33\", \"34\", \"36\", \"37\"], \"mode\": \"markers\", \"name\": \"recall_score_macro\", \"stepped\": false, \"type\": \"scatter\", \"data\": [0.7710687923187924, 0.7915456765456765, 0.7885146797646797, 0.8126200188700189, 0.8113152125652127, 0.6742995892995893, 0.6713486513486513, 0.8014541014541015, 0.7943065268065268, 0.7241516816516818, 0.7992174492174492, 0.8043906093906094, 0.7871438283938283, 0.7867127317127316, 0.7832549395049394, 0.7958978521478521, 0.7918462093462093, 0.7728628316128316, 0.744261433011433, 0.7690821678321678, 0.7616423853923854, 0.7838159063159063, 0.7967235542235542, 0.7747538572538574, 0.8139006826506826, 0.5330784493284493, 0.7530522255522255, 0.7985421522921522, 0.67243228993229, 0.6911441336441337, 0.545672521922522, 0.7986763236763237, 0.7738830613830613, 0.7804313741813742, 0.8268401043401044, 0.8210320235320235]}, {\"categories\": [\"0\", \"1\", \"2\", \"3\", \"4\", \"5\", \"6\", \"7\", \"8\", \"9\", \"10\", \"11\", \"12\", \"13\", \"14\", \"15\", \"16\", \"17\", \"18\", \"19\", \"20\", \"21\", \"22\", \"23\", \"24\", \"25\", \"26\", \"27\", \"28\", \"30\", \"31\", \"32\", \"33\", \"34\", \"36\", \"37\"], \"mode\": \"lines\", \"name\": \"recall_score_macro_max\", \"stepped\": true, \"type\": \"scatter\", \"data\": [0.7710687923187924, 0.7915456765456765, 0.7915456765456765, 0.8126200188700189, 0.8126200188700189, 0.8126200188700189, 0.8126200188700189, 0.8126200188700189, 0.8126200188700189, 0.8126200188700189, 0.8126200188700189, 0.8126200188700189, 0.8126200188700189, 0.8126200188700189, 0.8126200188700189, 0.8126200188700189, 0.8126200188700189, 0.8126200188700189, 0.8126200188700189, 0.8126200188700189, 0.8126200188700189, 0.8126200188700189, 0.8126200188700189, 0.8126200188700189, 0.8139006826506826, 0.8139006826506826, 0.8139006826506826, 0.8139006826506826, 0.8139006826506826, 0.8139006826506826, 0.8139006826506826, 0.8139006826506826, 0.8139006826506826, 0.8139006826506826, 0.8268401043401044, 0.8268401043401044]}], \"norm_macro_recall\": [{\"categories\": [\"0\", \"1\", \"2\", \"3\", \"4\", \"5\", \"6\", \"7\", \"8\", \"9\", \"10\", \"11\", \"12\", \"13\", \"14\", \"15\", \"16\", \"17\", \"18\", \"19\", \"20\", \"21\", \"22\", \"23\", \"24\", \"25\", \"26\", \"27\", \"28\", \"30\", \"31\", \"32\", \"33\", \"34\", \"36\", \"37\"], \"mode\": \"markers\", \"name\": \"norm_macro_recall\", \"stepped\": false, \"type\": \"scatter\", \"data\": [0.5421375846375847, 0.5830913530913532, 0.5770293595293594, 0.6252400377400378, 0.6226304251304252, 0.3485991785991786, 0.34269730269730275, 0.6029082029082029, 0.5886130536130536, 0.44830336330336334, 0.5984348984348984, 0.6087812187812187, 0.5742876567876567, 0.5734254634254634, 0.5665098790098789, 0.5917957042957044, 0.5836924186924187, 0.5457256632256633, 0.488522866022866, 0.5381643356643357, 0.5232847707847708, 0.5676318126318127, 0.5934471084471086, 0.5495077145077144, 0.6278013653013652, 0.0858394383394383, 0.506104451104451, 0.5970843045843046, 0.34486457986457986, 0.38228826728826726, 0.09134504384504387, 0.5973526473526474, 0.5477661227661227, 0.5608627483627484, 0.6536802086802087, 0.6420640470640471]}, {\"categories\": [\"0\", \"1\", \"2\", \"3\", \"4\", \"5\", \"6\", \"7\", \"8\", \"9\", \"10\", \"11\", \"12\", \"13\", \"14\", \"15\", \"16\", \"17\", \"18\", \"19\", \"20\", \"21\", \"22\", \"23\", \"24\", \"25\", \"26\", \"27\", \"28\", \"30\", \"31\", \"32\", \"33\", \"34\", \"36\", \"37\"], \"mode\": \"lines\", \"name\": \"norm_macro_recall_max\", \"stepped\": true, \"type\": \"scatter\", \"data\": [0.5421375846375847, 0.5830913530913532, 0.5830913530913532, 0.6252400377400378, 0.6252400377400378, 0.6252400377400378, 0.6252400377400378, 0.6252400377400378, 0.6252400377400378, 0.6252400377400378, 0.6252400377400378, 0.6252400377400378, 0.6252400377400378, 0.6252400377400378, 0.6252400377400378, 0.6252400377400378, 0.6252400377400378, 0.6252400377400378, 0.6252400377400378, 0.6252400377400378, 0.6252400377400378, 0.6252400377400378, 0.6252400377400378, 0.6252400377400378, 0.6278013653013652, 0.6278013653013652, 0.6278013653013652, 0.6278013653013652, 0.6278013653013652, 0.6278013653013652, 0.6278013653013652, 0.6278013653013652, 0.6278013653013652, 0.6278013653013652, 0.6536802086802087, 0.6536802086802087]}], \"average_precision_score_macro\": [{\"categories\": [\"0\", \"1\", \"2\", \"3\", \"4\", \"5\", \"6\", \"7\", \"8\", \"9\", \"10\", \"11\", \"12\", \"13\", \"14\", \"15\", \"16\", \"17\", \"18\", \"19\", \"20\", \"21\", \"22\", \"23\", \"24\", \"25\", \"26\", \"27\", \"28\", \"30\", \"31\", \"32\", \"33\", \"34\", \"36\", \"37\"], \"mode\": \"markers\", \"name\": \"average_precision_score_macro\", \"stepped\": false, \"type\": \"scatter\", \"data\": [0.8755787666059834, 0.8678012658343748, 0.8847011823532492, 0.8806280676189939, 0.8907706948586336, 0.7525455395059302, 0.7386989815216215, 0.8848804789839579, 0.8793309397979133, 0.8498447482809928, 0.8923195412742884, 0.8963189414273038, 0.8858741228812657, 0.893143960511906, 0.8796245296891007, 0.893875823364118, 0.8805257415325421, 0.8387271471990534, 0.8787740041771765, 0.8683444136515129, 0.8612863873152715, 0.869260462771245, 0.8735291665483607, 0.8767645813357227, 0.8800278956431068, 0.5331485879085144, 0.8252408056001729, 0.8721795538816103, 0.873369863781208, 0.8625869452402913, 0.5805735886151013, 0.8866308002236194, 0.8467881391051126, 0.8889402763727704, 0.892337558633202, 0.8921239094669744]}, {\"categories\": [\"0\", \"1\", \"2\", \"3\", \"4\", \"5\", \"6\", \"7\", \"8\", \"9\", \"10\", \"11\", \"12\", \"13\", \"14\", \"15\", \"16\", \"17\", \"18\", \"19\", \"20\", \"21\", \"22\", \"23\", \"24\", \"25\", \"26\", \"27\", \"28\", \"30\", \"31\", \"32\", \"33\", \"34\", \"36\", \"37\"], \"mode\": \"lines\", \"name\": \"average_precision_score_macro_max\", \"stepped\": true, \"type\": \"scatter\", \"data\": [0.8755787666059834, 0.8755787666059834, 0.8847011823532492, 0.8847011823532492, 0.8907706948586336, 0.8907706948586336, 0.8907706948586336, 0.8907706948586336, 0.8907706948586336, 0.8907706948586336, 0.8923195412742884, 0.8963189414273038, 0.8963189414273038, 0.8963189414273038, 0.8963189414273038, 0.8963189414273038, 0.8963189414273038, 0.8963189414273038, 0.8963189414273038, 0.8963189414273038, 0.8963189414273038, 0.8963189414273038, 0.8963189414273038, 0.8963189414273038, 0.8963189414273038, 0.8963189414273038, 0.8963189414273038, 0.8963189414273038, 0.8963189414273038, 0.8963189414273038, 0.8963189414273038, 0.8963189414273038, 0.8963189414273038, 0.8963189414273038, 0.8963189414273038, 0.8963189414273038]}], \"precision_score_micro\": [{\"categories\": [\"0\", \"1\", \"2\", \"3\", \"4\", \"5\", \"6\", \"7\", \"8\", \"9\", \"10\", \"11\", \"12\", \"13\", \"14\", \"15\", \"16\", \"17\", \"18\", \"19\", \"20\", \"21\", \"22\", \"23\", \"24\", \"25\", \"26\", \"27\", \"28\", \"30\", \"31\", \"32\", \"33\", \"34\", \"36\", \"37\"], \"mode\": \"markers\", \"name\": \"precision_score_micro\", \"stepped\": false, \"type\": \"scatter\", \"data\": [0.8141509433962264, 0.8331640058055152, 0.8179970972423802, 0.8521044992743105, 0.8407111756168361, 0.7537735849056604, 0.7538461538461538, 0.8407837445573294, 0.8333817126269956, 0.7955007256894049, 0.8369375907111756, 0.8484034833091437, 0.8447024673439769, 0.8333091436865022, 0.837155297532656, 0.8216981132075473, 0.8369375907111756, 0.8067489114658926, 0.8105950653120464, 0.810377358490566, 0.8181422351233671, 0.8333091436865022, 0.8369375907111756, 0.8256894049346879, 0.8445573294629899, 0.5792452830188679, 0.7613933236574746, 0.8182873730043541, 0.7841799709724239, 0.776632801161103, 0.6515239477503628, 0.8369375907111756, 0.8144412191582002, 0.8255442670537011, 0.8711175616835994, 0.8634978229317852]}, {\"categories\": [\"0\", \"1\", \"2\", \"3\", \"4\", \"5\", \"6\", \"7\", \"8\", \"9\", \"10\", \"11\", \"12\", \"13\", \"14\", \"15\", \"16\", \"17\", \"18\", \"19\", \"20\", \"21\", \"22\", \"23\", \"24\", \"25\", \"26\", \"27\", \"28\", \"30\", \"31\", \"32\", \"33\", \"34\", \"36\", \"37\"], \"mode\": \"lines\", \"name\": \"precision_score_micro_max\", \"stepped\": true, \"type\": \"scatter\", \"data\": [0.8141509433962264, 0.8331640058055152, 0.8331640058055152, 0.8521044992743105, 0.8521044992743105, 0.8521044992743105, 0.8521044992743105, 0.8521044992743105, 0.8521044992743105, 0.8521044992743105, 0.8521044992743105, 0.8521044992743105, 0.8521044992743105, 0.8521044992743105, 0.8521044992743105, 0.8521044992743105, 0.8521044992743105, 0.8521044992743105, 0.8521044992743105, 0.8521044992743105, 0.8521044992743105, 0.8521044992743105, 0.8521044992743105, 0.8521044992743105, 0.8521044992743105, 0.8521044992743105, 0.8521044992743105, 0.8521044992743105, 0.8521044992743105, 0.8521044992743105, 0.8521044992743105, 0.8521044992743105, 0.8521044992743105, 0.8521044992743105, 0.8711175616835994, 0.8711175616835994]}], \"f1_score_weighted\": [{\"categories\": [\"0\", \"1\", \"2\", \"3\", \"4\", \"5\", \"6\", \"7\", \"8\", \"9\", \"10\", \"11\", \"12\", \"13\", \"14\", \"15\", \"16\", \"17\", \"18\", \"19\", \"20\", \"21\", \"22\", \"23\", \"24\", \"25\", \"26\", \"27\", \"28\", \"30\", \"31\", \"32\", \"33\", \"34\", \"36\", \"37\"], \"mode\": \"markers\", \"name\": \"f1_score_weighted\", \"stepped\": false, \"type\": \"scatter\", \"data\": [0.8105957923417584, 0.8302120086000215, 0.8173859851864578, 0.8493326006028876, 0.8398801236133486, 0.7340264061255255, 0.7293469933038942, 0.8370548901620113, 0.8301524232272515, 0.7831262968418681, 0.8330832452057557, 0.8428470098052443, 0.8349297516741588, 0.8286290213898709, 0.828343638408084, 0.8206136988103193, 0.8320184412556368, 0.8049911725964776, 0.7979950964865573, 0.8062186373390375, 0.8105804326749132, 0.8272608240986832, 0.8329954924127116, 0.8180652519013044, 0.843305557065557, 0.5518910767631522, 0.7666598636274309, 0.8178292552779638, 0.7486273816097191, 0.7502204682525131, 0.6204713751668509, 0.8336262549687138, 0.8097122659417298, 0.8208099059176293, 0.8655429865775709, 0.8588994158166339]}, {\"categories\": [\"0\", \"1\", \"2\", \"3\", \"4\", \"5\", \"6\", \"7\", \"8\", \"9\", \"10\", \"11\", \"12\", \"13\", \"14\", \"15\", \"16\", \"17\", \"18\", \"19\", \"20\", \"21\", \"22\", \"23\", \"24\", \"25\", \"26\", \"27\", \"28\", \"30\", \"31\", \"32\", \"33\", \"34\", \"36\", \"37\"], \"mode\": \"lines\", \"name\": \"f1_score_weighted_max\", \"stepped\": true, \"type\": \"scatter\", \"data\": [0.8105957923417584, 0.8302120086000215, 0.8302120086000215, 0.8493326006028876, 0.8493326006028876, 0.8493326006028876, 0.8493326006028876, 0.8493326006028876, 0.8493326006028876, 0.8493326006028876, 0.8493326006028876, 0.8493326006028876, 0.8493326006028876, 0.8493326006028876, 0.8493326006028876, 0.8493326006028876, 0.8493326006028876, 0.8493326006028876, 0.8493326006028876, 0.8493326006028876, 0.8493326006028876, 0.8493326006028876, 0.8493326006028876, 0.8493326006028876, 0.8493326006028876, 0.8493326006028876, 0.8493326006028876, 0.8493326006028876, 0.8493326006028876, 0.8493326006028876, 0.8493326006028876, 0.8493326006028876, 0.8493326006028876, 0.8493326006028876, 0.8655429865775709, 0.8655429865775709]}], \"recall_score_weighted\": [{\"categories\": [\"0\", \"1\", \"2\", \"3\", \"4\", \"5\", \"6\", \"7\", \"8\", \"9\", \"10\", \"11\", \"12\", \"13\", \"14\", \"15\", \"16\", \"17\", \"18\", \"19\", \"20\", \"21\", \"22\", \"23\", \"24\", \"25\", \"26\", \"27\", \"28\", \"30\", \"31\", \"32\", \"33\", \"34\", \"36\", \"37\"], \"mode\": \"markers\", \"name\": \"recall_score_weighted\", \"stepped\": false, \"type\": \"scatter\", \"data\": [0.8141509433962264, 0.8331640058055152, 0.8179970972423802, 0.8521044992743105, 0.8407111756168361, 0.7537735849056604, 0.7538461538461538, 0.8407837445573294, 0.8333817126269956, 0.7955007256894049, 0.8369375907111756, 0.8484034833091437, 0.8447024673439769, 0.8333091436865022, 0.837155297532656, 0.8216981132075473, 0.8369375907111756, 0.8067489114658926, 0.8105950653120464, 0.810377358490566, 0.8181422351233671, 0.8333091436865022, 0.8369375907111756, 0.8256894049346879, 0.8445573294629899, 0.5792452830188679, 0.7613933236574746, 0.8182873730043541, 0.7841799709724239, 0.776632801161103, 0.6515239477503628, 0.8369375907111756, 0.8144412191582002, 0.8255442670537011, 0.8711175616835994, 0.8634978229317852]}, {\"categories\": [\"0\", \"1\", \"2\", \"3\", \"4\", \"5\", \"6\", \"7\", \"8\", \"9\", \"10\", \"11\", \"12\", \"13\", \"14\", \"15\", \"16\", \"17\", \"18\", \"19\", \"20\", \"21\", \"22\", \"23\", \"24\", \"25\", \"26\", \"27\", \"28\", \"30\", \"31\", \"32\", \"33\", \"34\", \"36\", \"37\"], \"mode\": \"lines\", \"name\": \"recall_score_weighted_max\", \"stepped\": true, \"type\": \"scatter\", \"data\": [0.8141509433962264, 0.8331640058055152, 0.8331640058055152, 0.8521044992743105, 0.8521044992743105, 0.8521044992743105, 0.8521044992743105, 0.8521044992743105, 0.8521044992743105, 0.8521044992743105, 0.8521044992743105, 0.8521044992743105, 0.8521044992743105, 0.8521044992743105, 0.8521044992743105, 0.8521044992743105, 0.8521044992743105, 0.8521044992743105, 0.8521044992743105, 0.8521044992743105, 0.8521044992743105, 0.8521044992743105, 0.8521044992743105, 0.8521044992743105, 0.8521044992743105, 0.8521044992743105, 0.8521044992743105, 0.8521044992743105, 0.8521044992743105, 0.8521044992743105, 0.8521044992743105, 0.8521044992743105, 0.8521044992743105, 0.8521044992743105, 0.8711175616835994, 0.8711175616835994]}], \"balanced_accuracy\": [{\"categories\": [\"0\", \"1\", \"2\", \"3\", \"4\", \"5\", \"6\", \"7\", \"8\", \"9\", \"10\", \"11\", \"12\", \"13\", \"14\", \"15\", \"16\", \"17\", \"18\", \"19\", \"20\", \"21\", \"22\", \"23\", \"24\", \"25\", \"26\", \"27\", \"28\", \"30\", \"31\", \"32\", \"33\", \"34\", \"36\", \"37\"], \"mode\": \"markers\", \"name\": \"balanced_accuracy\", \"stepped\": false, \"type\": \"scatter\", \"data\": [0.7710687923187924, 0.7915456765456765, 0.7885146797646797, 0.8126200188700189, 0.8113152125652127, 0.6742995892995893, 0.6713486513486513, 0.8014541014541015, 0.7943065268065268, 0.7241516816516818, 0.7992174492174492, 0.8043906093906094, 0.7871438283938283, 0.7867127317127316, 0.7832549395049394, 0.7958978521478521, 0.7918462093462093, 0.7728628316128316, 0.744261433011433, 0.7690821678321678, 0.7616423853923854, 0.7838159063159063, 0.7967235542235542, 0.7747538572538574, 0.8139006826506826, 0.5330784493284493, 0.7530522255522255, 0.7985421522921522, 0.67243228993229, 0.6911441336441337, 0.545672521922522, 0.7986763236763237, 0.7738830613830613, 0.7804313741813742, 0.8268401043401044, 0.8210320235320235]}, {\"categories\": [\"0\", \"1\", \"2\", \"3\", \"4\", \"5\", \"6\", \"7\", \"8\", \"9\", \"10\", \"11\", \"12\", \"13\", \"14\", \"15\", \"16\", \"17\", \"18\", \"19\", \"20\", \"21\", \"22\", \"23\", \"24\", \"25\", \"26\", \"27\", \"28\", \"30\", \"31\", \"32\", \"33\", \"34\", \"36\", \"37\"], \"mode\": \"lines\", \"name\": \"balanced_accuracy_max\", \"stepped\": true, \"type\": \"scatter\", \"data\": [0.7710687923187924, 0.7915456765456765, 0.7915456765456765, 0.8126200188700189, 0.8126200188700189, 0.8126200188700189, 0.8126200188700189, 0.8126200188700189, 0.8126200188700189, 0.8126200188700189, 0.8126200188700189, 0.8126200188700189, 0.8126200188700189, 0.8126200188700189, 0.8126200188700189, 0.8126200188700189, 0.8126200188700189, 0.8126200188700189, 0.8126200188700189, 0.8126200188700189, 0.8126200188700189, 0.8126200188700189, 0.8126200188700189, 0.8126200188700189, 0.8139006826506826, 0.8139006826506826, 0.8139006826506826, 0.8139006826506826, 0.8139006826506826, 0.8139006826506826, 0.8139006826506826, 0.8139006826506826, 0.8139006826506826, 0.8139006826506826, 0.8268401043401044, 0.8268401043401044]}], \"AUC_macro\": [{\"categories\": [\"0\", \"1\", \"2\", \"3\", \"4\", \"5\", \"6\", \"7\", \"8\", \"9\", \"10\", \"11\", \"12\", \"13\", \"14\", \"15\", \"16\", \"17\", \"18\", \"19\", \"20\", \"21\", \"22\", \"23\", \"24\", \"25\", \"26\", \"27\", \"28\", \"30\", \"31\", \"32\", \"33\", \"34\", \"36\", \"37\"], \"mode\": \"markers\", \"name\": \"AUC_macro\", \"stepped\": false, \"type\": \"scatter\", \"data\": [0.8880337717837719, 0.8887721306471306, 0.8952119408369409, 0.9080683205683207, 0.9090261127761128, 0.7651110001110001, 0.7513118131868133, 0.9049397824397823, 0.89583812021312, 0.8923641636141635, 0.9088438644688643, 0.9057971195471195, 0.8988681457431458, 0.9062984931734931, 0.9002011877011876, 0.9148005466755466, 0.9021765040515041, 0.8652583527583527, 0.8939657217782218, 0.8869588050838051, 0.8760958832833833, 0.8924962537462537, 0.8876227244977244, 0.8897750860250861, 0.88764319014319, 0.5371200674325675, 0.8308834221334221, 0.8772879204129204, 0.8890221583971585, 0.8600940725940726, 0.5396704684204685, 0.9029584998334999, 0.8599131771006772, 0.90280028998779, 0.9122150072150073, 0.9103476384726384]}, {\"categories\": [\"0\", \"1\", \"2\", \"3\", \"4\", \"5\", \"6\", \"7\", \"8\", \"9\", \"10\", \"11\", \"12\", \"13\", \"14\", \"15\", \"16\", \"17\", \"18\", \"19\", \"20\", \"21\", \"22\", \"23\", \"24\", \"25\", \"26\", \"27\", \"28\", \"30\", \"31\", \"32\", \"33\", \"34\", \"36\", \"37\"], \"mode\": \"lines\", \"name\": \"AUC_macro_max\", \"stepped\": true, \"type\": \"scatter\", \"data\": [0.8880337717837719, 0.8887721306471306, 0.8952119408369409, 0.9080683205683207, 0.9090261127761128, 0.9090261127761128, 0.9090261127761128, 0.9090261127761128, 0.9090261127761128, 0.9090261127761128, 0.9090261127761128, 0.9090261127761128, 0.9090261127761128, 0.9090261127761128, 0.9090261127761128, 0.9148005466755466, 0.9148005466755466, 0.9148005466755466, 0.9148005466755466, 0.9148005466755466, 0.9148005466755466, 0.9148005466755466, 0.9148005466755466, 0.9148005466755466, 0.9148005466755466, 0.9148005466755466, 0.9148005466755466, 0.9148005466755466, 0.9148005466755466, 0.9148005466755466, 0.9148005466755466, 0.9148005466755466, 0.9148005466755466, 0.9148005466755466, 0.9148005466755466, 0.9148005466755466]}], \"recall_score_micro\": [{\"categories\": [\"0\", \"1\", \"2\", \"3\", \"4\", \"5\", \"6\", \"7\", \"8\", \"9\", \"10\", \"11\", \"12\", \"13\", \"14\", \"15\", \"16\", \"17\", \"18\", \"19\", \"20\", \"21\", \"22\", \"23\", \"24\", \"25\", \"26\", \"27\", \"28\", \"30\", \"31\", \"32\", \"33\", \"34\", \"36\", \"37\"], \"mode\": \"markers\", \"name\": \"recall_score_micro\", \"stepped\": false, \"type\": \"scatter\", \"data\": [0.8141509433962264, 0.8331640058055152, 0.8179970972423802, 0.8521044992743105, 0.8407111756168361, 0.7537735849056604, 0.7538461538461538, 0.8407837445573294, 0.8333817126269956, 0.7955007256894049, 0.8369375907111756, 0.8484034833091437, 0.8447024673439769, 0.8333091436865022, 0.837155297532656, 0.8216981132075473, 0.8369375907111756, 0.8067489114658926, 0.8105950653120464, 0.810377358490566, 0.8181422351233671, 0.8333091436865022, 0.8369375907111756, 0.8256894049346879, 0.8445573294629899, 0.5792452830188679, 0.7613933236574746, 0.8182873730043541, 0.7841799709724239, 0.776632801161103, 0.6515239477503628, 0.8369375907111756, 0.8144412191582002, 0.8255442670537011, 0.8711175616835994, 0.8634978229317852]}, {\"categories\": [\"0\", \"1\", \"2\", \"3\", \"4\", \"5\", \"6\", \"7\", \"8\", \"9\", \"10\", \"11\", \"12\", \"13\", \"14\", \"15\", \"16\", \"17\", \"18\", \"19\", \"20\", \"21\", \"22\", \"23\", \"24\", \"25\", \"26\", \"27\", \"28\", \"30\", \"31\", \"32\", \"33\", \"34\", \"36\", \"37\"], \"mode\": \"lines\", \"name\": \"recall_score_micro_max\", \"stepped\": true, \"type\": \"scatter\", \"data\": [0.8141509433962264, 0.8331640058055152, 0.8331640058055152, 0.8521044992743105, 0.8521044992743105, 0.8521044992743105, 0.8521044992743105, 0.8521044992743105, 0.8521044992743105, 0.8521044992743105, 0.8521044992743105, 0.8521044992743105, 0.8521044992743105, 0.8521044992743105, 0.8521044992743105, 0.8521044992743105, 0.8521044992743105, 0.8521044992743105, 0.8521044992743105, 0.8521044992743105, 0.8521044992743105, 0.8521044992743105, 0.8521044992743105, 0.8521044992743105, 0.8521044992743105, 0.8521044992743105, 0.8521044992743105, 0.8521044992743105, 0.8521044992743105, 0.8521044992743105, 0.8521044992743105, 0.8521044992743105, 0.8521044992743105, 0.8521044992743105, 0.8711175616835994, 0.8711175616835994]}], \"weighted_accuracy\": [{\"categories\": [\"0\", \"1\", \"2\", \"3\", \"4\", \"5\", \"6\", \"7\", \"8\", \"9\", \"10\", \"11\", \"12\", \"13\", \"14\", \"15\", \"16\", \"17\", \"18\", \"19\", \"20\", \"21\", \"22\", \"23\", \"24\", \"25\", \"26\", \"27\", \"28\", \"30\", \"31\", \"32\", \"33\", \"34\", \"36\", \"37\"], \"mode\": \"markers\", \"name\": \"weighted_accuracy\", \"stepped\": false, \"type\": \"scatter\", \"data\": [0.8458131036400944, 0.8628114094723962, 0.8391582879336743, 0.881556470087306, 0.8628080326424261, 0.8141423105393925, 0.8165439452534082, 0.870260983021336, 0.862487793860485, 0.8482779867458126, 0.8657017783624001, 0.8816141673171571, 0.8881299627849835, 0.8679711284682157, 0.8783607315113002, 0.8417620160040876, 0.8706896964064497, 0.8323901653844776, 0.861805507130119, 0.8420095108458542, 0.8605999159376951, 0.8705250951442768, 0.8665593859437971, 0.8640106659802355, 0.8668278553540132, 0.6165925952693025, 0.7679245547733654, 0.8342393476654877, 0.8660577698273093, 0.841939330695079, 0.7305138807911306, 0.8656218077636041, 0.8466047574724659, 0.860205819738189, 0.9042888417514913, 0.8952171614568218]}, {\"categories\": [\"0\", \"1\", \"2\", \"3\", \"4\", \"5\", \"6\", \"7\", \"8\", \"9\", \"10\", \"11\", \"12\", \"13\", \"14\", \"15\", \"16\", \"17\", \"18\", \"19\", \"20\", \"21\", \"22\", \"23\", \"24\", \"25\", \"26\", \"27\", \"28\", \"30\", \"31\", \"32\", \"33\", \"34\", \"36\", \"37\"], \"mode\": \"lines\", \"name\": \"weighted_accuracy_max\", \"stepped\": true, \"type\": \"scatter\", \"data\": [0.8458131036400944, 0.8628114094723962, 0.8628114094723962, 0.881556470087306, 0.881556470087306, 0.881556470087306, 0.881556470087306, 0.881556470087306, 0.881556470087306, 0.881556470087306, 0.881556470087306, 0.8816141673171571, 0.8881299627849835, 0.8881299627849835, 0.8881299627849835, 0.8881299627849835, 0.8881299627849835, 0.8881299627849835, 0.8881299627849835, 0.8881299627849835, 0.8881299627849835, 0.8881299627849835, 0.8881299627849835, 0.8881299627849835, 0.8881299627849835, 0.8881299627849835, 0.8881299627849835, 0.8881299627849835, 0.8881299627849835, 0.8881299627849835, 0.8881299627849835, 0.8881299627849835, 0.8881299627849835, 0.8881299627849835, 0.9042888417514913, 0.9042888417514913]}], \"AUC_micro\": [{\"categories\": [\"0\", \"1\", \"2\", \"3\", \"4\", \"5\", \"6\", \"7\", \"8\", \"9\", \"10\", \"11\", \"12\", \"13\", \"14\", \"15\", \"16\", \"17\", \"18\", \"19\", \"20\", \"21\", \"22\", \"23\", \"24\", \"25\", \"26\", \"27\", \"28\", \"30\", \"31\", \"32\", \"33\", \"34\", \"36\", \"37\"], \"mode\": \"markers\", \"name\": \"AUC_micro\", \"stepped\": false, \"type\": \"scatter\", \"data\": [0.9051060780963978, 0.9068418344669817, 0.9125156670970949, 0.9167980245238783, 0.9205038591088239, 0.8094842154655051, 0.8006613226505674, 0.9158350905057919, 0.9111718777976959, 0.8929392211425238, 0.917453330482536, 0.9159477619485973, 0.9096835825674449, 0.9160687277369235, 0.9089722700280797, 0.9216105617826049, 0.9180118690767841, 0.8868388748338498, 0.8906642796505737, 0.9004276459225524, 0.8909262756440098, 0.9050320872681006, 0.9053659675893841, 0.9049719730115162, 0.8972617074028746, 0.596232234301832, 0.8434430433875898, 0.8937023535929525, 0.8816377935671689, 0.8728422589268222, 0.6757788785412906, 0.9125661441141218, 0.8825385331594768, 0.9158523901407353, 0.9224338611521293, 0.9212697826723486]}, {\"categories\": [\"0\", \"1\", \"2\", \"3\", \"4\", \"5\", \"6\", \"7\", \"8\", \"9\", \"10\", \"11\", \"12\", \"13\", \"14\", \"15\", \"16\", \"17\", \"18\", \"19\", \"20\", \"21\", \"22\", \"23\", \"24\", \"25\", \"26\", \"27\", \"28\", \"30\", \"31\", \"32\", \"33\", \"34\", \"36\", \"37\"], \"mode\": \"lines\", \"name\": \"AUC_micro_max\", \"stepped\": true, \"type\": \"scatter\", \"data\": [0.9051060780963978, 0.9068418344669817, 0.9125156670970949, 0.9167980245238783, 0.9205038591088239, 0.9205038591088239, 0.9205038591088239, 0.9205038591088239, 0.9205038591088239, 0.9205038591088239, 0.9205038591088239, 0.9205038591088239, 0.9205038591088239, 0.9205038591088239, 0.9205038591088239, 0.9216105617826049, 0.9216105617826049, 0.9216105617826049, 0.9216105617826049, 0.9216105617826049, 0.9216105617826049, 0.9216105617826049, 0.9216105617826049, 0.9216105617826049, 0.9216105617826049, 0.9216105617826049, 0.9216105617826049, 0.9216105617826049, 0.9216105617826049, 0.9216105617826049, 0.9216105617826049, 0.9216105617826049, 0.9216105617826049, 0.9216105617826049, 0.9224338611521293, 0.9224338611521293]}], \"average_precision_score_micro\": [{\"categories\": [\"0\", \"1\", \"2\", \"3\", \"4\", \"5\", \"6\", \"7\", \"8\", \"9\", \"10\", \"11\", \"12\", \"13\", \"14\", \"15\", \"16\", \"17\", \"18\", \"19\", \"20\", \"21\", \"22\", \"23\", \"24\", \"25\", \"26\", \"27\", \"28\", \"30\", \"31\", \"32\", \"33\", \"34\", \"36\", \"37\"], \"mode\": \"markers\", \"name\": \"average_precision_score_micro\", \"stepped\": false, \"type\": \"scatter\", \"data\": [0.9062636643633667, 0.9086147894688068, 0.9120533973697672, 0.9195190953409387, 0.9238389909910879, 0.807600868050461, 0.7996678330384576, 0.918950434428821, 0.9138393420377774, 0.8909318865579928, 0.9203915447786455, 0.9178599474771421, 0.9089263253624364, 0.9186901489345457, 0.9106114918068039, 0.9254759367142421, 0.9195628836457665, 0.8905385309218525, 0.892179360485026, 0.9062546622642038, 0.8949887508636006, 0.9028395065987876, 0.9070419493831421, 0.900554056583194, 0.8967687377242051, 0.6033854690251376, 0.8519450330744274, 0.8931070096461579, 0.8868126185913866, 0.8708058022325323, 0.6606689330258507, 0.9152777844795648, 0.8796755132314864, 0.9171078799672172, 0.9244642686473794, 0.9228066128903498]}, {\"categories\": [\"0\", \"1\", \"2\", \"3\", \"4\", \"5\", \"6\", \"7\", \"8\", \"9\", \"10\", \"11\", \"12\", \"13\", \"14\", \"15\", \"16\", \"17\", \"18\", \"19\", \"20\", \"21\", \"22\", \"23\", \"24\", \"25\", \"26\", \"27\", \"28\", \"30\", \"31\", \"32\", \"33\", \"34\", \"36\", \"37\"], \"mode\": \"lines\", \"name\": \"average_precision_score_micro_max\", \"stepped\": true, \"type\": \"scatter\", \"data\": [0.9062636643633667, 0.9086147894688068, 0.9120533973697672, 0.9195190953409387, 0.9238389909910879, 0.9238389909910879, 0.9238389909910879, 0.9238389909910879, 0.9238389909910879, 0.9238389909910879, 0.9238389909910879, 0.9238389909910879, 0.9238389909910879, 0.9238389909910879, 0.9238389909910879, 0.9254759367142421, 0.9254759367142421, 0.9254759367142421, 0.9254759367142421, 0.9254759367142421, 0.9254759367142421, 0.9254759367142421, 0.9254759367142421, 0.9254759367142421, 0.9254759367142421, 0.9254759367142421, 0.9254759367142421, 0.9254759367142421, 0.9254759367142421, 0.9254759367142421, 0.9254759367142421, 0.9254759367142421, 0.9254759367142421, 0.9254759367142421, 0.9254759367142421, 0.9254759367142421]}], \"precision_score_macro\": [{\"categories\": [\"0\", \"1\", \"2\", \"3\", \"4\", \"5\", \"6\", \"7\", \"8\", \"9\", \"10\", \"11\", \"12\", \"13\", \"14\", \"15\", \"16\", \"17\", \"18\", \"19\", \"20\", \"21\", \"22\", \"23\", \"24\", \"25\", \"26\", \"27\", \"28\", \"30\", \"31\", \"32\", \"33\", \"34\", \"36\", \"37\"], \"mode\": \"markers\", \"name\": \"precision_score_macro\", \"stepped\": false, \"type\": \"scatter\", \"data\": [0.7934017776936739, 0.8134084658363095, 0.7944837008452627, 0.8411678267469063, 0.8220940643463862, 0.7440704283152694, 0.7582575757575757, 0.8268882518160956, 0.8127170462356977, 0.7876554337723248, 0.8327175083353573, 0.8449343061289797, 0.8570012717820334, 0.8182765972983447, 0.8437252264045911, 0.8019791878601946, 0.8249897483618414, 0.7799326726532609, 0.8142554667554668, 0.783877873115678, 0.8070818015554858, 0.8236311249725883, 0.8254710481452007, 0.8204882629161065, 0.8242891918435398, 0.5021506764549217, 0.7323521108382858, 0.7925744048277255, 0.8515496442825636, 0.8048294906847537, 0.5696992853792653, 0.8226850418490859, 0.7947927511085406, 0.8101651172960544, 0.8721354693907459, 0.8610302045515461]}, {\"categories\": [\"0\", \"1\", \"2\", \"3\", \"4\", \"5\", \"6\", \"7\", \"8\", \"9\", \"10\", \"11\", \"12\", \"13\", \"14\", \"15\", \"16\", \"17\", \"18\", \"19\", \"20\", \"21\", \"22\", \"23\", \"24\", \"25\", \"26\", \"27\", \"28\", \"30\", \"31\", \"32\", \"33\", \"34\", \"36\", \"37\"], \"mode\": \"lines\", \"name\": \"precision_score_macro_max\", \"stepped\": true, \"type\": \"scatter\", \"data\": [0.7934017776936739, 0.8134084658363095, 0.8134084658363095, 0.8411678267469063, 0.8411678267469063, 0.8411678267469063, 0.8411678267469063, 0.8411678267469063, 0.8411678267469063, 0.8411678267469063, 0.8411678267469063, 0.8449343061289797, 0.8570012717820334, 0.8570012717820334, 0.8570012717820334, 0.8570012717820334, 0.8570012717820334, 0.8570012717820334, 0.8570012717820334, 0.8570012717820334, 0.8570012717820334, 0.8570012717820334, 0.8570012717820334, 0.8570012717820334, 0.8570012717820334, 0.8570012717820334, 0.8570012717820334, 0.8570012717820334, 0.8570012717820334, 0.8570012717820334, 0.8570012717820334, 0.8570012717820334, 0.8570012717820334, 0.8570012717820334, 0.8721354693907459, 0.8721354693907459]}], \"matthews_correlation\": [{\"categories\": [\"0\", \"1\", \"2\", \"3\", \"4\", \"5\", \"6\", \"7\", \"8\", \"9\", \"10\", \"11\", \"12\", \"13\", \"14\", \"15\", \"16\", \"17\", \"18\", \"19\", \"20\", \"21\", \"22\", \"23\", \"24\", \"25\", \"26\", \"27\", \"28\", \"30\", \"31\", \"32\", \"33\", \"34\", \"36\", \"37\"], \"mode\": \"markers\", \"name\": \"matthews_correlation\", \"stepped\": false, \"type\": \"scatter\", \"data\": [0.5635799427574373, 0.6042297669346134, 0.5825580318668134, 0.6523893280153745, 0.6328171054428767, 0.4084839750012483, 0.4087034325725404, 0.6271159782934294, 0.6066163731173769, 0.5059748118702007, 0.627960091011577, 0.6463370013722557, 0.6370786725097143, 0.6038865757685906, 0.6199600775595775, 0.5968025360280718, 0.614396226804381, 0.552625578143686, 0.5518673977585212, 0.5522355559604409, 0.5664948906143703, 0.6049571111865738, 0.619860636677229, 0.5908165624883934, 0.6374870820321151, 0.07171324707345858, 0.4846219951734373, 0.5902104439118864, 0.4827541752563441, 0.47061940031510086, 0.1122160326675236, 0.6200281028258854, 0.5676226379132994, 0.5889664302925673, 0.6961155822109046, 0.6799001326877474]}, {\"categories\": [\"0\", \"1\", \"2\", \"3\", \"4\", \"5\", \"6\", \"7\", \"8\", \"9\", \"10\", \"11\", \"12\", \"13\", \"14\", \"15\", \"16\", \"17\", \"18\", \"19\", \"20\", \"21\", \"22\", \"23\", \"24\", \"25\", \"26\", \"27\", \"28\", \"30\", \"31\", \"32\", \"33\", \"34\", \"36\", \"37\"], \"mode\": \"lines\", \"name\": \"matthews_correlation_max\", \"stepped\": true, \"type\": \"scatter\", \"data\": [0.5635799427574373, 0.6042297669346134, 0.6042297669346134, 0.6523893280153745, 0.6523893280153745, 0.6523893280153745, 0.6523893280153745, 0.6523893280153745, 0.6523893280153745, 0.6523893280153745, 0.6523893280153745, 0.6523893280153745, 0.6523893280153745, 0.6523893280153745, 0.6523893280153745, 0.6523893280153745, 0.6523893280153745, 0.6523893280153745, 0.6523893280153745, 0.6523893280153745, 0.6523893280153745, 0.6523893280153745, 0.6523893280153745, 0.6523893280153745, 0.6523893280153745, 0.6523893280153745, 0.6523893280153745, 0.6523893280153745, 0.6523893280153745, 0.6523893280153745, 0.6523893280153745, 0.6523893280153745, 0.6523893280153745, 0.6523893280153745, 0.6961155822109046, 0.6961155822109046]}], \"f1_score_macro\": [{\"categories\": [\"0\", \"1\", \"2\", \"3\", \"4\", \"5\", \"6\", \"7\", \"8\", \"9\", \"10\", \"11\", \"12\", \"13\", \"14\", \"15\", \"16\", \"17\", \"18\", \"19\", \"20\", \"21\", \"22\", \"23\", \"24\", \"25\", \"26\", \"27\", \"28\", \"30\", \"31\", \"32\", \"33\", \"34\", \"36\", \"37\"], \"mode\": \"markers\", \"name\": \"f1_score_macro\", \"stepped\": false, \"type\": \"scatter\", \"data\": [0.7782184493875648, 0.7993982807328195, 0.7885334530661855, 0.8216443106348841, 0.814130047638119, 0.6789260735046232, 0.6715197111971026, 0.8089640948995788, 0.8012297999192715, 0.7377212230714696, 0.8038200037051478, 0.814392198087415, 0.802312633212706, 0.7978524345896991, 0.7948912637598939, 0.7937183887370456, 0.8002418866758239, 0.7753307336545334, 0.757728352437566, 0.7729240318959903, 0.7757410453868523, 0.7946653431263231, 0.8029268295136817, 0.7834487175157188, 0.8157325416145549, 0.4930579136815581, 0.7373074369049192, 0.7913996336452753, 0.6835955906336066, 0.6948431601856667, 0.5371414839294262, 0.8053665977873772, 0.7792265818251817, 0.7888362408123377, 0.8401028782872089, 0.8333693736792279]}, {\"categories\": [\"0\", \"1\", \"2\", \"3\", \"4\", \"5\", \"6\", \"7\", \"8\", \"9\", \"10\", \"11\", \"12\", \"13\", \"14\", \"15\", \"16\", \"17\", \"18\", \"19\", \"20\", \"21\", \"22\", \"23\", \"24\", \"25\", \"26\", \"27\", \"28\", \"30\", \"31\", \"32\", \"33\", \"34\", \"36\", \"37\"], \"mode\": \"lines\", \"name\": \"f1_score_macro_max\", \"stepped\": true, \"type\": \"scatter\", \"data\": [0.7782184493875648, 0.7993982807328195, 0.7993982807328195, 0.8216443106348841, 0.8216443106348841, 0.8216443106348841, 0.8216443106348841, 0.8216443106348841, 0.8216443106348841, 0.8216443106348841, 0.8216443106348841, 0.8216443106348841, 0.8216443106348841, 0.8216443106348841, 0.8216443106348841, 0.8216443106348841, 0.8216443106348841, 0.8216443106348841, 0.8216443106348841, 0.8216443106348841, 0.8216443106348841, 0.8216443106348841, 0.8216443106348841, 0.8216443106348841, 0.8216443106348841, 0.8216443106348841, 0.8216443106348841, 0.8216443106348841, 0.8216443106348841, 0.8216443106348841, 0.8216443106348841, 0.8216443106348841, 0.8216443106348841, 0.8216443106348841, 0.8401028782872089, 0.8401028782872089]}], \"precision_score_weighted\": [{\"categories\": [\"0\", \"1\", \"2\", \"3\", \"4\", \"5\", \"6\", \"7\", \"8\", \"9\", \"10\", \"11\", \"12\", \"13\", \"14\", \"15\", \"16\", \"17\", \"18\", \"19\", \"20\", \"21\", \"22\", \"23\", \"24\", \"25\", \"26\", \"27\", \"28\", \"30\", \"31\", \"32\", \"33\", \"34\", \"36\", \"37\"], \"mode\": \"markers\", \"name\": \"precision_score_weighted\", \"stepped\": false, \"type\": \"scatter\", \"data\": [0.8134347020006804, 0.8320199118059257, 0.8217778933985065, 0.8547884569837073, 0.8431141982421263, 0.7614698571105796, 0.7699533171231284, 0.8415836701978868, 0.830660470821809, 0.7984595780103967, 0.8478241304056251, 0.8531793066559088, 0.8549463858811965, 0.831192148489777, 0.8477130827023014, 0.8278300054363263, 0.8397448047645503, 0.8049875280347271, 0.818741352986636, 0.8077546875499013, 0.8163632574605761, 0.8352580337641756, 0.8418370391999478, 0.832266258050286, 0.8474959638577358, 0.5718354299076976, 0.7802920009376739, 0.8236114466727406, 0.8200785971323883, 0.802737030430675, 0.6232642858727908, 0.8387177048534173, 0.8131475501302099, 0.8262204947747612, 0.8742449708361553, 0.8661095175695251]}, {\"categories\": [\"0\", \"1\", \"2\", \"3\", \"4\", \"5\", \"6\", \"7\", \"8\", \"9\", \"10\", \"11\", \"12\", \"13\", \"14\", \"15\", \"16\", \"17\", \"18\", \"19\", \"20\", \"21\", \"22\", \"23\", \"24\", \"25\", \"26\", \"27\", \"28\", \"30\", \"31\", \"32\", \"33\", \"34\", \"36\", \"37\"], \"mode\": \"lines\", \"name\": \"precision_score_weighted_max\", \"stepped\": true, \"type\": \"scatter\", \"data\": [0.8134347020006804, 0.8320199118059257, 0.8320199118059257, 0.8547884569837073, 0.8547884569837073, 0.8547884569837073, 0.8547884569837073, 0.8547884569837073, 0.8547884569837073, 0.8547884569837073, 0.8547884569837073, 0.8547884569837073, 0.8549463858811965, 0.8549463858811965, 0.8549463858811965, 0.8549463858811965, 0.8549463858811965, 0.8549463858811965, 0.8549463858811965, 0.8549463858811965, 0.8549463858811965, 0.8549463858811965, 0.8549463858811965, 0.8549463858811965, 0.8549463858811965, 0.8549463858811965, 0.8549463858811965, 0.8549463858811965, 0.8549463858811965, 0.8549463858811965, 0.8549463858811965, 0.8549463858811965, 0.8549463858811965, 0.8549463858811965, 0.8742449708361553, 0.8742449708361553]}], \"log_loss\": [{\"categories\": [\"0\", \"1\", \"2\", \"3\", \"4\", \"5\", \"6\", \"7\", \"8\", \"9\", \"10\", \"11\", \"12\", \"13\", \"14\", \"15\", \"16\", \"17\", \"18\", \"19\", \"20\", \"21\", \"22\", \"23\", \"24\", \"25\", \"26\", \"27\", \"28\", \"30\", \"31\", \"32\", \"33\", \"34\", \"36\", \"37\"], \"mode\": \"markers\", \"name\": \"log_loss\", \"stepped\": false, \"type\": \"scatter\", \"data\": [0.4483372303523039, 0.4163009392480482, 0.38398044851412516, 0.38650433292465974, 0.3795481715727794, 0.5379055654567881, 0.5438687884453903, 0.3710600299399811, 0.3877381645534923, 0.45198868828634825, 0.3627283403881659, 0.37933902663315583, 0.410609722515695, 0.38861890951139333, 0.42619725592617563, 0.3521702767178035, 0.37453216765998054, 0.48535870855675284, 0.4667041249987752, 0.40272290670702693, 0.5096108094996815, 0.48944089262605744, 0.3892097005027388, 0.3965906716616179, 0.4752383674235139, 0.6872664363524768, 0.6113825919848473, 0.5242509477443661, 0.4772780634958885, 0.4663715290748738, 0.8272158769423559, 0.3840905002874072, 0.5494761629046985, 0.3797166857084135, 0.38865243884899753, 0.36791685219204057]}, {\"categories\": [\"0\", \"1\", \"2\", \"3\", \"4\", \"5\", \"6\", \"7\", \"8\", \"9\", \"10\", \"11\", \"12\", \"13\", \"14\", \"15\", \"16\", \"17\", \"18\", \"19\", \"20\", \"21\", \"22\", \"23\", \"24\", \"25\", \"26\", \"27\", \"28\", \"30\", \"31\", \"32\", \"33\", \"34\", \"36\", \"37\"], \"mode\": \"lines\", \"name\": \"log_loss_min\", \"stepped\": true, \"type\": \"scatter\", \"data\": [0.4483372303523039, 0.4163009392480482, 0.38398044851412516, 0.38398044851412516, 0.3795481715727794, 0.3795481715727794, 0.3795481715727794, 0.3710600299399811, 0.3710600299399811, 0.3710600299399811, 0.3627283403881659, 0.3627283403881659, 0.3627283403881659, 0.3627283403881659, 0.3627283403881659, 0.3521702767178035, 0.3521702767178035, 0.3521702767178035, 0.3521702767178035, 0.3521702767178035, 0.3521702767178035, 0.3521702767178035, 0.3521702767178035, 0.3521702767178035, 0.3521702767178035, 0.3521702767178035, 0.3521702767178035, 0.3521702767178035, 0.3521702767178035, 0.3521702767178035, 0.3521702767178035, 0.3521702767178035, 0.3521702767178035, 0.3521702767178035, 0.3521702767178035, 0.3521702767178035]}], \"f1_score_micro\": [{\"categories\": [\"0\", \"1\", \"2\", \"3\", \"4\", \"5\", \"6\", \"7\", \"8\", \"9\", \"10\", \"11\", \"12\", \"13\", \"14\", \"15\", \"16\", \"17\", \"18\", \"19\", \"20\", \"21\", \"22\", \"23\", \"24\", \"25\", \"26\", \"27\", \"28\", \"30\", \"31\", \"32\", \"33\", \"34\", \"36\", \"37\"], \"mode\": \"markers\", \"name\": \"f1_score_micro\", \"stepped\": false, \"type\": \"scatter\", \"data\": [0.8141509433962264, 0.8331640058055152, 0.8179970972423802, 0.8521044992743108, 0.8407111756168361, 0.7537735849056604, 0.7538461538461538, 0.8407837445573294, 0.8333817126269958, 0.7955007256894049, 0.8369375907111756, 0.8484034833091437, 0.8447024673439769, 0.8333091436865022, 0.837155297532656, 0.8216981132075473, 0.8369375907111756, 0.8067489114658926, 0.8105950653120464, 0.810377358490566, 0.8181422351233671, 0.8333091436865022, 0.8369375907111756, 0.8256894049346879, 0.8445573294629899, 0.5792452830188679, 0.7613933236574746, 0.8182873730043541, 0.7841799709724239, 0.776632801161103, 0.6515239477503628, 0.8369375907111756, 0.8144412191582002, 0.8255442670537011, 0.8711175616835994, 0.8634978229317852]}, {\"categories\": [\"0\", \"1\", \"2\", \"3\", \"4\", \"5\", \"6\", \"7\", \"8\", \"9\", \"10\", \"11\", \"12\", \"13\", \"14\", \"15\", \"16\", \"17\", \"18\", \"19\", \"20\", \"21\", \"22\", \"23\", \"24\", \"25\", \"26\", \"27\", \"28\", \"30\", \"31\", \"32\", \"33\", \"34\", \"36\", \"37\"], \"mode\": \"lines\", \"name\": \"f1_score_micro_max\", \"stepped\": true, \"type\": \"scatter\", \"data\": [0.8141509433962264, 0.8331640058055152, 0.8331640058055152, 0.8521044992743108, 0.8521044992743108, 0.8521044992743108, 0.8521044992743108, 0.8521044992743108, 0.8521044992743108, 0.8521044992743108, 0.8521044992743108, 0.8521044992743108, 0.8521044992743108, 0.8521044992743108, 0.8521044992743108, 0.8521044992743108, 0.8521044992743108, 0.8521044992743108, 0.8521044992743108, 0.8521044992743108, 0.8521044992743108, 0.8521044992743108, 0.8521044992743108, 0.8521044992743108, 0.8521044992743108, 0.8521044992743108, 0.8521044992743108, 0.8521044992743108, 0.8521044992743108, 0.8521044992743108, 0.8521044992743108, 0.8521044992743108, 0.8521044992743108, 0.8521044992743108, 0.8711175616835994, 0.8711175616835994]}], \"AUC_weighted\": [{\"categories\": [\"0\", \"1\", \"2\", \"3\", \"4\", \"5\", \"6\", \"7\", \"8\", \"9\", \"10\", \"11\", \"12\", \"13\", \"14\", \"15\", \"16\", \"17\", \"18\", \"19\", \"20\", \"21\", \"22\", \"23\", \"24\", \"25\", \"26\", \"27\", \"28\", \"30\", \"31\", \"32\", \"33\", \"34\", \"36\", \"37\"], \"mode\": \"markers\", \"name\": \"AUC_weighted\", \"stepped\": false, \"type\": \"scatter\", \"data\": [0.8880337717837717, 0.8887721306471308, 0.8952119408369408, 0.9080683205683207, 0.9090261127761128, 0.7651110001110002, 0.7513118131868133, 0.9049397824397823, 0.8958381202131204, 0.8923641636141637, 0.9088438644688643, 0.9057971195471195, 0.8988681457431458, 0.9062984931734931, 0.9002011877011877, 0.9148005466755466, 0.9021765040515041, 0.8652583527583527, 0.893965721778222, 0.8869588050838051, 0.8760958832833833, 0.8924962537462537, 0.8876227244977244, 0.8897750860250861, 0.88764319014319, 0.5371200674325675, 0.8308834221334221, 0.8772879204129204, 0.8890221583971585, 0.8600940725940726, 0.5396704684204685, 0.9029584998334999, 0.8599131771006772, 0.90280028998779, 0.9122150072150073, 0.9103476384726384]}, {\"categories\": [\"0\", \"1\", \"2\", \"3\", \"4\", \"5\", \"6\", \"7\", \"8\", \"9\", \"10\", \"11\", \"12\", \"13\", \"14\", \"15\", \"16\", \"17\", \"18\", \"19\", \"20\", \"21\", \"22\", \"23\", \"24\", \"25\", \"26\", \"27\", \"28\", \"30\", \"31\", \"32\", \"33\", \"34\", \"36\", \"37\"], \"mode\": \"lines\", \"name\": \"AUC_weighted_max\", \"stepped\": true, \"type\": \"scatter\", \"data\": [0.8880337717837717, 0.8887721306471308, 0.8952119408369408, 0.9080683205683207, 0.9090261127761128, 0.9090261127761128, 0.9090261127761128, 0.9090261127761128, 0.9090261127761128, 0.9090261127761128, 0.9090261127761128, 0.9090261127761128, 0.9090261127761128, 0.9090261127761128, 0.9090261127761128, 0.9148005466755466, 0.9148005466755466, 0.9148005466755466, 0.9148005466755466, 0.9148005466755466, 0.9148005466755466, 0.9148005466755466, 0.9148005466755466, 0.9148005466755466, 0.9148005466755466, 0.9148005466755466, 0.9148005466755466, 0.9148005466755466, 0.9148005466755466, 0.9148005466755466, 0.9148005466755466, 0.9148005466755466, 0.9148005466755466, 0.9148005466755466, 0.9148005466755466, 0.9148005466755466]}]}, \"metricName\": null, \"primaryMetricName\": \"accuracy\", \"showLegend\": false}, \"run_metrics\": [{\"name\": \"experiment_status\", \"run_id\": \"AutoML_b13ca0b7-b493-43eb-8386-a42e61c7da10\", \"categories\": [0, 1, 2, 3, 4, 5, 6, 7, 8, 9, 10, 11, 12, 13], \"series\": [{\"data\": [\"DatasetEvaluation\", \"FeaturesGeneration\", \"DatasetFeaturization\", \"DatasetFeaturizationCompleted\", \"DatasetCrossValidationSplit\", \"ModelSelection\", \"BestRunExplainModel\", \"ModelExplanationDataSetSetup\", \"PickSurrogateModel\", \"EngineeredFeatureExplanations\", \"EngineeredFeatureExplanations\", \"RawFeaturesExplanations\", \"RawFeaturesExplanations\", \"BestRunExplainModel\"]}]}, {\"name\": \"experiment_status_description\", \"run_id\": \"AutoML_b13ca0b7-b493-43eb-8386-a42e61c7da10\", \"categories\": [0, 1, 2, 3, 4, 5, 6, 7, 8, 9, 10, 11, 12, 13], \"series\": [{\"data\": [\"Gathering dataset statistics.\", \"Generating features for the dataset.\", \"Beginning to fit featurizers and featurize the dataset.\", \"Completed fit featurizers and featurizing the dataset.\", \"Generating individually featurized CV splits.\", \"Beginning model selection.\", \"Best run model explanations started\", \"Model explanations data setup completed\", \"Choosing LightGBM as the surrogate model for explanations\", \"Computation of engineered features started\", \"Computation of engineered features completed\", \"Computation of raw features started\", \"Computation of raw features completed\", \"Best run model explanations completed\"]}]}, {\"name\": \"balanced_accuracy\", \"run_id\": \"AutoML_b13ca0b7-b493-43eb-8386-a42e61c7da10\", \"categories\": [0], \"series\": [{\"data\": [0.8268401043401044]}]}, {\"name\": \"f1_score_micro\", \"run_id\": \"AutoML_b13ca0b7-b493-43eb-8386-a42e61c7da10\", \"categories\": [0], \"series\": [{\"data\": [0.8711175616835994]}]}, {\"name\": \"precision_score_weighted\", \"run_id\": \"AutoML_b13ca0b7-b493-43eb-8386-a42e61c7da10\", \"categories\": [0], \"series\": [{\"data\": [0.8742449708361553]}]}, {\"name\": \"accuracy\", \"run_id\": \"AutoML_b13ca0b7-b493-43eb-8386-a42e61c7da10\", \"categories\": [0], \"series\": [{\"data\": [0.8711175616835994]}]}, {\"name\": \"weighted_accuracy\", \"run_id\": \"AutoML_b13ca0b7-b493-43eb-8386-a42e61c7da10\", \"categories\": [0], \"series\": [{\"data\": [0.9042888417514913]}]}, {\"name\": \"log_loss\", \"run_id\": \"AutoML_b13ca0b7-b493-43eb-8386-a42e61c7da10\", \"categories\": [0], \"series\": [{\"data\": [0.38865243884899753]}]}, {\"name\": \"average_precision_score_weighted\", \"run_id\": \"AutoML_b13ca0b7-b493-43eb-8386-a42e61c7da10\", \"categories\": [0], \"series\": [{\"data\": [0.9180181471609912]}]}, {\"name\": \"precision_score_micro\", \"run_id\": \"AutoML_b13ca0b7-b493-43eb-8386-a42e61c7da10\", \"categories\": [0], \"series\": [{\"data\": [0.8711175616835994]}]}, {\"name\": \"norm_macro_recall\", \"run_id\": \"AutoML_b13ca0b7-b493-43eb-8386-a42e61c7da10\", \"categories\": [0], \"series\": [{\"data\": [0.6536802086802087]}]}, {\"name\": \"recall_score_weighted\", \"run_id\": \"AutoML_b13ca0b7-b493-43eb-8386-a42e61c7da10\", \"categories\": [0], \"series\": [{\"data\": [0.8711175616835994]}]}, {\"name\": \"average_precision_score_macro\", \"run_id\": \"AutoML_b13ca0b7-b493-43eb-8386-a42e61c7da10\", \"categories\": [0], \"series\": [{\"data\": [0.892337558633202]}]}, {\"name\": \"precision_score_macro\", \"run_id\": \"AutoML_b13ca0b7-b493-43eb-8386-a42e61c7da10\", \"categories\": [0], \"series\": [{\"data\": [0.8721354693907459]}]}, {\"name\": \"recall_score_micro\", \"run_id\": \"AutoML_b13ca0b7-b493-43eb-8386-a42e61c7da10\", \"categories\": [0], \"series\": [{\"data\": [0.8711175616835994]}]}, {\"name\": \"matthews_correlation\", \"run_id\": \"AutoML_b13ca0b7-b493-43eb-8386-a42e61c7da10\", \"categories\": [0], \"series\": [{\"data\": [0.6961155822109046]}]}, {\"name\": \"recall_score_macro\", \"run_id\": \"AutoML_b13ca0b7-b493-43eb-8386-a42e61c7da10\", \"categories\": [0], \"series\": [{\"data\": [0.8268401043401044]}]}, {\"name\": \"f1_score_weighted\", \"run_id\": \"AutoML_b13ca0b7-b493-43eb-8386-a42e61c7da10\", \"categories\": [0], \"series\": [{\"data\": [0.8655429865775709]}]}, {\"name\": \"average_precision_score_micro\", \"run_id\": \"AutoML_b13ca0b7-b493-43eb-8386-a42e61c7da10\", \"categories\": [0], \"series\": [{\"data\": [0.9244642686473794]}]}, {\"name\": \"f1_score_macro\", \"run_id\": \"AutoML_b13ca0b7-b493-43eb-8386-a42e61c7da10\", \"categories\": [0], \"series\": [{\"data\": [0.8401028782872089]}]}, {\"name\": \"AUC_weighted\", \"run_id\": \"AutoML_b13ca0b7-b493-43eb-8386-a42e61c7da10\", \"categories\": [0], \"series\": [{\"data\": [0.9122150072150073]}]}, {\"name\": \"AUC_macro\", \"run_id\": \"AutoML_b13ca0b7-b493-43eb-8386-a42e61c7da10\", \"categories\": [0], \"series\": [{\"data\": [0.9122150072150073]}]}, {\"name\": \"AUC_micro\", \"run_id\": \"AutoML_b13ca0b7-b493-43eb-8386-a42e61c7da10\", \"categories\": [0], \"series\": [{\"data\": [0.9224338611521293]}]}], \"run_logs\": \"\\nRun is completed.\", \"graph\": {}, \"widget_settings\": {\"childWidgetDisplay\": \"popup\", \"send_telemetry\": false, \"log_level\": \"INFO\", \"sdk_version\": \"1.22.0\"}, \"loading\": false}"
     },
     "metadata": {},
     "output_type": "display_data"
    }
   ],
   "source": [
    "RunDetails(remote_run).show()"
   ]
  },
  {
   "cell_type": "code",
   "execution_count": 11,
   "metadata": {
    "gather": {
     "logged": 1609057322041
    }
   },
   "outputs": [
    {
     "data": {
      "text/plain": [
       "{'runId': 'AutoML_b13ca0b7-b493-43eb-8386-a42e61c7da10',\n",
       " 'target': 'cpu-cluster',\n",
       " 'status': 'Completed',\n",
       " 'startTimeUtc': '2021-03-12T14:04:58.440767Z',\n",
       " 'endTimeUtc': '2021-03-12T14:29:19.64477Z',\n",
       " 'properties': {'num_iterations': '1000',\n",
       "  'training_type': 'TrainFull',\n",
       "  'acquisition_function': 'EI',\n",
       "  'primary_metric': 'accuracy',\n",
       "  'train_split': '0',\n",
       "  'acquisition_parameter': '0',\n",
       "  'num_cross_validation': '5',\n",
       "  'target': 'cpu-cluster',\n",
       "  'AMLSettingsJsonString': '{\"path\":null,\"name\":\"automl-experiment\",\"subscription_id\":\"9b72f9e6-56c5-4c16-991b-19c652994860\",\"resource_group\":\"aml-quickstarts-140282\",\"workspace_name\":\"quick-starts-ws-140282\",\"region\":\"southcentralus\",\"compute_target\":\"cpu-cluster\",\"spark_service\":null,\"azure_service\":\"remote\",\"many_models\":false,\"pipeline_fetch_max_batch_size\":1,\"iterations\":1000,\"primary_metric\":\"accuracy\",\"task_type\":\"classification\",\"data_script\":null,\"validation_size\":0.0,\"n_cross_validations\":5,\"y_min\":null,\"y_max\":null,\"num_classes\":null,\"featurization\":\"auto\",\"_ignore_package_version_incompatibilities\":false,\"is_timeseries\":false,\"max_cores_per_iteration\":1,\"max_concurrent_iterations\":4,\"iteration_timeout_minutes\":null,\"mem_in_mb\":null,\"enforce_time_on_windows\":false,\"experiment_timeout_minutes\":30,\"experiment_exit_score\":null,\"whitelist_models\":null,\"blacklist_algos\":[\"TensorFlowLinearClassifier\",\"TensorFlowDNN\"],\"supported_models\":[\"TensorFlowLinearClassifier\",\"LogisticRegression\",\"LightGBM\",\"BernoulliNaiveBayes\",\"LinearSVM\",\"ExtremeRandomTrees\",\"TensorFlowDNN\",\"GradientBoosting\",\"KNN\",\"SGD\",\"SVM\",\"XGBoostClassifier\",\"MultinomialNaiveBayes\",\"DecisionTree\",\"RandomForest\",\"AveragedPerceptronClassifier\"],\"private_models\":[],\"auto_blacklist\":true,\"blacklist_samples_reached\":false,\"exclude_nan_labels\":true,\"verbosity\":20,\"_debug_log\":\"azureml_automl.log\",\"show_warnings\":false,\"model_explainability\":true,\"service_url\":null,\"sdk_url\":null,\"sdk_packages\":null,\"enable_onnx_compatible_models\":false,\"enable_split_onnx_featurizer_estimator_models\":false,\"vm_type\":\"STANDARD_D12_V2\",\"telemetry_verbosity\":20,\"send_telemetry\":true,\"enable_dnn\":false,\"scenario\":\"SDK-1.13.0\",\"environment_label\":null,\"force_text_dnn\":false,\"enable_feature_sweeping\":true,\"enable_early_stopping\":true,\"early_stopping_n_iters\":10,\"metrics\":null,\"enable_ensembling\":true,\"enable_stack_ensembling\":true,\"ensemble_iterations\":15,\"enable_tf\":false,\"enable_subsampling\":null,\"subsample_seed\":null,\"enable_nimbusml\":false,\"enable_streaming\":false,\"force_streaming\":false,\"track_child_runs\":true,\"allowed_private_models\":[],\"label_column_name\":\"DEATH_EVENT\",\"weight_column_name\":null,\"cv_split_column_names\":null,\"enable_local_managed\":false,\"_local_managed_run_id\":null,\"cost_mode\":1,\"lag_length\":0,\"metric_operation\":\"maximize\",\"preprocess\":true}',\n",
       "  'DataPrepJsonString': '{\\\\\"training_data\\\\\": \\\\\"{\\\\\\\\\\\\\"blocks\\\\\\\\\\\\\": [{\\\\\\\\\\\\\"id\\\\\\\\\\\\\": \\\\\\\\\\\\\"5f88bddf-bd8c-43e0-8521-41936ae1af23\\\\\\\\\\\\\", \\\\\\\\\\\\\"type\\\\\\\\\\\\\": \\\\\\\\\\\\\"Microsoft.DPrep.GetDatastoreFilesBlock\\\\\\\\\\\\\", \\\\\\\\\\\\\"arguments\\\\\\\\\\\\\": {\\\\\\\\\\\\\"datastores\\\\\\\\\\\\\": [{\\\\\\\\\\\\\"datastoreName\\\\\\\\\\\\\": \\\\\\\\\\\\\"workspaceblobstore\\\\\\\\\\\\\", \\\\\\\\\\\\\"path\\\\\\\\\\\\\": \\\\\\\\\\\\\"UI/03-12-2021_014653_UTC/heart-disease-kaggle.csv\\\\\\\\\\\\\", \\\\\\\\\\\\\"resourceGroup\\\\\\\\\\\\\": \\\\\\\\\\\\\"aml-quickstarts-140282\\\\\\\\\\\\\", \\\\\\\\\\\\\"subscription\\\\\\\\\\\\\": \\\\\\\\\\\\\"9b72f9e6-56c5-4c16-991b-19c652994860\\\\\\\\\\\\\", \\\\\\\\\\\\\"workspaceName\\\\\\\\\\\\\": \\\\\\\\\\\\\"quick-starts-ws-140282\\\\\\\\\\\\\"}]}, \\\\\\\\\\\\\"localData\\\\\\\\\\\\\": {}, \\\\\\\\\\\\\"isEnabled\\\\\\\\\\\\\": true, \\\\\\\\\\\\\"name\\\\\\\\\\\\\": null, \\\\\\\\\\\\\"annotation\\\\\\\\\\\\\": null}, {\\\\\\\\\\\\\"id\\\\\\\\\\\\\": \\\\\\\\\\\\\"3a79ae7f-2719-49be-8ffc-19f8acb5ede2\\\\\\\\\\\\\", \\\\\\\\\\\\\"type\\\\\\\\\\\\\": \\\\\\\\\\\\\"Microsoft.DPrep.ParseDelimitedBlock\\\\\\\\\\\\\", \\\\\\\\\\\\\"arguments\\\\\\\\\\\\\": {\\\\\\\\\\\\\"columnHeadersMode\\\\\\\\\\\\\": 3, \\\\\\\\\\\\\"fileEncoding\\\\\\\\\\\\\": 0, \\\\\\\\\\\\\"handleQuotedLineBreaks\\\\\\\\\\\\\": false, \\\\\\\\\\\\\"preview\\\\\\\\\\\\\": false, \\\\\\\\\\\\\"separator\\\\\\\\\\\\\": \\\\\\\\\\\\\",\\\\\\\\\\\\\", \\\\\\\\\\\\\"skipRows\\\\\\\\\\\\\": 0, \\\\\\\\\\\\\"skipRowsMode\\\\\\\\\\\\\": 0}, \\\\\\\\\\\\\"localData\\\\\\\\\\\\\": {}, \\\\\\\\\\\\\"isEnabled\\\\\\\\\\\\\": true, \\\\\\\\\\\\\"name\\\\\\\\\\\\\": null, \\\\\\\\\\\\\"annotation\\\\\\\\\\\\\": null}, {\\\\\\\\\\\\\"id\\\\\\\\\\\\\": \\\\\\\\\\\\\"bd8a4ecb-d334-428e-a3a1-c2f10de85882\\\\\\\\\\\\\", \\\\\\\\\\\\\"type\\\\\\\\\\\\\": \\\\\\\\\\\\\"Microsoft.DPrep.DropColumnsBlock\\\\\\\\\\\\\", \\\\\\\\\\\\\"arguments\\\\\\\\\\\\\": {\\\\\\\\\\\\\"columns\\\\\\\\\\\\\": {\\\\\\\\\\\\\"type\\\\\\\\\\\\\": 0, \\\\\\\\\\\\\"details\\\\\\\\\\\\\": {\\\\\\\\\\\\\"selectedColumns\\\\\\\\\\\\\": [\\\\\\\\\\\\\"Path\\\\\\\\\\\\\"]}}}, \\\\\\\\\\\\\"localData\\\\\\\\\\\\\": {}, \\\\\\\\\\\\\"isEnabled\\\\\\\\\\\\\": true, \\\\\\\\\\\\\"name\\\\\\\\\\\\\": null, \\\\\\\\\\\\\"annotation\\\\\\\\\\\\\": null}, {\\\\\\\\\\\\\"id\\\\\\\\\\\\\": \\\\\\\\\\\\\"27ad1f5f-52f0-4539-aa04-979ec3bcfbe3\\\\\\\\\\\\\", \\\\\\\\\\\\\"type\\\\\\\\\\\\\": \\\\\\\\\\\\\"Microsoft.DPrep.SetColumnTypesBlock\\\\\\\\\\\\\", \\\\\\\\\\\\\"arguments\\\\\\\\\\\\\": {\\\\\\\\\\\\\"columnConversion\\\\\\\\\\\\\": [{\\\\\\\\\\\\\"column\\\\\\\\\\\\\": {\\\\\\\\\\\\\"type\\\\\\\\\\\\\": 2, \\\\\\\\\\\\\"details\\\\\\\\\\\\\": {\\\\\\\\\\\\\"selectedColumn\\\\\\\\\\\\\": \\\\\\\\\\\\\"Path\\\\\\\\\\\\\"}}, \\\\\\\\\\\\\"typeProperty\\\\\\\\\\\\\": 0}, {\\\\\\\\\\\\\"column\\\\\\\\\\\\\": {\\\\\\\\\\\\\"type\\\\\\\\\\\\\": 2, \\\\\\\\\\\\\"details\\\\\\\\\\\\\": {\\\\\\\\\\\\\"selectedColumn\\\\\\\\\\\\\": \\\\\\\\\\\\\"age\\\\\\\\\\\\\"}}, \\\\\\\\\\\\\"typeProperty\\\\\\\\\\\\\": 3}, {\\\\\\\\\\\\\"column\\\\\\\\\\\\\": {\\\\\\\\\\\\\"type\\\\\\\\\\\\\": 2, \\\\\\\\\\\\\"details\\\\\\\\\\\\\": {\\\\\\\\\\\\\"selectedColumn\\\\\\\\\\\\\": \\\\\\\\\\\\\"anaemia\\\\\\\\\\\\\"}}, \\\\\\\\\\\\\"typeProperty\\\\\\\\\\\\\": 2}, {\\\\\\\\\\\\\"column\\\\\\\\\\\\\": {\\\\\\\\\\\\\"type\\\\\\\\\\\\\": 2, \\\\\\\\\\\\\"details\\\\\\\\\\\\\": {\\\\\\\\\\\\\"selectedColumn\\\\\\\\\\\\\": \\\\\\\\\\\\\"creatinine_phosphokinase\\\\\\\\\\\\\"}}, \\\\\\\\\\\\\"typeProperty\\\\\\\\\\\\\": 2}, {\\\\\\\\\\\\\"column\\\\\\\\\\\\\": {\\\\\\\\\\\\\"type\\\\\\\\\\\\\": 2, \\\\\\\\\\\\\"details\\\\\\\\\\\\\": {\\\\\\\\\\\\\"selectedColumn\\\\\\\\\\\\\": \\\\\\\\\\\\\"diabetes\\\\\\\\\\\\\"}}, \\\\\\\\\\\\\"typeProperty\\\\\\\\\\\\\": 2}, {\\\\\\\\\\\\\"column\\\\\\\\\\\\\": {\\\\\\\\\\\\\"type\\\\\\\\\\\\\": 2, \\\\\\\\\\\\\"details\\\\\\\\\\\\\": {\\\\\\\\\\\\\"selectedColumn\\\\\\\\\\\\\": \\\\\\\\\\\\\"ejection_fraction\\\\\\\\\\\\\"}}, \\\\\\\\\\\\\"typeProperty\\\\\\\\\\\\\": 2}, {\\\\\\\\\\\\\"column\\\\\\\\\\\\\": {\\\\\\\\\\\\\"type\\\\\\\\\\\\\": 2, \\\\\\\\\\\\\"details\\\\\\\\\\\\\": {\\\\\\\\\\\\\"selectedColumn\\\\\\\\\\\\\": \\\\\\\\\\\\\"high_blood_pressure\\\\\\\\\\\\\"}}, \\\\\\\\\\\\\"typeProperty\\\\\\\\\\\\\": 2}, {\\\\\\\\\\\\\"column\\\\\\\\\\\\\": {\\\\\\\\\\\\\"type\\\\\\\\\\\\\": 2, \\\\\\\\\\\\\"details\\\\\\\\\\\\\": {\\\\\\\\\\\\\"selectedColumn\\\\\\\\\\\\\": \\\\\\\\\\\\\"platelets\\\\\\\\\\\\\"}}, \\\\\\\\\\\\\"typeProperty\\\\\\\\\\\\\": 3}, {\\\\\\\\\\\\\"column\\\\\\\\\\\\\": {\\\\\\\\\\\\\"type\\\\\\\\\\\\\": 2, \\\\\\\\\\\\\"details\\\\\\\\\\\\\": {\\\\\\\\\\\\\"selectedColumn\\\\\\\\\\\\\": \\\\\\\\\\\\\"serum_creatinine\\\\\\\\\\\\\"}}, \\\\\\\\\\\\\"typeProperty\\\\\\\\\\\\\": 3}, {\\\\\\\\\\\\\"column\\\\\\\\\\\\\": {\\\\\\\\\\\\\"type\\\\\\\\\\\\\": 2, \\\\\\\\\\\\\"details\\\\\\\\\\\\\": {\\\\\\\\\\\\\"selectedColumn\\\\\\\\\\\\\": \\\\\\\\\\\\\"serum_sodium\\\\\\\\\\\\\"}}, \\\\\\\\\\\\\"typeProperty\\\\\\\\\\\\\": 2}, {\\\\\\\\\\\\\"column\\\\\\\\\\\\\": {\\\\\\\\\\\\\"type\\\\\\\\\\\\\": 2, \\\\\\\\\\\\\"details\\\\\\\\\\\\\": {\\\\\\\\\\\\\"selectedColumn\\\\\\\\\\\\\": \\\\\\\\\\\\\"sex\\\\\\\\\\\\\"}}, \\\\\\\\\\\\\"typeProperty\\\\\\\\\\\\\": 2}, {\\\\\\\\\\\\\"column\\\\\\\\\\\\\": {\\\\\\\\\\\\\"type\\\\\\\\\\\\\": 2, \\\\\\\\\\\\\"details\\\\\\\\\\\\\": {\\\\\\\\\\\\\"selectedColumn\\\\\\\\\\\\\": \\\\\\\\\\\\\"smoking\\\\\\\\\\\\\"}}, \\\\\\\\\\\\\"typeProperty\\\\\\\\\\\\\": 2}, {\\\\\\\\\\\\\"column\\\\\\\\\\\\\": {\\\\\\\\\\\\\"type\\\\\\\\\\\\\": 2, \\\\\\\\\\\\\"details\\\\\\\\\\\\\": {\\\\\\\\\\\\\"selectedColumn\\\\\\\\\\\\\": \\\\\\\\\\\\\"time\\\\\\\\\\\\\"}}, \\\\\\\\\\\\\"typeProperty\\\\\\\\\\\\\": 2}, {\\\\\\\\\\\\\"column\\\\\\\\\\\\\": {\\\\\\\\\\\\\"type\\\\\\\\\\\\\": 2, \\\\\\\\\\\\\"details\\\\\\\\\\\\\": {\\\\\\\\\\\\\"selectedColumn\\\\\\\\\\\\\": \\\\\\\\\\\\\"DEATH_EVENT\\\\\\\\\\\\\"}}, \\\\\\\\\\\\\"typeProperty\\\\\\\\\\\\\": 2}]}, \\\\\\\\\\\\\"localData\\\\\\\\\\\\\": {}, \\\\\\\\\\\\\"isEnabled\\\\\\\\\\\\\": true, \\\\\\\\\\\\\"name\\\\\\\\\\\\\": null, \\\\\\\\\\\\\"annotation\\\\\\\\\\\\\": null}, {\\\\\\\\\\\\\"id\\\\\\\\\\\\\": \\\\\\\\\\\\\"21acd534-4574-4d60-82e6-e25d1a4069f9\\\\\\\\\\\\\", \\\\\\\\\\\\\"type\\\\\\\\\\\\\": \\\\\\\\\\\\\"Microsoft.DPrep.TakeSampleBlock\\\\\\\\\\\\\", \\\\\\\\\\\\\"arguments\\\\\\\\\\\\\": {\\\\\\\\\\\\\"probability\\\\\\\\\\\\\": 0.9, \\\\\\\\\\\\\"probabilityLowerBound\\\\\\\\\\\\\": 0.0, \\\\\\\\\\\\\"seed\\\\\\\\\\\\\": 2294448548}, \\\\\\\\\\\\\"localData\\\\\\\\\\\\\": {}, \\\\\\\\\\\\\"isEnabled\\\\\\\\\\\\\": true, \\\\\\\\\\\\\"name\\\\\\\\\\\\\": null, \\\\\\\\\\\\\"annotation\\\\\\\\\\\\\": null}], \\\\\\\\\\\\\"inspectors\\\\\\\\\\\\\": [], \\\\\\\\\\\\\"meta\\\\\\\\\\\\\": {\\\\\\\\\\\\\"savedDatasetId\\\\\\\\\\\\\": \\\\\\\\\\\\\"c3c337cf-69a0-42e0-8a56-42ba26926681\\\\\\\\\\\\\", \\\\\\\\\\\\\"datasetType\\\\\\\\\\\\\": \\\\\\\\\\\\\"tabular\\\\\\\\\\\\\", \\\\\\\\\\\\\"subscriptionId\\\\\\\\\\\\\": \\\\\\\\\\\\\"9b72f9e6-56c5-4c16-991b-19c652994860\\\\\\\\\\\\\", \\\\\\\\\\\\\"workspaceId\\\\\\\\\\\\\": \\\\\\\\\\\\\"eb273141-e79d-4b8a-a23e-fe930a778ced\\\\\\\\\\\\\", \\\\\\\\\\\\\"workspaceLocation\\\\\\\\\\\\\": \\\\\\\\\\\\\"southcentralus\\\\\\\\\\\\\"}}\\\\\", \\\\\"activities\\\\\": 0}',\n",
       "  'EnableSubsampling': None,\n",
       "  'runTemplate': 'AutoML',\n",
       "  'azureml.runsource': 'automl',\n",
       "  'display_task_type': 'classification',\n",
       "  'dependencies_versions': '{\"azureml-widgets\": \"1.22.0\", \"azureml-train\": \"1.22.0\", \"azureml-train-restclients-hyperdrive\": \"1.22.0\", \"azureml-train-core\": \"1.22.0\", \"azureml-train-automl\": \"1.22.0\", \"azureml-train-automl-runtime\": \"1.22.0\", \"azureml-train-automl-client\": \"1.22.0\", \"azureml-tensorboard\": \"1.22.0\", \"azureml-telemetry\": \"1.22.0\", \"azureml-sdk\": \"1.22.0\", \"azureml-samples\": \"0+unknown\", \"azureml-pipeline\": \"1.22.0\", \"azureml-pipeline-steps\": \"1.22.0\", \"azureml-pipeline-core\": \"1.22.0\", \"azureml-opendatasets\": \"1.22.0\", \"azureml-model-management-sdk\": \"1.0.1b6.post1\", \"azureml-mlflow\": \"1.22.0\", \"azureml-interpret\": \"1.22.0\", \"azureml-explain-model\": \"1.22.0\", \"azureml-defaults\": \"1.22.0\", \"azureml-dataset-runtime\": \"1.22.0\", \"azureml-dataprep\": \"2.9.1\", \"azureml-dataprep-rslex\": \"1.7.0\", \"azureml-dataprep-native\": \"29.0.0\", \"azureml-datadrift\": \"1.22.0\", \"azureml-core\": \"1.22.0\", \"azureml-contrib-services\": \"1.22.0\", \"azureml-contrib-server\": \"1.22.0\", \"azureml-contrib-reinforcementlearning\": \"1.22.0\", \"azureml-contrib-pipeline-steps\": \"1.22.0\", \"azureml-contrib-notebook\": \"1.22.0\", \"azureml-contrib-interpret\": \"1.22.0\", \"azureml-contrib-gbdt\": \"1.22.0\", \"azureml-contrib-fairness\": \"1.22.0\", \"azureml-contrib-dataset\": \"1.22.0\", \"azureml-cli-common\": \"1.22.0\", \"azureml-automl-runtime\": \"1.22.0\", \"azureml-automl-core\": \"1.22.0\", \"azureml-accel-models\": \"1.22.0\"}',\n",
       "  '_aml_system_scenario_identification': 'Remote.Parent',\n",
       "  'ClientType': 'SDK',\n",
       "  'environment_cpu_name': 'AzureML-AutoML',\n",
       "  'environment_cpu_label': 'prod',\n",
       "  'environment_gpu_name': 'AzureML-AutoML-GPU',\n",
       "  'environment_gpu_label': 'prod',\n",
       "  'root_attribution': 'automl',\n",
       "  'attribution': 'AutoML',\n",
       "  'Orchestrator': 'AutoML',\n",
       "  'CancelUri': 'https://southcentralus.experiments.azureml.net/jasmine/v1.0/subscriptions/9b72f9e6-56c5-4c16-991b-19c652994860/resourceGroups/aml-quickstarts-140282/providers/Microsoft.MachineLearningServices/workspaces/quick-starts-ws-140282/experimentids/1c51968d-a83a-4ee1-94d0-ca32a86123f9/cancel/AutoML_b13ca0b7-b493-43eb-8386-a42e61c7da10',\n",
       "  'ClientSdkVersion': '1.23.0',\n",
       "  'snapshotId': '00000000-0000-0000-0000-000000000000',\n",
       "  'SetupRunId': 'AutoML_b13ca0b7-b493-43eb-8386-a42e61c7da10_setup',\n",
       "  'SetupRunContainerId': 'dcid.AutoML_b13ca0b7-b493-43eb-8386-a42e61c7da10_setup',\n",
       "  'FeaturizationRunJsonPath': 'featurizer_container.json',\n",
       "  'FeaturizationRunId': 'AutoML_b13ca0b7-b493-43eb-8386-a42e61c7da10_featurize',\n",
       "  'ProblemInfoJsonString': '{\"dataset_num_categorical\": 0, \"is_sparse\": false, \"subsampling\": false, \"dataset_classes\": 2, \"dataset_features\": 12, \"dataset_samples\": 264, \"single_frequency_class_detected\": false}',\n",
       "  'ModelExplainRunId': 'AutoML_b13ca0b7-b493-43eb-8386-a42e61c7da10_ModelExplain'},\n",
       " 'inputDatasets': [{'dataset': {'id': 'c3c337cf-69a0-42e0-8a56-42ba26926681'}, 'consumptionDetails': {'type': 'RunInput', 'inputName': 'training_data', 'mechanism': 'Direct'}}],\n",
       " 'outputDatasets': [],\n",
       " 'logFiles': {},\n",
       " 'submittedBy': 'ODL_User 140282'}"
      ]
     },
     "execution_count": 11,
     "metadata": {},
     "output_type": "execute_result"
    }
   ],
   "source": [
    "remote_run.wait_for_completion()"
   ]
  },
  {
   "cell_type": "markdown",
   "metadata": {},
   "source": [
    "## Best Model "
   ]
  },
  {
   "cell_type": "code",
   "execution_count": 15,
   "metadata": {
    "gather": {
     "logged": 1609057494229
    }
   },
   "outputs": [
    {
     "name": "stderr",
     "output_type": "stream",
     "text": [
      "WARNING:root:The version of the SDK does not match the version the model was trained on.\n",
      "WARNING:root:The consistency in the result may not be guaranteed.\n",
      "WARNING:root:Package:azureml-automl-core, training version:1.23.0, current version:1.22.0\n",
      "Package:azureml-automl-runtime, training version:1.23.0, current version:1.22.0\n",
      "Package:azureml-core, training version:1.23.0, current version:1.22.0\n",
      "Package:azureml-dataprep, training version:2.10.1, current version:2.9.1\n",
      "Package:azureml-dataprep-native, training version:30.0.0, current version:29.0.0\n",
      "Package:azureml-dataprep-rslex, training version:1.8.0, current version:1.7.0\n",
      "Package:azureml-dataset-runtime, training version:1.23.0, current version:1.22.0\n",
      "Package:azureml-defaults, training version:1.23.0, current version:1.22.0\n",
      "Package:azureml-interpret, training version:1.23.0, current version:1.22.0\n",
      "Package:azureml-mlflow, training version:1.23.0, current version:1.22.0\n",
      "Package:azureml-pipeline-core, training version:1.23.0, current version:1.22.0\n",
      "Package:azureml-telemetry, training version:1.23.0, current version:1.22.0\n",
      "Package:azureml-train-automl-client, training version:1.23.0, current version:1.22.0\n",
      "Package:azureml-train-automl-runtime, training version:1.23.0, current version:1.22.0\n",
      "WARNING:root:Please ensure the version of your local conda dependencies match the version on which your model was trained in order to properly retrieve your model.\n",
      "WARNING:root:The version of the SDK does not match the version the model was trained on.\n",
      "WARNING:root:The consistency in the result may not be guaranteed.\n",
      "WARNING:root:Package:azureml-automl-core, training version:1.23.0, current version:1.22.0\n",
      "Package:azureml-automl-runtime, training version:1.23.0, current version:1.22.0\n",
      "Package:azureml-core, training version:1.23.0, current version:1.22.0\n",
      "Package:azureml-dataprep, training version:2.10.1, current version:2.9.1\n",
      "Package:azureml-dataprep-native, training version:30.0.0, current version:29.0.0\n",
      "Package:azureml-dataprep-rslex, training version:1.8.0, current version:1.7.0\n",
      "Package:azureml-dataset-runtime, training version:1.23.0, current version:1.22.0\n",
      "Package:azureml-defaults, training version:1.23.0, current version:1.22.0\n",
      "Package:azureml-interpret, training version:1.23.0, current version:1.22.0\n",
      "Package:azureml-mlflow, training version:1.23.0, current version:1.22.0\n",
      "Package:azureml-pipeline-core, training version:1.23.0, current version:1.22.0\n",
      "Package:azureml-telemetry, training version:1.23.0, current version:1.22.0\n",
      "Package:azureml-train-automl-client, training version:1.23.0, current version:1.22.0\n",
      "Package:azureml-train-automl-runtime, training version:1.23.0, current version:1.22.0\n"
     ]
    },
    {
     "ename": "AttributeError",
     "evalue": "/anaconda/envs/azureml_py36/lib/libxgboost.so: undefined symbol: XGBoosterUnserializeFromBuffer",
     "output_type": "error",
     "traceback": [
      "\u001b[0;31m---------------------------------------------------------------------------\u001b[0m",
      "\u001b[0;31mAttributeError\u001b[0m                            Traceback (most recent call last)",
      "\u001b[0;32m<ipython-input-15-ea9cd84e91e3>\u001b[0m in \u001b[0;36m<module>\u001b[0;34m\u001b[0m\n\u001b[0;32m----> 1\u001b[0;31m \u001b[0mbest_run\u001b[0m\u001b[0;34m,\u001b[0m \u001b[0mfitted_model\u001b[0m \u001b[0;34m=\u001b[0m \u001b[0mremote_run\u001b[0m\u001b[0;34m.\u001b[0m\u001b[0mget_output\u001b[0m\u001b[0;34m(\u001b[0m\u001b[0;34m)\u001b[0m\u001b[0;34m\u001b[0m\u001b[0;34m\u001b[0m\u001b[0m\n\u001b[0m\u001b[1;32m      2\u001b[0m \u001b[0mbest_run_metrics\u001b[0m \u001b[0;34m=\u001b[0m \u001b[0mbest_run\u001b[0m\u001b[0;34m.\u001b[0m\u001b[0mget_metrics\u001b[0m\u001b[0;34m(\u001b[0m\u001b[0;34m)\u001b[0m\u001b[0;34m\u001b[0m\u001b[0;34m\u001b[0m\u001b[0m\n",
      "\u001b[0;32m/anaconda/envs/azureml_py36/lib/python3.6/site-packages/azureml/train/automl/run.py\u001b[0m in \u001b[0;36mget_output\u001b[0;34m(self, iteration, metric, return_onnx_model, return_split_onnx_model, **kwargs)\u001b[0m\n\u001b[1;32m    699\u001b[0m                     \u001b[0mfitted_model\u001b[0m \u001b[0;34m=\u001b[0m \u001b[0m_download_automl_onnx_model\u001b[0m\u001b[0;34m(\u001b[0m\u001b[0mcurr_run\u001b[0m\u001b[0;34m,\u001b[0m \u001b[0mmodel_name\u001b[0m\u001b[0;34m)\u001b[0m\u001b[0;34m\u001b[0m\u001b[0;34m\u001b[0m\u001b[0m\n\u001b[1;32m    700\u001b[0m                 \u001b[0;32melse\u001b[0m\u001b[0;34m:\u001b[0m\u001b[0;34m\u001b[0m\u001b[0;34m\u001b[0m\u001b[0m\n\u001b[0;32m--> 701\u001b[0;31m                     \u001b[0mfitted_model\u001b[0m \u001b[0;34m=\u001b[0m \u001b[0m_download_automl_model\u001b[0m\u001b[0;34m(\u001b[0m\u001b[0mcurr_run\u001b[0m\u001b[0;34m,\u001b[0m \u001b[0mmodel_name\u001b[0m\u001b[0;34m)\u001b[0m\u001b[0;34m\u001b[0m\u001b[0;34m\u001b[0m\u001b[0m\n\u001b[0m\u001b[1;32m    702\u001b[0m \u001b[0;34m\u001b[0m\u001b[0m\n\u001b[1;32m    703\u001b[0m             \u001b[0;32mreturn\u001b[0m \u001b[0mcurr_run\u001b[0m\u001b[0;34m,\u001b[0m \u001b[0mfitted_model\u001b[0m\u001b[0;34m\u001b[0m\u001b[0;34m\u001b[0m\u001b[0m\n",
      "\u001b[0;32m/anaconda/envs/azureml_py36/lib/python3.6/site-packages/azureml/train/automl/_model_download_utilities.py\u001b[0m in \u001b[0;36m_download_automl_model\u001b[0;34m(run, model_name)\u001b[0m\n\u001b[1;32m     88\u001b[0m             \u001b[0;31m# Pass through any exceptions from loading the model.\u001b[0m\u001b[0;34m\u001b[0m\u001b[0;34m\u001b[0m\u001b[0;34m\u001b[0m\u001b[0m\n\u001b[1;32m     89\u001b[0m             \u001b[0;31m# Try is used here to ensure we can cleanup the side effect of model downlad.\u001b[0m\u001b[0;34m\u001b[0m\u001b[0;34m\u001b[0m\u001b[0;34m\u001b[0m\u001b[0m\n\u001b[0;32m---> 90\u001b[0;31m             \u001b[0mmodel\u001b[0m \u001b[0;34m=\u001b[0m \u001b[0m_load_automl_model\u001b[0m\u001b[0;34m(\u001b[0m\u001b[0mmodel_path\u001b[0m\u001b[0;34m)\u001b[0m\u001b[0;34m\u001b[0m\u001b[0;34m\u001b[0m\u001b[0m\n\u001b[0m\u001b[1;32m     91\u001b[0m             \u001b[0;32mif\u001b[0m \u001b[0mmodel\u001b[0m \u001b[0;32mis\u001b[0m \u001b[0;32mNone\u001b[0m\u001b[0;34m:\u001b[0m\u001b[0;34m\u001b[0m\u001b[0;34m\u001b[0m\u001b[0m\n\u001b[1;32m     92\u001b[0m                 \u001b[0;31m# If we can retrieve the automl runtime version, we do so we can inform the user what to install.\u001b[0m\u001b[0;34m\u001b[0m\u001b[0;34m\u001b[0m\u001b[0;34m\u001b[0m\u001b[0m\n",
      "\u001b[0;32m/anaconda/envs/azureml_py36/lib/python3.6/site-packages/azureml/train/automl/_model_download_utilities.py\u001b[0m in \u001b[0;36m_load_automl_model\u001b[0;34m(model_path)\u001b[0m\n\u001b[1;32m    172\u001b[0m         \u001b[0;32mimport\u001b[0m \u001b[0mazureml\u001b[0m\u001b[0;34m.\u001b[0m\u001b[0mtrain\u001b[0m\u001b[0;34m.\u001b[0m\u001b[0mautoml\u001b[0m\u001b[0;34m.\u001b[0m\u001b[0mruntime\u001b[0m\u001b[0;34m\u001b[0m\u001b[0;34m\u001b[0m\u001b[0m\n\u001b[1;32m    173\u001b[0m         \u001b[0;32mwith\u001b[0m \u001b[0mopen\u001b[0m\u001b[0;34m(\u001b[0m\u001b[0mmodel_path\u001b[0m\u001b[0;34m,\u001b[0m \u001b[0;34m\"rb\"\u001b[0m\u001b[0;34m)\u001b[0m \u001b[0;32mas\u001b[0m \u001b[0mmodel_file\u001b[0m\u001b[0;34m:\u001b[0m\u001b[0;34m\u001b[0m\u001b[0;34m\u001b[0m\u001b[0m\n\u001b[0;32m--> 174\u001b[0;31m             \u001b[0mfitted_model\u001b[0m \u001b[0;34m=\u001b[0m \u001b[0mpickle\u001b[0m\u001b[0;34m.\u001b[0m\u001b[0mload\u001b[0m\u001b[0;34m(\u001b[0m\u001b[0mmodel_file\u001b[0m\u001b[0;34m)\u001b[0m  \u001b[0;31m# type: Optional[Any]\u001b[0m\u001b[0;34m\u001b[0m\u001b[0;34m\u001b[0m\u001b[0m\n\u001b[0m\u001b[1;32m    175\u001b[0m             \u001b[0;32mreturn\u001b[0m \u001b[0mfitted_model\u001b[0m\u001b[0;34m\u001b[0m\u001b[0;34m\u001b[0m\u001b[0m\n\u001b[1;32m    176\u001b[0m     \u001b[0;32mexcept\u001b[0m \u001b[0mImportError\u001b[0m \u001b[0;32mas\u001b[0m \u001b[0me\u001b[0m\u001b[0;34m:\u001b[0m\u001b[0;34m\u001b[0m\u001b[0;34m\u001b[0m\u001b[0m\n",
      "\u001b[0;32m/anaconda/envs/azureml_py36/lib/python3.6/site-packages/xgboost/core.py\u001b[0m in \u001b[0;36m__setstate__\u001b[0;34m(self, state)\u001b[0m\n\u001b[1;32m   1086\u001b[0m             \u001b[0mptr\u001b[0m \u001b[0;34m=\u001b[0m \u001b[0;34m(\u001b[0m\u001b[0mctypes\u001b[0m\u001b[0;34m.\u001b[0m\u001b[0mc_char\u001b[0m \u001b[0;34m*\u001b[0m \u001b[0mlen\u001b[0m\u001b[0;34m(\u001b[0m\u001b[0mbuf\u001b[0m\u001b[0;34m)\u001b[0m\u001b[0;34m)\u001b[0m\u001b[0;34m.\u001b[0m\u001b[0mfrom_buffer\u001b[0m\u001b[0;34m(\u001b[0m\u001b[0mbuf\u001b[0m\u001b[0;34m)\u001b[0m\u001b[0;34m\u001b[0m\u001b[0;34m\u001b[0m\u001b[0m\n\u001b[1;32m   1087\u001b[0m             _check_call(\n\u001b[0;32m-> 1088\u001b[0;31m                 _LIB.XGBoosterUnserializeFromBuffer(handle, ptr, length))\n\u001b[0m\u001b[1;32m   1089\u001b[0m             \u001b[0mstate\u001b[0m\u001b[0;34m[\u001b[0m\u001b[0;34m'handle'\u001b[0m\u001b[0;34m]\u001b[0m \u001b[0;34m=\u001b[0m \u001b[0mhandle\u001b[0m\u001b[0;34m\u001b[0m\u001b[0;34m\u001b[0m\u001b[0m\n\u001b[1;32m   1090\u001b[0m         \u001b[0mself\u001b[0m\u001b[0;34m.\u001b[0m\u001b[0m__dict__\u001b[0m\u001b[0;34m.\u001b[0m\u001b[0mupdate\u001b[0m\u001b[0;34m(\u001b[0m\u001b[0mstate\u001b[0m\u001b[0;34m)\u001b[0m\u001b[0;34m\u001b[0m\u001b[0;34m\u001b[0m\u001b[0m\n",
      "\u001b[0;32m/anaconda/envs/azureml_py36/lib/python3.6/ctypes/__init__.py\u001b[0m in \u001b[0;36m__getattr__\u001b[0;34m(self, name)\u001b[0m\n\u001b[1;32m    359\u001b[0m         \u001b[0;32mif\u001b[0m \u001b[0mname\u001b[0m\u001b[0;34m.\u001b[0m\u001b[0mstartswith\u001b[0m\u001b[0;34m(\u001b[0m\u001b[0;34m'__'\u001b[0m\u001b[0;34m)\u001b[0m \u001b[0;32mand\u001b[0m \u001b[0mname\u001b[0m\u001b[0;34m.\u001b[0m\u001b[0mendswith\u001b[0m\u001b[0;34m(\u001b[0m\u001b[0;34m'__'\u001b[0m\u001b[0;34m)\u001b[0m\u001b[0;34m:\u001b[0m\u001b[0;34m\u001b[0m\u001b[0;34m\u001b[0m\u001b[0m\n\u001b[1;32m    360\u001b[0m             \u001b[0;32mraise\u001b[0m \u001b[0mAttributeError\u001b[0m\u001b[0;34m(\u001b[0m\u001b[0mname\u001b[0m\u001b[0;34m)\u001b[0m\u001b[0;34m\u001b[0m\u001b[0;34m\u001b[0m\u001b[0m\n\u001b[0;32m--> 361\u001b[0;31m         \u001b[0mfunc\u001b[0m \u001b[0;34m=\u001b[0m \u001b[0mself\u001b[0m\u001b[0;34m.\u001b[0m\u001b[0m__getitem__\u001b[0m\u001b[0;34m(\u001b[0m\u001b[0mname\u001b[0m\u001b[0;34m)\u001b[0m\u001b[0;34m\u001b[0m\u001b[0;34m\u001b[0m\u001b[0m\n\u001b[0m\u001b[1;32m    362\u001b[0m         \u001b[0msetattr\u001b[0m\u001b[0;34m(\u001b[0m\u001b[0mself\u001b[0m\u001b[0;34m,\u001b[0m \u001b[0mname\u001b[0m\u001b[0;34m,\u001b[0m \u001b[0mfunc\u001b[0m\u001b[0;34m)\u001b[0m\u001b[0;34m\u001b[0m\u001b[0;34m\u001b[0m\u001b[0m\n\u001b[1;32m    363\u001b[0m         \u001b[0;32mreturn\u001b[0m \u001b[0mfunc\u001b[0m\u001b[0;34m\u001b[0m\u001b[0;34m\u001b[0m\u001b[0m\n",
      "\u001b[0;32m/anaconda/envs/azureml_py36/lib/python3.6/ctypes/__init__.py\u001b[0m in \u001b[0;36m__getitem__\u001b[0;34m(self, name_or_ordinal)\u001b[0m\n\u001b[1;32m    364\u001b[0m \u001b[0;34m\u001b[0m\u001b[0m\n\u001b[1;32m    365\u001b[0m     \u001b[0;32mdef\u001b[0m \u001b[0m__getitem__\u001b[0m\u001b[0;34m(\u001b[0m\u001b[0mself\u001b[0m\u001b[0;34m,\u001b[0m \u001b[0mname_or_ordinal\u001b[0m\u001b[0;34m)\u001b[0m\u001b[0;34m:\u001b[0m\u001b[0;34m\u001b[0m\u001b[0;34m\u001b[0m\u001b[0m\n\u001b[0;32m--> 366\u001b[0;31m         \u001b[0mfunc\u001b[0m \u001b[0;34m=\u001b[0m \u001b[0mself\u001b[0m\u001b[0;34m.\u001b[0m\u001b[0m_FuncPtr\u001b[0m\u001b[0;34m(\u001b[0m\u001b[0;34m(\u001b[0m\u001b[0mname_or_ordinal\u001b[0m\u001b[0;34m,\u001b[0m \u001b[0mself\u001b[0m\u001b[0;34m)\u001b[0m\u001b[0;34m)\u001b[0m\u001b[0;34m\u001b[0m\u001b[0;34m\u001b[0m\u001b[0m\n\u001b[0m\u001b[1;32m    367\u001b[0m         \u001b[0;32mif\u001b[0m \u001b[0;32mnot\u001b[0m \u001b[0misinstance\u001b[0m\u001b[0;34m(\u001b[0m\u001b[0mname_or_ordinal\u001b[0m\u001b[0;34m,\u001b[0m \u001b[0mint\u001b[0m\u001b[0;34m)\u001b[0m\u001b[0;34m:\u001b[0m\u001b[0;34m\u001b[0m\u001b[0;34m\u001b[0m\u001b[0m\n\u001b[1;32m    368\u001b[0m             \u001b[0mfunc\u001b[0m\u001b[0;34m.\u001b[0m\u001b[0m__name__\u001b[0m \u001b[0;34m=\u001b[0m \u001b[0mname_or_ordinal\u001b[0m\u001b[0;34m\u001b[0m\u001b[0;34m\u001b[0m\u001b[0m\n",
      "\u001b[0;31mAttributeError\u001b[0m: /anaconda/envs/azureml_py36/lib/libxgboost.so: undefined symbol: XGBoosterUnserializeFromBuffer"
     ]
    }
   ],
   "source": [
    "best_run, fitted_model = remote_run.get_output()\n",
    "best_run_metrics = best_run.get_metrics()"
   ]
  },
  {
   "cell_type": "code",
   "execution_count": 14,
   "metadata": {
    "gather": {
     "logged": 1609057496313
    }
   },
   "outputs": [
    {
     "ename": "NameError",
     "evalue": "name 'best_run' is not defined",
     "output_type": "error",
     "traceback": [
      "\u001b[0;31m---------------------------------------------------------------------------\u001b[0m",
      "\u001b[0;31mNameError\u001b[0m                                 Traceback (most recent call last)",
      "\u001b[0;32m<ipython-input-14-736d2c86382e>\u001b[0m in \u001b[0;36m<module>\u001b[0;34m\u001b[0m\n\u001b[0;32m----> 1\u001b[0;31m \u001b[0mbest_run\u001b[0m\u001b[0;34m\u001b[0m\u001b[0;34m\u001b[0m\u001b[0m\n\u001b[0m",
      "\u001b[0;31mNameError\u001b[0m: name 'best_run' is not defined"
     ]
    }
   ],
   "source": [
    "best_run"
   ]
  },
  {
   "cell_type": "code",
   "execution_count": 20,
   "metadata": {
    "gather": {
     "logged": 1609057496796
    }
   },
   "outputs": [
    {
     "data": {
      "text/plain": [
       "Pipeline(memory=None,\n",
       "         steps=[('datatransformer',\n",
       "                 DataTransformer(enable_dnn=None, enable_feature_sweeping=None,\n",
       "                                 feature_sweeping_config=None,\n",
       "                                 feature_sweeping_timeout=None,\n",
       "                                 featurization_config=None, force_text_dnn=None,\n",
       "                                 is_cross_validation=None,\n",
       "                                 is_onnx_compatible=None, logger=None,\n",
       "                                 observer=None, task=None, working_dir=None)),\n",
       "                ('prefittedsoftvotingclassifier',...\n",
       "                                                                                                objective=None,\n",
       "                                                                                                random_state=None,\n",
       "                                                                                                reg_alpha=0.42105263157894735,\n",
       "                                                                                                reg_lambda=0.21052631578947367,\n",
       "                                                                                                silent=True,\n",
       "                                                                                                subsample=1,\n",
       "                                                                                                subsample_for_bin=200000,\n",
       "                                                                                                subsample_freq=0,\n",
       "                                                                                                verbose=-10))],\n",
       "                                                                     verbose=False))],\n",
       "                                               flatten_transform=None,\n",
       "                                               weights=[0.16666666666666666,\n",
       "                                                        0.16666666666666666,\n",
       "                                                        0.16666666666666666,\n",
       "                                                        0.16666666666666666,\n",
       "                                                        0.16666666666666666,\n",
       "                                                        0.16666666666666666]))],\n",
       "         verbose=False)"
      ]
     },
     "execution_count": 20,
     "metadata": {},
     "output_type": "execute_result"
    }
   ],
   "source": [
    "fitted_model"
   ]
  },
  {
   "cell_type": "code",
   "execution_count": 21,
   "metadata": {
    "nteract": {
     "transient": {
      "deleting": false
     }
    }
   },
   "outputs": [
    {
     "name": "stdout",
     "output_type": "stream",
     "text": [
      "Best Run Id:  AutoML_0df6a668-9229-4f79-a88d-ebd9d5ce001d_36\n",
      "\n",
      " Accuracy: 0.8617749825296995\n",
      "PreFittedSoftVotingClassifier(classification_labels=None,\n",
      "                              estimators=[('16',\n",
      "                                           Pipeline(memory=None,\n",
      "                                                    steps=[('robustscaler',\n",
      "                                                            RobustScaler(copy=True,\n",
      "                                                                         quantile_range=[25,\n",
      "                                                                                         75],\n",
      "                                                                         with_centering=True,\n",
      "                                                                         with_scaling=False)),\n",
      "                                                           ('extratreesclassifier',\n",
      "                                                            ExtraTreesClassifier(bootstrap=False,\n",
      "                                                                                 ccp_alpha=0.0,\n",
      "                                                                                 class_weight=None,\n",
      "                                                                                 criterion='entropy',\n",
      "                                                                                 max_depth=None,\n",
      "                                                                                 max_features=0.8...\n",
      "                                                                               num_leaves=122,\n",
      "                                                                               objective=None,\n",
      "                                                                               random_state=None,\n",
      "                                                                               reg_alpha=0.42105263157894735,\n",
      "                                                                               reg_lambda=0.21052631578947367,\n",
      "                                                                               silent=True,\n",
      "                                                                               subsample=1,\n",
      "                                                                               subsample_for_bin=200000,\n",
      "                                                                               subsample_freq=0,\n",
      "                                                                               verbose=-10))],\n",
      "                                                    verbose=False))],\n",
      "                              flatten_transform=None,\n",
      "                              weights=[0.16666666666666666, 0.16666666666666666,\n",
      "                                       0.16666666666666666, 0.16666666666666666,\n",
      "                                       0.16666666666666666,\n",
      "                                       0.16666666666666666])\n",
      "{'_aml_system_azureml.automlComponent': 'AutoML', '_aml_system_ComputeTargetStatus': '{\"AllocationState\":\"steady\",\"PreparingNodeCount\":0,\"RunningNodeCount\":4,\"CurrentNodeCount\":4}', 'mlflow.source.type': 'JOB', 'mlflow.source.name': 'automl_driver.py', 'ensembled_iterations': '[16, 3, 21, 19, 22, 27]', 'ensembled_algorithms': \"['ExtremeRandomTrees', 'RandomForest', 'ExtremeRandomTrees', 'RandomForest', 'LightGBM', 'LightGBM']\", 'ensemble_weights': '[0.16666666666666666, 0.16666666666666666, 0.16666666666666666, 0.16666666666666666, 0.16666666666666666, 0.16666666666666666]', 'best_individual_pipeline_score': '0.8467505241090147', 'best_individual_iteration': '16', '_aml_system_automl_is_child_run_end_telemetry_event_logged': 'True'}\n"
     ]
    }
   ],
   "source": [
    "print('Best Run Id: ', best_run.id)\n",
    "print('\\n Accuracy:', best_run_metrics['accuracy'])\n",
    "print(fitted_model._final_estimator)\n",
    "print(best_run.get_tags())"
   ]
  },
  {
   "cell_type": "code",
   "execution_count": 22,
   "metadata": {
    "gather": {
     "logged": 1609058285285
    }
   },
   "outputs": [
    {
     "data": {
      "text/plain": [
       "'AutoML0df6a668936'"
      ]
     },
     "execution_count": 22,
     "metadata": {},
     "output_type": "execute_result"
    }
   ],
   "source": [
    "os.makedirs('./outputs', exist_ok=True)\n",
    "\n",
    "joblib.dump(fitted_model, filename='outputs/automl.joblib')\n",
    "\n",
    "model_name = best_run.properties['model_name']\n",
    "model_name"
   ]
  },
  {
   "cell_type": "code",
   "execution_count": 23,
   "metadata": {
    "gather": {
     "logged": 1609061282639
    },
    "nteract": {
     "transient": {
      "deleting": false
     }
    }
   },
   "outputs": [],
   "source": [
    "env = best_run.get_environment()\n",
    "\n",
    "script_file = 'score.py'\n",
    "\n",
    "best_run.download_file('outputs/scoring_file_v_1_0_0.py', script_file)"
   ]
  },
  {
   "cell_type": "markdown",
   "metadata": {},
   "source": [
    "## Model Deployment"
   ]
  },
  {
   "cell_type": "code",
   "execution_count": 20,
   "metadata": {
    "gather": {
     "logged": 1609057825294
    }
   },
   "outputs": [],
   "source": [
    "#Register the fitted model\n",
    "model = remote_run.register_model(model_name = model_name,\n",
    "                                  description = 'AutoML model')"
   ]
  },
  {
   "cell_type": "code",
   "execution_count": 21,
   "metadata": {
    "gather": {
     "logged": 1609058832201
    }
   },
   "outputs": [
    {
     "name": "stdout",
     "output_type": "stream",
     "text": [
      "automl-heart-disease\n"
     ]
    }
   ],
   "source": [
    "inference_config = InferenceConfig(entry_script = script_file, environment = env)\n",
    "\n",
    "aci_config = AciWebservice.deploy_configuration(cpu_cores = 1, memory_gb = 1)\n",
    "\n",
    "aci_service_name = 'automl-heart-disease'\n",
    "print(aci_service_name)"
   ]
  },
  {
   "cell_type": "code",
   "execution_count": 22,
   "metadata": {
    "gather": {
     "logged": 1609059066228
    }
   },
   "outputs": [
    {
     "name": "stdout",
     "output_type": "stream",
     "text": [
      "Tips: You can try get_logs(): https://aka.ms/debugimage#dockerlog or local deployment: https://aka.ms/debugimage#debug-locally to debug if deployment takes longer than 10 minutes.\n",
      "Running.............\n",
      "Succeeded\n",
      "ACI service creation operation finished, operation \"Succeeded\"\n",
      "State: Healthy\n",
      "Scoring URI: http://af889be7-14d8-48e8-9205-0338fe6afdcb.southcentralus.azurecontainer.io/score\n"
     ]
    }
   ],
   "source": [
    "service = Model.deploy(ws, aci_service_name, [model], inference_config, aci_config)\n",
    "service.wait_for_deployment(True)\n",
    "print(\"State: \" + service.state)\n",
    "print(\"Scoring URI: \" + service.scoring_uri)"
   ]
  },
  {
   "cell_type": "markdown",
   "metadata": {},
   "source": [
    "## Testing using 2 different methods"
   ]
  },
  {
   "cell_type": "code",
   "execution_count": 23,
   "metadata": {
    "nteract": {
     "transient": {
      "deleting": false
     }
    }
   },
   "outputs": [
    {
     "name": "stdout",
     "output_type": "stream",
     "text": [
      "{\"result\": [1, 1]}\n"
     ]
    }
   ],
   "source": [
    "%run endpoint.py"
   ]
  },
  {
   "cell_type": "code",
   "execution_count": 35,
   "metadata": {
    "gather": {
     "logged": 1609062759579
    },
    "nteract": {
     "transient": {
      "deleting": false
     }
    }
   },
   "outputs": [
    {
     "name": "stdout",
     "output_type": "stream",
     "text": [
      "{\"data\": [{\"age\": 90, \"anaemia\": 1, \"creatinine_phosphokinase\": 60, \"diabetes\": 1, \"ejection_fraction\": 50, \"high_blood_pressure\": 0, \"platelets\": 226000.0, \"serum_creatinine\": 1.0, \"serum_sodium\": 134, \"sex\": 1, \"smoking\": 0, \"time\": 30}, {\"age\": 70, \"anaemia\": 0, \"creatinine_phosphokinase\": 618, \"diabetes\": 0, \"ejection_fraction\": 35, \"high_blood_pressure\": 0, \"platelets\": 327000.0, \"serum_creatinine\": 1.1, \"serum_sodium\": 142, \"sex\": 0, \"smoking\": 0, \"time\": 245}, {\"age\": 60, \"anaemia\": 1, \"creatinine_phosphokinase\": 260, \"diabetes\": 1, \"ejection_fraction\": 38, \"high_blood_pressure\": 0, \"platelets\": 255000.0, \"serum_creatinine\": 2.2, \"serum_sodium\": 132, \"sex\": 0, \"smoking\": 1, \"time\": 45}]}\n"
     ]
    }
   ],
   "source": [
    "data_test = data_test.to_pandas_dataframe().dropna()\n",
    "data_sample = data_test.sample(3)\n",
    "y_true = data_sample.pop('DEATH_EVENT')\n",
    "sample_json = json.dumps({'data':data_sample.to_dict(orient='records')})\n",
    "print(sample_json)"
   ]
  },
  {
   "cell_type": "code",
   "execution_count": 36,
   "metadata": {
    "gather": {
     "logged": 1609062767514
    },
    "nteract": {
     "transient": {
      "deleting": false
     }
    }
   },
   "outputs": [
    {
     "name": "stdout",
     "output_type": "stream",
     "text": [
      "Prediction:  {\"result\": [1, 0, 1]}\n",
      "True Values:  [1 0 1]\n"
     ]
    }
   ],
   "source": [
    "output = service.run(sample_json)\n",
    "print('Prediction: ', output)\n",
    "print('True Values: ', y_true.values)"
   ]
  },
  {
   "cell_type": "code",
   "execution_count": 37,
   "metadata": {
    "gather": {
     "logged": 1609062829772
    }
   },
   "outputs": [
    {
     "data": {
      "text/plain": [
       "'2020-12-28T08:02:58,638664100+00:00 - nginx/run \\n/usr/sbin/nginx: /azureml-envs/azureml_8eff28b157f42edcd2424a5aae6c8074/lib/libcrypto.so.1.0.0: no version information available (required by /usr/sbin/nginx)\\n/usr/sbin/nginx: /azureml-envs/azureml_8eff28b157f42edcd2424a5aae6c8074/lib/libcrypto.so.1.0.0: no version information available (required by /usr/sbin/nginx)\\n/usr/sbin/nginx: /azureml-envs/azureml_8eff28b157f42edcd2424a5aae6c8074/lib/libssl.so.1.0.0: no version information available (required by /usr/sbin/nginx)\\n/usr/sbin/nginx: /azureml-envs/azureml_8eff28b157f42edcd2424a5aae6c8074/lib/libssl.so.1.0.0: no version information available (required by /usr/sbin/nginx)\\n/usr/sbin/nginx: /azureml-envs/azureml_8eff28b157f42edcd2424a5aae6c8074/lib/libssl.so.1.0.0: no version information available (required by /usr/sbin/nginx)\\n2020-12-28T08:02:58,647916700+00:00 - rsyslog/run \\n2020-12-28T08:02:58,650225800+00:00 - iot-server/run \\n2020-12-28T08:02:58,659505900+00:00 - gunicorn/run \\nrsyslogd: /azureml-envs/azureml_8eff28b157f42edcd2424a5aae6c8074/lib/libuuid.so.1: no version information available (required by rsyslogd)\\nEdgeHubConnectionString and IOTEDGE_IOTHUBHOSTNAME are not set. Exiting...\\n2020-12-28T08:03:00,497461100+00:00 - iot-server/finish 1 0\\n2020-12-28T08:03:00,504740100+00:00 - Exit code 1 is normal. Not restarting iot-server.\\nStarting gunicorn 19.9.0\\nListening at: http://127.0.0.1:31311 (72)\\nUsing worker: sync\\nworker timeout is set to 300\\nBooting worker with pid: 100\\nSPARK_HOME not set. Skipping PySpark Initialization.\\nGenerating new fontManager, this may take some time...\\nInitializing logger\\n2020-12-28 08:03:05,343 | root | INFO | Starting up app insights client\\nStarting up app insights client\\n2020-12-28 08:03:05,344 | root | INFO | Starting up request id generator\\nStarting up request id generator\\n2020-12-28 08:03:05,344 | root | INFO | Starting up app insight hooks\\nStarting up app insight hooks\\n2020-12-28 08:03:05,344 | root | INFO | Invoking user\\'s init function\\nInvoking user\\'s init function\\n2020-12-28 08:03:13,289 | root | INFO | Users\\'s init has completed successfully\\nUsers\\'s init has completed successfully\\n2020-12-28 08:03:13,295 | root | INFO | Skipping middleware: dbg_model_info as it\\'s not enabled.\\nSkipping middleware: dbg_model_info as it\\'s not enabled.\\n2020-12-28 08:03:13,296 | root | INFO | Skipping middleware: dbg_resource_usage as it\\'s not enabled.\\nSkipping middleware: dbg_resource_usage as it\\'s not enabled.\\n2020-12-28 08:03:13,297 | root | INFO | Scoring timeout is found from os.environ: 60000 ms\\nScoring timeout is found from os.environ: 60000 ms\\n2020-12-28 08:03:13,348 | root | INFO | 200\\n200\\n127.0.0.1 - - [28/Dec/2020:08:03:13 +0000] \"GET /swagger.json HTTP/1.0\" 200 2870 \"-\" \"Go-http-client/1.1\"\\n2020-12-28 08:03:15,815 | root | INFO | 200\\n200\\n127.0.0.1 - - [28/Dec/2020:08:03:15 +0000] \"GET /swagger.json HTTP/1.0\" 200 2870 \"-\" \"Go-http-client/1.1\"\\n2020-12-28 08:03:38,670 | root | INFO | Validation Request Content-Type\\nValidation Request Content-Type\\n2020-12-28 08:03:38,671 | root | INFO | \\tHost: localhost:5001\\n\\tHost: localhost:5001\\n2020-12-28 08:03:38,671 | root | INFO | \\tX-Real-Ip: 127.0.0.1\\n\\tX-Real-Ip: 127.0.0.1\\n2020-12-28 08:03:38,672 | root | INFO | \\tX-Forwarded-For: 127.0.0.1\\n\\tX-Forwarded-For: 127.0.0.1\\n2020-12-28 08:03:38,672 | root | INFO | \\tX-Forwarded-Proto: http\\n\\tX-Forwarded-Proto: http\\n2020-12-28 08:03:38,673 | root | INFO | \\tConnection: close\\n\\tConnection: close\\n2020-12-28 08:03:38,673 | root | INFO | \\tContent-Length: 474\\n\\tContent-Length: 474\\n2020-12-28 08:03:38,674 | root | INFO | \\tUser-Agent: python-requests/2.25.0\\n\\tUser-Agent: python-requests/2.25.0\\n2020-12-28 08:03:38,674 | root | INFO | \\tAccept: */*\\n\\tAccept: */*\\n2020-12-28 08:03:38,674 | root | INFO | \\tAccept-Encoding: gzip, deflate\\n\\tAccept-Encoding: gzip, deflate\\n2020-12-28 08:03:38,675 | root | INFO | \\tContent-Type: application/json\\n\\tContent-Type: application/json\\n2020-12-28 08:03:38,675 | root | INFO | \\tX-Ms-Request-Id: 59ea15ae-193a-4c06-932a-21a9634619fe\\n\\tX-Ms-Request-Id: 59ea15ae-193a-4c06-932a-21a9634619fe\\n2020-12-28 08:03:38,676 | root | INFO | Scoring Timer is set to 60.0 seconds\\nScoring Timer is set to 60.0 seconds\\n2020-12-28 08:03:38,878 | root | INFO | 200\\n200\\n127.0.0.1 - - [28/Dec/2020:08:03:38 +0000] \"POST /score HTTP/1.0\" 200 22 \"-\" \"python-requests/2.25.0\"\\n2020-12-28 08:03:45,034 | root | INFO | Validation Request Content-Type\\nValidation Request Content-Type\\n2020-12-28 08:03:45,035 | root | INFO | \\tHost: localhost:5001\\n\\tHost: localhost:5001\\n2020-12-28 08:03:45,035 | root | INFO | \\tX-Real-Ip: 127.0.0.1\\n\\tX-Real-Ip: 127.0.0.1\\n2020-12-28 08:03:45,036 | root | INFO | \\tX-Forwarded-For: 127.0.0.1\\n\\tX-Forwarded-For: 127.0.0.1\\n2020-12-28 08:03:45,036 | root | INFO | \\tX-Forwarded-Proto: http\\n\\tX-Forwarded-Proto: http\\n2020-12-28 08:03:45,036 | root | INFO | \\tConnection: close\\n\\tConnection: close\\n2020-12-28 08:03:45,037 | root | INFO | \\tContent-Length: 704\\n\\tContent-Length: 704\\n2020-12-28 08:03:45,037 | root | INFO | \\tUser-Agent: python-requests/2.25.0\\n\\tUser-Agent: python-requests/2.25.0\\n2020-12-28 08:03:45,037 | root | INFO | \\tAccept: application/json\\n\\tAccept: application/json\\n2020-12-28 08:03:45,037 | root | INFO | \\tAccept-Encoding: gzip, deflate\\n\\tAccept-Encoding: gzip, deflate\\n2020-12-28 08:03:45,038 | root | INFO | \\tContent-Type: application/json\\n\\tContent-Type: application/json\\n2020-12-28 08:03:45,038 | root | INFO | \\tX-Ms-Request-Id: 9284995b-ad02-4e21-9e8e-17875c1e7f3a\\n\\tX-Ms-Request-Id: 9284995b-ad02-4e21-9e8e-17875c1e7f3a\\n2020-12-28 08:03:45,038 | root | INFO | Scoring Timer is set to 60.0 seconds\\nScoring Timer is set to 60.0 seconds\\n2020-12-28 08:03:45,241 | root | INFO | 200\\n200\\n127.0.0.1 - - [28/Dec/2020:08:03:45 +0000] \"POST /score HTTP/1.0\" 200 25 \"-\" \"python-requests/2.25.0\"\\n2020-12-28 08:04:45,024 | root | INFO | Validation Request Content-Type\\nValidation Request Content-Type\\n2020-12-28 08:04:45,025 | root | INFO | \\tHost: localhost:5001\\n\\tHost: localhost:5001\\n2020-12-28 08:04:45,025 | root | INFO | \\tX-Real-Ip: 127.0.0.1\\n\\tX-Real-Ip: 127.0.0.1\\n2020-12-28 08:04:45,026 | root | INFO | \\tX-Forwarded-For: 127.0.0.1\\n\\tX-Forwarded-For: 127.0.0.1\\n2020-12-28 08:04:45,026 | root | INFO | \\tX-Forwarded-Proto: http\\n\\tX-Forwarded-Proto: http\\n2020-12-28 08:04:45,026 | root | INFO | \\tConnection: close\\n\\tConnection: close\\n2020-12-28 08:04:45,027 | root | INFO | \\tContent-Length: 706\\n\\tContent-Length: 706\\n2020-12-28 08:04:45,027 | root | INFO | \\tUser-Agent: python-requests/2.25.0\\n\\tUser-Agent: python-requests/2.25.0\\n2020-12-28 08:04:45,028 | root | INFO | \\tAccept: application/json\\n\\tAccept: application/json\\n2020-12-28 08:04:45,028 | root | INFO | \\tAccept-Encoding: gzip, deflate\\n\\tAccept-Encoding: gzip, deflate\\n2020-12-28 08:04:45,028 | root | INFO | \\tContent-Type: application/json\\n\\tContent-Type: application/json\\n2020-12-28 08:04:45,029 | root | INFO | \\tX-Ms-Request-Id: ac1851ca-5293-44e2-87bf-d95d14ef2000\\n\\tX-Ms-Request-Id: ac1851ca-5293-44e2-87bf-d95d14ef2000\\n2020-12-28 08:04:45,029 | root | INFO | Scoring Timer is set to 60.0 seconds\\nScoring Timer is set to 60.0 seconds\\n2020-12-28 08:04:45,239 | root | INFO | 200\\n200\\n127.0.0.1 - - [28/Dec/2020:08:04:45 +0000] \"POST /score HTTP/1.0\" 200 25 \"-\" \"python-requests/2.25.0\"\\n2020-12-28 08:05:10,592 | root | INFO | Validation Request Content-Type\\nValidation Request Content-Type\\n2020-12-28 08:05:10,593 | root | INFO | \\tHost: localhost:5001\\n\\tHost: localhost:5001\\n2020-12-28 08:05:10,593 | root | INFO | \\tX-Real-Ip: 127.0.0.1\\n\\tX-Real-Ip: 127.0.0.1\\n2020-12-28 08:05:10,593 | root | INFO | \\tX-Forwarded-For: 127.0.0.1\\n\\tX-Forwarded-For: 127.0.0.1\\n2020-12-28 08:05:10,593 | root | INFO | \\tX-Forwarded-Proto: http\\n\\tX-Forwarded-Proto: http\\n2020-12-28 08:05:10,593 | root | INFO | \\tConnection: close\\n\\tConnection: close\\n2020-12-28 08:05:10,593 | root | INFO | \\tContent-Length: 706\\n\\tContent-Length: 706\\n2020-12-28 08:05:10,594 | root | INFO | \\tUser-Agent: python-requests/2.25.0\\n\\tUser-Agent: python-requests/2.25.0\\n2020-12-28 08:05:10,595 | root | INFO | \\tAccept: application/json\\n\\tAccept: application/json\\n2020-12-28 08:05:10,595 | root | INFO | \\tAccept-Encoding: gzip, deflate\\n\\tAccept-Encoding: gzip, deflate\\n2020-12-28 08:05:10,596 | root | INFO | \\tContent-Type: application/json\\n\\tContent-Type: application/json\\n2020-12-28 08:05:10,597 | root | INFO | \\tX-Ms-Request-Id: 2a278dde-69d8-41a5-be99-744049a160ea\\n\\tX-Ms-Request-Id: 2a278dde-69d8-41a5-be99-744049a160ea\\n2020-12-28 08:05:10,598 | root | INFO | Scoring Timer is set to 60.0 seconds\\nScoring Timer is set to 60.0 seconds\\n2020-12-28 08:05:10,806 | root | INFO | 200\\n200\\n127.0.0.1 - - [28/Dec/2020:08:05:10 +0000] \"POST /score HTTP/1.0\" 200 25 \"-\" \"python-requests/2.25.0\"\\n2020-12-28 08:05:38,595 | root | INFO | Validation Request Content-Type\\nValidation Request Content-Type\\n2020-12-28 08:05:38,595 | root | INFO | \\tHost: localhost:5001\\n\\tHost: localhost:5001\\n2020-12-28 08:05:38,596 | root | INFO | \\tX-Real-Ip: 127.0.0.1\\n\\tX-Real-Ip: 127.0.0.1\\n2020-12-28 08:05:38,596 | root | INFO | \\tX-Forwarded-For: 127.0.0.1\\n\\tX-Forwarded-For: 127.0.0.1\\n2020-12-28 08:05:38,596 | root | INFO | \\tX-Forwarded-Proto: http\\n\\tX-Forwarded-Proto: http\\n2020-12-28 08:05:38,596 | root | INFO | \\tConnection: close\\n\\tConnection: close\\n2020-12-28 08:05:38,596 | root | INFO | \\tContent-Length: 703\\n\\tContent-Length: 703\\n2020-12-28 08:05:38,596 | root | INFO | \\tUser-Agent: python-requests/2.25.0\\n\\tUser-Agent: python-requests/2.25.0\\n2020-12-28 08:05:38,596 | root | INFO | \\tAccept: application/json\\n\\tAccept: application/json\\n2020-12-28 08:05:38,597 | root | INFO | \\tAccept-Encoding: gzip, deflate\\n\\tAccept-Encoding: gzip, deflate\\n2020-12-28 08:05:38,597 | root | INFO | \\tContent-Type: application/json\\n\\tContent-Type: application/json\\n2020-12-28 08:05:38,597 | root | INFO | \\tX-Ms-Request-Id: 5f914dd7-31aa-4a53-9f8d-31a1cf8f66bd\\n\\tX-Ms-Request-Id: 5f914dd7-31aa-4a53-9f8d-31a1cf8f66bd\\n2020-12-28 08:05:38,597 | root | INFO | Scoring Timer is set to 60.0 seconds\\nScoring Timer is set to 60.0 seconds\\n2020-12-28 08:05:38,812 | root | INFO | 200\\n200\\n127.0.0.1 - - [28/Dec/2020:08:05:38 +0000] \"POST /score HTTP/1.0\" 200 25 \"-\" \"python-requests/2.25.0\"\\n'"
      ]
     },
     "execution_count": 37,
     "metadata": {},
     "output_type": "execute_result"
    }
   ],
   "source": [
    "service.get_logs()"
   ]
  },
  {
   "cell_type": "code",
   "execution_count": 38,
   "metadata": {},
   "outputs": [],
   "source": [
    "service.delete()"
   ]
  },
  {
   "cell_type": "code",
   "execution_count": null,
   "metadata": {},
   "outputs": [],
   "source": []
  },
  {
   "cell_type": "code",
   "execution_count": null,
   "metadata": {},
   "outputs": [],
   "source": []
  },
  {
   "cell_type": "code",
   "execution_count": null,
   "metadata": {},
   "outputs": [],
   "source": []
  }
 ],
 "metadata": {
  "kernel_info": {
   "name": "python3"
  },
  "kernelspec": {
   "display_name": "Python 3",
   "language": "python",
   "name": "python3"
  },
  "language_info": {
   "codemirror_mode": {
    "name": "ipython",
    "version": 3
   },
   "file_extension": ".py",
   "mimetype": "text/x-python",
   "name": "python",
   "nbconvert_exporter": "python",
   "pygments_lexer": "ipython3",
   "version": "3.6.9"
  },
  "microsoft": {
   "host": {
    "AzureML": {
     "notebookHasBeenCompleted": true
    }
   }
  },
  "nteract": {
   "version": "nteract-front-end@1.0.0"
  }
 },
 "nbformat": 4,
 "nbformat_minor": 4
}
