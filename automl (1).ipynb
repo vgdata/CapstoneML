{
 "cells": [
  {
   "cell_type": "markdown",
   "metadata": {},
   "source": [
    "## Automated ML\n",
    "\n",
    "Import dependencies. "
   ]
  },
  {
   "cell_type": "code",
   "execution_count": 5,
   "metadata": {
    "gather": {
     "logged": 1609140734398
    },
    "jupyter": {
     "outputs_hidden": false,
     "source_hidden": false
    },
    "nteract": {
     "transient": {
      "deleting": false
     }
    }
   },
   "outputs": [],
   "source": [
    "import os\n",
    "import pandas as pd\n",
    "import numpy as np\n",
    "import json\n",
    "import requests\n",
    "import joblib\n",
    "from sklearn.metrics import confusion_matrix\n",
    "import itertools\n",
    "\n",
    "from azureml.core import Dataset, Workspace, Experiment\n",
    "from azureml.core.compute import ComputeTarget, AmlCompute\n",
    "from azureml.core.compute_target import ComputeTargetException\n",
    "from azureml.widgets import RunDetails\n",
    "from azureml.train.automl import AutoMLConfig\n",
    "\n",
    "from azureml.core.model import InferenceConfig\n",
    "from azureml.core.webservice import AciWebservice, Webservice\n",
    "from azureml.core.model import Model\n",
    "from azureml.core.environment import Environment"
   ]
  },
  {
   "cell_type": "markdown",
   "metadata": {},
   "source": [
    "## Dataset\n",
    "\n",
    "### Overview\n",
    "\n",
    "**Dataset:** Davide Chicco, Giuseppe Jurman: \"Machine learning can predict survival of patients with heart failure from serum creatinine and ejection fraction alone\". BMC Medical Informatics and Decision Making 20, 16 (2020)\n",
    "\n",
    "Heart failure is a common event caused by CVDs and this dataset contains 12 features that can be used to predict mortality by heart failure.\n",
    "\n",
    "**12 clinical features:**\n",
    "\n",
    "- age: age of the patient (years)\n",
    "- anaemia: decrease of red blood cells or hemoglobin (boolean)\n",
    "- high blood pressure: if the patient has hypertension (boolean)\n",
    "- creatinine phosphokinase (CPK): level of the CPK enzyme in the blood (mcg/L)\n",
    "- diabetes: if the patient has diabetes (boolean)\n",
    "- ejection fraction: percentage of blood leaving the heart at each contraction (percentage)\n",
    "- platelets: platelets in the blood (kiloplatelets/mL)\n",
    "- sex: woman or man (binary)\n",
    "- serum creatinine: level of serum creatinine in the blood (mg/dL)\n",
    "- serum sodium: level of serum sodium in the blood (mEq/L)\n",
    "- smoking: if the patient smokes or not (boolean)\n",
    "- time: follow-up period (days)\n",
    "\n",
    "In this project, Azure AutoML will be used to make prediction on the death event based on patient's 12 clinical features. "
   ]
  },
  {
   "cell_type": "markdown",
   "metadata": {},
   "source": [
    "## Workspace setup"
   ]
  },
  {
   "cell_type": "code",
   "execution_count": 8,
   "metadata": {
    "gather": {
     "logged": 1609140774503
    },
    "jupyter": {
     "outputs_hidden": false,
     "source_hidden": false
    },
    "nteract": {
     "transient": {
      "deleting": false
     }
    }
   },
   "outputs": [],
   "source": [
    "ws = Workspace.from_config()\n",
    "\n",
    "experiment_name = 'automl-experiment'\n",
    "\n",
    "experiment = Experiment(ws, experiment_name)"
   ]
  },
  {
   "cell_type": "code",
   "execution_count": 11,
   "metadata": {
    "gather": {
     "logged": 1609063666153
    },
    "scrolled": true
   },
   "outputs": [],
   "source": [
    "dataset = Dataset.get_by_name(ws, 'heart-disease-kaggle')"
   ]
  },
  {
   "cell_type": "code",
   "execution_count": 12,
   "metadata": {
    "gather": {
     "logged": 1609063680104
    },
    "nteract": {
     "transient": {
      "deleting": false
     }
    }
   },
   "outputs": [
    {
     "data": {
      "text/html": [
       "<div>\n",
       "<style scoped>\n",
       "    .dataframe tbody tr th:only-of-type {\n",
       "        vertical-align: middle;\n",
       "    }\n",
       "\n",
       "    .dataframe tbody tr th {\n",
       "        vertical-align: top;\n",
       "    }\n",
       "\n",
       "    .dataframe thead th {\n",
       "        text-align: right;\n",
       "    }\n",
       "</style>\n",
       "<table border=\"1\" class=\"dataframe\">\n",
       "  <thead>\n",
       "    <tr style=\"text-align: right;\">\n",
       "      <th></th>\n",
       "      <th>age</th>\n",
       "      <th>anaemia</th>\n",
       "      <th>creatinine_phosphokinase</th>\n",
       "      <th>diabetes</th>\n",
       "      <th>ejection_fraction</th>\n",
       "      <th>high_blood_pressure</th>\n",
       "      <th>platelets</th>\n",
       "      <th>serum_creatinine</th>\n",
       "      <th>serum_sodium</th>\n",
       "      <th>sex</th>\n",
       "      <th>smoking</th>\n",
       "      <th>time</th>\n",
       "      <th>DEATH_EVENT</th>\n",
       "    </tr>\n",
       "  </thead>\n",
       "  <tbody>\n",
       "    <tr>\n",
       "      <th>0</th>\n",
       "      <td>75.0</td>\n",
       "      <td>0</td>\n",
       "      <td>582</td>\n",
       "      <td>0</td>\n",
       "      <td>20</td>\n",
       "      <td>1</td>\n",
       "      <td>265000.00</td>\n",
       "      <td>1.9</td>\n",
       "      <td>130</td>\n",
       "      <td>1</td>\n",
       "      <td>0</td>\n",
       "      <td>4</td>\n",
       "      <td>1</td>\n",
       "    </tr>\n",
       "    <tr>\n",
       "      <th>1</th>\n",
       "      <td>55.0</td>\n",
       "      <td>0</td>\n",
       "      <td>7861</td>\n",
       "      <td>0</td>\n",
       "      <td>38</td>\n",
       "      <td>0</td>\n",
       "      <td>263358.03</td>\n",
       "      <td>1.1</td>\n",
       "      <td>136</td>\n",
       "      <td>1</td>\n",
       "      <td>0</td>\n",
       "      <td>6</td>\n",
       "      <td>1</td>\n",
       "    </tr>\n",
       "    <tr>\n",
       "      <th>2</th>\n",
       "      <td>65.0</td>\n",
       "      <td>0</td>\n",
       "      <td>146</td>\n",
       "      <td>0</td>\n",
       "      <td>20</td>\n",
       "      <td>0</td>\n",
       "      <td>162000.00</td>\n",
       "      <td>1.3</td>\n",
       "      <td>129</td>\n",
       "      <td>1</td>\n",
       "      <td>1</td>\n",
       "      <td>7</td>\n",
       "      <td>1</td>\n",
       "    </tr>\n",
       "    <tr>\n",
       "      <th>3</th>\n",
       "      <td>50.0</td>\n",
       "      <td>1</td>\n",
       "      <td>111</td>\n",
       "      <td>0</td>\n",
       "      <td>20</td>\n",
       "      <td>0</td>\n",
       "      <td>210000.00</td>\n",
       "      <td>1.9</td>\n",
       "      <td>137</td>\n",
       "      <td>1</td>\n",
       "      <td>0</td>\n",
       "      <td>7</td>\n",
       "      <td>1</td>\n",
       "    </tr>\n",
       "    <tr>\n",
       "      <th>4</th>\n",
       "      <td>65.0</td>\n",
       "      <td>1</td>\n",
       "      <td>160</td>\n",
       "      <td>1</td>\n",
       "      <td>20</td>\n",
       "      <td>0</td>\n",
       "      <td>327000.00</td>\n",
       "      <td>2.7</td>\n",
       "      <td>116</td>\n",
       "      <td>0</td>\n",
       "      <td>0</td>\n",
       "      <td>8</td>\n",
       "      <td>1</td>\n",
       "    </tr>\n",
       "  </tbody>\n",
       "</table>\n",
       "</div>"
      ],
      "text/plain": [
       "    age  anaemia  creatinine_phosphokinase  diabetes  ejection_fraction  \\\n",
       "0  75.0        0                       582         0                 20   \n",
       "1  55.0        0                      7861         0                 38   \n",
       "2  65.0        0                       146         0                 20   \n",
       "3  50.0        1                       111         0                 20   \n",
       "4  65.0        1                       160         1                 20   \n",
       "\n",
       "   high_blood_pressure  platelets  serum_creatinine  serum_sodium  sex  \\\n",
       "0                    1  265000.00               1.9           130    1   \n",
       "1                    0  263358.03               1.1           136    1   \n",
       "2                    0  162000.00               1.3           129    1   \n",
       "3                    0  210000.00               1.9           137    1   \n",
       "4                    0  327000.00               2.7           116    0   \n",
       "\n",
       "   smoking  time  DEATH_EVENT  \n",
       "0        0     4            1  \n",
       "1        0     6            1  \n",
       "2        1     7            1  \n",
       "3        0     7            1  \n",
       "4        0     8            1  "
      ]
     },
     "execution_count": 12,
     "metadata": {},
     "output_type": "execute_result"
    }
   ],
   "source": [
    "dataset.take(5).to_pandas_dataframe()"
   ]
  },
  {
   "cell_type": "code",
   "execution_count": 17,
   "metadata": {
    "gather": {
     "logged": 1609063684361
    }
   },
   "outputs": [],
   "source": [
    "data_train, data_test = dataset.random_split(0.9)"
   ]
  },
  {
   "cell_type": "markdown",
   "metadata": {},
   "source": [
    "## Config Compute Cluster"
   ]
  },
  {
   "cell_type": "code",
   "execution_count": 15,
   "metadata": {
    "gather": {
     "logged": 1609065223998
    }
   },
   "outputs": [
    {
     "name": "stdout",
     "output_type": "stream",
     "text": [
      "Creating\n",
      "Succeeded\n",
      "AmlCompute wait for completion finished\n",
      "\n",
      "Minimum number of nodes requested have been provisioned\n"
     ]
    }
   ],
   "source": [
    "cpu_cluster_name = \"cpu-cluster\"\n",
    "\n",
    "# Verify that cluster does not exist already\n",
    "try:\n",
    "    compute_target = ComputeTarget(workspace=ws, name=cpu_cluster_name)\n",
    "    print('Found existing cluster, use it.')\n",
    "except ComputeTargetException:\n",
    "    compute_config = AmlCompute.provisioning_configuration(vm_size='STANDARD_D12_V2',\n",
    "                                                           max_nodes=5)\n",
    "    compute_target = ComputeTarget.create(ws, cpu_cluster_name, compute_config)\n",
    "\n",
    "compute_target.wait_for_completion(show_output=True)"
   ]
  },
  {
   "cell_type": "markdown",
   "metadata": {},
   "source": [
    "## AutoML Configuration"
   ]
  },
  {
   "cell_type": "code",
   "execution_count": 18,
   "metadata": {
    "gather": {
     "logged": 1609065227571
    },
    "jupyter": {
     "outputs_hidden": false,
     "source_hidden": false
    },
    "nteract": {
     "transient": {
      "deleting": false
     }
    }
   },
   "outputs": [],
   "source": [
    "automl_settings = {\n",
    "    \"experiment_timeout_minutes\": 30,\n",
    "    \"max_concurrent_iterations\": 4,\n",
    "    \"primary_metric\" : 'accuracy',\n",
    "    \"n_cross_validations\": 5\n",
    "}\n",
    "automl_config = AutoMLConfig(compute_target=compute_target,\n",
    "                             task = \"classification\",\n",
    "                             training_data=data_train,\n",
    "                             label_column_name=\"DEATH_EVENT\", \n",
    "                             enable_early_stopping= True,\n",
    "                             featurization= 'auto',\n",
    "                             **automl_settings\n",
    "                            )"
   ]
  },
  {
   "cell_type": "markdown",
   "metadata": {},
   "source": [
    "AutoML typically performs cross validation, data balance check, cardinality check in prior to machine learning process with a variety of algorithms. "
   ]
  },
  {
   "cell_type": "code",
   "execution_count": 19,
   "metadata": {
    "gather": {
     "logged": 1609057253934
    }
   },
   "outputs": [
    {
     "name": "stdout",
     "output_type": "stream",
     "text": [
      "Running on remote.\n",
      "No run_configuration provided, running on cpu-cluster with default configuration\n",
      "Running on remote compute: cpu-cluster\n",
      "Parent Run ID: AutoML_d9ffa425-70a0-4a9e-b986-277279d98158\n",
      "\n",
      "Current status: FeaturesGeneration. Generating features for the dataset.\n",
      "Current status: ModelSelection. Beginning model selection.\n",
      "\n",
      "****************************************************************************************************\n",
      "DATA GUARDRAILS: \n",
      "\n",
      "TYPE:         Class balancing detection\n",
      "STATUS:       PASSED\n",
      "DESCRIPTION:  Your inputs were analyzed, and all classes are balanced in your training data.\n",
      "              Learn more about imbalanced data: https://aka.ms/AutomatedMLImbalancedData\n",
      "\n",
      "****************************************************************************************************\n",
      "\n",
      "TYPE:         Missing feature values imputation\n",
      "STATUS:       PASSED\n",
      "DESCRIPTION:  No feature missing values were detected in the training data.\n",
      "              Learn more about missing value imputation: https://aka.ms/AutomatedMLFeaturization\n",
      "\n",
      "****************************************************************************************************\n",
      "\n",
      "TYPE:         High cardinality feature detection\n",
      "STATUS:       PASSED\n",
      "DESCRIPTION:  Your inputs were analyzed, and no high cardinality features were detected.\n",
      "              Learn more about high cardinality feature handling: https://aka.ms/AutomatedMLFeaturization\n",
      "\n",
      "****************************************************************************************************\n",
      "\n",
      "****************************************************************************************************\n",
      "ITERATION: The iteration being evaluated.\n",
      "PIPELINE: A summary description of the pipeline being evaluated.\n",
      "DURATION: Time taken for the current iteration.\n",
      "METRIC: The result of computing score on the fitted pipeline.\n",
      "BEST: The best observed score thus far.\n",
      "****************************************************************************************************\n",
      "\n",
      " ITERATION   PIPELINE                                       DURATION      METRIC      BEST\n",
      "         2   MinMaxScaler RandomForest                      0:00:57       0.8305    0.8305\n",
      "         1   MaxAbsScaler XGBoostClassifier                 0:01:02       0.8413    0.8413\n",
      "         3   MinMaxScaler RandomForest                      0:00:55       0.8413    0.8413\n",
      "         5   StandardScalerWrapper LightGBM                 0:00:55       0.8413    0.8413\n",
      "         0   MaxAbsScaler LightGBM                          0:02:26       0.8562    0.8562\n",
      "         6   MinMaxScaler SVM                               0:01:01       0.7341    0.8562\n",
      "         4   MinMaxScaler RandomForest                      0:03:07       0.8488    0.8562\n",
      "         8   SparseNormalizer XGBoostClassifier             0:00:55       0.8117    0.8562\n",
      "         9   MaxAbsScaler GradientBoosting                  0:00:48       0.8413    0.8562\n",
      "        10   SparseNormalizer XGBoostClassifier             0:01:02       0.8080    0.8562\n",
      "        11   SparseNormalizer LightGBM                      0:00:49       0.7527    0.8562\n",
      "        12   StandardScalerWrapper XGBoostClassifier        0:00:49       0.8118    0.8562\n",
      "         7   SparseNormalizer XGBoostClassifier             0:02:36       0.8265    0.8562\n",
      "        13   MaxAbsScaler LightGBM                          0:00:58       0.8302    0.8562\n",
      "        14   StandardScalerWrapper LightGBM                 0:00:49       0.8451    0.8562\n",
      "        15   MinMaxScaler LightGBM                          0:00:52       0.8228    0.8562\n",
      "        16   RobustScaler RandomForest                      0:00:52       0.8376    0.8562\n",
      "        17   MaxAbsScaler LightGBM                          0:00:56       0.8341    0.8562\n",
      "        18   RobustScaler ExtremeRandomTrees                0:00:49       0.8450    0.8562\n",
      "        19   SparseNormalizer XGBoostClassifier             0:00:49       0.8523    0.8562\n",
      "        20   StandardScalerWrapper XGBoostClassifier        0:00:54       0.8303    0.8562\n",
      "        21   TruncatedSVDWrapper RandomForest               0:00:49       0.7711    0.8562\n",
      "        22   RobustScaler LightGBM                          0:00:56       0.8376    0.8562\n",
      "        23   MinMaxScaler ExtremeRandomTrees                0:00:55       0.8523    0.8562\n",
      "        24   MaxAbsScaler LightGBM                          0:00:59       0.8228    0.8562\n",
      "        25   StandardScalerWrapper LightGBM                 0:00:55       0.6935    0.8562\n",
      "        26   MaxAbsScaler ExtremeRandomTrees                0:00:52       0.8303    0.8562\n",
      "        27   RobustScaler ExtremeRandomTrees                0:00:56       0.8525    0.8562\n",
      "        28   StandardScalerWrapper ExtremeRandomTrees       0:00:52       0.8158    0.8562\n",
      "        29   SparseNormalizer ExtremeRandomTrees            0:00:52       0.8302    0.8562\n",
      "        30   MaxAbsScaler LightGBM                          0:00:53       0.8413    0.8562\n",
      "        31   StandardScalerWrapper XGBoostClassifier        0:00:57       0.8302    0.8562\n",
      "        32   StandardScalerWrapper ExtremeRandomTrees       0:00:53       0.8412    0.8562\n",
      "        33                                                  0:00:15          nan    0.8562\n",
      "        34                                                  0:00:10          nan    0.8562\n",
      "        35                                                  0:00:19          nan    0.8562\n",
      "        36    VotingEnsemble                                0:01:30       0.8782    0.8782\n",
      "        37    StackEnsemble                                 0:01:28       0.8599    0.8782\n"
     ]
    }
   ],
   "source": [
    "remote_run = experiment.submit(automl_config, show_output = True)"
   ]
  },
  {
   "cell_type": "markdown",
   "metadata": {},
   "source": [
    "## Run Details"
   ]
  },
  {
   "cell_type": "code",
   "execution_count": 11,
   "metadata": {
    "gather": {
     "logged": 1609064958780
    },
    "scrolled": true
   },
   "outputs": [
    {
     "data": {
      "text/html": [
       "<table style=\"width:100%\"><tr><th>Experiment</th><th>Id</th><th>Type</th><th>Status</th><th>Details Page</th><th>Docs Page</th></tr><tr><td>automl-experiment</td><td>AutoML_1ac39d64-bc53-42d1-9deb-b1258b311536</td><td>automl</td><td>Completed</td><td><a href=\"https://ml.azure.com/experiments/automl-experiment/runs/AutoML_1ac39d64-bc53-42d1-9deb-b1258b311536?wsid=/subscriptions/5a4ab2ba-6c51-4805-8155-58759ad589d8/resourcegroups/aml-quickstarts-132133/workspaces/quick-starts-ws-132133\" target=\"_blank\" rel=\"noopener\">Link to Azure Machine Learning studio</a></td><td><a href=\"https://docs.microsoft.com/en-us/python/api/overview/azure/ml/intro?view=azure-ml-py\" target=\"_blank\" rel=\"noopener\">Link to Documentation</a></td></tr></table>"
      ],
      "text/plain": [
       "Run(Experiment: automl-experiment,\n",
       "Id: AutoML_1ac39d64-bc53-42d1-9deb-b1258b311536,\n",
       "Type: automl,\n",
       "Status: Completed)"
      ]
     },
     "execution_count": 11,
     "metadata": {},
     "output_type": "execute_result"
    }
   ],
   "source": [
    "remote_run"
   ]
  },
  {
   "cell_type": "code",
   "execution_count": 12,
   "metadata": {
    "gather": {
     "logged": 1609057313573
    },
    "scrolled": true
   },
   "outputs": [
    {
     "data": {
      "application/vnd.jupyter.widget-view+json": {
       "model_id": "cf15140e23794307b8f3c13bfa104cbb",
       "version_major": 2,
       "version_minor": 0
      },
      "text/plain": [
       "_AutoMLWidget(widget_settings={'childWidgetDisplay': 'popup', 'send_telemetry': False, 'log_level': 'INFO', 's…"
      ]
     },
     "metadata": {},
     "output_type": "display_data"
    },
    {
     "data": {
      "application/aml.mini.widget.v1": "{\"status\": \"Completed\", \"workbench_run_details_uri\": \"https://ml.azure.com/experiments/automl-experiment/runs/AutoML_1ac39d64-bc53-42d1-9deb-b1258b311536?wsid=/subscriptions/5a4ab2ba-6c51-4805-8155-58759ad589d8/resourcegroups/aml-quickstarts-132133/workspaces/quick-starts-ws-132133\", \"run_id\": \"AutoML_1ac39d64-bc53-42d1-9deb-b1258b311536\", \"run_properties\": {\"run_id\": \"AutoML_1ac39d64-bc53-42d1-9deb-b1258b311536\", \"created_utc\": \"2020-12-28T07:35:11.272957Z\", \"properties\": {\"num_iterations\": \"1000\", \"training_type\": \"TrainFull\", \"acquisition_function\": \"EI\", \"primary_metric\": \"accuracy\", \"train_split\": \"0\", \"acquisition_parameter\": \"0\", \"num_cross_validation\": \"5\", \"target\": \"cpu-cluster\", \"AMLSettingsJsonString\": \"{\\\"path\\\":null,\\\"name\\\":\\\"automl-experiment\\\",\\\"subscription_id\\\":\\\"5a4ab2ba-6c51-4805-8155-58759ad589d8\\\",\\\"resource_group\\\":\\\"aml-quickstarts-132133\\\",\\\"workspace_name\\\":\\\"quick-starts-ws-132133\\\",\\\"region\\\":\\\"southcentralus\\\",\\\"compute_target\\\":\\\"cpu-cluster\\\",\\\"spark_service\\\":null,\\\"azure_service\\\":\\\"remote\\\",\\\"many_models\\\":false,\\\"pipeline_fetch_max_batch_size\\\":1,\\\"iterations\\\":1000,\\\"primary_metric\\\":\\\"accuracy\\\",\\\"task_type\\\":\\\"classification\\\",\\\"data_script\\\":null,\\\"validation_size\\\":0.0,\\\"n_cross_validations\\\":5,\\\"y_min\\\":null,\\\"y_max\\\":null,\\\"num_classes\\\":null,\\\"featurization\\\":\\\"auto\\\",\\\"_ignore_package_version_incompatibilities\\\":false,\\\"is_timeseries\\\":false,\\\"max_cores_per_iteration\\\":1,\\\"max_concurrent_iterations\\\":4,\\\"iteration_timeout_minutes\\\":null,\\\"mem_in_mb\\\":null,\\\"enforce_time_on_windows\\\":false,\\\"experiment_timeout_minutes\\\":30,\\\"experiment_exit_score\\\":null,\\\"whitelist_models\\\":null,\\\"blacklist_algos\\\":[\\\"TensorFlowLinearClassifier\\\",\\\"TensorFlowDNN\\\"],\\\"supported_models\\\":[\\\"KNN\\\",\\\"LightGBM\\\",\\\"AveragedPerceptronClassifier\\\",\\\"GradientBoosting\\\",\\\"TensorFlowLinearClassifier\\\",\\\"RandomForest\\\",\\\"SVM\\\",\\\"DecisionTree\\\",\\\"LogisticRegression\\\",\\\"ExtremeRandomTrees\\\",\\\"XGBoostClassifier\\\",\\\"MultinomialNaiveBayes\\\",\\\"BernoulliNaiveBayes\\\",\\\"LinearSVM\\\",\\\"SGD\\\",\\\"TensorFlowDNN\\\"],\\\"auto_blacklist\\\":true,\\\"blacklist_samples_reached\\\":false,\\\"exclude_nan_labels\\\":true,\\\"verbosity\\\":20,\\\"_debug_log\\\":\\\"azureml_automl.log\\\",\\\"show_warnings\\\":false,\\\"model_explainability\\\":true,\\\"service_url\\\":null,\\\"sdk_url\\\":null,\\\"sdk_packages\\\":null,\\\"enable_onnx_compatible_models\\\":false,\\\"enable_split_onnx_featurizer_estimator_models\\\":false,\\\"vm_type\\\":\\\"STANDARD_D12_V2\\\",\\\"telemetry_verbosity\\\":20,\\\"send_telemetry\\\":true,\\\"enable_dnn\\\":false,\\\"scenario\\\":\\\"SDK-1.13.0\\\",\\\"environment_label\\\":null,\\\"force_text_dnn\\\":false,\\\"enable_feature_sweeping\\\":true,\\\"enable_early_stopping\\\":true,\\\"early_stopping_n_iters\\\":10,\\\"metrics\\\":null,\\\"enable_ensembling\\\":true,\\\"enable_stack_ensembling\\\":true,\\\"ensemble_iterations\\\":15,\\\"enable_tf\\\":false,\\\"enable_subsampling\\\":null,\\\"subsample_seed\\\":null,\\\"enable_nimbusml\\\":false,\\\"enable_streaming\\\":false,\\\"force_streaming\\\":false,\\\"track_child_runs\\\":true,\\\"allowed_private_models\\\":[],\\\"label_column_name\\\":\\\"DEATH_EVENT\\\",\\\"weight_column_name\\\":null,\\\"cv_split_column_names\\\":null,\\\"enable_local_managed\\\":false,\\\"_local_managed_run_id\\\":null,\\\"cost_mode\\\":1,\\\"lag_length\\\":0,\\\"metric_operation\\\":\\\"maximize\\\",\\\"preprocess\\\":true}\", \"DataPrepJsonString\": \"{\\\\\\\"training_data\\\\\\\": \\\\\\\"{\\\\\\\\\\\\\\\"blocks\\\\\\\\\\\\\\\": [{\\\\\\\\\\\\\\\"id\\\\\\\\\\\\\\\": \\\\\\\\\\\\\\\"bea5fb13-c2ef-47ab-a736-213d6d2530f9\\\\\\\\\\\\\\\", \\\\\\\\\\\\\\\"type\\\\\\\\\\\\\\\": \\\\\\\\\\\\\\\"Microsoft.DPrep.GetDatastoreFilesBlock\\\\\\\\\\\\\\\", \\\\\\\\\\\\\\\"arguments\\\\\\\\\\\\\\\": {\\\\\\\\\\\\\\\"datastores\\\\\\\\\\\\\\\": [{\\\\\\\\\\\\\\\"datastoreName\\\\\\\\\\\\\\\": \\\\\\\\\\\\\\\"workspaceblobstore\\\\\\\\\\\\\\\", \\\\\\\\\\\\\\\"path\\\\\\\\\\\\\\\": \\\\\\\\\\\\\\\"UI/12-28-2020_072957_UTC/heart-disease-kaggle.csv\\\\\\\\\\\\\\\", \\\\\\\\\\\\\\\"resourceGroup\\\\\\\\\\\\\\\": \\\\\\\\\\\\\\\"aml-quickstarts-132133\\\\\\\\\\\\\\\", \\\\\\\\\\\\\\\"subscription\\\\\\\\\\\\\\\": \\\\\\\\\\\\\\\"5a4ab2ba-6c51-4805-8155-58759ad589d8\\\\\\\\\\\\\\\", \\\\\\\\\\\\\\\"workspaceName\\\\\\\\\\\\\\\": \\\\\\\\\\\\\\\"quick-starts-ws-132133\\\\\\\\\\\\\\\"}]}, \\\\\\\\\\\\\\\"localData\\\\\\\\\\\\\\\": {}, \\\\\\\\\\\\\\\"isEnabled\\\\\\\\\\\\\\\": true, \\\\\\\\\\\\\\\"name\\\\\\\\\\\\\\\": null, \\\\\\\\\\\\\\\"annotation\\\\\\\\\\\\\\\": null}, {\\\\\\\\\\\\\\\"id\\\\\\\\\\\\\\\": \\\\\\\\\\\\\\\"a60defd8-92eb-42df-be84-4a0a4be62f9a\\\\\\\\\\\\\\\", \\\\\\\\\\\\\\\"type\\\\\\\\\\\\\\\": \\\\\\\\\\\\\\\"Microsoft.DPrep.ParseDelimitedBlock\\\\\\\\\\\\\\\", \\\\\\\\\\\\\\\"arguments\\\\\\\\\\\\\\\": {\\\\\\\\\\\\\\\"columnHeadersMode\\\\\\\\\\\\\\\": 1, \\\\\\\\\\\\\\\"fileEncoding\\\\\\\\\\\\\\\": 0, \\\\\\\\\\\\\\\"handleQuotedLineBreaks\\\\\\\\\\\\\\\": false, \\\\\\\\\\\\\\\"preview\\\\\\\\\\\\\\\": false, \\\\\\\\\\\\\\\"separator\\\\\\\\\\\\\\\": \\\\\\\\\\\\\\\",\\\\\\\\\\\\\\\", \\\\\\\\\\\\\\\"skipRows\\\\\\\\\\\\\\\": 0, \\\\\\\\\\\\\\\"skipRowsMode\\\\\\\\\\\\\\\": 0}, \\\\\\\\\\\\\\\"localData\\\\\\\\\\\\\\\": {}, \\\\\\\\\\\\\\\"isEnabled\\\\\\\\\\\\\\\": true, \\\\\\\\\\\\\\\"name\\\\\\\\\\\\\\\": null, \\\\\\\\\\\\\\\"annotation\\\\\\\\\\\\\\\": null}, {\\\\\\\\\\\\\\\"id\\\\\\\\\\\\\\\": \\\\\\\\\\\\\\\"71c14fb2-884e-4ce1-8372-d7eb60db410f\\\\\\\\\\\\\\\", \\\\\\\\\\\\\\\"type\\\\\\\\\\\\\\\": \\\\\\\\\\\\\\\"Microsoft.DPrep.DropColumnsBlock\\\\\\\\\\\\\\\", \\\\\\\\\\\\\\\"arguments\\\\\\\\\\\\\\\": {\\\\\\\\\\\\\\\"columns\\\\\\\\\\\\\\\": {\\\\\\\\\\\\\\\"type\\\\\\\\\\\\\\\": 0, \\\\\\\\\\\\\\\"details\\\\\\\\\\\\\\\": {\\\\\\\\\\\\\\\"selectedColumns\\\\\\\\\\\\\\\": [\\\\\\\\\\\\\\\"Path\\\\\\\\\\\\\\\"]}}}, \\\\\\\\\\\\\\\"localData\\\\\\\\\\\\\\\": {}, \\\\\\\\\\\\\\\"isEnabled\\\\\\\\\\\\\\\": true, \\\\\\\\\\\\\\\"name\\\\\\\\\\\\\\\": null, \\\\\\\\\\\\\\\"annotation\\\\\\\\\\\\\\\": null}, {\\\\\\\\\\\\\\\"id\\\\\\\\\\\\\\\": \\\\\\\\\\\\\\\"808f477e-efd4-4793-9f7c-0a1f88ba152a\\\\\\\\\\\\\\\", \\\\\\\\\\\\\\\"type\\\\\\\\\\\\\\\": \\\\\\\\\\\\\\\"Microsoft.DPrep.SetColumnTypesBlock\\\\\\\\\\\\\\\", \\\\\\\\\\\\\\\"arguments\\\\\\\\\\\\\\\": {\\\\\\\\\\\\\\\"columnConversion\\\\\\\\\\\\\\\": [{\\\\\\\\\\\\\\\"column\\\\\\\\\\\\\\\": {\\\\\\\\\\\\\\\"type\\\\\\\\\\\\\\\": 2, \\\\\\\\\\\\\\\"details\\\\\\\\\\\\\\\": {\\\\\\\\\\\\\\\"selectedColumn\\\\\\\\\\\\\\\": \\\\\\\\\\\\\\\"Path\\\\\\\\\\\\\\\"}}, \\\\\\\\\\\\\\\"typeProperty\\\\\\\\\\\\\\\": 0}, {\\\\\\\\\\\\\\\"column\\\\\\\\\\\\\\\": {\\\\\\\\\\\\\\\"type\\\\\\\\\\\\\\\": 2, \\\\\\\\\\\\\\\"details\\\\\\\\\\\\\\\": {\\\\\\\\\\\\\\\"selectedColumn\\\\\\\\\\\\\\\": \\\\\\\\\\\\\\\"age\\\\\\\\\\\\\\\"}}, \\\\\\\\\\\\\\\"typeProperty\\\\\\\\\\\\\\\": 2}, {\\\\\\\\\\\\\\\"column\\\\\\\\\\\\\\\": {\\\\\\\\\\\\\\\"type\\\\\\\\\\\\\\\": 2, \\\\\\\\\\\\\\\"details\\\\\\\\\\\\\\\": {\\\\\\\\\\\\\\\"selectedColumn\\\\\\\\\\\\\\\": \\\\\\\\\\\\\\\"anaemia\\\\\\\\\\\\\\\"}}, \\\\\\\\\\\\\\\"typeProperty\\\\\\\\\\\\\\\": 2}, {\\\\\\\\\\\\\\\"column\\\\\\\\\\\\\\\": {\\\\\\\\\\\\\\\"type\\\\\\\\\\\\\\\": 2, \\\\\\\\\\\\\\\"details\\\\\\\\\\\\\\\": {\\\\\\\\\\\\\\\"selectedColumn\\\\\\\\\\\\\\\": \\\\\\\\\\\\\\\"creatinine_phosphokinase\\\\\\\\\\\\\\\"}}, \\\\\\\\\\\\\\\"typeProperty\\\\\\\\\\\\\\\": 2}, {\\\\\\\\\\\\\\\"column\\\\\\\\\\\\\\\": {\\\\\\\\\\\\\\\"type\\\\\\\\\\\\\\\": 2, \\\\\\\\\\\\\\\"details\\\\\\\\\\\\\\\": {\\\\\\\\\\\\\\\"selectedColumn\\\\\\\\\\\\\\\": \\\\\\\\\\\\\\\"diabetes\\\\\\\\\\\\\\\"}}, \\\\\\\\\\\\\\\"typeProperty\\\\\\\\\\\\\\\": 2}, {\\\\\\\\\\\\\\\"column\\\\\\\\\\\\\\\": {\\\\\\\\\\\\\\\"type\\\\\\\\\\\\\\\": 2, \\\\\\\\\\\\\\\"details\\\\\\\\\\\\\\\": {\\\\\\\\\\\\\\\"selectedColumn\\\\\\\\\\\\\\\": \\\\\\\\\\\\\\\"ejection_fraction\\\\\\\\\\\\\\\"}}, \\\\\\\\\\\\\\\"typeProperty\\\\\\\\\\\\\\\": 2}, {\\\\\\\\\\\\\\\"column\\\\\\\\\\\\\\\": {\\\\\\\\\\\\\\\"type\\\\\\\\\\\\\\\": 2, \\\\\\\\\\\\\\\"details\\\\\\\\\\\\\\\": {\\\\\\\\\\\\\\\"selectedColumn\\\\\\\\\\\\\\\": \\\\\\\\\\\\\\\"high_blood_pressure\\\\\\\\\\\\\\\"}}, \\\\\\\\\\\\\\\"typeProperty\\\\\\\\\\\\\\\": 2}, {\\\\\\\\\\\\\\\"column\\\\\\\\\\\\\\\": {\\\\\\\\\\\\\\\"type\\\\\\\\\\\\\\\": 2, \\\\\\\\\\\\\\\"details\\\\\\\\\\\\\\\": {\\\\\\\\\\\\\\\"selectedColumn\\\\\\\\\\\\\\\": \\\\\\\\\\\\\\\"platelets\\\\\\\\\\\\\\\"}}, \\\\\\\\\\\\\\\"typeProperty\\\\\\\\\\\\\\\": 3}, {\\\\\\\\\\\\\\\"column\\\\\\\\\\\\\\\": {\\\\\\\\\\\\\\\"type\\\\\\\\\\\\\\\": 2, \\\\\\\\\\\\\\\"details\\\\\\\\\\\\\\\": {\\\\\\\\\\\\\\\"selectedColumn\\\\\\\\\\\\\\\": \\\\\\\\\\\\\\\"serum_creatinine\\\\\\\\\\\\\\\"}}, \\\\\\\\\\\\\\\"typeProperty\\\\\\\\\\\\\\\": 3}, {\\\\\\\\\\\\\\\"column\\\\\\\\\\\\\\\": {\\\\\\\\\\\\\\\"type\\\\\\\\\\\\\\\": 2, \\\\\\\\\\\\\\\"details\\\\\\\\\\\\\\\": {\\\\\\\\\\\\\\\"selectedColumn\\\\\\\\\\\\\\\": \\\\\\\\\\\\\\\"serum_sodium\\\\\\\\\\\\\\\"}}, \\\\\\\\\\\\\\\"typeProperty\\\\\\\\\\\\\\\": 2}, {\\\\\\\\\\\\\\\"column\\\\\\\\\\\\\\\": {\\\\\\\\\\\\\\\"type\\\\\\\\\\\\\\\": 2, \\\\\\\\\\\\\\\"details\\\\\\\\\\\\\\\": {\\\\\\\\\\\\\\\"selectedColumn\\\\\\\\\\\\\\\": \\\\\\\\\\\\\\\"sex\\\\\\\\\\\\\\\"}}, \\\\\\\\\\\\\\\"typeProperty\\\\\\\\\\\\\\\": 2}, {\\\\\\\\\\\\\\\"column\\\\\\\\\\\\\\\": {\\\\\\\\\\\\\\\"type\\\\\\\\\\\\\\\": 2, \\\\\\\\\\\\\\\"details\\\\\\\\\\\\\\\": {\\\\\\\\\\\\\\\"selectedColumn\\\\\\\\\\\\\\\": \\\\\\\\\\\\\\\"smoking\\\\\\\\\\\\\\\"}}, \\\\\\\\\\\\\\\"typeProperty\\\\\\\\\\\\\\\": 2}, {\\\\\\\\\\\\\\\"column\\\\\\\\\\\\\\\": {\\\\\\\\\\\\\\\"type\\\\\\\\\\\\\\\": 2, \\\\\\\\\\\\\\\"details\\\\\\\\\\\\\\\": {\\\\\\\\\\\\\\\"selectedColumn\\\\\\\\\\\\\\\": \\\\\\\\\\\\\\\"time\\\\\\\\\\\\\\\"}}, \\\\\\\\\\\\\\\"typeProperty\\\\\\\\\\\\\\\": 2}, {\\\\\\\\\\\\\\\"column\\\\\\\\\\\\\\\": {\\\\\\\\\\\\\\\"type\\\\\\\\\\\\\\\": 2, \\\\\\\\\\\\\\\"details\\\\\\\\\\\\\\\": {\\\\\\\\\\\\\\\"selectedColumn\\\\\\\\\\\\\\\": \\\\\\\\\\\\\\\"DEATH_EVENT\\\\\\\\\\\\\\\"}}, \\\\\\\\\\\\\\\"typeProperty\\\\\\\\\\\\\\\": 2}]}, \\\\\\\\\\\\\\\"localData\\\\\\\\\\\\\\\": {}, \\\\\\\\\\\\\\\"isEnabled\\\\\\\\\\\\\\\": true, \\\\\\\\\\\\\\\"name\\\\\\\\\\\\\\\": null, \\\\\\\\\\\\\\\"annotation\\\\\\\\\\\\\\\": null}, {\\\\\\\\\\\\\\\"id\\\\\\\\\\\\\\\": \\\\\\\\\\\\\\\"ec9cb469-b567-4c4e-b888-8ba30e234f0e\\\\\\\\\\\\\\\", \\\\\\\\\\\\\\\"type\\\\\\\\\\\\\\\": \\\\\\\\\\\\\\\"Microsoft.DPrep.RandomSplitBlock\\\\\\\\\\\\\\\", \\\\\\\\\\\\\\\"arguments\\\\\\\\\\\\\\\": {\\\\\\\\\\\\\\\"probability\\\\\\\\\\\\\\\": 0.9, \\\\\\\\\\\\\\\"seed\\\\\\\\\\\\\\\": 1243310883}, \\\\\\\\\\\\\\\"localData\\\\\\\\\\\\\\\": {}, \\\\\\\\\\\\\\\"isEnabled\\\\\\\\\\\\\\\": true, \\\\\\\\\\\\\\\"name\\\\\\\\\\\\\\\": null, \\\\\\\\\\\\\\\"annotation\\\\\\\\\\\\\\\": null}], \\\\\\\\\\\\\\\"inspectors\\\\\\\\\\\\\\\": [], \\\\\\\\\\\\\\\"meta\\\\\\\\\\\\\\\": {\\\\\\\\\\\\\\\"savedDatasetId\\\\\\\\\\\\\\\": \\\\\\\\\\\\\\\"b49a86e7-518e-40a4-a177-7c9bb4100abc\\\\\\\\\\\\\\\", \\\\\\\\\\\\\\\"datasetType\\\\\\\\\\\\\\\": \\\\\\\\\\\\\\\"tabular\\\\\\\\\\\\\\\", \\\\\\\\\\\\\\\"subscriptionId\\\\\\\\\\\\\\\": \\\\\\\\\\\\\\\"5a4ab2ba-6c51-4805-8155-58759ad589d8\\\\\\\\\\\\\\\", \\\\\\\\\\\\\\\"workspaceId\\\\\\\\\\\\\\\": \\\\\\\\\\\\\\\"2fdc2b3c-0ffa-4951-ae1e-8c45b1281ae2\\\\\\\\\\\\\\\", \\\\\\\\\\\\\\\"workspaceLocation\\\\\\\\\\\\\\\": \\\\\\\\\\\\\\\"southcentralus\\\\\\\\\\\\\\\"}}\\\\\\\", \\\\\\\"activities\\\\\\\": 0}\", \"EnableSubsampling\": null, \"runTemplate\": \"AutoML\", \"azureml.runsource\": \"automl\", \"display_task_type\": \"classification\", \"dependencies_versions\": \"{\\\"azureml-widgets\\\": \\\"1.19.0\\\", \\\"azureml-train\\\": \\\"1.19.0\\\", \\\"azureml-train-restclients-hyperdrive\\\": \\\"1.19.0\\\", \\\"azureml-train-core\\\": \\\"1.19.0\\\", \\\"azureml-train-automl\\\": \\\"1.19.0\\\", \\\"azureml-train-automl-runtime\\\": \\\"1.19.0\\\", \\\"azureml-train-automl-client\\\": \\\"1.19.0\\\", \\\"azureml-tensorboard\\\": \\\"1.19.0\\\", \\\"azureml-telemetry\\\": \\\"1.19.0\\\", \\\"azureml-sdk\\\": \\\"1.19.0\\\", \\\"azureml-samples\\\": \\\"0+unknown\\\", \\\"azureml-pipeline\\\": \\\"1.19.0\\\", \\\"azureml-pipeline-steps\\\": \\\"1.19.0\\\", \\\"azureml-pipeline-core\\\": \\\"1.19.0\\\", \\\"azureml-opendatasets\\\": \\\"1.19.0\\\", \\\"azureml-model-management-sdk\\\": \\\"1.0.1b6.post1\\\", \\\"azureml-mlflow\\\": \\\"1.19.0\\\", \\\"azureml-interpret\\\": \\\"1.19.0\\\", \\\"azureml-explain-model\\\": \\\"1.19.0\\\", \\\"azureml-defaults\\\": \\\"1.19.0\\\", \\\"azureml-dataset-runtime\\\": \\\"1.19.0\\\", \\\"azureml-dataprep\\\": \\\"2.6.1\\\", \\\"azureml-dataprep-rslex\\\": \\\"1.4.0\\\", \\\"azureml-dataprep-native\\\": \\\"26.0.0\\\", \\\"azureml-datadrift\\\": \\\"1.19.0\\\", \\\"azureml-core\\\": \\\"1.19.0\\\", \\\"azureml-contrib-services\\\": \\\"1.19.0\\\", \\\"azureml-contrib-server\\\": \\\"1.19.0\\\", \\\"azureml-contrib-reinforcementlearning\\\": \\\"1.19.0\\\", \\\"azureml-contrib-pipeline-steps\\\": \\\"1.19.0\\\", \\\"azureml-contrib-notebook\\\": \\\"1.19.0\\\", \\\"azureml-contrib-interpret\\\": \\\"1.19.0\\\", \\\"azureml-contrib-gbdt\\\": \\\"1.19.0\\\", \\\"azureml-contrib-fairness\\\": \\\"1.19.0\\\", \\\"azureml-contrib-dataset\\\": \\\"1.19.0\\\", \\\"azureml-cli-common\\\": \\\"1.19.0\\\", \\\"azureml-automl-runtime\\\": \\\"1.19.0\\\", \\\"azureml-automl-core\\\": \\\"1.19.0\\\", \\\"azureml-accel-models\\\": \\\"1.19.0\\\"}\", \"_aml_system_scenario_identification\": \"Remote.Parent\", \"ClientType\": \"SDK\", \"environment_cpu_name\": \"AzureML-AutoML\", \"environment_cpu_label\": \"prod\", \"environment_gpu_name\": \"AzureML-AutoML-GPU\", \"environment_gpu_label\": \"prod\", \"root_attribution\": \"automl\", \"attribution\": \"AutoML\", \"Orchestrator\": \"AutoML\", \"CancelUri\": \"https://southcentralus.experiments.azureml.net/jasmine/v1.0/subscriptions/5a4ab2ba-6c51-4805-8155-58759ad589d8/resourceGroups/aml-quickstarts-132133/providers/Microsoft.MachineLearningServices/workspaces/quick-starts-ws-132133/experimentids/b345d948-9c71-4f8a-97a3-8c1339d07db7/cancel/AutoML_1ac39d64-bc53-42d1-9deb-b1258b311536\", \"ClientSdkVersion\": \"1.19.0\", \"snapshotId\": \"00000000-0000-0000-0000-000000000000\", \"SetupRunId\": \"AutoML_1ac39d64-bc53-42d1-9deb-b1258b311536_setup\", \"SetupRunContainerId\": \"dcid.AutoML_1ac39d64-bc53-42d1-9deb-b1258b311536_setup\", \"FeaturizationRunJsonPath\": \"featurizer_container.json\", \"FeaturizationRunId\": \"AutoML_1ac39d64-bc53-42d1-9deb-b1258b311536_featurize\", \"ProblemInfoJsonString\": \"{\\\"dataset_num_categorical\\\": 0, \\\"is_sparse\\\": false, \\\"subsampling\\\": false, \\\"dataset_classes\\\": 2, \\\"dataset_features\\\": 12, \\\"dataset_samples\\\": 278, \\\"single_frequency_class_detected\\\": false}\", \"ModelExplainRunId\": \"AutoML_1ac39d64-bc53-42d1-9deb-b1258b311536_ModelExplain\"}, \"tags\": {\"model_explain_run\": \"best_run\", \"_aml_system_azureml.automlComponent\": \"AutoML\", \"pipeline_id\": \"\", \"score\": \"\", \"predicted_cost\": \"\", \"fit_time\": \"\", \"training_percent\": \"\", \"iteration\": \"\", \"run_preprocessor\": \"\", \"run_algorithm\": \"\", \"dynamic_whitelisting_iterations\": \"<25>;<30>;<35>;\", \"automl_best_child_run_id\": \"AutoML_1ac39d64-bc53-42d1-9deb-b1258b311536_40\", \"model_explain_best_run_child_id\": \"AutoML_1ac39d64-bc53-42d1-9deb-b1258b311536_40\"}, \"end_time_utc\": \"2020-12-28T07:59:16.83559Z\", \"status\": \"Completed\", \"log_files\": {}, \"log_groups\": [], \"run_duration\": \"0:24:05\"}, \"child_runs\": [{\"run_id\": \"AutoML_1ac39d64-bc53-42d1-9deb-b1258b311536_0\", \"run_number\": 5, \"metric\": null, \"status\": \"Completed\", \"run_type\": \"azureml.scriptrun\", \"training_percent\": \"100\", \"start_time\": \"2020-12-28T07:43:53.03525Z\", \"end_time\": \"2020-12-28T07:44:38.601451Z\", \"created_time\": \"2020-12-28T07:42:55.402178Z\", \"created_time_dt\": \"2020-12-28T07:42:55.402178Z\", \"duration\": \"0:01:43\", \"iteration\": \"0\", \"goal\": \"accuracy_max\", \"run_name\": \"MaxAbsScaler, LightGBM\", \"run_properties\": \"copy=True\", \"primary_metric\": 0.84162338, \"best_metric\": 0.84162338}, {\"run_id\": \"AutoML_1ac39d64-bc53-42d1-9deb-b1258b311536_1\", \"run_number\": 6, \"metric\": null, \"status\": \"Completed\", \"run_type\": \"azureml.scriptrun\", \"training_percent\": \"100\", \"start_time\": \"2020-12-28T07:45:35.471213Z\", \"end_time\": \"2020-12-28T07:46:24.702769Z\", \"created_time\": \"2020-12-28T07:42:55.469117Z\", \"created_time_dt\": \"2020-12-28T07:42:55.469117Z\", \"duration\": \"0:03:29\", \"iteration\": \"1\", \"goal\": \"accuracy_max\", \"run_name\": \"MaxAbsScaler, XGBoostClassifier\", \"run_properties\": \"copy=True\", \"primary_metric\": 0.85246753, \"best_metric\": 0.85246753}, {\"run_id\": \"AutoML_1ac39d64-bc53-42d1-9deb-b1258b311536_3\", \"run_number\": 7, \"metric\": null, \"status\": \"Completed\", \"run_type\": \"azureml.scriptrun\", \"training_percent\": \"100\", \"start_time\": \"2020-12-28T07:44:43.88682Z\", \"end_time\": \"2020-12-28T07:45:27.529892Z\", \"created_time\": \"2020-12-28T07:42:55.478551Z\", \"created_time_dt\": \"2020-12-28T07:42:55.478551Z\", \"duration\": \"0:02:32\", \"iteration\": \"3\", \"goal\": \"accuracy_max\", \"run_name\": \"MinMaxScaler, RandomForest\", \"run_properties\": \"copy=True, feature_range=(0, 1\", \"primary_metric\": 0.83792208, \"best_metric\": 0.85246753}, {\"run_id\": \"AutoML_1ac39d64-bc53-42d1-9deb-b1258b311536_2\", \"run_number\": 8, \"metric\": null, \"status\": \"Completed\", \"run_type\": \"azureml.scriptrun\", \"training_percent\": \"100\", \"start_time\": \"2020-12-28T07:43:07.071811Z\", \"end_time\": \"2020-12-28T07:43:51.643001Z\", \"created_time\": \"2020-12-28T07:42:55.468855Z\", \"created_time_dt\": \"2020-12-28T07:42:55.468855Z\", \"duration\": \"0:00:56\", \"iteration\": \"2\", \"goal\": \"accuracy_max\", \"run_name\": \"MinMaxScaler, RandomForest\", \"run_properties\": \"copy=True, feature_range=(0, 1\", \"primary_metric\": 0.83435065, \"best_metric\": 0.85246753}, {\"run_id\": \"AutoML_1ac39d64-bc53-42d1-9deb-b1258b311536_4\", \"run_number\": 9, \"metric\": null, \"status\": \"Completed\", \"run_type\": \"azureml.scriptrun\", \"training_percent\": \"100\", \"start_time\": \"2020-12-28T07:46:26.251961Z\", \"end_time\": \"2020-12-28T07:47:17.865411Z\", \"created_time\": \"2020-12-28T07:43:55.360856Z\", \"created_time_dt\": \"2020-12-28T07:43:55.360856Z\", \"duration\": \"0:03:22\", \"iteration\": \"4\", \"goal\": \"accuracy_max\", \"run_name\": \"MinMaxScaler, RandomForest\", \"run_properties\": \"copy=True, feature_range=(0, 1\", \"primary_metric\": 0.84902597, \"best_metric\": 0.85246753}, {\"run_id\": \"AutoML_1ac39d64-bc53-42d1-9deb-b1258b311536_5\", \"run_number\": 10, \"metric\": null, \"status\": \"Completed\", \"run_type\": \"azureml.scriptrun\", \"training_percent\": \"100\", \"start_time\": \"2020-12-28T07:47:16.117653Z\", \"end_time\": \"2020-12-28T07:48:03.570938Z\", \"created_time\": \"2020-12-28T07:44:42.096797Z\", \"created_time_dt\": \"2020-12-28T07:44:42.096797Z\", \"duration\": \"0:03:21\", \"iteration\": \"5\", \"goal\": \"accuracy_max\", \"run_name\": \"SparseNormalizer, XGBoostClassifier\", \"run_properties\": \"<azureml.automl.runtime.shared.model_wrappers.SparseNormalizer object at 0x7f2bbc087780\", \"primary_metric\": 0.85967532, \"best_metric\": 0.85967532}, {\"run_id\": \"AutoML_1ac39d64-bc53-42d1-9deb-b1258b311536_6\", \"run_number\": 11, \"metric\": null, \"status\": \"Completed\", \"run_type\": \"azureml.scriptrun\", \"training_percent\": \"100\", \"start_time\": \"2020-12-28T07:48:07.153952Z\", \"end_time\": \"2020-12-28T07:48:54.523996Z\", \"created_time\": \"2020-12-28T07:45:30.106011Z\", \"created_time_dt\": \"2020-12-28T07:45:30.106011Z\", \"duration\": \"0:03:24\", \"iteration\": \"6\", \"goal\": \"accuracy_max\", \"run_name\": \"MinMaxScaler, SVM\", \"run_properties\": \"copy=True, feature_range=(0, 1\", \"primary_metric\": 0.71941558, \"best_metric\": 0.85967532}, {\"run_id\": \"AutoML_1ac39d64-bc53-42d1-9deb-b1258b311536_7\", \"run_number\": 12, \"metric\": null, \"status\": \"Completed\", \"run_type\": \"azureml.scriptrun\", \"training_percent\": \"100\", \"start_time\": \"2020-12-28T07:48:15.490573Z\", \"end_time\": \"2020-12-28T07:50:22.776196Z\", \"created_time\": \"2020-12-28T07:46:27.523417Z\", \"created_time_dt\": \"2020-12-28T07:46:27.523417Z\", \"duration\": \"0:03:55\", \"iteration\": \"7\", \"goal\": \"accuracy_max\", \"run_name\": \"MinMaxScaler, SVM\", \"run_properties\": \"copy=True, feature_range=(0, 1\", \"primary_metric\": 0.73019481, \"best_metric\": 0.85967532}, {\"run_id\": \"AutoML_1ac39d64-bc53-42d1-9deb-b1258b311536_8\", \"run_number\": 13, \"metric\": null, \"status\": \"Completed\", \"run_type\": \"azureml.scriptrun\", \"training_percent\": \"100\", \"start_time\": \"2020-12-28T07:48:18.934666Z\", \"end_time\": \"2020-12-28T07:50:33.869076Z\", \"created_time\": \"2020-12-28T07:47:20.263136Z\", \"created_time_dt\": \"2020-12-28T07:47:20.263136Z\", \"duration\": \"0:03:13\", \"iteration\": \"8\", \"goal\": \"accuracy_max\", \"run_name\": \"SparseNormalizer, XGBoostClassifier\", \"run_properties\": \"<azureml.automl.runtime.shared.model_wrappers.SparseNormalizer object at 0x7fb6d48efda0\", \"primary_metric\": 0.84532468, \"best_metric\": 0.85967532}, {\"run_id\": \"AutoML_1ac39d64-bc53-42d1-9deb-b1258b311536_9\", \"run_number\": 14, \"metric\": null, \"status\": \"Completed\", \"run_type\": \"azureml.scriptrun\", \"training_percent\": \"100\", \"start_time\": \"2020-12-28T07:48:22.793541Z\", \"end_time\": \"2020-12-28T07:50:22.081827Z\", \"created_time\": \"2020-12-28T07:48:05.706321Z\", \"created_time_dt\": \"2020-12-28T07:48:05.706321Z\", \"duration\": \"0:02:16\", \"iteration\": \"9\", \"goal\": \"accuracy_max\", \"run_name\": \"SparseNormalizer, XGBoostClassifier\", \"run_properties\": \"<azureml.automl.runtime.shared.model_wrappers.SparseNormalizer object at 0x7fef1a1c26a0\", \"primary_metric\": 0.84155844, \"best_metric\": 0.85967532}, {\"run_id\": \"AutoML_1ac39d64-bc53-42d1-9deb-b1258b311536_10\", \"run_number\": 15, \"metric\": null, \"status\": \"Completed\", \"run_type\": \"azureml.scriptrun\", \"training_percent\": \"100\", \"start_time\": \"2020-12-28T07:49:08.060179Z\", \"end_time\": \"2020-12-28T07:49:52.673191Z\", \"created_time\": \"2020-12-28T07:48:56.928518Z\", \"created_time_dt\": \"2020-12-28T07:48:56.928518Z\", \"duration\": \"0:00:55\", \"iteration\": \"10\", \"goal\": \"accuracy_max\", \"run_name\": \"MaxAbsScaler, GradientBoosting\", \"run_properties\": \"copy=True\", \"primary_metric\": 0.8524026, \"best_metric\": 0.85967532}, {\"run_id\": \"AutoML_1ac39d64-bc53-42d1-9deb-b1258b311536_11\", \"run_number\": 16, \"metric\": null, \"status\": \"Completed\", \"run_type\": \"azureml.scriptrun\", \"training_percent\": \"100\", \"start_time\": \"2020-12-28T07:50:08.198208Z\", \"end_time\": \"2020-12-28T07:50:48.246881Z\", \"created_time\": \"2020-12-28T07:49:54.990497Z\", \"created_time_dt\": \"2020-12-28T07:49:54.990497Z\", \"duration\": \"0:00:53\", \"iteration\": \"11\", \"goal\": \"accuracy_max\", \"run_name\": \"MinMaxScaler, LightGBM\", \"run_properties\": \"copy=True, feature_range=(0, 1\", \"primary_metric\": 0.81980519, \"best_metric\": 0.85967532}, {\"run_id\": \"AutoML_1ac39d64-bc53-42d1-9deb-b1258b311536_12\", \"run_number\": 17, \"metric\": null, \"status\": \"Completed\", \"run_type\": \"azureml.scriptrun\", \"training_percent\": \"100\", \"start_time\": \"2020-12-28T07:50:53.852678Z\", \"end_time\": \"2020-12-28T07:51:38.399208Z\", \"created_time\": \"2020-12-28T07:50:24.424184Z\", \"created_time_dt\": \"2020-12-28T07:50:24.424184Z\", \"duration\": \"0:01:13\", \"iteration\": \"12\", \"goal\": \"accuracy_max\", \"run_name\": \"RobustScaler, LightGBM\", \"run_properties\": \"copy=True, quantile_range=[10, 90], with_centering=True,\\n             with_scaling=False\", \"primary_metric\": 0.76603896, \"best_metric\": 0.85967532}, {\"run_id\": \"AutoML_1ac39d64-bc53-42d1-9deb-b1258b311536_13\", \"run_number\": 18, \"metric\": null, \"status\": \"Completed\", \"run_type\": \"azureml.scriptrun\", \"training_percent\": \"100\", \"start_time\": \"2020-12-28T07:51:00.800624Z\", \"end_time\": \"2020-12-28T07:51:45.548569Z\", \"created_time\": \"2020-12-28T07:50:47.646021Z\", \"created_time_dt\": \"2020-12-28T07:50:47.646021Z\", \"duration\": \"0:00:57\", \"iteration\": \"13\", \"goal\": \"accuracy_max\", \"run_name\": \"MaxAbsScaler, LightGBM\", \"run_properties\": \"copy=True\", \"primary_metric\": 0.84506494, \"best_metric\": 0.85967532}, {\"run_id\": \"AutoML_1ac39d64-bc53-42d1-9deb-b1258b311536_14\", \"run_number\": 19, \"metric\": null, \"status\": \"Completed\", \"run_type\": \"azureml.scriptrun\", \"training_percent\": \"100\", \"start_time\": \"2020-12-28T07:50:59.611688Z\", \"end_time\": \"2020-12-28T07:51:34.193351Z\", \"created_time\": \"2020-12-28T07:50:47.715538Z\", \"created_time_dt\": \"2020-12-28T07:50:47.715538Z\", \"duration\": \"0:00:46\", \"iteration\": \"14\", \"goal\": \"accuracy_max\", \"run_name\": \"StandardScalerWrapper, LightGBM\", \"run_properties\": \"<azureml.automl.runtime.shared.model_wrappers.StandardScalerWrapper object at 0x7ff9ad3195f8\", \"primary_metric\": 0.82363636, \"best_metric\": 0.85967532}, {\"run_id\": \"AutoML_1ac39d64-bc53-42d1-9deb-b1258b311536_15\", \"run_number\": 20, \"metric\": null, \"status\": \"Completed\", \"run_type\": \"azureml.scriptrun\", \"training_percent\": \"100\", \"start_time\": \"2020-12-28T07:51:06.150405Z\", \"end_time\": \"2020-12-28T07:51:54.918636Z\", \"created_time\": \"2020-12-28T07:50:53.774152Z\", \"created_time_dt\": \"2020-12-28T07:50:53.774152Z\", \"duration\": \"0:01:01\", \"iteration\": \"15\", \"goal\": \"accuracy_max\", \"run_name\": \"SparseNormalizer, XGBoostClassifier\", \"run_properties\": \"<azureml.automl.runtime.shared.model_wrappers.SparseNormalizer object at 0x7f3758a84390\", \"primary_metric\": 0.84155844, \"best_metric\": 0.85967532}, {\"run_id\": \"AutoML_1ac39d64-bc53-42d1-9deb-b1258b311536_16\", \"run_number\": 21, \"metric\": null, \"status\": \"Completed\", \"run_type\": \"azureml.scriptrun\", \"training_percent\": \"100\", \"start_time\": \"2020-12-28T07:51:50.666984Z\", \"end_time\": \"2020-12-28T07:52:33.823346Z\", \"created_time\": \"2020-12-28T07:51:36.516691Z\", \"created_time_dt\": \"2020-12-28T07:51:36.516691Z\", \"duration\": \"0:00:57\", \"iteration\": \"16\", \"goal\": \"accuracy_max\", \"run_name\": \"SparseNormalizer, XGBoostClassifier\", \"run_properties\": \"<azureml.automl.runtime.shared.model_wrappers.SparseNormalizer object at 0x7fb0229c7780\", \"primary_metric\": 0.83077922, \"best_metric\": 0.85967532}, {\"run_id\": \"AutoML_1ac39d64-bc53-42d1-9deb-b1258b311536_17\", \"run_number\": 22, \"metric\": null, \"status\": \"Completed\", \"run_type\": \"azureml.scriptrun\", \"training_percent\": \"100\", \"start_time\": \"2020-12-28T07:51:55.274001Z\", \"end_time\": \"2020-12-28T07:52:32.385626Z\", \"created_time\": \"2020-12-28T07:51:42.075238Z\", \"created_time_dt\": \"2020-12-28T07:51:42.075238Z\", \"duration\": \"0:00:50\", \"iteration\": \"17\", \"goal\": \"accuracy_max\", \"run_name\": \"SparseNormalizer, XGBoostClassifier\", \"run_properties\": \"<azureml.automl.runtime.shared.model_wrappers.SparseNormalizer object at 0x7f9feef3ec50\", \"primary_metric\": 0.83818182, \"best_metric\": 0.85967532}, {\"run_id\": \"AutoML_1ac39d64-bc53-42d1-9deb-b1258b311536_18\", \"run_number\": 23, \"metric\": null, \"status\": \"Completed\", \"run_type\": \"azureml.scriptrun\", \"training_percent\": \"100\", \"start_time\": \"2020-12-28T07:52:00.541528Z\", \"end_time\": \"2020-12-28T07:52:44.723979Z\", \"created_time\": \"2020-12-28T07:51:48.036163Z\", \"created_time_dt\": \"2020-12-28T07:51:48.036163Z\", \"duration\": \"0:00:56\", \"iteration\": \"18\", \"goal\": \"accuracy_max\", \"run_name\": \"RobustScaler, ExtremeRandomTrees\", \"run_properties\": \"copy=True, quantile_range=[10, 90], with_centering=True,\\n             with_scaling=False\", \"primary_metric\": 0.82727273, \"best_metric\": 0.85967532}, {\"run_id\": \"AutoML_1ac39d64-bc53-42d1-9deb-b1258b311536_19\", \"run_number\": 24, \"metric\": null, \"status\": \"Completed\", \"run_type\": \"azureml.scriptrun\", \"training_percent\": \"100\", \"start_time\": \"2020-12-28T07:52:09.690948Z\", \"end_time\": \"2020-12-28T07:52:51.810918Z\", \"created_time\": \"2020-12-28T07:51:57.111239Z\", \"created_time_dt\": \"2020-12-28T07:51:57.111239Z\", \"duration\": \"0:00:54\", \"iteration\": \"19\", \"goal\": \"accuracy_max\", \"run_name\": \"RobustScaler, LightGBM\", \"run_properties\": \"copy=True, quantile_range=[25, 75], with_centering=True,\\n             with_scaling=False\", \"primary_metric\": 0.85597403, \"best_metric\": 0.85967532}, {\"run_id\": \"AutoML_1ac39d64-bc53-42d1-9deb-b1258b311536_20\", \"run_number\": 25, \"metric\": null, \"status\": \"Completed\", \"run_type\": \"azureml.scriptrun\", \"training_percent\": \"100\", \"start_time\": \"2020-12-28T07:52:49.093698Z\", \"end_time\": \"2020-12-28T07:53:28.44416Z\", \"created_time\": \"2020-12-28T07:52:34.661487Z\", \"created_time_dt\": \"2020-12-28T07:52:34.661487Z\", \"duration\": \"0:00:53\", \"iteration\": \"20\", \"goal\": \"accuracy_max\", \"run_name\": \"StandardScalerWrapper, LightGBM\", \"run_properties\": \"<azureml.automl.runtime.shared.model_wrappers.StandardScalerWrapper object at 0x7f6738afffd0\", \"primary_metric\": 0.74818182, \"best_metric\": 0.85967532}, {\"run_id\": \"AutoML_1ac39d64-bc53-42d1-9deb-b1258b311536_21\", \"run_number\": 26, \"metric\": null, \"status\": \"Completed\", \"run_type\": \"azureml.scriptrun\", \"training_percent\": \"100\", \"start_time\": \"2020-12-28T07:52:53.150252Z\", \"end_time\": \"2020-12-28T07:53:30.448081Z\", \"created_time\": \"2020-12-28T07:52:40.509482Z\", \"created_time_dt\": \"2020-12-28T07:52:40.509482Z\", \"duration\": \"0:00:49\", \"iteration\": \"21\", \"goal\": \"accuracy_max\", \"run_name\": \"StandardScalerWrapper, RandomForest\", \"run_properties\": \"<azureml.automl.runtime.shared.model_wrappers.StandardScalerWrapper object at 0x7fb18ada0e48\", \"primary_metric\": 0.8561039, \"best_metric\": 0.85967532}, {\"run_id\": \"AutoML_1ac39d64-bc53-42d1-9deb-b1258b311536_22\", \"run_number\": 27, \"metric\": null, \"status\": \"Completed\", \"run_type\": \"azureml.scriptrun\", \"training_percent\": \"100\", \"start_time\": \"2020-12-28T07:53:00.877086Z\", \"end_time\": \"2020-12-28T07:53:42.089933Z\", \"created_time\": \"2020-12-28T07:52:47.19106Z\", \"created_time_dt\": \"2020-12-28T07:52:47.19106Z\", \"duration\": \"0:00:54\", \"iteration\": \"22\", \"goal\": \"accuracy_max\", \"run_name\": \"MaxAbsScaler, GradientBoosting\", \"run_properties\": \"copy=True\", \"primary_metric\": 0.84512987, \"best_metric\": 0.85967532}, {\"run_id\": \"AutoML_1ac39d64-bc53-42d1-9deb-b1258b311536_23\", \"run_number\": 28, \"metric\": null, \"status\": \"Completed\", \"run_type\": \"azureml.scriptrun\", \"training_percent\": \"100\", \"start_time\": \"2020-12-28T07:53:06.672576Z\", \"end_time\": \"2020-12-28T07:53:52.287793Z\", \"created_time\": \"2020-12-28T07:52:53.968569Z\", \"created_time_dt\": \"2020-12-28T07:52:53.968569Z\", \"duration\": \"0:00:58\", \"iteration\": \"23\", \"goal\": \"accuracy_max\", \"run_name\": \"MaxAbsScaler, LightGBM\", \"run_properties\": \"copy=True\", \"primary_metric\": 0.86324675, \"best_metric\": 0.86324675}, {\"run_id\": \"AutoML_1ac39d64-bc53-42d1-9deb-b1258b311536_24\", \"run_number\": 29, \"metric\": null, \"status\": \"Completed\", \"run_type\": \"azureml.scriptrun\", \"training_percent\": \"100\", \"start_time\": \"2020-12-28T07:53:43.827747Z\", \"end_time\": \"2020-12-28T07:54:26.565894Z\", \"created_time\": \"2020-12-28T07:53:30.604009Z\", \"created_time_dt\": \"2020-12-28T07:53:30.604009Z\", \"duration\": \"0:00:55\", \"iteration\": \"24\", \"goal\": \"accuracy_max\", \"run_name\": \"MaxAbsScaler, LightGBM\", \"run_properties\": \"copy=True\", \"primary_metric\": 0.82720779, \"best_metric\": 0.86324675}, {\"run_id\": \"AutoML_1ac39d64-bc53-42d1-9deb-b1258b311536_25\", \"run_number\": 30, \"metric\": null, \"status\": \"Completed\", \"run_type\": \"azureml.scriptrun\", \"training_percent\": \"100\", \"start_time\": \"2020-12-28T07:53:48.800827Z\", \"end_time\": \"2020-12-28T07:54:30.940281Z\", \"created_time\": \"2020-12-28T07:53:36.606461Z\", \"created_time_dt\": \"2020-12-28T07:53:36.606461Z\", \"duration\": \"0:00:54\", \"iteration\": \"25\", \"goal\": \"accuracy_max\", \"run_name\": \"SparseNormalizer, XGBoostClassifier\", \"run_properties\": \"<azureml.automl.runtime.shared.model_wrappers.SparseNormalizer object at 0x7fcb58128f60\", \"primary_metric\": 0.67980519, \"best_metric\": 0.86324675}, {\"run_id\": \"AutoML_1ac39d64-bc53-42d1-9deb-b1258b311536_26\", \"run_number\": 31, \"metric\": null, \"status\": \"Completed\", \"run_type\": \"azureml.scriptrun\", \"training_percent\": \"100\", \"start_time\": \"2020-12-28T07:53:55.556277Z\", \"end_time\": \"2020-12-28T07:54:37.366623Z\", \"created_time\": \"2020-12-28T07:53:44.692469Z\", \"created_time_dt\": \"2020-12-28T07:53:44.692469Z\", \"duration\": \"0:00:52\", \"iteration\": \"26\", \"goal\": \"accuracy_max\", \"run_name\": \"SparseNormalizer, LightGBM\", \"run_properties\": \"<azureml.automl.runtime.shared.model_wrappers.SparseNormalizer object at 0x7fbc5c0f2a58\", \"primary_metric\": 0.85616883, \"best_metric\": 0.86324675}, {\"run_id\": \"AutoML_1ac39d64-bc53-42d1-9deb-b1258b311536_27\", \"run_number\": 32, \"metric\": null, \"status\": \"Completed\", \"run_type\": \"azureml.scriptrun\", \"training_percent\": \"100\", \"start_time\": \"2020-12-28T07:54:05.471989Z\", \"end_time\": \"2020-12-28T07:54:44.467342Z\", \"created_time\": \"2020-12-28T07:53:54.448903Z\", \"created_time_dt\": \"2020-12-28T07:53:54.448903Z\", \"duration\": \"0:00:50\", \"iteration\": \"27\", \"goal\": \"accuracy_max\", \"run_name\": \"StandardScalerWrapper, LightGBM\", \"run_properties\": \"<azureml.automl.runtime.shared.model_wrappers.StandardScalerWrapper object at 0x7f5410a78cf8\", \"primary_metric\": 0.85961039, \"best_metric\": 0.86324675}, {\"run_id\": \"AutoML_1ac39d64-bc53-42d1-9deb-b1258b311536_28\", \"run_number\": 33, \"metric\": null, \"status\": \"Completed\", \"run_type\": \"azureml.scriptrun\", \"training_percent\": \"100\", \"start_time\": \"2020-12-28T07:54:43.176845Z\", \"end_time\": \"2020-12-28T07:55:26.791418Z\", \"created_time\": \"2020-12-28T07:54:28.794996Z\", \"created_time_dt\": \"2020-12-28T07:54:28.794996Z\", \"duration\": \"0:00:57\", \"iteration\": \"28\", \"goal\": \"accuracy_max\", \"run_name\": \"StandardScalerWrapper, XGBoostClassifier\", \"run_properties\": \"<azureml.automl.runtime.shared.model_wrappers.StandardScalerWrapper object at 0x7f497a0e8860\", \"primary_metric\": 0.86318182, \"best_metric\": 0.86324675}, {\"run_id\": \"AutoML_1ac39d64-bc53-42d1-9deb-b1258b311536_29\", \"run_number\": 34, \"metric\": null, \"status\": \"Completed\", \"run_type\": \"azureml.scriptrun\", \"training_percent\": \"100\", \"start_time\": \"2020-12-28T07:54:46.922846Z\", \"end_time\": \"2020-12-28T07:55:34.757765Z\", \"created_time\": \"2020-12-28T07:54:33.534261Z\", \"created_time_dt\": \"2020-12-28T07:54:33.534261Z\", \"duration\": \"0:01:01\", \"iteration\": \"29\", \"goal\": \"accuracy_max\", \"run_name\": \"SparseNormalizer, XGBoostClassifier\", \"run_properties\": \"<azureml.automl.runtime.shared.model_wrappers.SparseNormalizer object at 0x7fcd60706518\", \"primary_metric\": 0.81279221, \"best_metric\": 0.86324675}, {\"run_id\": \"AutoML_1ac39d64-bc53-42d1-9deb-b1258b311536_30\", \"run_number\": 35, \"metric\": null, \"status\": \"Completed\", \"run_type\": \"azureml.scriptrun\", \"training_percent\": \"100\", \"start_time\": \"2020-12-28T07:54:53.098099Z\", \"end_time\": \"2020-12-28T07:55:40.637883Z\", \"created_time\": \"2020-12-28T07:54:40.505372Z\", \"created_time_dt\": \"2020-12-28T07:54:40.505372Z\", \"duration\": \"0:01:00\", \"iteration\": \"30\", \"goal\": \"accuracy_max\", \"run_name\": \"PCA, LightGBM\", \"run_properties\": \"copy=True, iterated_power='auto', n_components=0.20789473684210527,\\n    random_state=None, svd_solver='auto', tol=0.0, whiten=True\", \"primary_metric\": 0.67980519, \"best_metric\": 0.86324675}, {\"run_id\": \"AutoML_1ac39d64-bc53-42d1-9deb-b1258b311536_31\", \"run_number\": 36, \"metric\": null, \"status\": \"Completed\", \"run_type\": \"azureml.scriptrun\", \"training_percent\": \"100\", \"start_time\": \"2020-12-28T07:54:59.791819Z\", \"end_time\": \"2020-12-28T07:55:37.312121Z\", \"created_time\": \"2020-12-28T07:54:46.549198Z\", \"created_time_dt\": \"2020-12-28T07:54:46.549198Z\", \"duration\": \"0:00:50\", \"iteration\": \"31\", \"goal\": \"accuracy_max\", \"run_name\": \"SparseNormalizer, XGBoostClassifier\", \"run_properties\": \"<azureml.automl.runtime.shared.model_wrappers.SparseNormalizer object at 0x7f9904aca9e8\", \"primary_metric\": 0.83441558, \"best_metric\": 0.86324675}, {\"run_id\": \"AutoML_1ac39d64-bc53-42d1-9deb-b1258b311536_32\", \"run_number\": 37, \"metric\": null, \"status\": \"Completed\", \"run_type\": \"azureml.scriptrun\", \"training_percent\": \"100\", \"start_time\": \"2020-12-28T07:55:42.526851Z\", \"end_time\": \"2020-12-28T07:56:22.446173Z\", \"created_time\": \"2020-12-28T07:55:29.269106Z\", \"created_time_dt\": \"2020-12-28T07:55:29.269106Z\", \"duration\": \"0:00:53\", \"iteration\": \"32\", \"goal\": \"accuracy_max\", \"run_name\": \"RobustScaler, ExtremeRandomTrees\", \"run_properties\": \"copy=True, quantile_range=[25, 75], with_centering=True,\\n             with_scaling=False\", \"primary_metric\": 0.81649351, \"best_metric\": 0.86324675}, {\"run_id\": \"AutoML_1ac39d64-bc53-42d1-9deb-b1258b311536_33\", \"run_number\": 38, \"metric\": null, \"status\": \"Completed\", \"run_type\": \"azureml.scriptrun\", \"training_percent\": \"100\", \"start_time\": \"2020-12-28T07:55:49.771978Z\", \"end_time\": \"2020-12-28T07:56:26.017153Z\", \"created_time\": \"2020-12-28T07:55:36.821518Z\", \"created_time_dt\": \"2020-12-28T07:55:36.821518Z\", \"duration\": \"0:00:49\", \"iteration\": \"33\", \"goal\": \"accuracy_max\", \"run_name\": \"StandardScalerWrapper, LogisticRegression\", \"run_properties\": \"<azureml.automl.runtime.shared.model_wrappers.StandardScalerWrapper object at 0x7f74102e7c88\", \"primary_metric\": 0.81987013, \"best_metric\": 0.86324675}, {\"run_id\": \"AutoML_1ac39d64-bc53-42d1-9deb-b1258b311536_34\", \"run_number\": 39, \"metric\": null, \"status\": \"Completed\", \"run_type\": \"azureml.scriptrun\", \"training_percent\": \"100\", \"start_time\": \"2020-12-28T07:55:54.218935Z\", \"end_time\": \"2020-12-28T07:56:35.081255Z\", \"created_time\": \"2020-12-28T07:55:41.504733Z\", \"created_time_dt\": \"2020-12-28T07:55:41.504733Z\", \"duration\": \"0:00:53\", \"iteration\": \"34\", \"goal\": \"accuracy_max\", \"run_name\": \"MaxAbsScaler, LightGBM\", \"run_properties\": \"copy=True\", \"primary_metric\": 0.8561039, \"best_metric\": 0.86324675}, {\"run_id\": \"AutoML_1ac39d64-bc53-42d1-9deb-b1258b311536_35\", \"run_number\": 40, \"metric\": null, \"status\": \"Completed\", \"run_type\": \"azureml.scriptrun\", \"training_percent\": \"100\", \"start_time\": \"2020-12-28T07:55:59.824131Z\", \"end_time\": \"2020-12-28T07:56:44.380499Z\", \"created_time\": \"2020-12-28T07:55:47.467979Z\", \"created_time_dt\": \"2020-12-28T07:55:47.467979Z\", \"duration\": \"0:00:56\", \"iteration\": \"35\", \"goal\": \"accuracy_max\", \"run_name\": \"RobustScaler, LightGBM\", \"run_properties\": \"copy=True, quantile_range=[10, 90], with_centering=False,\\n             with_scaling=False\", \"primary_metric\": 0.85246753, \"best_metric\": 0.86324675}, {\"run_id\": \"AutoML_1ac39d64-bc53-42d1-9deb-b1258b311536_36\", \"run_number\": 41, \"metric\": null, \"status\": \"Completed\", \"run_type\": \"azureml.scriptrun\", \"training_percent\": \"100\", \"start_time\": \"2020-12-28T07:56:38.509564Z\", \"end_time\": \"2020-12-28T07:57:18.918841Z\", \"created_time\": \"2020-12-28T07:56:25.771055Z\", \"created_time_dt\": \"2020-12-28T07:56:25.771055Z\", \"duration\": \"0:00:53\", \"iteration\": \"36\", \"goal\": \"accuracy_max\", \"run_name\": \"MinMaxScaler, LightGBM\", \"run_properties\": \"copy=True, feature_range=(0, 1\", \"primary_metric\": 0.85597403, \"best_metric\": 0.86324675}, {\"run_id\": \"AutoML_1ac39d64-bc53-42d1-9deb-b1258b311536_37\", \"run_number\": 42, \"metric\": null, \"status\": \"Canceled\", \"run_type\": \"azureml.scriptrun\", \"training_percent\": \"100\", \"start_time\": \"2020-12-28T07:56:43.395371Z\", \"end_time\": \"2020-12-28T07:57:21.136064Z\", \"created_time\": \"2020-12-28T07:56:30.711666Z\", \"created_time_dt\": \"2020-12-28T07:56:30.711666Z\", \"duration\": \"0:00:50\", \"iteration\": \"37\", \"goal\": \"accuracy_max\", \"run_name\": \"StandardScalerWrapper, LightGBM\", \"run_properties\": \"<azureml.automl.runtime.shared.model_wrappers.StandardScalerWrapper object at 0x7f641609bf98\", \"primary_metric\": 0.85246753, \"best_metric\": 0.86324675}, {\"run_id\": \"AutoML_1ac39d64-bc53-42d1-9deb-b1258b311536_38\", \"run_number\": 43, \"metric\": null, \"status\": \"Canceled\", \"run_type\": \"azureml.scriptrun\", \"training_percent\": \"100\", \"start_time\": \"2020-12-28T07:56:48.190615Z\", \"end_time\": \"2020-12-28T07:57:27.53321Z\", \"created_time\": \"2020-12-28T07:56:36.684386Z\", \"created_time_dt\": \"2020-12-28T07:56:36.684386Z\", \"duration\": \"0:00:50\", \"iteration\": \"38\", \"goal\": \"accuracy_max\", \"run_name\": \"StandardScalerWrapper, LightGBM\", \"run_properties\": \"<azureml.automl.runtime.shared.model_wrappers.StandardScalerWrapper object at 0x7fa335eabb00\", \"primary_metric\": 0.85597403, \"best_metric\": 0.86324675}, {\"run_id\": \"AutoML_1ac39d64-bc53-42d1-9deb-b1258b311536_39\", \"run_number\": 44, \"metric\": null, \"status\": \"Canceled\", \"run_type\": \"azureml.scriptrun\", \"training_percent\": \"100\", \"start_time\": \"2020-12-28T07:56:57.752784Z\", \"end_time\": \"2020-12-28T07:57:27.89615Z\", \"created_time\": \"2020-12-28T07:56:46.100647Z\", \"created_time_dt\": \"2020-12-28T07:56:46.100647Z\", \"duration\": \"0:00:41\", \"iteration\": \"39\", \"goal\": \"accuracy_max\", \"run_name\": \"MaxAbsScaler, ExtremeRandomTrees\", \"run_properties\": \"copy=True\", \"primary_metric\": 0.84883117, \"best_metric\": 0.86324675}, {\"run_id\": \"AutoML_1ac39d64-bc53-42d1-9deb-b1258b311536_40\", \"run_number\": 45, \"metric\": null, \"status\": \"Completed\", \"run_type\": \"azureml.scriptrun\", \"training_percent\": \"100\", \"start_time\": \"2020-12-28T07:57:39.222563Z\", \"end_time\": \"2020-12-28T07:59:08.161969Z\", \"created_time\": \"2020-12-28T07:57:28.678338Z\", \"created_time_dt\": \"2020-12-28T07:57:28.678338Z\", \"duration\": \"0:01:39\", \"iteration\": \"40\", \"goal\": \"accuracy_max\", \"run_name\": \"VotingEnsemble\", \"run_properties\": \"classification_labels=None,\\n                              estimators=[('23',\\n                                           Pipeline(memory=None,\\n                                                    steps=[('maxabsscaler',\\n                                                            MaxAbsScaler(copy=True\", \"primary_metric\": 0.88493506, \"best_metric\": 0.88493506}, {\"run_id\": \"AutoML_1ac39d64-bc53-42d1-9deb-b1258b311536_41\", \"run_number\": 46, \"metric\": null, \"status\": \"Completed\", \"run_type\": \"azureml.scriptrun\", \"training_percent\": \"100\", \"start_time\": \"2020-12-28T07:57:41.388049Z\", \"end_time\": \"2020-12-28T07:59:09.326872Z\", \"created_time\": \"2020-12-28T07:57:28.994779Z\", \"created_time_dt\": \"2020-12-28T07:57:28.994779Z\", \"duration\": \"0:01:40\", \"iteration\": \"41\", \"goal\": \"accuracy_max\", \"run_name\": \"StackEnsemble\", \"run_properties\": \"base_learners=[('23',\\n                                        Pipeline(memory=None,\\n                                                 steps=[('maxabsscaler',\\n                                                         MaxAbsScaler(copy=True\", \"primary_metric\": 0.85980519, \"best_metric\": 0.88493506}], \"children_metrics\": {\"categories\": [0], \"series\": {\"recall_score_weighted\": [{\"categories\": [\"0\", \"1\", \"2\", \"3\", \"4\", \"5\", \"6\", \"7\", \"8\", \"9\", \"10\", \"11\", \"12\", \"13\", \"14\", \"15\", \"16\", \"17\", \"18\", \"19\", \"20\", \"21\", \"22\", \"23\", \"24\", \"25\", \"26\", \"27\", \"28\", \"29\", \"30\", \"31\", \"32\", \"33\", \"34\", \"35\", \"36\", \"37\", \"38\", \"39\", \"40\", \"41\"], \"mode\": \"markers\", \"name\": \"recall_score_weighted\", \"stepped\": false, \"type\": \"scatter\", \"data\": [0.8416233766233766, 0.8524675324675325, 0.8343506493506494, 0.8379220779220781, 0.8490259740259741, 0.8596753246753247, 0.7194155844155844, 0.7301948051948053, 0.8453246753246754, 0.8415584415584416, 0.8524025974025975, 0.8198051948051948, 0.7660389610389611, 0.845064935064935, 0.8236363636363636, 0.8415584415584416, 0.8307792207792207, 0.8381818181818183, 0.8272727272727274, 0.8559740259740259, 0.7481818181818182, 0.8561038961038963, 0.8451298701298702, 0.8632467532467534, 0.8272077922077923, 0.6798051948051947, 0.8561688311688311, 0.8596103896103896, 0.863181818181818, 0.8127922077922077, 0.6798051948051947, 0.8344155844155843, 0.8164935064935065, 0.8198701298701299, 0.856103896103896, 0.8524675324675325, 0.8559740259740259, 0.8524675324675324, 0.8559740259740259, 0.8488311688311688, 0.8849350649350649, 0.8598051948051948]}, {\"categories\": [\"0\", \"1\", \"2\", \"3\", \"4\", \"5\", \"6\", \"7\", \"8\", \"9\", \"10\", \"11\", \"12\", \"13\", \"14\", \"15\", \"16\", \"17\", \"18\", \"19\", \"20\", \"21\", \"22\", \"23\", \"24\", \"25\", \"26\", \"27\", \"28\", \"29\", \"30\", \"31\", \"32\", \"33\", \"34\", \"35\", \"36\", \"37\", \"38\", \"39\", \"40\", \"41\"], \"mode\": \"lines\", \"name\": \"recall_score_weighted_max\", \"stepped\": true, \"type\": \"scatter\", \"data\": [0.8416233766233766, 0.8524675324675325, 0.8524675324675325, 0.8524675324675325, 0.8524675324675325, 0.8596753246753247, 0.8596753246753247, 0.8596753246753247, 0.8596753246753247, 0.8596753246753247, 0.8596753246753247, 0.8596753246753247, 0.8596753246753247, 0.8596753246753247, 0.8596753246753247, 0.8596753246753247, 0.8596753246753247, 0.8596753246753247, 0.8596753246753247, 0.8596753246753247, 0.8596753246753247, 0.8596753246753247, 0.8596753246753247, 0.8632467532467534, 0.8632467532467534, 0.8632467532467534, 0.8632467532467534, 0.8632467532467534, 0.8632467532467534, 0.8632467532467534, 0.8632467532467534, 0.8632467532467534, 0.8632467532467534, 0.8632467532467534, 0.8632467532467534, 0.8632467532467534, 0.8632467532467534, 0.8632467532467534, 0.8632467532467534, 0.8632467532467534, 0.8849350649350649, 0.8849350649350649]}], \"log_loss\": [{\"categories\": [\"0\", \"1\", \"2\", \"3\", \"4\", \"5\", \"6\", \"7\", \"8\", \"9\", \"10\", \"11\", \"12\", \"13\", \"14\", \"15\", \"16\", \"17\", \"18\", \"19\", \"20\", \"21\", \"22\", \"23\", \"24\", \"25\", \"26\", \"27\", \"28\", \"29\", \"30\", \"31\", \"32\", \"33\", \"34\", \"35\", \"36\", \"37\", \"38\", \"39\", \"40\", \"41\"], \"mode\": \"markers\", \"name\": \"log_loss\", \"stepped\": false, \"type\": \"scatter\", \"data\": [0.41673530906503764, 0.37122251419256713, 0.3800433624155224, 0.38741848497138576, 0.3632716899465541, 0.35684756937094897, 0.5612045818630044, 0.5807703240902073, 0.3725673559335381, 0.4576040282679224, 0.3491238109303888, 0.43320880615833557, 0.49590128786431836, 0.4290379680360429, 0.46091785490830783, 0.38900401365615905, 0.3791842161584803, 0.45366264072954304, 0.3788637235322645, 0.3497102262499, 0.47246503443354737, 0.3543341769267872, 0.3828445425020136, 0.3581278332488173, 0.3980784176925765, 0.6306603356005672, 0.3570965529766686, 0.36381045593979267, 0.36655823538836807, 0.4924535463467318, 0.6307018762002987, 0.3968257334431434, 0.5570394218419452, 0.42305543921445554, 0.36594746392490507, 0.3583939036627498, 0.36109023753686664, 0.3654759803159979, 0.3622655095756448, 0.4113897584022501, 0.36179311818446874, 0.34602630517257416]}, {\"categories\": [\"0\", \"1\", \"2\", \"3\", \"4\", \"5\", \"6\", \"7\", \"8\", \"9\", \"10\", \"11\", \"12\", \"13\", \"14\", \"15\", \"16\", \"17\", \"18\", \"19\", \"20\", \"21\", \"22\", \"23\", \"24\", \"25\", \"26\", \"27\", \"28\", \"29\", \"30\", \"31\", \"32\", \"33\", \"34\", \"35\", \"36\", \"37\", \"38\", \"39\", \"40\", \"41\"], \"mode\": \"lines\", \"name\": \"log_loss_min\", \"stepped\": true, \"type\": \"scatter\", \"data\": [0.41673530906503764, 0.37122251419256713, 0.37122251419256713, 0.37122251419256713, 0.3632716899465541, 0.35684756937094897, 0.35684756937094897, 0.35684756937094897, 0.35684756937094897, 0.35684756937094897, 0.3491238109303888, 0.3491238109303888, 0.3491238109303888, 0.3491238109303888, 0.3491238109303888, 0.3491238109303888, 0.3491238109303888, 0.3491238109303888, 0.3491238109303888, 0.3491238109303888, 0.3491238109303888, 0.3491238109303888, 0.3491238109303888, 0.3491238109303888, 0.3491238109303888, 0.3491238109303888, 0.3491238109303888, 0.3491238109303888, 0.3491238109303888, 0.3491238109303888, 0.3491238109303888, 0.3491238109303888, 0.3491238109303888, 0.3491238109303888, 0.3491238109303888, 0.3491238109303888, 0.3491238109303888, 0.3491238109303888, 0.3491238109303888, 0.3491238109303888, 0.3491238109303888, 0.34602630517257416]}], \"weighted_accuracy\": [{\"categories\": [\"0\", \"1\", \"2\", \"3\", \"4\", \"5\", \"6\", \"7\", \"8\", \"9\", \"10\", \"11\", \"12\", \"13\", \"14\", \"15\", \"16\", \"17\", \"18\", \"19\", \"20\", \"21\", \"22\", \"23\", \"24\", \"25\", \"26\", \"27\", \"28\", \"29\", \"30\", \"31\", \"32\", \"33\", \"34\", \"35\", \"36\", \"37\", \"38\", \"39\", \"40\", \"41\"], \"mode\": \"markers\", \"name\": \"weighted_accuracy\", \"stepped\": false, \"type\": \"scatter\", \"data\": [0.8615726274341391, 0.8754442464831541, 0.8629086177304061, 0.8765951516129439, 0.8672765897660915, 0.881853385064437, 0.7888545623161665, 0.7994220770436595, 0.871652785109465, 0.8761191385525798, 0.874192129833359, 0.8726199147128906, 0.845496266167385, 0.885318262519388, 0.8760124913675249, 0.8745335041088882, 0.8612232857802725, 0.8693537595013415, 0.8681061863452662, 0.8765800576287006, 0.8285278990226219, 0.8820629084184745, 0.8785077570389139, 0.8826040967741584, 0.8513046089494019, 0.8098936613500083, 0.8810487247477152, 0.8821137181411212, 0.8817121459324836, 0.8703247022735925, 0.8098936613500083, 0.8659121798534113, 0.823928418472466, 0.8509304249818953, 0.8766468454362485, 0.8722551425325076, 0.8809444781399041, 0.8805773750779705, 0.8819305736443173, 0.8969027325393754, 0.9051295521491598, 0.8832068105749151]}, {\"categories\": [\"0\", \"1\", \"2\", \"3\", \"4\", \"5\", \"6\", \"7\", \"8\", \"9\", \"10\", \"11\", \"12\", \"13\", \"14\", \"15\", \"16\", \"17\", \"18\", \"19\", \"20\", \"21\", \"22\", \"23\", \"24\", \"25\", \"26\", \"27\", \"28\", \"29\", \"30\", \"31\", \"32\", \"33\", \"34\", \"35\", \"36\", \"37\", \"38\", \"39\", \"40\", \"41\"], \"mode\": \"lines\", \"name\": \"weighted_accuracy_max\", \"stepped\": true, \"type\": \"scatter\", \"data\": [0.8615726274341391, 0.8754442464831541, 0.8754442464831541, 0.8765951516129439, 0.8765951516129439, 0.881853385064437, 0.881853385064437, 0.881853385064437, 0.881853385064437, 0.881853385064437, 0.881853385064437, 0.881853385064437, 0.881853385064437, 0.885318262519388, 0.885318262519388, 0.885318262519388, 0.885318262519388, 0.885318262519388, 0.885318262519388, 0.885318262519388, 0.885318262519388, 0.885318262519388, 0.885318262519388, 0.885318262519388, 0.885318262519388, 0.885318262519388, 0.885318262519388, 0.885318262519388, 0.885318262519388, 0.885318262519388, 0.885318262519388, 0.885318262519388, 0.885318262519388, 0.885318262519388, 0.885318262519388, 0.885318262519388, 0.885318262519388, 0.885318262519388, 0.885318262519388, 0.8969027325393754, 0.9051295521491598, 0.9051295521491598]}], \"recall_score_macro\": [{\"categories\": [\"0\", \"1\", \"2\", \"3\", \"4\", \"5\", \"6\", \"7\", \"8\", \"9\", \"10\", \"11\", \"12\", \"13\", \"14\", \"15\", \"16\", \"17\", \"18\", \"19\", \"20\", \"21\", \"22\", \"23\", \"24\", \"25\", \"26\", \"27\", \"28\", \"29\", \"30\", \"31\", \"32\", \"33\", \"34\", \"35\", \"36\", \"37\", \"38\", \"39\", \"40\", \"41\"], \"mode\": \"markers\", \"name\": \"recall_score_macro\", \"stepped\": false, \"type\": \"scatter\", \"data\": [0.8156552587775685, 0.8216671635394734, 0.7948071434782339, 0.7842609249908389, 0.82365168129336, 0.8264330665747451, 0.6228035659940251, 0.6327061633966224, 0.8060297688920357, 0.79224761966871, 0.8226993003409788, 0.748282900743446, 0.6562872421695951, 0.7912280366692132, 0.7524390632084319, 0.7942930742141646, 0.7884179026377734, 0.7927833339544244, 0.770238592110902, 0.8278414059637159, 0.6385451874763209, 0.8199002294931276, 0.7983204612221828, 0.8370080726303823, 0.795398422118293, 0.5, 0.821200700901203, 0.8279954675883656, 0.8384716580645561, 0.7329719127118697, 0.5, 0.7890683479600267, 0.8065006257491909, 0.7766651139391455, 0.8281188317899222, 0.8255578561801661, 0.8218540110057326, 0.8128778717695504, 0.8199492491009707, 0.7827204484898171, 0.8569730586247802, 0.8266538333737042]}, {\"categories\": [\"0\", \"1\", \"2\", \"3\", \"4\", \"5\", \"6\", \"7\", \"8\", \"9\", \"10\", \"11\", \"12\", \"13\", \"14\", \"15\", \"16\", \"17\", \"18\", \"19\", \"20\", \"21\", \"22\", \"23\", \"24\", \"25\", \"26\", \"27\", \"28\", \"29\", \"30\", \"31\", \"32\", \"33\", \"34\", \"35\", \"36\", \"37\", \"38\", \"39\", \"40\", \"41\"], \"mode\": \"lines\", \"name\": \"recall_score_macro_max\", \"stepped\": true, \"type\": \"scatter\", \"data\": [0.8156552587775685, 0.8216671635394734, 0.8216671635394734, 0.8216671635394734, 0.82365168129336, 0.8264330665747451, 0.8264330665747451, 0.8264330665747451, 0.8264330665747451, 0.8264330665747451, 0.8264330665747451, 0.8264330665747451, 0.8264330665747451, 0.8264330665747451, 0.8264330665747451, 0.8264330665747451, 0.8264330665747451, 0.8264330665747451, 0.8264330665747451, 0.8278414059637159, 0.8278414059637159, 0.8278414059637159, 0.8278414059637159, 0.8370080726303823, 0.8370080726303823, 0.8370080726303823, 0.8370080726303823, 0.8370080726303823, 0.8384716580645561, 0.8384716580645561, 0.8384716580645561, 0.8384716580645561, 0.8384716580645561, 0.8384716580645561, 0.8384716580645561, 0.8384716580645561, 0.8384716580645561, 0.8384716580645561, 0.8384716580645561, 0.8384716580645561, 0.8569730586247802, 0.8569730586247802]}], \"average_precision_score_micro\": [{\"categories\": [\"0\", \"1\", \"2\", \"3\", \"4\", \"5\", \"6\", \"7\", \"8\", \"9\", \"10\", \"11\", \"12\", \"13\", \"14\", \"15\", \"16\", \"17\", \"18\", \"19\", \"20\", \"21\", \"22\", \"23\", \"24\", \"25\", \"26\", \"27\", \"28\", \"29\", \"30\", \"31\", \"32\", \"33\", \"34\", \"35\", \"36\", \"37\", \"38\", \"39\", \"40\", \"41\"], \"mode\": \"markers\", \"name\": \"average_precision_score_micro\", \"stepped\": false, \"type\": \"scatter\", \"data\": [0.9205401923904857, 0.9216226529122762, 0.915781533246428, 0.913111049979836, 0.9333777275949642, 0.9258843224650573, 0.7966959323237889, 0.789731777364256, 0.9149322463529124, 0.9071761360049668, 0.9280195467240192, 0.9038825938106179, 0.8771902280757656, 0.9147125558694441, 0.899138719507104, 0.9150134654267916, 0.916667561257564, 0.8882704322634423, 0.9200240892666027, 0.9267455136777013, 0.8791542993435563, 0.9246764120635952, 0.9201208429741273, 0.9221435226713945, 0.9101333408468937, 0.6252842174059706, 0.9235016693030339, 0.9183733814612418, 0.9187609540610235, 0.8727930313974455, 0.663451552212759, 0.9106883809472583, 0.8983060430015188, 0.8911132899185701, 0.9221017489721792, 0.920410161901318, 0.9198416176985758, 0.9209095083819575, 0.9241634413237229, 0.9134341162948207, 0.9346098664283717, 0.9307603894116744]}, {\"categories\": [\"0\", \"1\", \"2\", \"3\", \"4\", \"5\", \"6\", \"7\", \"8\", \"9\", \"10\", \"11\", \"12\", \"13\", \"14\", \"15\", \"16\", \"17\", \"18\", \"19\", \"20\", \"21\", \"22\", \"23\", \"24\", \"25\", \"26\", \"27\", \"28\", \"29\", \"30\", \"31\", \"32\", \"33\", \"34\", \"35\", \"36\", \"37\", \"38\", \"39\", \"40\", \"41\"], \"mode\": \"lines\", \"name\": \"average_precision_score_micro_max\", \"stepped\": true, \"type\": \"scatter\", \"data\": [0.9205401923904857, 0.9216226529122762, 0.9216226529122762, 0.9216226529122762, 0.9333777275949642, 0.9333777275949642, 0.9333777275949642, 0.9333777275949642, 0.9333777275949642, 0.9333777275949642, 0.9333777275949642, 0.9333777275949642, 0.9333777275949642, 0.9333777275949642, 0.9333777275949642, 0.9333777275949642, 0.9333777275949642, 0.9333777275949642, 0.9333777275949642, 0.9333777275949642, 0.9333777275949642, 0.9333777275949642, 0.9333777275949642, 0.9333777275949642, 0.9333777275949642, 0.9333777275949642, 0.9333777275949642, 0.9333777275949642, 0.9333777275949642, 0.9333777275949642, 0.9333777275949642, 0.9333777275949642, 0.9333777275949642, 0.9333777275949642, 0.9333777275949642, 0.9333777275949642, 0.9333777275949642, 0.9333777275949642, 0.9333777275949642, 0.9333777275949642, 0.9346098664283717, 0.9346098664283717]}], \"recall_score_micro\": [{\"categories\": [\"0\", \"1\", \"2\", \"3\", \"4\", \"5\", \"6\", \"7\", \"8\", \"9\", \"10\", \"11\", \"12\", \"13\", \"14\", \"15\", \"16\", \"17\", \"18\", \"19\", \"20\", \"21\", \"22\", \"23\", \"24\", \"25\", \"26\", \"27\", \"28\", \"29\", \"30\", \"31\", \"32\", \"33\", \"34\", \"35\", \"36\", \"37\", \"38\", \"39\", \"40\", \"41\"], \"mode\": \"markers\", \"name\": \"recall_score_micro\", \"stepped\": false, \"type\": \"scatter\", \"data\": [0.8416233766233766, 0.8524675324675325, 0.8343506493506494, 0.8379220779220781, 0.8490259740259741, 0.8596753246753247, 0.7194155844155844, 0.7301948051948053, 0.8453246753246754, 0.8415584415584416, 0.8524025974025975, 0.8198051948051948, 0.7660389610389611, 0.845064935064935, 0.8236363636363636, 0.8415584415584416, 0.8307792207792207, 0.8381818181818183, 0.8272727272727274, 0.8559740259740259, 0.7481818181818182, 0.8561038961038963, 0.8451298701298702, 0.8632467532467534, 0.8272077922077923, 0.6798051948051947, 0.8561688311688311, 0.8596103896103896, 0.863181818181818, 0.8127922077922077, 0.6798051948051947, 0.8344155844155843, 0.8164935064935065, 0.8198701298701299, 0.856103896103896, 0.8524675324675325, 0.8559740259740259, 0.8524675324675324, 0.8559740259740259, 0.8488311688311688, 0.8849350649350649, 0.8598051948051948]}, {\"categories\": [\"0\", \"1\", \"2\", \"3\", \"4\", \"5\", \"6\", \"7\", \"8\", \"9\", \"10\", \"11\", \"12\", \"13\", \"14\", \"15\", \"16\", \"17\", \"18\", \"19\", \"20\", \"21\", \"22\", \"23\", \"24\", \"25\", \"26\", \"27\", \"28\", \"29\", \"30\", \"31\", \"32\", \"33\", \"34\", \"35\", \"36\", \"37\", \"38\", \"39\", \"40\", \"41\"], \"mode\": \"lines\", \"name\": \"recall_score_micro_max\", \"stepped\": true, \"type\": \"scatter\", \"data\": [0.8416233766233766, 0.8524675324675325, 0.8524675324675325, 0.8524675324675325, 0.8524675324675325, 0.8596753246753247, 0.8596753246753247, 0.8596753246753247, 0.8596753246753247, 0.8596753246753247, 0.8596753246753247, 0.8596753246753247, 0.8596753246753247, 0.8596753246753247, 0.8596753246753247, 0.8596753246753247, 0.8596753246753247, 0.8596753246753247, 0.8596753246753247, 0.8596753246753247, 0.8596753246753247, 0.8596753246753247, 0.8596753246753247, 0.8632467532467534, 0.8632467532467534, 0.8632467532467534, 0.8632467532467534, 0.8632467532467534, 0.8632467532467534, 0.8632467532467534, 0.8632467532467534, 0.8632467532467534, 0.8632467532467534, 0.8632467532467534, 0.8632467532467534, 0.8632467532467534, 0.8632467532467534, 0.8632467532467534, 0.8632467532467534, 0.8632467532467534, 0.8849350649350649, 0.8849350649350649]}], \"precision_score_micro\": [{\"categories\": [\"0\", \"1\", \"2\", \"3\", \"4\", \"5\", \"6\", \"7\", \"8\", \"9\", \"10\", \"11\", \"12\", \"13\", \"14\", \"15\", \"16\", \"17\", \"18\", \"19\", \"20\", \"21\", \"22\", \"23\", \"24\", \"25\", \"26\", \"27\", \"28\", \"29\", \"30\", \"31\", \"32\", \"33\", \"34\", \"35\", \"36\", \"37\", \"38\", \"39\", \"40\", \"41\"], \"mode\": \"markers\", \"name\": \"precision_score_micro\", \"stepped\": false, \"type\": \"scatter\", \"data\": [0.8416233766233766, 0.8524675324675325, 0.8343506493506494, 0.8379220779220781, 0.8490259740259741, 0.8596753246753247, 0.7194155844155844, 0.7301948051948053, 0.8453246753246754, 0.8415584415584416, 0.8524025974025975, 0.8198051948051948, 0.7660389610389611, 0.845064935064935, 0.8236363636363636, 0.8415584415584416, 0.8307792207792207, 0.8381818181818183, 0.8272727272727274, 0.8559740259740259, 0.7481818181818182, 0.8561038961038963, 0.8451298701298702, 0.8632467532467534, 0.8272077922077923, 0.6798051948051947, 0.8561688311688311, 0.8596103896103896, 0.863181818181818, 0.8127922077922077, 0.6798051948051947, 0.8344155844155843, 0.8164935064935065, 0.8198701298701299, 0.856103896103896, 0.8524675324675325, 0.8559740259740259, 0.8524675324675324, 0.8559740259740259, 0.8488311688311688, 0.8849350649350649, 0.8598051948051948]}, {\"categories\": [\"0\", \"1\", \"2\", \"3\", \"4\", \"5\", \"6\", \"7\", \"8\", \"9\", \"10\", \"11\", \"12\", \"13\", \"14\", \"15\", \"16\", \"17\", \"18\", \"19\", \"20\", \"21\", \"22\", \"23\", \"24\", \"25\", \"26\", \"27\", \"28\", \"29\", \"30\", \"31\", \"32\", \"33\", \"34\", \"35\", \"36\", \"37\", \"38\", \"39\", \"40\", \"41\"], \"mode\": \"lines\", \"name\": \"precision_score_micro_max\", \"stepped\": true, \"type\": \"scatter\", \"data\": [0.8416233766233766, 0.8524675324675325, 0.8524675324675325, 0.8524675324675325, 0.8524675324675325, 0.8596753246753247, 0.8596753246753247, 0.8596753246753247, 0.8596753246753247, 0.8596753246753247, 0.8596753246753247, 0.8596753246753247, 0.8596753246753247, 0.8596753246753247, 0.8596753246753247, 0.8596753246753247, 0.8596753246753247, 0.8596753246753247, 0.8596753246753247, 0.8596753246753247, 0.8596753246753247, 0.8596753246753247, 0.8596753246753247, 0.8632467532467534, 0.8632467532467534, 0.8632467532467534, 0.8632467532467534, 0.8632467532467534, 0.8632467532467534, 0.8632467532467534, 0.8632467532467534, 0.8632467532467534, 0.8632467532467534, 0.8632467532467534, 0.8632467532467534, 0.8632467532467534, 0.8632467532467534, 0.8632467532467534, 0.8632467532467534, 0.8632467532467534, 0.8849350649350649, 0.8849350649350649]}], \"precision_score_macro\": [{\"categories\": [\"0\", \"1\", \"2\", \"3\", \"4\", \"5\", \"6\", \"7\", \"8\", \"9\", \"10\", \"11\", \"12\", \"13\", \"14\", \"15\", \"16\", \"17\", \"18\", \"19\", \"20\", \"21\", \"22\", \"23\", \"24\", \"25\", \"26\", \"27\", \"28\", \"29\", \"30\", \"31\", \"32\", \"33\", \"34\", \"35\", \"36\", \"37\", \"38\", \"39\", \"40\", \"41\"], \"mode\": \"markers\", \"name\": \"precision_score_macro\", \"stepped\": false, \"type\": \"scatter\", \"data\": [0.8327446654652537, 0.8425306491994553, 0.81765742930698, 0.8294480539942821, 0.8324743887309982, 0.8452591497732163, 0.6747227265488134, 0.6834597274392373, 0.8257563209737123, 0.825346029959033, 0.8393371613242488, 0.833150999221767, 0.7952266542980829, 0.8579273928873159, 0.8466501669758506, 0.8241285022167375, 0.8115827857933121, 0.817938786359839, 0.8200664602718517, 0.8461680476386357, 0.7593441348170474, 0.8516676682311356, 0.8392898744386159, 0.8542027417027416, 0.8101385891318571, 0.3399025974025974, 0.8488699905785368, 0.8514471313000724, 0.8536278909198565, 0.819484126984127, 0.3399025974025974, 0.814116053852896, 0.7888555681747901, 0.802787656912504, 0.8437837550046853, 0.8419308011452917, 0.8509335109335108, 0.8461486803437268, 0.8494275343991736, 0.8683885514744476, 0.8821943721653025, 0.8514654947195988]}, {\"categories\": [\"0\", \"1\", \"2\", \"3\", \"4\", \"5\", \"6\", \"7\", \"8\", \"9\", \"10\", \"11\", \"12\", \"13\", \"14\", \"15\", \"16\", \"17\", \"18\", \"19\", \"20\", \"21\", \"22\", \"23\", \"24\", \"25\", \"26\", \"27\", \"28\", \"29\", \"30\", \"31\", \"32\", \"33\", \"34\", \"35\", \"36\", \"37\", \"38\", \"39\", \"40\", \"41\"], \"mode\": \"lines\", \"name\": \"precision_score_macro_max\", \"stepped\": true, \"type\": \"scatter\", \"data\": [0.8327446654652537, 0.8425306491994553, 0.8425306491994553, 0.8425306491994553, 0.8425306491994553, 0.8452591497732163, 0.8452591497732163, 0.8452591497732163, 0.8452591497732163, 0.8452591497732163, 0.8452591497732163, 0.8452591497732163, 0.8452591497732163, 0.8579273928873159, 0.8579273928873159, 0.8579273928873159, 0.8579273928873159, 0.8579273928873159, 0.8579273928873159, 0.8579273928873159, 0.8579273928873159, 0.8579273928873159, 0.8579273928873159, 0.8579273928873159, 0.8579273928873159, 0.8579273928873159, 0.8579273928873159, 0.8579273928873159, 0.8579273928873159, 0.8579273928873159, 0.8579273928873159, 0.8579273928873159, 0.8579273928873159, 0.8579273928873159, 0.8579273928873159, 0.8579273928873159, 0.8579273928873159, 0.8579273928873159, 0.8579273928873159, 0.8683885514744476, 0.8821943721653025, 0.8821943721653025]}], \"matthews_correlation\": [{\"categories\": [\"0\", \"1\", \"2\", \"3\", \"4\", \"5\", \"6\", \"7\", \"8\", \"9\", \"10\", \"11\", \"12\", \"13\", \"14\", \"15\", \"16\", \"17\", \"18\", \"19\", \"20\", \"21\", \"22\", \"23\", \"24\", \"25\", \"26\", \"27\", \"28\", \"29\", \"30\", \"31\", \"32\", \"33\", \"34\", \"35\", \"36\", \"37\", \"38\", \"39\", \"40\", \"41\"], \"mode\": \"markers\", \"name\": \"matthews_correlation\", \"stepped\": false, \"type\": \"scatter\", \"data\": [0.6463661498635396, 0.6629638173041319, 0.6111340552940828, 0.61114536442773, 0.6554829839160126, 0.669370993197244, 0.2916044824609606, 0.31044665268721106, 0.6297655540507551, 0.6161020629556895, 0.6606681465045277, 0.5730267836857156, 0.427973300423152, 0.6427031467709423, 0.5891496587049309, 0.6167818731782825, 0.5984047687395609, 0.6093209105089276, 0.5875464480896361, 0.6725296395288388, 0.3764415378828657, 0.6696955234229571, 0.6342714377211449, 0.6895469690405102, 0.6039444959146609, 0.0, 0.6680591366824478, 0.6776428210220274, 0.6907070746677968, 0.5449280685113155, 0.0, 0.601711299441936, 0.5946699651667393, 0.5785905249550785, 0.6707182322682529, 0.6660553314084112, 0.6703315281043531, 0.6566420741507325, 0.66706952969793, 0.6444222718250651, 0.7376842089599478, 0.6759167000589248]}, {\"categories\": [\"0\", \"1\", \"2\", \"3\", \"4\", \"5\", \"6\", \"7\", \"8\", \"9\", \"10\", \"11\", \"12\", \"13\", \"14\", \"15\", \"16\", \"17\", \"18\", \"19\", \"20\", \"21\", \"22\", \"23\", \"24\", \"25\", \"26\", \"27\", \"28\", \"29\", \"30\", \"31\", \"32\", \"33\", \"34\", \"35\", \"36\", \"37\", \"38\", \"39\", \"40\", \"41\"], \"mode\": \"lines\", \"name\": \"matthews_correlation_max\", \"stepped\": true, \"type\": \"scatter\", \"data\": [0.6463661498635396, 0.6629638173041319, 0.6629638173041319, 0.6629638173041319, 0.6629638173041319, 0.669370993197244, 0.669370993197244, 0.669370993197244, 0.669370993197244, 0.669370993197244, 0.669370993197244, 0.669370993197244, 0.669370993197244, 0.669370993197244, 0.669370993197244, 0.669370993197244, 0.669370993197244, 0.669370993197244, 0.669370993197244, 0.6725296395288388, 0.6725296395288388, 0.6725296395288388, 0.6725296395288388, 0.6895469690405102, 0.6895469690405102, 0.6895469690405102, 0.6895469690405102, 0.6895469690405102, 0.6907070746677968, 0.6907070746677968, 0.6907070746677968, 0.6907070746677968, 0.6907070746677968, 0.6907070746677968, 0.6907070746677968, 0.6907070746677968, 0.6907070746677968, 0.6907070746677968, 0.6907070746677968, 0.6907070746677968, 0.7376842089599478, 0.7376842089599478]}], \"balanced_accuracy\": [{\"categories\": [\"0\", \"1\", \"2\", \"3\", \"4\", \"5\", \"6\", \"7\", \"8\", \"9\", \"10\", \"11\", \"12\", \"13\", \"14\", \"15\", \"16\", \"17\", \"18\", \"19\", \"20\", \"21\", \"22\", \"23\", \"24\", \"25\", \"26\", \"27\", \"28\", \"29\", \"30\", \"31\", \"32\", \"33\", \"34\", \"35\", \"36\", \"37\", \"38\", \"39\", \"40\", \"41\"], \"mode\": \"markers\", \"name\": \"balanced_accuracy\", \"stepped\": false, \"type\": \"scatter\", \"data\": [0.8156552587775685, 0.8216671635394734, 0.7948071434782339, 0.7842609249908389, 0.82365168129336, 0.8264330665747451, 0.6228035659940251, 0.6327061633966224, 0.8060297688920357, 0.79224761966871, 0.8226993003409788, 0.748282900743446, 0.6562872421695951, 0.7912280366692132, 0.7524390632084319, 0.7942930742141646, 0.7884179026377734, 0.7927833339544244, 0.770238592110902, 0.8278414059637159, 0.6385451874763209, 0.8199002294931276, 0.7983204612221828, 0.8370080726303823, 0.795398422118293, 0.5, 0.821200700901203, 0.8279954675883656, 0.8384716580645561, 0.7329719127118697, 0.5, 0.7890683479600267, 0.8065006257491909, 0.7766651139391455, 0.8281188317899222, 0.8255578561801661, 0.8218540110057326, 0.8128778717695504, 0.8199492491009707, 0.7827204484898171, 0.8569730586247802, 0.8266538333737042]}, {\"categories\": [\"0\", \"1\", \"2\", \"3\", \"4\", \"5\", \"6\", \"7\", \"8\", \"9\", \"10\", \"11\", \"12\", \"13\", \"14\", \"15\", \"16\", \"17\", \"18\", \"19\", \"20\", \"21\", \"22\", \"23\", \"24\", \"25\", \"26\", \"27\", \"28\", \"29\", \"30\", \"31\", \"32\", \"33\", \"34\", \"35\", \"36\", \"37\", \"38\", \"39\", \"40\", \"41\"], \"mode\": \"lines\", \"name\": \"balanced_accuracy_max\", \"stepped\": true, \"type\": \"scatter\", \"data\": [0.8156552587775685, 0.8216671635394734, 0.8216671635394734, 0.8216671635394734, 0.82365168129336, 0.8264330665747451, 0.8264330665747451, 0.8264330665747451, 0.8264330665747451, 0.8264330665747451, 0.8264330665747451, 0.8264330665747451, 0.8264330665747451, 0.8264330665747451, 0.8264330665747451, 0.8264330665747451, 0.8264330665747451, 0.8264330665747451, 0.8264330665747451, 0.8278414059637159, 0.8278414059637159, 0.8278414059637159, 0.8278414059637159, 0.8370080726303823, 0.8370080726303823, 0.8370080726303823, 0.8370080726303823, 0.8370080726303823, 0.8384716580645561, 0.8384716580645561, 0.8384716580645561, 0.8384716580645561, 0.8384716580645561, 0.8384716580645561, 0.8384716580645561, 0.8384716580645561, 0.8384716580645561, 0.8384716580645561, 0.8384716580645561, 0.8384716580645561, 0.8569730586247802, 0.8569730586247802]}], \"norm_macro_recall\": [{\"categories\": [\"0\", \"1\", \"2\", \"3\", \"4\", \"5\", \"6\", \"7\", \"8\", \"9\", \"10\", \"11\", \"12\", \"13\", \"14\", \"15\", \"16\", \"17\", \"18\", \"19\", \"20\", \"21\", \"22\", \"23\", \"24\", \"25\", \"26\", \"27\", \"28\", \"29\", \"30\", \"31\", \"32\", \"33\", \"34\", \"35\", \"36\", \"37\", \"38\", \"39\", \"40\", \"41\"], \"mode\": \"markers\", \"name\": \"norm_macro_recall\", \"stepped\": false, \"type\": \"scatter\", \"data\": [0.6313105175551372, 0.6433343270789468, 0.5896142869564678, 0.5685218499816778, 0.6473033625867198, 0.6528661331494904, 0.24560713198805023, 0.265412326793245, 0.6120595377840715, 0.5844952393374202, 0.6453986006819579, 0.4965658014868918, 0.31257448433919016, 0.5824560733384263, 0.5048781264168639, 0.5885861484283292, 0.576835805275547, 0.5855666679088488, 0.5404771842218039, 0.6556828119274318, 0.27709037495264177, 0.6398004589862551, 0.5966409224443657, 0.6740161452607651, 0.590796844236586, 0.0, 0.6424014018024061, 0.6559909351767315, 0.6769433161291124, 0.46594382542373936, 0.0, 0.5781366959200531, 0.613001251498382, 0.5533302278782909, 0.6562376635798444, 0.6511157123603322, 0.6437080220114654, 0.6257557435391007, 0.6398984982019416, 0.5654408969796345, 0.7139461172495606, 0.6533076667474086]}, {\"categories\": [\"0\", \"1\", \"2\", \"3\", \"4\", \"5\", \"6\", \"7\", \"8\", \"9\", \"10\", \"11\", \"12\", \"13\", \"14\", \"15\", \"16\", \"17\", \"18\", \"19\", \"20\", \"21\", \"22\", \"23\", \"24\", \"25\", \"26\", \"27\", \"28\", \"29\", \"30\", \"31\", \"32\", \"33\", \"34\", \"35\", \"36\", \"37\", \"38\", \"39\", \"40\", \"41\"], \"mode\": \"lines\", \"name\": \"norm_macro_recall_max\", \"stepped\": true, \"type\": \"scatter\", \"data\": [0.6313105175551372, 0.6433343270789468, 0.6433343270789468, 0.6433343270789468, 0.6473033625867198, 0.6528661331494904, 0.6528661331494904, 0.6528661331494904, 0.6528661331494904, 0.6528661331494904, 0.6528661331494904, 0.6528661331494904, 0.6528661331494904, 0.6528661331494904, 0.6528661331494904, 0.6528661331494904, 0.6528661331494904, 0.6528661331494904, 0.6528661331494904, 0.6556828119274318, 0.6556828119274318, 0.6556828119274318, 0.6556828119274318, 0.6740161452607651, 0.6740161452607651, 0.6740161452607651, 0.6740161452607651, 0.6740161452607651, 0.6769433161291124, 0.6769433161291124, 0.6769433161291124, 0.6769433161291124, 0.6769433161291124, 0.6769433161291124, 0.6769433161291124, 0.6769433161291124, 0.6769433161291124, 0.6769433161291124, 0.6769433161291124, 0.6769433161291124, 0.7139461172495606, 0.7139461172495606]}], \"f1_score_macro\": [{\"categories\": [\"0\", \"1\", \"2\", \"3\", \"4\", \"5\", \"6\", \"7\", \"8\", \"9\", \"10\", \"11\", \"12\", \"13\", \"14\", \"15\", \"16\", \"17\", \"18\", \"19\", \"20\", \"21\", \"22\", \"23\", \"24\", \"25\", \"26\", \"27\", \"28\", \"29\", \"30\", \"31\", \"32\", \"33\", \"34\", \"35\", \"36\", \"37\", \"38\", \"39\", \"40\", \"41\"], \"mode\": \"markers\", \"name\": \"f1_score_macro\", \"stepped\": false, \"type\": \"scatter\", \"data\": [0.8150270778657294, 0.8264571668550312, 0.8004578259740771, 0.7972338723192613, 0.8246553709187779, 0.8282553509479735, 0.6253228789886647, 0.6350345337386315, 0.8098893999469621, 0.8038812744443099, 0.8249690769290783, 0.7639769127072663, 0.6678593459575949, 0.8043718027822685, 0.7700144749054044, 0.8036328556380372, 0.7936980307660433, 0.8011891215072696, 0.7858765154271907, 0.8301431579078422, 0.6421106873953708, 0.829252304546422, 0.8079846539404091, 0.8389290783744776, 0.7953486011245119, 0.40403999206092756, 0.8281569477482791, 0.8329675894671865, 0.840009331856081, 0.7523766936779583, 0.40403999206092756, 0.7969386357254832, 0.7932662755185275, 0.7866234874900057, 0.8302923356765376, 0.8270336349134375, 0.8268231840906404, 0.8217881303763657, 0.825829377124174, 0.8045007627012977, 0.864013439293654, 0.8314761004398393]}, {\"categories\": [\"0\", \"1\", \"2\", \"3\", \"4\", \"5\", \"6\", \"7\", \"8\", \"9\", \"10\", \"11\", \"12\", \"13\", \"14\", \"15\", \"16\", \"17\", \"18\", \"19\", \"20\", \"21\", \"22\", \"23\", \"24\", \"25\", \"26\", \"27\", \"28\", \"29\", \"30\", \"31\", \"32\", \"33\", \"34\", \"35\", \"36\", \"37\", \"38\", \"39\", \"40\", \"41\"], \"mode\": \"lines\", \"name\": \"f1_score_macro_max\", \"stepped\": true, \"type\": \"scatter\", \"data\": [0.8150270778657294, 0.8264571668550312, 0.8264571668550312, 0.8264571668550312, 0.8264571668550312, 0.8282553509479735, 0.8282553509479735, 0.8282553509479735, 0.8282553509479735, 0.8282553509479735, 0.8282553509479735, 0.8282553509479735, 0.8282553509479735, 0.8282553509479735, 0.8282553509479735, 0.8282553509479735, 0.8282553509479735, 0.8282553509479735, 0.8282553509479735, 0.8301431579078422, 0.8301431579078422, 0.8301431579078422, 0.8301431579078422, 0.8389290783744776, 0.8389290783744776, 0.8389290783744776, 0.8389290783744776, 0.8389290783744776, 0.840009331856081, 0.840009331856081, 0.840009331856081, 0.840009331856081, 0.840009331856081, 0.840009331856081, 0.840009331856081, 0.840009331856081, 0.840009331856081, 0.840009331856081, 0.840009331856081, 0.840009331856081, 0.864013439293654, 0.864013439293654]}], \"precision_score_weighted\": [{\"categories\": [\"0\", \"1\", \"2\", \"3\", \"4\", \"5\", \"6\", \"7\", \"8\", \"9\", \"10\", \"11\", \"12\", \"13\", \"14\", \"15\", \"16\", \"17\", \"18\", \"19\", \"20\", \"21\", \"22\", \"23\", \"24\", \"25\", \"26\", \"27\", \"28\", \"29\", \"30\", \"31\", \"32\", \"33\", \"34\", \"35\", \"36\", \"37\", \"38\", \"39\", \"40\", \"41\"], \"mode\": \"markers\", \"name\": \"precision_score_weighted\", \"stepped\": false, \"type\": \"scatter\", \"data\": [0.8522550570344688, 0.8568422445794075, 0.8368795505965412, 0.8399885185100857, 0.8540246007738468, 0.8645291054498216, 0.7076688291005061, 0.7176670918248864, 0.846523435940432, 0.8392461241419868, 0.8565357846760285, 0.8298477540036282, 0.7822019171304885, 0.8572702890272863, 0.8417166670968598, 0.8404428333104803, 0.8318630114833121, 0.8374649778716764, 0.8278080260878721, 0.8627150811373501, 0.7575614635648862, 0.8604849216798979, 0.8493567833339, 0.869411667697382, 0.8339551018559586, 0.4651868148085681, 0.8621186070385848, 0.8646129141421349, 0.8683888096997853, 0.8201797075579543, 0.4651868148085681, 0.8330350449805337, 0.8291001251841099, 0.8172296318119452, 0.8615743038799517, 0.8602666700826672, 0.8638678781535925, 0.8562003550029866, 0.8626278797326525, 0.8610661355854576, 0.8897873163197083, 0.8658461444424901]}, {\"categories\": [\"0\", \"1\", \"2\", \"3\", \"4\", \"5\", \"6\", \"7\", \"8\", \"9\", \"10\", \"11\", \"12\", \"13\", \"14\", \"15\", \"16\", \"17\", \"18\", \"19\", \"20\", \"21\", \"22\", \"23\", \"24\", \"25\", \"26\", \"27\", \"28\", \"29\", \"30\", \"31\", \"32\", \"33\", \"34\", \"35\", \"36\", \"37\", \"38\", \"39\", \"40\", \"41\"], \"mode\": \"lines\", \"name\": \"precision_score_weighted_max\", \"stepped\": true, \"type\": \"scatter\", \"data\": [0.8522550570344688, 0.8568422445794075, 0.8568422445794075, 0.8568422445794075, 0.8568422445794075, 0.8645291054498216, 0.8645291054498216, 0.8645291054498216, 0.8645291054498216, 0.8645291054498216, 0.8645291054498216, 0.8645291054498216, 0.8645291054498216, 0.8645291054498216, 0.8645291054498216, 0.8645291054498216, 0.8645291054498216, 0.8645291054498216, 0.8645291054498216, 0.8645291054498216, 0.8645291054498216, 0.8645291054498216, 0.8645291054498216, 0.869411667697382, 0.869411667697382, 0.869411667697382, 0.869411667697382, 0.869411667697382, 0.869411667697382, 0.869411667697382, 0.869411667697382, 0.869411667697382, 0.869411667697382, 0.869411667697382, 0.869411667697382, 0.869411667697382, 0.869411667697382, 0.869411667697382, 0.869411667697382, 0.869411667697382, 0.8897873163197083, 0.8897873163197083]}], \"AUC_macro\": [{\"categories\": [\"0\", \"1\", \"2\", \"3\", \"4\", \"5\", \"6\", \"7\", \"8\", \"9\", \"10\", \"11\", \"12\", \"13\", \"14\", \"15\", \"16\", \"17\", \"18\", \"19\", \"20\", \"21\", \"22\", \"23\", \"24\", \"25\", \"26\", \"27\", \"28\", \"29\", \"30\", \"31\", \"32\", \"33\", \"34\", \"35\", \"36\", \"37\", \"38\", \"39\", \"40\", \"41\"], \"mode\": \"markers\", \"name\": \"AUC_macro\", \"stepped\": false, \"type\": \"scatter\", \"data\": [0.906029191277398, 0.9077134150223282, 0.903554228038222, 0.902029009608278, 0.9205877178476713, 0.9070564319408474, 0.7413339062897887, 0.7262627094629426, 0.8980643916103027, 0.8938741659912303, 0.9193120066208303, 0.9029032413963367, 0.8761885325638016, 0.9087985914432292, 0.9036476440077141, 0.8983490979817649, 0.9045260415696212, 0.8745127486693125, 0.9170324741315594, 0.9135865055556591, 0.8760203853714433, 0.9128854028862099, 0.9116253575155117, 0.9086996695019472, 0.8913132220182973, 0.5, 0.9079903979330091, 0.9055478441931097, 0.9019088222872298, 0.8521059744296832, 0.5484230233390475, 0.8933413844196215, 0.8925960629817338, 0.8687429409125069, 0.9100755747420919, 0.9073259827212482, 0.9078432218785519, 0.905867941106598, 0.9149014588651425, 0.9140037086896843, 0.927656924466017, 0.9258587107237574]}, {\"categories\": [\"0\", \"1\", \"2\", \"3\", \"4\", \"5\", \"6\", \"7\", \"8\", \"9\", \"10\", \"11\", \"12\", \"13\", \"14\", \"15\", \"16\", \"17\", \"18\", \"19\", \"20\", \"21\", \"22\", \"23\", \"24\", \"25\", \"26\", \"27\", \"28\", \"29\", \"30\", \"31\", \"32\", \"33\", \"34\", \"35\", \"36\", \"37\", \"38\", \"39\", \"40\", \"41\"], \"mode\": \"lines\", \"name\": \"AUC_macro_max\", \"stepped\": true, \"type\": \"scatter\", \"data\": [0.906029191277398, 0.9077134150223282, 0.9077134150223282, 0.9077134150223282, 0.9205877178476713, 0.9205877178476713, 0.9205877178476713, 0.9205877178476713, 0.9205877178476713, 0.9205877178476713, 0.9205877178476713, 0.9205877178476713, 0.9205877178476713, 0.9205877178476713, 0.9205877178476713, 0.9205877178476713, 0.9205877178476713, 0.9205877178476713, 0.9205877178476713, 0.9205877178476713, 0.9205877178476713, 0.9205877178476713, 0.9205877178476713, 0.9205877178476713, 0.9205877178476713, 0.9205877178476713, 0.9205877178476713, 0.9205877178476713, 0.9205877178476713, 0.9205877178476713, 0.9205877178476713, 0.9205877178476713, 0.9205877178476713, 0.9205877178476713, 0.9205877178476713, 0.9205877178476713, 0.9205877178476713, 0.9205877178476713, 0.9205877178476713, 0.9205877178476713, 0.927656924466017, 0.927656924466017]}], \"average_precision_score_macro\": [{\"categories\": [\"0\", \"1\", \"2\", \"3\", \"4\", \"5\", \"6\", \"7\", \"8\", \"9\", \"10\", \"11\", \"12\", \"13\", \"14\", \"15\", \"16\", \"17\", \"18\", \"19\", \"20\", \"21\", \"22\", \"23\", \"24\", \"25\", \"26\", \"27\", \"28\", \"29\", \"30\", \"31\", \"32\", \"33\", \"34\", \"35\", \"36\", \"37\", \"38\", \"39\", \"40\", \"41\"], \"mode\": \"markers\", \"name\": \"average_precision_score_macro\", \"stepped\": false, \"type\": \"scatter\", \"data\": [0.9005662522115776, 0.9017801535782123, 0.8843998430692498, 0.8856545616310356, 0.9105816794030407, 0.8894020722767341, 0.7239927883879116, 0.7207216593611893, 0.8814800548887, 0.8661989752959329, 0.9064827797857505, 0.8870309972348436, 0.8589846100226891, 0.9013599897748499, 0.8885191057845294, 0.8809244509316472, 0.8778615238703956, 0.854651296335191, 0.9000586772734035, 0.8992018234560151, 0.8594126841491851, 0.8962729013521965, 0.8914648083951546, 0.8946030719988409, 0.8850506345117009, 0.5, 0.8970375041799912, 0.8878685114618416, 0.8865437065995249, 0.8213735813868258, 0.535807797208891, 0.8802418598328501, 0.8802742278011703, 0.8524506418442972, 0.8964040024328647, 0.8926458495881736, 0.8952800421607817, 0.8901333491976751, 0.903278285251943, 0.9013085797569108, 0.9105972709941274, 0.9055720148601866]}, {\"categories\": [\"0\", \"1\", \"2\", \"3\", \"4\", \"5\", \"6\", \"7\", \"8\", \"9\", \"10\", \"11\", \"12\", \"13\", \"14\", \"15\", \"16\", \"17\", \"18\", \"19\", \"20\", \"21\", \"22\", \"23\", \"24\", \"25\", \"26\", \"27\", \"28\", \"29\", \"30\", \"31\", \"32\", \"33\", \"34\", \"35\", \"36\", \"37\", \"38\", \"39\", \"40\", \"41\"], \"mode\": \"lines\", \"name\": \"average_precision_score_macro_max\", \"stepped\": true, \"type\": \"scatter\", \"data\": [0.9005662522115776, 0.9017801535782123, 0.9017801535782123, 0.9017801535782123, 0.9105816794030407, 0.9105816794030407, 0.9105816794030407, 0.9105816794030407, 0.9105816794030407, 0.9105816794030407, 0.9105816794030407, 0.9105816794030407, 0.9105816794030407, 0.9105816794030407, 0.9105816794030407, 0.9105816794030407, 0.9105816794030407, 0.9105816794030407, 0.9105816794030407, 0.9105816794030407, 0.9105816794030407, 0.9105816794030407, 0.9105816794030407, 0.9105816794030407, 0.9105816794030407, 0.9105816794030407, 0.9105816794030407, 0.9105816794030407, 0.9105816794030407, 0.9105816794030407, 0.9105816794030407, 0.9105816794030407, 0.9105816794030407, 0.9105816794030407, 0.9105816794030407, 0.9105816794030407, 0.9105816794030407, 0.9105816794030407, 0.9105816794030407, 0.9105816794030407, 0.9105972709941274, 0.9105972709941274]}], \"f1_score_micro\": [{\"categories\": [\"0\", \"1\", \"2\", \"3\", \"4\", \"5\", \"6\", \"7\", \"8\", \"9\", \"10\", \"11\", \"12\", \"13\", \"14\", \"15\", \"16\", \"17\", \"18\", \"19\", \"20\", \"21\", \"22\", \"23\", \"24\", \"25\", \"26\", \"27\", \"28\", \"29\", \"30\", \"31\", \"32\", \"33\", \"34\", \"35\", \"36\", \"37\", \"38\", \"39\", \"40\", \"41\"], \"mode\": \"markers\", \"name\": \"f1_score_micro\", \"stepped\": false, \"type\": \"scatter\", \"data\": [0.8416233766233766, 0.8524675324675325, 0.8343506493506494, 0.8379220779220781, 0.8490259740259741, 0.8596753246753247, 0.7194155844155844, 0.7301948051948053, 0.8453246753246754, 0.8415584415584416, 0.8524025974025975, 0.8198051948051948, 0.7660389610389611, 0.845064935064935, 0.8236363636363636, 0.8415584415584416, 0.8307792207792207, 0.8381818181818183, 0.8272727272727274, 0.8559740259740259, 0.7481818181818183, 0.8561038961038963, 0.8451298701298702, 0.8632467532467534, 0.8272077922077923, 0.6798051948051947, 0.8561688311688311, 0.8596103896103896, 0.863181818181818, 0.8127922077922077, 0.6798051948051947, 0.8344155844155845, 0.8164935064935065, 0.8198701298701299, 0.856103896103896, 0.8524675324675325, 0.8559740259740259, 0.8524675324675324, 0.8559740259740259, 0.8488311688311688, 0.8849350649350649, 0.8598051948051948]}, {\"categories\": [\"0\", \"1\", \"2\", \"3\", \"4\", \"5\", \"6\", \"7\", \"8\", \"9\", \"10\", \"11\", \"12\", \"13\", \"14\", \"15\", \"16\", \"17\", \"18\", \"19\", \"20\", \"21\", \"22\", \"23\", \"24\", \"25\", \"26\", \"27\", \"28\", \"29\", \"30\", \"31\", \"32\", \"33\", \"34\", \"35\", \"36\", \"37\", \"38\", \"39\", \"40\", \"41\"], \"mode\": \"lines\", \"name\": \"f1_score_micro_max\", \"stepped\": true, \"type\": \"scatter\", \"data\": [0.8416233766233766, 0.8524675324675325, 0.8524675324675325, 0.8524675324675325, 0.8524675324675325, 0.8596753246753247, 0.8596753246753247, 0.8596753246753247, 0.8596753246753247, 0.8596753246753247, 0.8596753246753247, 0.8596753246753247, 0.8596753246753247, 0.8596753246753247, 0.8596753246753247, 0.8596753246753247, 0.8596753246753247, 0.8596753246753247, 0.8596753246753247, 0.8596753246753247, 0.8596753246753247, 0.8596753246753247, 0.8596753246753247, 0.8632467532467534, 0.8632467532467534, 0.8632467532467534, 0.8632467532467534, 0.8632467532467534, 0.8632467532467534, 0.8632467532467534, 0.8632467532467534, 0.8632467532467534, 0.8632467532467534, 0.8632467532467534, 0.8632467532467534, 0.8632467532467534, 0.8632467532467534, 0.8632467532467534, 0.8632467532467534, 0.8632467532467534, 0.8849350649350649, 0.8849350649350649]}], \"AUC_weighted\": [{\"categories\": [\"0\", \"1\", \"2\", \"3\", \"4\", \"5\", \"6\", \"7\", \"8\", \"9\", \"10\", \"11\", \"12\", \"13\", \"14\", \"15\", \"16\", \"17\", \"18\", \"19\", \"20\", \"21\", \"22\", \"23\", \"24\", \"25\", \"26\", \"27\", \"28\", \"29\", \"30\", \"31\", \"32\", \"33\", \"34\", \"35\", \"36\", \"37\", \"38\", \"39\", \"40\", \"41\"], \"mode\": \"markers\", \"name\": \"AUC_weighted\", \"stepped\": false, \"type\": \"scatter\", \"data\": [0.9060291912773979, 0.9077134150223282, 0.903554228038222, 0.902029009608278, 0.9205877178476713, 0.9070564319408474, 0.7413339062897886, 0.7262627094629426, 0.8980643916103027, 0.8938741659912302, 0.9193120066208303, 0.9029032413963367, 0.8761885325638016, 0.9087985914432293, 0.9036476440077139, 0.8983490979817648, 0.904526041569621, 0.8745127486693125, 0.9170324741315594, 0.9135865055556591, 0.8760203853714433, 0.9128854028862099, 0.9116253575155119, 0.9086996695019472, 0.8913132220182973, 0.5, 0.9079903979330091, 0.9055478441931097, 0.9019088222872298, 0.8521059744296832, 0.5484230233390475, 0.8933413844196215, 0.8925960629817338, 0.8687429409125069, 0.9100755747420921, 0.9073259827212482, 0.9078432218785519, 0.905867941106598, 0.9149014588651425, 0.9140037086896843, 0.927656924466017, 0.9258587107237574]}, {\"categories\": [\"0\", \"1\", \"2\", \"3\", \"4\", \"5\", \"6\", \"7\", \"8\", \"9\", \"10\", \"11\", \"12\", \"13\", \"14\", \"15\", \"16\", \"17\", \"18\", \"19\", \"20\", \"21\", \"22\", \"23\", \"24\", \"25\", \"26\", \"27\", \"28\", \"29\", \"30\", \"31\", \"32\", \"33\", \"34\", \"35\", \"36\", \"37\", \"38\", \"39\", \"40\", \"41\"], \"mode\": \"lines\", \"name\": \"AUC_weighted_max\", \"stepped\": true, \"type\": \"scatter\", \"data\": [0.9060291912773979, 0.9077134150223282, 0.9077134150223282, 0.9077134150223282, 0.9205877178476713, 0.9205877178476713, 0.9205877178476713, 0.9205877178476713, 0.9205877178476713, 0.9205877178476713, 0.9205877178476713, 0.9205877178476713, 0.9205877178476713, 0.9205877178476713, 0.9205877178476713, 0.9205877178476713, 0.9205877178476713, 0.9205877178476713, 0.9205877178476713, 0.9205877178476713, 0.9205877178476713, 0.9205877178476713, 0.9205877178476713, 0.9205877178476713, 0.9205877178476713, 0.9205877178476713, 0.9205877178476713, 0.9205877178476713, 0.9205877178476713, 0.9205877178476713, 0.9205877178476713, 0.9205877178476713, 0.9205877178476713, 0.9205877178476713, 0.9205877178476713, 0.9205877178476713, 0.9205877178476713, 0.9205877178476713, 0.9205877178476713, 0.9205877178476713, 0.927656924466017, 0.927656924466017]}], \"average_precision_score_weighted\": [{\"categories\": [\"0\", \"1\", \"2\", \"3\", \"4\", \"5\", \"6\", \"7\", \"8\", \"9\", \"10\", \"11\", \"12\", \"13\", \"14\", \"15\", \"16\", \"17\", \"18\", \"19\", \"20\", \"21\", \"22\", \"23\", \"24\", \"25\", \"26\", \"27\", \"28\", \"29\", \"30\", \"31\", \"32\", \"33\", \"34\", \"35\", \"36\", \"37\", \"38\", \"39\", \"40\", \"41\"], \"mode\": \"markers\", \"name\": \"average_precision_score_weighted\", \"stepped\": false, \"type\": \"scatter\", \"data\": [0.9181138045555015, 0.9194290647558816, 0.9114361865782113, 0.910726544690841, 0.9298598161779422, 0.9152175702598615, 0.7761022117177876, 0.7713846519776323, 0.9049593430641973, 0.8969936231768729, 0.9263924310007754, 0.9118453021818494, 0.8894807774447976, 0.9210169554998215, 0.9134398347743116, 0.9070521751604719, 0.9063974825781067, 0.8801937228009338, 0.9226066261650547, 0.9217459742514624, 0.8880985810676737, 0.9195707014895158, 0.9161896883219475, 0.9169884998760096, 0.9072112659431181, 0.5707632400067465, 0.9181302591792251, 0.9123178877880351, 0.9112060065589725, 0.8566609441626453, 0.6042436457700513, 0.9041289351331938, 0.9044797344062465, 0.8814290429774431, 0.9182270281770734, 0.9161476205808047, 0.9180454053971439, 0.9142496684448004, 0.923144133665517, 0.9225074588447546, 0.9307450031166431, 0.928091935453575]}, {\"categories\": [\"0\", \"1\", \"2\", \"3\", \"4\", \"5\", \"6\", \"7\", \"8\", \"9\", \"10\", \"11\", \"12\", \"13\", \"14\", \"15\", \"16\", \"17\", \"18\", \"19\", \"20\", \"21\", \"22\", \"23\", \"24\", \"25\", \"26\", \"27\", \"28\", \"29\", \"30\", \"31\", \"32\", \"33\", \"34\", \"35\", \"36\", \"37\", \"38\", \"39\", \"40\", \"41\"], \"mode\": \"lines\", \"name\": \"average_precision_score_weighted_max\", \"stepped\": true, \"type\": \"scatter\", \"data\": [0.9181138045555015, 0.9194290647558816, 0.9194290647558816, 0.9194290647558816, 0.9298598161779422, 0.9298598161779422, 0.9298598161779422, 0.9298598161779422, 0.9298598161779422, 0.9298598161779422, 0.9298598161779422, 0.9298598161779422, 0.9298598161779422, 0.9298598161779422, 0.9298598161779422, 0.9298598161779422, 0.9298598161779422, 0.9298598161779422, 0.9298598161779422, 0.9298598161779422, 0.9298598161779422, 0.9298598161779422, 0.9298598161779422, 0.9298598161779422, 0.9298598161779422, 0.9298598161779422, 0.9298598161779422, 0.9298598161779422, 0.9298598161779422, 0.9298598161779422, 0.9298598161779422, 0.9298598161779422, 0.9298598161779422, 0.9298598161779422, 0.9298598161779422, 0.9298598161779422, 0.9298598161779422, 0.9298598161779422, 0.9298598161779422, 0.9298598161779422, 0.9307450031166431, 0.9307450031166431]}], \"f1_score_weighted\": [{\"categories\": [\"0\", \"1\", \"2\", \"3\", \"4\", \"5\", \"6\", \"7\", \"8\", \"9\", \"10\", \"11\", \"12\", \"13\", \"14\", \"15\", \"16\", \"17\", \"18\", \"19\", \"20\", \"21\", \"22\", \"23\", \"24\", \"25\", \"26\", \"27\", \"28\", \"29\", \"30\", \"31\", \"32\", \"33\", \"34\", \"35\", \"36\", \"37\", \"38\", \"39\", \"40\", \"41\"], \"mode\": \"markers\", \"name\": \"f1_score_weighted\", \"stepped\": false, \"type\": \"scatter\", \"data\": [0.8395921391876687, 0.8501808683575908, 0.8310249178478701, 0.831333951130644, 0.8488559219693089, 0.8568943943718998, 0.6953562028561975, 0.7061901618068325, 0.8419293576180513, 0.8369178058249573, 0.8496663734174428, 0.803938801718572, 0.7326708314589478, 0.8353741641642427, 0.8099814842115121, 0.8369802717105934, 0.8265304131494899, 0.8350300426304498, 0.8206807822391529, 0.8540132961626332, 0.7107298211598895, 0.8534634074129872, 0.8394853383398921, 0.8612556598704222, 0.8244641630202196, 0.5515304054885343, 0.8542116234743391, 0.8571536812793864, 0.8609981138228816, 0.7985312049632157, 0.5515304054885343, 0.8305287323936057, 0.8194079912174373, 0.8162893911409173, 0.8543483412361101, 0.8511086770573849, 0.852490641030647, 0.8487513426336954, 0.8525668545261953, 0.8389326898657486, 0.8832141743655857, 0.8573358163971724]}, {\"categories\": [\"0\", \"1\", \"2\", \"3\", \"4\", \"5\", \"6\", \"7\", \"8\", \"9\", \"10\", \"11\", \"12\", \"13\", \"14\", \"15\", \"16\", \"17\", \"18\", \"19\", \"20\", \"21\", \"22\", \"23\", \"24\", \"25\", \"26\", \"27\", \"28\", \"29\", \"30\", \"31\", \"32\", \"33\", \"34\", \"35\", \"36\", \"37\", \"38\", \"39\", \"40\", \"41\"], \"mode\": \"lines\", \"name\": \"f1_score_weighted_max\", \"stepped\": true, \"type\": \"scatter\", \"data\": [0.8395921391876687, 0.8501808683575908, 0.8501808683575908, 0.8501808683575908, 0.8501808683575908, 0.8568943943718998, 0.8568943943718998, 0.8568943943718998, 0.8568943943718998, 0.8568943943718998, 0.8568943943718998, 0.8568943943718998, 0.8568943943718998, 0.8568943943718998, 0.8568943943718998, 0.8568943943718998, 0.8568943943718998, 0.8568943943718998, 0.8568943943718998, 0.8568943943718998, 0.8568943943718998, 0.8568943943718998, 0.8568943943718998, 0.8612556598704222, 0.8612556598704222, 0.8612556598704222, 0.8612556598704222, 0.8612556598704222, 0.8612556598704222, 0.8612556598704222, 0.8612556598704222, 0.8612556598704222, 0.8612556598704222, 0.8612556598704222, 0.8612556598704222, 0.8612556598704222, 0.8612556598704222, 0.8612556598704222, 0.8612556598704222, 0.8612556598704222, 0.8832141743655857, 0.8832141743655857]}], \"accuracy\": [{\"categories\": [\"0\", \"1\", \"2\", \"3\", \"4\", \"5\", \"6\", \"7\", \"8\", \"9\", \"10\", \"11\", \"12\", \"13\", \"14\", \"15\", \"16\", \"17\", \"18\", \"19\", \"20\", \"21\", \"22\", \"23\", \"24\", \"25\", \"26\", \"27\", \"28\", \"29\", \"30\", \"31\", \"32\", \"33\", \"34\", \"35\", \"36\", \"37\", \"38\", \"39\", \"40\", \"41\"], \"mode\": \"markers\", \"name\": \"accuracy\", \"stepped\": false, \"type\": \"scatter\", \"data\": [0.8416233766233766, 0.8524675324675325, 0.8343506493506494, 0.8379220779220781, 0.8490259740259741, 0.8596753246753247, 0.7194155844155844, 0.7301948051948053, 0.8453246753246754, 0.8415584415584416, 0.8524025974025975, 0.8198051948051948, 0.7660389610389611, 0.845064935064935, 0.8236363636363636, 0.8415584415584416, 0.8307792207792207, 0.8381818181818183, 0.8272727272727274, 0.8559740259740259, 0.7481818181818182, 0.8561038961038963, 0.8451298701298702, 0.8632467532467534, 0.8272077922077923, 0.6798051948051947, 0.8561688311688311, 0.8596103896103896, 0.863181818181818, 0.8127922077922077, 0.6798051948051947, 0.8344155844155843, 0.8164935064935065, 0.8198701298701299, 0.856103896103896, 0.8524675324675325, 0.8559740259740259, 0.8524675324675324, 0.8559740259740259, 0.8488311688311688, 0.8849350649350649, 0.8598051948051948]}, {\"categories\": [\"0\", \"1\", \"2\", \"3\", \"4\", \"5\", \"6\", \"7\", \"8\", \"9\", \"10\", \"11\", \"12\", \"13\", \"14\", \"15\", \"16\", \"17\", \"18\", \"19\", \"20\", \"21\", \"22\", \"23\", \"24\", \"25\", \"26\", \"27\", \"28\", \"29\", \"30\", \"31\", \"32\", \"33\", \"34\", \"35\", \"36\", \"37\", \"38\", \"39\", \"40\", \"41\"], \"mode\": \"lines\", \"name\": \"accuracy_max\", \"stepped\": true, \"type\": \"scatter\", \"data\": [0.8416233766233766, 0.8524675324675325, 0.8524675324675325, 0.8524675324675325, 0.8524675324675325, 0.8596753246753247, 0.8596753246753247, 0.8596753246753247, 0.8596753246753247, 0.8596753246753247, 0.8596753246753247, 0.8596753246753247, 0.8596753246753247, 0.8596753246753247, 0.8596753246753247, 0.8596753246753247, 0.8596753246753247, 0.8596753246753247, 0.8596753246753247, 0.8596753246753247, 0.8596753246753247, 0.8596753246753247, 0.8596753246753247, 0.8632467532467534, 0.8632467532467534, 0.8632467532467534, 0.8632467532467534, 0.8632467532467534, 0.8632467532467534, 0.8632467532467534, 0.8632467532467534, 0.8632467532467534, 0.8632467532467534, 0.8632467532467534, 0.8632467532467534, 0.8632467532467534, 0.8632467532467534, 0.8632467532467534, 0.8632467532467534, 0.8632467532467534, 0.8849350649350649, 0.8849350649350649]}], \"AUC_micro\": [{\"categories\": [\"0\", \"1\", \"2\", \"3\", \"4\", \"5\", \"6\", \"7\", \"8\", \"9\", \"10\", \"11\", \"12\", \"13\", \"14\", \"15\", \"16\", \"17\", \"18\", \"19\", \"20\", \"21\", \"22\", \"23\", \"24\", \"25\", \"26\", \"27\", \"28\", \"29\", \"30\", \"31\", \"32\", \"33\", \"34\", \"35\", \"36\", \"37\", \"38\", \"39\", \"40\", \"41\"], \"mode\": \"markers\", \"name\": \"AUC_micro\", \"stepped\": false, \"type\": \"scatter\", \"data\": [0.9188296719514252, 0.9192573789846517, 0.9147977736549164, 0.9109022179119582, 0.9285832138640581, 0.9242423891044022, 0.7981733112666555, 0.7906709183673468, 0.9180286726260751, 0.9098999198853093, 0.9247057893405296, 0.8976328428065441, 0.8672365280823072, 0.9106670180468882, 0.8949987350312026, 0.9145262902681732, 0.915558399392815, 0.9015207665710913, 0.9174488530949569, 0.9236204250295159, 0.8689607859672794, 0.9224818266149434, 0.917197841119919, 0.9191719514251983, 0.9051665331421825, 0.6798051948051949, 0.9221038750210827, 0.9165355034575814, 0.9139172077922078, 0.8851199822904368, 0.7019861907572946, 0.9117377298026648, 0.8969617136110642, 0.8856009445100353, 0.9200408163265307, 0.9182135688986339, 0.9167584331253164, 0.9180286726260751, 0.922431523022432, 0.9113603474447631, 0.9324588885140832, 0.9298300514420644]}, {\"categories\": [\"0\", \"1\", \"2\", \"3\", \"4\", \"5\", \"6\", \"7\", \"8\", \"9\", \"10\", \"11\", \"12\", \"13\", \"14\", \"15\", \"16\", \"17\", \"18\", \"19\", \"20\", \"21\", \"22\", \"23\", \"24\", \"25\", \"26\", \"27\", \"28\", \"29\", \"30\", \"31\", \"32\", \"33\", \"34\", \"35\", \"36\", \"37\", \"38\", \"39\", \"40\", \"41\"], \"mode\": \"lines\", \"name\": \"AUC_micro_max\", \"stepped\": true, \"type\": \"scatter\", \"data\": [0.9188296719514252, 0.9192573789846517, 0.9192573789846517, 0.9192573789846517, 0.9285832138640581, 0.9285832138640581, 0.9285832138640581, 0.9285832138640581, 0.9285832138640581, 0.9285832138640581, 0.9285832138640581, 0.9285832138640581, 0.9285832138640581, 0.9285832138640581, 0.9285832138640581, 0.9285832138640581, 0.9285832138640581, 0.9285832138640581, 0.9285832138640581, 0.9285832138640581, 0.9285832138640581, 0.9285832138640581, 0.9285832138640581, 0.9285832138640581, 0.9285832138640581, 0.9285832138640581, 0.9285832138640581, 0.9285832138640581, 0.9285832138640581, 0.9285832138640581, 0.9285832138640581, 0.9285832138640581, 0.9285832138640581, 0.9285832138640581, 0.9285832138640581, 0.9285832138640581, 0.9285832138640581, 0.9285832138640581, 0.9285832138640581, 0.9285832138640581, 0.9324588885140832, 0.9324588885140832]}]}, \"metricName\": null, \"primaryMetricName\": \"accuracy\", \"showLegend\": false}, \"run_metrics\": [{\"name\": \"experiment_status\", \"run_id\": \"AutoML_1ac39d64-bc53-42d1-9deb-b1258b311536\", \"categories\": [0, 1, 2, 3, 4, 5, 6, 7, 8, 9, 10, 11, 12, 13], \"series\": [{\"data\": [\"DatasetEvaluation\", \"FeaturesGeneration\", \"DatasetFeaturization\", \"DatasetFeaturizationCompleted\", \"DatasetCrossValidationSplit\", \"ModelSelection\", \"BestRunExplainModel\", \"ModelExplanationDataSetSetup\", \"PickSurrogateModel\", \"EngineeredFeatureExplanations\", \"EngineeredFeatureExplanations\", \"RawFeaturesExplanations\", \"RawFeaturesExplanations\", \"BestRunExplainModel\"]}]}, {\"name\": \"experiment_status_description\", \"run_id\": \"AutoML_1ac39d64-bc53-42d1-9deb-b1258b311536\", \"categories\": [0, 1, 2, 3, 4, 5, 6, 7, 8, 9, 10, 11, 12, 13], \"series\": [{\"data\": [\"Gathering dataset statistics.\", \"Generating features for the dataset.\", \"Beginning to fit featurizers and featurize the dataset.\", \"Completed fit featurizers and featurizing the dataset.\", \"Generating individually featurized CV splits.\", \"Beginning model selection.\", \"Best run model explanations started\", \"Model explanations data setup completed\", \"Choosing LightGBM as the surrogate model for explanations\", \"Computation of engineered features started\", \"Computation of engineered features completed\", \"Computation of raw features started\", \"Computation of raw features completed\", \"Best run model explanations completed\"]}]}, {\"name\": \"matthews_correlation\", \"run_id\": \"AutoML_1ac39d64-bc53-42d1-9deb-b1258b311536\", \"categories\": [0], \"series\": [{\"data\": [0.7376842089599478]}]}, {\"name\": \"recall_score_micro\", \"run_id\": \"AutoML_1ac39d64-bc53-42d1-9deb-b1258b311536\", \"categories\": [0], \"series\": [{\"data\": [0.8849350649350649]}]}, {\"name\": \"f1_score_weighted\", \"run_id\": \"AutoML_1ac39d64-bc53-42d1-9deb-b1258b311536\", \"categories\": [0], \"series\": [{\"data\": [0.8832141743655857]}]}, {\"name\": \"weighted_accuracy\", \"run_id\": \"AutoML_1ac39d64-bc53-42d1-9deb-b1258b311536\", \"categories\": [0], \"series\": [{\"data\": [0.9051295521491598]}]}, {\"name\": \"average_precision_score_micro\", \"run_id\": \"AutoML_1ac39d64-bc53-42d1-9deb-b1258b311536\", \"categories\": [0], \"series\": [{\"data\": [0.9346098664283717]}]}, {\"name\": \"norm_macro_recall\", \"run_id\": \"AutoML_1ac39d64-bc53-42d1-9deb-b1258b311536\", \"categories\": [0], \"series\": [{\"data\": [0.7139461172495606]}]}, {\"name\": \"precision_score_macro\", \"run_id\": \"AutoML_1ac39d64-bc53-42d1-9deb-b1258b311536\", \"categories\": [0], \"series\": [{\"data\": [0.8821943721653025]}]}, {\"name\": \"precision_score_weighted\", \"run_id\": \"AutoML_1ac39d64-bc53-42d1-9deb-b1258b311536\", \"categories\": [0], \"series\": [{\"data\": [0.8897873163197083]}]}, {\"name\": \"AUC_weighted\", \"run_id\": \"AutoML_1ac39d64-bc53-42d1-9deb-b1258b311536\", \"categories\": [0], \"series\": [{\"data\": [0.927656924466017]}]}, {\"name\": \"average_precision_score_macro\", \"run_id\": \"AutoML_1ac39d64-bc53-42d1-9deb-b1258b311536\", \"categories\": [0], \"series\": [{\"data\": [0.9105972709941274]}]}, {\"name\": \"balanced_accuracy\", \"run_id\": \"AutoML_1ac39d64-bc53-42d1-9deb-b1258b311536\", \"categories\": [0], \"series\": [{\"data\": [0.8569730586247802]}]}, {\"name\": \"recall_score_weighted\", \"run_id\": \"AutoML_1ac39d64-bc53-42d1-9deb-b1258b311536\", \"categories\": [0], \"series\": [{\"data\": [0.8849350649350649]}]}, {\"name\": \"log_loss\", \"run_id\": \"AutoML_1ac39d64-bc53-42d1-9deb-b1258b311536\", \"categories\": [0], \"series\": [{\"data\": [0.36179311818446874]}]}, {\"name\": \"AUC_micro\", \"run_id\": \"AutoML_1ac39d64-bc53-42d1-9deb-b1258b311536\", \"categories\": [0], \"series\": [{\"data\": [0.9324588885140832]}]}, {\"name\": \"f1_score_micro\", \"run_id\": \"AutoML_1ac39d64-bc53-42d1-9deb-b1258b311536\", \"categories\": [0], \"series\": [{\"data\": [0.8849350649350649]}]}, {\"name\": \"AUC_macro\", \"run_id\": \"AutoML_1ac39d64-bc53-42d1-9deb-b1258b311536\", \"categories\": [0], \"series\": [{\"data\": [0.927656924466017]}]}, {\"name\": \"recall_score_macro\", \"run_id\": \"AutoML_1ac39d64-bc53-42d1-9deb-b1258b311536\", \"categories\": [0], \"series\": [{\"data\": [0.8569730586247802]}]}, {\"name\": \"f1_score_macro\", \"run_id\": \"AutoML_1ac39d64-bc53-42d1-9deb-b1258b311536\", \"categories\": [0], \"series\": [{\"data\": [0.864013439293654]}]}, {\"name\": \"accuracy\", \"run_id\": \"AutoML_1ac39d64-bc53-42d1-9deb-b1258b311536\", \"categories\": [0], \"series\": [{\"data\": [0.8849350649350649]}]}, {\"name\": \"average_precision_score_weighted\", \"run_id\": \"AutoML_1ac39d64-bc53-42d1-9deb-b1258b311536\", \"categories\": [0], \"series\": [{\"data\": [0.9307450031166431]}]}, {\"name\": \"precision_score_micro\", \"run_id\": \"AutoML_1ac39d64-bc53-42d1-9deb-b1258b311536\", \"categories\": [0], \"series\": [{\"data\": [0.8849350649350649]}]}], \"run_logs\": \"\\nRun is completed.\", \"graph\": {}, \"widget_settings\": {\"childWidgetDisplay\": \"popup\", \"send_telemetry\": false, \"log_level\": \"INFO\", \"sdk_version\": \"1.19.0\"}, \"loading\": false}"
     },
     "metadata": {},
     "output_type": "display_data"
    }
   ],
   "source": [
    "RunDetails(remote_run).show()"
   ]
  },
  {
   "cell_type": "code",
   "execution_count": 20,
   "metadata": {
    "gather": {
     "logged": 1609057322041
    }
   },
   "outputs": [
    {
     "data": {
      "text/plain": [
       "{'runId': 'AutoML_d9ffa425-70a0-4a9e-b986-277279d98158',\n",
       " 'target': 'cpu-cluster',\n",
       " 'status': 'Completed',\n",
       " 'startTimeUtc': '2021-02-12T14:31:40.465355Z',\n",
       " 'endTimeUtc': '2021-02-12T14:54:41.913424Z',\n",
       " 'properties': {'num_iterations': '1000',\n",
       "  'training_type': 'TrainFull',\n",
       "  'acquisition_function': 'EI',\n",
       "  'primary_metric': 'accuracy',\n",
       "  'train_split': '0',\n",
       "  'acquisition_parameter': '0',\n",
       "  'num_cross_validation': '5',\n",
       "  'target': 'cpu-cluster',\n",
       "  'AMLSettingsJsonString': '{\"path\":null,\"name\":\"automl-experiment\",\"subscription_id\":\"9a7511b8-150f-4a58-8528-3e7d50216c31\",\"resource_group\":\"aml-quickstarts-138690\",\"workspace_name\":\"quick-starts-ws-138690\",\"region\":\"southcentralus\",\"compute_target\":\"cpu-cluster\",\"spark_service\":null,\"azure_service\":\"remote\",\"many_models\":false,\"pipeline_fetch_max_batch_size\":1,\"iterations\":1000,\"primary_metric\":\"accuracy\",\"task_type\":\"classification\",\"data_script\":null,\"validation_size\":0.0,\"n_cross_validations\":5,\"y_min\":null,\"y_max\":null,\"num_classes\":null,\"featurization\":\"auto\",\"_ignore_package_version_incompatibilities\":false,\"is_timeseries\":false,\"max_cores_per_iteration\":1,\"max_concurrent_iterations\":4,\"iteration_timeout_minutes\":null,\"mem_in_mb\":null,\"enforce_time_on_windows\":false,\"experiment_timeout_minutes\":30,\"experiment_exit_score\":null,\"whitelist_models\":null,\"blacklist_algos\":[\"TensorFlowLinearClassifier\",\"TensorFlowDNN\"],\"supported_models\":[\"DecisionTree\",\"BernoulliNaiveBayes\",\"ExtremeRandomTrees\",\"GradientBoosting\",\"XGBoostClassifier\",\"LogisticRegression\",\"MultinomialNaiveBayes\",\"RandomForest\",\"KNN\",\"LightGBM\",\"TensorFlowLinearClassifier\",\"SGD\",\"SVM\",\"AveragedPerceptronClassifier\",\"LinearSVM\",\"TensorFlowDNN\"],\"auto_blacklist\":true,\"blacklist_samples_reached\":false,\"exclude_nan_labels\":true,\"verbosity\":20,\"_debug_log\":\"azureml_automl.log\",\"show_warnings\":false,\"model_explainability\":true,\"service_url\":null,\"sdk_url\":null,\"sdk_packages\":null,\"enable_onnx_compatible_models\":false,\"enable_split_onnx_featurizer_estimator_models\":false,\"vm_type\":\"STANDARD_D12_V2\",\"telemetry_verbosity\":20,\"send_telemetry\":true,\"enable_dnn\":false,\"scenario\":\"SDK-1.13.0\",\"environment_label\":null,\"force_text_dnn\":false,\"enable_feature_sweeping\":true,\"enable_early_stopping\":true,\"early_stopping_n_iters\":10,\"metrics\":null,\"enable_ensembling\":true,\"enable_stack_ensembling\":true,\"ensemble_iterations\":15,\"enable_tf\":false,\"enable_subsampling\":null,\"subsample_seed\":null,\"enable_nimbusml\":false,\"enable_streaming\":false,\"force_streaming\":false,\"track_child_runs\":true,\"allowed_private_models\":[],\"label_column_name\":\"DEATH_EVENT\",\"weight_column_name\":null,\"cv_split_column_names\":null,\"enable_local_managed\":false,\"_local_managed_run_id\":null,\"cost_mode\":1,\"lag_length\":0,\"metric_operation\":\"maximize\",\"preprocess\":true}',\n",
       "  'DataPrepJsonString': '{\\\\\"training_data\\\\\": \\\\\"{\\\\\\\\\\\\\"blocks\\\\\\\\\\\\\": [{\\\\\\\\\\\\\"id\\\\\\\\\\\\\": \\\\\\\\\\\\\"e997916d-7013-40e1-9bbf-c492cf5c0164\\\\\\\\\\\\\", \\\\\\\\\\\\\"type\\\\\\\\\\\\\": \\\\\\\\\\\\\"Microsoft.DPrep.GetDatastoreFilesBlock\\\\\\\\\\\\\", \\\\\\\\\\\\\"arguments\\\\\\\\\\\\\": {\\\\\\\\\\\\\"datastores\\\\\\\\\\\\\": [{\\\\\\\\\\\\\"datastoreName\\\\\\\\\\\\\": \\\\\\\\\\\\\"workspaceblobstore\\\\\\\\\\\\\", \\\\\\\\\\\\\"path\\\\\\\\\\\\\": \\\\\\\\\\\\\"UI/02-12-2021_015353_UTC/heart-disease-kaggle.csv\\\\\\\\\\\\\", \\\\\\\\\\\\\"resourceGroup\\\\\\\\\\\\\": \\\\\\\\\\\\\"aml-quickstarts-138690\\\\\\\\\\\\\", \\\\\\\\\\\\\"subscription\\\\\\\\\\\\\": \\\\\\\\\\\\\"9a7511b8-150f-4a58-8528-3e7d50216c31\\\\\\\\\\\\\", \\\\\\\\\\\\\"workspaceName\\\\\\\\\\\\\": \\\\\\\\\\\\\"quick-starts-ws-138690\\\\\\\\\\\\\"}]}, \\\\\\\\\\\\\"localData\\\\\\\\\\\\\": {}, \\\\\\\\\\\\\"isEnabled\\\\\\\\\\\\\": true, \\\\\\\\\\\\\"name\\\\\\\\\\\\\": null, \\\\\\\\\\\\\"annotation\\\\\\\\\\\\\": null}, {\\\\\\\\\\\\\"id\\\\\\\\\\\\\": \\\\\\\\\\\\\"334d0ea0-917c-488a-ba6a-9581f778c2cb\\\\\\\\\\\\\", \\\\\\\\\\\\\"type\\\\\\\\\\\\\": \\\\\\\\\\\\\"Microsoft.DPrep.ParseDelimitedBlock\\\\\\\\\\\\\", \\\\\\\\\\\\\"arguments\\\\\\\\\\\\\": {\\\\\\\\\\\\\"columnHeadersMode\\\\\\\\\\\\\": 3, \\\\\\\\\\\\\"fileEncoding\\\\\\\\\\\\\": 0, \\\\\\\\\\\\\"handleQuotedLineBreaks\\\\\\\\\\\\\": false, \\\\\\\\\\\\\"preview\\\\\\\\\\\\\": false, \\\\\\\\\\\\\"separator\\\\\\\\\\\\\": \\\\\\\\\\\\\",\\\\\\\\\\\\\", \\\\\\\\\\\\\"skipRows\\\\\\\\\\\\\": 0, \\\\\\\\\\\\\"skipRowsMode\\\\\\\\\\\\\": 0}, \\\\\\\\\\\\\"localData\\\\\\\\\\\\\": {}, \\\\\\\\\\\\\"isEnabled\\\\\\\\\\\\\": true, \\\\\\\\\\\\\"name\\\\\\\\\\\\\": null, \\\\\\\\\\\\\"annotation\\\\\\\\\\\\\": null}, {\\\\\\\\\\\\\"id\\\\\\\\\\\\\": \\\\\\\\\\\\\"3e2d2c9e-bc8e-4ac5-938e-a538565d6a3f\\\\\\\\\\\\\", \\\\\\\\\\\\\"type\\\\\\\\\\\\\": \\\\\\\\\\\\\"Microsoft.DPrep.DropColumnsBlock\\\\\\\\\\\\\", \\\\\\\\\\\\\"arguments\\\\\\\\\\\\\": {\\\\\\\\\\\\\"columns\\\\\\\\\\\\\": {\\\\\\\\\\\\\"type\\\\\\\\\\\\\": 0, \\\\\\\\\\\\\"details\\\\\\\\\\\\\": {\\\\\\\\\\\\\"selectedColumns\\\\\\\\\\\\\": [\\\\\\\\\\\\\"Path\\\\\\\\\\\\\"]}}}, \\\\\\\\\\\\\"localData\\\\\\\\\\\\\": {}, \\\\\\\\\\\\\"isEnabled\\\\\\\\\\\\\": true, \\\\\\\\\\\\\"name\\\\\\\\\\\\\": null, \\\\\\\\\\\\\"annotation\\\\\\\\\\\\\": null}, {\\\\\\\\\\\\\"id\\\\\\\\\\\\\": \\\\\\\\\\\\\"1068078a-e743-4f68-a4bb-abedf5d7e6f7\\\\\\\\\\\\\", \\\\\\\\\\\\\"type\\\\\\\\\\\\\": \\\\\\\\\\\\\"Microsoft.DPrep.SetColumnTypesBlock\\\\\\\\\\\\\", \\\\\\\\\\\\\"arguments\\\\\\\\\\\\\": {\\\\\\\\\\\\\"columnConversion\\\\\\\\\\\\\": [{\\\\\\\\\\\\\"column\\\\\\\\\\\\\": {\\\\\\\\\\\\\"type\\\\\\\\\\\\\": 2, \\\\\\\\\\\\\"details\\\\\\\\\\\\\": {\\\\\\\\\\\\\"selectedColumn\\\\\\\\\\\\\": \\\\\\\\\\\\\"Path\\\\\\\\\\\\\"}}, \\\\\\\\\\\\\"typeProperty\\\\\\\\\\\\\": 0}, {\\\\\\\\\\\\\"column\\\\\\\\\\\\\": {\\\\\\\\\\\\\"type\\\\\\\\\\\\\": 2, \\\\\\\\\\\\\"details\\\\\\\\\\\\\": {\\\\\\\\\\\\\"selectedColumn\\\\\\\\\\\\\": \\\\\\\\\\\\\"age\\\\\\\\\\\\\"}}, \\\\\\\\\\\\\"typeProperty\\\\\\\\\\\\\": 3}, {\\\\\\\\\\\\\"column\\\\\\\\\\\\\": {\\\\\\\\\\\\\"type\\\\\\\\\\\\\": 2, \\\\\\\\\\\\\"details\\\\\\\\\\\\\": {\\\\\\\\\\\\\"selectedColumn\\\\\\\\\\\\\": \\\\\\\\\\\\\"anaemia\\\\\\\\\\\\\"}}, \\\\\\\\\\\\\"typeProperty\\\\\\\\\\\\\": 2}, {\\\\\\\\\\\\\"column\\\\\\\\\\\\\": {\\\\\\\\\\\\\"type\\\\\\\\\\\\\": 2, \\\\\\\\\\\\\"details\\\\\\\\\\\\\": {\\\\\\\\\\\\\"selectedColumn\\\\\\\\\\\\\": \\\\\\\\\\\\\"creatinine_phosphokinase\\\\\\\\\\\\\"}}, \\\\\\\\\\\\\"typeProperty\\\\\\\\\\\\\": 2}, {\\\\\\\\\\\\\"column\\\\\\\\\\\\\": {\\\\\\\\\\\\\"type\\\\\\\\\\\\\": 2, \\\\\\\\\\\\\"details\\\\\\\\\\\\\": {\\\\\\\\\\\\\"selectedColumn\\\\\\\\\\\\\": \\\\\\\\\\\\\"diabetes\\\\\\\\\\\\\"}}, \\\\\\\\\\\\\"typeProperty\\\\\\\\\\\\\": 2}, {\\\\\\\\\\\\\"column\\\\\\\\\\\\\": {\\\\\\\\\\\\\"type\\\\\\\\\\\\\": 2, \\\\\\\\\\\\\"details\\\\\\\\\\\\\": {\\\\\\\\\\\\\"selectedColumn\\\\\\\\\\\\\": \\\\\\\\\\\\\"ejection_fraction\\\\\\\\\\\\\"}}, \\\\\\\\\\\\\"typeProperty\\\\\\\\\\\\\": 2}, {\\\\\\\\\\\\\"column\\\\\\\\\\\\\": {\\\\\\\\\\\\\"type\\\\\\\\\\\\\": 2, \\\\\\\\\\\\\"details\\\\\\\\\\\\\": {\\\\\\\\\\\\\"selectedColumn\\\\\\\\\\\\\": \\\\\\\\\\\\\"high_blood_pressure\\\\\\\\\\\\\"}}, \\\\\\\\\\\\\"typeProperty\\\\\\\\\\\\\": 2}, {\\\\\\\\\\\\\"column\\\\\\\\\\\\\": {\\\\\\\\\\\\\"type\\\\\\\\\\\\\": 2, \\\\\\\\\\\\\"details\\\\\\\\\\\\\": {\\\\\\\\\\\\\"selectedColumn\\\\\\\\\\\\\": \\\\\\\\\\\\\"platelets\\\\\\\\\\\\\"}}, \\\\\\\\\\\\\"typeProperty\\\\\\\\\\\\\": 3}, {\\\\\\\\\\\\\"column\\\\\\\\\\\\\": {\\\\\\\\\\\\\"type\\\\\\\\\\\\\": 2, \\\\\\\\\\\\\"details\\\\\\\\\\\\\": {\\\\\\\\\\\\\"selectedColumn\\\\\\\\\\\\\": \\\\\\\\\\\\\"serum_creatinine\\\\\\\\\\\\\"}}, \\\\\\\\\\\\\"typeProperty\\\\\\\\\\\\\": 3}, {\\\\\\\\\\\\\"column\\\\\\\\\\\\\": {\\\\\\\\\\\\\"type\\\\\\\\\\\\\": 2, \\\\\\\\\\\\\"details\\\\\\\\\\\\\": {\\\\\\\\\\\\\"selectedColumn\\\\\\\\\\\\\": \\\\\\\\\\\\\"serum_sodium\\\\\\\\\\\\\"}}, \\\\\\\\\\\\\"typeProperty\\\\\\\\\\\\\": 2}, {\\\\\\\\\\\\\"column\\\\\\\\\\\\\": {\\\\\\\\\\\\\"type\\\\\\\\\\\\\": 2, \\\\\\\\\\\\\"details\\\\\\\\\\\\\": {\\\\\\\\\\\\\"selectedColumn\\\\\\\\\\\\\": \\\\\\\\\\\\\"sex\\\\\\\\\\\\\"}}, \\\\\\\\\\\\\"typeProperty\\\\\\\\\\\\\": 2}, {\\\\\\\\\\\\\"column\\\\\\\\\\\\\": {\\\\\\\\\\\\\"type\\\\\\\\\\\\\": 2, \\\\\\\\\\\\\"details\\\\\\\\\\\\\": {\\\\\\\\\\\\\"selectedColumn\\\\\\\\\\\\\": \\\\\\\\\\\\\"smoking\\\\\\\\\\\\\"}}, \\\\\\\\\\\\\"typeProperty\\\\\\\\\\\\\": 2}, {\\\\\\\\\\\\\"column\\\\\\\\\\\\\": {\\\\\\\\\\\\\"type\\\\\\\\\\\\\": 2, \\\\\\\\\\\\\"details\\\\\\\\\\\\\": {\\\\\\\\\\\\\"selectedColumn\\\\\\\\\\\\\": \\\\\\\\\\\\\"time\\\\\\\\\\\\\"}}, \\\\\\\\\\\\\"typeProperty\\\\\\\\\\\\\": 2}, {\\\\\\\\\\\\\"column\\\\\\\\\\\\\": {\\\\\\\\\\\\\"type\\\\\\\\\\\\\": 2, \\\\\\\\\\\\\"details\\\\\\\\\\\\\": {\\\\\\\\\\\\\"selectedColumn\\\\\\\\\\\\\": \\\\\\\\\\\\\"DEATH_EVENT\\\\\\\\\\\\\"}}, \\\\\\\\\\\\\"typeProperty\\\\\\\\\\\\\": 2}]}, \\\\\\\\\\\\\"localData\\\\\\\\\\\\\": {}, \\\\\\\\\\\\\"isEnabled\\\\\\\\\\\\\": true, \\\\\\\\\\\\\"name\\\\\\\\\\\\\": null, \\\\\\\\\\\\\"annotation\\\\\\\\\\\\\": null}, {\\\\\\\\\\\\\"id\\\\\\\\\\\\\": \\\\\\\\\\\\\"a9ee832c-05e3-4680-ac11-331c907b80ad\\\\\\\\\\\\\", \\\\\\\\\\\\\"type\\\\\\\\\\\\\": \\\\\\\\\\\\\"Microsoft.DPrep.TakeSampleBlock\\\\\\\\\\\\\", \\\\\\\\\\\\\"arguments\\\\\\\\\\\\\": {\\\\\\\\\\\\\"probability\\\\\\\\\\\\\": 0.9, \\\\\\\\\\\\\"probabilityLowerBound\\\\\\\\\\\\\": 0.0, \\\\\\\\\\\\\"seed\\\\\\\\\\\\\": 2432786632}, \\\\\\\\\\\\\"localData\\\\\\\\\\\\\": {}, \\\\\\\\\\\\\"isEnabled\\\\\\\\\\\\\": true, \\\\\\\\\\\\\"name\\\\\\\\\\\\\": null, \\\\\\\\\\\\\"annotation\\\\\\\\\\\\\": null}], \\\\\\\\\\\\\"inspectors\\\\\\\\\\\\\": [], \\\\\\\\\\\\\"meta\\\\\\\\\\\\\": {\\\\\\\\\\\\\"savedDatasetId\\\\\\\\\\\\\": \\\\\\\\\\\\\"2d0b165e-8e13-492c-9c39-e5cf40c5d8bc\\\\\\\\\\\\\", \\\\\\\\\\\\\"datasetType\\\\\\\\\\\\\": \\\\\\\\\\\\\"tabular\\\\\\\\\\\\\", \\\\\\\\\\\\\"subscriptionId\\\\\\\\\\\\\": \\\\\\\\\\\\\"9a7511b8-150f-4a58-8528-3e7d50216c31\\\\\\\\\\\\\", \\\\\\\\\\\\\"workspaceId\\\\\\\\\\\\\": \\\\\\\\\\\\\"d417de3d-8916-4efa-b97b-adac7ed09f27\\\\\\\\\\\\\", \\\\\\\\\\\\\"workspaceLocation\\\\\\\\\\\\\": \\\\\\\\\\\\\"southcentralus\\\\\\\\\\\\\"}}\\\\\", \\\\\"activities\\\\\": 0}',\n",
       "  'EnableSubsampling': None,\n",
       "  'runTemplate': 'AutoML',\n",
       "  'azureml.runsource': 'automl',\n",
       "  'display_task_type': 'classification',\n",
       "  'dependencies_versions': '{\"azureml-widgets\": \"1.20.0\", \"azureml-train\": \"1.20.0\", \"azureml-train-restclients-hyperdrive\": \"1.20.0\", \"azureml-train-core\": \"1.20.0\", \"azureml-train-automl\": \"1.20.0\", \"azureml-train-automl-runtime\": \"1.20.0\", \"azureml-train-automl-client\": \"1.20.0\", \"azureml-tensorboard\": \"1.20.0\", \"azureml-telemetry\": \"1.20.0\", \"azureml-sdk\": \"1.20.0\", \"azureml-samples\": \"0+unknown\", \"azureml-pipeline\": \"1.20.0\", \"azureml-pipeline-steps\": \"1.20.0\", \"azureml-pipeline-core\": \"1.20.0\", \"azureml-opendatasets\": \"1.20.0\", \"azureml-model-management-sdk\": \"1.0.1b6.post1\", \"azureml-mlflow\": \"1.20.0.post1\", \"azureml-interpret\": \"1.20.0\", \"azureml-explain-model\": \"1.20.0\", \"azureml-defaults\": \"1.20.0\", \"azureml-dataset-runtime\": \"1.20.0\", \"azureml-dataprep\": \"2.7.3\", \"azureml-dataprep-rslex\": \"1.5.0\", \"azureml-dataprep-native\": \"27.0.0\", \"azureml-datadrift\": \"1.20.0\", \"azureml-core\": \"1.20.0\", \"azureml-contrib-services\": \"1.20.0\", \"azureml-contrib-server\": \"1.20.0\", \"azureml-contrib-reinforcementlearning\": \"1.20.0\", \"azureml-contrib-pipeline-steps\": \"1.20.0\", \"azureml-contrib-notebook\": \"1.20.0\", \"azureml-contrib-interpret\": \"1.20.0\", \"azureml-contrib-gbdt\": \"1.20.0\", \"azureml-contrib-fairness\": \"1.20.0\", \"azureml-contrib-dataset\": \"1.20.0\", \"azureml-cli-common\": \"1.20.0\", \"azureml-automl-runtime\": \"1.20.0\", \"azureml-automl-core\": \"1.20.0\", \"azureml-accel-models\": \"1.20.0\"}',\n",
       "  '_aml_system_scenario_identification': 'Remote.Parent',\n",
       "  'ClientType': 'SDK',\n",
       "  'environment_cpu_name': 'AzureML-AutoML',\n",
       "  'environment_cpu_label': 'prod',\n",
       "  'environment_gpu_name': 'AzureML-AutoML-GPU',\n",
       "  'environment_gpu_label': 'prod',\n",
       "  'root_attribution': 'automl',\n",
       "  'attribution': 'AutoML',\n",
       "  'Orchestrator': 'AutoML',\n",
       "  'CancelUri': 'https://southcentralus.experiments.azureml.net/jasmine/v1.0/subscriptions/9a7511b8-150f-4a58-8528-3e7d50216c31/resourceGroups/aml-quickstarts-138690/providers/Microsoft.MachineLearningServices/workspaces/quick-starts-ws-138690/experimentids/5db81149-6625-4a36-864b-f876181eb72b/cancel/AutoML_d9ffa425-70a0-4a9e-b986-277279d98158',\n",
       "  'ClientSdkVersion': '1.21.0',\n",
       "  'snapshotId': '00000000-0000-0000-0000-000000000000',\n",
       "  'SetupRunId': 'AutoML_d9ffa425-70a0-4a9e-b986-277279d98158_setup',\n",
       "  'SetupRunContainerId': 'dcid.AutoML_d9ffa425-70a0-4a9e-b986-277279d98158_setup',\n",
       "  'FeaturizationRunJsonPath': 'featurizer_container.json',\n",
       "  'FeaturizationRunId': 'AutoML_d9ffa425-70a0-4a9e-b986-277279d98158_featurize',\n",
       "  'ProblemInfoJsonString': '{\"dataset_num_categorical\": 0, \"is_sparse\": false, \"subsampling\": false, \"dataset_classes\": 2, \"dataset_features\": 12, \"dataset_samples\": 271, \"single_frequency_class_detected\": false}',\n",
       "  'ModelExplainRunId': 'AutoML_d9ffa425-70a0-4a9e-b986-277279d98158_ModelExplain'},\n",
       " 'inputDatasets': [{'dataset': {'id': '2d0b165e-8e13-492c-9c39-e5cf40c5d8bc'}, 'consumptionDetails': {'type': 'RunInput', 'inputName': 'training_data', 'mechanism': 'Direct'}}],\n",
       " 'outputDatasets': [],\n",
       " 'logFiles': {},\n",
       " 'submittedBy': 'ODL_User 138690'}"
      ]
     },
     "execution_count": 20,
     "metadata": {},
     "output_type": "execute_result"
    }
   ],
   "source": [
    "remote_run.wait_for_completion()"
   ]
  },
  {
   "cell_type": "markdown",
   "metadata": {},
   "source": [
    "## Best Model "
   ]
  },
  {
   "cell_type": "code",
   "execution_count": 21,
   "metadata": {
    "gather": {
     "logged": 1609057494229
    }
   },
   "outputs": [
    {
     "name": "stderr",
     "output_type": "stream",
     "text": [
      "WARNING:root:The version of the SDK does not match the version the model was trained on.\n",
      "WARNING:root:The consistency in the result may not be guaranteed.\n",
      "WARNING:root:Package:azureml-automl-core, training version:1.21.0, current version:1.20.0\n",
      "Package:azureml-automl-runtime, training version:1.21.0, current version:1.20.0\n",
      "Package:azureml-core, training version:1.21.0.post1, current version:1.20.0\n",
      "Package:azureml-dataprep, training version:2.8.2, current version:2.7.3\n",
      "Package:azureml-dataprep-native, training version:28.0.0, current version:27.0.0\n",
      "Package:azureml-dataprep-rslex, training version:1.6.0, current version:1.5.0\n",
      "Package:azureml-dataset-runtime, training version:1.21.0, current version:1.20.0\n",
      "Package:azureml-defaults, training version:1.21.0, current version:1.20.0\n",
      "Package:azureml-interpret, training version:1.21.0, current version:1.20.0\n",
      "Package:azureml-pipeline-core, training version:1.21.0, current version:1.20.0\n",
      "Package:azureml-telemetry, training version:1.21.0, current version:1.20.0\n",
      "Package:azureml-train-automl-client, training version:1.21.0, current version:1.20.0\n",
      "Package:azureml-train-automl-runtime, training version:1.21.0, current version:1.20.0\n",
      "WARNING:root:Please ensure the version of your local conda dependencies match the version on which your model was trained in order to properly retrieve your model.\n"
     ]
    }
   ],
   "source": [
    "best_run, fitted_model = remote_run.get_output()\n",
    "best_run_metrics = best_run.get_metrics()"
   ]
  },
  {
   "cell_type": "code",
   "execution_count": 23,
   "metadata": {
    "gather": {
     "logged": 1609057496313
    }
   },
   "outputs": [
    {
     "data": {
      "text/html": [
       "<table style=\"width:100%\"><tr><th>Experiment</th><th>Id</th><th>Type</th><th>Status</th><th>Details Page</th><th>Docs Page</th></tr><tr><td>automl-experiment</td><td>AutoML_d9ffa425-70a0-4a9e-b986-277279d98158_36</td><td>azureml.scriptrun</td><td>Completed</td><td><a href=\"https://ml.azure.com/experiments/automl-experiment/runs/AutoML_d9ffa425-70a0-4a9e-b986-277279d98158_36?wsid=/subscriptions/9a7511b8-150f-4a58-8528-3e7d50216c31/resourcegroups/aml-quickstarts-138690/workspaces/quick-starts-ws-138690\" target=\"_blank\" rel=\"noopener\">Link to Azure Machine Learning studio</a></td><td><a href=\"https://docs.microsoft.com/en-us/python/api/azureml-core/azureml.core.run.Run?view=azure-ml-py\" target=\"_blank\" rel=\"noopener\">Link to Documentation</a></td></tr></table>"
      ],
      "text/plain": [
       "Run(Experiment: automl-experiment,\n",
       "Id: AutoML_d9ffa425-70a0-4a9e-b986-277279d98158_36,\n",
       "Type: azureml.scriptrun,\n",
       "Status: Completed)"
      ]
     },
     "execution_count": 23,
     "metadata": {},
     "output_type": "execute_result"
    }
   ],
   "source": [
    "best_run"
   ]
  },
  {
   "cell_type": "code",
   "execution_count": 24,
   "metadata": {
    "gather": {
     "logged": 1609057496796
    }
   },
   "outputs": [
    {
     "data": {
      "text/plain": [
       "Pipeline(memory=None,\n",
       "         steps=[('datatransformer',\n",
       "                 DataTransformer(enable_dnn=None, enable_feature_sweeping=None,\n",
       "                                 feature_sweeping_config=None,\n",
       "                                 feature_sweeping_timeout=None,\n",
       "                                 featurization_config=None, force_text_dnn=None,\n",
       "                                 is_cross_validation=None,\n",
       "                                 is_onnx_compatible=None, logger=None,\n",
       "                                 observer=None, task=None, working_dir=None)),\n",
       "                ('prefittedsoftvotingclassifier',...\n",
       "                                                                                                    min_samples_leaf=0.035789473684210524,\n",
       "                                                                                                    min_samples_split=0.01,\n",
       "                                                                                                    min_weight_fraction_leaf=0.0,\n",
       "                                                                                                    n_estimators=10,\n",
       "                                                                                                    n_jobs=1,\n",
       "                                                                                                    oob_score=True,\n",
       "                                                                                                    random_state=None,\n",
       "                                                                                                    verbose=0,\n",
       "                                                                                                    warm_start=False))],\n",
       "                                                                     verbose=False))],\n",
       "                                               flatten_transform=None,\n",
       "                                               weights=[0.16666666666666666,\n",
       "                                                        0.16666666666666666,\n",
       "                                                        0.16666666666666666,\n",
       "                                                        0.16666666666666666,\n",
       "                                                        0.16666666666666666,\n",
       "                                                        0.16666666666666666]))],\n",
       "         verbose=False)"
      ]
     },
     "execution_count": 24,
     "metadata": {},
     "output_type": "execute_result"
    }
   ],
   "source": [
    "fitted_model"
   ]
  },
  {
   "cell_type": "code",
   "execution_count": 17,
   "metadata": {
    "nteract": {
     "transient": {
      "deleting": false
     }
    }
   },
   "outputs": [
    {
     "name": "stdout",
     "output_type": "stream",
     "text": [
      "Best Run Id:  AutoML_1ac39d64-bc53-42d1-9deb-b1258b311536_40\n",
      "\n",
      " Accuracy: 0.8849350649350649\n",
      "PreFittedSoftVotingClassifier(classification_labels=None,\n",
      "                              estimators=[('23',\n",
      "                                           Pipeline(memory=None,\n",
      "                                                    steps=[('maxabsscaler',\n",
      "                                                            MaxAbsScaler(copy=True)),\n",
      "                                                           ('lightgbmclassifier',\n",
      "                                                            LightGBMClassifier(boosting_type='gbdt',\n",
      "                                                                               class_weight=None,\n",
      "                                                                               colsample_bytree=0.7922222222222222,\n",
      "                                                                               importance_type='split',\n",
      "                                                                               learning_rate=0.08947473684210526,\n",
      "                                                                               max_bin=40,\n",
      "                                                                               max_depth=-1,\n",
      "                                                                               min_chil...\n",
      "                                                                               penalty='l2',\n",
      "                                                                               random_state=None,\n",
      "                                                                               solver='saga',\n",
      "                                                                               tol=0.0001,\n",
      "                                                                               verbose=0,\n",
      "                                                                               warm_start=False))],\n",
      "                                                    verbose=False))],\n",
      "                              flatten_transform=None,\n",
      "                              weights=[0.09090909090909091, 0.09090909090909091,\n",
      "                                       0.09090909090909091, 0.09090909090909091,\n",
      "                                       0.09090909090909091, 0.09090909090909091,\n",
      "                                       0.09090909090909091, 0.09090909090909091,\n",
      "                                       0.09090909090909091, 0.09090909090909091,\n",
      "                                       0.09090909090909091])\n",
      "{'_aml_system_azureml.automlComponent': 'AutoML', '_aml_system_ComputeTargetStatus': '{\"AllocationState\":\"steady\",\"PreparingNodeCount\":0,\"RunningNodeCount\":0,\"CurrentNodeCount\":4}', 'ensembled_iterations': '[23, 28, 5, 27, 26, 21, 32, 10, 4, 17, 33]', 'ensembled_algorithms': \"['LightGBM', 'XGBoostClassifier', 'XGBoostClassifier', 'LightGBM', 'LightGBM', 'RandomForest', 'ExtremeRandomTrees', 'GradientBoosting', 'RandomForest', 'XGBoostClassifier', 'LogisticRegression']\", 'ensemble_weights': '[0.09090909090909091, 0.09090909090909091, 0.09090909090909091, 0.09090909090909091, 0.09090909090909091, 0.09090909090909091, 0.09090909090909091, 0.09090909090909091, 0.09090909090909091, 0.09090909090909091, 0.09090909090909091]', 'best_individual_pipeline_score': '0.8632467532467534', 'best_individual_iteration': '23', '_aml_system_automl_is_child_run_end_telemetry_event_logged': 'True'}\n"
     ]
    }
   ],
   "source": [
    "print('Best Run Id: ', best_run.id)\n",
    "print('\\n Accuracy:', best_run_metrics['accuracy'])\n",
    "print(fitted_model._final_estimator)\n",
    "print(best_run.get_tags())"
   ]
  },
  {
   "cell_type": "code",
   "execution_count": 25,
   "metadata": {
    "gather": {
     "logged": 1609058285285
    }
   },
   "outputs": [
    {
     "data": {
      "text/plain": [
       "'AutoMLd9ffa425736'"
      ]
     },
     "execution_count": 25,
     "metadata": {},
     "output_type": "execute_result"
    }
   ],
   "source": [
    "os.makedirs('./outputs', exist_ok=True)\n",
    "\n",
    "joblib.dump(fitted_model, filename='outputs/automl.joblib')\n",
    "\n",
    "model_name = best_run.properties['model_name']\n",
    "model_name"
   ]
  },
  {
   "cell_type": "code",
   "execution_count": 26,
   "metadata": {
    "gather": {
     "logged": 1609061282639
    },
    "nteract": {
     "transient": {
      "deleting": false
     }
    }
   },
   "outputs": [],
   "source": [
    "env = best_run.get_environment()\n",
    "\n",
    "script_file = 'score.py'\n",
    "\n",
    "best_run.download_file('outputs/scoring_file_v_1_0_0.py', script_file)"
   ]
  },
  {
   "cell_type": "markdown",
   "metadata": {},
   "source": [
    "## Model Deployment"
   ]
  },
  {
   "cell_type": "code",
   "execution_count": 20,
   "metadata": {
    "gather": {
     "logged": 1609057825294
    }
   },
   "outputs": [],
   "source": [
    "#Register the fitted model\n",
    "model = remote_run.register_model(model_name = model_name,\n",
    "                                  description = 'AutoML model')"
   ]
  },
  {
   "cell_type": "code",
   "execution_count": 21,
   "metadata": {
    "gather": {
     "logged": 1609058832201
    }
   },
   "outputs": [
    {
     "name": "stdout",
     "output_type": "stream",
     "text": [
      "automl-heart-disease\n"
     ]
    }
   ],
   "source": [
    "inference_config = InferenceConfig(entry_script = script_file, environment = env)\n",
    "\n",
    "aci_config = AciWebservice.deploy_configuration(cpu_cores = 1, memory_gb = 1)\n",
    "\n",
    "aci_service_name = 'automl-heart-disease'\n",
    "print(aci_service_name)"
   ]
  },
  {
   "cell_type": "code",
   "execution_count": 22,
   "metadata": {
    "gather": {
     "logged": 1609059066228
    }
   },
   "outputs": [
    {
     "name": "stdout",
     "output_type": "stream",
     "text": [
      "Tips: You can try get_logs(): https://aka.ms/debugimage#dockerlog or local deployment: https://aka.ms/debugimage#debug-locally to debug if deployment takes longer than 10 minutes.\n",
      "Running.............\n",
      "Succeeded\n",
      "ACI service creation operation finished, operation \"Succeeded\"\n",
      "State: Healthy\n",
      "Scoring URI: http://af889be7-14d8-48e8-9205-0338fe6afdcb.southcentralus.azurecontainer.io/score\n"
     ]
    }
   ],
   "source": [
    "service = Model.deploy(ws, aci_service_name, [model], inference_config, aci_config)\n",
    "service.wait_for_deployment(True)\n",
    "print(\"State: \" + service.state)\n",
    "print(\"Scoring URI: \" + service.scoring_uri)"
   ]
  },
  {
   "cell_type": "markdown",
   "metadata": {},
   "source": [
    "## Testing using 2 different methods"
   ]
  },
  {
   "cell_type": "code",
   "execution_count": 23,
   "metadata": {
    "nteract": {
     "transient": {
      "deleting": false
     }
    }
   },
   "outputs": [
    {
     "name": "stdout",
     "output_type": "stream",
     "text": [
      "{\"result\": [1, 1]}\n"
     ]
    }
   ],
   "source": [
    "%run endpoint.py"
   ]
  },
  {
   "cell_type": "code",
   "execution_count": 35,
   "metadata": {
    "gather": {
     "logged": 1609062759579
    },
    "nteract": {
     "transient": {
      "deleting": false
     }
    }
   },
   "outputs": [
    {
     "name": "stdout",
     "output_type": "stream",
     "text": [
      "{\"data\": [{\"age\": 90, \"anaemia\": 1, \"creatinine_phosphokinase\": 60, \"diabetes\": 1, \"ejection_fraction\": 50, \"high_blood_pressure\": 0, \"platelets\": 226000.0, \"serum_creatinine\": 1.0, \"serum_sodium\": 134, \"sex\": 1, \"smoking\": 0, \"time\": 30}, {\"age\": 70, \"anaemia\": 0, \"creatinine_phosphokinase\": 618, \"diabetes\": 0, \"ejection_fraction\": 35, \"high_blood_pressure\": 0, \"platelets\": 327000.0, \"serum_creatinine\": 1.1, \"serum_sodium\": 142, \"sex\": 0, \"smoking\": 0, \"time\": 245}, {\"age\": 60, \"anaemia\": 1, \"creatinine_phosphokinase\": 260, \"diabetes\": 1, \"ejection_fraction\": 38, \"high_blood_pressure\": 0, \"platelets\": 255000.0, \"serum_creatinine\": 2.2, \"serum_sodium\": 132, \"sex\": 0, \"smoking\": 1, \"time\": 45}]}\n"
     ]
    }
   ],
   "source": [
    "data_test = data_test.to_pandas_dataframe().dropna()\n",
    "data_sample = data_test.sample(3)\n",
    "y_true = data_sample.pop('DEATH_EVENT')\n",
    "sample_json = json.dumps({'data':data_sample.to_dict(orient='records')})\n",
    "print(sample_json)"
   ]
  },
  {
   "cell_type": "code",
   "execution_count": 36,
   "metadata": {
    "gather": {
     "logged": 1609062767514
    },
    "nteract": {
     "transient": {
      "deleting": false
     }
    }
   },
   "outputs": [
    {
     "name": "stdout",
     "output_type": "stream",
     "text": [
      "Prediction:  {\"result\": [1, 0, 1]}\n",
      "True Values:  [1 0 1]\n"
     ]
    }
   ],
   "source": [
    "output = service.run(sample_json)\n",
    "print('Prediction: ', output)\n",
    "print('True Values: ', y_true.values)"
   ]
  },
  {
   "cell_type": "code",
   "execution_count": 37,
   "metadata": {
    "gather": {
     "logged": 1609062829772
    }
   },
   "outputs": [
    {
     "data": {
      "text/plain": [
       "'2020-12-28T08:02:58,638664100+00:00 - nginx/run \\n/usr/sbin/nginx: /azureml-envs/azureml_8eff28b157f42edcd2424a5aae6c8074/lib/libcrypto.so.1.0.0: no version information available (required by /usr/sbin/nginx)\\n/usr/sbin/nginx: /azureml-envs/azureml_8eff28b157f42edcd2424a5aae6c8074/lib/libcrypto.so.1.0.0: no version information available (required by /usr/sbin/nginx)\\n/usr/sbin/nginx: /azureml-envs/azureml_8eff28b157f42edcd2424a5aae6c8074/lib/libssl.so.1.0.0: no version information available (required by /usr/sbin/nginx)\\n/usr/sbin/nginx: /azureml-envs/azureml_8eff28b157f42edcd2424a5aae6c8074/lib/libssl.so.1.0.0: no version information available (required by /usr/sbin/nginx)\\n/usr/sbin/nginx: /azureml-envs/azureml_8eff28b157f42edcd2424a5aae6c8074/lib/libssl.so.1.0.0: no version information available (required by /usr/sbin/nginx)\\n2020-12-28T08:02:58,647916700+00:00 - rsyslog/run \\n2020-12-28T08:02:58,650225800+00:00 - iot-server/run \\n2020-12-28T08:02:58,659505900+00:00 - gunicorn/run \\nrsyslogd: /azureml-envs/azureml_8eff28b157f42edcd2424a5aae6c8074/lib/libuuid.so.1: no version information available (required by rsyslogd)\\nEdgeHubConnectionString and IOTEDGE_IOTHUBHOSTNAME are not set. Exiting...\\n2020-12-28T08:03:00,497461100+00:00 - iot-server/finish 1 0\\n2020-12-28T08:03:00,504740100+00:00 - Exit code 1 is normal. Not restarting iot-server.\\nStarting gunicorn 19.9.0\\nListening at: http://127.0.0.1:31311 (72)\\nUsing worker: sync\\nworker timeout is set to 300\\nBooting worker with pid: 100\\nSPARK_HOME not set. Skipping PySpark Initialization.\\nGenerating new fontManager, this may take some time...\\nInitializing logger\\n2020-12-28 08:03:05,343 | root | INFO | Starting up app insights client\\nStarting up app insights client\\n2020-12-28 08:03:05,344 | root | INFO | Starting up request id generator\\nStarting up request id generator\\n2020-12-28 08:03:05,344 | root | INFO | Starting up app insight hooks\\nStarting up app insight hooks\\n2020-12-28 08:03:05,344 | root | INFO | Invoking user\\'s init function\\nInvoking user\\'s init function\\n2020-12-28 08:03:13,289 | root | INFO | Users\\'s init has completed successfully\\nUsers\\'s init has completed successfully\\n2020-12-28 08:03:13,295 | root | INFO | Skipping middleware: dbg_model_info as it\\'s not enabled.\\nSkipping middleware: dbg_model_info as it\\'s not enabled.\\n2020-12-28 08:03:13,296 | root | INFO | Skipping middleware: dbg_resource_usage as it\\'s not enabled.\\nSkipping middleware: dbg_resource_usage as it\\'s not enabled.\\n2020-12-28 08:03:13,297 | root | INFO | Scoring timeout is found from os.environ: 60000 ms\\nScoring timeout is found from os.environ: 60000 ms\\n2020-12-28 08:03:13,348 | root | INFO | 200\\n200\\n127.0.0.1 - - [28/Dec/2020:08:03:13 +0000] \"GET /swagger.json HTTP/1.0\" 200 2870 \"-\" \"Go-http-client/1.1\"\\n2020-12-28 08:03:15,815 | root | INFO | 200\\n200\\n127.0.0.1 - - [28/Dec/2020:08:03:15 +0000] \"GET /swagger.json HTTP/1.0\" 200 2870 \"-\" \"Go-http-client/1.1\"\\n2020-12-28 08:03:38,670 | root | INFO | Validation Request Content-Type\\nValidation Request Content-Type\\n2020-12-28 08:03:38,671 | root | INFO | \\tHost: localhost:5001\\n\\tHost: localhost:5001\\n2020-12-28 08:03:38,671 | root | INFO | \\tX-Real-Ip: 127.0.0.1\\n\\tX-Real-Ip: 127.0.0.1\\n2020-12-28 08:03:38,672 | root | INFO | \\tX-Forwarded-For: 127.0.0.1\\n\\tX-Forwarded-For: 127.0.0.1\\n2020-12-28 08:03:38,672 | root | INFO | \\tX-Forwarded-Proto: http\\n\\tX-Forwarded-Proto: http\\n2020-12-28 08:03:38,673 | root | INFO | \\tConnection: close\\n\\tConnection: close\\n2020-12-28 08:03:38,673 | root | INFO | \\tContent-Length: 474\\n\\tContent-Length: 474\\n2020-12-28 08:03:38,674 | root | INFO | \\tUser-Agent: python-requests/2.25.0\\n\\tUser-Agent: python-requests/2.25.0\\n2020-12-28 08:03:38,674 | root | INFO | \\tAccept: */*\\n\\tAccept: */*\\n2020-12-28 08:03:38,674 | root | INFO | \\tAccept-Encoding: gzip, deflate\\n\\tAccept-Encoding: gzip, deflate\\n2020-12-28 08:03:38,675 | root | INFO | \\tContent-Type: application/json\\n\\tContent-Type: application/json\\n2020-12-28 08:03:38,675 | root | INFO | \\tX-Ms-Request-Id: 59ea15ae-193a-4c06-932a-21a9634619fe\\n\\tX-Ms-Request-Id: 59ea15ae-193a-4c06-932a-21a9634619fe\\n2020-12-28 08:03:38,676 | root | INFO | Scoring Timer is set to 60.0 seconds\\nScoring Timer is set to 60.0 seconds\\n2020-12-28 08:03:38,878 | root | INFO | 200\\n200\\n127.0.0.1 - - [28/Dec/2020:08:03:38 +0000] \"POST /score HTTP/1.0\" 200 22 \"-\" \"python-requests/2.25.0\"\\n2020-12-28 08:03:45,034 | root | INFO | Validation Request Content-Type\\nValidation Request Content-Type\\n2020-12-28 08:03:45,035 | root | INFO | \\tHost: localhost:5001\\n\\tHost: localhost:5001\\n2020-12-28 08:03:45,035 | root | INFO | \\tX-Real-Ip: 127.0.0.1\\n\\tX-Real-Ip: 127.0.0.1\\n2020-12-28 08:03:45,036 | root | INFO | \\tX-Forwarded-For: 127.0.0.1\\n\\tX-Forwarded-For: 127.0.0.1\\n2020-12-28 08:03:45,036 | root | INFO | \\tX-Forwarded-Proto: http\\n\\tX-Forwarded-Proto: http\\n2020-12-28 08:03:45,036 | root | INFO | \\tConnection: close\\n\\tConnection: close\\n2020-12-28 08:03:45,037 | root | INFO | \\tContent-Length: 704\\n\\tContent-Length: 704\\n2020-12-28 08:03:45,037 | root | INFO | \\tUser-Agent: python-requests/2.25.0\\n\\tUser-Agent: python-requests/2.25.0\\n2020-12-28 08:03:45,037 | root | INFO | \\tAccept: application/json\\n\\tAccept: application/json\\n2020-12-28 08:03:45,037 | root | INFO | \\tAccept-Encoding: gzip, deflate\\n\\tAccept-Encoding: gzip, deflate\\n2020-12-28 08:03:45,038 | root | INFO | \\tContent-Type: application/json\\n\\tContent-Type: application/json\\n2020-12-28 08:03:45,038 | root | INFO | \\tX-Ms-Request-Id: 9284995b-ad02-4e21-9e8e-17875c1e7f3a\\n\\tX-Ms-Request-Id: 9284995b-ad02-4e21-9e8e-17875c1e7f3a\\n2020-12-28 08:03:45,038 | root | INFO | Scoring Timer is set to 60.0 seconds\\nScoring Timer is set to 60.0 seconds\\n2020-12-28 08:03:45,241 | root | INFO | 200\\n200\\n127.0.0.1 - - [28/Dec/2020:08:03:45 +0000] \"POST /score HTTP/1.0\" 200 25 \"-\" \"python-requests/2.25.0\"\\n2020-12-28 08:04:45,024 | root | INFO | Validation Request Content-Type\\nValidation Request Content-Type\\n2020-12-28 08:04:45,025 | root | INFO | \\tHost: localhost:5001\\n\\tHost: localhost:5001\\n2020-12-28 08:04:45,025 | root | INFO | \\tX-Real-Ip: 127.0.0.1\\n\\tX-Real-Ip: 127.0.0.1\\n2020-12-28 08:04:45,026 | root | INFO | \\tX-Forwarded-For: 127.0.0.1\\n\\tX-Forwarded-For: 127.0.0.1\\n2020-12-28 08:04:45,026 | root | INFO | \\tX-Forwarded-Proto: http\\n\\tX-Forwarded-Proto: http\\n2020-12-28 08:04:45,026 | root | INFO | \\tConnection: close\\n\\tConnection: close\\n2020-12-28 08:04:45,027 | root | INFO | \\tContent-Length: 706\\n\\tContent-Length: 706\\n2020-12-28 08:04:45,027 | root | INFO | \\tUser-Agent: python-requests/2.25.0\\n\\tUser-Agent: python-requests/2.25.0\\n2020-12-28 08:04:45,028 | root | INFO | \\tAccept: application/json\\n\\tAccept: application/json\\n2020-12-28 08:04:45,028 | root | INFO | \\tAccept-Encoding: gzip, deflate\\n\\tAccept-Encoding: gzip, deflate\\n2020-12-28 08:04:45,028 | root | INFO | \\tContent-Type: application/json\\n\\tContent-Type: application/json\\n2020-12-28 08:04:45,029 | root | INFO | \\tX-Ms-Request-Id: ac1851ca-5293-44e2-87bf-d95d14ef2000\\n\\tX-Ms-Request-Id: ac1851ca-5293-44e2-87bf-d95d14ef2000\\n2020-12-28 08:04:45,029 | root | INFO | Scoring Timer is set to 60.0 seconds\\nScoring Timer is set to 60.0 seconds\\n2020-12-28 08:04:45,239 | root | INFO | 200\\n200\\n127.0.0.1 - - [28/Dec/2020:08:04:45 +0000] \"POST /score HTTP/1.0\" 200 25 \"-\" \"python-requests/2.25.0\"\\n2020-12-28 08:05:10,592 | root | INFO | Validation Request Content-Type\\nValidation Request Content-Type\\n2020-12-28 08:05:10,593 | root | INFO | \\tHost: localhost:5001\\n\\tHost: localhost:5001\\n2020-12-28 08:05:10,593 | root | INFO | \\tX-Real-Ip: 127.0.0.1\\n\\tX-Real-Ip: 127.0.0.1\\n2020-12-28 08:05:10,593 | root | INFO | \\tX-Forwarded-For: 127.0.0.1\\n\\tX-Forwarded-For: 127.0.0.1\\n2020-12-28 08:05:10,593 | root | INFO | \\tX-Forwarded-Proto: http\\n\\tX-Forwarded-Proto: http\\n2020-12-28 08:05:10,593 | root | INFO | \\tConnection: close\\n\\tConnection: close\\n2020-12-28 08:05:10,593 | root | INFO | \\tContent-Length: 706\\n\\tContent-Length: 706\\n2020-12-28 08:05:10,594 | root | INFO | \\tUser-Agent: python-requests/2.25.0\\n\\tUser-Agent: python-requests/2.25.0\\n2020-12-28 08:05:10,595 | root | INFO | \\tAccept: application/json\\n\\tAccept: application/json\\n2020-12-28 08:05:10,595 | root | INFO | \\tAccept-Encoding: gzip, deflate\\n\\tAccept-Encoding: gzip, deflate\\n2020-12-28 08:05:10,596 | root | INFO | \\tContent-Type: application/json\\n\\tContent-Type: application/json\\n2020-12-28 08:05:10,597 | root | INFO | \\tX-Ms-Request-Id: 2a278dde-69d8-41a5-be99-744049a160ea\\n\\tX-Ms-Request-Id: 2a278dde-69d8-41a5-be99-744049a160ea\\n2020-12-28 08:05:10,598 | root | INFO | Scoring Timer is set to 60.0 seconds\\nScoring Timer is set to 60.0 seconds\\n2020-12-28 08:05:10,806 | root | INFO | 200\\n200\\n127.0.0.1 - - [28/Dec/2020:08:05:10 +0000] \"POST /score HTTP/1.0\" 200 25 \"-\" \"python-requests/2.25.0\"\\n2020-12-28 08:05:38,595 | root | INFO | Validation Request Content-Type\\nValidation Request Content-Type\\n2020-12-28 08:05:38,595 | root | INFO | \\tHost: localhost:5001\\n\\tHost: localhost:5001\\n2020-12-28 08:05:38,596 | root | INFO | \\tX-Real-Ip: 127.0.0.1\\n\\tX-Real-Ip: 127.0.0.1\\n2020-12-28 08:05:38,596 | root | INFO | \\tX-Forwarded-For: 127.0.0.1\\n\\tX-Forwarded-For: 127.0.0.1\\n2020-12-28 08:05:38,596 | root | INFO | \\tX-Forwarded-Proto: http\\n\\tX-Forwarded-Proto: http\\n2020-12-28 08:05:38,596 | root | INFO | \\tConnection: close\\n\\tConnection: close\\n2020-12-28 08:05:38,596 | root | INFO | \\tContent-Length: 703\\n\\tContent-Length: 703\\n2020-12-28 08:05:38,596 | root | INFO | \\tUser-Agent: python-requests/2.25.0\\n\\tUser-Agent: python-requests/2.25.0\\n2020-12-28 08:05:38,596 | root | INFO | \\tAccept: application/json\\n\\tAccept: application/json\\n2020-12-28 08:05:38,597 | root | INFO | \\tAccept-Encoding: gzip, deflate\\n\\tAccept-Encoding: gzip, deflate\\n2020-12-28 08:05:38,597 | root | INFO | \\tContent-Type: application/json\\n\\tContent-Type: application/json\\n2020-12-28 08:05:38,597 | root | INFO | \\tX-Ms-Request-Id: 5f914dd7-31aa-4a53-9f8d-31a1cf8f66bd\\n\\tX-Ms-Request-Id: 5f914dd7-31aa-4a53-9f8d-31a1cf8f66bd\\n2020-12-28 08:05:38,597 | root | INFO | Scoring Timer is set to 60.0 seconds\\nScoring Timer is set to 60.0 seconds\\n2020-12-28 08:05:38,812 | root | INFO | 200\\n200\\n127.0.0.1 - - [28/Dec/2020:08:05:38 +0000] \"POST /score HTTP/1.0\" 200 25 \"-\" \"python-requests/2.25.0\"\\n'"
      ]
     },
     "execution_count": 37,
     "metadata": {},
     "output_type": "execute_result"
    }
   ],
   "source": [
    "service.get_logs()"
   ]
  },
  {
   "cell_type": "code",
   "execution_count": 38,
   "metadata": {},
   "outputs": [],
   "source": [
    "service.delete()"
   ]
  },
  {
   "cell_type": "code",
   "execution_count": null,
   "metadata": {},
   "outputs": [],
   "source": []
  },
  {
   "cell_type": "code",
   "execution_count": null,
   "metadata": {},
   "outputs": [],
   "source": []
  },
  {
   "cell_type": "code",
   "execution_count": null,
   "metadata": {},
   "outputs": [],
   "source": []
  }
 ],
 "metadata": {
  "kernel_info": {
   "name": "python3"
  },
  "kernelspec": {
   "display_name": "Python 3",
   "language": "python",
   "name": "python3"
  },
  "language_info": {
   "codemirror_mode": {
    "name": "ipython",
    "version": 3
   },
   "file_extension": ".py",
   "mimetype": "text/x-python",
   "name": "python",
   "nbconvert_exporter": "python",
   "pygments_lexer": "ipython3",
   "version": "3.6.9"
  },
  "nteract": {
   "version": "nteract-front-end@1.0.0"
  }
 },
 "nbformat": 4,
 "nbformat_minor": 4
}
